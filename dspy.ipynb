{
 "cells": [
  {
   "cell_type": "code",
   "execution_count": 1,
   "metadata": {},
   "outputs": [],
   "source": [
    "import os\n",
    "import sys\n",
    "\n",
    "sys.path.append(os.path.expanduser(\"~/dspy/\"))\n",
    "os.environ[\"DSP_CACHEBOOL\"] = \"False\"  # disable cache"
   ]
  },
  {
   "cell_type": "code",
   "execution_count": 2,
   "metadata": {},
   "outputs": [],
   "source": [
    "from openinference.instrumentation.dspy import DSPyInstrumentor\n",
    "from openinference.instrumentation.openai import OpenAIInstrumentor\n",
    "from opentelemetry import trace as trace_api\n",
    "from opentelemetry.exporter.otlp.proto.http.trace_exporter import OTLPSpanExporter\n",
    "from opentelemetry.sdk import trace as trace_sdk\n",
    "from opentelemetry.sdk.resources import Resource\n",
    "from opentelemetry.sdk.trace.export import SimpleSpanProcessor\n",
    "\n",
    "endpoint = \"http://localhost:6006/v1/traces\"\n",
    "resource = Resource(attributes={})\n",
    "tracer_provider = trace_sdk.TracerProvider(resource=resource)\n",
    "tracer_provider.add_span_processor(SimpleSpanProcessor(OTLPSpanExporter(endpoint)))\n",
    "\n",
    "trace_api.set_tracer_provider(tracer_provider=tracer_provider)\n",
    "\n",
    "OpenAIInstrumentor().instrument()\n",
    "DSPyInstrumentor().instrument()"
   ]
  },
  {
   "cell_type": "code",
   "execution_count": 23,
   "metadata": {},
   "outputs": [],
   "source": [
    "from phoenix.trace import using_project\n",
    "from phoenix.evals import download_benchmark_dataset"
   ]
  },
  {
   "cell_type": "code",
   "execution_count": 51,
   "metadata": {},
   "outputs": [],
   "source": [
    "import dspy\n",
    "\n",
    "lm = dspy.OpenAI(model=\"gpt-4-turbo\", max_tokens=2000)\n",
    "dspy.settings.configure(lm=lm)"
   ]
  },
  {
   "cell_type": "code",
   "execution_count": 18,
   "metadata": {},
   "outputs": [
    {
     "data": {
      "text/plain": [
       "{'temperature': 0.0,\n",
       " 'max_tokens': 500,\n",
       " 'top_p': 1,\n",
       " 'frequency_penalty': 0,\n",
       " 'presence_penalty': 0,\n",
       " 'n': 1,\n",
       " 'model': 'gpt-4-turbo'}"
      ]
     },
     "execution_count": 18,
     "metadata": {},
     "output_type": "execute_result"
    }
   ],
   "source": [
    "lm.kwargs"
   ]
  },
  {
   "cell_type": "code",
   "execution_count": 4,
   "metadata": {},
   "outputs": [],
   "source": [
    "from dspy.datasets import HotPotQA\n",
    "\n",
    "dataset = HotPotQA(train_seed=1, train_size=20, eval_seed=2023, dev_size=50, test_size=0)\n",
    "\n",
    "trainset, devset = dataset.train, dataset.dev"
   ]
  },
  {
   "cell_type": "code",
   "execution_count": 21,
   "metadata": {},
   "outputs": [
    {
     "name": "stdout",
     "output_type": "stream",
     "text": [
      "In what city was the Election Law Journal founded?\n",
      "Portland\n"
     ]
    }
   ],
   "source": [
    "for example in devset:\n",
    "    if \"election law journal\" in example[\"question\"].lower():\n",
    "        print(example[\"question\"])\n",
    "        print(example[\"answer\"])"
   ]
  },
  {
   "cell_type": "code",
   "execution_count": 14,
   "metadata": {},
   "outputs": [
    {
     "name": "stdout",
     "output_type": "stream",
     "text": [
      "no\n",
      "National Hockey League\n",
      "Steve Yzerman\n",
      "the River Tyne\n",
      "King Alfred the Great\n",
      "Port Authority of New York and New Jersey\n",
      "Bundesliga\n",
      "no\n",
      "Waldo County, Maine\n",
      "The Afghan Whigs\n",
      "79 AD\n",
      "the oldest\n",
      "not\n",
      "Del Lord\n",
      "Jonathan William Patrick Aitken\n",
      "Marche\n",
      "7,402 at the 2010 census\n",
      "design their own interdisciplinary program\n",
      "English\n",
      "Robert F. Chew\n",
      "Manchester\n",
      "Deepa Mehta\n",
      "the good market\n",
      "Christine Comer\n",
      "William Street Hutchings\n",
      "Battle of the Ch'ongch'on River\n",
      "Ian Botham\n",
      "defensive assistant at Florida Atlantic\n",
      "Ewan McGregor\n",
      "space\n",
      "Maria Yermolova\n",
      "no\n",
      "the voice of basketball\n",
      "yes\n",
      "Hamas\n",
      "1989\n",
      "Apera\n",
      "no\n",
      "Exon\n",
      "yes\n",
      "Bill Melendez\n",
      "Clarence River\n",
      "Pixar\n",
      "Renault\n",
      "Cadwalader Heights\n",
      "\"Forza Italia\" party.\n",
      "the Wehrmacht\n",
      "cricketer\n",
      "Danny Wallace\n",
      "Portland\n"
     ]
    }
   ],
   "source": [
    "for example in devset:\n",
    "    print(example[\"answer\"])"
   ]
  },
  {
   "cell_type": "code",
   "execution_count": 15,
   "metadata": {},
   "outputs": [],
   "source": [
    "class CoTSignature(dspy.Signature):\n",
    "    \"\"\"Carefully analyze the question and any other supplied information. First, write out in a step by step manner\n",
    "    an EXPLANATION to show how to arrive at the correct answer. Avoid simply stating the correct answer\n",
    "    at the outset.\"\"\"\n",
    "\n",
    "    question = dspy.InputField(desc=\"question about something\")\n",
    "    answer = dspy.OutputField(\n",
    "        desc=\"as concisely as possible, state the answer to the question\"\n",
    "    )\n",
    "\n",
    "\n",
    "class CoTPipeline(dspy.Module):\n",
    "    def __init__(self):\n",
    "        super().__init__()\n",
    "        self.signature = CoTSignature\n",
    "        self.predictor = dspy.ChainOfThought(self.signature)\n",
    "\n",
    "    def forward(self, question):\n",
    "        result = self.predictor(question=question)\n",
    "        return dspy.Prediction(\n",
    "            answer=result.answer,\n",
    "            reasoning=result.rationale,\n",
    "        )"
   ]
  },
  {
   "cell_type": "code",
   "execution_count": 6,
   "metadata": {},
   "outputs": [],
   "source": [
    "from dspy.evaluate import Evaluate\n",
    "\n",
    "\n",
    "def validate_context_and_answer(example, pred, trace=None):\n",
    "    answer_EM = dspy.evaluate.answer_exact_match(example, pred)\n",
    "    return answer_EM\n",
    "\n",
    "\n",
    "NUM_THREADS = 5\n",
    "evaluate = Evaluate(\n",
    "    devset=devset,\n",
    "    metric=validate_context_and_answer,\n",
    "    num_threads=NUM_THREADS,\n",
    "    display_progress=True,\n",
    "    display_table=False,\n",
    ")"
   ]
  },
  {
   "cell_type": "code",
   "execution_count": 10,
   "metadata": {},
   "outputs": [
    {
     "name": "stderr",
     "output_type": "stream",
     "text": [
      "Average Metric: 21 / 50  (42.0): 100%|██████████| 50/50 [00:54<00:00,  1.09s/it]\n"
     ]
    }
   ],
   "source": [
    "cot_baseline = CoTPipeline()\n",
    "\n",
    "devset_with_input = [\n",
    "    dspy.Example({\"question\": r[\"question\"], \"answer\": r[\"answer\"]}).with_inputs(\n",
    "        \"question\"\n",
    "    )\n",
    "    for r in devset\n",
    "]\n",
    "trainset_with_input = [\n",
    "    dspy.Example({\"question\": r[\"question\"], \"answer\": r[\"answer\"]}).with_inputs(\n",
    "        \"question\"\n",
    "    )\n",
    "    for r in trainset\n",
    "]\n",
    "with using_project(\"baseline\"):\n",
    "    evaluate(cot_baseline, devset=devset_with_input)"
   ]
  },
  {
   "cell_type": "code",
   "execution_count": 19,
   "metadata": {},
   "outputs": [
    {
     "name": "stderr",
     "output_type": "stream",
     "text": [
      "WARNING:dspy.teleprompt.copro_optimizer:\u001b[2m2024-05-12T00:25:47.879746Z\u001b[0m [\u001b[33m\u001b[1mwarning  \u001b[0m] \u001b[1mDeprecationWarning: 'verbose' has been deprecated. To see all information for debugging, use 'dspy.set_log_level('debug')'. In the future this will raise an error.\u001b[0m [\u001b[0m\u001b[1m\u001b[34mdspy.teleprompt.copro_optimizer\u001b[0m]\u001b[0m \u001b[36mfilename\u001b[0m=\u001b[35mcopro_optimizer.py\u001b[0m \u001b[36mlineno\u001b[0m=\u001b[35m78\u001b[0m\n",
      "Average Metric: 0 / 50  (0.0): 100%|██████████| 50/50 [00:21<00:00,  2.37it/s]\n",
      "Average Metric: 0 / 50  (0.0): 100%|██████████| 50/50 [00:16<00:00,  3.01it/s]\n",
      "Average Metric: 0 / 50  (0.0): 100%|██████████| 50/50 [00:16<00:00,  3.04it/s]\n",
      "Average Metric: 0 / 50  (0.0): 100%|██████████| 50/50 [00:12<00:00,  4.00it/s]\n",
      "Average Metric: 2 / 50  (4.0): 100%|██████████| 50/50 [00:15<00:00,  3.26it/s]\n",
      "Average Metric: 0 / 50  (0.0): 100%|██████████| 50/50 [00:21<00:00,  2.35it/s]\n",
      "Average Metric: 0 / 50  (0.0): 100%|██████████| 50/50 [00:15<00:00,  3.25it/s]\n",
      "Average Metric: 0 / 50  (0.0): 100%|██████████| 50/50 [00:09<00:00,  5.31it/s]\n",
      "Average Metric: 0 / 50  (0.0): 100%|██████████| 50/50 [00:19<00:00,  2.59it/s]\n",
      "Average Metric: 11 / 50  (22.0): 100%|██████████| 50/50 [00:14<00:00,  3.57it/s]\n",
      "Average Metric: 0 / 50  (0.0): 100%|██████████| 50/50 [00:30<00:00,  1.63it/s]\n",
      "Average Metric: 0 / 50  (0.0): 100%|██████████| 50/50 [00:27<00:00,  1.81it/s]\n",
      "Average Metric: 0 / 50  (0.0): 100%|██████████| 50/50 [00:14<00:00,  3.43it/s]\n",
      "Average Metric: 0 / 50  (0.0): 100%|██████████| 50/50 [00:16<00:00,  2.94it/s]\n",
      "Average Metric: 2 / 50  (4.0): 100%|██████████| 50/50 [00:10<00:00,  4.80it/s] \n",
      "Average Metric: 0 / 50  (0.0): 100%|██████████| 50/50 [00:12<00:00,  4.11it/s]\n",
      "Average Metric: 0 / 50  (0.0): 100%|██████████| 50/50 [00:18<00:00,  2.70it/s]\n",
      "Average Metric: 0 / 50  (0.0): 100%|██████████| 50/50 [00:20<00:00,  2.40it/s]\n",
      "Average Metric: 0 / 50  (0.0): 100%|██████████| 50/50 [00:15<00:00,  3.30it/s]\n",
      "Average Metric: 0 / 50  (0.0): 100%|██████████| 50/50 [00:13<00:00,  3.65it/s]\n",
      "Average Metric: 0 / 50  (0.0): 100%|██████████| 50/50 [00:11<00:00,  4.25it/s]\n",
      "Average Metric: 1 / 50  (2.0): 100%|██████████| 50/50 [00:24<00:00,  2.08it/s]\n",
      "Average Metric: 3 / 50  (6.0): 100%|██████████| 50/50 [00:06<00:00,  8.29it/s]\n",
      "Average Metric: 0 / 50  (0.0): 100%|██████████| 50/50 [00:07<00:00,  6.45it/s]\n",
      "Average Metric: 0 / 50  (0.0): 100%|██████████| 50/50 [00:25<00:00,  1.98it/s]\n",
      "Average Metric: 0 / 50  (0.0): 100%|██████████| 50/50 [00:19<00:00,  2.62it/s]\n"
     ]
    }
   ],
   "source": [
    "from dspy.teleprompt import COPRO\n",
    "\n",
    "teleprompter = COPRO(metric=validate_context_and_answer, verbose=True)\n",
    "cot = CoTPipeline()\n",
    "with using_project(\"compile-3\"):\n",
    "    compiled_prompt_opt = teleprompter.compile(\n",
    "        cot,\n",
    "        trainset=devset_with_input,\n",
    "        eval_kwargs={\"num_threads\": 64, \"display_progress\": True, \"display_table\": 0},\n",
    "    )"
   ]
  },
  {
   "cell_type": "code",
   "execution_count": null,
   "metadata": {},
   "outputs": [],
   "source": [
    "evaluate(compiled_prompt_opt, devset=devset_with_input)"
   ]
  },
  {
   "cell_type": "code",
   "execution_count": null,
   "metadata": {},
   "outputs": [],
   "source": [
    "compiled_prompt_opt"
   ]
  },
  {
   "cell_type": "code",
   "execution_count": 22,
   "metadata": {},
   "outputs": [
    {
     "data": {
      "text/html": [
       "<div>\n",
       "<style scoped>\n",
       "    .dataframe tbody tr th:only-of-type {\n",
       "        vertical-align: middle;\n",
       "    }\n",
       "\n",
       "    .dataframe tbody tr th {\n",
       "        vertical-align: top;\n",
       "    }\n",
       "\n",
       "    .dataframe thead th {\n",
       "        text-align: right;\n",
       "    }\n",
       "</style>\n",
       "<table border=\"1\" class=\"dataframe\">\n",
       "  <thead>\n",
       "    <tr style=\"text-align: right;\">\n",
       "      <th></th>\n",
       "      <th>Unnamed: 0</th>\n",
       "      <th>input</th>\n",
       "      <th>url</th>\n",
       "      <th>reference</th>\n",
       "      <th>is_correct_ref_link</th>\n",
       "    </tr>\n",
       "  </thead>\n",
       "  <tbody>\n",
       "    <tr>\n",
       "      <th>94</th>\n",
       "      <td>119</td>\n",
       "      <td>Can you give me an example schema I could use ...</td>\n",
       "      <td>https://docs.arize.com/arize/sending-data-guid...</td>\n",
       "      <td>\\n\\n\\n\\n\\n\\nWhat Is A Model Schema - Arize Doc...</td>\n",
       "      <td>True</td>\n",
       "    </tr>\n",
       "    <tr>\n",
       "      <th>42</th>\n",
       "      <td>51</td>\n",
       "      <td>How can I run Arize on my own hardware?</td>\n",
       "      <td>https://docs.arize.com/arize/on-premise-deploy...</td>\n",
       "      <td>\\n\\n\\n\\n\\n\\nOverview - Arize Docs\\n\\n\\n\\n\\n\\n\\...</td>\n",
       "      <td>True</td>\n",
       "    </tr>\n",
       "    <tr>\n",
       "      <th>157</th>\n",
       "      <td>197</td>\n",
       "      <td>Can I log batches of data?</td>\n",
       "      <td>https://docs.arize.com/arize/api-reference/jav...</td>\n",
       "      <td>\\n\\n\\n\\n\\n\\nbulkLog - Arize Docs\\n\\n\\n\\n\\n\\n\\n...</td>\n",
       "      <td>True</td>\n",
       "    </tr>\n",
       "  </tbody>\n",
       "</table>\n",
       "</div>"
      ],
      "text/plain": [
       "     Unnamed: 0                                              input  \\\n",
       "94          119  Can you give me an example schema I could use ...   \n",
       "42           51            How can I run Arize on my own hardware?   \n",
       "157         197                         Can I log batches of data?   \n",
       "\n",
       "                                                   url  \\\n",
       "94   https://docs.arize.com/arize/sending-data-guid...   \n",
       "42   https://docs.arize.com/arize/on-premise-deploy...   \n",
       "157  https://docs.arize.com/arize/api-reference/jav...   \n",
       "\n",
       "                                             reference  is_correct_ref_link  \n",
       "94   \\n\\n\\n\\n\\n\\nWhat Is A Model Schema - Arize Doc...                 True  \n",
       "42   \\n\\n\\n\\n\\n\\nOverview - Arize Docs\\n\\n\\n\\n\\n\\n\\...                 True  \n",
       "157  \\n\\n\\n\\n\\n\\nbulkLog - Arize Docs\\n\\n\\n\\n\\n\\n\\n...                 True  "
      ]
     },
     "execution_count": 22,
     "metadata": {},
     "output_type": "execute_result"
    }
   ],
   "source": [
    "import pandas as pd\n",
    "\n",
    "df = (\n",
    "    pd.read_csv(\n",
    "        \"https://storage.googleapis.com/arize-phoenix-assets/evals/ref-link-classification/ref_link_golden_test_data.csv\",\n",
    "    )\n",
    "    .sample(n=100)\n",
    "    .rename(columns={\"conversation\": \"input\", \"document_text\": \"reference\"})\n",
    ")\n",
    "df.head(3)"
   ]
  },
  {
   "cell_type": "code",
   "execution_count": 56,
   "metadata": {},
   "outputs": [
    {
     "data": {
      "text/html": [
       "<div>\n",
       "<style scoped>\n",
       "    .dataframe tbody tr th:only-of-type {\n",
       "        vertical-align: middle;\n",
       "    }\n",
       "\n",
       "    .dataframe tbody tr th {\n",
       "        vertical-align: top;\n",
       "    }\n",
       "\n",
       "    .dataframe thead th {\n",
       "        text-align: right;\n",
       "    }\n",
       "</style>\n",
       "<table border=\"1\" class=\"dataframe\">\n",
       "  <thead>\n",
       "    <tr style=\"text-align: right;\">\n",
       "      <th></th>\n",
       "      <th>query_id</th>\n",
       "      <th>query</th>\n",
       "      <th>document_title</th>\n",
       "      <th>reference</th>\n",
       "      <th>document_text_with_emphasis</th>\n",
       "      <th>relevance</th>\n",
       "    </tr>\n",
       "  </thead>\n",
       "  <tbody>\n",
       "    <tr>\n",
       "      <th>1796</th>\n",
       "      <td>Q585</td>\n",
       "      <td>what countries have won the world cup</td>\n",
       "      <td>FIFA World Cup</td>\n",
       "      <td>The FIFA World Cup, often simply the World Cup...</td>\n",
       "      <td>The FIFA World Cup, often simply the World Cup...</td>\n",
       "      <td>False</td>\n",
       "    </tr>\n",
       "    <tr>\n",
       "      <th>1123</th>\n",
       "      <td>Q2446</td>\n",
       "      <td>who is the actor who played the gay old guy in...</td>\n",
       "      <td>List of Family Guy cast members</td>\n",
       "      <td>Family Guy creator Seth MacFarlane also provid...</td>\n",
       "      <td>Family Guy creator Seth MacFarlane also provid...</td>\n",
       "      <td>False</td>\n",
       "    </tr>\n",
       "    <tr>\n",
       "      <th>2073</th>\n",
       "      <td>Q946</td>\n",
       "      <td>how was marijuana discovered</td>\n",
       "      <td>Cannabis (drug)</td>\n",
       "      <td>Cannabis flower with visible trichomes Cannabi...</td>\n",
       "      <td>Cannabis flower with visible trichomes Cannabi...</td>\n",
       "      <td>False</td>\n",
       "    </tr>\n",
       "    <tr>\n",
       "      <th>476</th>\n",
       "      <td>Q1601</td>\n",
       "      <td>when do solar eclipses happen?</td>\n",
       "      <td>Solar eclipse</td>\n",
       "      <td>Photo of 1999 total eclipse As seen from the E...</td>\n",
       "      <td>Photo of 1999 total eclipse AS SEEN FROM THE E...</td>\n",
       "      <td>True</td>\n",
       "    </tr>\n",
       "    <tr>\n",
       "      <th>853</th>\n",
       "      <td>Q2097</td>\n",
       "      <td>what was the first honda car</td>\n",
       "      <td>Honda S600</td>\n",
       "      <td>The Honda S600 is an automobile manufactured b...</td>\n",
       "      <td>THE HONDA S600 IS AN AUTOMOBILE MANUFACTURED B...</td>\n",
       "      <td>True</td>\n",
       "    </tr>\n",
       "  </tbody>\n",
       "</table>\n",
       "</div>"
      ],
      "text/plain": [
       "     query_id                                              query  \\\n",
       "1796     Q585              what countries have won the world cup   \n",
       "1123    Q2446  who is the actor who played the gay old guy in...   \n",
       "2073     Q946                       how was marijuana discovered   \n",
       "476     Q1601                     when do solar eclipses happen?   \n",
       "853     Q2097                       what was the first honda car   \n",
       "\n",
       "                       document_title  \\\n",
       "1796                   FIFA World Cup   \n",
       "1123  List of Family Guy cast members   \n",
       "2073                  Cannabis (drug)   \n",
       "476                     Solar eclipse   \n",
       "853                        Honda S600   \n",
       "\n",
       "                                              reference  \\\n",
       "1796  The FIFA World Cup, often simply the World Cup...   \n",
       "1123  Family Guy creator Seth MacFarlane also provid...   \n",
       "2073  Cannabis flower with visible trichomes Cannabi...   \n",
       "476   Photo of 1999 total eclipse As seen from the E...   \n",
       "853   The Honda S600 is an automobile manufactured b...   \n",
       "\n",
       "                            document_text_with_emphasis  relevance  \n",
       "1796  The FIFA World Cup, often simply the World Cup...      False  \n",
       "1123  Family Guy creator Seth MacFarlane also provid...      False  \n",
       "2073  Cannabis flower with visible trichomes Cannabi...      False  \n",
       "476   Photo of 1999 total eclipse AS SEEN FROM THE E...       True  \n",
       "853   THE HONDA S600 IS AN AUTOMOBILE MANUFACTURED B...       True  "
      ]
     },
     "execution_count": 56,
     "metadata": {},
     "output_type": "execute_result"
    }
   ],
   "source": [
    "wikiqa_train_df = (\n",
    "    download_benchmark_dataset(task=\"binary-relevance-classification\", dataset_name=\"wiki_qa-train\")\n",
    "    .sample(n=50)\n",
    "    .rename(\n",
    "        columns={\n",
    "            \"query_text\": \"query\",\n",
    "            \"document_text\": \"reference\",\n",
    "            \"relevant\": \"relevance\",\n",
    "        }\n",
    "    )\n",
    ")\n",
    "wikiqa_train_df.head()"
   ]
  },
  {
   "cell_type": "code",
   "execution_count": 57,
   "metadata": {},
   "outputs": [
    {
     "data": {
      "text/plain": [
       "[Example({'query': 'what countries have won the world cup', 'reference': \"The FIFA World Cup, often simply the World Cup, is an international association football competition contested by the senior men's national teams of the members of Fédération Internationale de Football Association ( FIFA ), the sport's global governing body. The championship has been awarded every four years since the inaugural tournament in 1930 , except in 1942 and 1946 when it was not held because of the Second World War . The current champions are Spain , who won the 2010 tournament . The current format of the tournament involves 32 teams competing for the title at venues within the host nation(s) over a period of about a month; this phase is often called the World Cup Finals. A qualification phase , which currently takes place over the preceding three years, is used to determine which teams qualify for the tournament together with the host nation(s). The 19 World Cup tournaments have been won by eight different national teams. Brazil have won five times, and they are the only team to have played in every tournament. The other World Cup winners are Italy , with four titles; Germany , with three titles; Argentina and inaugural winners Uruguay , with two titles each; and England , France , and Spain , with one title each. The World Cup is the world's most widely viewed sporting event; an estimated 715.1 million people watched the final match of the 2006 FIFA World Cup held in Germany . The next three World Cups will be hosted by Brazil in 2014 , Russia in 2018 , and Qatar in 2022 .\", 'answer': 'irrelevant'}) (input_keys={'reference', 'query'}),\n",
       " Example({'query': 'who is the actor who played the gay old guy in family guy', 'reference': 'Family Guy creator Seth MacFarlane also provides the voices of Peter Griffin , Stewie Griffin , Brian Griffin , and Glenn Quagmire . Family Guy is an American animated sitcom that features five main voice actors, and numerous regular cast and recurring guest stars. The principal voice cast consists of show creator Seth MacFarlane , Alex Borstein , Seth Green , Mila Kunis (who replaced Lacey Chabert after the first season) and Mike Henry and now, the new actor Beau Osborne. Recurring voice actors include Patrick Warburton , Adam West , John G. Brennan , Nicole Sullivan and Jennifer Tilly , and repeat guest stars include Phyllis Diller , Charles Durning , Rush Limbaugh , and Phil LaMarr . Many cast members provide voices for multiple characters. The voice actors, in portraying the various character personalities on the show, draw inspiration from celebrities and pop culture. Family Guy characters have been played by more than one actor, after members of the show left the series or had conflicting obligations. Kunis was nominated for an Annie Award for voicing Meg Griffin in the season 5 episode \" Barely Legal \" and MacFarlane has also won an Emmy Award for Outstanding Voice-Over Performance and an Annie Award for Best Voice Acting in an Animated Television Production, though no other cast member has won an award for their work on the series.', 'answer': 'irrelevant'}) (input_keys={'reference', 'query'}),\n",
       " Example({'query': 'how was marijuana discovered', 'reference': 'Cannabis flower with visible trichomes Cannabis, also known as marijuana (from the Mexican Spanish marihuana), and by other names, is a preparation of the Cannabis plant intended for use as a psychoactive drug and as medicine . Pharmacologically, the principal psychoactive constituent of cannabis is tetrahydrocannabinol (THC); it is one of 483 known compounds in the plant, including at least 84 other cannabinoids , such as cannabidiol (CBD), cannabinol (CBN), tetrahydrocannabivarin (THCV). and cannabigerol (CBG).', 'answer': 'irrelevant'}) (input_keys={'reference', 'query'}),\n",
       " Example({'query': 'when do solar eclipses happen?', 'reference': 'Photo of 1999 total eclipse As seen from the Earth , a solar eclipse occurs when the Moon passes between the Sun and Earth, and the Moon fully or partially blocks (\" occults \") the Sun. This can happen only at new moon , when the Sun and the Moon are in conjunction as seen from Earth in an alignment referred to as syzygy . In a total eclipse , the disk of the Sun is fully obscured by the Moon. In partial and annular eclipses only part of the Sun is obscured. If the Moon were in a perfectly circular orbit, a little closer to the Earth, and in the same orbital plane , there would be total solar eclipses every single month. However, the Moon\\'s orbit is inclined (tilted) at more than 5 degrees to Earth\\'s orbit around the Sun (see ecliptic ) so its shadow at new moon usually misses Earth. Earth\\'s orbit is called the ecliptic plane as the Moon\\'s orbit must cross this plane in order for an eclipse (both solar as well as lunar ) to occur. In addition, the Moon\\'s actual orbit is elliptical, often taking it far enough away from Earth that its apparent size is not large enough to block the Sun totally. The orbital planes cross each year at a line of nodes resulting in at least two, and up to five, solar eclipses occurring each year; no more than two of which can be total eclipses. However, total solar eclipses are rare at any particular location because totality exists only along a narrow path on Earth\\'s surface traced by the Moon\\'s shadow or umbra . An eclipse is a natural phenomenon . Nevertheless, in some ancient and modern cultures, solar eclipses have been attributed to supernatural causes or regarded as bad omens . A total solar eclipse can be frightening to people who are unaware of its astronomical explanation, as the Sun seems to disappear during the day and the sky darkens in a matter of minutes. Because it is dangerous to look directly at the Sun , observers should use special eye protection or indirect viewing techniques when viewing a partial eclipse, or the partial phases of a total eclipse. It is safe to view the total phase of a total solar eclipse with the unaided eye and without protection, however. People referred to as eclipse chasers or umbraphiles will travel to remote locations to observe or witness predicted central solar eclipses.', 'answer': 'relevant'}) (input_keys={'reference', 'query'}),\n",
       " Example({'query': 'what was the first honda car', 'reference': \"The Honda S600 is an automobile manufactured by Honda . It was launched in March 1964. Available as a roadster – bearing strong resemblance to the Honda S500 – and as a fastback coupé – introduced in March 1965 – the S600 was the first Honda available in two trim levels. During its production run up to 1966, the model styling would remain pretty much the same, with the most notable changes coming to the front grille , bumper , and headlights . Powered by a DOHC , water-cooled , four-cylinder inline engine with four carburetors , the engine capacity was increased to 606 cc from the S500 's 531 cc. The engine produced at 8,500 rpm and had a top speed of . With the convertible weighing in at mere , the extra sheet metal of the coupe only added to the overall weight. Suspension was independent with sealed roller chain drive to each rear wheel. The S600 was the first mass marketed Honda car. First offered only in right-hand drive , it soon became available in left-hand drive to appeal to export markets. There were a few pre-production S500s manufactured in left hand drive, two or three even being shown in some early sales brochures. Both the S600 roadster and coupé were available in standard trim and a special, upgraded package called the SM600 which included, among other items, special paint colors, exclusive badging, a standard radio and speaker, a special antenna in the passenger side sun visor, standard reversing lights, a standard cigarette lighter, a standard heater, better cushioned seats, and a detachable seat track for quick removal of the passenger seat. Honda built 3,912 roadsters in 1964, with production climbing to 7,261 convertibles and 1,519 coupes in 1965. Production dropped off in 1966 (as they were shifting to the S800 ) with only 111 roadsters and 281 coupes, giving tallies of 11,284 convertibles and 1,800 coupes for the 3 year span.\", 'answer': 'relevant'}) (input_keys={'reference', 'query'}),\n",
       " Example({'query': 'what percentage of england is christian', 'reference': 'Westminster Abbey is used for the coronation of British monarchs Religion in the United Kingdom and in the countries that preceded it, has been dominated, for over 1,400 years, by various forms of Christianity . According to some surveys, a majority of citizens still identify with Christianity, although regular church attendance has fallen dramatically since the middle of the 20th century, and immigration and demographic change have contributed to the growth of other faiths. Religious affiliations of UK citizens are recorded by regular surveys, the four major ones being the UK Census , the Labour Force Survey , the British Social Attitudes survey and the European Social Survey . According to the 2001 UK census , Christianity is the major religion, followed by Islam , Hinduism , Sikhism , Judaism and Buddhism in terms of number of adherents. This, and the relatively large number of individuals with nominal or no religious affiliations has led commentators to variously describe the United Kingdom as a multi-faith, secularised , or post-Christian society. The United Kingdom was formed by the union of previously independent countries from 1707, and consequently most of the largest religious groups do not have UK-wide organisational structures. While some groups have separate structures for the individual countries of the United Kingdom, others may have a single structure covering England and Wales or Great Britain . Similarly, due to the relatively recent creation of Northern Ireland in 1921, most major religious groups in Northern Ireland are organised on an all-Ireland basis.', 'answer': 'irrelevant'}) (input_keys={'reference', 'query'}),\n",
       " Example({'query': \"what is a class c driver's license\", 'reference': \"In the United States , driver's licenses are issued by each individual state (including Washington, D.C. and territories ), rather than the federal government because of the political concept of federalism . Drivers are normally required to obtain a license from their state of residence and all states recognize each other's licenses for temporary visitors subject to normal age requirements. A state may also suspend an individual's driving privilege within its borders for traffic violations. Many states share a common system of license classes, with some exceptions, and commercial license classes are standardized by federal regulation at 49 CFR part 383.\", 'answer': 'irrelevant'}) (input_keys={'reference', 'query'}),\n",
       " Example({'query': 'where is green bay packers from', 'reference': 'The Green Bay Packers are an American football team based in Green Bay, Wisconsin . They are members of the North Division of the National Football Conference (NFC) in the National Football League (NFL). Green Bay is the third-oldest franchise in the NFL, having been organized and playing in 1919. The Packers are the only non-profit, community-owned major league professional sports team in the United States. The Packers are the last vestige of \"small town teams\" that were once common in the NFL during the 1920s and 1930s. Founded in 1919 by Earl \"Curly\" Lambeau (hence the name Lambeau Field on which the team plays) and George Whitney Calhoun , the Green Bay Packers can trace their lineage to other semi-professional teams in Green Bay dating back to 1896. In 1919 and 1920 the Packers competed as a semi-professional football team against clubs from around Wisconsin and the Midwest. They joined the American Professional Football Association (APFA) in 1921, the forerunner to what is known today as the National Football League (NFL). Although Green Bay is the last NFL \"small town\" team, its local fan base and media extends into nearby Milwaukee ; the team also played selected home games there between 1933 and 1994. The Green Bay Packers have won 13 league championships (more than any other team in the NFL), including nine NFL championships prior to the Super Bowl era and four Super Bowl victories —in 1967 ( Super Bowl I ), 1968 ( Super Bowl II ), 1997 ( Super Bowl XXXI ) and 2011 ( Super Bowl XLV ). The Packers have long-standing, bitter rivalries with their NFC North (formerly the NFC Central) opponents, the Chicago Bears , Minnesota Vikings and the Detroit Lions . The Bears-Packers rivalry is one of the oldest rivalries in NFL history, dating back to 1921.', 'answer': 'relevant'}) (input_keys={'reference', 'query'}),\n",
       " Example({'query': 'what is the united nations and what is its role in the world', 'reference': \"The United Nations (UN; French : Organisation des Nations Unies, ONU) is the world's largest, foremost, and most prominent international organization . The stated aims of the United Nations include promoting and facilitating cooperation in international law , international security , economic development , social progress , human rights , civil rights , civil liberties , political freedoms , democracy , and the achievement of lasting world peace . The UN was founded in 1945 after World War II to replace the League of Nations , to stop wars between countries, and to provide a platform for dialogue. It contains multiple subsidiary organizations to carry out its missions. At its founding, the UN had 51 member states ; as of 2011, there are 193. From its offices around the world, the UN and its specialized agencies decide on substantive and administrative issues in regular meetings held throughout the year. The organization has six principal organs: the General Assembly (the main deliberative assembly ); the Security Council (for deciding certain resolutions for peace and security); the Economic and Social Council (for assisting in promoting international economic and social cooperation and development); the Secretariat (for providing studies, information, and facilities needed by the UN); the International Court of Justice (the primary judicial organ); and the United Nations Trusteeship Council (which is currently inactive). Other prominent UN System agencies include the World Health Organization (WHO), the World Food Programme (WFP) and United Nations Children's Fund ( UNICEF ). The UN's most prominent position is that of the office of Secretary-General which has been held by Ban Ki-moon of South Korea since 2007. The United Nations Headquarters resides in international territory in New York City, with further main offices at Geneva , Nairobi , and Vienna . The organization is financed from assessed and voluntary contributions from its member states, and has six official languages : Arabic , Chinese , English , French , Russian , and Spanish .\", 'answer': 'irrelevant'}) (input_keys={'reference', 'query'}),\n",
       " Example({'query': 'who killed robert kennedy', 'reference': 'The assassination of Robert Francis \"Bobby\" Kennedy , a United States Senator and brother of assassinated President John Fitzgerald \"Jack\" Kennedy , took place shortly after midnight on June 5, 1968, in Los Angeles , California , during the campaign season for the United States Presidential election, 1968 . After winning the California and South Dakota primary elections for the Democratic nomination for President of the United States , Kennedy was shot as he walked through the kitchen of the Ambassador Hotel and died in the Good Samaritan Hospital twenty-six hours later. Sirhan Sirhan , a 24-year-old Palestinian / Jordanian immigrant , was convicted of Kennedy\\'s murder and is serving a life sentence for the crime. Sirhan\\'s lawyers have released statements claiming evidence that he was framed. The shooting was recorded on audio tape by a freelance newspaper reporter, and the aftermath was captured on film. Kennedy\\'s body lay in repose at St. Patrick\\'s Cathedral in New York for two days before a funeral mass was held on June 8. His body was interred near his brother John at Arlington National Cemetery . His death prompted the protection of presidential candidates by the United States Secret Service . Hubert Humphrey went on to win the Democratic nomination for the presidency, but ultimately narrowly lost the election to Richard Nixon . As with his brother Jack\\'s death, Bobby\\'s assassination and the circumstances surrounding it have spawned a variety of conspiracy theories . As of 2013 Kennedy remains one of only two sitting United States Senators to be assassinated (the other being Huey Long ).', 'answer': 'relevant'}) (input_keys={'reference', 'query'}),\n",
       " Example({'query': 'who is norah jones parents', 'reference': \"Norah Jones (born Geetali Norah Jones Shankar; March 30, 1979) is an American singer-songwriter, pianist, and actress. She is the daughter of Indian sitar player Ravi Shankar and Sue Jones. She is also Anoushka Shankar 's half-sister. In 2002, she launched her solo music career with the release of the commercially successful and critically acclaimed album Come Away with Me , a fusion of country music and pop with elements of jazz which was certified diamond album, selling over 26 million copies. The record earned Jones five Grammy Awards , including the Album of the Year , Record of the Year , and Best New Artist . Her subsequent studio albums, Feels Like Home , released in 2004, Not Too Late , released in 2007, the same year she made her film debut in My Blueberry Nights , and her 2009 release The Fall all gained Platinum status, selling over a million copies and were generally well received by critics. Jones' fifth studio album, Little Broken Hearts , was released on April 27, 2012. Jones has won nine Grammy Awards and was 60th on Billboard magazine's artists of the 2000–2009 decade chart. Throughout her career, Jones has won numerous awards and has sold more than 50 million albums worldwide. Billboard named her the top jazz artist of the 2000–2009 decade.\", 'answer': 'relevant'}) (input_keys={'reference', 'query'}),\n",
       " Example({'query': 'what is New Orleans LA first basketball team named', 'reference': 'New Orleans ( or , locally or ; ) is a major United States port and the largest city and metropolitan area in the state of Louisiana . The population of the city was 343,829 as of the 2010 U.S. Census. The New Orleans metropolitan area (New Orleans–Metairie–Kenner Metropolitan Statistical Area) had a population of 1,167,764 in 2010 and was the 46th largest in the United States. The New Orleans–Metairie–Bogalusa Combined Statistical Area , a larger trading area, had a 2010 population of 1,214,932. The city is named after Orléans , a city located on the Loire River in Centre, France , and is well known for its distinct French Creole architecture , as well as its cross-cultural and multilingual heritage. New Orleans is also famous for its cuisine, music (particularly as the birthplace of jazz ), and its annual celebrations and festivals, most notably Mardi Gras . The city is often referred to as the \"most unique\" in America. New Orleans is located in southeastern Louisiana, straddling the Mississippi River . The city and Orleans Parish () are . The city and parish are bounded by the parishes of St. Tammany to the north, St. Bernard to the east, Plaquemines to the south and Jefferson to the south and west. Lake Pontchartrain , part of which is included in the city limits, lies to the north and Lake Borgne lies to the east.', 'answer': 'irrelevant'}) (input_keys={'reference', 'query'}),\n",
       " Example({'query': 'How Do You Get Hepatitis C', 'reference': 'Hepatitis C is an infectious disease affecting primarily the liver , caused by the hepatitis C virus (HCV). The infection is often asymptomatic , but chronic infection can lead to scarring of the liver and ultimately to cirrhosis , which is generally apparent after many years. In some cases, those with cirrhosis will go on to develop liver failure , liver cancer or life-threatening esophageal and gastric varices . HCV is spread primarily by blood-to-blood contact associated with intravenous drug use , poorly sterilized medical equipment and transfusions . An estimated 130–200 million people worldwide are infected with . The existence of (originally \"non- A non- B hepatitis\") was postulated in the 1970s and proven in 1989. only infects humans and chimpanzees . The virus persists in the liver in about 85% of those infected. This persistent infection can be treated with medication: the standard therapy is a combination of peginterferon and ribavirin , with either boceprevir or telaprevir added in some cases. Overall, 50–80% of people treated are cured. Those who develop cirrhosis or liver cancer may require a liver transplant . is the leading cause of liver transplantation, though the virus usually recurs after transplantation. No vaccine against is available.', 'answer': 'relevant'}) (input_keys={'reference', 'query'}),\n",
       " Example({'query': 'how do i measure the shot put throw', 'reference': 'Czechoslovakian shot putter Plihan at the 1957 East German Indoor Athletics Championships The shot put (pronounced ) is a track and field event involving \"throwing\"/\"putting\" (throwing in a pushing motion) a heavy spherical object —the shot—as far as possible. The shot put competition for men has been a part of the modern Olympics since their revival in 1896, women\\'s competition began in 1948.', 'answer': 'irrelevant'}) (input_keys={'reference', 'query'}),\n",
       " Example({'query': 'how did Tammy Faye Messner die?', 'reference': 'Tamara Faye LaValley Bakker Messner (March 7, 1942 – July 20, 2007) was an American Christian singer , evangelist , entrepreneur, author, talk show host, and television personality. She was married from 1961 to 1992 to televangelist , and later convicted felon , Jim Bakker . She co-hosted with him on The PTL Club (1976–1987). She was a participant in the 2004 season of the reality show The Surreal Life .', 'answer': 'irrelevant'}) (input_keys={'reference', 'query'}),\n",
       " Example({'query': 'who owns us treasuries', 'reference': 'U.S. debt from 1940 to 2011. Red lines indicate the \"debt held by the public\" and black lines indicate the total national debt or gross public debt. The difference is the \"intragovernmental debt,\" which includes obligations to government programs such as Social Security. Stated as a formula, National Debt = Debt held by the Public + Intragovernmental Debt. The second panel shows the two debt figures as a percentage of U.S. GDP (dollar value of U.S. economic production for that year). The top panel is deflated so every year is in 2010 dollars. The United States public debt is the money borrowed by the federal government of the United States through the issuing of securities by the Treasury and other federal government agencies. US public debt consists of two components: Debt held by the public includes Treasury securities held by investors outside the federal government, including that held by individuals, corporations, the Federal Reserve System and foreign, state and local governments. Debt held by government accounts or intragovernmental debt includes non-marketable Treasury securities held in accounts administered by the federal government that are owed to program beneficiaries, such as the Social Security Trust Fund . Debt held by government accounts represents the cumulative surpluses, including interest earnings, of these accounts that have been invested in Treasury securities. Public debt increases or decreases as a result of the annual unified budget deficit or surplus. The federal government budget deficit or surplus is the difference between government receipts and spending, ignoring intra-governmental transfers. However, some spending that is excluded from the deficit (supplemental appropriations) also adds to the debt. Historically, the US public debt as a share of GDP increased during wars and recessions, and subsequently declined. For example, debt held by the public as a share of GDP peaked just after World War II (113% of GDP in 1945), but then fell over the following 30 years. In recent decades, however, large budget deficits and the resulting increases in debt have led to concern about the long-term sustainability of the federal government\\'s fiscal policies. On 2 April 2013, debt held by the public was approximately $11.959 trillion or about 75% of GDP. Intragovernmental holdings stood at $4.846 trillion, giving a combined total public debt of $16.805 trillion. As of January 2013, $5.6 trillion or approximately 47% of the debt held by the public was owned by foreign investors, the largest of which were the People\\'s Republic of China and Japan at just over $1.1 trillion each.', 'answer': 'irrelevant'}) (input_keys={'reference', 'query'}),\n",
       " Example({'query': 'how is kafka like the trial', 'reference': \"The Trial (Kafka's original German title: , later as , and ) is a novel written by Franz Kafka in 1914 and 1915 but not published until 1925. One of Kafka's best-known works, it tells the story of a man arrested and prosecuted by a remote, inaccessible authority, with the nature of his crime revealed to neither him nor the reader. Like Kafka's other novels, The Trial was never completed, although it does include a chapter which brings the story to an end. Because of this there are certain inconsistencies which exist within the novel, such as disparities in timing in addition to other discontinuities in narration. After Kafka's death in 1924 his friend and literary executor Max Brod edited the text for publication by Verlag Die Schmiede . The original manuscript is held at the Museum of Modern Literature , Marbach am Neckar, Germany. In 1999, the book was listed in Le Mondes 100 Books of the Century and as No. 2 of the Best German Novels of the Twentieth Century .\", 'answer': 'irrelevant'}) (input_keys={'reference', 'query'}),\n",
       " Example({'query': 'what is the plot of the shawshank redemption?', 'reference': 'The Shawshank Redemption is a 1994 American drama film written and directed by Frank Darabont and starring Tim Robbins and Morgan Freeman . Adapted from the Stephen King novella Rita Hayworth and Shawshank Redemption , the film tells the story of Andy Dufresne, a banker who spends nearly two decades in Shawshank State Prison for the murder of his wife and her lover despite his claims of innocence. During his time at the prison, he befriends a fellow inmate, Ellis Boyd \"Red\" Redding, and finds himself protected by the guards after the warden begins using him in his money laundering operation. Despite a lukewarm box office reception that barely recouped its budget, the film received favorable reviews from critics, multiple award nominations, and has since enjoyed a remarkable life on cable television , VHS , DVD , and Blu-ray . It was included in the American Film Institute \\'s 100 Years...100 Movies 10th Anniversary Edition .', 'answer': 'relevant'}) (input_keys={'reference', 'query'}),\n",
       " Example({'query': 'when was Ann Richards governor of Texas', 'reference': 'Dorothy Ann Willis Richards (September 1, 1933 – September 13, 2006) was an American politician and the 45th Governor of Texas . She first came to national attention as the state treasurer of Texas, when she delivered the keynote address at the 1988 Democratic National Convention . Richards served as the 45th Governor of Texas from 1991 to 1995 and was defeated for re-election in 1994 by George W. Bush . Ann Richards was the second female governor of Texas.', 'answer': 'irrelevant'}) (input_keys={'reference', 'query'}),\n",
       " Example({'query': 'how are business ethics different in Africa and United States', 'reference': 'Business ethics (also corporate ethics) is a form of applied ethics or professional ethics that examines ethical principles and moral or ethical problems that arise in a business environment. It applies to all aspects of business conduct and is relevant to the conduct of individuals and entire organizations. Business ethics has both normative and descriptive dimensions. As a corporate practice and a career specialization, the field is primarily normative. Academics attempting to understand business behavior employ descriptive methods. The range and quantity of business ethical issues reflects the interaction of profit-maximizing behavior with non-economic concerns. Interest in business ethics accelerated dramatically during the 1980s and 1990s, both within major corporations and within academia. For example, today most major corporations promote their commitment to non-economic values under headings such as ethics codes and social responsibility charters. Adam Smith said, \"People of the same trade seldom meet together, even for merriment and diversion, but the conversation ends in a conspiracy against the public, or in some contrivance to raise prices.\" Governments use laws and regulations to point business behavior in what they perceive to be beneficial directions. Ethics implicitly regulates areas and details of behavior that lie beyond governmental control. The emergence of large corporations with limited relationships and sensitivity to the communities in which they operate accelerated the development of formal ethics regimes.', 'answer': 'irrelevant'}) (input_keys={'reference', 'query'}),\n",
       " Example({'query': 'what is bullying aggression', 'reference': 'Bullying is detrimental to students\\' well-being and development. Bullying is the use of force or coercion to abuse or intimidate others. The behavior can be habitual and involve an imbalance of social or physical power . It can include verbal harassment or threat , physical assault or coercion and may be directed repeatedly towards particular victims, perhaps on grounds of race , religion , gender , sexuality , or ability. If bullying is done by a group, it is called mobbing . The victim of bullying is sometimes referred to as a \"target\". Bullying can be defined in many different ways. The UK currently has no legal definition of bullying, while some U.S. states have laws against it. Bullying consists of three basic types of abuse – emotional , verbal , and physical . It typically involves subtle methods of coercion such as intimidation. Bullying ranges from simple one-on-one bullying to more complex bullying in which the bully may have one or more \"lieutenants\" who may seem to be willing to assist the primary bully in his or her bullying activities. Bullying in school and the workplace is also referred to as peer abuse. Robert W. Fuller has analyzed bullying in the context of rankism . A bullying culture can develop in any context in which human beings interact with each other. This includes school , church, family, the workplace , home, and neighborhoods. Happy slapping in the Instituto Regional Federico Errázuriz , Santa Cruz, Chile', 'answer': 'irrelevant'}) (input_keys={'reference', 'query'}),\n",
       " Example({'query': 'What is the function of an epithelial free surface that is smooth?', 'reference': 'Epithelium is one of the four basic types of animal tissue , along with connective tissue , muscle tissue and nervous tissue . Epithelial tissues line the cavities and surfaces of structures throughout the body, and also form many glands . Functions of epithelial cells include secretion, selective absorption, protection, transcellular transport and detection of sensation. In Greek \"ἐπί\" (\"epi\") means \"on\" or \"upon\", and \"θηλή\" (\"thēlē\") means \"nipple\". Epithelial layers are avascular , so they must receive nourishment via diffusion of substances from the underlying connective tissue, through the basement membrane . Epithelia can also be organized into clusters of cells that function as exocrine and endocrine glands.', 'answer': 'irrelevant'}) (input_keys={'reference', 'query'}),\n",
       " Example({'query': 'what is right to set off payments', 'reference': 'In law , a set-off is a statutory defense to the whole or to a portion of a plaintiff\\'s claim. It had no existence under the English common law , being created by 2 Geo. II c. 22 for the relief of insolvent debtors, although set-off was recognized in equity . Such a defense could be pleaded only in respect of mutual debts of a definite character, and did not apply to cases in which damages were claimed, nor to equitable claims or demands. By the rules of the Supreme Court (O. XIX. r. 3) a defendant in an action may set off or set up any right or claim by way of counterclaim against the claims of a plaintiff, and such set-off or counterclaim has the same effect as a statement of claim in a cross-action. The legal defense of set-off (above) was originally introduced to prevent the unfair situation whereby a person (\"Party A\") who owed money to another (\"Party B\") could be sent to debtors prison, despite the fact that Party B also owed money to Party A. The law thus allows both parties to defer payment until their respective claims have been heard in court. Upon judgment, both claims are extinguished and replaced by a single net sum owing (e.g. If Party A owes Party B 100 and Party B owes Party A 105, the two sums are set off and replaced with a single obligation of 5 from Party B to Party A). Set-off can also be incorporated by contractual agreement so that, where a party defaults, the mutual amounts owing are automatically set off and extinguished. In certain jurisdictions (including the UK), set-off takes place automatically upon the insolvency of a company. This means that, for each party which is both a creditor and debtor of the insolvent company, mutual debts are set-off against each other, and then either the bankrupt\\'s creditor can claim the balance in the bankruptcy or the trustee in bankruptcy can ask for the balance remaining to be paid, depending on which side owed the most. This has been criticized as an undeclared security interest that violates the principle of pari passu . The alternative, where a creditor has to pay all its debts, but receive only a limited portion of the leftover moneys that other unsecured creditors get, poses the danger of \\'knock-on\\' insolvencies. The right to set off is particularly important when reporting a bank\\'s exposures to regulatory authorities. The situation where a bank has to report that it has lent a large sum to a borrower (and is therefore exposed, because there is a risk that the borrower might default thereby leading to the loss of the bank\\'s or its depositors\\' money) is thus replaced (where the bank has taken security over shares or securities of the borrower) with an exposure of the money lent minus the value of the security taken.', 'answer': 'irrelevant'}) (input_keys={'reference', 'query'}),\n",
       " Example({'query': 'what does it say on the doll sgt. peppers', 'reference': 'Sgt. Pepper\\'s Lonely Hearts Club Band (often shortened to Sgt. Pepper) is the eighth studio album by English rock band the Beatles . Released in June 1967, the album included songs such as \" With a Little Help from My Friends \", \" Lucy in the Sky with Diamonds \", and \" A Day in the Life \". Continuing the artistic maturation seen on the band\\'s album Revolver (1966), Sgt. Pepper further departed from the conventional pop rock idiom of the time and incorporated balladry , psychedelic , music hall , and symphonic influences. During the Sgt. Pepper sessions, the group improved upon the quality of their music\\'s production while exploring experimental recording techniques. Producer George Martin \\'s innovative approach included the use of an orchestra. Widely acclaimed and imitated, the album cover, designed by English pop artists Peter Blake and Jann Haworth , was inspired by a sketch by Paul McCartney that depicted the band posing in front of a collage of some of their favourite celebrities. Sgt. Pepper was a worldwide critical and commercial success, spending 27 weeks at the top of the UK Album Chart and 15 weeks at number one on the US Billboard 200 . A seminal work in the emerging psychedelic rock style, the album was critically acclaimed upon release and won four Grammy Awards in 1968. With an estimated 32 million copies sold, it is one of the world\\'s best selling albums . Sgt. Pepper is considered by many to be the most influential and famous rock album ever, and has been named the greatest album of all time by both All Time Top 1000 Albums and Rolling Stone .', 'answer': 'irrelevant'}) (input_keys={'reference', 'query'}),\n",
       " Example({'query': 'what is the name of mountains along california', 'reference': 'The Coast Ranges of California span from Humboldt County, California south to Santa Barbara County . The other three coastal California mountain ranges are the Transverse Ranges , Peninsular Ranges and the Klamath Mountains . Physiographically , they are a section of the larger Pacific Border province, which in turn are part of the larger Pacific Mountain System physiographic division. UNESCO has included the \"California Coast Ranges Biosphere Reserve \" in its Man and the Biosphere Programme of World Network of Biosphere Reserves since 1983.', 'answer': 'relevant'}) (input_keys={'reference', 'query'}),\n",
       " Example({'query': 'what is rda for vitamin b12', 'reference': 'Methylcobalamin (shown) is a form of vitamin B12. Physically it resembles the other forms of vitamin B12, occurring as dark red crystals that freely form cherry-colored transparent solutions in water. Vitamin B12, vitamin B12 or vitamin B-12, also called cobalamin, is a water-soluble vitamin with a key role in the normal functioning of the brain and nervous system , and for the formation of blood . It is one of the eight B vitamins . It is normally involved in the metabolism of every cell of the human body, especially affecting DNA synthesis and regulation, but also fatty acid synthesis and energy production. Neither fungi, plants, nor animals are capable of producing vitamin B12. Only bacteria and archaea have the enzymes required for its synthesis, although many foods are a natural source of B12 because of bacterial symbiosis . The vitamin is the largest and most structurally complicated vitamin and can be produced industrially only through bacterial fermentation-synthesis. Vitamin B12 consists of a class of chemically related compounds ( vitamers ), all of which have vitamin activity. It contains the biochemically rare element cobalt . Biosynthesis of the basic structure of the vitamin is accomplished only by bacteria (which usually produce hydroxocobalamin ), but conversion between different forms of the vitamin can be accomplished in the human body. A common semi-synthetic form of the vitamin, cyanocobalamin , does not occur in nature, but is produced from bacterial hydroxocobalamin and then used in many pharmaceuticals and supplements, and as a food additive, because of its stability and lower production cost. In the body it is converted to the human physiological forms methylcobalamin and adenosylcobalamin , leaving behind the cyanide , albeit in minimal concentration. More recently, hydroxocobalamin, methylcobalamin, and adenosylcobalamin can be found in more expensive pharmacological products and food supplements. The extra utility of these is currently debated. Vitamin B12 was discovered from its relationship to the disease pernicious anemia , which is an autoimmune disease in which parietal cells of the stomach responsible for secreting intrinsic factor are destroyed. Intrinsic factor is crucial for the normal absorption of B12, so a lack of intrinsic factor, as seen in pernicious anemia, causes a vitamin B12 deficiency . Many other subtler kinds of vitamin B12 deficiency and their biochemical effects have since been elucidated.', 'answer': 'irrelevant'}) (input_keys={'reference', 'query'}),\n",
       " Example({'query': 'what race is nick lachey wife vanessa minnillo', 'reference': 'Vanessa Joy Lachey (née Minnillo; born November 9, 1980) is an American television personality, television host, fashion model, and actress. Minnillo was also named Miss Teen USA in 1998. She has been a New York -based correspondent for Entertainment Tonight and hosted Total Request Live on MTV .', 'answer': 'irrelevant'}) (input_keys={'reference', 'query'}),\n",
       " Example({'query': 'how much does united states spend on health care', 'reference': 'Health care in the United States is provided by many distinct organizations. Health care facilities are largely owned and operated by private sector businesses. Health insurance for public sector employees is primarily provided by the government. 60-65% of healthcare provision and spending comes from programs such as Medicare , Medicaid , TRICARE , the Children\\'s Health Insurance Program , and the Veterans Health Administration . Most of the population under 65 is insured by their or a family member\\'s employer, some buy health insurance on their own, and the remainder are uninsured. Of 17 high-income countries studied by the National Institutes of Health in 2013, the United States was at or near the bottom in infant mortality , heart and lung disease, sexually transmitted infections, adolescent pregnancies, injuries, homicides, and rates of disability. Together, such issues place the U.S. at the bottom of the list for life expectancy. On average, a U.S. male can be expected to live almost four fewer years than those in the top-ranked country. According to the World Health Organization (WHO), the United States spent more on health care per capita ($7,146), and more on health care as percentage of its GDP (15.2%), than any other nation in 2008. The Commonwealth Fund ranked the United States last in the quality of health care among similar countries, and notes U.S. care costs the most. The U.S. Census Bureau reported that 49.9 million residents, 16.3% of the population, were uninsured in 2010 (up from 49.0 million residents, 16.1% of the population, in 2009). A 2004 Institute of Medicine (IOM) report said: \"The United States is among the few industrialized nations in the world that does not guarantee access to health care for its population.\" A 2004 OECD report said: \"With the exception of Mexico, Turkey, and the United States, all OECD countries had achieved universal or near-universal (at least 98.4% insured) coverage of their populations by 1990.\" A 2010 report observed that lack of health insurance causes roughly 48,000 unnecessary deaths every year in the United States. In 2007, 62.1% of filers for bankruptcies claimed high medical expenses. A 2013 study found that about 25% of all senior citizens declare bankruptcy due to medical expenses, and 43% are forced to mortgage or sell their primary residence. On March 23, 2010, the Patient Protection and Affordable Care Act (PPACA) became law, providing for major changes in health insurance.', 'answer': 'relevant'}) (input_keys={'reference', 'query'}),\n",
       " Example({'query': 'what number is big brown', 'reference': \"Big Brown (foaled April 10, 2005 in Kentucky ) is a retired champion American Thoroughbred racehorse and winner of the 2008 Kentucky Derby and 2008 Preakness Stakes . Bred by Dr. Gary B. Knapp's Monticule Farms in Lexington, Kentucky , he won his first five race starts. He was sired by Grade III winner Boundary, a son of North American Champion sire Danzig , a son of Northern Dancer . Big Brown's dam was Mien, also a granddaughter of Northern Dancer through her sire, Nureyev .\", 'answer': 'irrelevant'}) (input_keys={'reference', 'query'}),\n",
       " Example({'query': 'What is the HSMR percentage for the UAB Medical Center in Birmingham, ALA?', 'reference': 'The University of Alabama at Birmingham (UAB) is a public university in Birmingham in the U.S. state of Alabama . Developing from an extension center established in 1936, the institution became an autonomous institution in 1969 and is today one of three institutions in the University of Alabama System . UAB offers over 140 programs of study in 12 academic divisions leading to bachelor\\'s , master\\'s , doctoral , and professional degrees in the social and behavioral sciences , the liberal arts , business , education , engineering , and health-related fields such as medicine, dentistry, optometry, nursing, and public health. The school is highly renowned for its medical research and natural sciences programs. The UAB Health System, one of the largest academic medical centers in the United States, is affiliated with the university. UAB Hospital sponsors residency programs in various medical specialties, including internal medicine , neurology, surgery, radiology , and anesthesiology . UAB Hospital is the only ACS verified Level I trauma center in Alabama, as rated by the American College of Surgeons Trauma Program. UAB is the state\\'s largest employer, with more than 18,000 faculty and staff and over 53,000 jobs at the university and in the health system. An estimated 10 percent of the jobs in the Birmingham-Hoover Metropolitan Area and 1 in 33 jobs in the state of Alabama are directly or indirectly related to UAB. The university\\'s overall annual economic impact was estimated to be $4.6 billion in 2010. In the fall of 2012, the University of Alabama at Birmingham enrolled 17,999 students from more than 110 countries, including 1,605 freshmen. There are plans to commence with an \"aggressive\" growth in enrollment at UAB. The current UAB President is Dr. Ray L. Watts.', 'answer': 'irrelevant'}) (input_keys={'reference', 'query'}),\n",
       " Example({'query': 'who voices quagmire on family guy', 'reference': 'Family Guy creator Seth MacFarlane also provides the voices of Peter Griffin , Stewie Griffin , Brian Griffin , and Glenn Quagmire . Family Guy is an American animated sitcom that features five main voice actors, and numerous regular cast and recurring guest stars. The principal voice cast consists of show creator Seth MacFarlane , Alex Borstein , Seth Green , Mila Kunis (who replaced Lacey Chabert after the first season) and Mike Henry and now, the new actor Beau Osborne. Recurring voice actors include Patrick Warburton , Adam West , John G. Brennan , Nicole Sullivan and Jennifer Tilly , and repeat guest stars include Phyllis Diller , Charles Durning , Rush Limbaugh , and Phil LaMarr . Many cast members provide voices for multiple characters. The voice actors, in portraying the various character personalities on the show, draw inspiration from celebrities and pop culture. Family Guy characters have been played by more than one actor, after members of the show left the series or had conflicting obligations. Kunis was nominated for an Annie Award for voicing Meg Griffin in the season 5 episode \" Barely Legal \" and MacFarlane has also won an Emmy Award for Outstanding Voice-Over Performance and an Annie Award for Best Voice Acting in an Animated Television Production, though no other cast member has won an award for their work on the series.', 'answer': 'irrelevant'}) (input_keys={'reference', 'query'}),\n",
       " Example({'query': 'What was berlin blockade problem', 'reference': \"Berliners watching a C-54 land at Tempelhof Airport (1948) The Berlin blockade (24 June 1948 – 12 May 1949) was one of the first major international crises of the Cold War . During the multinational occupation of post–World War II Germany , the Soviet Union blocked the Western Allies ' railway, road, and canal access to the sectors of Berlin under Allied control. Their aim was to force the western powers to allow the Soviet zone to start supplying Berlin with food and fuel, thereby giving the Soviets practical control over the entire city. In response, the Western Allies organized the Berlin airlift to carry supplies to the people in West Berlin. Aircrews from the United States Air Force , the British Royal Air Force , the Royal Australian Air Force , the Royal Canadian Air Force , the Royal New Zealand Air Force , and the South African Air Force flew over 200,000 flights in one year, providing up to 4700 tons of daily necessities such as fuel and food to the Berliners. By the spring of 1949, the effort was clearly succeeding and, by April, the airlift was delivering more cargo than had previously been transported into the city by rail. The success of the Berlin Airlift brought embarrassment to the Soviets who had refused to believe it could make a difference. The blockade was lifted in May 1949 and resulted in the creation of two separate German states. The Federal Republic of Germany (West Germany) and the German Democratic Republic (East Germany) split up Berlin. In remembrance of the airlift, three airports in the former western zones of the city served as the primary gateways to Germany for another fifty years.\", 'answer': 'irrelevant'}) (input_keys={'reference', 'query'}),\n",
       " Example({'query': 'what are the reasons for historical change', 'reference': 'Historia by Nikolaos Gysis (1892) History (from Greek - historia, meaning \"inquiry, knowledge acquired by investigation\") is an umbrella term that relates to past events as well as the discovery, collection, organization, and presentation of information about these events. The term includes cosmic , geologic , and organic history , but is often generically implied to mean human history . Scholars who write about history are called historians . History can also refer to the academic discipline which uses a narrative to examine and analyse a sequence of past events, and objectively determine the patterns of cause and effect that determine them. Historians sometimes debate the nature of history and its usefulness by discussing the study of the discipline as an end in itself and as a way of providing \"perspective\" on the problems of the present. Stories common to a particular culture, but not supported by external sources (such as the tales surrounding King Arthur ) are usually classified as cultural heritage or legends , because they do not support the \"disinterested investigation\" required of the discipline of history. Events occurring prior to written record are considered prehistory . Herodotus , a 5th century B.C. Greek historian is considered within the Western tradition to be the \"father of history\", and, along with his contemporary Thucydides , helped form the foundations for the modern study of human history. Their work continues to be read today and the divide between the culture-focused Herodotus and the military-focused Thucydides remains a point of contention or approach in modern historical writing. In the Eastern tradition, a state chronicle the Spring and Autumn Annals was known to be compiled from as early as 722 BCE although only 2nd century BCE texts survived. Ancient influences have helped spawn variant interpretations of the nature of history which have evolved over the centuries and continue to change today. The modern study of history is wide-ranging, and includes the study of specific regions and the study of certain topical or thematical elements of historical investigation. Often history is taught as part of primary and secondary education, and the academic study of history is a major discipline in University studies.', 'answer': 'irrelevant'}) (input_keys={'reference', 'query'}),\n",
       " Example({'query': 'what countries are in central america?', 'reference': \"Central America () is the central geographic region of the Americas . It is the southernmost, isthmian portion of the North American continent , which connects with South America on the southeast. When considered part of the unified continental model , it is considered a subcontinent . Central America consists of seven countries: Belize , Costa Rica , El Salvador , Guatemala , Honduras , Nicaragua , and Panama . Central America is part of the Mesoamerican biodiversity hotspot , which extends from northern Guatemala through central Panama. It is bordered by Mexico to the north, the Caribbean Sea to the east, the North Pacific Ocean to the west, and Colombia to the south-east. Central America is an area of , or almost 0.1% of the Earth's surface. As of 2009, its population was estimated at 41,739,000. It has a density of 77 people per square kilometer.\", 'answer': 'relevant'}) (input_keys={'reference', 'query'}),\n",
       " Example({'query': 'how many gold gloves does barry larkin have', 'reference': \"Barry Louis Larkin (born April 28, 1964) is a retired Major League Baseball player. Larkin played shortstop for the Cincinnati Reds from 1986 to 2004 and was one of the pivotal players on the 1990 Reds' World Series championship team. Larkin was elected to the National Baseball Hall of Fame in January 2012 and was inducted on July 22. Larkin is considered one of the top players of his era, winning nine Silver Slugger awards and three Gold Glove awards . He was selected to the Major League All-Star Game twelve times, and was elected the 1995 National League Most Valuable Player .\", 'answer': 'relevant'}) (input_keys={'reference', 'query'}),\n",
       " Example({'query': 'when was everybody hates chris made', 'reference': 'Everybody Hates Chris is an American television period sitcom that depicts the teenage experiences of comedian Chris Rock (who is also the narrator ) while growing up in the Bedford-Stuyvesant neighborhood of Brooklyn, New York . The show is set between 1983 and 1987; however, Rock himself was a teenager between 1978 and 1983. Rock grew up with a boy named Kenny Montero, whom he has often referred to as the inspiration for a lot of the episodes. In many interviews, Rock has described Kenny as the reason he got into comedy in the first place. The show\\'s title parodies the CBS sitcom Everybody Loves Raymond . Rock stated: \"Everybody Loves Raymond but Everybody Hates Chris!\". The show\\'s lead actors are Tyler James Williams , Terry Crews , Tichina Arnold , Tequan Richmond , Imani Hakim , and Vincent Martella . In Fall 2008, the The CW moved Everybody Hates Chris and The Game to the Friday night death slot . The fourth season of the series premiered Friday, October 3, 2008, at 8:00PM Eastern/7:00PM Central. On May 21, 2009, The CW announced that it had cancelled Everybody Hates Chris. Prior to this, executive producer Chris Rock announced that the end of season 4 matched up with his own past—dropping out of high school to become a comedian—and that it was time to end the show.', 'answer': 'relevant'}) (input_keys={'reference', 'query'}),\n",
       " Example({'query': 'how many kids does archie manning have', 'reference': 'Elisha Archibald \"Archie\" Manning III (born May 19, 1949) is a former American football quarterback in the National Football League , playing for the New Orleans Saints from 1971 to 1982, then for the Houston Oilers and Minnesota Vikings . He is the father of current Denver Broncos quarterback Peyton Manning , current New York Giants starting quarterback Eli Manning , and former Ole Miss receiver Cooper Manning .', 'answer': 'relevant'}) (input_keys={'reference', 'query'}),\n",
       " Example({'query': 'what is water jet propulsion', 'reference': 'A rider on a Yamaha Waverunner XL performing a high-speed turn. A jetboat is a boat propelled by a jet of water ejected from the back of the craft. Unlike a powerboat or motorboat that uses a propeller in the water below or behind the boat, a jetboat draws the water from under the boat into a pump inside the boat, then expels it through a nozzle at the stern . Jetboats were originally designed by Sir William Hamilton (who developed a waterjet in 1954) for operation in the fast-flowing and shallow rivers of New Zealand , specifically to overcome the problem of propellers striking rocks in such waters. Previous attempts at waterjet propulsion had very short lifetimes, generally due to the inefficient design of the units and the fact that they offered few advantages over conventional propellers. Unlike these previous waterjet developments, such as Campini\\'s and the Hanley Hydrojet, Hamilton had a specific need for a propulsion system to operate in very-shallow water, and the waterjet proved to be the ideal solution. From this, the popularity of the jet unit and jetboat increased rapidly. Through further developments, it was found the waterjet offered several other advantages over propellers for a wide range of vessel types, and as such, waterjets are used widely today for many high-speed vessels, including passenger ferries, rescue craft, patrol boats and offshore supply vessels. Jetboats are highly maneuverable, and many can, from full speed, be reversed and brought to a stop within little more than their own length, in a maneuver known as a \"crash stop\". The well known Hamilton turn or \"jet spin\" is a high-speed maneuvre where the boat\\'s engine throttle is cut, the steering is turned sharply and the throttle opened again, causing the boat to spin quickly around with a large spray of water. There is no engineering limit to the size of jetboats, though the validity of their use depends a lot on the type of application. Classic prop-drives are generally more efficient and economical at low speeds, up to about , but as boat speed increases beyond this, the extra hull resistance generated by struts, rudders , shafts (etc.) means waterjets are more efficient in the 20-50 knot range (up to ). Also, in situations with very large propellers turning at slow speeds (such as tug boats), the equivalent size waterjet would be too big to be practical. For these reasons, the vast majority of waterjet units are installed in high-speed vessels and in particular situations where shallow draught, maneuverability, and load flexibility are main concerns. The biggest jet-driven vessels are found in military use or the high-speed passenger/car ferry industry. South Africa\\'s s (approximately long) are the biggest jet-propelled vessels so far. Even these German-built vessels are capable of performing \"crash stops\".', 'answer': 'relevant'}) (input_keys={'reference', 'query'}),\n",
       " Example({'query': 'what does 3g network mean', 'reference': '3G, short for third Generation, is the third generation of mobile telecommunications technology. 3G telecommunication networks support services that provide an information transfer rate of at least 200 kbit/s . However, many services advertised as 3G provide higher speed than the minimum technical requirements for a 3G service. Recent 3G releases, often denoted 3.5G and 3.75G , also provide mobile broadband access of several Mbit/s to smartphones and mobile modems in laptop computers. 3G finds application in wireless voice telephony , mobile Internet access, fixed wireless Internet access, video calls and mobile TV .', 'answer': 'relevant'}) (input_keys={'reference', 'query'}),\n",
       " Example({'query': 'what are the quad muscles', 'reference': 'The quadriceps femoris ( Latin for \"four-headed muscle of the femur \"), also called simply the quadriceps, quadriceps extensor, quads, is a large muscle group that includes the four prevailing muscles on the front of the thigh . It is the great extensor muscle of the knee, forming a large fleshy mass which covers the front and sides of the femur . The proper Latin plural form of the adjective quadriceps would be quadricipites. In modern English usage, quadriceps is used in both singular and plural. The singular form quadricep, produced by hypercorrection , is frequently used.', 'answer': 'relevant'}) (input_keys={'reference', 'query'}),\n",
       " Example({'query': 'what does salesforce.com do?', 'reference': 'Salesforce.com Inc. is a global enterprise software company headquartered in San Francisco , California . Though best known for its customer relationship management (CRM) product, Salesforce has also expanded into the \"social enterprise arena\" through acquisitions. It is currently ranked the most innovative company in America by Forbes magazine, as well as number 27 in Fortunes magazine\\'s 100 Best Companies to Work For in 2012. As of April 2013, the company is ranked sixth in providing services in marketing and customer service automation. It is listed on the New York Stock Exchange and is a constituent of the S&P 500 index.', 'answer': 'relevant'}) (input_keys={'reference', 'query'}),\n",
       " Example({'query': 'WHAT IS A LAW ENFORCEMENT MURDER BOOK', 'reference': \"In law enforcement parlance, the term murder book refers to the case file of a murder investigation. Typically, murder books include crime scene photographs and sketches, autopsy and forensic reports, transcripts of investigators' notes and witness interviews. The murder book encapsulates the complete paper trail of a murder investigation, from the time the murder is first reported through the arrest of a suspect . Law enforcement agencies typically guard murder books carefully, and it is unusual for civilians to be given unfettered access to these kinds of records, especially for unsolved cases.\", 'answer': 'relevant'}) (input_keys={'reference', 'query'}),\n",
       " Example({'query': 'when did wwi begin', 'reference': \"World War I (WWI) was a global war centred in Europe that began on 28 July 1914 and lasted until 11 November 1918. It was predominantly called the World War or the Great War from its occurrence until the start of World War II in 1939, and the First World War or World War I thereafter. It involved all the world's great powers , which were assembled in two opposing alliances: the Allies (based on the Triple Entente of the United Kingdom , France and Russia ) and the Central Powers (originally the Triple Alliance of Germany, Austria-Hungary and Italy ; but, as Austria–Hungary had taken the offensive against the agreement, Italy did not enter into the war). These alliances were both reorganised and expanded as more nations entered the war: Italy, Japan and the United States joined the Allies, and the Ottoman Empire and Bulgaria the Central Powers. Ultimately, more than 70 million military personnel, including 60 million Europeans, were mobilised in one of the largest wars in history. More than 9 million combatants were killed , largely because of technological advancements that led to enormous increases in the lethality of weapons without corresponding improvements in protection or mobility. It was the fifth- deadliest conflict in world history, subsequently paving the way for various political changes, such as revolutions in many of the nations involved. One of the long-term causes of the war was the resurgence of imperialism in the foreign policies of the great powers of Europe. More immediately, the assassination of Archduke Franz Ferdinand of Austria , the heir to the throne of Austria-Hungary, on 28 June 1914 by Yugoslav nationalist Gavrilo Princip in Sarajevo triggered a diplomatic crisis when Austria-Hungary subsequently delivered an ultimatum to the Kingdom of Serbia . Several alliances formed over the previous decades were invoked. Within weeks, the major powers were at war and, via their colonies, the conflict soon spread around the world. On 28 July, the Austro-Hungarians fired the first shots of the war as preparation for the invasion of Serbia . While the Russians mobilised, the Germans invaded neutral Belgium and Luxembourg on the way to France, providing a casus belli for Britain's declaration of war against Germany. After the German march on Paris was brought to a halt—the so-called Miracle of the Marne —the Western Front settled into a static battle of attrition with a trench line that changed little until 1917. On the Eastern Front , the Russian army was successful against the Austro-Hungarians, but was stopped in its invasion of East Prussia by the Germans. In November the Ottoman Empire joined the war, opening up fronts in the Caucasus, Mesopotamia and the Sinai. Italy and Bulgaria went to war in 1915 and Romania in 1916. In Russia, the tsar's government collapsed in March 1917 and a subsequent revolution in November brought the Russians to terms with the Central Powers. After a 1918 German offensive along the western front, the Allies drove back the Germans in a series of successful offensives and American forces began entering the trenches. Germany, which had its own trouble with revolutionaries , agreed to an armistice on 11 November 1918. The war ended in victory for the Allies. Events on the home fronts were as tumultuous as on the battle fronts, as the participants tried to mobilize their manpower and economic resources to fight a total war . By the end of the war, four major imperial powers—the German , Russian , Austro-Hungarian and Ottoman empires—ceased to exist. The successor states of the former two lost a great amount of territory, while the latter two were dismantled entirely. The map of central Europe was redrawn into several smaller states. The League of Nations was formed in the hope of preventing another such conflict. The European nationalism spawned by the war and the breakup of empires, the repercussions of Germany's defeat and problems with the Treaty of Versailles are agreed to be factors contributing to World War II .\", 'answer': 'relevant'}) (input_keys={'reference', 'query'}),\n",
       " Example({'query': 'what are corporation balance', 'reference': 'In financial accounting , a balance sheet or statement of financial position is a summary of the financial balances of a sole proprietorship , a business partnership , a corporation or other business organization, such as an LLC or an LLP . Assets , liabilities and ownership equity are listed as of a specific date, such as the end of its financial year . A balance sheet is often described as a \"snapshot of a company\\'s financial condition\". Of the four basic financial statements , the balance sheet is the only statement which applies to a single point in time of a business\\' calendar year. A standard company balance sheet has three parts: assets, liabilities and ownership equity. The main categories of assets are usually listed first, and typically in order of liquidity . Assets are followed by the liabilities. The difference between the assets and the liabilities is known as equity or the net assets or the net worth or capital of the company and according to the accounting equation , net worth must equal assets minus liabilities. Another way to look at the same equation is that assets equals liabilities plus owner\\'s equity. Looking at the equation in this way shows how assets were financed: either by borrowing money (liability) or by using the owner\\'s money (owner\\'s equity). Balance sheets are usually presented with assets in one section and liabilities and net worth in the other section with the two sections \"balancing.\" A business operating entirely in cash can measure its profits by withdrawing the entire bank balance at the end of the period, plus any cash in hand. However, many businesses are not paid immediately; they build up inventories of goods and they acquire buildings and equipment. In other words: businesses have assets and so they cannot, even if they want to, immediately turn these into cash at the end of each period. Often, these businesses owe money to suppliers and to tax authorities, and the proprietors do not withdraw all their original capital and profits at the end of each period. In other words businesses also have liabilities .', 'answer': 'relevant'}) (input_keys={'reference', 'query'}),\n",
       " Example({'query': 'how many websites on world wide web', 'reference': 'The World Wide Web (abbreviated as WWW or W3, commonly known as the web), is a system of interlinked hypertext documents accessed via the Internet . With a web browser , one can view web pages that may contain text, images, videos, and other multimedia , and navigate between them via hyperlinks . Using concepts from his earlier hypertext systems like ENQUIRE , British engineer, computer scientist and at that time employee of the CERN , Sir Tim Berners-Lee , now Director of the World Wide Web Consortium (W3C), wrote a proposal in March 1989 for what would eventually become the World Wide Web. At CERN , a European research organisation near Geneva straddling the border between France and Switzerland , Berners-Lee and Belgian computer scientist Robert Cailliau proposed in 1990 to use hypertext \"to link and access information of various kinds as a web of nodes in which the user can browse at will\", and they publicly introduced the project in December of the same year.', 'answer': 'irrelevant'}) (input_keys={'reference', 'query'}),\n",
       " Example({'query': 'where is selena gomez from', 'reference': 'Selena Marie Gomez (born July 22, 1992) is an American singer and actress. She made her debut as a child actress in Barney & Friends . In 2007, Gomez came to prominence as a starring cast member in the television series Wizards of Waverly Place . She signed to Hollywood Records the following year, and became the founder and lead singer of the pop band Selena Gomez & the Scene . Their studio albums Kiss & Tell (2009), A Year Without Rain (2010), and When the Sun Goes Down (2011) were certified Gold by the Recording Industry Association of America (RIAA) and have spawned Platinum-certified singles \" Naturally \", \" Who Says \", and \" Love You like a Love Song \". After the release of television films and their accompanying soundtracks, Gomez made her theatrical film debut in Ramona and Beezus in 2010 and starred in Monte Carlo in 2011. Upon the conclusion of Wizards of Waverly Place and the hiatus of Selena Gomez & the Scene in 2012, she focused on her film career, serving as a voice actress in Hotel Transylvania and starring in Spring Breakers the following year. Her debut solo album is tentatively scheduled to be released in summer 2013, and is preceded by its lead single \" Come & Get It \". Outside of her work in the entertainment industry, Gomez is involved in philanthropic activities through charity work and various social and environmental causes.', 'answer': 'irrelevant'}) (input_keys={'reference', 'query'}),\n",
       " Example({'query': 'what radio station are the boston bruins on?', 'reference': \"The Boston Bruins Radio Network is a 25-station (17 A.M., 8 F.M. plus 2 F.M. translators) CBS Radio network which carries live game broadcasts of the Boston Bruins . The network's flagship station is WBZ-FM /98.5- Boston, Massachusetts . Dave Goucher announces play-by-play . Bob Beers provides color commentary .\", 'answer': 'relevant'}) (input_keys={'reference', 'query'}),\n",
       " Example({'query': 'what is jello made of', 'reference': \"Jell-O is a brand name belonging to U.S.-based Kraft Foods for a number of gelatin desserts , including fruit gels, puddings and no-bake cream pies . The brand's popularity has led to it being used as a generic term for gelatin dessert across the U.S. and Canada .\", 'answer': 'irrelevant'}) (input_keys={'reference', 'query'}),\n",
       " Example({'query': 'what are the different types of cross country skiing', 'reference': 'Cross-country skiing (or XC skiing) is a form of ski touring in which participants propel themselves across snow-covered terrain using skis and poles . The activity is popular in many places with large snowfields, primarily Northern Europe , Canada , and Alaska . Cross-country skiing is part of the Nordic skiing sport family, which includes ski jumping , Nordic combined (cross-country skiing and ski jumping), Biathlon (skiing and rifle marksmanship ) and ski-orienteering (which includes map navigation along snow trails and tracks). Cross-country skiing is the modern style of skiing that most resembles prehistoric skiing , particularly when done in the backcountry . It is also related to Telemark skiing .', 'answer': 'relevant'}) (input_keys={'reference', 'query'}),\n",
       " Example({'query': \"when is international men's day\", 'reference': 'International Men\\'s Day (IMD) is an annual international event celebrated on 19th November. Inaugurated in 1999 in Trinidad and Tobago, the day and its events find support from a variety of individuals and groups in Australia, the Caribbean , North America, Asia, Europe and Africa. Speaking on behalf of UNESCO , Director of Women and Culture of Peace Ingeborg Breines said of IMD, \"This is an excellent idea and would give some gender balance.\" She added that UNESCO was looking forward to cooperating with the organizers. The objectives of celebrating an International Men\\'s Day include focusing on men\\'s and boys\\' health , improving gender relations, promoting gender equality, and highlighting positive male role models . It is an occasion to highlight discrimination against men and boys and to celebrate their achievements and contributions, in particular for their contributions to community, family, marriage, and child care. The broader and ultimate aim of the event is to promote basic humanitarian values. International Men\\'s Day is celebrated in over 60 countries, including Trinidad and Tobago, Jamaica, Australia, India, China, United States, Romania, Singapore, Malta, United Kingdom, South Africa, Tanzania, Zimbabwe, Botswana, Seychelles, Burundi, Hungary, Ireland, Isle of Man, Ghana, Canada, Denmark, Norway, Austria, Bosnia and Herzegovina, Ukraine, France, Italy, Pakistan, Cuba, Antigua and Barbuda, St. Kitts and Nevis , St. Lucia , Grenada and Cayman Islands , on 19 November, and global support for the celebration is broad.', 'answer': 'relevant'}) (input_keys={'reference', 'query'})]"
      ]
     },
     "execution_count": 57,
     "metadata": {},
     "output_type": "execute_result"
    }
   ],
   "source": [
    "wikiqa_trainset = []\n",
    "for _, row in wikiqa_train_df.iterrows():\n",
    "    query = row[\"query\"]\n",
    "    reference = row[\"reference\"]\n",
    "    answer = \"relevant\" if row[\"relevance\"] else \"irrelevant\"\n",
    "    wikiqa_trainset.append(\n",
    "        dspy.Example({\"query\": query, \"reference\": reference, \"answer\": answer}).with_inputs(\n",
    "            \"query\", \"reference\"\n",
    "        )\n",
    "    )\n",
    "wikiqa_trainset"
   ]
  },
  {
   "cell_type": "code",
   "execution_count": 61,
   "metadata": {},
   "outputs": [],
   "source": [
    "class RelevanceCoTSignature(dspy.Signature):\n",
    "    \"\"\"\n",
    "    Compare the query above to the reference text. You must determine whether the reference text\n",
    "    contains information that can help answer the query. First, write out in a step by step manner\n",
    "    an EXPLANATION that reasons about how to arrive at the correct answer. Avoid simply stating the correct answer\n",
    "    at the outset.\n",
    "    \"\"\"\n",
    "\n",
    "    query = dspy.InputField(desc=\"a query from the user\")\n",
    "    reference = dspy.InputField(desc=\"a reference document\")\n",
    "    answer = dspy.OutputField(\n",
    "        desc=\"a one-word answer, either 'relevant' or 'irrelevant'\"\n",
    "    )\n",
    "\n",
    "\n",
    "class RelevanceCoTPipeline(dspy.Module):\n",
    "    def __init__(self):\n",
    "        super().__init__()\n",
    "        self.signature = RelevanceCoTSignature\n",
    "        self.predictor = dspy.ChainOfThought(self.signature)\n",
    "\n",
    "    def forward(self, query, reference):\n",
    "        result = self.predictor(query=query, reference=reference)\n",
    "        return dspy.Prediction(\n",
    "            answer=result.answer,\n",
    "            reasoning=result.rationale,\n",
    "        )"
   ]
  },
  {
   "cell_type": "code",
   "execution_count": 62,
   "metadata": {},
   "outputs": [
    {
     "name": "stderr",
     "output_type": "stream",
     "text": [
      "WARNING:dspy.teleprompt.copro_optimizer:\u001b[2m2024-05-12T01:28:57.742353Z\u001b[0m [\u001b[33m\u001b[1mwarning  \u001b[0m] \u001b[1mDeprecationWarning: 'verbose' has been deprecated. To see all information for debugging, use 'dspy.set_log_level('debug')'. In the future this will raise an error.\u001b[0m [\u001b[0m\u001b[1m\u001b[34mdspy.teleprompt.copro_optimizer\u001b[0m]\u001b[0m \u001b[36mfilename\u001b[0m=\u001b[35mcopro_optimizer.py\u001b[0m \u001b[36mlineno\u001b[0m=\u001b[35m78\u001b[0m\n",
      "Average Metric: 6 / 50  (12.0): 100%|██████████| 50/50 [00:41<00:00,  1.21it/s]\n",
      "Average Metric: 37 / 50  (74.0): 100%|██████████| 50/50 [00:15<00:00,  3.22it/s]\n",
      "Average Metric: 37 / 50  (74.0): 100%|██████████| 50/50 [00:21<00:00,  2.30it/s]\n",
      "Average Metric: 13 / 50  (26.0): 100%|██████████| 50/50 [00:23<00:00,  2.15it/s]\n",
      "Average Metric: 0 / 50  (0.0): 100%|██████████| 50/50 [01:01<00:00,  1.24s/it]\n",
      "Average Metric: 31 / 50  (62.0): 100%|██████████| 50/50 [00:15<00:00,  3.23it/s]\n",
      "Average Metric: 24 / 50  (48.0): 100%|██████████| 50/50 [00:20<00:00,  2.42it/s]\n",
      "Average Metric: 40 / 50  (80.0): 100%|██████████| 50/50 [00:25<00:00,  1.97it/s]\n",
      "Average Metric: 16 / 50  (32.0): 100%|██████████| 50/50 [00:39<00:00,  1.26it/s]\n",
      "Average Metric: 38 / 50  (76.0): 100%|██████████| 50/50 [00:17<00:00,  2.78it/s]\n",
      "Average Metric: 38 / 50  (76.0): 100%|██████████| 50/50 [00:17<00:00,  2.89it/s]\n",
      "Average Metric: 36 / 50  (72.0): 100%|██████████| 50/50 [00:25<00:00,  1.96it/s] \n",
      "Average Metric: 35 / 50  (70.0): 100%|██████████| 50/50 [00:20<00:00,  2.42it/s]\n",
      "Average Metric: 35 / 50  (70.0): 100%|██████████| 50/50 [00:12<00:00,  3.94it/s]\n",
      "Average Metric: 5 / 50  (10.0): 100%|██████████| 50/50 [00:45<00:00,  1.10it/s]\n",
      "Average Metric: 34 / 50  (68.0): 100%|██████████| 50/50 [00:13<00:00,  3.70it/s]\n",
      "Average Metric: 6 / 50  (12.0): 100%|██████████| 50/50 [00:48<00:00,  1.04it/s]\n",
      "Average Metric: 2 / 50  (4.0): 100%|██████████| 50/50 [00:28<00:00,  1.76it/s]\n",
      "  0%|          | 0/50 [16:22<?, ?it/s]\n",
      "Average Metric: 0.0 / 4  (0.0):   8%|▊         | 4/50 [15:13<2:55:09, 228.47s/it]\n",
      "Average Metric: 37 / 50  (74.0): 100%|██████████| 50/50 [00:09<00:00,  5.10it/s]\n",
      "Average Metric: 38 / 50  (76.0): 100%|██████████| 50/50 [00:20<00:00,  2.48it/s]\n",
      "Average Metric: 37 / 50  (74.0): 100%|██████████| 50/50 [00:13<00:00,  3.69it/s]\n",
      "Average Metric: 38 / 50  (76.0): 100%|██████████| 50/50 [00:15<00:00,  3.19it/s]\n",
      "Average Metric: 16 / 50  (32.0): 100%|██████████| 50/50 [00:20<00:00,  2.39it/s]\n",
      "Average Metric: 33 / 50  (66.0): 100%|██████████| 50/50 [00:31<00:00,  1.59it/s]\n",
      "Average Metric: 10 / 50  (20.0): 100%|██████████| 50/50 [00:25<00:00,  1.96it/s]\n",
      "Average Metric: 33 / 50  (66.0): 100%|██████████| 50/50 [00:21<00:00,  2.29it/s]\n",
      "Average Metric: 37 / 50  (74.0): 100%|██████████| 50/50 [00:10<00:00,  4.89it/s] \n",
      "Average Metric: 37 / 50  (74.0): 100%|██████████| 50/50 [00:08<00:00,  5.69it/s]\n"
     ]
    }
   ],
   "source": [
    "teleprompter = COPRO(metric=validate_context_and_answer, verbose=True)\n",
    "relevance_cot = RelevanceCoTPipeline()\n",
    "with using_project(\"compile-relevance-2\"):\n",
    "    compiled_prompt_opt = teleprompter.compile(\n",
    "        relevance_cot,\n",
    "        trainset=wikiqa_trainset,\n",
    "        eval_kwargs={\"num_threads\": 64, \"display_progress\": True, \"display_table\": 0},\n",
    "    )"
   ]
  }
 ],
 "metadata": {
  "kernelspec": {
   "display_name": ".venv",
   "language": "python",
   "name": "python3"
  },
  "language_info": {
   "codemirror_mode": {
    "name": "ipython",
    "version": 3
   },
   "file_extension": ".py",
   "mimetype": "text/x-python",
   "name": "python",
   "nbconvert_exporter": "python",
   "pygments_lexer": "ipython3",
   "version": "3.12.2"
  }
 },
 "nbformat": 4,
 "nbformat_minor": 2
}
