{
 "cells": [
  {
   "cell_type": "code",
   "execution_count": null,
   "metadata": {},
   "outputs": [],
   "source": [
    "from gql import Client, gql\n",
    "from gql.transport.requests import RequestsHTTPTransport\n",
    "from phoenix.server.api.types.pagination import (\n",
    "    cursor_to_id,\n",
    "    cursor_to_offset,\n",
    "    id_to_cursor,\n",
    "    offset_to_cursor,\n",
    ")\n",
    "\n",
    "new_url = \"http://127.0.0.1:6006/graphql\"\n",
    "old_url = \"http://127.0.0.1:6008/graphql\"\n",
    "\n",
    "new_project_id = \"UHJvamVjdDox\"\n",
    "old_project_id = \"UHJvamVjdDow\"\n",
    "\n",
    "new_client = Client(\n",
    "    transport=RequestsHTTPTransport(url=new_url, timeout=1),\n",
    "    fetch_schema_from_transport=True,\n",
    ")\n",
    "old_client = Client(\n",
    "    transport=RequestsHTTPTransport(url=old_url, timeout=1),\n",
    "    fetch_schema_from_transport=True,\n",
    ")"
   ]
  },
  {
   "cell_type": "code",
   "execution_count": null,
   "metadata": {},
   "outputs": [],
   "source": [
    "spans_query = gql(\n",
    "    \"\"\"query SpansQuery($projectId: GlobalID!, $after: String = null, $before: String = null, $first: Int = null, $last: Int = null) {\n",
    "  node(id: $projectId) {\n",
    "    ...on Project {\n",
    "      spans(after: $after, before: $before, first: $first, last: $last) {\n",
    "        edges {\n",
    "          cursor\n",
    "        }\n",
    "      }\n",
    "    }\n",
    "  }\n",
    "}\"\"\"\n",
    ")"
   ]
  },
  {
   "cell_type": "code",
   "execution_count": null,
   "metadata": {},
   "outputs": [],
   "source": [
    "new_response = new_client.execute(\n",
    "    spans_query, variable_values={\"projectId\": new_project_id, \"first\": 10}\n",
    ")\n",
    "old_response = old_client.execute(\n",
    "    spans_query, variable_values={\"projectId\": old_project_id, \"first\": 10}\n",
    ")\n",
    "new_cursors = [edge[\"cursor\"] for edge in new_response[\"node\"][\"spans\"][\"edges\"]]\n",
    "new_ids = [cursor_to_id(cursor) for cursor in new_cursors]\n",
    "old_cursors = [edge[\"cursor\"] for edge in old_response[\"node\"][\"spans\"][\"edges\"]]\n",
    "new_offsets = [cursor_to_offset(cursor) for cursor in old_cursors]\n",
    "print(new_ids)\n",
    "print(new_offsets)"
   ]
  },
  {
   "cell_type": "code",
   "execution_count": null,
   "metadata": {},
   "outputs": [],
   "source": [
    "new_response = new_client.execute(\n",
    "    spans_query,\n",
    "    variable_values={\n",
    "        \"projectId\": new_project_id,\n",
    "        \"after\": id_to_cursor(10),\n",
    "        \"first\": 10,\n",
    "    },\n",
    ")\n",
    "old_response = old_client.execute(\n",
    "    spans_query,\n",
    "    variable_values={\n",
    "        \"projectId\": old_project_id,\n",
    "        \"after\": offset_to_cursor(10),\n",
    "        \"first\": 10,\n",
    "    },\n",
    ")\n",
    "new_cursors = [edge[\"cursor\"] for edge in new_response[\"node\"][\"spans\"][\"edges\"]]\n",
    "new_ids = [cursor_to_id(cursor) for cursor in new_cursors]\n",
    "old_cursors = [edge[\"cursor\"] for edge in old_response[\"node\"][\"spans\"][\"edges\"]]\n",
    "new_offsets = [cursor_to_offset(cursor) for cursor in old_cursors]\n",
    "print(new_ids)\n",
    "print(new_offsets)"
   ]
  }
 ],
 "metadata": {
  "language_info": {
   "name": "python"
  }
 },
 "nbformat": 4,
 "nbformat_minor": 2
}
