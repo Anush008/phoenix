{
 "cells": [
  {
   "cell_type": "code",
   "execution_count": null,
   "metadata": {},
   "outputs": [],
   "source": [
    "from dictdiffer import diff\n",
    "from gql import Client, gql\n",
    "from gql.transport.requests import RequestsHTTPTransport\n",
    "\n",
    "new_url = \"http://127.0.0.1:6006/graphql\"\n",
    "old_url = \"http://127.0.0.1:6008/graphql\"\n",
    "\n",
    "client_new_url = Client(\n",
    "    transport=RequestsHTTPTransport(url=new_url, timeout=1),\n",
    "    fetch_schema_from_transport=True,\n",
    ")\n",
    "client_old_url = Client(\n",
    "    transport=RequestsHTTPTransport(url=old_url, timeout=1),\n",
    "    fetch_schema_from_transport=True,\n",
    ")"
   ]
  },
  {
   "cell_type": "code",
   "execution_count": null,
   "metadata": {},
   "outputs": [],
   "source": [
    "spans_query = gql(\n",
    "    \"\"\"query SpansQuery($projectId: GlobalID!, $after: String = null, $before: String = null, $first: Int = null, $last: Int = null) {\n",
    "  node(id: $projectId) {\n",
    "    ...on Project {\n",
    "      spans(after: $after, before: $before, first: $first, last: $last) {\n",
    "        edges {\n",
    "          node {\n",
    "            name\n",
    "          }\n",
    "        }\n",
    "      }\n",
    "    }\n",
    "  }\n",
    "}\"\"\"\n",
    ")"
   ]
  },
  {
   "cell_type": "code",
   "execution_count": null,
   "metadata": {},
   "outputs": [],
   "source": [
    "list(\n",
    "    diff(\n",
    "        client_old_url.execute(\n",
    "            spans_query, variable_values={\"projectId\": \"UHJvamVjdDow\", \"first\": 10}\n",
    "        ),\n",
    "        client_new_url.execute(\n",
    "            spans_query, variable_values={\"projectId\": \"UHJvamVjdDox\", \"first\": 10}\n",
    "        ),\n",
    "        tolerance=0.0001,\n",
    "    )\n",
    ")"
   ]
  }
 ],
 "metadata": {
  "language_info": {
   "name": "python"
  }
 },
 "nbformat": 4,
 "nbformat_minor": 2
}
