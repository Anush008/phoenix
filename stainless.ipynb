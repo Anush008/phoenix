{
 "cells": [
  {
   "cell_type": "code",
   "execution_count": null,
   "metadata": {},
   "outputs": [],
   "source": [
    "!uv pip install git+ssh://git@github.com/stainless-sdks/phoenix-python.git"
   ]
  },
  {
   "cell_type": "code",
   "execution_count": null,
   "metadata": {},
   "outputs": [],
   "source": [
    "from phoenix import Phoenix\n",
    "\n",
    "client = Phoenix(base_url=\"http://localhost:6006\")\n",
    "datasets = client.datasets.list()\n",
    "datasets"
   ]
  },
  {
   "cell_type": "code",
   "execution_count": null,
   "metadata": {},
   "outputs": [],
   "source": [
    "for dataset in datasets.data:\n",
    "    print(f\"{dataset.id=}\")\n",
    "    print(f\"{dataset.name=}\")\n",
    "    print(f\"{dataset.description=}\")\n",
    "    print(f\"{dataset.metadata=}\")\n",
    "    print(f\"{dataset.created_at=}\")\n",
    "    print(f\"{dataset.updated_at=}\")\n",
    "    print()"
   ]
  }
 ],
 "metadata": {
  "language_info": {
   "name": "python"
  }
 },
 "nbformat": 4,
 "nbformat_minor": 2
}
