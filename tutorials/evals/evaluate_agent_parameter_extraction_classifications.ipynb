{
 "cells": [
  {
   "cell_type": "markdown",
   "metadata": {
    "id": "aEJv_ZkwEGba"
   },
   "source": [
    "<center>\n",
    "    <p style=\"text-align:center\">\n",
    "        <img alt=\"phoenix logo\" src=\"https://storage.googleapis.com/arize-assets/arize-logo-white.jpg\" width=\"200\"/>\n",
    "        <br>\n",
    "        <img alt=\"phoenix logo\" src=\"https://storage.googleapis.com/arize-assets/phoenix/assets/phoenix-logo-light.svg\" width=\"200\"/>\n",
    "        <br>\n",
    "        <a href=\"https://arize.com/docs/phoenix/\">Docs</a>\n",
    "        |\n",
    "        <a href=\"https://github.com/Arize-ai/phoenix\">GitHub</a>\n",
    "        |\n",
    "        <a href=\"https://arize-ai.slack.com/join/shared_invite/zt-2w57bhem8-hq24MB6u7yE_ZF_ilOYSBw#/shared-invite/email\">Community</a>\n",
    "    </p>\n",
    "</center>\n",
    "<h1 align=\"center\">Agent Tool Parameter Extraction Classification Evals</h1>\n",
    "\n",
    "The purpose of this notebook is:\n",
    "\n",
    "- to evaluate the performance of an LLM-assisted approach to evaluating agent tool parameter extraction,\n",
    "- to provide an experimental framework for users to iterate and improve on the default agent tool parameter extraction template.\n",
    "\n",
    "## Install Dependencies and Import Libraries"
   ]
  },
  {
   "cell_type": "code",
   "execution_count": 1,
   "metadata": {
    "colab": {
     "base_uri": "https://localhost:8080/"
    },
    "id": "0la5vhfxEGbb",
    "outputId": "d269d773-96c8-4afe-a01d-e9397e0b2f8e"
   },
   "outputs": [
    {
     "name": "stdout",
     "output_type": "stream",
     "text": [
      "\u001b[2K     \u001b[90m━━━━━━━━━━━━━━━━━━━━━━━━━━━━━━━━━━━━━━━━\u001b[0m \u001b[32m50.3/50.3 kB\u001b[0m \u001b[31m2.3 MB/s\u001b[0m eta \u001b[36m0:00:00\u001b[0m\n",
      "\u001b[2K     \u001b[90m━━━━━━━━━━━━━━━━━━━━━━━━━━━━━━━━━━━━━━━━\u001b[0m \u001b[32m72.3/72.3 kB\u001b[0m \u001b[31m3.5 MB/s\u001b[0m eta \u001b[36m0:00:00\u001b[0m\n",
      "\u001b[2K   \u001b[90m━━━━━━━━━━━━━━━━━━━━━━━━━━━━━━━━━━━━━━━━\u001b[0m \u001b[32m64.3/64.3 kB\u001b[0m \u001b[31m4.2 MB/s\u001b[0m eta \u001b[36m0:00:00\u001b[0m\n",
      "\u001b[2K   \u001b[90m━━━━━━━━━━━━━━━━━━━━━━━━━━━━━━━━━━━━━━━━\u001b[0m \u001b[32m70.9/70.9 kB\u001b[0m \u001b[31m4.6 MB/s\u001b[0m eta \u001b[36m0:00:00\u001b[0m\n",
      "\u001b[2K   \u001b[90m━━━━━━━━━━━━━━━━━━━━━━━━━━━━━━━━━━━━━━━━\u001b[0m \u001b[32m118.5/118.5 kB\u001b[0m \u001b[31m4.7 MB/s\u001b[0m eta \u001b[36m0:00:00\u001b[0m\n",
      "\u001b[2K   \u001b[90m━━━━━━━━━━━━━━━━━━━━━━━━━━━━━━━━━━━━━━━━\u001b[0m \u001b[32m65.8/65.8 kB\u001b[0m \u001b[31m2.2 MB/s\u001b[0m eta \u001b[36m0:00:00\u001b[0m\n",
      "\u001b[2K   \u001b[90m━━━━━━━━━━━━━━━━━━━━━━━━━━━━━━━━━━━━━━━━\u001b[0m \u001b[32m196.2/196.2 kB\u001b[0m \u001b[31m11.7 MB/s\u001b[0m eta \u001b[36m0:00:00\u001b[0m\n",
      "\u001b[2K   \u001b[90m━━━━━━━━━━━━━━━━━━━━━━━━━━━━━━━━━━━━━━━━\u001b[0m \u001b[32m235.6/235.6 kB\u001b[0m \u001b[31m15.1 MB/s\u001b[0m eta \u001b[36m0:00:00\u001b[0m\n",
      "\u001b[2K   \u001b[90m━━━━━━━━━━━━━━━━━━━━━━━━━━━━━━━━━━━━━━━━\u001b[0m \u001b[32m76.4/76.4 kB\u001b[0m \u001b[31m5.2 MB/s\u001b[0m eta \u001b[36m0:00:00\u001b[0m\n",
      "\u001b[2K   \u001b[90m━━━━━━━━━━━━━━━━━━━━━━━━━━━━━━━━━━━━━━━━\u001b[0m \u001b[32m610.4/610.4 kB\u001b[0m \u001b[31m28.5 MB/s\u001b[0m eta \u001b[36m0:00:00\u001b[0m\n",
      "\u001b[2K   \u001b[90m━━━━━━━━━━━━━━━━━━━━━━━━━━━━━━━━━━━━━━━━\u001b[0m \u001b[32m1.6/1.6 MB\u001b[0m \u001b[31m52.1 MB/s\u001b[0m eta \u001b[36m0:00:00\u001b[0m\n",
      "\u001b[?25h\u001b[31mERROR: pip's dependency resolver does not currently take into account all the packages that are installed. This behaviour is the source of the following dependency conflicts.\n",
      "google-genai 1.24.0 requires httpx<1.0.0,>=0.28.1, but you have httpx 0.27.2 which is incompatible.\n",
      "firebase-admin 6.9.0 requires httpx[http2]==0.28.1, but you have httpx 0.27.2 which is incompatible.\u001b[0m\u001b[31m\n",
      "\u001b[0mRequirement already satisfied: opentelemetry-sdk in /usr/local/lib/python3.11/dist-packages (1.34.1)\n",
      "Requirement already satisfied: arize[Datasets] in /usr/local/lib/python3.11/dist-packages (7.47.0)\n",
      "Requirement already satisfied: googleapis-common-protos<2,>=1.51.0 in /usr/local/lib/python3.11/dist-packages (from arize[Datasets]) (1.70.0)\n",
      "Requirement already satisfied: pandas<3,>=0.25.3 in /usr/local/lib/python3.11/dist-packages (from arize[Datasets]) (2.2.2)\n",
      "Requirement already satisfied: protobuf<6,>=4.21.0 in /usr/local/lib/python3.11/dist-packages (from arize[Datasets]) (5.29.5)\n",
      "Requirement already satisfied: pyarrow>=0.15.0 in /usr/local/lib/python3.11/dist-packages (from arize[Datasets]) (18.1.0)\n",
      "Requirement already satisfied: pydantic<3,>=2.0.0 in /usr/local/lib/python3.11/dist-packages (from arize[Datasets]) (2.11.7)\n",
      "Requirement already satisfied: requests-futures==1.0.0 in /usr/local/lib/python3.11/dist-packages (from arize[Datasets]) (1.0.0)\n",
      "Requirement already satisfied: tqdm<5,>=4.60.0 in /usr/local/lib/python3.11/dist-packages (from arize[Datasets]) (4.67.1)\n",
      "Collecting deprecated (from arize[Datasets])\n",
      "  Downloading Deprecated-1.2.18-py2.py3-none-any.whl.metadata (5.7 kB)\n",
      "Collecting openinference-semantic-conventions<1,>=0.1.6 (from arize[Datasets])\n",
      "  Downloading openinference_semantic_conventions-0.1.21-py3-none-any.whl.metadata (1.2 kB)\n",
      "Collecting opentelemetry-exporter-otlp<2,>=1.25.0 (from arize[Datasets])\n",
      "  Downloading opentelemetry_exporter_otlp-1.34.1-py3-none-any.whl.metadata (2.4 kB)\n",
      "Requirement already satisfied: opentelemetry-semantic-conventions<1,>=0.43b0 in /usr/local/lib/python3.11/dist-packages (from arize[Datasets]) (0.55b1)\n",
      "Requirement already satisfied: typing-extensions<5,>=4 in /usr/local/lib/python3.11/dist-packages (from arize[Datasets]) (4.14.0)\n",
      "Requirement already satisfied: wrapt<2,>=1.12.1 in /usr/local/lib/python3.11/dist-packages (from arize[Datasets]) (1.17.2)\n",
      "Requirement already satisfied: requests>=1.2.0 in /usr/local/lib/python3.11/dist-packages (from requests-futures==1.0.0->arize[Datasets]) (2.32.3)\n",
      "Requirement already satisfied: opentelemetry-api==1.34.1 in /usr/local/lib/python3.11/dist-packages (from opentelemetry-sdk) (1.34.1)\n",
      "Requirement already satisfied: importlib-metadata<8.8.0,>=6.0 in /usr/local/lib/python3.11/dist-packages (from opentelemetry-api==1.34.1->opentelemetry-sdk) (8.7.0)\n",
      "Collecting opentelemetry-exporter-otlp-proto-grpc==1.34.1 (from opentelemetry-exporter-otlp<2,>=1.25.0->arize[Datasets])\n",
      "  Downloading opentelemetry_exporter_otlp_proto_grpc-1.34.1-py3-none-any.whl.metadata (2.4 kB)\n",
      "Collecting opentelemetry-exporter-otlp-proto-http==1.34.1 (from opentelemetry-exporter-otlp<2,>=1.25.0->arize[Datasets])\n",
      "  Downloading opentelemetry_exporter_otlp_proto_http-1.34.1-py3-none-any.whl.metadata (2.3 kB)\n",
      "Requirement already satisfied: grpcio<2.0.0,>=1.63.2 in /usr/local/lib/python3.11/dist-packages (from opentelemetry-exporter-otlp-proto-grpc==1.34.1->opentelemetry-exporter-otlp<2,>=1.25.0->arize[Datasets]) (1.73.1)\n",
      "Collecting opentelemetry-exporter-otlp-proto-common==1.34.1 (from opentelemetry-exporter-otlp-proto-grpc==1.34.1->opentelemetry-exporter-otlp<2,>=1.25.0->arize[Datasets])\n",
      "  Downloading opentelemetry_exporter_otlp_proto_common-1.34.1-py3-none-any.whl.metadata (1.9 kB)\n",
      "Collecting opentelemetry-proto==1.34.1 (from opentelemetry-exporter-otlp-proto-grpc==1.34.1->opentelemetry-exporter-otlp<2,>=1.25.0->arize[Datasets])\n",
      "  Downloading opentelemetry_proto-1.34.1-py3-none-any.whl.metadata (2.4 kB)\n",
      "Requirement already satisfied: numpy>=1.23.2 in /usr/local/lib/python3.11/dist-packages (from pandas<3,>=0.25.3->arize[Datasets]) (2.0.2)\n",
      "Requirement already satisfied: python-dateutil>=2.8.2 in /usr/local/lib/python3.11/dist-packages (from pandas<3,>=0.25.3->arize[Datasets]) (2.9.0.post0)\n",
      "Requirement already satisfied: pytz>=2020.1 in /usr/local/lib/python3.11/dist-packages (from pandas<3,>=0.25.3->arize[Datasets]) (2025.2)\n",
      "Requirement already satisfied: tzdata>=2022.7 in /usr/local/lib/python3.11/dist-packages (from pandas<3,>=0.25.3->arize[Datasets]) (2025.2)\n",
      "Requirement already satisfied: annotated-types>=0.6.0 in /usr/local/lib/python3.11/dist-packages (from pydantic<3,>=2.0.0->arize[Datasets]) (0.7.0)\n",
      "Requirement already satisfied: pydantic-core==2.33.2 in /usr/local/lib/python3.11/dist-packages (from pydantic<3,>=2.0.0->arize[Datasets]) (2.33.2)\n",
      "Requirement already satisfied: typing-inspection>=0.4.0 in /usr/local/lib/python3.11/dist-packages (from pydantic<3,>=2.0.0->arize[Datasets]) (0.4.1)\n",
      "Requirement already satisfied: zipp>=3.20 in /usr/local/lib/python3.11/dist-packages (from importlib-metadata<8.8.0,>=6.0->opentelemetry-api==1.34.1->opentelemetry-sdk) (3.23.0)\n",
      "Requirement already satisfied: six>=1.5 in /usr/local/lib/python3.11/dist-packages (from python-dateutil>=2.8.2->pandas<3,>=0.25.3->arize[Datasets]) (1.17.0)\n",
      "Requirement already satisfied: charset-normalizer<4,>=2 in /usr/local/lib/python3.11/dist-packages (from requests>=1.2.0->requests-futures==1.0.0->arize[Datasets]) (3.4.2)\n",
      "Requirement already satisfied: idna<4,>=2.5 in /usr/local/lib/python3.11/dist-packages (from requests>=1.2.0->requests-futures==1.0.0->arize[Datasets]) (3.10)\n",
      "Requirement already satisfied: urllib3<3,>=1.21.1 in /usr/local/lib/python3.11/dist-packages (from requests>=1.2.0->requests-futures==1.0.0->arize[Datasets]) (2.4.0)\n",
      "Requirement already satisfied: certifi>=2017.4.17 in /usr/local/lib/python3.11/dist-packages (from requests>=1.2.0->requests-futures==1.0.0->arize[Datasets]) (2025.6.15)\n",
      "Downloading openinference_semantic_conventions-0.1.21-py3-none-any.whl (10 kB)\n",
      "Downloading opentelemetry_exporter_otlp-1.34.1-py3-none-any.whl (7.0 kB)\n",
      "Downloading opentelemetry_exporter_otlp_proto_grpc-1.34.1-py3-none-any.whl (18 kB)\n",
      "Downloading opentelemetry_exporter_otlp_proto_http-1.34.1-py3-none-any.whl (17 kB)\n",
      "Downloading opentelemetry_exporter_otlp_proto_common-1.34.1-py3-none-any.whl (18 kB)\n",
      "Downloading opentelemetry_proto-1.34.1-py3-none-any.whl (55 kB)\n",
      "\u001b[2K   \u001b[90m━━━━━━━━━━━━━━━━━━━━━━━━━━━━━━━━━━━━━━━━\u001b[0m \u001b[32m55.7/55.7 kB\u001b[0m \u001b[31m2.0 MB/s\u001b[0m eta \u001b[36m0:00:00\u001b[0m\n",
      "\u001b[?25hDownloading Deprecated-1.2.18-py2.py3-none-any.whl (10.0 kB)\n",
      "Installing collected packages: opentelemetry-proto, openinference-semantic-conventions, deprecated, opentelemetry-exporter-otlp-proto-common, opentelemetry-exporter-otlp-proto-http, opentelemetry-exporter-otlp-proto-grpc, opentelemetry-exporter-otlp\n",
      "Successfully installed deprecated-1.2.18 openinference-semantic-conventions-0.1.21 opentelemetry-exporter-otlp-1.34.1 opentelemetry-exporter-otlp-proto-common-1.34.1 opentelemetry-exporter-otlp-proto-grpc-1.34.1 opentelemetry-exporter-otlp-proto-http-1.34.1 opentelemetry-proto-1.34.1\n",
      "Requirement already satisfied: openai in /usr/local/lib/python3.11/dist-packages (1.93.0)\n",
      "Requirement already satisfied: pandas in /usr/local/lib/python3.11/dist-packages (2.2.2)\n",
      "Requirement already satisfied: anyio<5,>=3.5.0 in /usr/local/lib/python3.11/dist-packages (from openai) (4.9.0)\n",
      "Requirement already satisfied: distro<2,>=1.7.0 in /usr/local/lib/python3.11/dist-packages (from openai) (1.9.0)\n",
      "Requirement already satisfied: httpx<1,>=0.23.0 in /usr/local/lib/python3.11/dist-packages (from openai) (0.27.2)\n",
      "Requirement already satisfied: jiter<1,>=0.4.0 in /usr/local/lib/python3.11/dist-packages (from openai) (0.10.0)\n",
      "Requirement already satisfied: pydantic<3,>=1.9.0 in /usr/local/lib/python3.11/dist-packages (from openai) (2.11.7)\n",
      "Requirement already satisfied: sniffio in /usr/local/lib/python3.11/dist-packages (from openai) (1.3.1)\n",
      "Requirement already satisfied: tqdm>4 in /usr/local/lib/python3.11/dist-packages (from openai) (4.67.1)\n",
      "Requirement already satisfied: typing-extensions<5,>=4.11 in /usr/local/lib/python3.11/dist-packages (from openai) (4.14.0)\n",
      "Requirement already satisfied: numpy>=1.23.2 in /usr/local/lib/python3.11/dist-packages (from pandas) (2.0.2)\n",
      "Requirement already satisfied: python-dateutil>=2.8.2 in /usr/local/lib/python3.11/dist-packages (from pandas) (2.9.0.post0)\n",
      "Requirement already satisfied: pytz>=2020.1 in /usr/local/lib/python3.11/dist-packages (from pandas) (2025.2)\n",
      "Requirement already satisfied: tzdata>=2022.7 in /usr/local/lib/python3.11/dist-packages (from pandas) (2025.2)\n",
      "Requirement already satisfied: idna>=2.8 in /usr/local/lib/python3.11/dist-packages (from anyio<5,>=3.5.0->openai) (3.10)\n",
      "Requirement already satisfied: certifi in /usr/local/lib/python3.11/dist-packages (from httpx<1,>=0.23.0->openai) (2025.6.15)\n",
      "Requirement already satisfied: httpcore==1.* in /usr/local/lib/python3.11/dist-packages (from httpx<1,>=0.23.0->openai) (1.0.9)\n",
      "Requirement already satisfied: h11>=0.16 in /usr/local/lib/python3.11/dist-packages (from httpcore==1.*->httpx<1,>=0.23.0->openai) (0.16.0)\n",
      "Requirement already satisfied: annotated-types>=0.6.0 in /usr/local/lib/python3.11/dist-packages (from pydantic<3,>=1.9.0->openai) (0.7.0)\n",
      "Requirement already satisfied: pydantic-core==2.33.2 in /usr/local/lib/python3.11/dist-packages (from pydantic<3,>=1.9.0->openai) (2.33.2)\n",
      "Requirement already satisfied: typing-inspection>=0.4.0 in /usr/local/lib/python3.11/dist-packages (from pydantic<3,>=1.9.0->openai) (0.4.1)\n",
      "Requirement already satisfied: six>=1.5 in /usr/local/lib/python3.11/dist-packages (from python-dateutil>=2.8.2->pandas) (1.17.0)\n",
      "Collecting anthropic>=0.18.0\n",
      "  Downloading anthropic-0.57.1-py3-none-any.whl.metadata (27 kB)\n",
      "Requirement already satisfied: anyio<5,>=3.5.0 in /usr/local/lib/python3.11/dist-packages (from anthropic>=0.18.0) (4.9.0)\n",
      "Requirement already satisfied: distro<2,>=1.7.0 in /usr/local/lib/python3.11/dist-packages (from anthropic>=0.18.0) (1.9.0)\n",
      "Requirement already satisfied: httpx<1,>=0.25.0 in /usr/local/lib/python3.11/dist-packages (from anthropic>=0.18.0) (0.27.2)\n",
      "Requirement already satisfied: jiter<1,>=0.4.0 in /usr/local/lib/python3.11/dist-packages (from anthropic>=0.18.0) (0.10.0)\n",
      "Requirement already satisfied: pydantic<3,>=1.9.0 in /usr/local/lib/python3.11/dist-packages (from anthropic>=0.18.0) (2.11.7)\n",
      "Requirement already satisfied: sniffio in /usr/local/lib/python3.11/dist-packages (from anthropic>=0.18.0) (1.3.1)\n",
      "Requirement already satisfied: typing-extensions<5,>=4.10 in /usr/local/lib/python3.11/dist-packages (from anthropic>=0.18.0) (4.14.0)\n",
      "Requirement already satisfied: idna>=2.8 in /usr/local/lib/python3.11/dist-packages (from anyio<5,>=3.5.0->anthropic>=0.18.0) (3.10)\n",
      "Requirement already satisfied: certifi in /usr/local/lib/python3.11/dist-packages (from httpx<1,>=0.25.0->anthropic>=0.18.0) (2025.6.15)\n",
      "Requirement already satisfied: httpcore==1.* in /usr/local/lib/python3.11/dist-packages (from httpx<1,>=0.25.0->anthropic>=0.18.0) (1.0.9)\n",
      "Requirement already satisfied: h11>=0.16 in /usr/local/lib/python3.11/dist-packages (from httpcore==1.*->httpx<1,>=0.25.0->anthropic>=0.18.0) (0.16.0)\n",
      "Requirement already satisfied: annotated-types>=0.6.0 in /usr/local/lib/python3.11/dist-packages (from pydantic<3,>=1.9.0->anthropic>=0.18.0) (0.7.0)\n",
      "Requirement already satisfied: pydantic-core==2.33.2 in /usr/local/lib/python3.11/dist-packages (from pydantic<3,>=1.9.0->anthropic>=0.18.0) (2.33.2)\n",
      "Requirement already satisfied: typing-inspection>=0.4.0 in /usr/local/lib/python3.11/dist-packages (from pydantic<3,>=1.9.0->anthropic>=0.18.0) (0.4.1)\n",
      "Downloading anthropic-0.57.1-py3-none-any.whl (292 kB)\n",
      "\u001b[2K   \u001b[90m━━━━━━━━━━━━━━━━━━━━━━━━━━━━━━━━━━━━━━━━\u001b[0m \u001b[32m292.8/292.8 kB\u001b[0m \u001b[31m5.9 MB/s\u001b[0m eta \u001b[36m0:00:00\u001b[0m\n",
      "\u001b[?25hInstalling collected packages: anthropic\n",
      "Successfully installed anthropic-0.57.1\n"
     ]
    }
   ],
   "source": [
    "!pip install -qq \"arize-phoenix-evals>=0.22.0\" \"openai>=1\" ipython matplotlib pycm pyarrow opentelemetry-sdk scikit-learn arize tiktoken nest_asyncio 'httpx<0.28'\n",
    "!pip install \"arize[Datasets]\" opentelemetry-sdk\n",
    "!pip install openai pandas\n",
    "!pip install \"anthropic>=0.18.0\""
   ]
  },
  {
   "cell_type": "markdown",
   "metadata": {
    "id": "UX492hfvEGbb"
   },
   "source": [
    "ℹ️ To enable async request submission in notebook environments like Jupyter or Google Colab, optionally use `nest_asyncio`. `nest_asyncio` globally patches `asyncio` to enable event loops to be re-entrant. This is not required for non-notebook environments.\n",
    "\n",
    "Without `nest_asyncio`, eval submission can be much slower, depending on your organization's rate limits. Speed increases of about 5x are typical."
   ]
  },
  {
   "cell_type": "code",
   "execution_count": 2,
   "metadata": {
    "id": "OKTub2q4EGbc"
   },
   "outputs": [],
   "source": [
    "import nest_asyncio\n",
    "\n",
    "nest_asyncio.apply()"
   ]
  },
  {
   "cell_type": "code",
   "execution_count": 3,
   "metadata": {
    "id": "5N4dMv_1EGbc"
   },
   "outputs": [],
   "source": [
    "import json\n",
    "import os\n",
    "from getpass import getpass\n",
    "\n",
    "import matplotlib.pyplot as plt\n",
    "import openai\n",
    "import pandas as pd\n",
    "\n",
    "import phoenix.evals.default_templates as templates\n",
    "from phoenix.evals import (\n",
    "    AnthropicModel,\n",
    "    OpenAIModel,\n",
    "    llm_classify,\n",
    ")\n",
    "\n",
    "pd.set_option(\"display.max_colwidth\", None)"
   ]
  },
  {
   "cell_type": "markdown",
   "metadata": {
    "id": "Gthqcv8xEGbc"
   },
   "source": [
    "## Download Benchmark Dataset\n",
    "\n",
    "We'll evaluate the evaluation system consisting of a few example user prompts, with corresponding tool choices and ground truth answers, in addition to an evaluation prompt template against benchmark datasets of user queries and the corresponding tools called with ground-truth labels. We will be using the Berkely Function-Calling Leaderboard dataset. This dataset is commonly used for Agent applications that call tools as a benchmark."
   ]
  },
  {
   "cell_type": "code",
   "execution_count": 4,
   "metadata": {
    "colab": {
     "base_uri": "https://localhost:8080/"
    },
    "id": "a5mv7s5zPpTu",
    "outputId": "101773f5-0d2b-4b8c-f9a8-3cf2fff3f178"
   },
   "outputs": [
    {
     "name": "stdout",
     "output_type": "stream",
     "text": [
      "--2025-07-08 23:42:30--  https://huggingface.co/datasets/gorilla-llm/Berkeley-Function-Calling-Leaderboard/blob/main/BFCL_v3_exec_multiple.json\n",
      "Resolving huggingface.co (huggingface.co)... 18.172.134.124, 18.172.134.24, 18.172.134.4, ...\n",
      "Connecting to huggingface.co (huggingface.co)|18.172.134.124|:443... connected.\n",
      "HTTP request sent, awaiting response... 200 OK\n",
      "Length: 1201626 (1.1M) [text/html]\n",
      "Saving to: ‘exec_simple.json’\n",
      "\n",
      "exec_simple.json    100%[===================>]   1.15M  --.-KB/s    in 0.07s   \n",
      "\n",
      "2025-07-08 23:42:31 (17.2 MB/s) - ‘exec_simple.json’ saved [1201626/1201626]\n",
      "\n"
     ]
    }
   ],
   "source": [
    "!wget -O exec_simple.json https://huggingface.co/datasets/gorilla-llm/Berkeley-Function-Calling-Leaderboard/blob/main/BFCL_v3_exec_multiple.json"
   ]
  },
  {
   "cell_type": "code",
   "execution_count": 5,
   "metadata": {
    "colab": {
     "base_uri": "https://localhost:8080/",
     "height": 1000
    },
    "id": "FW2qxwM2P0sh",
    "outputId": "f1bcd6f0-a849-439d-fc3f-07c547d98243"
   },
   "outputs": [
    {
     "data": {
      "application/vnd.google.colaboratory.intrinsic+json": {
       "summary": "{\n  \"name\": \"df_eval\",\n  \"rows\": 50,\n  \"fields\": [\n    {\n      \"column\": \"question\",\n      \"properties\": {\n        \"dtype\": \"string\",\n        \"num_unique_values\": 50,\n        \"samples\": [\n          \"I've been hearing the slang term \\\"lit\\\" quite frequently these days and it's piqued my curiosity. I'm not entirely sure what it means, so I'm looking to find a definition that could shed some light on its usage and connotations. Can you find out what \\\"lit\\\" means on Urban Dictionary for me?\",\n          \"I've got a dataset here that needs to be ordered from highest to lowest value. The numbers I'm working with are 34, 2, 56, 7, 9, and 12. Could you help me sort these in descending order?\",\n          \"I'm currently in the middle of a cybersecurity investigation and have come across a suspicious IP address that we suspect might be the source of a recent cyber attack. The IP address is 192.168.1.1, and I need to track down the physical location it's associated with to proceed with the investigation. To start with, could you find out the zipcode for where this IP address is registered?\"\n        ],\n        \"semantic_type\": \"\",\n        \"description\": \"\"\n      }\n    },\n    {\n      \"column\": \"tool_call\",\n      \"properties\": {\n        \"dtype\": \"string\",\n        \"num_unique_values\": 50,\n        \"samples\": [\n          \"find_term_on_urban_dictionary(term=\\\"lit\\\")\",\n          \"sort_array(array=[34, 2, 56, 7, 9, 12], reverse=True)\",\n          \"get_zipcode_by_ip_address(ip_address=\\\"192.168.1.1\\\")\"\n        ],\n        \"semantic_type\": \"\",\n        \"description\": \"\"\n      }\n    },\n    {\n      \"column\": \"tool_definitions\",\n      \"properties\": {\n        \"dtype\": \"category\",\n        \"num_unique_values\": 1,\n        \"samples\": [\n          \"get_weather_data: Fetches weather data from the Open-Meteo API for the given latitude and longitude. | Parameters: {\\\"type\\\": \\\"dict\\\", \\\"properties\\\": {\\\"coordinates\\\": {\\\"type\\\": \\\"array\\\", \\\"items\\\": {\\\"type\\\": \\\"float\\\"}, \\\"description\\\": \\\"The latitude and longitude of the location.\\\"}}, \\\"required\\\": [\\\"coordinates\\\"]}\\ncalc_binomial_probability: Calculates the probability of getting k successes in n trials. | Parameters: {\\\"type\\\": \\\"dict\\\", \\\"properties\\\": {\\\"n\\\": {\\\"type\\\": \\\"integer\\\", \\\"description\\\": \\\"The number of trials.\\\"}, \\\"k\\\": {\\\"type\\\": \\\"integer\\\", \\\"description\\\": \\\"The number of successes.\\\"}, \\\"p\\\": {\\\"type\\\": \\\"float\\\", \\\"description\\\": \\\"The probability of success.\\\"}}, \\\"required\\\": [\\\"n\\\", \\\"k\\\", \\\"p\\\"]}\\ncalculate_cosine_similarity: Calculates the cosine similarity of two vectors. | Parameters: {\\\"type\\\": \\\"dict\\\", \\\"properties\\\": {\\\"vectorA\\\": {\\\"type\\\": \\\"array\\\", \\\"items\\\": {\\\"type\\\": \\\"float\\\"}, \\\"description\\\": \\\"The first vector.\\\"}, \\\"vectorB\\\": {\\\"type\\\": \\\"array\\\", \\\"items\\\": {\\\"type\\\": \\\"float\\\"}, \\\"description\\\": \\\"The second vector.\\\"}}, \\\"required\\\": [\\\"vectorA\\\", \\\"vectorB\\\"]}\\nget_stock_price_by_stock_name: Finds the price of a stock by its stock name. | Parameters: {\\\"type\\\": \\\"dict\\\", \\\"properties\\\": {\\\"stock_name\\\": {\\\"type\\\": \\\"string\\\", \\\"description\\\": \\\"The stock name of the product, in the format of the stock symbol.\\\"}}, \\\"required\\\": [\\\"stock_name\\\"]}\\ncalculate_density: Calculates the density of an object. | Parameters: {\\\"type\\\": \\\"dict\\\", \\\"properties\\\": {\\\"mass\\\": {\\\"type\\\": \\\"float\\\", \\\"description\\\": \\\"The mass of the object, in kilograms.\\\"}, \\\"volume\\\": {\\\"type\\\": \\\"float\\\", \\\"description\\\": \\\"The volume of the object, in cubic meters.\\\"}}, \\\"required\\\": [\\\"mass\\\", \\\"volume\\\"]}\\ncalculate_future_value: Calculates the future value of an investment. | Parameters: {\\\"type\\\": \\\"dict\\\", \\\"properties\\\": {\\\"present_value\\\": {\\\"type\\\": \\\"float\\\", \\\"description\\\": \\\"The present value of the investment, in dollars.\\\"}, \\\"interest_rate\\\": {\\\"type\\\": \\\"float\\\", \\\"description\\\": \\\"The interest rate of the investment, ranging from 0 to 1.\\\"}, \\\"periods\\\": {\\\"type\\\": \\\"integer\\\", \\\"description\\\": \\\"The number of periods, in years.\\\"}}, \\\"required\\\": [\\\"present_value\\\", \\\"interest_rate\\\", \\\"periods\\\"]}\\nget_rating_by_amazon_ASIN: Finds the rating of a product by its Amazon ASIN. | Parameters: {\\\"type\\\": \\\"dict\\\", \\\"properties\\\": {\\\"ASIN\\\": {\\\"type\\\": \\\"string\\\", \\\"description\\\": \\\"The Amazon ASIN of the product.\\\"}}, \\\"required\\\": [\\\"ASIN\\\"]}\\nretrieve_holiday_by_year: Finds the holidays of a year. | Parameters: {\\\"type\\\": \\\"dict\\\", \\\"properties\\\": {\\\"year\\\": {\\\"type\\\": \\\"string\\\", \\\"description\\\": \\\"The year of the holidays.\\\"}, \\\"country\\\": {\\\"type\\\": \\\"string\\\", \\\"description\\\": \\\"The country of the holidays. Possible options: US, AT, DE, ES, FR, GB, IT, NL, PL, RO, SK, UA.\\\"}}, \\\"required\\\": [\\\"year\\\", \\\"country\\\"]}\\ncalculate_displacement: Calculates the displacement of an object. | Parameters: {\\\"type\\\": \\\"dict\\\", \\\"properties\\\": {\\\"initial_velocity\\\": {\\\"type\\\": \\\"float\\\", \\\"description\\\": \\\"The initial velocity of the object, in meters per second.\\\"}, \\\"acceleration\\\": {\\\"type\\\": \\\"float\\\", \\\"description\\\": \\\"The acceleration of the object, in meters per second squared.\\\"}, \\\"time\\\": {\\\"type\\\": \\\"float\\\", \\\"description\\\": \\\"The time the object has been moving, in seconds.\\\"}}, \\\"required\\\": [\\\"initial_velocity\\\", \\\"acceleration\\\", \\\"time\\\"]}\\nget_zipcode_by_ip_address: Finds the zipcode of an IP address. | Parameters: {\\\"type\\\": \\\"dict\\\", \\\"properties\\\": {\\\"ip_address\\\": {\\\"type\\\": \\\"string\\\", \\\"description\\\": \\\"The IP address to find the location of.\\\"}}, \\\"required\\\": [\\\"ip_address\\\"]}\\ncalculate_electrostatic_potential_energy: Calculates the electrostatic potential energy. | Parameters: {\\\"type\\\": \\\"dict\\\", \\\"properties\\\": {\\\"charge\\\": {\\\"type\\\": \\\"float\\\", \\\"description\\\": \\\"The charge of the object, in coulombs.\\\"}, \\\"voltage\\\": {\\\"type\\\": \\\"float\\\", \\\"description\\\": \\\"The voltage of the object, in volts.\\\"}}, \\\"required\\\": [\\\"charge\\\", \\\"voltage\\\"]}\\nmortgage_calculator: Calculates the monthly mortgage payment. | Parameters: {\\\"type\\\": \\\"dict\\\", \\\"properties\\\": {\\\"loan_amount\\\": {\\\"type\\\": \\\"float\\\", \\\"description\\\": \\\"The amount of the loan.\\\"}, \\\"interest_rate\\\": {\\\"type\\\": \\\"float\\\", \\\"description\\\": \\\"The interest rate of the loan, ranging from 0 to 1.\\\"}, \\\"loan_period\\\": {\\\"type\\\": \\\"integer\\\", \\\"description\\\": \\\"The period of the loan, in years.\\\"}}, \\\"required\\\": [\\\"loan_amount\\\", \\\"interest_rate\\\", \\\"loan_period\\\"]}\\ncalculate_final_velocity: Calculates the final velocity of an object. | Parameters: {\\\"type\\\": \\\"dict\\\", \\\"properties\\\": {\\\"initial_velocity\\\": {\\\"type\\\": \\\"float\\\", \\\"description\\\": \\\"The initial velocity of the object.\\\"}, \\\"acceleration\\\": {\\\"type\\\": \\\"float\\\", \\\"description\\\": \\\"The acceleration of the object.\\\"}, \\\"time\\\": {\\\"type\\\": \\\"float\\\", \\\"description\\\": \\\"The time the object has been moving.\\\"}}, \\\"required\\\": [\\\"initial_velocity\\\", \\\"acceleration\\\", \\\"time\\\"]}\\nget_fibonacci_sequence: Calculates the n numbers of the Fibonacci. | Parameters: {\\\"type\\\": \\\"dict\\\", \\\"properties\\\": {\\\"n\\\": {\\\"type\\\": \\\"integer\\\", \\\"description\\\": \\\"The number of Fibonacci numbers to calculate.\\\"}}, \\\"required\\\": [\\\"n\\\"]}\\nsort_array: Sorts an array of numbers. | Parameters: {\\\"type\\\": \\\"dict\\\", \\\"properties\\\": {\\\"array\\\": {\\\"type\\\": \\\"array\\\", \\\"items\\\": {\\\"type\\\": \\\"float\\\"}, \\\"description\\\": \\\"The array of numbers.\\\"}, \\\"reverse\\\": {\\\"type\\\": \\\"boolean\\\", \\\"description\\\": \\\"Whether to sort the array in reverse order, i.e., descending order.\\\", \\\"default\\\": false}}, \\\"required\\\": [\\\"array\\\"]}\\nget_time_zone_by_coord: Finds the timezone of a coordinate. | Parameters: {\\\"type\\\": \\\"dict\\\", \\\"properties\\\": {\\\"long\\\": {\\\"type\\\": \\\"string\\\", \\\"description\\\": \\\"The longitude of the coordinate.\\\"}, \\\"lat\\\": {\\\"type\\\": \\\"string\\\", \\\"description\\\": \\\"The latitude of the coordinate.\\\"}}, \\\"required\\\": [\\\"long\\\", \\\"lat\\\"]}\\ncalculate_mean: Calculates the mean of a list of numbers. | Parameters: {\\\"type\\\": \\\"dict\\\", \\\"properties\\\": {\\\"numbers\\\": {\\\"type\\\": \\\"array\\\", \\\"items\\\": {\\\"type\\\": \\\"integer\\\"}, \\\"description\\\": \\\"The list of numbers.\\\"}}, \\\"required\\\": [\\\"numbers\\\"]}\\ncalculate_permutations: Calculates the number of permutations of k elements from a set of n elements. | Parameters: {\\\"type\\\": \\\"dict\\\", \\\"properties\\\": {\\\"n\\\": {\\\"type\\\": \\\"integer\\\", \\\"description\\\": \\\"The number of elements in the set.\\\"}, \\\"k\\\": {\\\"type\\\": \\\"integer\\\", \\\"description\\\": \\\"The number of elements to choose.\\\"}}, \\\"required\\\": [\\\"n\\\", \\\"k\\\"]}\\nget_company_name_by_stock_name: Finds the company name of a stock by its stock name. | Parameters: {\\\"type\\\": \\\"dict\\\", \\\"properties\\\": {\\\"stock_name\\\": {\\\"type\\\": \\\"string\\\", \\\"description\\\": \\\"The stock name of the product, in the format of the stock symbol.\\\"}}, \\\"required\\\": [\\\"stock_name\\\"]}\\ncalculate_standard_deviation: Calculates the standard deviation of a list of numbers. | Parameters: {\\\"type\\\": \\\"dict\\\", \\\"properties\\\": {\\\"numbers\\\": {\\\"type\\\": \\\"array\\\", \\\"items\\\": {\\\"type\\\": \\\"integer\\\"}, \\\"description\\\": \\\"The list of numbers.\\\"}}, \\\"required\\\": [\\\"numbers\\\"]}\\nmath_lcm: Calculates the least common multiple of two numbers. | Parameters: {\\\"type\\\": \\\"dict\\\", \\\"properties\\\": {\\\"a\\\": {\\\"type\\\": \\\"integer\\\", \\\"description\\\": \\\"The first number. This should be the larger number.\\\"}, \\\"b\\\": {\\\"type\\\": \\\"integer\\\", \\\"description\\\": \\\"The second number.\\\"}}, \\\"required\\\": [\\\"a\\\", \\\"b\\\"]}\\ncalculate_triangle_area: Calculates the area of a triangle given its base and height. | Parameters: {\\\"type\\\": \\\"dict\\\", \\\"properties\\\": {\\\"base\\\": {\\\"type\\\": \\\"integer\\\", \\\"description\\\": \\\"The base of the triangle, in meters.\\\"}, \\\"height\\\": {\\\"type\\\": \\\"integer\\\", \\\"description\\\": \\\"The height of the triangle, in meters.\\\"}}, \\\"required\\\": [\\\"base\\\", \\\"height\\\"]}\\nconvert_currency: Converts a given amount from one currency to another using the ExchangeRate-API. | Parameters: {\\\"type\\\": \\\"dict\\\", \\\"properties\\\": {\\\"amount\\\": {\\\"type\\\": \\\"float\\\", \\\"description\\\": \\\"The amount of money to convert, in the base currency.\\\"}, \\\"from_currency\\\": {\\\"type\\\": \\\"string\\\", \\\"description\\\": \\\"The ISO currency code for the base currency.\\\"}, \\\"to_currency\\\": {\\\"type\\\": \\\"string\\\", \\\"description\\\": \\\"The ISO currency code for the target currency.\\\"}}, \\\"required\\\": [\\\"amount\\\", \\\"from_currency\\\", \\\"to_currency\\\"]}\\nget_stock_history: Finds the price of a stock by its stock name. | Parameters: {\\\"type\\\": \\\"dict\\\", \\\"properties\\\": {\\\"stock_name\\\": {\\\"type\\\": \\\"string\\\", \\\"description\\\": \\\"The stock name of the product, in the format of the stock symbol.\\\"}, \\\"interval\\\": {\\\"type\\\": \\\"string\\\", \\\"description\\\": \\\"The interval of the stock history. Allows one of following : 5m|15m|30m|1h|1d|1wk|1mo|3mo\\\"}, \\\"diffandsplits\\\": {\\\"type\\\": \\\"string\\\", \\\"description\\\": \\\"The diff and splits of the stock history. Allows one of following : true|false. Default to false\\\"}}, \\\"required\\\": [\\\"stock_name\\\", \\\"interval\\\"]}\\nmath_gcd: Calculates the greatest common divisor of two numbers. | Parameters: {\\\"type\\\": \\\"dict\\\", \\\"properties\\\": {\\\"a\\\": {\\\"type\\\": \\\"integer\\\", \\\"description\\\": \\\"The first number. This should be the larger number.\\\"}, \\\"b\\\": {\\\"type\\\": \\\"integer\\\", \\\"description\\\": \\\"The second number.\\\"}}, \\\"required\\\": [\\\"a\\\", \\\"b\\\"]}\\nestimate_derivative: Estimate the derivative of a function at a given point. | Parameters: {\\\"type\\\": \\\"dict\\\", \\\"properties\\\": {\\\"function\\\": {\\\"type\\\": \\\"string\\\", \\\"description\\\": \\\"The function to calculate the derivative of. This should be the string literal of lambda function\\\"}, \\\"x\\\": {\\\"type\\\": \\\"integer\\\", \\\"description\\\": \\\"The point to calculate the derivative at.\\\"}}, \\\"required\\\": [\\\"function\\\", \\\"x\\\"]}\\nfind_term_on_urban_dictionary: Finds the definition of a term on Urban Dictionary. | Parameters: {\\\"type\\\": \\\"dict\\\", \\\"properties\\\": {\\\"term\\\": {\\\"type\\\": \\\"string\\\", \\\"description\\\": \\\"The term to find the definition of.\\\"}}, \\\"required\\\": [\\\"term\\\"]}\\nget_distance: Calculates the distance between two 2D points. | Parameters: {\\\"type\\\": \\\"dict\\\", \\\"properties\\\": {\\\"pointA\\\": {\\\"type\\\": \\\"tuple\\\", \\\"description\\\": \\\"The first point.\\\", \\\"items\\\": {\\\"type\\\": \\\"float\\\"}}, \\\"pointB\\\": {\\\"type\\\": \\\"tuple\\\", \\\"description\\\": \\\"The second point.\\\", \\\"items\\\": {\\\"type\\\": \\\"float\\\"}}}, \\\"required\\\": [\\\"pointA\\\", \\\"pointB\\\"]}\\ngeometry_area_circle: Calculates the area of a circle. | Parameters: {\\\"type\\\": \\\"dict\\\", \\\"properties\\\": {\\\"radius\\\": {\\\"type\\\": \\\"integer\\\", \\\"description\\\": \\\"The radius of the circle, in feet.\\\"}}, \\\"required\\\": [\\\"radius\\\"]}\\nget_covid_death_by_country: Finds the most up to date total deaths of a country result from COVID. | Parameters: {\\\"type\\\": \\\"dict\\\", \\\"properties\\\": {\\\"country\\\": {\\\"type\\\": \\\"string\\\", \\\"description\\\": \\\"The country to find the total deaths of, in the format of the country's full name.\\\"}}, \\\"required\\\": [\\\"country\\\"]}\\nget_active_covid_case_by_country: Finds the most up to date active cases of a country result from COVID. | Parameters: {\\\"type\\\": \\\"dict\\\", \\\"properties\\\": {\\\"country\\\": {\\\"type\\\": \\\"string\\\", \\\"description\\\": \\\"The country to find the active cases of, in the format of the country's full name.\\\"}}, \\\"required\\\": [\\\"country\\\"]}\\nmat_mul: Multiplies two matrices. | Parameters: {\\\"type\\\": \\\"dict\\\", \\\"properties\\\": {\\\"matA\\\": {\\\"type\\\": \\\"array\\\", \\\"description\\\": \\\"The first matrix.\\\", \\\"items\\\": {\\\"type\\\": \\\"array\\\", \\\"items\\\": {\\\"type\\\": \\\"integer\\\"}}}, \\\"matB\\\": {\\\"type\\\": \\\"array\\\", \\\"description\\\": \\\"The second matrix.\\\", \\\"items\\\": {\\\"type\\\": \\\"array\\\", \\\"items\\\": {\\\"type\\\": \\\"integer\\\"}}}}, \\\"required\\\": [\\\"matA\\\", \\\"matB\\\"]}\\nget_coordinate_by_ip_address: Finds the latitude and longitude of an IP address. | Parameters: {\\\"type\\\": \\\"dict\\\", \\\"properties\\\": {\\\"ip_address\\\": {\\\"type\\\": \\\"string\\\", \\\"description\\\": \\\"The IP address to find the location of.\\\"}}, \\\"required\\\": [\\\"ip_address\\\"]}\\nget_coordinates_from_city: Fetches the latitude and longitude of a given city name using the Maps.co Geocoding API. | Parameters: {\\\"type\\\": \\\"dict\\\", \\\"properties\\\": {\\\"city_name\\\": {\\\"type\\\": \\\"string\\\", \\\"description\\\": \\\"The name of the city, such as 'Rome'.\\\"}}, \\\"required\\\": [\\\"city_name\\\"]}\\nget_product_name_by_amazon_ASIN: Finds the price of a product by its Amazon ASIN. | Parameters: {\\\"type\\\": \\\"dict\\\", \\\"properties\\\": {\\\"ASIN\\\": {\\\"type\\\": \\\"string\\\", \\\"description\\\": \\\"The Amazon ASIN of the product.\\\"}}, \\\"required\\\": [\\\"ASIN\\\"]}\\nget_price_by_amazon_ASIN: Finds the price of a product by its Amazon ASIN. | Parameters: {\\\"type\\\": \\\"dict\\\", \\\"properties\\\": {\\\"ASIN\\\": {\\\"type\\\": \\\"string\\\", \\\"description\\\": \\\"The Amazon ASIN of the product.\\\"}}, \\\"required\\\": [\\\"ASIN\\\"]}\\nget_prime_factors: Calculates the prime factors of a number. | Parameters: {\\\"type\\\": \\\"dict\\\", \\\"properties\\\": {\\\"number\\\": {\\\"type\\\": \\\"integer\\\", \\\"description\\\": \\\"The number to calculate the prime factors of.\\\"}}, \\\"required\\\": [\\\"number\\\"]}\\nretrieve_city_based_on_zipcode: Finds the city of a zipcode. | Parameters: {\\\"type\\\": \\\"dict\\\", \\\"properties\\\": {\\\"zipcode\\\": {\\\"type\\\": \\\"string\\\", \\\"description\\\": \\\"The zipcode of the city.\\\"}}, \\\"required\\\": [\\\"zipcode\\\"]}\\nmath_factorial: Calculates the factorial of a number. | Parameters: {\\\"type\\\": \\\"dict\\\", \\\"properties\\\": {\\\"n\\\": {\\\"type\\\": \\\"integer\\\", \\\"description\\\": \\\"The number to calculate the factorial of.\\\"}}, \\\"required\\\": [\\\"n\\\"]}\\nquadratic_roots: Calculates the roots of a quadratic equation. | Parameters: {\\\"type\\\": \\\"dict\\\", \\\"properties\\\": {\\\"a\\\": {\\\"type\\\": \\\"integer\\\", \\\"description\\\": \\\"The first coefficient.\\\"}, \\\"b\\\": {\\\"type\\\": \\\"integer\\\", \\\"description\\\": \\\"The second coefficient.\\\"}, \\\"c\\\": {\\\"type\\\": \\\"integer\\\", \\\"description\\\": \\\"The third coefficient.\\\"}}, \\\"required\\\": [\\\"a\\\", \\\"b\\\", \\\"c\\\"]}\\nadd_binary_numbers: Adds two binary numbers. | Parameters: {\\\"type\\\": \\\"dict\\\", \\\"properties\\\": {\\\"a\\\": {\\\"type\\\": \\\"string\\\", \\\"description\\\": \\\"The first binary number.\\\"}, \\\"b\\\": {\\\"type\\\": \\\"string\\\", \\\"description\\\": \\\"The second binary number.\\\"}}, \\\"required\\\": [\\\"a\\\", \\\"b\\\"]}\\nconvert_binary_to_decimal: Converts a binary number to a decimal number. | Parameters: {\\\"type\\\": \\\"dict\\\", \\\"properties\\\": {\\\"binary\\\": {\\\"type\\\": \\\"string\\\", \\\"description\\\": \\\"The binary number to convert.\\\"}}, \\\"required\\\": [\\\"binary\\\"]}\\nconvert_decimal_to_hex: Converts a decimal number to a hexadecimal number. | Parameters: {\\\"type\\\": \\\"dict\\\", \\\"properties\\\": {\\\"decimal\\\": {\\\"type\\\": \\\"integer\\\", \\\"description\\\": \\\"The decimal number to convert.\\\"}}, \\\"required\\\": [\\\"decimal\\\"]}\\nlinear_regression: Finds the linear regression of a set of points and evaluates it at a given point. | Parameters: {\\\"type\\\": \\\"dict\\\", \\\"properties\\\": {\\\"x\\\": {\\\"type\\\": \\\"array\\\", \\\"description\\\": \\\"The x coordinates of the points.\\\", \\\"items\\\": {\\\"type\\\": \\\"integer\\\"}}, \\\"y\\\": {\\\"type\\\": \\\"array\\\", \\\"description\\\": \\\"The y coordinates of the points.\\\", \\\"items\\\": {\\\"type\\\": \\\"integer\\\"}}, \\\"point\\\": {\\\"type\\\": \\\"integer\\\", \\\"description\\\": \\\"The point to calculate the linear regression at.\\\"}}, \\\"required\\\": [\\\"x\\\", \\\"y\\\", \\\"point\\\"]}\\ncalculate_slope: Calculates the slope of the linear regression line from a set of points. | Parameters: {\\\"type\\\": \\\"dict\\\", \\\"properties\\\": {\\\"x\\\": {\\\"type\\\": \\\"array\\\", \\\"description\\\": \\\"The x coordinates of the points.\\\", \\\"items\\\": {\\\"type\\\": \\\"integer\\\"}}, \\\"y\\\": {\\\"type\\\": \\\"array\\\", \\\"description\\\": \\\"The y coordinates of the points.\\\", \\\"items\\\": {\\\"type\\\": \\\"integer\\\"}}}, \\\"required\\\": [\\\"x\\\", \\\"y\\\"]}\\ncalculate_intercept: Calculates the y-intercept of the linear regression line from a set of points and a given slope. | Parameters: {\\\"type\\\": \\\"dict\\\", \\\"properties\\\": {\\\"x\\\": {\\\"type\\\": \\\"array\\\", \\\"description\\\": \\\"The x coordinates of the points.\\\", \\\"items\\\": {\\\"type\\\": \\\"integer\\\"}}, \\\"y\\\": {\\\"type\\\": \\\"array\\\", \\\"description\\\": \\\"The y coordinates of the points.\\\", \\\"items\\\": {\\\"type\\\": \\\"integer\\\"}}, \\\"slope\\\": {\\\"type\\\": \\\"integer\\\", \\\"description\\\": \\\"The slope of the linear regression line.\\\"}}, \\\"required\\\": [\\\"x\\\", \\\"y\\\", \\\"slope\\\"]}\\npredict_value: Predicts the value of y given the slope, intercept, and an x value. | Parameters: {\\\"type\\\": \\\"dict\\\", \\\"properties\\\": {\\\"slope\\\": {\\\"type\\\": \\\"integer\\\", \\\"description\\\": \\\"The slope of the linear regression line.\\\"}, \\\"intercept\\\": {\\\"type\\\": \\\"integer\\\", \\\"description\\\": \\\"The y-intercept of the linear regression line.\\\"}, \\\"x\\\": {\\\"type\\\": \\\"integer\\\", \\\"description\\\": \\\"The x value to predict the y for.\\\"}}, \\\"required\\\": [\\\"slope\\\", \\\"intercept\\\", \\\"x\\\"]}\\ncalculate_investment_value: Calculates the value of an investment over time. | Parameters: {\\\"type\\\": \\\"dict\\\", \\\"properties\\\": {\\\"initial_investment\\\": {\\\"type\\\": \\\"integer\\\", \\\"description\\\": \\\"The initial investment amount.\\\"}, \\\"annual_contribution\\\": {\\\"type\\\": \\\"integer\\\", \\\"description\\\": \\\"The annual contribution amount.\\\"}, \\\"years\\\": {\\\"type\\\": \\\"integer\\\", \\\"description\\\": \\\"The number of years to calculate the investment value for.\\\"}, \\\"annual_return\\\": {\\\"type\\\": \\\"float\\\", \\\"description\\\": \\\"The annual return rate, ranging from 0 to 1.\\\"}, \\\"inflation_rate\\\": {\\\"type\\\": \\\"array\\\", \\\"items\\\": {\\\"type\\\": \\\"float\\\"}, \\\"description\\\": \\\"The inflation rate for each year in percentage, ranging from 0 to 1.\\\"}, \\\"adjust_for_inflation\\\": {\\\"type\\\": \\\"boolean\\\", \\\"default\\\": true, \\\"description\\\": \\\"Whether to adjust the investment value for inflation.\\\"}}, \\\"required\\\": [\\\"initial_investment\\\", \\\"annual_contribution\\\", \\\"years\\\", \\\"annual_return\\\", \\\"inflation_rate\\\"]}\\ncompound_interest: Calculates compound interest over time. | Parameters: {\\\"type\\\": \\\"dict\\\", \\\"properties\\\": {\\\"principal\\\": {\\\"type\\\": \\\"integer\\\", \\\"description\\\": \\\"The principal amount.\\\"}, \\\"rate\\\": {\\\"type\\\": \\\"float\\\", \\\"description\\\": \\\"The annual interest rate.\\\"}, \\\"times_compounded\\\": {\\\"type\\\": \\\"integer\\\", \\\"description\\\": \\\"The number of times the interest is compounded per year.\\\"}, \\\"years\\\": {\\\"type\\\": \\\"integer\\\", \\\"description\\\": \\\"The number of years to calculate the compound interest for.\\\"}}, \\\"required\\\": [\\\"principal\\\", \\\"rate\\\", \\\"times_compounded\\\", \\\"years\\\"]}\\ninflation_adjustment: Adjusts an amount for inflation. | Parameters: {\\\"type\\\": \\\"dict\\\", \\\"properties\\\": {\\\"amount\\\": {\\\"type\\\": \\\"float\\\", \\\"description\\\": \\\"The amount to adjust for inflation.\\\"}, \\\"inflation_rate\\\": {\\\"type\\\": \\\"float\\\", \\\"description\\\": \\\"The annual inflation float.\\\"}, \\\"years\\\": {\\\"type\\\": \\\"integer\\\", \\\"description\\\": \\\"The number of years to adjust for inflation.\\\"}}, \\\"required\\\": [\\\"amount\\\", \\\"inflation_rate\\\", \\\"years\\\"]}\\nadjust_for_inflation: Adjusts the investment value for inflation for each year. | Parameters: {\\\"type\\\": \\\"dict\\\", \\\"properties\\\": {\\\"investment_value\\\": {\\\"type\\\": \\\"float\\\", \\\"description\\\": \\\"The value of the investment to adjust.\\\"}, \\\"inflation_rates\\\": {\\\"type\\\": \\\"array\\\", \\\"items\\\": {\\\"type\\\": \\\"float\\\"}, \\\"description\\\": \\\"The inflation rates for each year.\\\"}}, \\\"required\\\": [\\\"investment_value\\\", \\\"inflation_rates\\\"]}\\ncalculate_basal_metabolic_rate: Calculates the Basal Metabolic Rate (BMR) of a person. | Parameters: {\\\"type\\\": \\\"dict\\\", \\\"properties\\\": {\\\"weight\\\": {\\\"type\\\": \\\"float\\\", \\\"description\\\": \\\"The weight of the person in kilograms.\\\"}, \\\"height\\\": {\\\"type\\\": \\\"float\\\", \\\"description\\\": \\\"The height of the person in centimeters.\\\"}, \\\"age\\\": {\\\"type\\\": \\\"float\\\", \\\"description\\\": \\\"The age of the person in years.\\\"}, \\\"gender\\\": {\\\"type\\\": \\\"string\\\", \\\"description\\\": \\\"The gender of the person. Possible options [male, female, other].\\\"}}, \\\"required\\\": [\\\"weight\\\", \\\"height\\\", \\\"age\\\", \\\"gender\\\"]}\\ncalculate_daily_energy_expenditure: Calculates the daily energy expenditure based on BMR and activity level. | Parameters: {\\\"type\\\": \\\"dict\\\", \\\"properties\\\": {\\\"basal_metabolic_rate\\\": {\\\"type\\\": \\\"float\\\", \\\"description\\\": \\\"The BMR of the person.\\\"}, \\\"activity_level\\\": {\\\"type\\\": \\\"float\\\", \\\"description\\\": \\\"The activity level of the person. Possible options [1,2,3,4,5].\\\"}}, \\\"required\\\": [\\\"basal_metabolic_rate\\\", \\\"activity_level\\\"]}\\ncalculate_nutritional_needs: Calculates the nutritional needs of a person based on their weight, height, age, gender, activity level, and goal. | Parameters: {\\\"type\\\": \\\"dict\\\", \\\"properties\\\": {\\\"weight\\\": {\\\"type\\\": \\\"float\\\", \\\"description\\\": \\\"The weight of the person in kilograms.\\\"}, \\\"height\\\": {\\\"type\\\": \\\"float\\\", \\\"description\\\": \\\"The height of the person in centimeters.\\\"}, \\\"age\\\": {\\\"type\\\": \\\"float\\\", \\\"description\\\": \\\"The age of the person in years.\\\"}, \\\"gender\\\": {\\\"type\\\": \\\"string\\\", \\\"description\\\": \\\"The gender of the person. Possible options [male, female, other].\\\"}, \\\"activity_level\\\": {\\\"type\\\": \\\"float\\\", \\\"description\\\": \\\"The activity level of the person. Possible options [1,2,3,4,5].\\\"}, \\\"goal\\\": {\\\"type\\\": \\\"string\\\", \\\"description\\\": \\\"The goal of the person. Possible options [lose, gain, maintain].\\\"}}, \\\"required\\\": [\\\"weight\\\", \\\"height\\\", \\\"age\\\", \\\"gender\\\", \\\"activity_level\\\", \\\"goal\\\"]}\\nbook_room: Books a room for a customer. | Parameters: {\\\"type\\\": \\\"dict\\\", \\\"properties\\\": {\\\"room_type\\\": {\\\"type\\\": \\\"dict\\\", \\\"description\\\": \\\"The room type to book.\\\"}, \\\"check_in_date\\\": {\\\"type\\\": \\\"string\\\", \\\"description\\\": \\\"The check-in date in format of MM-DD-YYYY.\\\"}, \\\"check_out_date\\\": {\\\"type\\\": \\\"string\\\", \\\"description\\\": \\\"The check-out date in format of MM-DD-YYYY.\\\"}, \\\"customer_id\\\": {\\\"type\\\": \\\"string\\\", \\\"description\\\": \\\"The customer ID.\\\"}, \\\"discount_code\\\": {\\\"type\\\": \\\"string\\\", \\\"description\\\": \\\"The discount code (if any).\\\", \\\"default\\\": null}}, \\\"required\\\": [\\\"room_type\\\", \\\"check_in_date\\\", \\\"check_out_date\\\", \\\"customer_id\\\"]}\\ncalculate_total_price: Calculates the total price of the room booking. | Parameters: {\\\"type\\\": \\\"dict\\\", \\\"properties\\\": {\\\"room_price\\\": {\\\"type\\\": \\\"float\\\", \\\"description\\\": \\\"The price per night of the room.\\\"}, \\\"nights\\\": {\\\"type\\\": \\\"integer\\\", \\\"description\\\": \\\"The number of nights for the booking.\\\"}, \\\"discount\\\": {\\\"type\\\": \\\"float\\\", \\\"description\\\": \\\"The discount amount (if any).\\\", \\\"default\\\": 0}}, \\\"required\\\": [\\\"room_price\\\", \\\"nights\\\"]}\\nconfirm_booking: Confirms the room booking and sends a confirmation to the customer. | Parameters: {\\\"type\\\": \\\"dict\\\", \\\"properties\\\": {\\\"customer_id\\\": {\\\"type\\\": \\\"string\\\", \\\"description\\\": \\\"The customer ID.\\\"}, \\\"room_number\\\": {\\\"type\\\": \\\"string\\\", \\\"description\\\": \\\"The room number assigned to the booking.\\\"}, \\\"total_price\\\": {\\\"type\\\": \\\"float\\\", \\\"description\\\": \\\"The total price for the booking.\\\"}}, \\\"required\\\": [\\\"customer_id\\\", \\\"room_number\\\", \\\"total_price\\\"]}\\norder_food: Orders food for a customer. Return the total price. | Parameters: {\\\"type\\\": \\\"dict\\\", \\\"properties\\\": {\\\"item\\\": {\\\"type\\\": \\\"array\\\", \\\"items\\\": {\\\"type\\\": \\\"string\\\"}, \\\"description\\\": \\\"the name of the product.\\\"}, \\\"quantity\\\": {\\\"type\\\": \\\"array\\\", \\\"items\\\": {\\\"type\\\": \\\"integer\\\"}, \\\"description\\\": \\\"the number of the product purchased.\\\"}, \\\"price\\\": {\\\"type\\\": \\\"array\\\", \\\"items\\\": {\\\"type\\\": \\\"float\\\"}, \\\"description\\\": \\\"the price of the product.\\\"}}, \\\"required\\\": [\\\"item\\\", \\\"quantity\\\", \\\"price\\\"]}\\ncalculate_total: Calculates the total price of an order given the quantities and prices. | Parameters: {\\\"type\\\": \\\"dict\\\", \\\"properties\\\": {\\\"quantities\\\": {\\\"type\\\": \\\"array\\\", \\\"items\\\": {\\\"type\\\": \\\"integer\\\"}, \\\"description\\\": \\\"The quantities of each product.\\\"}, \\\"prices\\\": {\\\"type\\\": \\\"array\\\", \\\"items\\\": {\\\"type\\\": \\\"float\\\"}, \\\"description\\\": \\\"The price of each product.\\\"}}, \\\"required\\\": [\\\"quantities\\\", \\\"prices\\\"]}\\napply_discount: Applies a discount to the total price. | Parameters: {\\\"type\\\": \\\"dict\\\", \\\"properties\\\": {\\\"total\\\": {\\\"type\\\": \\\"float\\\", \\\"description\\\": \\\"The original total price.\\\"}, \\\"discount\\\": {\\\"type\\\": \\\"float\\\", \\\"description\\\": \\\"The discount percentage to apply.\\\"}}, \\\"required\\\": [\\\"total\\\", \\\"discount\\\"]}\\nget_movie_director: Fetches the director of a movie from the OMDB API. | Parameters: {\\\"type\\\": \\\"dict\\\", \\\"properties\\\": {\\\"movie_name\\\": {\\\"type\\\": \\\"string\\\", \\\"description\\\": \\\"The name of the movie.\\\"}}, \\\"required\\\": [\\\"movie_name\\\"]}\\ncalculate_interest_rate: Calculates the interest rate for a given principal, rate, and time. | Parameters: {\\\"type\\\": \\\"dict\\\", \\\"properties\\\": {\\\"principal\\\": {\\\"type\\\": \\\"float\\\", \\\"description\\\": \\\"The initial amount of money.\\\"}, \\\"rate\\\": {\\\"type\\\": \\\"float\\\", \\\"description\\\": \\\"The interest rate per period.\\\"}, \\\"time\\\": {\\\"type\\\": \\\"float\\\", \\\"description\\\": \\\"The time the money is invested or borrowed for.\\\"}}, \\\"required\\\": [\\\"principal\\\", \\\"rate\\\", \\\"time\\\"]}\\nconvert_temperature: Converts temperature from Celsius to Fahrenheit or vice versa. | Parameters: {\\\"type\\\": \\\"dict\\\", \\\"properties\\\": {\\\"temperature\\\": {\\\"type\\\": \\\"float\\\", \\\"description\\\": \\\"The temperature to convert.\\\"}, \\\"unit_from\\\": {\\\"type\\\": \\\"string\\\", \\\"description\\\": \\\"The current unit of the temperature (Celsius or Fahrenheit).\\\"}, \\\"unit_to\\\": {\\\"type\\\": \\\"string\\\", \\\"description\\\": \\\"The unit to convert the temperature to (Celsius or Fahrenheit).\\\"}}, \\\"required\\\": [\\\"temperature\\\", \\\"unit_from\\\", \\\"unit_to\\\"]}\\ngenerate_random_number: Generates a random number within a specified range. | Parameters: {\\\"type\\\": \\\"dict\\\", \\\"properties\\\": {\\\"min\\\": {\\\"type\\\": \\\"integer\\\", \\\"description\\\": \\\"The minimum value of the range.\\\"}, \\\"max\\\": {\\\"type\\\": \\\"integer\\\", \\\"description\\\": \\\"The maximum value of the range.\\\"}}, \\\"required\\\": [\\\"min\\\", \\\"max\\\"]}\\nget_movie_rating: Fetches the age rating of a movie from the OMDB API. | Parameters: {\\\"type\\\": \\\"dict\\\", \\\"properties\\\": {\\\"movie_name\\\": {\\\"type\\\": \\\"string\\\", \\\"description\\\": \\\"The name of the movie.\\\"}}, \\\"required\\\": [\\\"movie_name\\\"]}\\nget_movie_genre: Retrieves the genre of a movie from the OMDB API. | Parameters: {\\\"type\\\": \\\"dict\\\", \\\"properties\\\": {\\\"movie_name\\\": {\\\"type\\\": \\\"string\\\", \\\"description\\\": \\\"The name of the movie to retrieve the genre for.\\\"}}, \\\"required\\\": [\\\"movie_name\\\"]}\\nget_director_by_movie_name: Gets the director of a movie. | Parameters: {\\\"type\\\": \\\"dict\\\", \\\"properties\\\": {\\\"movie_name\\\": {\\\"type\\\": \\\"string\\\", \\\"description\\\": \\\"The movie to find the director of.\\\"}}, \\\"required\\\": [\\\"movie_name\\\"]}\\nconvert_coordinates: Converts a list of tuples into a list of lists. | Parameters: {\\\"type\\\": \\\"dict\\\", \\\"properties\\\": {\\\"coordinates\\\": {\\\"type\\\": \\\"array\\\", \\\"items\\\": {\\\"type\\\": \\\"tuple\\\", \\\"items\\\": {\\\"type\\\": \\\"float\\\"}, \\\"description\\\": \\\"A single coordinate represented by a tuple (x, y).\\\"}, \\\"description\\\": \\\"The coordinates to be converted, where each coordinate is a tuple (x, y).\\\"}}, \\\"required\\\": [\\\"coordinates\\\"]}\\npolygon_area: Calculate the area of a polygon given its vertices using the shoelace formula. | Parameters: {\\\"type\\\": \\\"dict\\\", \\\"properties\\\": {\\\"vertices\\\": {\\\"type\\\": \\\"array\\\", \\\"items\\\": {\\\"type\\\": \\\"array\\\", \\\"items\\\": {\\\"type\\\": \\\"float\\\"}, \\\"minItems\\\": 2, \\\"maxItems\\\": 2, \\\"description\\\": \\\"A single vertex represented by a 2 element list [x, y].\\\"}, \\\"description\\\": \\\"The vertices of the polygon, where each vertex is a 2 element list [x, y].\\\"}}, \\\"required\\\": [\\\"vertices\\\"]}\\nvalidate_polygon: Checks if the given vertices form a valid polygon. | Parameters: {\\\"type\\\": \\\"dict\\\", \\\"properties\\\": {\\\"vertices\\\": {\\\"type\\\": \\\"array\\\", \\\"items\\\": {\\\"type\\\": \\\"array\\\", \\\"items\\\": {\\\"type\\\": \\\"float\\\"}, \\\"description\\\": \\\"A single vertex represented by a 2 element list [x, y].\\\"}, \\\"description\\\": \\\"The vertices of the polygon, where each vertex is a 2 element list [x, y].\\\"}}, \\\"required\\\": [\\\"vertices\\\"]}\"\n        ],\n        \"semantic_type\": \"\",\n        \"description\": \"\"\n      }\n    }\n  ]\n}",
       "type": "dataframe",
       "variable_name": "df_eval"
      },
      "text/html": [
       "\n",
       "  <div id=\"df-cc26d1fd-4f1e-4de6-9423-dc1b50e2ec28\" class=\"colab-df-container\">\n",
       "    <div>\n",
       "<style scoped>\n",
       "    .dataframe tbody tr th:only-of-type {\n",
       "        vertical-align: middle;\n",
       "    }\n",
       "\n",
       "    .dataframe tbody tr th {\n",
       "        vertical-align: top;\n",
       "    }\n",
       "\n",
       "    .dataframe thead th {\n",
       "        text-align: right;\n",
       "    }\n",
       "</style>\n",
       "<table border=\"1\" class=\"dataframe\">\n",
       "  <thead>\n",
       "    <tr style=\"text-align: right;\">\n",
       "      <th></th>\n",
       "      <th>question</th>\n",
       "      <th>tool_call</th>\n",
       "      <th>tool_definitions</th>\n",
       "    </tr>\n",
       "  </thead>\n",
       "  <tbody>\n",
       "    <tr>\n",
       "      <th>0</th>\n",
       "      <td>I'm playing a dice game and want to calculate my chances. I roll the die 20 times, and I'm trying to figure out the probability of landing on a 6 exactly five times, considering each roll has a one in six chance of being a 6. Could you help me with that?</td>\n",
       "      <td>calc_binomial_probability(n=20, k=5, p=1/6)</td>\n",
       "      <td>get_weather_data: Fetches weather data from the Open-Meteo API for the given latitude and longitude. | Parameters: {\"type\": \"dict\", \"properties\": {\"coordinates\": {\"type\": \"array\", \"items\": {\"type\": \"float\"}, \"description\": \"The latitude and longitude of the location.\"}}, \"required\": [\"coordinates\"]}\\ncalc_binomial_probability: Calculates the probability of getting k successes in n trials. | Parameters: {\"type\": \"dict\", \"properties\": {\"n\": {\"type\": \"integer\", \"description\": \"The number of trials.\"}, \"k\": {\"type\": \"integer\", \"description\": \"The number of successes.\"}, \"p\": {\"type\": \"float\", \"description\": \"The probability of success.\"}}, \"required\": [\"n\", \"k\", \"p\"]}\\ncalculate_cosine_similarity: Calculates the cosine similarity of two vectors. | Parameters: {\"type\": \"dict\", \"properties\": {\"vectorA\": {\"type\": \"array\", \"items\": {\"type\": \"float\"}, \"description\": \"The first vector.\"}, \"vectorB\": {\"type\": \"array\", \"items\": {\"type\": \"float\"}, \"description\": \"The second vector.\"}}, \"required\": [\"vectorA\", \"vectorB\"]}\\nget_stock_price_by_stock_name: Finds the price of a stock by its stock name. | Parameters: {\"type\": \"dict\", \"properties\": {\"stock_name\": {\"type\": \"string\", \"description\": \"The stock name of the product, in the format of the stock symbol.\"}}, \"required\": [\"stock_name\"]}\\ncalculate_density: Calculates the density of an object. | Parameters: {\"type\": \"dict\", \"properties\": {\"mass\": {\"type\": \"float\", \"description\": \"The mass of the object, in kilograms.\"}, \"volume\": {\"type\": \"float\", \"description\": \"The volume of the object, in cubic meters.\"}}, \"required\": [\"mass\", \"volume\"]}\\ncalculate_future_value: Calculates the future value of an investment. | Parameters: {\"type\": \"dict\", \"properties\": {\"present_value\": {\"type\": \"float\", \"description\": \"The present value of the investment, in dollars.\"}, \"interest_rate\": {\"type\": \"float\", \"description\": \"The interest rate of the investment, ranging from 0 to 1.\"}, \"periods\": {\"type\": \"integer\", \"description\": \"The number of periods, in years.\"}}, \"required\": [\"present_value\", \"interest_rate\", \"periods\"]}\\nget_rating_by_amazon_ASIN: Finds the rating of a product by its Amazon ASIN. | Parameters: {\"type\": \"dict\", \"properties\": {\"ASIN\": {\"type\": \"string\", \"description\": \"The Amazon ASIN of the product.\"}}, \"required\": [\"ASIN\"]}\\nretrieve_holiday_by_year: Finds the holidays of a year. | Parameters: {\"type\": \"dict\", \"properties\": {\"year\": {\"type\": \"string\", \"description\": \"The year of the holidays.\"}, \"country\": {\"type\": \"string\", \"description\": \"The country of the holidays. Possible options: US, AT, DE, ES, FR, GB, IT, NL, PL, RO, SK, UA.\"}}, \"required\": [\"year\", \"country\"]}\\ncalculate_displacement: Calculates the displacement of an object. | Parameters: {\"type\": \"dict\", \"properties\": {\"initial_velocity\": {\"type\": \"float\", \"description\": \"The initial velocity of the object, in meters per second.\"}, \"acceleration\": {\"type\": \"float\", \"description\": \"The acceleration of the object, in meters per second squared.\"}, \"time\": {\"type\": \"float\", \"description\": \"The time the object has been moving, in seconds.\"}}, \"required\": [\"initial_velocity\", \"acceleration\", \"time\"]}\\nget_zipcode_by_ip_address: Finds the zipcode of an IP address. | Parameters: {\"type\": \"dict\", \"properties\": {\"ip_address\": {\"type\": \"string\", \"description\": \"The IP address to find the location of.\"}}, \"required\": [\"ip_address\"]}\\ncalculate_electrostatic_potential_energy: Calculates the electrostatic potential energy. | Parameters: {\"type\": \"dict\", \"properties\": {\"charge\": {\"type\": \"float\", \"description\": \"The charge of the object, in coulombs.\"}, \"voltage\": {\"type\": \"float\", \"description\": \"The voltage of the object, in volts.\"}}, \"required\": [\"charge\", \"voltage\"]}\\nmortgage_calculator: Calculates the monthly mortgage payment. | Parameters: {\"type\": \"dict\", \"properties\": {\"loan_amount\": {\"type\": \"float\", \"description\": \"The amount of the loan.\"}, \"interest_rate\": {\"type\": \"float\", \"description\": \"The interest rate of the loan, ranging from 0 to 1.\"}, \"loan_period\": {\"type\": \"integer\", \"description\": \"The period of the loan, in years.\"}}, \"required\": [\"loan_amount\", \"interest_rate\", \"loan_period\"]}\\ncalculate_final_velocity: Calculates the final velocity of an object. | Parameters: {\"type\": \"dict\", \"properties\": {\"initial_velocity\": {\"type\": \"float\", \"description\": \"The initial velocity of the object.\"}, \"acceleration\": {\"type\": \"float\", \"description\": \"The acceleration of the object.\"}, \"time\": {\"type\": \"float\", \"description\": \"The time the object has been moving.\"}}, \"required\": [\"initial_velocity\", \"acceleration\", \"time\"]}\\nget_fibonacci_sequence: Calculates the n numbers of the Fibonacci. | Parameters: {\"type\": \"dict\", \"properties\": {\"n\": {\"type\": \"integer\", \"description\": \"The number of Fibonacci numbers to calculate.\"}}, \"required\": [\"n\"]}\\nsort_array: Sorts an array of numbers. | Parameters: {\"type\": \"dict\", \"properties\": {\"array\": {\"type\": \"array\", \"items\": {\"type\": \"float\"}, \"description\": \"The array of numbers.\"}, \"reverse\": {\"type\": \"boolean\", \"description\": \"Whether to sort the array in reverse order, i.e., descending order.\", \"default\": false}}, \"required\": [\"array\"]}\\nget_time_zone_by_coord: Finds the timezone of a coordinate. | Parameters: {\"type\": \"dict\", \"properties\": {\"long\": {\"type\": \"string\", \"description\": \"The longitude of the coordinate.\"}, \"lat\": {\"type\": \"string\", \"description\": \"The latitude of the coordinate.\"}}, \"required\": [\"long\", \"lat\"]}\\ncalculate_mean: Calculates the mean of a list of numbers. | Parameters: {\"type\": \"dict\", \"properties\": {\"numbers\": {\"type\": \"array\", \"items\": {\"type\": \"integer\"}, \"description\": \"The list of numbers.\"}}, \"required\": [\"numbers\"]}\\ncalculate_permutations: Calculates the number of permutations of k elements from a set of n elements. | Parameters: {\"type\": \"dict\", \"properties\": {\"n\": {\"type\": \"integer\", \"description\": \"The number of elements in the set.\"}, \"k\": {\"type\": \"integer\", \"description\": \"The number of elements to choose.\"}}, \"required\": [\"n\", \"k\"]}\\nget_company_name_by_stock_name: Finds the company name of a stock by its stock name. | Parameters: {\"type\": \"dict\", \"properties\": {\"stock_name\": {\"type\": \"string\", \"description\": \"The stock name of the product, in the format of the stock symbol.\"}}, \"required\": [\"stock_name\"]}\\ncalculate_standard_deviation: Calculates the standard deviation of a list of numbers. | Parameters: {\"type\": \"dict\", \"properties\": {\"numbers\": {\"type\": \"array\", \"items\": {\"type\": \"integer\"}, \"description\": \"The list of numbers.\"}}, \"required\": [\"numbers\"]}\\nmath_lcm: Calculates the least common multiple of two numbers. | Parameters: {\"type\": \"dict\", \"properties\": {\"a\": {\"type\": \"integer\", \"description\": \"The first number. This should be the larger number.\"}, \"b\": {\"type\": \"integer\", \"description\": \"The second number.\"}}, \"required\": [\"a\", \"b\"]}\\ncalculate_triangle_area: Calculates the area of a triangle given its base and height. | Parameters: {\"type\": \"dict\", \"properties\": {\"base\": {\"type\": \"integer\", \"description\": \"The base of the triangle, in meters.\"}, \"height\": {\"type\": \"integer\", \"description\": \"The height of the triangle, in meters.\"}}, \"required\": [\"base\", \"height\"]}\\nconvert_currency: Converts a given amount from one currency to another using the ExchangeRate-API. | Parameters: {\"type\": \"dict\", \"properties\": {\"amount\": {\"type\": \"float\", \"description\": \"The amount of money to convert, in the base currency.\"}, \"from_currency\": {\"type\": \"string\", \"description\": \"The ISO currency code for the base currency.\"}, \"to_currency\": {\"type\": \"string\", \"description\": \"The ISO currency code for the target currency.\"}}, \"required\": [\"amount\", \"from_currency\", \"to_currency\"]}\\nget_stock_history: Finds the price of a stock by its stock name. | Parameters: {\"type\": \"dict\", \"properties\": {\"stock_name\": {\"type\": \"string\", \"description\": \"The stock name of the product, in the format of the stock symbol.\"}, \"interval\": {\"type\": \"string\", \"description\": \"The interval of the stock history. Allows one of following : 5m|15m|30m|1h|1d|1wk|1mo|3mo\"}, \"diffandsplits\": {\"type\": \"string\", \"description\": \"The diff and splits of the stock history. Allows one of following : true|false. Default to false\"}}, \"required\": [\"stock_name\", \"interval\"]}\\nmath_gcd: Calculates the greatest common divisor of two numbers. | Parameters: {\"type\": \"dict\", \"properties\": {\"a\": {\"type\": \"integer\", \"description\": \"The first number. This should be the larger number.\"}, \"b\": {\"type\": \"integer\", \"description\": \"The second number.\"}}, \"required\": [\"a\", \"b\"]}\\nestimate_derivative: Estimate the derivative of a function at a given point. | Parameters: {\"type\": \"dict\", \"properties\": {\"function\": {\"type\": \"string\", \"description\": \"The function to calculate the derivative of. This should be the string literal of lambda function\"}, \"x\": {\"type\": \"integer\", \"description\": \"The point to calculate the derivative at.\"}}, \"required\": [\"function\", \"x\"]}\\nfind_term_on_urban_dictionary: Finds the definition of a term on Urban Dictionary. | Parameters: {\"type\": \"dict\", \"properties\": {\"term\": {\"type\": \"string\", \"description\": \"The term to find the definition of.\"}}, \"required\": [\"term\"]}\\nget_distance: Calculates the distance between two 2D points. | Parameters: {\"type\": \"dict\", \"properties\": {\"pointA\": {\"type\": \"tuple\", \"description\": \"The first point.\", \"items\": {\"type\": \"float\"}}, \"pointB\": {\"type\": \"tuple\", \"description\": \"The second point.\", \"items\": {\"type\": \"float\"}}}, \"required\": [\"pointA\", \"pointB\"]}\\ngeometry_area_circle: Calculates the area of a circle. | Parameters: {\"type\": \"dict\", \"properties\": {\"radius\": {\"type\": \"integer\", \"description\": \"The radius of the circle, in feet.\"}}, \"required\": [\"radius\"]}\\nget_covid_death_by_country: Finds the most up to date total deaths of a country result from COVID. | Parameters: {\"type\": \"dict\", \"properties\": {\"country\": {\"type\": \"string\", \"description\": \"The country to find the total deaths of, in the format of the country's full name.\"}}, \"required\": [\"country\"]}\\nget_active_covid_case_by_country: Finds the most up to date active cases of a country result from COVID. | Parameters: {\"type\": \"dict\", \"properties\": {\"country\": {\"type\": \"string\", \"description\": \"The country to find the active cases of, in the format of the country's full name.\"}}, \"required\": [\"country\"]}\\nmat_mul: Multiplies two matrices. | Parameters: {\"type\": \"dict\", \"properties\": {\"matA\": {\"type\": \"array\", \"description\": \"The first matrix.\", \"items\": {\"type\": \"array\", \"items\": {\"type\": \"integer\"}}}, \"matB\": {\"type\": \"array\", \"description\": \"The second matrix.\", \"items\": {\"type\": \"array\", \"items\": {\"type\": \"integer\"}}}}, \"required\": [\"matA\", \"matB\"]}\\nget_coordinate_by_ip_address: Finds the latitude and longitude of an IP address. | Parameters: {\"type\": \"dict\", \"properties\": {\"ip_address\": {\"type\": \"string\", \"description\": \"The IP address to find the location of.\"}}, \"required\": [\"ip_address\"]}\\nget_coordinates_from_city: Fetches the latitude and longitude of a given city name using the Maps.co Geocoding API. | Parameters: {\"type\": \"dict\", \"properties\": {\"city_name\": {\"type\": \"string\", \"description\": \"The name of the city, such as 'Rome'.\"}}, \"required\": [\"city_name\"]}\\nget_product_name_by_amazon_ASIN: Finds the price of a product by its Amazon ASIN. | Parameters: {\"type\": \"dict\", \"properties\": {\"ASIN\": {\"type\": \"string\", \"description\": \"The Amazon ASIN of the product.\"}}, \"required\": [\"ASIN\"]}\\nget_price_by_amazon_ASIN: Finds the price of a product by its Amazon ASIN. | Parameters: {\"type\": \"dict\", \"properties\": {\"ASIN\": {\"type\": \"string\", \"description\": \"The Amazon ASIN of the product.\"}}, \"required\": [\"ASIN\"]}\\nget_prime_factors: Calculates the prime factors of a number. | Parameters: {\"type\": \"dict\", \"properties\": {\"number\": {\"type\": \"integer\", \"description\": \"The number to calculate the prime factors of.\"}}, \"required\": [\"number\"]}\\nretrieve_city_based_on_zipcode: Finds the city of a zipcode. | Parameters: {\"type\": \"dict\", \"properties\": {\"zipcode\": {\"type\": \"string\", \"description\": \"The zipcode of the city.\"}}, \"required\": [\"zipcode\"]}\\nmath_factorial: Calculates the factorial of a number. | Parameters: {\"type\": \"dict\", \"properties\": {\"n\": {\"type\": \"integer\", \"description\": \"The number to calculate the factorial of.\"}}, \"required\": [\"n\"]}\\nquadratic_roots: Calculates the roots of a quadratic equation. | Parameters: {\"type\": \"dict\", \"properties\": {\"a\": {\"type\": \"integer\", \"description\": \"The first coefficient.\"}, \"b\": {\"type\": \"integer\", \"description\": \"The second coefficient.\"}, \"c\": {\"type\": \"integer\", \"description\": \"The third coefficient.\"}}, \"required\": [\"a\", \"b\", \"c\"]}\\nadd_binary_numbers: Adds two binary numbers. | Parameters: {\"type\": \"dict\", \"properties\": {\"a\": {\"type\": \"string\", \"description\": \"The first binary number.\"}, \"b\": {\"type\": \"string\", \"description\": \"The second binary number.\"}}, \"required\": [\"a\", \"b\"]}\\nconvert_binary_to_decimal: Converts a binary number to a decimal number. | Parameters: {\"type\": \"dict\", \"properties\": {\"binary\": {\"type\": \"string\", \"description\": \"The binary number to convert.\"}}, \"required\": [\"binary\"]}\\nconvert_decimal_to_hex: Converts a decimal number to a hexadecimal number. | Parameters: {\"type\": \"dict\", \"properties\": {\"decimal\": {\"type\": \"integer\", \"description\": \"The decimal number to convert.\"}}, \"required\": [\"decimal\"]}\\nlinear_regression: Finds the linear regression of a set of points and evaluates it at a given point. | Parameters: {\"type\": \"dict\", \"properties\": {\"x\": {\"type\": \"array\", \"description\": \"The x coordinates of the points.\", \"items\": {\"type\": \"integer\"}}, \"y\": {\"type\": \"array\", \"description\": \"The y coordinates of the points.\", \"items\": {\"type\": \"integer\"}}, \"point\": {\"type\": \"integer\", \"description\": \"The point to calculate the linear regression at.\"}}, \"required\": [\"x\", \"y\", \"point\"]}\\ncalculate_slope: Calculates the slope of the linear regression line from a set of points. | Parameters: {\"type\": \"dict\", \"properties\": {\"x\": {\"type\": \"array\", \"description\": \"The x coordinates of the points.\", \"items\": {\"type\": \"integer\"}}, \"y\": {\"type\": \"array\", \"description\": \"The y coordinates of the points.\", \"items\": {\"type\": \"integer\"}}}, \"required\": [\"x\", \"y\"]}\\ncalculate_intercept: Calculates the y-intercept of the linear regression line from a set of points and a given slope. | Parameters: {\"type\": \"dict\", \"properties\": {\"x\": {\"type\": \"array\", \"description\": \"The x coordinates of the points.\", \"items\": {\"type\": \"integer\"}}, \"y\": {\"type\": \"array\", \"description\": \"The y coordinates of the points.\", \"items\": {\"type\": \"integer\"}}, \"slope\": {\"type\": \"integer\", \"description\": \"The slope of the linear regression line.\"}}, \"required\": [\"x\", \"y\", \"slope\"]}\\npredict_value: Predicts the value of y given the slope, intercept, and an x value. | Parameters: {\"type\": \"dict\", \"properties\": {\"slope\": {\"type\": \"integer\", \"description\": \"The slope of the linear regression line.\"}, \"intercept\": {\"type\": \"integer\", \"description\": \"The y-intercept of the linear regression line.\"}, \"x\": {\"type\": \"integer\", \"description\": \"The x value to predict the y for.\"}}, \"required\": [\"slope\", \"intercept\", \"x\"]}\\ncalculate_investment_value: Calculates the value of an investment over time. | Parameters: {\"type\": \"dict\", \"properties\": {\"initial_investment\": {\"type\": \"integer\", \"description\": \"The initial investment amount.\"}, \"annual_contribution\": {\"type\": \"integer\", \"description\": \"The annual contribution amount.\"}, \"years\": {\"type\": \"integer\", \"description\": \"The number of years to calculate the investment value for.\"}, \"annual_return\": {\"type\": \"float\", \"description\": \"The annual return rate, ranging from 0 to 1.\"}, \"inflation_rate\": {\"type\": \"array\", \"items\": {\"type\": \"float\"}, \"description\": \"The inflation rate for each year in percentage, ranging from 0 to 1.\"}, \"adjust_for_inflation\": {\"type\": \"boolean\", \"default\": true, \"description\": \"Whether to adjust the investment value for inflation.\"}}, \"required\": [\"initial_investment\", \"annual_contribution\", \"years\", \"annual_return\", \"inflation_rate\"]}\\ncompound_interest: Calculates compound interest over time. | Parameters: {\"type\": \"dict\", \"properties\": {\"principal\": {\"type\": \"integer\", \"description\": \"The principal amount.\"}, \"rate\": {\"type\": \"float\", \"description\": \"The annual interest rate.\"}, \"times_compounded\": {\"type\": \"integer\", \"description\": \"The number of times the interest is compounded per year.\"}, \"years\": {\"type\": \"integer\", \"description\": \"The number of years to calculate the compound interest for.\"}}, \"required\": [\"principal\", \"rate\", \"times_compounded\", \"years\"]}\\ninflation_adjustment: Adjusts an amount for inflation. | Parameters: {\"type\": \"dict\", \"properties\": {\"amount\": {\"type\": \"float\", \"description\": \"The amount to adjust for inflation.\"}, \"inflation_rate\": {\"type\": \"float\", \"description\": \"The annual inflation float.\"}, \"years\": {\"type\": \"integer\", \"description\": \"The number of years to adjust for inflation.\"}}, \"required\": [\"amount\", \"inflation_rate\", \"years\"]}\\nadjust_for_inflation: Adjusts the investment value for inflation for each year. | Parameters: {\"type\": \"dict\", \"properties\": {\"investment_value\": {\"type\": \"float\", \"description\": \"The value of the investment to adjust.\"}, \"inflation_rates\": {\"type\": \"array\", \"items\": {\"type\": \"float\"}, \"description\": \"The inflation rates for each year.\"}}, \"required\": [\"investment_value\", \"inflation_rates\"]}\\ncalculate_basal_metabolic_rate: Calculates the Basal Metabolic Rate (BMR) of a person. | Parameters: {\"type\": \"dict\", \"properties\": {\"weight\": {\"type\": \"float\", \"description\": \"The weight of the person in kilograms.\"}, \"height\": {\"type\": \"float\", \"description\": \"The height of the person in centimeters.\"}, \"age\": {\"type\": \"float\", \"description\": \"The age of the person in years.\"}, \"gender\": {\"type\": \"string\", \"description\": \"The gender of the person. Possible options [male, female, other].\"}}, \"required\": [\"weight\", \"height\", \"age\", \"gender\"]}\\ncalculate_daily_energy_expenditure: Calculates the daily energy expenditure based on BMR and activity level. | Parameters: {\"type\": \"dict\", \"properties\": {\"basal_metabolic_rate\": {\"type\": \"float\", \"description\": \"The BMR of the person.\"}, \"activity_level\": {\"type\": \"float\", \"description\": \"The activity level of the person. Possible options [1,2,3,4,5].\"}}, \"required\": [\"basal_metabolic_rate\", \"activity_level\"]}\\ncalculate_nutritional_needs: Calculates the nutritional needs of a person based on their weight, height, age, gender, activity level, and goal. | Parameters: {\"type\": \"dict\", \"properties\": {\"weight\": {\"type\": \"float\", \"description\": \"The weight of the person in kilograms.\"}, \"height\": {\"type\": \"float\", \"description\": \"The height of the person in centimeters.\"}, \"age\": {\"type\": \"float\", \"description\": \"The age of the person in years.\"}, \"gender\": {\"type\": \"string\", \"description\": \"The gender of the person. Possible options [male, female, other].\"}, \"activity_level\": {\"type\": \"float\", \"description\": \"The activity level of the person. Possible options [1,2,3,4,5].\"}, \"goal\": {\"type\": \"string\", \"description\": \"The goal of the person. Possible options [lose, gain, maintain].\"}}, \"required\": [\"weight\", \"height\", \"age\", \"gender\", \"activity_level\", \"goal\"]}\\nbook_room: Books a room for a customer. | Parameters: {\"type\": \"dict\", \"properties\": {\"room_type\": {\"type\": \"dict\", \"description\": \"The room type to book.\"}, \"check_in_date\": {\"type\": \"string\", \"description\": \"The check-in date in format of MM-DD-YYYY.\"}, \"check_out_date\": {\"type\": \"string\", \"description\": \"The check-out date in format of MM-DD-YYYY.\"}, \"customer_id\": {\"type\": \"string\", \"description\": \"The customer ID.\"}, \"discount_code\": {\"type\": \"string\", \"description\": \"The discount code (if any).\", \"default\": null}}, \"required\": [\"room_type\", \"check_in_date\", \"check_out_date\", \"customer_id\"]}\\ncalculate_total_price: Calculates the total price of the room booking. | Parameters: {\"type\": \"dict\", \"properties\": {\"room_price\": {\"type\": \"float\", \"description\": \"The price per night of the room.\"}, \"nights\": {\"type\": \"integer\", \"description\": \"The number of nights for the booking.\"}, \"discount\": {\"type\": \"float\", \"description\": \"The discount amount (if any).\", \"default\": 0}}, \"required\": [\"room_price\", \"nights\"]}\\nconfirm_booking: Confirms the room booking and sends a confirmation to the customer. | Parameters: {\"type\": \"dict\", \"properties\": {\"customer_id\": {\"type\": \"string\", \"description\": \"The customer ID.\"}, \"room_number\": {\"type\": \"string\", \"description\": \"The room number assigned to the booking.\"}, \"total_price\": {\"type\": \"float\", \"description\": \"The total price for the booking.\"}}, \"required\": [\"customer_id\", \"room_number\", \"total_price\"]}\\norder_food: Orders food for a customer. Return the total price. | Parameters: {\"type\": \"dict\", \"properties\": {\"item\": {\"type\": \"array\", \"items\": {\"type\": \"string\"}, \"description\": \"the name of the product.\"}, \"quantity\": {\"type\": \"array\", \"items\": {\"type\": \"integer\"}, \"description\": \"the number of the product purchased.\"}, \"price\": {\"type\": \"array\", \"items\": {\"type\": \"float\"}, \"description\": \"the price of the product.\"}}, \"required\": [\"item\", \"quantity\", \"price\"]}\\ncalculate_total: Calculates the total price of an order given the quantities and prices. | Parameters: {\"type\": \"dict\", \"properties\": {\"quantities\": {\"type\": \"array\", \"items\": {\"type\": \"integer\"}, \"description\": \"The quantities of each product.\"}, \"prices\": {\"type\": \"array\", \"items\": {\"type\": \"float\"}, \"description\": \"The price of each product.\"}}, \"required\": [\"quantities\", \"prices\"]}\\napply_discount: Applies a discount to the total price. | Parameters: {\"type\": \"dict\", \"properties\": {\"total\": {\"type\": \"float\", \"description\": \"The original total price.\"}, \"discount\": {\"type\": \"float\", \"description\": \"The discount percentage to apply.\"}}, \"required\": [\"total\", \"discount\"]}\\nget_movie_director: Fetches the director of a movie from the OMDB API. | Parameters: {\"type\": \"dict\", \"properties\": {\"movie_name\": {\"type\": \"string\", \"description\": \"The name of the movie.\"}}, \"required\": [\"movie_name\"]}\\ncalculate_interest_rate: Calculates the interest rate for a given principal, rate, and time. | Parameters: {\"type\": \"dict\", \"properties\": {\"principal\": {\"type\": \"float\", \"description\": \"The initial amount of money.\"}, \"rate\": {\"type\": \"float\", \"description\": \"The interest rate per period.\"}, \"time\": {\"type\": \"float\", \"description\": \"The time the money is invested or borrowed for.\"}}, \"required\": [\"principal\", \"rate\", \"time\"]}\\nconvert_temperature: Converts temperature from Celsius to Fahrenheit or vice versa. | Parameters: {\"type\": \"dict\", \"properties\": {\"temperature\": {\"type\": \"float\", \"description\": \"The temperature to convert.\"}, \"unit_from\": {\"type\": \"string\", \"description\": \"The current unit of the temperature (Celsius or Fahrenheit).\"}, \"unit_to\": {\"type\": \"string\", \"description\": \"The unit to convert the temperature to (Celsius or Fahrenheit).\"}}, \"required\": [\"temperature\", \"unit_from\", \"unit_to\"]}\\ngenerate_random_number: Generates a random number within a specified range. | Parameters: {\"type\": \"dict\", \"properties\": {\"min\": {\"type\": \"integer\", \"description\": \"The minimum value of the range.\"}, \"max\": {\"type\": \"integer\", \"description\": \"The maximum value of the range.\"}}, \"required\": [\"min\", \"max\"]}\\nget_movie_rating: Fetches the age rating of a movie from the OMDB API. | Parameters: {\"type\": \"dict\", \"properties\": {\"movie_name\": {\"type\": \"string\", \"description\": \"The name of the movie.\"}}, \"required\": [\"movie_name\"]}\\nget_movie_genre: Retrieves the genre of a movie from the OMDB API. | Parameters: {\"type\": \"dict\", \"properties\": {\"movie_name\": {\"type\": \"string\", \"description\": \"The name of the movie to retrieve the genre for.\"}}, \"required\": [\"movie_name\"]}\\nget_director_by_movie_name: Gets the director of a movie. | Parameters: {\"type\": \"dict\", \"properties\": {\"movie_name\": {\"type\": \"string\", \"description\": \"The movie to find the director of.\"}}, \"required\": [\"movie_name\"]}\\nconvert_coordinates: Converts a list of tuples into a list of lists. | Parameters: {\"type\": \"dict\", \"properties\": {\"coordinates\": {\"type\": \"array\", \"items\": {\"type\": \"tuple\", \"items\": {\"type\": \"float\"}, \"description\": \"A single coordinate represented by a tuple (x, y).\"}, \"description\": \"The coordinates to be converted, where each coordinate is a tuple (x, y).\"}}, \"required\": [\"coordinates\"]}\\npolygon_area: Calculate the area of a polygon given its vertices using the shoelace formula. | Parameters: {\"type\": \"dict\", \"properties\": {\"vertices\": {\"type\": \"array\", \"items\": {\"type\": \"array\", \"items\": {\"type\": \"float\"}, \"minItems\": 2, \"maxItems\": 2, \"description\": \"A single vertex represented by a 2 element list [x, y].\"}, \"description\": \"The vertices of the polygon, where each vertex is a 2 element list [x, y].\"}}, \"required\": [\"vertices\"]}\\nvalidate_polygon: Checks if the given vertices form a valid polygon. | Parameters: {\"type\": \"dict\", \"properties\": {\"vertices\": {\"type\": \"array\", \"items\": {\"type\": \"array\", \"items\": {\"type\": \"float\"}, \"description\": \"A single vertex represented by a 2 element list [x, y].\"}, \"description\": \"The vertices of the polygon, where each vertex is a 2 element list [x, y].\"}}, \"required\": [\"vertices\"]}</td>\n",
       "    </tr>\n",
       "    <tr>\n",
       "      <th>1</th>\n",
       "      <td>I'm working on a machine learning model, comparing the characteristics of two objects. The feature vectors for these objects are [0.5, 0.7, 0.2, 0.9, 0.1] for the first object and [0.4, 0.6, 0.3, 0.8, 0.2] for the second. To understand how similar these objects are, I need to calculate the cosine similarity between these two vectors. Can you help me with that?</td>\n",
       "      <td>calculate_cosine_similarity(vectorA=[0.5, 0.7, 0.2, 0.9, 0.1], vectorB=[0.4, 0.6, 0.3, 0.8, 0.2])</td>\n",
       "      <td>get_weather_data: Fetches weather data from the Open-Meteo API for the given latitude and longitude. | Parameters: {\"type\": \"dict\", \"properties\": {\"coordinates\": {\"type\": \"array\", \"items\": {\"type\": \"float\"}, \"description\": \"The latitude and longitude of the location.\"}}, \"required\": [\"coordinates\"]}\\ncalc_binomial_probability: Calculates the probability of getting k successes in n trials. | Parameters: {\"type\": \"dict\", \"properties\": {\"n\": {\"type\": \"integer\", \"description\": \"The number of trials.\"}, \"k\": {\"type\": \"integer\", \"description\": \"The number of successes.\"}, \"p\": {\"type\": \"float\", \"description\": \"The probability of success.\"}}, \"required\": [\"n\", \"k\", \"p\"]}\\ncalculate_cosine_similarity: Calculates the cosine similarity of two vectors. | Parameters: {\"type\": \"dict\", \"properties\": {\"vectorA\": {\"type\": \"array\", \"items\": {\"type\": \"float\"}, \"description\": \"The first vector.\"}, \"vectorB\": {\"type\": \"array\", \"items\": {\"type\": \"float\"}, \"description\": \"The second vector.\"}}, \"required\": [\"vectorA\", \"vectorB\"]}\\nget_stock_price_by_stock_name: Finds the price of a stock by its stock name. | Parameters: {\"type\": \"dict\", \"properties\": {\"stock_name\": {\"type\": \"string\", \"description\": \"The stock name of the product, in the format of the stock symbol.\"}}, \"required\": [\"stock_name\"]}\\ncalculate_density: Calculates the density of an object. | Parameters: {\"type\": \"dict\", \"properties\": {\"mass\": {\"type\": \"float\", \"description\": \"The mass of the object, in kilograms.\"}, \"volume\": {\"type\": \"float\", \"description\": \"The volume of the object, in cubic meters.\"}}, \"required\": [\"mass\", \"volume\"]}\\ncalculate_future_value: Calculates the future value of an investment. | Parameters: {\"type\": \"dict\", \"properties\": {\"present_value\": {\"type\": \"float\", \"description\": \"The present value of the investment, in dollars.\"}, \"interest_rate\": {\"type\": \"float\", \"description\": \"The interest rate of the investment, ranging from 0 to 1.\"}, \"periods\": {\"type\": \"integer\", \"description\": \"The number of periods, in years.\"}}, \"required\": [\"present_value\", \"interest_rate\", \"periods\"]}\\nget_rating_by_amazon_ASIN: Finds the rating of a product by its Amazon ASIN. | Parameters: {\"type\": \"dict\", \"properties\": {\"ASIN\": {\"type\": \"string\", \"description\": \"The Amazon ASIN of the product.\"}}, \"required\": [\"ASIN\"]}\\nretrieve_holiday_by_year: Finds the holidays of a year. | Parameters: {\"type\": \"dict\", \"properties\": {\"year\": {\"type\": \"string\", \"description\": \"The year of the holidays.\"}, \"country\": {\"type\": \"string\", \"description\": \"The country of the holidays. Possible options: US, AT, DE, ES, FR, GB, IT, NL, PL, RO, SK, UA.\"}}, \"required\": [\"year\", \"country\"]}\\ncalculate_displacement: Calculates the displacement of an object. | Parameters: {\"type\": \"dict\", \"properties\": {\"initial_velocity\": {\"type\": \"float\", \"description\": \"The initial velocity of the object, in meters per second.\"}, \"acceleration\": {\"type\": \"float\", \"description\": \"The acceleration of the object, in meters per second squared.\"}, \"time\": {\"type\": \"float\", \"description\": \"The time the object has been moving, in seconds.\"}}, \"required\": [\"initial_velocity\", \"acceleration\", \"time\"]}\\nget_zipcode_by_ip_address: Finds the zipcode of an IP address. | Parameters: {\"type\": \"dict\", \"properties\": {\"ip_address\": {\"type\": \"string\", \"description\": \"The IP address to find the location of.\"}}, \"required\": [\"ip_address\"]}\\ncalculate_electrostatic_potential_energy: Calculates the electrostatic potential energy. | Parameters: {\"type\": \"dict\", \"properties\": {\"charge\": {\"type\": \"float\", \"description\": \"The charge of the object, in coulombs.\"}, \"voltage\": {\"type\": \"float\", \"description\": \"The voltage of the object, in volts.\"}}, \"required\": [\"charge\", \"voltage\"]}\\nmortgage_calculator: Calculates the monthly mortgage payment. | Parameters: {\"type\": \"dict\", \"properties\": {\"loan_amount\": {\"type\": \"float\", \"description\": \"The amount of the loan.\"}, \"interest_rate\": {\"type\": \"float\", \"description\": \"The interest rate of the loan, ranging from 0 to 1.\"}, \"loan_period\": {\"type\": \"integer\", \"description\": \"The period of the loan, in years.\"}}, \"required\": [\"loan_amount\", \"interest_rate\", \"loan_period\"]}\\ncalculate_final_velocity: Calculates the final velocity of an object. | Parameters: {\"type\": \"dict\", \"properties\": {\"initial_velocity\": {\"type\": \"float\", \"description\": \"The initial velocity of the object.\"}, \"acceleration\": {\"type\": \"float\", \"description\": \"The acceleration of the object.\"}, \"time\": {\"type\": \"float\", \"description\": \"The time the object has been moving.\"}}, \"required\": [\"initial_velocity\", \"acceleration\", \"time\"]}\\nget_fibonacci_sequence: Calculates the n numbers of the Fibonacci. | Parameters: {\"type\": \"dict\", \"properties\": {\"n\": {\"type\": \"integer\", \"description\": \"The number of Fibonacci numbers to calculate.\"}}, \"required\": [\"n\"]}\\nsort_array: Sorts an array of numbers. | Parameters: {\"type\": \"dict\", \"properties\": {\"array\": {\"type\": \"array\", \"items\": {\"type\": \"float\"}, \"description\": \"The array of numbers.\"}, \"reverse\": {\"type\": \"boolean\", \"description\": \"Whether to sort the array in reverse order, i.e., descending order.\", \"default\": false}}, \"required\": [\"array\"]}\\nget_time_zone_by_coord: Finds the timezone of a coordinate. | Parameters: {\"type\": \"dict\", \"properties\": {\"long\": {\"type\": \"string\", \"description\": \"The longitude of the coordinate.\"}, \"lat\": {\"type\": \"string\", \"description\": \"The latitude of the coordinate.\"}}, \"required\": [\"long\", \"lat\"]}\\ncalculate_mean: Calculates the mean of a list of numbers. | Parameters: {\"type\": \"dict\", \"properties\": {\"numbers\": {\"type\": \"array\", \"items\": {\"type\": \"integer\"}, \"description\": \"The list of numbers.\"}}, \"required\": [\"numbers\"]}\\ncalculate_permutations: Calculates the number of permutations of k elements from a set of n elements. | Parameters: {\"type\": \"dict\", \"properties\": {\"n\": {\"type\": \"integer\", \"description\": \"The number of elements in the set.\"}, \"k\": {\"type\": \"integer\", \"description\": \"The number of elements to choose.\"}}, \"required\": [\"n\", \"k\"]}\\nget_company_name_by_stock_name: Finds the company name of a stock by its stock name. | Parameters: {\"type\": \"dict\", \"properties\": {\"stock_name\": {\"type\": \"string\", \"description\": \"The stock name of the product, in the format of the stock symbol.\"}}, \"required\": [\"stock_name\"]}\\ncalculate_standard_deviation: Calculates the standard deviation of a list of numbers. | Parameters: {\"type\": \"dict\", \"properties\": {\"numbers\": {\"type\": \"array\", \"items\": {\"type\": \"integer\"}, \"description\": \"The list of numbers.\"}}, \"required\": [\"numbers\"]}\\nmath_lcm: Calculates the least common multiple of two numbers. | Parameters: {\"type\": \"dict\", \"properties\": {\"a\": {\"type\": \"integer\", \"description\": \"The first number. This should be the larger number.\"}, \"b\": {\"type\": \"integer\", \"description\": \"The second number.\"}}, \"required\": [\"a\", \"b\"]}\\ncalculate_triangle_area: Calculates the area of a triangle given its base and height. | Parameters: {\"type\": \"dict\", \"properties\": {\"base\": {\"type\": \"integer\", \"description\": \"The base of the triangle, in meters.\"}, \"height\": {\"type\": \"integer\", \"description\": \"The height of the triangle, in meters.\"}}, \"required\": [\"base\", \"height\"]}\\nconvert_currency: Converts a given amount from one currency to another using the ExchangeRate-API. | Parameters: {\"type\": \"dict\", \"properties\": {\"amount\": {\"type\": \"float\", \"description\": \"The amount of money to convert, in the base currency.\"}, \"from_currency\": {\"type\": \"string\", \"description\": \"The ISO currency code for the base currency.\"}, \"to_currency\": {\"type\": \"string\", \"description\": \"The ISO currency code for the target currency.\"}}, \"required\": [\"amount\", \"from_currency\", \"to_currency\"]}\\nget_stock_history: Finds the price of a stock by its stock name. | Parameters: {\"type\": \"dict\", \"properties\": {\"stock_name\": {\"type\": \"string\", \"description\": \"The stock name of the product, in the format of the stock symbol.\"}, \"interval\": {\"type\": \"string\", \"description\": \"The interval of the stock history. Allows one of following : 5m|15m|30m|1h|1d|1wk|1mo|3mo\"}, \"diffandsplits\": {\"type\": \"string\", \"description\": \"The diff and splits of the stock history. Allows one of following : true|false. Default to false\"}}, \"required\": [\"stock_name\", \"interval\"]}\\nmath_gcd: Calculates the greatest common divisor of two numbers. | Parameters: {\"type\": \"dict\", \"properties\": {\"a\": {\"type\": \"integer\", \"description\": \"The first number. This should be the larger number.\"}, \"b\": {\"type\": \"integer\", \"description\": \"The second number.\"}}, \"required\": [\"a\", \"b\"]}\\nestimate_derivative: Estimate the derivative of a function at a given point. | Parameters: {\"type\": \"dict\", \"properties\": {\"function\": {\"type\": \"string\", \"description\": \"The function to calculate the derivative of. This should be the string literal of lambda function\"}, \"x\": {\"type\": \"integer\", \"description\": \"The point to calculate the derivative at.\"}}, \"required\": [\"function\", \"x\"]}\\nfind_term_on_urban_dictionary: Finds the definition of a term on Urban Dictionary. | Parameters: {\"type\": \"dict\", \"properties\": {\"term\": {\"type\": \"string\", \"description\": \"The term to find the definition of.\"}}, \"required\": [\"term\"]}\\nget_distance: Calculates the distance between two 2D points. | Parameters: {\"type\": \"dict\", \"properties\": {\"pointA\": {\"type\": \"tuple\", \"description\": \"The first point.\", \"items\": {\"type\": \"float\"}}, \"pointB\": {\"type\": \"tuple\", \"description\": \"The second point.\", \"items\": {\"type\": \"float\"}}}, \"required\": [\"pointA\", \"pointB\"]}\\ngeometry_area_circle: Calculates the area of a circle. | Parameters: {\"type\": \"dict\", \"properties\": {\"radius\": {\"type\": \"integer\", \"description\": \"The radius of the circle, in feet.\"}}, \"required\": [\"radius\"]}\\nget_covid_death_by_country: Finds the most up to date total deaths of a country result from COVID. | Parameters: {\"type\": \"dict\", \"properties\": {\"country\": {\"type\": \"string\", \"description\": \"The country to find the total deaths of, in the format of the country's full name.\"}}, \"required\": [\"country\"]}\\nget_active_covid_case_by_country: Finds the most up to date active cases of a country result from COVID. | Parameters: {\"type\": \"dict\", \"properties\": {\"country\": {\"type\": \"string\", \"description\": \"The country to find the active cases of, in the format of the country's full name.\"}}, \"required\": [\"country\"]}\\nmat_mul: Multiplies two matrices. | Parameters: {\"type\": \"dict\", \"properties\": {\"matA\": {\"type\": \"array\", \"description\": \"The first matrix.\", \"items\": {\"type\": \"array\", \"items\": {\"type\": \"integer\"}}}, \"matB\": {\"type\": \"array\", \"description\": \"The second matrix.\", \"items\": {\"type\": \"array\", \"items\": {\"type\": \"integer\"}}}}, \"required\": [\"matA\", \"matB\"]}\\nget_coordinate_by_ip_address: Finds the latitude and longitude of an IP address. | Parameters: {\"type\": \"dict\", \"properties\": {\"ip_address\": {\"type\": \"string\", \"description\": \"The IP address to find the location of.\"}}, \"required\": [\"ip_address\"]}\\nget_coordinates_from_city: Fetches the latitude and longitude of a given city name using the Maps.co Geocoding API. | Parameters: {\"type\": \"dict\", \"properties\": {\"city_name\": {\"type\": \"string\", \"description\": \"The name of the city, such as 'Rome'.\"}}, \"required\": [\"city_name\"]}\\nget_product_name_by_amazon_ASIN: Finds the price of a product by its Amazon ASIN. | Parameters: {\"type\": \"dict\", \"properties\": {\"ASIN\": {\"type\": \"string\", \"description\": \"The Amazon ASIN of the product.\"}}, \"required\": [\"ASIN\"]}\\nget_price_by_amazon_ASIN: Finds the price of a product by its Amazon ASIN. | Parameters: {\"type\": \"dict\", \"properties\": {\"ASIN\": {\"type\": \"string\", \"description\": \"The Amazon ASIN of the product.\"}}, \"required\": [\"ASIN\"]}\\nget_prime_factors: Calculates the prime factors of a number. | Parameters: {\"type\": \"dict\", \"properties\": {\"number\": {\"type\": \"integer\", \"description\": \"The number to calculate the prime factors of.\"}}, \"required\": [\"number\"]}\\nretrieve_city_based_on_zipcode: Finds the city of a zipcode. | Parameters: {\"type\": \"dict\", \"properties\": {\"zipcode\": {\"type\": \"string\", \"description\": \"The zipcode of the city.\"}}, \"required\": [\"zipcode\"]}\\nmath_factorial: Calculates the factorial of a number. | Parameters: {\"type\": \"dict\", \"properties\": {\"n\": {\"type\": \"integer\", \"description\": \"The number to calculate the factorial of.\"}}, \"required\": [\"n\"]}\\nquadratic_roots: Calculates the roots of a quadratic equation. | Parameters: {\"type\": \"dict\", \"properties\": {\"a\": {\"type\": \"integer\", \"description\": \"The first coefficient.\"}, \"b\": {\"type\": \"integer\", \"description\": \"The second coefficient.\"}, \"c\": {\"type\": \"integer\", \"description\": \"The third coefficient.\"}}, \"required\": [\"a\", \"b\", \"c\"]}\\nadd_binary_numbers: Adds two binary numbers. | Parameters: {\"type\": \"dict\", \"properties\": {\"a\": {\"type\": \"string\", \"description\": \"The first binary number.\"}, \"b\": {\"type\": \"string\", \"description\": \"The second binary number.\"}}, \"required\": [\"a\", \"b\"]}\\nconvert_binary_to_decimal: Converts a binary number to a decimal number. | Parameters: {\"type\": \"dict\", \"properties\": {\"binary\": {\"type\": \"string\", \"description\": \"The binary number to convert.\"}}, \"required\": [\"binary\"]}\\nconvert_decimal_to_hex: Converts a decimal number to a hexadecimal number. | Parameters: {\"type\": \"dict\", \"properties\": {\"decimal\": {\"type\": \"integer\", \"description\": \"The decimal number to convert.\"}}, \"required\": [\"decimal\"]}\\nlinear_regression: Finds the linear regression of a set of points and evaluates it at a given point. | Parameters: {\"type\": \"dict\", \"properties\": {\"x\": {\"type\": \"array\", \"description\": \"The x coordinates of the points.\", \"items\": {\"type\": \"integer\"}}, \"y\": {\"type\": \"array\", \"description\": \"The y coordinates of the points.\", \"items\": {\"type\": \"integer\"}}, \"point\": {\"type\": \"integer\", \"description\": \"The point to calculate the linear regression at.\"}}, \"required\": [\"x\", \"y\", \"point\"]}\\ncalculate_slope: Calculates the slope of the linear regression line from a set of points. | Parameters: {\"type\": \"dict\", \"properties\": {\"x\": {\"type\": \"array\", \"description\": \"The x coordinates of the points.\", \"items\": {\"type\": \"integer\"}}, \"y\": {\"type\": \"array\", \"description\": \"The y coordinates of the points.\", \"items\": {\"type\": \"integer\"}}}, \"required\": [\"x\", \"y\"]}\\ncalculate_intercept: Calculates the y-intercept of the linear regression line from a set of points and a given slope. | Parameters: {\"type\": \"dict\", \"properties\": {\"x\": {\"type\": \"array\", \"description\": \"The x coordinates of the points.\", \"items\": {\"type\": \"integer\"}}, \"y\": {\"type\": \"array\", \"description\": \"The y coordinates of the points.\", \"items\": {\"type\": \"integer\"}}, \"slope\": {\"type\": \"integer\", \"description\": \"The slope of the linear regression line.\"}}, \"required\": [\"x\", \"y\", \"slope\"]}\\npredict_value: Predicts the value of y given the slope, intercept, and an x value. | Parameters: {\"type\": \"dict\", \"properties\": {\"slope\": {\"type\": \"integer\", \"description\": \"The slope of the linear regression line.\"}, \"intercept\": {\"type\": \"integer\", \"description\": \"The y-intercept of the linear regression line.\"}, \"x\": {\"type\": \"integer\", \"description\": \"The x value to predict the y for.\"}}, \"required\": [\"slope\", \"intercept\", \"x\"]}\\ncalculate_investment_value: Calculates the value of an investment over time. | Parameters: {\"type\": \"dict\", \"properties\": {\"initial_investment\": {\"type\": \"integer\", \"description\": \"The initial investment amount.\"}, \"annual_contribution\": {\"type\": \"integer\", \"description\": \"The annual contribution amount.\"}, \"years\": {\"type\": \"integer\", \"description\": \"The number of years to calculate the investment value for.\"}, \"annual_return\": {\"type\": \"float\", \"description\": \"The annual return rate, ranging from 0 to 1.\"}, \"inflation_rate\": {\"type\": \"array\", \"items\": {\"type\": \"float\"}, \"description\": \"The inflation rate for each year in percentage, ranging from 0 to 1.\"}, \"adjust_for_inflation\": {\"type\": \"boolean\", \"default\": true, \"description\": \"Whether to adjust the investment value for inflation.\"}}, \"required\": [\"initial_investment\", \"annual_contribution\", \"years\", \"annual_return\", \"inflation_rate\"]}\\ncompound_interest: Calculates compound interest over time. | Parameters: {\"type\": \"dict\", \"properties\": {\"principal\": {\"type\": \"integer\", \"description\": \"The principal amount.\"}, \"rate\": {\"type\": \"float\", \"description\": \"The annual interest rate.\"}, \"times_compounded\": {\"type\": \"integer\", \"description\": \"The number of times the interest is compounded per year.\"}, \"years\": {\"type\": \"integer\", \"description\": \"The number of years to calculate the compound interest for.\"}}, \"required\": [\"principal\", \"rate\", \"times_compounded\", \"years\"]}\\ninflation_adjustment: Adjusts an amount for inflation. | Parameters: {\"type\": \"dict\", \"properties\": {\"amount\": {\"type\": \"float\", \"description\": \"The amount to adjust for inflation.\"}, \"inflation_rate\": {\"type\": \"float\", \"description\": \"The annual inflation float.\"}, \"years\": {\"type\": \"integer\", \"description\": \"The number of years to adjust for inflation.\"}}, \"required\": [\"amount\", \"inflation_rate\", \"years\"]}\\nadjust_for_inflation: Adjusts the investment value for inflation for each year. | Parameters: {\"type\": \"dict\", \"properties\": {\"investment_value\": {\"type\": \"float\", \"description\": \"The value of the investment to adjust.\"}, \"inflation_rates\": {\"type\": \"array\", \"items\": {\"type\": \"float\"}, \"description\": \"The inflation rates for each year.\"}}, \"required\": [\"investment_value\", \"inflation_rates\"]}\\ncalculate_basal_metabolic_rate: Calculates the Basal Metabolic Rate (BMR) of a person. | Parameters: {\"type\": \"dict\", \"properties\": {\"weight\": {\"type\": \"float\", \"description\": \"The weight of the person in kilograms.\"}, \"height\": {\"type\": \"float\", \"description\": \"The height of the person in centimeters.\"}, \"age\": {\"type\": \"float\", \"description\": \"The age of the person in years.\"}, \"gender\": {\"type\": \"string\", \"description\": \"The gender of the person. Possible options [male, female, other].\"}}, \"required\": [\"weight\", \"height\", \"age\", \"gender\"]}\\ncalculate_daily_energy_expenditure: Calculates the daily energy expenditure based on BMR and activity level. | Parameters: {\"type\": \"dict\", \"properties\": {\"basal_metabolic_rate\": {\"type\": \"float\", \"description\": \"The BMR of the person.\"}, \"activity_level\": {\"type\": \"float\", \"description\": \"The activity level of the person. Possible options [1,2,3,4,5].\"}}, \"required\": [\"basal_metabolic_rate\", \"activity_level\"]}\\ncalculate_nutritional_needs: Calculates the nutritional needs of a person based on their weight, height, age, gender, activity level, and goal. | Parameters: {\"type\": \"dict\", \"properties\": {\"weight\": {\"type\": \"float\", \"description\": \"The weight of the person in kilograms.\"}, \"height\": {\"type\": \"float\", \"description\": \"The height of the person in centimeters.\"}, \"age\": {\"type\": \"float\", \"description\": \"The age of the person in years.\"}, \"gender\": {\"type\": \"string\", \"description\": \"The gender of the person. Possible options [male, female, other].\"}, \"activity_level\": {\"type\": \"float\", \"description\": \"The activity level of the person. Possible options [1,2,3,4,5].\"}, \"goal\": {\"type\": \"string\", \"description\": \"The goal of the person. Possible options [lose, gain, maintain].\"}}, \"required\": [\"weight\", \"height\", \"age\", \"gender\", \"activity_level\", \"goal\"]}\\nbook_room: Books a room for a customer. | Parameters: {\"type\": \"dict\", \"properties\": {\"room_type\": {\"type\": \"dict\", \"description\": \"The room type to book.\"}, \"check_in_date\": {\"type\": \"string\", \"description\": \"The check-in date in format of MM-DD-YYYY.\"}, \"check_out_date\": {\"type\": \"string\", \"description\": \"The check-out date in format of MM-DD-YYYY.\"}, \"customer_id\": {\"type\": \"string\", \"description\": \"The customer ID.\"}, \"discount_code\": {\"type\": \"string\", \"description\": \"The discount code (if any).\", \"default\": null}}, \"required\": [\"room_type\", \"check_in_date\", \"check_out_date\", \"customer_id\"]}\\ncalculate_total_price: Calculates the total price of the room booking. | Parameters: {\"type\": \"dict\", \"properties\": {\"room_price\": {\"type\": \"float\", \"description\": \"The price per night of the room.\"}, \"nights\": {\"type\": \"integer\", \"description\": \"The number of nights for the booking.\"}, \"discount\": {\"type\": \"float\", \"description\": \"The discount amount (if any).\", \"default\": 0}}, \"required\": [\"room_price\", \"nights\"]}\\nconfirm_booking: Confirms the room booking and sends a confirmation to the customer. | Parameters: {\"type\": \"dict\", \"properties\": {\"customer_id\": {\"type\": \"string\", \"description\": \"The customer ID.\"}, \"room_number\": {\"type\": \"string\", \"description\": \"The room number assigned to the booking.\"}, \"total_price\": {\"type\": \"float\", \"description\": \"The total price for the booking.\"}}, \"required\": [\"customer_id\", \"room_number\", \"total_price\"]}\\norder_food: Orders food for a customer. Return the total price. | Parameters: {\"type\": \"dict\", \"properties\": {\"item\": {\"type\": \"array\", \"items\": {\"type\": \"string\"}, \"description\": \"the name of the product.\"}, \"quantity\": {\"type\": \"array\", \"items\": {\"type\": \"integer\"}, \"description\": \"the number of the product purchased.\"}, \"price\": {\"type\": \"array\", \"items\": {\"type\": \"float\"}, \"description\": \"the price of the product.\"}}, \"required\": [\"item\", \"quantity\", \"price\"]}\\ncalculate_total: Calculates the total price of an order given the quantities and prices. | Parameters: {\"type\": \"dict\", \"properties\": {\"quantities\": {\"type\": \"array\", \"items\": {\"type\": \"integer\"}, \"description\": \"The quantities of each product.\"}, \"prices\": {\"type\": \"array\", \"items\": {\"type\": \"float\"}, \"description\": \"The price of each product.\"}}, \"required\": [\"quantities\", \"prices\"]}\\napply_discount: Applies a discount to the total price. | Parameters: {\"type\": \"dict\", \"properties\": {\"total\": {\"type\": \"float\", \"description\": \"The original total price.\"}, \"discount\": {\"type\": \"float\", \"description\": \"The discount percentage to apply.\"}}, \"required\": [\"total\", \"discount\"]}\\nget_movie_director: Fetches the director of a movie from the OMDB API. | Parameters: {\"type\": \"dict\", \"properties\": {\"movie_name\": {\"type\": \"string\", \"description\": \"The name of the movie.\"}}, \"required\": [\"movie_name\"]}\\ncalculate_interest_rate: Calculates the interest rate for a given principal, rate, and time. | Parameters: {\"type\": \"dict\", \"properties\": {\"principal\": {\"type\": \"float\", \"description\": \"The initial amount of money.\"}, \"rate\": {\"type\": \"float\", \"description\": \"The interest rate per period.\"}, \"time\": {\"type\": \"float\", \"description\": \"The time the money is invested or borrowed for.\"}}, \"required\": [\"principal\", \"rate\", \"time\"]}\\nconvert_temperature: Converts temperature from Celsius to Fahrenheit or vice versa. | Parameters: {\"type\": \"dict\", \"properties\": {\"temperature\": {\"type\": \"float\", \"description\": \"The temperature to convert.\"}, \"unit_from\": {\"type\": \"string\", \"description\": \"The current unit of the temperature (Celsius or Fahrenheit).\"}, \"unit_to\": {\"type\": \"string\", \"description\": \"The unit to convert the temperature to (Celsius or Fahrenheit).\"}}, \"required\": [\"temperature\", \"unit_from\", \"unit_to\"]}\\ngenerate_random_number: Generates a random number within a specified range. | Parameters: {\"type\": \"dict\", \"properties\": {\"min\": {\"type\": \"integer\", \"description\": \"The minimum value of the range.\"}, \"max\": {\"type\": \"integer\", \"description\": \"The maximum value of the range.\"}}, \"required\": [\"min\", \"max\"]}\\nget_movie_rating: Fetches the age rating of a movie from the OMDB API. | Parameters: {\"type\": \"dict\", \"properties\": {\"movie_name\": {\"type\": \"string\", \"description\": \"The name of the movie.\"}}, \"required\": [\"movie_name\"]}\\nget_movie_genre: Retrieves the genre of a movie from the OMDB API. | Parameters: {\"type\": \"dict\", \"properties\": {\"movie_name\": {\"type\": \"string\", \"description\": \"The name of the movie to retrieve the genre for.\"}}, \"required\": [\"movie_name\"]}\\nget_director_by_movie_name: Gets the director of a movie. | Parameters: {\"type\": \"dict\", \"properties\": {\"movie_name\": {\"type\": \"string\", \"description\": \"The movie to find the director of.\"}}, \"required\": [\"movie_name\"]}\\nconvert_coordinates: Converts a list of tuples into a list of lists. | Parameters: {\"type\": \"dict\", \"properties\": {\"coordinates\": {\"type\": \"array\", \"items\": {\"type\": \"tuple\", \"items\": {\"type\": \"float\"}, \"description\": \"A single coordinate represented by a tuple (x, y).\"}, \"description\": \"The coordinates to be converted, where each coordinate is a tuple (x, y).\"}}, \"required\": [\"coordinates\"]}\\npolygon_area: Calculate the area of a polygon given its vertices using the shoelace formula. | Parameters: {\"type\": \"dict\", \"properties\": {\"vertices\": {\"type\": \"array\", \"items\": {\"type\": \"array\", \"items\": {\"type\": \"float\"}, \"minItems\": 2, \"maxItems\": 2, \"description\": \"A single vertex represented by a 2 element list [x, y].\"}, \"description\": \"The vertices of the polygon, where each vertex is a 2 element list [x, y].\"}}, \"required\": [\"vertices\"]}\\nvalidate_polygon: Checks if the given vertices form a valid polygon. | Parameters: {\"type\": \"dict\", \"properties\": {\"vertices\": {\"type\": \"array\", \"items\": {\"type\": \"array\", \"items\": {\"type\": \"float\"}, \"description\": \"A single vertex represented by a 2 element list [x, y].\"}, \"description\": \"The vertices of the polygon, where each vertex is a 2 element list [x, y].\"}}, \"required\": [\"vertices\"]}</td>\n",
       "    </tr>\n",
       "    <tr>\n",
       "      <th>2</th>\n",
       "      <td>I'm currently conducting a physics experiment, and I have this object that weighs 50 kilograms and takes up a space of about 10 cubic meters. Could you help me calculate the density of this object?</td>\n",
       "      <td>calculate_density(mass=50, volume=10)</td>\n",
       "      <td>get_weather_data: Fetches weather data from the Open-Meteo API for the given latitude and longitude. | Parameters: {\"type\": \"dict\", \"properties\": {\"coordinates\": {\"type\": \"array\", \"items\": {\"type\": \"float\"}, \"description\": \"The latitude and longitude of the location.\"}}, \"required\": [\"coordinates\"]}\\ncalc_binomial_probability: Calculates the probability of getting k successes in n trials. | Parameters: {\"type\": \"dict\", \"properties\": {\"n\": {\"type\": \"integer\", \"description\": \"The number of trials.\"}, \"k\": {\"type\": \"integer\", \"description\": \"The number of successes.\"}, \"p\": {\"type\": \"float\", \"description\": \"The probability of success.\"}}, \"required\": [\"n\", \"k\", \"p\"]}\\ncalculate_cosine_similarity: Calculates the cosine similarity of two vectors. | Parameters: {\"type\": \"dict\", \"properties\": {\"vectorA\": {\"type\": \"array\", \"items\": {\"type\": \"float\"}, \"description\": \"The first vector.\"}, \"vectorB\": {\"type\": \"array\", \"items\": {\"type\": \"float\"}, \"description\": \"The second vector.\"}}, \"required\": [\"vectorA\", \"vectorB\"]}\\nget_stock_price_by_stock_name: Finds the price of a stock by its stock name. | Parameters: {\"type\": \"dict\", \"properties\": {\"stock_name\": {\"type\": \"string\", \"description\": \"The stock name of the product, in the format of the stock symbol.\"}}, \"required\": [\"stock_name\"]}\\ncalculate_density: Calculates the density of an object. | Parameters: {\"type\": \"dict\", \"properties\": {\"mass\": {\"type\": \"float\", \"description\": \"The mass of the object, in kilograms.\"}, \"volume\": {\"type\": \"float\", \"description\": \"The volume of the object, in cubic meters.\"}}, \"required\": [\"mass\", \"volume\"]}\\ncalculate_future_value: Calculates the future value of an investment. | Parameters: {\"type\": \"dict\", \"properties\": {\"present_value\": {\"type\": \"float\", \"description\": \"The present value of the investment, in dollars.\"}, \"interest_rate\": {\"type\": \"float\", \"description\": \"The interest rate of the investment, ranging from 0 to 1.\"}, \"periods\": {\"type\": \"integer\", \"description\": \"The number of periods, in years.\"}}, \"required\": [\"present_value\", \"interest_rate\", \"periods\"]}\\nget_rating_by_amazon_ASIN: Finds the rating of a product by its Amazon ASIN. | Parameters: {\"type\": \"dict\", \"properties\": {\"ASIN\": {\"type\": \"string\", \"description\": \"The Amazon ASIN of the product.\"}}, \"required\": [\"ASIN\"]}\\nretrieve_holiday_by_year: Finds the holidays of a year. | Parameters: {\"type\": \"dict\", \"properties\": {\"year\": {\"type\": \"string\", \"description\": \"The year of the holidays.\"}, \"country\": {\"type\": \"string\", \"description\": \"The country of the holidays. Possible options: US, AT, DE, ES, FR, GB, IT, NL, PL, RO, SK, UA.\"}}, \"required\": [\"year\", \"country\"]}\\ncalculate_displacement: Calculates the displacement of an object. | Parameters: {\"type\": \"dict\", \"properties\": {\"initial_velocity\": {\"type\": \"float\", \"description\": \"The initial velocity of the object, in meters per second.\"}, \"acceleration\": {\"type\": \"float\", \"description\": \"The acceleration of the object, in meters per second squared.\"}, \"time\": {\"type\": \"float\", \"description\": \"The time the object has been moving, in seconds.\"}}, \"required\": [\"initial_velocity\", \"acceleration\", \"time\"]}\\nget_zipcode_by_ip_address: Finds the zipcode of an IP address. | Parameters: {\"type\": \"dict\", \"properties\": {\"ip_address\": {\"type\": \"string\", \"description\": \"The IP address to find the location of.\"}}, \"required\": [\"ip_address\"]}\\ncalculate_electrostatic_potential_energy: Calculates the electrostatic potential energy. | Parameters: {\"type\": \"dict\", \"properties\": {\"charge\": {\"type\": \"float\", \"description\": \"The charge of the object, in coulombs.\"}, \"voltage\": {\"type\": \"float\", \"description\": \"The voltage of the object, in volts.\"}}, \"required\": [\"charge\", \"voltage\"]}\\nmortgage_calculator: Calculates the monthly mortgage payment. | Parameters: {\"type\": \"dict\", \"properties\": {\"loan_amount\": {\"type\": \"float\", \"description\": \"The amount of the loan.\"}, \"interest_rate\": {\"type\": \"float\", \"description\": \"The interest rate of the loan, ranging from 0 to 1.\"}, \"loan_period\": {\"type\": \"integer\", \"description\": \"The period of the loan, in years.\"}}, \"required\": [\"loan_amount\", \"interest_rate\", \"loan_period\"]}\\ncalculate_final_velocity: Calculates the final velocity of an object. | Parameters: {\"type\": \"dict\", \"properties\": {\"initial_velocity\": {\"type\": \"float\", \"description\": \"The initial velocity of the object.\"}, \"acceleration\": {\"type\": \"float\", \"description\": \"The acceleration of the object.\"}, \"time\": {\"type\": \"float\", \"description\": \"The time the object has been moving.\"}}, \"required\": [\"initial_velocity\", \"acceleration\", \"time\"]}\\nget_fibonacci_sequence: Calculates the n numbers of the Fibonacci. | Parameters: {\"type\": \"dict\", \"properties\": {\"n\": {\"type\": \"integer\", \"description\": \"The number of Fibonacci numbers to calculate.\"}}, \"required\": [\"n\"]}\\nsort_array: Sorts an array of numbers. | Parameters: {\"type\": \"dict\", \"properties\": {\"array\": {\"type\": \"array\", \"items\": {\"type\": \"float\"}, \"description\": \"The array of numbers.\"}, \"reverse\": {\"type\": \"boolean\", \"description\": \"Whether to sort the array in reverse order, i.e., descending order.\", \"default\": false}}, \"required\": [\"array\"]}\\nget_time_zone_by_coord: Finds the timezone of a coordinate. | Parameters: {\"type\": \"dict\", \"properties\": {\"long\": {\"type\": \"string\", \"description\": \"The longitude of the coordinate.\"}, \"lat\": {\"type\": \"string\", \"description\": \"The latitude of the coordinate.\"}}, \"required\": [\"long\", \"lat\"]}\\ncalculate_mean: Calculates the mean of a list of numbers. | Parameters: {\"type\": \"dict\", \"properties\": {\"numbers\": {\"type\": \"array\", \"items\": {\"type\": \"integer\"}, \"description\": \"The list of numbers.\"}}, \"required\": [\"numbers\"]}\\ncalculate_permutations: Calculates the number of permutations of k elements from a set of n elements. | Parameters: {\"type\": \"dict\", \"properties\": {\"n\": {\"type\": \"integer\", \"description\": \"The number of elements in the set.\"}, \"k\": {\"type\": \"integer\", \"description\": \"The number of elements to choose.\"}}, \"required\": [\"n\", \"k\"]}\\nget_company_name_by_stock_name: Finds the company name of a stock by its stock name. | Parameters: {\"type\": \"dict\", \"properties\": {\"stock_name\": {\"type\": \"string\", \"description\": \"The stock name of the product, in the format of the stock symbol.\"}}, \"required\": [\"stock_name\"]}\\ncalculate_standard_deviation: Calculates the standard deviation of a list of numbers. | Parameters: {\"type\": \"dict\", \"properties\": {\"numbers\": {\"type\": \"array\", \"items\": {\"type\": \"integer\"}, \"description\": \"The list of numbers.\"}}, \"required\": [\"numbers\"]}\\nmath_lcm: Calculates the least common multiple of two numbers. | Parameters: {\"type\": \"dict\", \"properties\": {\"a\": {\"type\": \"integer\", \"description\": \"The first number. This should be the larger number.\"}, \"b\": {\"type\": \"integer\", \"description\": \"The second number.\"}}, \"required\": [\"a\", \"b\"]}\\ncalculate_triangle_area: Calculates the area of a triangle given its base and height. | Parameters: {\"type\": \"dict\", \"properties\": {\"base\": {\"type\": \"integer\", \"description\": \"The base of the triangle, in meters.\"}, \"height\": {\"type\": \"integer\", \"description\": \"The height of the triangle, in meters.\"}}, \"required\": [\"base\", \"height\"]}\\nconvert_currency: Converts a given amount from one currency to another using the ExchangeRate-API. | Parameters: {\"type\": \"dict\", \"properties\": {\"amount\": {\"type\": \"float\", \"description\": \"The amount of money to convert, in the base currency.\"}, \"from_currency\": {\"type\": \"string\", \"description\": \"The ISO currency code for the base currency.\"}, \"to_currency\": {\"type\": \"string\", \"description\": \"The ISO currency code for the target currency.\"}}, \"required\": [\"amount\", \"from_currency\", \"to_currency\"]}\\nget_stock_history: Finds the price of a stock by its stock name. | Parameters: {\"type\": \"dict\", \"properties\": {\"stock_name\": {\"type\": \"string\", \"description\": \"The stock name of the product, in the format of the stock symbol.\"}, \"interval\": {\"type\": \"string\", \"description\": \"The interval of the stock history. Allows one of following : 5m|15m|30m|1h|1d|1wk|1mo|3mo\"}, \"diffandsplits\": {\"type\": \"string\", \"description\": \"The diff and splits of the stock history. Allows one of following : true|false. Default to false\"}}, \"required\": [\"stock_name\", \"interval\"]}\\nmath_gcd: Calculates the greatest common divisor of two numbers. | Parameters: {\"type\": \"dict\", \"properties\": {\"a\": {\"type\": \"integer\", \"description\": \"The first number. This should be the larger number.\"}, \"b\": {\"type\": \"integer\", \"description\": \"The second number.\"}}, \"required\": [\"a\", \"b\"]}\\nestimate_derivative: Estimate the derivative of a function at a given point. | Parameters: {\"type\": \"dict\", \"properties\": {\"function\": {\"type\": \"string\", \"description\": \"The function to calculate the derivative of. This should be the string literal of lambda function\"}, \"x\": {\"type\": \"integer\", \"description\": \"The point to calculate the derivative at.\"}}, \"required\": [\"function\", \"x\"]}\\nfind_term_on_urban_dictionary: Finds the definition of a term on Urban Dictionary. | Parameters: {\"type\": \"dict\", \"properties\": {\"term\": {\"type\": \"string\", \"description\": \"The term to find the definition of.\"}}, \"required\": [\"term\"]}\\nget_distance: Calculates the distance between two 2D points. | Parameters: {\"type\": \"dict\", \"properties\": {\"pointA\": {\"type\": \"tuple\", \"description\": \"The first point.\", \"items\": {\"type\": \"float\"}}, \"pointB\": {\"type\": \"tuple\", \"description\": \"The second point.\", \"items\": {\"type\": \"float\"}}}, \"required\": [\"pointA\", \"pointB\"]}\\ngeometry_area_circle: Calculates the area of a circle. | Parameters: {\"type\": \"dict\", \"properties\": {\"radius\": {\"type\": \"integer\", \"description\": \"The radius of the circle, in feet.\"}}, \"required\": [\"radius\"]}\\nget_covid_death_by_country: Finds the most up to date total deaths of a country result from COVID. | Parameters: {\"type\": \"dict\", \"properties\": {\"country\": {\"type\": \"string\", \"description\": \"The country to find the total deaths of, in the format of the country's full name.\"}}, \"required\": [\"country\"]}\\nget_active_covid_case_by_country: Finds the most up to date active cases of a country result from COVID. | Parameters: {\"type\": \"dict\", \"properties\": {\"country\": {\"type\": \"string\", \"description\": \"The country to find the active cases of, in the format of the country's full name.\"}}, \"required\": [\"country\"]}\\nmat_mul: Multiplies two matrices. | Parameters: {\"type\": \"dict\", \"properties\": {\"matA\": {\"type\": \"array\", \"description\": \"The first matrix.\", \"items\": {\"type\": \"array\", \"items\": {\"type\": \"integer\"}}}, \"matB\": {\"type\": \"array\", \"description\": \"The second matrix.\", \"items\": {\"type\": \"array\", \"items\": {\"type\": \"integer\"}}}}, \"required\": [\"matA\", \"matB\"]}\\nget_coordinate_by_ip_address: Finds the latitude and longitude of an IP address. | Parameters: {\"type\": \"dict\", \"properties\": {\"ip_address\": {\"type\": \"string\", \"description\": \"The IP address to find the location of.\"}}, \"required\": [\"ip_address\"]}\\nget_coordinates_from_city: Fetches the latitude and longitude of a given city name using the Maps.co Geocoding API. | Parameters: {\"type\": \"dict\", \"properties\": {\"city_name\": {\"type\": \"string\", \"description\": \"The name of the city, such as 'Rome'.\"}}, \"required\": [\"city_name\"]}\\nget_product_name_by_amazon_ASIN: Finds the price of a product by its Amazon ASIN. | Parameters: {\"type\": \"dict\", \"properties\": {\"ASIN\": {\"type\": \"string\", \"description\": \"The Amazon ASIN of the product.\"}}, \"required\": [\"ASIN\"]}\\nget_price_by_amazon_ASIN: Finds the price of a product by its Amazon ASIN. | Parameters: {\"type\": \"dict\", \"properties\": {\"ASIN\": {\"type\": \"string\", \"description\": \"The Amazon ASIN of the product.\"}}, \"required\": [\"ASIN\"]}\\nget_prime_factors: Calculates the prime factors of a number. | Parameters: {\"type\": \"dict\", \"properties\": {\"number\": {\"type\": \"integer\", \"description\": \"The number to calculate the prime factors of.\"}}, \"required\": [\"number\"]}\\nretrieve_city_based_on_zipcode: Finds the city of a zipcode. | Parameters: {\"type\": \"dict\", \"properties\": {\"zipcode\": {\"type\": \"string\", \"description\": \"The zipcode of the city.\"}}, \"required\": [\"zipcode\"]}\\nmath_factorial: Calculates the factorial of a number. | Parameters: {\"type\": \"dict\", \"properties\": {\"n\": {\"type\": \"integer\", \"description\": \"The number to calculate the factorial of.\"}}, \"required\": [\"n\"]}\\nquadratic_roots: Calculates the roots of a quadratic equation. | Parameters: {\"type\": \"dict\", \"properties\": {\"a\": {\"type\": \"integer\", \"description\": \"The first coefficient.\"}, \"b\": {\"type\": \"integer\", \"description\": \"The second coefficient.\"}, \"c\": {\"type\": \"integer\", \"description\": \"The third coefficient.\"}}, \"required\": [\"a\", \"b\", \"c\"]}\\nadd_binary_numbers: Adds two binary numbers. | Parameters: {\"type\": \"dict\", \"properties\": {\"a\": {\"type\": \"string\", \"description\": \"The first binary number.\"}, \"b\": {\"type\": \"string\", \"description\": \"The second binary number.\"}}, \"required\": [\"a\", \"b\"]}\\nconvert_binary_to_decimal: Converts a binary number to a decimal number. | Parameters: {\"type\": \"dict\", \"properties\": {\"binary\": {\"type\": \"string\", \"description\": \"The binary number to convert.\"}}, \"required\": [\"binary\"]}\\nconvert_decimal_to_hex: Converts a decimal number to a hexadecimal number. | Parameters: {\"type\": \"dict\", \"properties\": {\"decimal\": {\"type\": \"integer\", \"description\": \"The decimal number to convert.\"}}, \"required\": [\"decimal\"]}\\nlinear_regression: Finds the linear regression of a set of points and evaluates it at a given point. | Parameters: {\"type\": \"dict\", \"properties\": {\"x\": {\"type\": \"array\", \"description\": \"The x coordinates of the points.\", \"items\": {\"type\": \"integer\"}}, \"y\": {\"type\": \"array\", \"description\": \"The y coordinates of the points.\", \"items\": {\"type\": \"integer\"}}, \"point\": {\"type\": \"integer\", \"description\": \"The point to calculate the linear regression at.\"}}, \"required\": [\"x\", \"y\", \"point\"]}\\ncalculate_slope: Calculates the slope of the linear regression line from a set of points. | Parameters: {\"type\": \"dict\", \"properties\": {\"x\": {\"type\": \"array\", \"description\": \"The x coordinates of the points.\", \"items\": {\"type\": \"integer\"}}, \"y\": {\"type\": \"array\", \"description\": \"The y coordinates of the points.\", \"items\": {\"type\": \"integer\"}}}, \"required\": [\"x\", \"y\"]}\\ncalculate_intercept: Calculates the y-intercept of the linear regression line from a set of points and a given slope. | Parameters: {\"type\": \"dict\", \"properties\": {\"x\": {\"type\": \"array\", \"description\": \"The x coordinates of the points.\", \"items\": {\"type\": \"integer\"}}, \"y\": {\"type\": \"array\", \"description\": \"The y coordinates of the points.\", \"items\": {\"type\": \"integer\"}}, \"slope\": {\"type\": \"integer\", \"description\": \"The slope of the linear regression line.\"}}, \"required\": [\"x\", \"y\", \"slope\"]}\\npredict_value: Predicts the value of y given the slope, intercept, and an x value. | Parameters: {\"type\": \"dict\", \"properties\": {\"slope\": {\"type\": \"integer\", \"description\": \"The slope of the linear regression line.\"}, \"intercept\": {\"type\": \"integer\", \"description\": \"The y-intercept of the linear regression line.\"}, \"x\": {\"type\": \"integer\", \"description\": \"The x value to predict the y for.\"}}, \"required\": [\"slope\", \"intercept\", \"x\"]}\\ncalculate_investment_value: Calculates the value of an investment over time. | Parameters: {\"type\": \"dict\", \"properties\": {\"initial_investment\": {\"type\": \"integer\", \"description\": \"The initial investment amount.\"}, \"annual_contribution\": {\"type\": \"integer\", \"description\": \"The annual contribution amount.\"}, \"years\": {\"type\": \"integer\", \"description\": \"The number of years to calculate the investment value for.\"}, \"annual_return\": {\"type\": \"float\", \"description\": \"The annual return rate, ranging from 0 to 1.\"}, \"inflation_rate\": {\"type\": \"array\", \"items\": {\"type\": \"float\"}, \"description\": \"The inflation rate for each year in percentage, ranging from 0 to 1.\"}, \"adjust_for_inflation\": {\"type\": \"boolean\", \"default\": true, \"description\": \"Whether to adjust the investment value for inflation.\"}}, \"required\": [\"initial_investment\", \"annual_contribution\", \"years\", \"annual_return\", \"inflation_rate\"]}\\ncompound_interest: Calculates compound interest over time. | Parameters: {\"type\": \"dict\", \"properties\": {\"principal\": {\"type\": \"integer\", \"description\": \"The principal amount.\"}, \"rate\": {\"type\": \"float\", \"description\": \"The annual interest rate.\"}, \"times_compounded\": {\"type\": \"integer\", \"description\": \"The number of times the interest is compounded per year.\"}, \"years\": {\"type\": \"integer\", \"description\": \"The number of years to calculate the compound interest for.\"}}, \"required\": [\"principal\", \"rate\", \"times_compounded\", \"years\"]}\\ninflation_adjustment: Adjusts an amount for inflation. | Parameters: {\"type\": \"dict\", \"properties\": {\"amount\": {\"type\": \"float\", \"description\": \"The amount to adjust for inflation.\"}, \"inflation_rate\": {\"type\": \"float\", \"description\": \"The annual inflation float.\"}, \"years\": {\"type\": \"integer\", \"description\": \"The number of years to adjust for inflation.\"}}, \"required\": [\"amount\", \"inflation_rate\", \"years\"]}\\nadjust_for_inflation: Adjusts the investment value for inflation for each year. | Parameters: {\"type\": \"dict\", \"properties\": {\"investment_value\": {\"type\": \"float\", \"description\": \"The value of the investment to adjust.\"}, \"inflation_rates\": {\"type\": \"array\", \"items\": {\"type\": \"float\"}, \"description\": \"The inflation rates for each year.\"}}, \"required\": [\"investment_value\", \"inflation_rates\"]}\\ncalculate_basal_metabolic_rate: Calculates the Basal Metabolic Rate (BMR) of a person. | Parameters: {\"type\": \"dict\", \"properties\": {\"weight\": {\"type\": \"float\", \"description\": \"The weight of the person in kilograms.\"}, \"height\": {\"type\": \"float\", \"description\": \"The height of the person in centimeters.\"}, \"age\": {\"type\": \"float\", \"description\": \"The age of the person in years.\"}, \"gender\": {\"type\": \"string\", \"description\": \"The gender of the person. Possible options [male, female, other].\"}}, \"required\": [\"weight\", \"height\", \"age\", \"gender\"]}\\ncalculate_daily_energy_expenditure: Calculates the daily energy expenditure based on BMR and activity level. | Parameters: {\"type\": \"dict\", \"properties\": {\"basal_metabolic_rate\": {\"type\": \"float\", \"description\": \"The BMR of the person.\"}, \"activity_level\": {\"type\": \"float\", \"description\": \"The activity level of the person. Possible options [1,2,3,4,5].\"}}, \"required\": [\"basal_metabolic_rate\", \"activity_level\"]}\\ncalculate_nutritional_needs: Calculates the nutritional needs of a person based on their weight, height, age, gender, activity level, and goal. | Parameters: {\"type\": \"dict\", \"properties\": {\"weight\": {\"type\": \"float\", \"description\": \"The weight of the person in kilograms.\"}, \"height\": {\"type\": \"float\", \"description\": \"The height of the person in centimeters.\"}, \"age\": {\"type\": \"float\", \"description\": \"The age of the person in years.\"}, \"gender\": {\"type\": \"string\", \"description\": \"The gender of the person. Possible options [male, female, other].\"}, \"activity_level\": {\"type\": \"float\", \"description\": \"The activity level of the person. Possible options [1,2,3,4,5].\"}, \"goal\": {\"type\": \"string\", \"description\": \"The goal of the person. Possible options [lose, gain, maintain].\"}}, \"required\": [\"weight\", \"height\", \"age\", \"gender\", \"activity_level\", \"goal\"]}\\nbook_room: Books a room for a customer. | Parameters: {\"type\": \"dict\", \"properties\": {\"room_type\": {\"type\": \"dict\", \"description\": \"The room type to book.\"}, \"check_in_date\": {\"type\": \"string\", \"description\": \"The check-in date in format of MM-DD-YYYY.\"}, \"check_out_date\": {\"type\": \"string\", \"description\": \"The check-out date in format of MM-DD-YYYY.\"}, \"customer_id\": {\"type\": \"string\", \"description\": \"The customer ID.\"}, \"discount_code\": {\"type\": \"string\", \"description\": \"The discount code (if any).\", \"default\": null}}, \"required\": [\"room_type\", \"check_in_date\", \"check_out_date\", \"customer_id\"]}\\ncalculate_total_price: Calculates the total price of the room booking. | Parameters: {\"type\": \"dict\", \"properties\": {\"room_price\": {\"type\": \"float\", \"description\": \"The price per night of the room.\"}, \"nights\": {\"type\": \"integer\", \"description\": \"The number of nights for the booking.\"}, \"discount\": {\"type\": \"float\", \"description\": \"The discount amount (if any).\", \"default\": 0}}, \"required\": [\"room_price\", \"nights\"]}\\nconfirm_booking: Confirms the room booking and sends a confirmation to the customer. | Parameters: {\"type\": \"dict\", \"properties\": {\"customer_id\": {\"type\": \"string\", \"description\": \"The customer ID.\"}, \"room_number\": {\"type\": \"string\", \"description\": \"The room number assigned to the booking.\"}, \"total_price\": {\"type\": \"float\", \"description\": \"The total price for the booking.\"}}, \"required\": [\"customer_id\", \"room_number\", \"total_price\"]}\\norder_food: Orders food for a customer. Return the total price. | Parameters: {\"type\": \"dict\", \"properties\": {\"item\": {\"type\": \"array\", \"items\": {\"type\": \"string\"}, \"description\": \"the name of the product.\"}, \"quantity\": {\"type\": \"array\", \"items\": {\"type\": \"integer\"}, \"description\": \"the number of the product purchased.\"}, \"price\": {\"type\": \"array\", \"items\": {\"type\": \"float\"}, \"description\": \"the price of the product.\"}}, \"required\": [\"item\", \"quantity\", \"price\"]}\\ncalculate_total: Calculates the total price of an order given the quantities and prices. | Parameters: {\"type\": \"dict\", \"properties\": {\"quantities\": {\"type\": \"array\", \"items\": {\"type\": \"integer\"}, \"description\": \"The quantities of each product.\"}, \"prices\": {\"type\": \"array\", \"items\": {\"type\": \"float\"}, \"description\": \"The price of each product.\"}}, \"required\": [\"quantities\", \"prices\"]}\\napply_discount: Applies a discount to the total price. | Parameters: {\"type\": \"dict\", \"properties\": {\"total\": {\"type\": \"float\", \"description\": \"The original total price.\"}, \"discount\": {\"type\": \"float\", \"description\": \"The discount percentage to apply.\"}}, \"required\": [\"total\", \"discount\"]}\\nget_movie_director: Fetches the director of a movie from the OMDB API. | Parameters: {\"type\": \"dict\", \"properties\": {\"movie_name\": {\"type\": \"string\", \"description\": \"The name of the movie.\"}}, \"required\": [\"movie_name\"]}\\ncalculate_interest_rate: Calculates the interest rate for a given principal, rate, and time. | Parameters: {\"type\": \"dict\", \"properties\": {\"principal\": {\"type\": \"float\", \"description\": \"The initial amount of money.\"}, \"rate\": {\"type\": \"float\", \"description\": \"The interest rate per period.\"}, \"time\": {\"type\": \"float\", \"description\": \"The time the money is invested or borrowed for.\"}}, \"required\": [\"principal\", \"rate\", \"time\"]}\\nconvert_temperature: Converts temperature from Celsius to Fahrenheit or vice versa. | Parameters: {\"type\": \"dict\", \"properties\": {\"temperature\": {\"type\": \"float\", \"description\": \"The temperature to convert.\"}, \"unit_from\": {\"type\": \"string\", \"description\": \"The current unit of the temperature (Celsius or Fahrenheit).\"}, \"unit_to\": {\"type\": \"string\", \"description\": \"The unit to convert the temperature to (Celsius or Fahrenheit).\"}}, \"required\": [\"temperature\", \"unit_from\", \"unit_to\"]}\\ngenerate_random_number: Generates a random number within a specified range. | Parameters: {\"type\": \"dict\", \"properties\": {\"min\": {\"type\": \"integer\", \"description\": \"The minimum value of the range.\"}, \"max\": {\"type\": \"integer\", \"description\": \"The maximum value of the range.\"}}, \"required\": [\"min\", \"max\"]}\\nget_movie_rating: Fetches the age rating of a movie from the OMDB API. | Parameters: {\"type\": \"dict\", \"properties\": {\"movie_name\": {\"type\": \"string\", \"description\": \"The name of the movie.\"}}, \"required\": [\"movie_name\"]}\\nget_movie_genre: Retrieves the genre of a movie from the OMDB API. | Parameters: {\"type\": \"dict\", \"properties\": {\"movie_name\": {\"type\": \"string\", \"description\": \"The name of the movie to retrieve the genre for.\"}}, \"required\": [\"movie_name\"]}\\nget_director_by_movie_name: Gets the director of a movie. | Parameters: {\"type\": \"dict\", \"properties\": {\"movie_name\": {\"type\": \"string\", \"description\": \"The movie to find the director of.\"}}, \"required\": [\"movie_name\"]}\\nconvert_coordinates: Converts a list of tuples into a list of lists. | Parameters: {\"type\": \"dict\", \"properties\": {\"coordinates\": {\"type\": \"array\", \"items\": {\"type\": \"tuple\", \"items\": {\"type\": \"float\"}, \"description\": \"A single coordinate represented by a tuple (x, y).\"}, \"description\": \"The coordinates to be converted, where each coordinate is a tuple (x, y).\"}}, \"required\": [\"coordinates\"]}\\npolygon_area: Calculate the area of a polygon given its vertices using the shoelace formula. | Parameters: {\"type\": \"dict\", \"properties\": {\"vertices\": {\"type\": \"array\", \"items\": {\"type\": \"array\", \"items\": {\"type\": \"float\"}, \"minItems\": 2, \"maxItems\": 2, \"description\": \"A single vertex represented by a 2 element list [x, y].\"}, \"description\": \"The vertices of the polygon, where each vertex is a 2 element list [x, y].\"}}, \"required\": [\"vertices\"]}\\nvalidate_polygon: Checks if the given vertices form a valid polygon. | Parameters: {\"type\": \"dict\", \"properties\": {\"vertices\": {\"type\": \"array\", \"items\": {\"type\": \"array\", \"items\": {\"type\": \"float\"}, \"description\": \"A single vertex represented by a 2 element list [x, y].\"}, \"description\": \"The vertices of the polygon, where each vertex is a 2 element list [x, y].\"}}, \"required\": [\"vertices\"]}</td>\n",
       "    </tr>\n",
       "    <tr>\n",
       "      <th>3</th>\n",
       "      <td>I'm working on a physics experiment where we're tracking the movement of a special object. It starts off at 15 m/s, and we're accelerating it at a rate of 9.8 m/s². I need to calculate how far it will have traveled after 10 seconds. Can you crunch those numbers for me?</td>\n",
       "      <td>calculate_displacement(initial_velocity=15.0, acceleration=9.8, time=10)</td>\n",
       "      <td>get_weather_data: Fetches weather data from the Open-Meteo API for the given latitude and longitude. | Parameters: {\"type\": \"dict\", \"properties\": {\"coordinates\": {\"type\": \"array\", \"items\": {\"type\": \"float\"}, \"description\": \"The latitude and longitude of the location.\"}}, \"required\": [\"coordinates\"]}\\ncalc_binomial_probability: Calculates the probability of getting k successes in n trials. | Parameters: {\"type\": \"dict\", \"properties\": {\"n\": {\"type\": \"integer\", \"description\": \"The number of trials.\"}, \"k\": {\"type\": \"integer\", \"description\": \"The number of successes.\"}, \"p\": {\"type\": \"float\", \"description\": \"The probability of success.\"}}, \"required\": [\"n\", \"k\", \"p\"]}\\ncalculate_cosine_similarity: Calculates the cosine similarity of two vectors. | Parameters: {\"type\": \"dict\", \"properties\": {\"vectorA\": {\"type\": \"array\", \"items\": {\"type\": \"float\"}, \"description\": \"The first vector.\"}, \"vectorB\": {\"type\": \"array\", \"items\": {\"type\": \"float\"}, \"description\": \"The second vector.\"}}, \"required\": [\"vectorA\", \"vectorB\"]}\\nget_stock_price_by_stock_name: Finds the price of a stock by its stock name. | Parameters: {\"type\": \"dict\", \"properties\": {\"stock_name\": {\"type\": \"string\", \"description\": \"The stock name of the product, in the format of the stock symbol.\"}}, \"required\": [\"stock_name\"]}\\ncalculate_density: Calculates the density of an object. | Parameters: {\"type\": \"dict\", \"properties\": {\"mass\": {\"type\": \"float\", \"description\": \"The mass of the object, in kilograms.\"}, \"volume\": {\"type\": \"float\", \"description\": \"The volume of the object, in cubic meters.\"}}, \"required\": [\"mass\", \"volume\"]}\\ncalculate_future_value: Calculates the future value of an investment. | Parameters: {\"type\": \"dict\", \"properties\": {\"present_value\": {\"type\": \"float\", \"description\": \"The present value of the investment, in dollars.\"}, \"interest_rate\": {\"type\": \"float\", \"description\": \"The interest rate of the investment, ranging from 0 to 1.\"}, \"periods\": {\"type\": \"integer\", \"description\": \"The number of periods, in years.\"}}, \"required\": [\"present_value\", \"interest_rate\", \"periods\"]}\\nget_rating_by_amazon_ASIN: Finds the rating of a product by its Amazon ASIN. | Parameters: {\"type\": \"dict\", \"properties\": {\"ASIN\": {\"type\": \"string\", \"description\": \"The Amazon ASIN of the product.\"}}, \"required\": [\"ASIN\"]}\\nretrieve_holiday_by_year: Finds the holidays of a year. | Parameters: {\"type\": \"dict\", \"properties\": {\"year\": {\"type\": \"string\", \"description\": \"The year of the holidays.\"}, \"country\": {\"type\": \"string\", \"description\": \"The country of the holidays. Possible options: US, AT, DE, ES, FR, GB, IT, NL, PL, RO, SK, UA.\"}}, \"required\": [\"year\", \"country\"]}\\ncalculate_displacement: Calculates the displacement of an object. | Parameters: {\"type\": \"dict\", \"properties\": {\"initial_velocity\": {\"type\": \"float\", \"description\": \"The initial velocity of the object, in meters per second.\"}, \"acceleration\": {\"type\": \"float\", \"description\": \"The acceleration of the object, in meters per second squared.\"}, \"time\": {\"type\": \"float\", \"description\": \"The time the object has been moving, in seconds.\"}}, \"required\": [\"initial_velocity\", \"acceleration\", \"time\"]}\\nget_zipcode_by_ip_address: Finds the zipcode of an IP address. | Parameters: {\"type\": \"dict\", \"properties\": {\"ip_address\": {\"type\": \"string\", \"description\": \"The IP address to find the location of.\"}}, \"required\": [\"ip_address\"]}\\ncalculate_electrostatic_potential_energy: Calculates the electrostatic potential energy. | Parameters: {\"type\": \"dict\", \"properties\": {\"charge\": {\"type\": \"float\", \"description\": \"The charge of the object, in coulombs.\"}, \"voltage\": {\"type\": \"float\", \"description\": \"The voltage of the object, in volts.\"}}, \"required\": [\"charge\", \"voltage\"]}\\nmortgage_calculator: Calculates the monthly mortgage payment. | Parameters: {\"type\": \"dict\", \"properties\": {\"loan_amount\": {\"type\": \"float\", \"description\": \"The amount of the loan.\"}, \"interest_rate\": {\"type\": \"float\", \"description\": \"The interest rate of the loan, ranging from 0 to 1.\"}, \"loan_period\": {\"type\": \"integer\", \"description\": \"The period of the loan, in years.\"}}, \"required\": [\"loan_amount\", \"interest_rate\", \"loan_period\"]}\\ncalculate_final_velocity: Calculates the final velocity of an object. | Parameters: {\"type\": \"dict\", \"properties\": {\"initial_velocity\": {\"type\": \"float\", \"description\": \"The initial velocity of the object.\"}, \"acceleration\": {\"type\": \"float\", \"description\": \"The acceleration of the object.\"}, \"time\": {\"type\": \"float\", \"description\": \"The time the object has been moving.\"}}, \"required\": [\"initial_velocity\", \"acceleration\", \"time\"]}\\nget_fibonacci_sequence: Calculates the n numbers of the Fibonacci. | Parameters: {\"type\": \"dict\", \"properties\": {\"n\": {\"type\": \"integer\", \"description\": \"The number of Fibonacci numbers to calculate.\"}}, \"required\": [\"n\"]}\\nsort_array: Sorts an array of numbers. | Parameters: {\"type\": \"dict\", \"properties\": {\"array\": {\"type\": \"array\", \"items\": {\"type\": \"float\"}, \"description\": \"The array of numbers.\"}, \"reverse\": {\"type\": \"boolean\", \"description\": \"Whether to sort the array in reverse order, i.e., descending order.\", \"default\": false}}, \"required\": [\"array\"]}\\nget_time_zone_by_coord: Finds the timezone of a coordinate. | Parameters: {\"type\": \"dict\", \"properties\": {\"long\": {\"type\": \"string\", \"description\": \"The longitude of the coordinate.\"}, \"lat\": {\"type\": \"string\", \"description\": \"The latitude of the coordinate.\"}}, \"required\": [\"long\", \"lat\"]}\\ncalculate_mean: Calculates the mean of a list of numbers. | Parameters: {\"type\": \"dict\", \"properties\": {\"numbers\": {\"type\": \"array\", \"items\": {\"type\": \"integer\"}, \"description\": \"The list of numbers.\"}}, \"required\": [\"numbers\"]}\\ncalculate_permutations: Calculates the number of permutations of k elements from a set of n elements. | Parameters: {\"type\": \"dict\", \"properties\": {\"n\": {\"type\": \"integer\", \"description\": \"The number of elements in the set.\"}, \"k\": {\"type\": \"integer\", \"description\": \"The number of elements to choose.\"}}, \"required\": [\"n\", \"k\"]}\\nget_company_name_by_stock_name: Finds the company name of a stock by its stock name. | Parameters: {\"type\": \"dict\", \"properties\": {\"stock_name\": {\"type\": \"string\", \"description\": \"The stock name of the product, in the format of the stock symbol.\"}}, \"required\": [\"stock_name\"]}\\ncalculate_standard_deviation: Calculates the standard deviation of a list of numbers. | Parameters: {\"type\": \"dict\", \"properties\": {\"numbers\": {\"type\": \"array\", \"items\": {\"type\": \"integer\"}, \"description\": \"The list of numbers.\"}}, \"required\": [\"numbers\"]}\\nmath_lcm: Calculates the least common multiple of two numbers. | Parameters: {\"type\": \"dict\", \"properties\": {\"a\": {\"type\": \"integer\", \"description\": \"The first number. This should be the larger number.\"}, \"b\": {\"type\": \"integer\", \"description\": \"The second number.\"}}, \"required\": [\"a\", \"b\"]}\\ncalculate_triangle_area: Calculates the area of a triangle given its base and height. | Parameters: {\"type\": \"dict\", \"properties\": {\"base\": {\"type\": \"integer\", \"description\": \"The base of the triangle, in meters.\"}, \"height\": {\"type\": \"integer\", \"description\": \"The height of the triangle, in meters.\"}}, \"required\": [\"base\", \"height\"]}\\nconvert_currency: Converts a given amount from one currency to another using the ExchangeRate-API. | Parameters: {\"type\": \"dict\", \"properties\": {\"amount\": {\"type\": \"float\", \"description\": \"The amount of money to convert, in the base currency.\"}, \"from_currency\": {\"type\": \"string\", \"description\": \"The ISO currency code for the base currency.\"}, \"to_currency\": {\"type\": \"string\", \"description\": \"The ISO currency code for the target currency.\"}}, \"required\": [\"amount\", \"from_currency\", \"to_currency\"]}\\nget_stock_history: Finds the price of a stock by its stock name. | Parameters: {\"type\": \"dict\", \"properties\": {\"stock_name\": {\"type\": \"string\", \"description\": \"The stock name of the product, in the format of the stock symbol.\"}, \"interval\": {\"type\": \"string\", \"description\": \"The interval of the stock history. Allows one of following : 5m|15m|30m|1h|1d|1wk|1mo|3mo\"}, \"diffandsplits\": {\"type\": \"string\", \"description\": \"The diff and splits of the stock history. Allows one of following : true|false. Default to false\"}}, \"required\": [\"stock_name\", \"interval\"]}\\nmath_gcd: Calculates the greatest common divisor of two numbers. | Parameters: {\"type\": \"dict\", \"properties\": {\"a\": {\"type\": \"integer\", \"description\": \"The first number. This should be the larger number.\"}, \"b\": {\"type\": \"integer\", \"description\": \"The second number.\"}}, \"required\": [\"a\", \"b\"]}\\nestimate_derivative: Estimate the derivative of a function at a given point. | Parameters: {\"type\": \"dict\", \"properties\": {\"function\": {\"type\": \"string\", \"description\": \"The function to calculate the derivative of. This should be the string literal of lambda function\"}, \"x\": {\"type\": \"integer\", \"description\": \"The point to calculate the derivative at.\"}}, \"required\": [\"function\", \"x\"]}\\nfind_term_on_urban_dictionary: Finds the definition of a term on Urban Dictionary. | Parameters: {\"type\": \"dict\", \"properties\": {\"term\": {\"type\": \"string\", \"description\": \"The term to find the definition of.\"}}, \"required\": [\"term\"]}\\nget_distance: Calculates the distance between two 2D points. | Parameters: {\"type\": \"dict\", \"properties\": {\"pointA\": {\"type\": \"tuple\", \"description\": \"The first point.\", \"items\": {\"type\": \"float\"}}, \"pointB\": {\"type\": \"tuple\", \"description\": \"The second point.\", \"items\": {\"type\": \"float\"}}}, \"required\": [\"pointA\", \"pointB\"]}\\ngeometry_area_circle: Calculates the area of a circle. | Parameters: {\"type\": \"dict\", \"properties\": {\"radius\": {\"type\": \"integer\", \"description\": \"The radius of the circle, in feet.\"}}, \"required\": [\"radius\"]}\\nget_covid_death_by_country: Finds the most up to date total deaths of a country result from COVID. | Parameters: {\"type\": \"dict\", \"properties\": {\"country\": {\"type\": \"string\", \"description\": \"The country to find the total deaths of, in the format of the country's full name.\"}}, \"required\": [\"country\"]}\\nget_active_covid_case_by_country: Finds the most up to date active cases of a country result from COVID. | Parameters: {\"type\": \"dict\", \"properties\": {\"country\": {\"type\": \"string\", \"description\": \"The country to find the active cases of, in the format of the country's full name.\"}}, \"required\": [\"country\"]}\\nmat_mul: Multiplies two matrices. | Parameters: {\"type\": \"dict\", \"properties\": {\"matA\": {\"type\": \"array\", \"description\": \"The first matrix.\", \"items\": {\"type\": \"array\", \"items\": {\"type\": \"integer\"}}}, \"matB\": {\"type\": \"array\", \"description\": \"The second matrix.\", \"items\": {\"type\": \"array\", \"items\": {\"type\": \"integer\"}}}}, \"required\": [\"matA\", \"matB\"]}\\nget_coordinate_by_ip_address: Finds the latitude and longitude of an IP address. | Parameters: {\"type\": \"dict\", \"properties\": {\"ip_address\": {\"type\": \"string\", \"description\": \"The IP address to find the location of.\"}}, \"required\": [\"ip_address\"]}\\nget_coordinates_from_city: Fetches the latitude and longitude of a given city name using the Maps.co Geocoding API. | Parameters: {\"type\": \"dict\", \"properties\": {\"city_name\": {\"type\": \"string\", \"description\": \"The name of the city, such as 'Rome'.\"}}, \"required\": [\"city_name\"]}\\nget_product_name_by_amazon_ASIN: Finds the price of a product by its Amazon ASIN. | Parameters: {\"type\": \"dict\", \"properties\": {\"ASIN\": {\"type\": \"string\", \"description\": \"The Amazon ASIN of the product.\"}}, \"required\": [\"ASIN\"]}\\nget_price_by_amazon_ASIN: Finds the price of a product by its Amazon ASIN. | Parameters: {\"type\": \"dict\", \"properties\": {\"ASIN\": {\"type\": \"string\", \"description\": \"The Amazon ASIN of the product.\"}}, \"required\": [\"ASIN\"]}\\nget_prime_factors: Calculates the prime factors of a number. | Parameters: {\"type\": \"dict\", \"properties\": {\"number\": {\"type\": \"integer\", \"description\": \"The number to calculate the prime factors of.\"}}, \"required\": [\"number\"]}\\nretrieve_city_based_on_zipcode: Finds the city of a zipcode. | Parameters: {\"type\": \"dict\", \"properties\": {\"zipcode\": {\"type\": \"string\", \"description\": \"The zipcode of the city.\"}}, \"required\": [\"zipcode\"]}\\nmath_factorial: Calculates the factorial of a number. | Parameters: {\"type\": \"dict\", \"properties\": {\"n\": {\"type\": \"integer\", \"description\": \"The number to calculate the factorial of.\"}}, \"required\": [\"n\"]}\\nquadratic_roots: Calculates the roots of a quadratic equation. | Parameters: {\"type\": \"dict\", \"properties\": {\"a\": {\"type\": \"integer\", \"description\": \"The first coefficient.\"}, \"b\": {\"type\": \"integer\", \"description\": \"The second coefficient.\"}, \"c\": {\"type\": \"integer\", \"description\": \"The third coefficient.\"}}, \"required\": [\"a\", \"b\", \"c\"]}\\nadd_binary_numbers: Adds two binary numbers. | Parameters: {\"type\": \"dict\", \"properties\": {\"a\": {\"type\": \"string\", \"description\": \"The first binary number.\"}, \"b\": {\"type\": \"string\", \"description\": \"The second binary number.\"}}, \"required\": [\"a\", \"b\"]}\\nconvert_binary_to_decimal: Converts a binary number to a decimal number. | Parameters: {\"type\": \"dict\", \"properties\": {\"binary\": {\"type\": \"string\", \"description\": \"The binary number to convert.\"}}, \"required\": [\"binary\"]}\\nconvert_decimal_to_hex: Converts a decimal number to a hexadecimal number. | Parameters: {\"type\": \"dict\", \"properties\": {\"decimal\": {\"type\": \"integer\", \"description\": \"The decimal number to convert.\"}}, \"required\": [\"decimal\"]}\\nlinear_regression: Finds the linear regression of a set of points and evaluates it at a given point. | Parameters: {\"type\": \"dict\", \"properties\": {\"x\": {\"type\": \"array\", \"description\": \"The x coordinates of the points.\", \"items\": {\"type\": \"integer\"}}, \"y\": {\"type\": \"array\", \"description\": \"The y coordinates of the points.\", \"items\": {\"type\": \"integer\"}}, \"point\": {\"type\": \"integer\", \"description\": \"The point to calculate the linear regression at.\"}}, \"required\": [\"x\", \"y\", \"point\"]}\\ncalculate_slope: Calculates the slope of the linear regression line from a set of points. | Parameters: {\"type\": \"dict\", \"properties\": {\"x\": {\"type\": \"array\", \"description\": \"The x coordinates of the points.\", \"items\": {\"type\": \"integer\"}}, \"y\": {\"type\": \"array\", \"description\": \"The y coordinates of the points.\", \"items\": {\"type\": \"integer\"}}}, \"required\": [\"x\", \"y\"]}\\ncalculate_intercept: Calculates the y-intercept of the linear regression line from a set of points and a given slope. | Parameters: {\"type\": \"dict\", \"properties\": {\"x\": {\"type\": \"array\", \"description\": \"The x coordinates of the points.\", \"items\": {\"type\": \"integer\"}}, \"y\": {\"type\": \"array\", \"description\": \"The y coordinates of the points.\", \"items\": {\"type\": \"integer\"}}, \"slope\": {\"type\": \"integer\", \"description\": \"The slope of the linear regression line.\"}}, \"required\": [\"x\", \"y\", \"slope\"]}\\npredict_value: Predicts the value of y given the slope, intercept, and an x value. | Parameters: {\"type\": \"dict\", \"properties\": {\"slope\": {\"type\": \"integer\", \"description\": \"The slope of the linear regression line.\"}, \"intercept\": {\"type\": \"integer\", \"description\": \"The y-intercept of the linear regression line.\"}, \"x\": {\"type\": \"integer\", \"description\": \"The x value to predict the y for.\"}}, \"required\": [\"slope\", \"intercept\", \"x\"]}\\ncalculate_investment_value: Calculates the value of an investment over time. | Parameters: {\"type\": \"dict\", \"properties\": {\"initial_investment\": {\"type\": \"integer\", \"description\": \"The initial investment amount.\"}, \"annual_contribution\": {\"type\": \"integer\", \"description\": \"The annual contribution amount.\"}, \"years\": {\"type\": \"integer\", \"description\": \"The number of years to calculate the investment value for.\"}, \"annual_return\": {\"type\": \"float\", \"description\": \"The annual return rate, ranging from 0 to 1.\"}, \"inflation_rate\": {\"type\": \"array\", \"items\": {\"type\": \"float\"}, \"description\": \"The inflation rate for each year in percentage, ranging from 0 to 1.\"}, \"adjust_for_inflation\": {\"type\": \"boolean\", \"default\": true, \"description\": \"Whether to adjust the investment value for inflation.\"}}, \"required\": [\"initial_investment\", \"annual_contribution\", \"years\", \"annual_return\", \"inflation_rate\"]}\\ncompound_interest: Calculates compound interest over time. | Parameters: {\"type\": \"dict\", \"properties\": {\"principal\": {\"type\": \"integer\", \"description\": \"The principal amount.\"}, \"rate\": {\"type\": \"float\", \"description\": \"The annual interest rate.\"}, \"times_compounded\": {\"type\": \"integer\", \"description\": \"The number of times the interest is compounded per year.\"}, \"years\": {\"type\": \"integer\", \"description\": \"The number of years to calculate the compound interest for.\"}}, \"required\": [\"principal\", \"rate\", \"times_compounded\", \"years\"]}\\ninflation_adjustment: Adjusts an amount for inflation. | Parameters: {\"type\": \"dict\", \"properties\": {\"amount\": {\"type\": \"float\", \"description\": \"The amount to adjust for inflation.\"}, \"inflation_rate\": {\"type\": \"float\", \"description\": \"The annual inflation float.\"}, \"years\": {\"type\": \"integer\", \"description\": \"The number of years to adjust for inflation.\"}}, \"required\": [\"amount\", \"inflation_rate\", \"years\"]}\\nadjust_for_inflation: Adjusts the investment value for inflation for each year. | Parameters: {\"type\": \"dict\", \"properties\": {\"investment_value\": {\"type\": \"float\", \"description\": \"The value of the investment to adjust.\"}, \"inflation_rates\": {\"type\": \"array\", \"items\": {\"type\": \"float\"}, \"description\": \"The inflation rates for each year.\"}}, \"required\": [\"investment_value\", \"inflation_rates\"]}\\ncalculate_basal_metabolic_rate: Calculates the Basal Metabolic Rate (BMR) of a person. | Parameters: {\"type\": \"dict\", \"properties\": {\"weight\": {\"type\": \"float\", \"description\": \"The weight of the person in kilograms.\"}, \"height\": {\"type\": \"float\", \"description\": \"The height of the person in centimeters.\"}, \"age\": {\"type\": \"float\", \"description\": \"The age of the person in years.\"}, \"gender\": {\"type\": \"string\", \"description\": \"The gender of the person. Possible options [male, female, other].\"}}, \"required\": [\"weight\", \"height\", \"age\", \"gender\"]}\\ncalculate_daily_energy_expenditure: Calculates the daily energy expenditure based on BMR and activity level. | Parameters: {\"type\": \"dict\", \"properties\": {\"basal_metabolic_rate\": {\"type\": \"float\", \"description\": \"The BMR of the person.\"}, \"activity_level\": {\"type\": \"float\", \"description\": \"The activity level of the person. Possible options [1,2,3,4,5].\"}}, \"required\": [\"basal_metabolic_rate\", \"activity_level\"]}\\ncalculate_nutritional_needs: Calculates the nutritional needs of a person based on their weight, height, age, gender, activity level, and goal. | Parameters: {\"type\": \"dict\", \"properties\": {\"weight\": {\"type\": \"float\", \"description\": \"The weight of the person in kilograms.\"}, \"height\": {\"type\": \"float\", \"description\": \"The height of the person in centimeters.\"}, \"age\": {\"type\": \"float\", \"description\": \"The age of the person in years.\"}, \"gender\": {\"type\": \"string\", \"description\": \"The gender of the person. Possible options [male, female, other].\"}, \"activity_level\": {\"type\": \"float\", \"description\": \"The activity level of the person. Possible options [1,2,3,4,5].\"}, \"goal\": {\"type\": \"string\", \"description\": \"The goal of the person. Possible options [lose, gain, maintain].\"}}, \"required\": [\"weight\", \"height\", \"age\", \"gender\", \"activity_level\", \"goal\"]}\\nbook_room: Books a room for a customer. | Parameters: {\"type\": \"dict\", \"properties\": {\"room_type\": {\"type\": \"dict\", \"description\": \"The room type to book.\"}, \"check_in_date\": {\"type\": \"string\", \"description\": \"The check-in date in format of MM-DD-YYYY.\"}, \"check_out_date\": {\"type\": \"string\", \"description\": \"The check-out date in format of MM-DD-YYYY.\"}, \"customer_id\": {\"type\": \"string\", \"description\": \"The customer ID.\"}, \"discount_code\": {\"type\": \"string\", \"description\": \"The discount code (if any).\", \"default\": null}}, \"required\": [\"room_type\", \"check_in_date\", \"check_out_date\", \"customer_id\"]}\\ncalculate_total_price: Calculates the total price of the room booking. | Parameters: {\"type\": \"dict\", \"properties\": {\"room_price\": {\"type\": \"float\", \"description\": \"The price per night of the room.\"}, \"nights\": {\"type\": \"integer\", \"description\": \"The number of nights for the booking.\"}, \"discount\": {\"type\": \"float\", \"description\": \"The discount amount (if any).\", \"default\": 0}}, \"required\": [\"room_price\", \"nights\"]}\\nconfirm_booking: Confirms the room booking and sends a confirmation to the customer. | Parameters: {\"type\": \"dict\", \"properties\": {\"customer_id\": {\"type\": \"string\", \"description\": \"The customer ID.\"}, \"room_number\": {\"type\": \"string\", \"description\": \"The room number assigned to the booking.\"}, \"total_price\": {\"type\": \"float\", \"description\": \"The total price for the booking.\"}}, \"required\": [\"customer_id\", \"room_number\", \"total_price\"]}\\norder_food: Orders food for a customer. Return the total price. | Parameters: {\"type\": \"dict\", \"properties\": {\"item\": {\"type\": \"array\", \"items\": {\"type\": \"string\"}, \"description\": \"the name of the product.\"}, \"quantity\": {\"type\": \"array\", \"items\": {\"type\": \"integer\"}, \"description\": \"the number of the product purchased.\"}, \"price\": {\"type\": \"array\", \"items\": {\"type\": \"float\"}, \"description\": \"the price of the product.\"}}, \"required\": [\"item\", \"quantity\", \"price\"]}\\ncalculate_total: Calculates the total price of an order given the quantities and prices. | Parameters: {\"type\": \"dict\", \"properties\": {\"quantities\": {\"type\": \"array\", \"items\": {\"type\": \"integer\"}, \"description\": \"The quantities of each product.\"}, \"prices\": {\"type\": \"array\", \"items\": {\"type\": \"float\"}, \"description\": \"The price of each product.\"}}, \"required\": [\"quantities\", \"prices\"]}\\napply_discount: Applies a discount to the total price. | Parameters: {\"type\": \"dict\", \"properties\": {\"total\": {\"type\": \"float\", \"description\": \"The original total price.\"}, \"discount\": {\"type\": \"float\", \"description\": \"The discount percentage to apply.\"}}, \"required\": [\"total\", \"discount\"]}\\nget_movie_director: Fetches the director of a movie from the OMDB API. | Parameters: {\"type\": \"dict\", \"properties\": {\"movie_name\": {\"type\": \"string\", \"description\": \"The name of the movie.\"}}, \"required\": [\"movie_name\"]}\\ncalculate_interest_rate: Calculates the interest rate for a given principal, rate, and time. | Parameters: {\"type\": \"dict\", \"properties\": {\"principal\": {\"type\": \"float\", \"description\": \"The initial amount of money.\"}, \"rate\": {\"type\": \"float\", \"description\": \"The interest rate per period.\"}, \"time\": {\"type\": \"float\", \"description\": \"The time the money is invested or borrowed for.\"}}, \"required\": [\"principal\", \"rate\", \"time\"]}\\nconvert_temperature: Converts temperature from Celsius to Fahrenheit or vice versa. | Parameters: {\"type\": \"dict\", \"properties\": {\"temperature\": {\"type\": \"float\", \"description\": \"The temperature to convert.\"}, \"unit_from\": {\"type\": \"string\", \"description\": \"The current unit of the temperature (Celsius or Fahrenheit).\"}, \"unit_to\": {\"type\": \"string\", \"description\": \"The unit to convert the temperature to (Celsius or Fahrenheit).\"}}, \"required\": [\"temperature\", \"unit_from\", \"unit_to\"]}\\ngenerate_random_number: Generates a random number within a specified range. | Parameters: {\"type\": \"dict\", \"properties\": {\"min\": {\"type\": \"integer\", \"description\": \"The minimum value of the range.\"}, \"max\": {\"type\": \"integer\", \"description\": \"The maximum value of the range.\"}}, \"required\": [\"min\", \"max\"]}\\nget_movie_rating: Fetches the age rating of a movie from the OMDB API. | Parameters: {\"type\": \"dict\", \"properties\": {\"movie_name\": {\"type\": \"string\", \"description\": \"The name of the movie.\"}}, \"required\": [\"movie_name\"]}\\nget_movie_genre: Retrieves the genre of a movie from the OMDB API. | Parameters: {\"type\": \"dict\", \"properties\": {\"movie_name\": {\"type\": \"string\", \"description\": \"The name of the movie to retrieve the genre for.\"}}, \"required\": [\"movie_name\"]}\\nget_director_by_movie_name: Gets the director of a movie. | Parameters: {\"type\": \"dict\", \"properties\": {\"movie_name\": {\"type\": \"string\", \"description\": \"The movie to find the director of.\"}}, \"required\": [\"movie_name\"]}\\nconvert_coordinates: Converts a list of tuples into a list of lists. | Parameters: {\"type\": \"dict\", \"properties\": {\"coordinates\": {\"type\": \"array\", \"items\": {\"type\": \"tuple\", \"items\": {\"type\": \"float\"}, \"description\": \"A single coordinate represented by a tuple (x, y).\"}, \"description\": \"The coordinates to be converted, where each coordinate is a tuple (x, y).\"}}, \"required\": [\"coordinates\"]}\\npolygon_area: Calculate the area of a polygon given its vertices using the shoelace formula. | Parameters: {\"type\": \"dict\", \"properties\": {\"vertices\": {\"type\": \"array\", \"items\": {\"type\": \"array\", \"items\": {\"type\": \"float\"}, \"minItems\": 2, \"maxItems\": 2, \"description\": \"A single vertex represented by a 2 element list [x, y].\"}, \"description\": \"The vertices of the polygon, where each vertex is a 2 element list [x, y].\"}}, \"required\": [\"vertices\"]}\\nvalidate_polygon: Checks if the given vertices form a valid polygon. | Parameters: {\"type\": \"dict\", \"properties\": {\"vertices\": {\"type\": \"array\", \"items\": {\"type\": \"array\", \"items\": {\"type\": \"float\"}, \"description\": \"A single vertex represented by a 2 element list [x, y].\"}, \"description\": \"The vertices of the polygon, where each vertex is a 2 element list [x, y].\"}}, \"required\": [\"vertices\"]}</td>\n",
       "    </tr>\n",
       "    <tr>\n",
       "      <th>4</th>\n",
       "      <td>I'm conducting a physics experiment involving charged particles and electric fields. There's a particle that I've introduced into the field, and it carries a charge of exactly 5 coulombs. The electric field itself has a potential difference of 10 volts. I need to calculate the electrostatic potential energy for this scenario. Can you help me with that calculation?</td>\n",
       "      <td>calculate_electrostatic_potential_energy(charge=5.0, voltage=10.0)</td>\n",
       "      <td>get_weather_data: Fetches weather data from the Open-Meteo API for the given latitude and longitude. | Parameters: {\"type\": \"dict\", \"properties\": {\"coordinates\": {\"type\": \"array\", \"items\": {\"type\": \"float\"}, \"description\": \"The latitude and longitude of the location.\"}}, \"required\": [\"coordinates\"]}\\ncalc_binomial_probability: Calculates the probability of getting k successes in n trials. | Parameters: {\"type\": \"dict\", \"properties\": {\"n\": {\"type\": \"integer\", \"description\": \"The number of trials.\"}, \"k\": {\"type\": \"integer\", \"description\": \"The number of successes.\"}, \"p\": {\"type\": \"float\", \"description\": \"The probability of success.\"}}, \"required\": [\"n\", \"k\", \"p\"]}\\ncalculate_cosine_similarity: Calculates the cosine similarity of two vectors. | Parameters: {\"type\": \"dict\", \"properties\": {\"vectorA\": {\"type\": \"array\", \"items\": {\"type\": \"float\"}, \"description\": \"The first vector.\"}, \"vectorB\": {\"type\": \"array\", \"items\": {\"type\": \"float\"}, \"description\": \"The second vector.\"}}, \"required\": [\"vectorA\", \"vectorB\"]}\\nget_stock_price_by_stock_name: Finds the price of a stock by its stock name. | Parameters: {\"type\": \"dict\", \"properties\": {\"stock_name\": {\"type\": \"string\", \"description\": \"The stock name of the product, in the format of the stock symbol.\"}}, \"required\": [\"stock_name\"]}\\ncalculate_density: Calculates the density of an object. | Parameters: {\"type\": \"dict\", \"properties\": {\"mass\": {\"type\": \"float\", \"description\": \"The mass of the object, in kilograms.\"}, \"volume\": {\"type\": \"float\", \"description\": \"The volume of the object, in cubic meters.\"}}, \"required\": [\"mass\", \"volume\"]}\\ncalculate_future_value: Calculates the future value of an investment. | Parameters: {\"type\": \"dict\", \"properties\": {\"present_value\": {\"type\": \"float\", \"description\": \"The present value of the investment, in dollars.\"}, \"interest_rate\": {\"type\": \"float\", \"description\": \"The interest rate of the investment, ranging from 0 to 1.\"}, \"periods\": {\"type\": \"integer\", \"description\": \"The number of periods, in years.\"}}, \"required\": [\"present_value\", \"interest_rate\", \"periods\"]}\\nget_rating_by_amazon_ASIN: Finds the rating of a product by its Amazon ASIN. | Parameters: {\"type\": \"dict\", \"properties\": {\"ASIN\": {\"type\": \"string\", \"description\": \"The Amazon ASIN of the product.\"}}, \"required\": [\"ASIN\"]}\\nretrieve_holiday_by_year: Finds the holidays of a year. | Parameters: {\"type\": \"dict\", \"properties\": {\"year\": {\"type\": \"string\", \"description\": \"The year of the holidays.\"}, \"country\": {\"type\": \"string\", \"description\": \"The country of the holidays. Possible options: US, AT, DE, ES, FR, GB, IT, NL, PL, RO, SK, UA.\"}}, \"required\": [\"year\", \"country\"]}\\ncalculate_displacement: Calculates the displacement of an object. | Parameters: {\"type\": \"dict\", \"properties\": {\"initial_velocity\": {\"type\": \"float\", \"description\": \"The initial velocity of the object, in meters per second.\"}, \"acceleration\": {\"type\": \"float\", \"description\": \"The acceleration of the object, in meters per second squared.\"}, \"time\": {\"type\": \"float\", \"description\": \"The time the object has been moving, in seconds.\"}}, \"required\": [\"initial_velocity\", \"acceleration\", \"time\"]}\\nget_zipcode_by_ip_address: Finds the zipcode of an IP address. | Parameters: {\"type\": \"dict\", \"properties\": {\"ip_address\": {\"type\": \"string\", \"description\": \"The IP address to find the location of.\"}}, \"required\": [\"ip_address\"]}\\ncalculate_electrostatic_potential_energy: Calculates the electrostatic potential energy. | Parameters: {\"type\": \"dict\", \"properties\": {\"charge\": {\"type\": \"float\", \"description\": \"The charge of the object, in coulombs.\"}, \"voltage\": {\"type\": \"float\", \"description\": \"The voltage of the object, in volts.\"}}, \"required\": [\"charge\", \"voltage\"]}\\nmortgage_calculator: Calculates the monthly mortgage payment. | Parameters: {\"type\": \"dict\", \"properties\": {\"loan_amount\": {\"type\": \"float\", \"description\": \"The amount of the loan.\"}, \"interest_rate\": {\"type\": \"float\", \"description\": \"The interest rate of the loan, ranging from 0 to 1.\"}, \"loan_period\": {\"type\": \"integer\", \"description\": \"The period of the loan, in years.\"}}, \"required\": [\"loan_amount\", \"interest_rate\", \"loan_period\"]}\\ncalculate_final_velocity: Calculates the final velocity of an object. | Parameters: {\"type\": \"dict\", \"properties\": {\"initial_velocity\": {\"type\": \"float\", \"description\": \"The initial velocity of the object.\"}, \"acceleration\": {\"type\": \"float\", \"description\": \"The acceleration of the object.\"}, \"time\": {\"type\": \"float\", \"description\": \"The time the object has been moving.\"}}, \"required\": [\"initial_velocity\", \"acceleration\", \"time\"]}\\nget_fibonacci_sequence: Calculates the n numbers of the Fibonacci. | Parameters: {\"type\": \"dict\", \"properties\": {\"n\": {\"type\": \"integer\", \"description\": \"The number of Fibonacci numbers to calculate.\"}}, \"required\": [\"n\"]}\\nsort_array: Sorts an array of numbers. | Parameters: {\"type\": \"dict\", \"properties\": {\"array\": {\"type\": \"array\", \"items\": {\"type\": \"float\"}, \"description\": \"The array of numbers.\"}, \"reverse\": {\"type\": \"boolean\", \"description\": \"Whether to sort the array in reverse order, i.e., descending order.\", \"default\": false}}, \"required\": [\"array\"]}\\nget_time_zone_by_coord: Finds the timezone of a coordinate. | Parameters: {\"type\": \"dict\", \"properties\": {\"long\": {\"type\": \"string\", \"description\": \"The longitude of the coordinate.\"}, \"lat\": {\"type\": \"string\", \"description\": \"The latitude of the coordinate.\"}}, \"required\": [\"long\", \"lat\"]}\\ncalculate_mean: Calculates the mean of a list of numbers. | Parameters: {\"type\": \"dict\", \"properties\": {\"numbers\": {\"type\": \"array\", \"items\": {\"type\": \"integer\"}, \"description\": \"The list of numbers.\"}}, \"required\": [\"numbers\"]}\\ncalculate_permutations: Calculates the number of permutations of k elements from a set of n elements. | Parameters: {\"type\": \"dict\", \"properties\": {\"n\": {\"type\": \"integer\", \"description\": \"The number of elements in the set.\"}, \"k\": {\"type\": \"integer\", \"description\": \"The number of elements to choose.\"}}, \"required\": [\"n\", \"k\"]}\\nget_company_name_by_stock_name: Finds the company name of a stock by its stock name. | Parameters: {\"type\": \"dict\", \"properties\": {\"stock_name\": {\"type\": \"string\", \"description\": \"The stock name of the product, in the format of the stock symbol.\"}}, \"required\": [\"stock_name\"]}\\ncalculate_standard_deviation: Calculates the standard deviation of a list of numbers. | Parameters: {\"type\": \"dict\", \"properties\": {\"numbers\": {\"type\": \"array\", \"items\": {\"type\": \"integer\"}, \"description\": \"The list of numbers.\"}}, \"required\": [\"numbers\"]}\\nmath_lcm: Calculates the least common multiple of two numbers. | Parameters: {\"type\": \"dict\", \"properties\": {\"a\": {\"type\": \"integer\", \"description\": \"The first number. This should be the larger number.\"}, \"b\": {\"type\": \"integer\", \"description\": \"The second number.\"}}, \"required\": [\"a\", \"b\"]}\\ncalculate_triangle_area: Calculates the area of a triangle given its base and height. | Parameters: {\"type\": \"dict\", \"properties\": {\"base\": {\"type\": \"integer\", \"description\": \"The base of the triangle, in meters.\"}, \"height\": {\"type\": \"integer\", \"description\": \"The height of the triangle, in meters.\"}}, \"required\": [\"base\", \"height\"]}\\nconvert_currency: Converts a given amount from one currency to another using the ExchangeRate-API. | Parameters: {\"type\": \"dict\", \"properties\": {\"amount\": {\"type\": \"float\", \"description\": \"The amount of money to convert, in the base currency.\"}, \"from_currency\": {\"type\": \"string\", \"description\": \"The ISO currency code for the base currency.\"}, \"to_currency\": {\"type\": \"string\", \"description\": \"The ISO currency code for the target currency.\"}}, \"required\": [\"amount\", \"from_currency\", \"to_currency\"]}\\nget_stock_history: Finds the price of a stock by its stock name. | Parameters: {\"type\": \"dict\", \"properties\": {\"stock_name\": {\"type\": \"string\", \"description\": \"The stock name of the product, in the format of the stock symbol.\"}, \"interval\": {\"type\": \"string\", \"description\": \"The interval of the stock history. Allows one of following : 5m|15m|30m|1h|1d|1wk|1mo|3mo\"}, \"diffandsplits\": {\"type\": \"string\", \"description\": \"The diff and splits of the stock history. Allows one of following : true|false. Default to false\"}}, \"required\": [\"stock_name\", \"interval\"]}\\nmath_gcd: Calculates the greatest common divisor of two numbers. | Parameters: {\"type\": \"dict\", \"properties\": {\"a\": {\"type\": \"integer\", \"description\": \"The first number. This should be the larger number.\"}, \"b\": {\"type\": \"integer\", \"description\": \"The second number.\"}}, \"required\": [\"a\", \"b\"]}\\nestimate_derivative: Estimate the derivative of a function at a given point. | Parameters: {\"type\": \"dict\", \"properties\": {\"function\": {\"type\": \"string\", \"description\": \"The function to calculate the derivative of. This should be the string literal of lambda function\"}, \"x\": {\"type\": \"integer\", \"description\": \"The point to calculate the derivative at.\"}}, \"required\": [\"function\", \"x\"]}\\nfind_term_on_urban_dictionary: Finds the definition of a term on Urban Dictionary. | Parameters: {\"type\": \"dict\", \"properties\": {\"term\": {\"type\": \"string\", \"description\": \"The term to find the definition of.\"}}, \"required\": [\"term\"]}\\nget_distance: Calculates the distance between two 2D points. | Parameters: {\"type\": \"dict\", \"properties\": {\"pointA\": {\"type\": \"tuple\", \"description\": \"The first point.\", \"items\": {\"type\": \"float\"}}, \"pointB\": {\"type\": \"tuple\", \"description\": \"The second point.\", \"items\": {\"type\": \"float\"}}}, \"required\": [\"pointA\", \"pointB\"]}\\ngeometry_area_circle: Calculates the area of a circle. | Parameters: {\"type\": \"dict\", \"properties\": {\"radius\": {\"type\": \"integer\", \"description\": \"The radius of the circle, in feet.\"}}, \"required\": [\"radius\"]}\\nget_covid_death_by_country: Finds the most up to date total deaths of a country result from COVID. | Parameters: {\"type\": \"dict\", \"properties\": {\"country\": {\"type\": \"string\", \"description\": \"The country to find the total deaths of, in the format of the country's full name.\"}}, \"required\": [\"country\"]}\\nget_active_covid_case_by_country: Finds the most up to date active cases of a country result from COVID. | Parameters: {\"type\": \"dict\", \"properties\": {\"country\": {\"type\": \"string\", \"description\": \"The country to find the active cases of, in the format of the country's full name.\"}}, \"required\": [\"country\"]}\\nmat_mul: Multiplies two matrices. | Parameters: {\"type\": \"dict\", \"properties\": {\"matA\": {\"type\": \"array\", \"description\": \"The first matrix.\", \"items\": {\"type\": \"array\", \"items\": {\"type\": \"integer\"}}}, \"matB\": {\"type\": \"array\", \"description\": \"The second matrix.\", \"items\": {\"type\": \"array\", \"items\": {\"type\": \"integer\"}}}}, \"required\": [\"matA\", \"matB\"]}\\nget_coordinate_by_ip_address: Finds the latitude and longitude of an IP address. | Parameters: {\"type\": \"dict\", \"properties\": {\"ip_address\": {\"type\": \"string\", \"description\": \"The IP address to find the location of.\"}}, \"required\": [\"ip_address\"]}\\nget_coordinates_from_city: Fetches the latitude and longitude of a given city name using the Maps.co Geocoding API. | Parameters: {\"type\": \"dict\", \"properties\": {\"city_name\": {\"type\": \"string\", \"description\": \"The name of the city, such as 'Rome'.\"}}, \"required\": [\"city_name\"]}\\nget_product_name_by_amazon_ASIN: Finds the price of a product by its Amazon ASIN. | Parameters: {\"type\": \"dict\", \"properties\": {\"ASIN\": {\"type\": \"string\", \"description\": \"The Amazon ASIN of the product.\"}}, \"required\": [\"ASIN\"]}\\nget_price_by_amazon_ASIN: Finds the price of a product by its Amazon ASIN. | Parameters: {\"type\": \"dict\", \"properties\": {\"ASIN\": {\"type\": \"string\", \"description\": \"The Amazon ASIN of the product.\"}}, \"required\": [\"ASIN\"]}\\nget_prime_factors: Calculates the prime factors of a number. | Parameters: {\"type\": \"dict\", \"properties\": {\"number\": {\"type\": \"integer\", \"description\": \"The number to calculate the prime factors of.\"}}, \"required\": [\"number\"]}\\nretrieve_city_based_on_zipcode: Finds the city of a zipcode. | Parameters: {\"type\": \"dict\", \"properties\": {\"zipcode\": {\"type\": \"string\", \"description\": \"The zipcode of the city.\"}}, \"required\": [\"zipcode\"]}\\nmath_factorial: Calculates the factorial of a number. | Parameters: {\"type\": \"dict\", \"properties\": {\"n\": {\"type\": \"integer\", \"description\": \"The number to calculate the factorial of.\"}}, \"required\": [\"n\"]}\\nquadratic_roots: Calculates the roots of a quadratic equation. | Parameters: {\"type\": \"dict\", \"properties\": {\"a\": {\"type\": \"integer\", \"description\": \"The first coefficient.\"}, \"b\": {\"type\": \"integer\", \"description\": \"The second coefficient.\"}, \"c\": {\"type\": \"integer\", \"description\": \"The third coefficient.\"}}, \"required\": [\"a\", \"b\", \"c\"]}\\nadd_binary_numbers: Adds two binary numbers. | Parameters: {\"type\": \"dict\", \"properties\": {\"a\": {\"type\": \"string\", \"description\": \"The first binary number.\"}, \"b\": {\"type\": \"string\", \"description\": \"The second binary number.\"}}, \"required\": [\"a\", \"b\"]}\\nconvert_binary_to_decimal: Converts a binary number to a decimal number. | Parameters: {\"type\": \"dict\", \"properties\": {\"binary\": {\"type\": \"string\", \"description\": \"The binary number to convert.\"}}, \"required\": [\"binary\"]}\\nconvert_decimal_to_hex: Converts a decimal number to a hexadecimal number. | Parameters: {\"type\": \"dict\", \"properties\": {\"decimal\": {\"type\": \"integer\", \"description\": \"The decimal number to convert.\"}}, \"required\": [\"decimal\"]}\\nlinear_regression: Finds the linear regression of a set of points and evaluates it at a given point. | Parameters: {\"type\": \"dict\", \"properties\": {\"x\": {\"type\": \"array\", \"description\": \"The x coordinates of the points.\", \"items\": {\"type\": \"integer\"}}, \"y\": {\"type\": \"array\", \"description\": \"The y coordinates of the points.\", \"items\": {\"type\": \"integer\"}}, \"point\": {\"type\": \"integer\", \"description\": \"The point to calculate the linear regression at.\"}}, \"required\": [\"x\", \"y\", \"point\"]}\\ncalculate_slope: Calculates the slope of the linear regression line from a set of points. | Parameters: {\"type\": \"dict\", \"properties\": {\"x\": {\"type\": \"array\", \"description\": \"The x coordinates of the points.\", \"items\": {\"type\": \"integer\"}}, \"y\": {\"type\": \"array\", \"description\": \"The y coordinates of the points.\", \"items\": {\"type\": \"integer\"}}}, \"required\": [\"x\", \"y\"]}\\ncalculate_intercept: Calculates the y-intercept of the linear regression line from a set of points and a given slope. | Parameters: {\"type\": \"dict\", \"properties\": {\"x\": {\"type\": \"array\", \"description\": \"The x coordinates of the points.\", \"items\": {\"type\": \"integer\"}}, \"y\": {\"type\": \"array\", \"description\": \"The y coordinates of the points.\", \"items\": {\"type\": \"integer\"}}, \"slope\": {\"type\": \"integer\", \"description\": \"The slope of the linear regression line.\"}}, \"required\": [\"x\", \"y\", \"slope\"]}\\npredict_value: Predicts the value of y given the slope, intercept, and an x value. | Parameters: {\"type\": \"dict\", \"properties\": {\"slope\": {\"type\": \"integer\", \"description\": \"The slope of the linear regression line.\"}, \"intercept\": {\"type\": \"integer\", \"description\": \"The y-intercept of the linear regression line.\"}, \"x\": {\"type\": \"integer\", \"description\": \"The x value to predict the y for.\"}}, \"required\": [\"slope\", \"intercept\", \"x\"]}\\ncalculate_investment_value: Calculates the value of an investment over time. | Parameters: {\"type\": \"dict\", \"properties\": {\"initial_investment\": {\"type\": \"integer\", \"description\": \"The initial investment amount.\"}, \"annual_contribution\": {\"type\": \"integer\", \"description\": \"The annual contribution amount.\"}, \"years\": {\"type\": \"integer\", \"description\": \"The number of years to calculate the investment value for.\"}, \"annual_return\": {\"type\": \"float\", \"description\": \"The annual return rate, ranging from 0 to 1.\"}, \"inflation_rate\": {\"type\": \"array\", \"items\": {\"type\": \"float\"}, \"description\": \"The inflation rate for each year in percentage, ranging from 0 to 1.\"}, \"adjust_for_inflation\": {\"type\": \"boolean\", \"default\": true, \"description\": \"Whether to adjust the investment value for inflation.\"}}, \"required\": [\"initial_investment\", \"annual_contribution\", \"years\", \"annual_return\", \"inflation_rate\"]}\\ncompound_interest: Calculates compound interest over time. | Parameters: {\"type\": \"dict\", \"properties\": {\"principal\": {\"type\": \"integer\", \"description\": \"The principal amount.\"}, \"rate\": {\"type\": \"float\", \"description\": \"The annual interest rate.\"}, \"times_compounded\": {\"type\": \"integer\", \"description\": \"The number of times the interest is compounded per year.\"}, \"years\": {\"type\": \"integer\", \"description\": \"The number of years to calculate the compound interest for.\"}}, \"required\": [\"principal\", \"rate\", \"times_compounded\", \"years\"]}\\ninflation_adjustment: Adjusts an amount for inflation. | Parameters: {\"type\": \"dict\", \"properties\": {\"amount\": {\"type\": \"float\", \"description\": \"The amount to adjust for inflation.\"}, \"inflation_rate\": {\"type\": \"float\", \"description\": \"The annual inflation float.\"}, \"years\": {\"type\": \"integer\", \"description\": \"The number of years to adjust for inflation.\"}}, \"required\": [\"amount\", \"inflation_rate\", \"years\"]}\\nadjust_for_inflation: Adjusts the investment value for inflation for each year. | Parameters: {\"type\": \"dict\", \"properties\": {\"investment_value\": {\"type\": \"float\", \"description\": \"The value of the investment to adjust.\"}, \"inflation_rates\": {\"type\": \"array\", \"items\": {\"type\": \"float\"}, \"description\": \"The inflation rates for each year.\"}}, \"required\": [\"investment_value\", \"inflation_rates\"]}\\ncalculate_basal_metabolic_rate: Calculates the Basal Metabolic Rate (BMR) of a person. | Parameters: {\"type\": \"dict\", \"properties\": {\"weight\": {\"type\": \"float\", \"description\": \"The weight of the person in kilograms.\"}, \"height\": {\"type\": \"float\", \"description\": \"The height of the person in centimeters.\"}, \"age\": {\"type\": \"float\", \"description\": \"The age of the person in years.\"}, \"gender\": {\"type\": \"string\", \"description\": \"The gender of the person. Possible options [male, female, other].\"}}, \"required\": [\"weight\", \"height\", \"age\", \"gender\"]}\\ncalculate_daily_energy_expenditure: Calculates the daily energy expenditure based on BMR and activity level. | Parameters: {\"type\": \"dict\", \"properties\": {\"basal_metabolic_rate\": {\"type\": \"float\", \"description\": \"The BMR of the person.\"}, \"activity_level\": {\"type\": \"float\", \"description\": \"The activity level of the person. Possible options [1,2,3,4,5].\"}}, \"required\": [\"basal_metabolic_rate\", \"activity_level\"]}\\ncalculate_nutritional_needs: Calculates the nutritional needs of a person based on their weight, height, age, gender, activity level, and goal. | Parameters: {\"type\": \"dict\", \"properties\": {\"weight\": {\"type\": \"float\", \"description\": \"The weight of the person in kilograms.\"}, \"height\": {\"type\": \"float\", \"description\": \"The height of the person in centimeters.\"}, \"age\": {\"type\": \"float\", \"description\": \"The age of the person in years.\"}, \"gender\": {\"type\": \"string\", \"description\": \"The gender of the person. Possible options [male, female, other].\"}, \"activity_level\": {\"type\": \"float\", \"description\": \"The activity level of the person. Possible options [1,2,3,4,5].\"}, \"goal\": {\"type\": \"string\", \"description\": \"The goal of the person. Possible options [lose, gain, maintain].\"}}, \"required\": [\"weight\", \"height\", \"age\", \"gender\", \"activity_level\", \"goal\"]}\\nbook_room: Books a room for a customer. | Parameters: {\"type\": \"dict\", \"properties\": {\"room_type\": {\"type\": \"dict\", \"description\": \"The room type to book.\"}, \"check_in_date\": {\"type\": \"string\", \"description\": \"The check-in date in format of MM-DD-YYYY.\"}, \"check_out_date\": {\"type\": \"string\", \"description\": \"The check-out date in format of MM-DD-YYYY.\"}, \"customer_id\": {\"type\": \"string\", \"description\": \"The customer ID.\"}, \"discount_code\": {\"type\": \"string\", \"description\": \"The discount code (if any).\", \"default\": null}}, \"required\": [\"room_type\", \"check_in_date\", \"check_out_date\", \"customer_id\"]}\\ncalculate_total_price: Calculates the total price of the room booking. | Parameters: {\"type\": \"dict\", \"properties\": {\"room_price\": {\"type\": \"float\", \"description\": \"The price per night of the room.\"}, \"nights\": {\"type\": \"integer\", \"description\": \"The number of nights for the booking.\"}, \"discount\": {\"type\": \"float\", \"description\": \"The discount amount (if any).\", \"default\": 0}}, \"required\": [\"room_price\", \"nights\"]}\\nconfirm_booking: Confirms the room booking and sends a confirmation to the customer. | Parameters: {\"type\": \"dict\", \"properties\": {\"customer_id\": {\"type\": \"string\", \"description\": \"The customer ID.\"}, \"room_number\": {\"type\": \"string\", \"description\": \"The room number assigned to the booking.\"}, \"total_price\": {\"type\": \"float\", \"description\": \"The total price for the booking.\"}}, \"required\": [\"customer_id\", \"room_number\", \"total_price\"]}\\norder_food: Orders food for a customer. Return the total price. | Parameters: {\"type\": \"dict\", \"properties\": {\"item\": {\"type\": \"array\", \"items\": {\"type\": \"string\"}, \"description\": \"the name of the product.\"}, \"quantity\": {\"type\": \"array\", \"items\": {\"type\": \"integer\"}, \"description\": \"the number of the product purchased.\"}, \"price\": {\"type\": \"array\", \"items\": {\"type\": \"float\"}, \"description\": \"the price of the product.\"}}, \"required\": [\"item\", \"quantity\", \"price\"]}\\ncalculate_total: Calculates the total price of an order given the quantities and prices. | Parameters: {\"type\": \"dict\", \"properties\": {\"quantities\": {\"type\": \"array\", \"items\": {\"type\": \"integer\"}, \"description\": \"The quantities of each product.\"}, \"prices\": {\"type\": \"array\", \"items\": {\"type\": \"float\"}, \"description\": \"The price of each product.\"}}, \"required\": [\"quantities\", \"prices\"]}\\napply_discount: Applies a discount to the total price. | Parameters: {\"type\": \"dict\", \"properties\": {\"total\": {\"type\": \"float\", \"description\": \"The original total price.\"}, \"discount\": {\"type\": \"float\", \"description\": \"The discount percentage to apply.\"}}, \"required\": [\"total\", \"discount\"]}\\nget_movie_director: Fetches the director of a movie from the OMDB API. | Parameters: {\"type\": \"dict\", \"properties\": {\"movie_name\": {\"type\": \"string\", \"description\": \"The name of the movie.\"}}, \"required\": [\"movie_name\"]}\\ncalculate_interest_rate: Calculates the interest rate for a given principal, rate, and time. | Parameters: {\"type\": \"dict\", \"properties\": {\"principal\": {\"type\": \"float\", \"description\": \"The initial amount of money.\"}, \"rate\": {\"type\": \"float\", \"description\": \"The interest rate per period.\"}, \"time\": {\"type\": \"float\", \"description\": \"The time the money is invested or borrowed for.\"}}, \"required\": [\"principal\", \"rate\", \"time\"]}\\nconvert_temperature: Converts temperature from Celsius to Fahrenheit or vice versa. | Parameters: {\"type\": \"dict\", \"properties\": {\"temperature\": {\"type\": \"float\", \"description\": \"The temperature to convert.\"}, \"unit_from\": {\"type\": \"string\", \"description\": \"The current unit of the temperature (Celsius or Fahrenheit).\"}, \"unit_to\": {\"type\": \"string\", \"description\": \"The unit to convert the temperature to (Celsius or Fahrenheit).\"}}, \"required\": [\"temperature\", \"unit_from\", \"unit_to\"]}\\ngenerate_random_number: Generates a random number within a specified range. | Parameters: {\"type\": \"dict\", \"properties\": {\"min\": {\"type\": \"integer\", \"description\": \"The minimum value of the range.\"}, \"max\": {\"type\": \"integer\", \"description\": \"The maximum value of the range.\"}}, \"required\": [\"min\", \"max\"]}\\nget_movie_rating: Fetches the age rating of a movie from the OMDB API. | Parameters: {\"type\": \"dict\", \"properties\": {\"movie_name\": {\"type\": \"string\", \"description\": \"The name of the movie.\"}}, \"required\": [\"movie_name\"]}\\nget_movie_genre: Retrieves the genre of a movie from the OMDB API. | Parameters: {\"type\": \"dict\", \"properties\": {\"movie_name\": {\"type\": \"string\", \"description\": \"The name of the movie to retrieve the genre for.\"}}, \"required\": [\"movie_name\"]}\\nget_director_by_movie_name: Gets the director of a movie. | Parameters: {\"type\": \"dict\", \"properties\": {\"movie_name\": {\"type\": \"string\", \"description\": \"The movie to find the director of.\"}}, \"required\": [\"movie_name\"]}\\nconvert_coordinates: Converts a list of tuples into a list of lists. | Parameters: {\"type\": \"dict\", \"properties\": {\"coordinates\": {\"type\": \"array\", \"items\": {\"type\": \"tuple\", \"items\": {\"type\": \"float\"}, \"description\": \"A single coordinate represented by a tuple (x, y).\"}, \"description\": \"The coordinates to be converted, where each coordinate is a tuple (x, y).\"}}, \"required\": [\"coordinates\"]}\\npolygon_area: Calculate the area of a polygon given its vertices using the shoelace formula. | Parameters: {\"type\": \"dict\", \"properties\": {\"vertices\": {\"type\": \"array\", \"items\": {\"type\": \"array\", \"items\": {\"type\": \"float\"}, \"minItems\": 2, \"maxItems\": 2, \"description\": \"A single vertex represented by a 2 element list [x, y].\"}, \"description\": \"The vertices of the polygon, where each vertex is a 2 element list [x, y].\"}}, \"required\": [\"vertices\"]}\\nvalidate_polygon: Checks if the given vertices form a valid polygon. | Parameters: {\"type\": \"dict\", \"properties\": {\"vertices\": {\"type\": \"array\", \"items\": {\"type\": \"array\", \"items\": {\"type\": \"float\"}, \"description\": \"A single vertex represented by a 2 element list [x, y].\"}, \"description\": \"The vertices of the polygon, where each vertex is a 2 element list [x, y].\"}}, \"required\": [\"vertices\"]}</td>\n",
       "    </tr>\n",
       "  </tbody>\n",
       "</table>\n",
       "</div>\n",
       "    <div class=\"colab-df-buttons\">\n",
       "\n",
       "  <div class=\"colab-df-container\">\n",
       "    <button class=\"colab-df-convert\" onclick=\"convertToInteractive('df-cc26d1fd-4f1e-4de6-9423-dc1b50e2ec28')\"\n",
       "            title=\"Convert this dataframe to an interactive table.\"\n",
       "            style=\"display:none;\">\n",
       "\n",
       "  <svg xmlns=\"http://www.w3.org/2000/svg\" height=\"24px\" viewBox=\"0 -960 960 960\">\n",
       "    <path d=\"M120-120v-720h720v720H120Zm60-500h600v-160H180v160Zm220 220h160v-160H400v160Zm0 220h160v-160H400v160ZM180-400h160v-160H180v160Zm440 0h160v-160H620v160ZM180-180h160v-160H180v160Zm440 0h160v-160H620v160Z\"/>\n",
       "  </svg>\n",
       "    </button>\n",
       "\n",
       "  <style>\n",
       "    .colab-df-container {\n",
       "      display:flex;\n",
       "      gap: 12px;\n",
       "    }\n",
       "\n",
       "    .colab-df-convert {\n",
       "      background-color: #E8F0FE;\n",
       "      border: none;\n",
       "      border-radius: 50%;\n",
       "      cursor: pointer;\n",
       "      display: none;\n",
       "      fill: #1967D2;\n",
       "      height: 32px;\n",
       "      padding: 0 0 0 0;\n",
       "      width: 32px;\n",
       "    }\n",
       "\n",
       "    .colab-df-convert:hover {\n",
       "      background-color: #E2EBFA;\n",
       "      box-shadow: 0px 1px 2px rgba(60, 64, 67, 0.3), 0px 1px 3px 1px rgba(60, 64, 67, 0.15);\n",
       "      fill: #174EA6;\n",
       "    }\n",
       "\n",
       "    .colab-df-buttons div {\n",
       "      margin-bottom: 4px;\n",
       "    }\n",
       "\n",
       "    [theme=dark] .colab-df-convert {\n",
       "      background-color: #3B4455;\n",
       "      fill: #D2E3FC;\n",
       "    }\n",
       "\n",
       "    [theme=dark] .colab-df-convert:hover {\n",
       "      background-color: #434B5C;\n",
       "      box-shadow: 0px 1px 3px 1px rgba(0, 0, 0, 0.15);\n",
       "      filter: drop-shadow(0px 1px 2px rgba(0, 0, 0, 0.3));\n",
       "      fill: #FFFFFF;\n",
       "    }\n",
       "  </style>\n",
       "\n",
       "    <script>\n",
       "      const buttonEl =\n",
       "        document.querySelector('#df-cc26d1fd-4f1e-4de6-9423-dc1b50e2ec28 button.colab-df-convert');\n",
       "      buttonEl.style.display =\n",
       "        google.colab.kernel.accessAllowed ? 'block' : 'none';\n",
       "\n",
       "      async function convertToInteractive(key) {\n",
       "        const element = document.querySelector('#df-cc26d1fd-4f1e-4de6-9423-dc1b50e2ec28');\n",
       "        const dataTable =\n",
       "          await google.colab.kernel.invokeFunction('convertToInteractive',\n",
       "                                                    [key], {});\n",
       "        if (!dataTable) return;\n",
       "\n",
       "        const docLinkHtml = 'Like what you see? Visit the ' +\n",
       "          '<a target=\"_blank\" href=https://colab.research.google.com/notebooks/data_table.ipynb>data table notebook</a>'\n",
       "          + ' to learn more about interactive tables.';\n",
       "        element.innerHTML = '';\n",
       "        dataTable['output_type'] = 'display_data';\n",
       "        await google.colab.output.renderOutput(dataTable, element);\n",
       "        const docLink = document.createElement('div');\n",
       "        docLink.innerHTML = docLinkHtml;\n",
       "        element.appendChild(docLink);\n",
       "      }\n",
       "    </script>\n",
       "  </div>\n",
       "\n",
       "\n",
       "    <div id=\"df-5220ca21-eddd-48eb-ace5-c32a24e4fcd4\">\n",
       "      <button class=\"colab-df-quickchart\" onclick=\"quickchart('df-5220ca21-eddd-48eb-ace5-c32a24e4fcd4')\"\n",
       "                title=\"Suggest charts\"\n",
       "                style=\"display:none;\">\n",
       "\n",
       "<svg xmlns=\"http://www.w3.org/2000/svg\" height=\"24px\"viewBox=\"0 0 24 24\"\n",
       "     width=\"24px\">\n",
       "    <g>\n",
       "        <path d=\"M19 3H5c-1.1 0-2 .9-2 2v14c0 1.1.9 2 2 2h14c1.1 0 2-.9 2-2V5c0-1.1-.9-2-2-2zM9 17H7v-7h2v7zm4 0h-2V7h2v10zm4 0h-2v-4h2v4z\"/>\n",
       "    </g>\n",
       "</svg>\n",
       "      </button>\n",
       "\n",
       "<style>\n",
       "  .colab-df-quickchart {\n",
       "      --bg-color: #E8F0FE;\n",
       "      --fill-color: #1967D2;\n",
       "      --hover-bg-color: #E2EBFA;\n",
       "      --hover-fill-color: #174EA6;\n",
       "      --disabled-fill-color: #AAA;\n",
       "      --disabled-bg-color: #DDD;\n",
       "  }\n",
       "\n",
       "  [theme=dark] .colab-df-quickchart {\n",
       "      --bg-color: #3B4455;\n",
       "      --fill-color: #D2E3FC;\n",
       "      --hover-bg-color: #434B5C;\n",
       "      --hover-fill-color: #FFFFFF;\n",
       "      --disabled-bg-color: #3B4455;\n",
       "      --disabled-fill-color: #666;\n",
       "  }\n",
       "\n",
       "  .colab-df-quickchart {\n",
       "    background-color: var(--bg-color);\n",
       "    border: none;\n",
       "    border-radius: 50%;\n",
       "    cursor: pointer;\n",
       "    display: none;\n",
       "    fill: var(--fill-color);\n",
       "    height: 32px;\n",
       "    padding: 0;\n",
       "    width: 32px;\n",
       "  }\n",
       "\n",
       "  .colab-df-quickchart:hover {\n",
       "    background-color: var(--hover-bg-color);\n",
       "    box-shadow: 0 1px 2px rgba(60, 64, 67, 0.3), 0 1px 3px 1px rgba(60, 64, 67, 0.15);\n",
       "    fill: var(--button-hover-fill-color);\n",
       "  }\n",
       "\n",
       "  .colab-df-quickchart-complete:disabled,\n",
       "  .colab-df-quickchart-complete:disabled:hover {\n",
       "    background-color: var(--disabled-bg-color);\n",
       "    fill: var(--disabled-fill-color);\n",
       "    box-shadow: none;\n",
       "  }\n",
       "\n",
       "  .colab-df-spinner {\n",
       "    border: 2px solid var(--fill-color);\n",
       "    border-color: transparent;\n",
       "    border-bottom-color: var(--fill-color);\n",
       "    animation:\n",
       "      spin 1s steps(1) infinite;\n",
       "  }\n",
       "\n",
       "  @keyframes spin {\n",
       "    0% {\n",
       "      border-color: transparent;\n",
       "      border-bottom-color: var(--fill-color);\n",
       "      border-left-color: var(--fill-color);\n",
       "    }\n",
       "    20% {\n",
       "      border-color: transparent;\n",
       "      border-left-color: var(--fill-color);\n",
       "      border-top-color: var(--fill-color);\n",
       "    }\n",
       "    30% {\n",
       "      border-color: transparent;\n",
       "      border-left-color: var(--fill-color);\n",
       "      border-top-color: var(--fill-color);\n",
       "      border-right-color: var(--fill-color);\n",
       "    }\n",
       "    40% {\n",
       "      border-color: transparent;\n",
       "      border-right-color: var(--fill-color);\n",
       "      border-top-color: var(--fill-color);\n",
       "    }\n",
       "    60% {\n",
       "      border-color: transparent;\n",
       "      border-right-color: var(--fill-color);\n",
       "    }\n",
       "    80% {\n",
       "      border-color: transparent;\n",
       "      border-right-color: var(--fill-color);\n",
       "      border-bottom-color: var(--fill-color);\n",
       "    }\n",
       "    90% {\n",
       "      border-color: transparent;\n",
       "      border-bottom-color: var(--fill-color);\n",
       "    }\n",
       "  }\n",
       "</style>\n",
       "\n",
       "      <script>\n",
       "        async function quickchart(key) {\n",
       "          const quickchartButtonEl =\n",
       "            document.querySelector('#' + key + ' button');\n",
       "          quickchartButtonEl.disabled = true;  // To prevent multiple clicks.\n",
       "          quickchartButtonEl.classList.add('colab-df-spinner');\n",
       "          try {\n",
       "            const charts = await google.colab.kernel.invokeFunction(\n",
       "                'suggestCharts', [key], {});\n",
       "          } catch (error) {\n",
       "            console.error('Error during call to suggestCharts:', error);\n",
       "          }\n",
       "          quickchartButtonEl.classList.remove('colab-df-spinner');\n",
       "          quickchartButtonEl.classList.add('colab-df-quickchart-complete');\n",
       "        }\n",
       "        (() => {\n",
       "          let quickchartButtonEl =\n",
       "            document.querySelector('#df-5220ca21-eddd-48eb-ace5-c32a24e4fcd4 button');\n",
       "          quickchartButtonEl.style.display =\n",
       "            google.colab.kernel.accessAllowed ? 'block' : 'none';\n",
       "        })();\n",
       "      </script>\n",
       "    </div>\n",
       "\n",
       "    </div>\n",
       "  </div>\n"
      ],
      "text/plain": [
       "                                                                                                                                                                                                                                                                                                                                                                         question  \\\n",
       "0                                                                                                                  I'm playing a dice game and want to calculate my chances. I roll the die 20 times, and I'm trying to figure out the probability of landing on a 6 exactly five times, considering each roll has a one in six chance of being a 6. Could you help me with that?   \n",
       "1      I'm working on a machine learning model, comparing the characteristics of two objects. The feature vectors for these objects are [0.5, 0.7, 0.2, 0.9, 0.1] for the first object and [0.4, 0.6, 0.3, 0.8, 0.2] for the second. To understand how similar these objects are, I need to calculate the cosine similarity between these two vectors. Can you help me with that?   \n",
       "2                                                                                                                                                                           I'm currently conducting a physics experiment, and I have this object that weighs 50 kilograms and takes up a space of about 10 cubic meters. Could you help me calculate the density of this object?   \n",
       "3                                                                                                   I'm working on a physics experiment where we're tracking the movement of a special object. It starts off at 15 m/s, and we're accelerating it at a rate of 9.8 m/s². I need to calculate how far it will have traveled after 10 seconds. Can you crunch those numbers for me?   \n",
       "4  I'm conducting a physics experiment involving charged particles and electric fields. There's a particle that I've introduced into the field, and it carries a charge of exactly 5 coulombs. The electric field itself has a potential difference of 10 volts. I need to calculate the electrostatic potential energy for this scenario. Can you help me with that calculation?   \n",
       "\n",
       "                                                                                           tool_call  \\\n",
       "0                                                        calc_binomial_probability(n=20, k=5, p=1/6)   \n",
       "1  calculate_cosine_similarity(vectorA=[0.5, 0.7, 0.2, 0.9, 0.1], vectorB=[0.4, 0.6, 0.3, 0.8, 0.2])   \n",
       "2                                                              calculate_density(mass=50, volume=10)   \n",
       "3                           calculate_displacement(initial_velocity=15.0, acceleration=9.8, time=10)   \n",
       "4                                 calculate_electrostatic_potential_energy(charge=5.0, voltage=10.0)   \n",
       "\n",
       "                                                                                                                                                                                                                                                                                                                                                                                                                                                                                                                                                                                                                                                                                                                                                                                                                                                                                                                                                                                                                                                                                                                                                                                                                                                                                                                                                                                                                                                                                                                                                                                                                                                                                                                                                                                                                                                                                                                                                                                                                                                                                                                                                                                                                                                                                                                                                                                                                                                                                                                                                                                                                                                                                                                                                                                                                                                                                                                                                                                                                                                                                                                                                                                                                                                                                                                                                                                                                                                                                                                                                                                                                                                                                                                                                                                                                                                                                                                                                                                                                                                                                                                                                                                                                                                                                                                                                                                                                                                                                                                                                                                                                                                                                                                                                                                                                                                                                                                                                                                                                                                                                                                                                                                                                                                                                                                                                                                                                                                                                                                                                                                                                                                                                                                                                                                                                                                                                                                                                                                                                                                                                                                                                                                                                                                                                                                                                                                                                                                                                                                                                                                                                                                                                                                                                                                                                                                                                                                                                                                                                                                                                                                                                                                                                                                                                                                                                                                                                                                                                                                                                                                                                                                                                                                                                                                                                                                                                                                                                                                                                                                                                                                                                                                                                                                                                                                                                                                                                                                                                                                                                                                                                                                                                                                                                                                                                                                                                                                                                                                                                                                                                                                                                                                                                                                                                                                                                                                                                                                                                                                                                                                                                                                                                                                                                                                                                                                                                                                                                                                                                                                                                                                                                                                                                                                                                                                                                                                                                                                                                                                                                                                                                                                                                                                                                                                                                                                                                                                                                                                                                                                                                                                                                                                                                                                                                                                                                                                                                                                                                                                                                                                                                                                                                                                                                                                                                                                                                                                                                                                                                                                                                                                                                                                                                                                                                                                                                                                                                                                                                                                                                                                                                                                                                                                                                                                                                                                                                                                                                                                                                                                                                                                                                                                                                                                                                                                                                                                                                                                                                                                                                                                                                                                                                                                                                                                                                                                                                                                                                                                                                                                                                                                                                                                                                                                                                                                                                                                                                                                                                                                                                                                                                                                                                                                                                                                                                                                                                                                                                                                                                                                                                                                                                                                                                                                                                                                                                                                                                                                                                                                                                                                                                                                                                                                                                                                                                                                                                                                                                                                                                                                                                                                                                                                                                                                                                                                                                                                                                                                                                                                                                                                                                                                                                                                                                                                                                                                                                                                                                                                                                                                                                                                                                                                                                                                                                                                                                                                                                                                                                                                                                                                                                                                                                                                                                                                                                                                                                                                                                                                                                                                                                                                                                                                                                                                                                                                                                                                                                                                                                                                                                                                                                                                                                                                                                                                                                                                                                                                                                                                                                                                                                                                                                                                                                                                                                                                                                                                                                                                                                                                                                                                                                                                                                                                                                                                                                                                                                                                                                                                                                                                                                                                                                                                                                                                                                                                                                                                                                                                                                                                                                                                                                                                                                                                                                                                                                                                                                                                                                                                                                                                                                                                                                                                                                                                                                                                                                                                                                                                                                                                                                                                                                                                                                                                                                                                                                                                                                                                                                                                                                                                                                                                                                                                                                                                                                                                                                                                                                                                                                                                                                                                                                                                                                                                                                                                                                                                                                                                                                                                                                                                                                                                                                                                                                                                                                                                                                                                                                                                                                                                                                                                                                                                                                                                                                                                                                                                                                                                                                                                                                                                                                                                                                                                                                                                                                                                                                                                                                                                                                                                                                                                                                                                                                                                                                                                                                                                                                                                                                                                                                                                                                                                                                                                                                                                                                                                                                                                                                                                                                                                                                                                                                                                                                                                                                                                                                                                                                                                                                                                                                                                                                                                                                                                                                                                                                tool_definitions  \n",
       "0  get_weather_data: Fetches weather data from the Open-Meteo API for the given latitude and longitude. | Parameters: {\"type\": \"dict\", \"properties\": {\"coordinates\": {\"type\": \"array\", \"items\": {\"type\": \"float\"}, \"description\": \"The latitude and longitude of the location.\"}}, \"required\": [\"coordinates\"]}\\ncalc_binomial_probability: Calculates the probability of getting k successes in n trials. | Parameters: {\"type\": \"dict\", \"properties\": {\"n\": {\"type\": \"integer\", \"description\": \"The number of trials.\"}, \"k\": {\"type\": \"integer\", \"description\": \"The number of successes.\"}, \"p\": {\"type\": \"float\", \"description\": \"The probability of success.\"}}, \"required\": [\"n\", \"k\", \"p\"]}\\ncalculate_cosine_similarity: Calculates the cosine similarity of two vectors. | Parameters: {\"type\": \"dict\", \"properties\": {\"vectorA\": {\"type\": \"array\", \"items\": {\"type\": \"float\"}, \"description\": \"The first vector.\"}, \"vectorB\": {\"type\": \"array\", \"items\": {\"type\": \"float\"}, \"description\": \"The second vector.\"}}, \"required\": [\"vectorA\", \"vectorB\"]}\\nget_stock_price_by_stock_name: Finds the price of a stock by its stock name. | Parameters: {\"type\": \"dict\", \"properties\": {\"stock_name\": {\"type\": \"string\", \"description\": \"The stock name of the product, in the format of the stock symbol.\"}}, \"required\": [\"stock_name\"]}\\ncalculate_density: Calculates the density of an object. | Parameters: {\"type\": \"dict\", \"properties\": {\"mass\": {\"type\": \"float\", \"description\": \"The mass of the object, in kilograms.\"}, \"volume\": {\"type\": \"float\", \"description\": \"The volume of the object, in cubic meters.\"}}, \"required\": [\"mass\", \"volume\"]}\\ncalculate_future_value: Calculates the future value of an investment. | Parameters: {\"type\": \"dict\", \"properties\": {\"present_value\": {\"type\": \"float\", \"description\": \"The present value of the investment, in dollars.\"}, \"interest_rate\": {\"type\": \"float\", \"description\": \"The interest rate of the investment, ranging from 0 to 1.\"}, \"periods\": {\"type\": \"integer\", \"description\": \"The number of periods, in years.\"}}, \"required\": [\"present_value\", \"interest_rate\", \"periods\"]}\\nget_rating_by_amazon_ASIN: Finds the rating of a product by its Amazon ASIN. | Parameters: {\"type\": \"dict\", \"properties\": {\"ASIN\": {\"type\": \"string\", \"description\": \"The Amazon ASIN of the product.\"}}, \"required\": [\"ASIN\"]}\\nretrieve_holiday_by_year: Finds the holidays of a year. | Parameters: {\"type\": \"dict\", \"properties\": {\"year\": {\"type\": \"string\", \"description\": \"The year of the holidays.\"}, \"country\": {\"type\": \"string\", \"description\": \"The country of the holidays. Possible options: US, AT, DE, ES, FR, GB, IT, NL, PL, RO, SK, UA.\"}}, \"required\": [\"year\", \"country\"]}\\ncalculate_displacement: Calculates the displacement of an object. | Parameters: {\"type\": \"dict\", \"properties\": {\"initial_velocity\": {\"type\": \"float\", \"description\": \"The initial velocity of the object, in meters per second.\"}, \"acceleration\": {\"type\": \"float\", \"description\": \"The acceleration of the object, in meters per second squared.\"}, \"time\": {\"type\": \"float\", \"description\": \"The time the object has been moving, in seconds.\"}}, \"required\": [\"initial_velocity\", \"acceleration\", \"time\"]}\\nget_zipcode_by_ip_address: Finds the zipcode of an IP address. | Parameters: {\"type\": \"dict\", \"properties\": {\"ip_address\": {\"type\": \"string\", \"description\": \"The IP address to find the location of.\"}}, \"required\": [\"ip_address\"]}\\ncalculate_electrostatic_potential_energy: Calculates the electrostatic potential energy. | Parameters: {\"type\": \"dict\", \"properties\": {\"charge\": {\"type\": \"float\", \"description\": \"The charge of the object, in coulombs.\"}, \"voltage\": {\"type\": \"float\", \"description\": \"The voltage of the object, in volts.\"}}, \"required\": [\"charge\", \"voltage\"]}\\nmortgage_calculator: Calculates the monthly mortgage payment. | Parameters: {\"type\": \"dict\", \"properties\": {\"loan_amount\": {\"type\": \"float\", \"description\": \"The amount of the loan.\"}, \"interest_rate\": {\"type\": \"float\", \"description\": \"The interest rate of the loan, ranging from 0 to 1.\"}, \"loan_period\": {\"type\": \"integer\", \"description\": \"The period of the loan, in years.\"}}, \"required\": [\"loan_amount\", \"interest_rate\", \"loan_period\"]}\\ncalculate_final_velocity: Calculates the final velocity of an object. | Parameters: {\"type\": \"dict\", \"properties\": {\"initial_velocity\": {\"type\": \"float\", \"description\": \"The initial velocity of the object.\"}, \"acceleration\": {\"type\": \"float\", \"description\": \"The acceleration of the object.\"}, \"time\": {\"type\": \"float\", \"description\": \"The time the object has been moving.\"}}, \"required\": [\"initial_velocity\", \"acceleration\", \"time\"]}\\nget_fibonacci_sequence: Calculates the n numbers of the Fibonacci. | Parameters: {\"type\": \"dict\", \"properties\": {\"n\": {\"type\": \"integer\", \"description\": \"The number of Fibonacci numbers to calculate.\"}}, \"required\": [\"n\"]}\\nsort_array: Sorts an array of numbers. | Parameters: {\"type\": \"dict\", \"properties\": {\"array\": {\"type\": \"array\", \"items\": {\"type\": \"float\"}, \"description\": \"The array of numbers.\"}, \"reverse\": {\"type\": \"boolean\", \"description\": \"Whether to sort the array in reverse order, i.e., descending order.\", \"default\": false}}, \"required\": [\"array\"]}\\nget_time_zone_by_coord: Finds the timezone of a coordinate. | Parameters: {\"type\": \"dict\", \"properties\": {\"long\": {\"type\": \"string\", \"description\": \"The longitude of the coordinate.\"}, \"lat\": {\"type\": \"string\", \"description\": \"The latitude of the coordinate.\"}}, \"required\": [\"long\", \"lat\"]}\\ncalculate_mean: Calculates the mean of a list of numbers. | Parameters: {\"type\": \"dict\", \"properties\": {\"numbers\": {\"type\": \"array\", \"items\": {\"type\": \"integer\"}, \"description\": \"The list of numbers.\"}}, \"required\": [\"numbers\"]}\\ncalculate_permutations: Calculates the number of permutations of k elements from a set of n elements. | Parameters: {\"type\": \"dict\", \"properties\": {\"n\": {\"type\": \"integer\", \"description\": \"The number of elements in the set.\"}, \"k\": {\"type\": \"integer\", \"description\": \"The number of elements to choose.\"}}, \"required\": [\"n\", \"k\"]}\\nget_company_name_by_stock_name: Finds the company name of a stock by its stock name. | Parameters: {\"type\": \"dict\", \"properties\": {\"stock_name\": {\"type\": \"string\", \"description\": \"The stock name of the product, in the format of the stock symbol.\"}}, \"required\": [\"stock_name\"]}\\ncalculate_standard_deviation: Calculates the standard deviation of a list of numbers. | Parameters: {\"type\": \"dict\", \"properties\": {\"numbers\": {\"type\": \"array\", \"items\": {\"type\": \"integer\"}, \"description\": \"The list of numbers.\"}}, \"required\": [\"numbers\"]}\\nmath_lcm: Calculates the least common multiple of two numbers. | Parameters: {\"type\": \"dict\", \"properties\": {\"a\": {\"type\": \"integer\", \"description\": \"The first number. This should be the larger number.\"}, \"b\": {\"type\": \"integer\", \"description\": \"The second number.\"}}, \"required\": [\"a\", \"b\"]}\\ncalculate_triangle_area: Calculates the area of a triangle given its base and height. | Parameters: {\"type\": \"dict\", \"properties\": {\"base\": {\"type\": \"integer\", \"description\": \"The base of the triangle, in meters.\"}, \"height\": {\"type\": \"integer\", \"description\": \"The height of the triangle, in meters.\"}}, \"required\": [\"base\", \"height\"]}\\nconvert_currency: Converts a given amount from one currency to another using the ExchangeRate-API. | Parameters: {\"type\": \"dict\", \"properties\": {\"amount\": {\"type\": \"float\", \"description\": \"The amount of money to convert, in the base currency.\"}, \"from_currency\": {\"type\": \"string\", \"description\": \"The ISO currency code for the base currency.\"}, \"to_currency\": {\"type\": \"string\", \"description\": \"The ISO currency code for the target currency.\"}}, \"required\": [\"amount\", \"from_currency\", \"to_currency\"]}\\nget_stock_history: Finds the price of a stock by its stock name. | Parameters: {\"type\": \"dict\", \"properties\": {\"stock_name\": {\"type\": \"string\", \"description\": \"The stock name of the product, in the format of the stock symbol.\"}, \"interval\": {\"type\": \"string\", \"description\": \"The interval of the stock history. Allows one of following : 5m|15m|30m|1h|1d|1wk|1mo|3mo\"}, \"diffandsplits\": {\"type\": \"string\", \"description\": \"The diff and splits of the stock history. Allows one of following : true|false. Default to false\"}}, \"required\": [\"stock_name\", \"interval\"]}\\nmath_gcd: Calculates the greatest common divisor of two numbers. | Parameters: {\"type\": \"dict\", \"properties\": {\"a\": {\"type\": \"integer\", \"description\": \"The first number. This should be the larger number.\"}, \"b\": {\"type\": \"integer\", \"description\": \"The second number.\"}}, \"required\": [\"a\", \"b\"]}\\nestimate_derivative: Estimate the derivative of a function at a given point. | Parameters: {\"type\": \"dict\", \"properties\": {\"function\": {\"type\": \"string\", \"description\": \"The function to calculate the derivative of. This should be the string literal of lambda function\"}, \"x\": {\"type\": \"integer\", \"description\": \"The point to calculate the derivative at.\"}}, \"required\": [\"function\", \"x\"]}\\nfind_term_on_urban_dictionary: Finds the definition of a term on Urban Dictionary. | Parameters: {\"type\": \"dict\", \"properties\": {\"term\": {\"type\": \"string\", \"description\": \"The term to find the definition of.\"}}, \"required\": [\"term\"]}\\nget_distance: Calculates the distance between two 2D points. | Parameters: {\"type\": \"dict\", \"properties\": {\"pointA\": {\"type\": \"tuple\", \"description\": \"The first point.\", \"items\": {\"type\": \"float\"}}, \"pointB\": {\"type\": \"tuple\", \"description\": \"The second point.\", \"items\": {\"type\": \"float\"}}}, \"required\": [\"pointA\", \"pointB\"]}\\ngeometry_area_circle: Calculates the area of a circle. | Parameters: {\"type\": \"dict\", \"properties\": {\"radius\": {\"type\": \"integer\", \"description\": \"The radius of the circle, in feet.\"}}, \"required\": [\"radius\"]}\\nget_covid_death_by_country: Finds the most up to date total deaths of a country result from COVID. | Parameters: {\"type\": \"dict\", \"properties\": {\"country\": {\"type\": \"string\", \"description\": \"The country to find the total deaths of, in the format of the country's full name.\"}}, \"required\": [\"country\"]}\\nget_active_covid_case_by_country: Finds the most up to date active cases of a country result from COVID. | Parameters: {\"type\": \"dict\", \"properties\": {\"country\": {\"type\": \"string\", \"description\": \"The country to find the active cases of, in the format of the country's full name.\"}}, \"required\": [\"country\"]}\\nmat_mul: Multiplies two matrices. | Parameters: {\"type\": \"dict\", \"properties\": {\"matA\": {\"type\": \"array\", \"description\": \"The first matrix.\", \"items\": {\"type\": \"array\", \"items\": {\"type\": \"integer\"}}}, \"matB\": {\"type\": \"array\", \"description\": \"The second matrix.\", \"items\": {\"type\": \"array\", \"items\": {\"type\": \"integer\"}}}}, \"required\": [\"matA\", \"matB\"]}\\nget_coordinate_by_ip_address: Finds the latitude and longitude of an IP address. | Parameters: {\"type\": \"dict\", \"properties\": {\"ip_address\": {\"type\": \"string\", \"description\": \"The IP address to find the location of.\"}}, \"required\": [\"ip_address\"]}\\nget_coordinates_from_city: Fetches the latitude and longitude of a given city name using the Maps.co Geocoding API. | Parameters: {\"type\": \"dict\", \"properties\": {\"city_name\": {\"type\": \"string\", \"description\": \"The name of the city, such as 'Rome'.\"}}, \"required\": [\"city_name\"]}\\nget_product_name_by_amazon_ASIN: Finds the price of a product by its Amazon ASIN. | Parameters: {\"type\": \"dict\", \"properties\": {\"ASIN\": {\"type\": \"string\", \"description\": \"The Amazon ASIN of the product.\"}}, \"required\": [\"ASIN\"]}\\nget_price_by_amazon_ASIN: Finds the price of a product by its Amazon ASIN. | Parameters: {\"type\": \"dict\", \"properties\": {\"ASIN\": {\"type\": \"string\", \"description\": \"The Amazon ASIN of the product.\"}}, \"required\": [\"ASIN\"]}\\nget_prime_factors: Calculates the prime factors of a number. | Parameters: {\"type\": \"dict\", \"properties\": {\"number\": {\"type\": \"integer\", \"description\": \"The number to calculate the prime factors of.\"}}, \"required\": [\"number\"]}\\nretrieve_city_based_on_zipcode: Finds the city of a zipcode. | Parameters: {\"type\": \"dict\", \"properties\": {\"zipcode\": {\"type\": \"string\", \"description\": \"The zipcode of the city.\"}}, \"required\": [\"zipcode\"]}\\nmath_factorial: Calculates the factorial of a number. | Parameters: {\"type\": \"dict\", \"properties\": {\"n\": {\"type\": \"integer\", \"description\": \"The number to calculate the factorial of.\"}}, \"required\": [\"n\"]}\\nquadratic_roots: Calculates the roots of a quadratic equation. | Parameters: {\"type\": \"dict\", \"properties\": {\"a\": {\"type\": \"integer\", \"description\": \"The first coefficient.\"}, \"b\": {\"type\": \"integer\", \"description\": \"The second coefficient.\"}, \"c\": {\"type\": \"integer\", \"description\": \"The third coefficient.\"}}, \"required\": [\"a\", \"b\", \"c\"]}\\nadd_binary_numbers: Adds two binary numbers. | Parameters: {\"type\": \"dict\", \"properties\": {\"a\": {\"type\": \"string\", \"description\": \"The first binary number.\"}, \"b\": {\"type\": \"string\", \"description\": \"The second binary number.\"}}, \"required\": [\"a\", \"b\"]}\\nconvert_binary_to_decimal: Converts a binary number to a decimal number. | Parameters: {\"type\": \"dict\", \"properties\": {\"binary\": {\"type\": \"string\", \"description\": \"The binary number to convert.\"}}, \"required\": [\"binary\"]}\\nconvert_decimal_to_hex: Converts a decimal number to a hexadecimal number. | Parameters: {\"type\": \"dict\", \"properties\": {\"decimal\": {\"type\": \"integer\", \"description\": \"The decimal number to convert.\"}}, \"required\": [\"decimal\"]}\\nlinear_regression: Finds the linear regression of a set of points and evaluates it at a given point. | Parameters: {\"type\": \"dict\", \"properties\": {\"x\": {\"type\": \"array\", \"description\": \"The x coordinates of the points.\", \"items\": {\"type\": \"integer\"}}, \"y\": {\"type\": \"array\", \"description\": \"The y coordinates of the points.\", \"items\": {\"type\": \"integer\"}}, \"point\": {\"type\": \"integer\", \"description\": \"The point to calculate the linear regression at.\"}}, \"required\": [\"x\", \"y\", \"point\"]}\\ncalculate_slope: Calculates the slope of the linear regression line from a set of points. | Parameters: {\"type\": \"dict\", \"properties\": {\"x\": {\"type\": \"array\", \"description\": \"The x coordinates of the points.\", \"items\": {\"type\": \"integer\"}}, \"y\": {\"type\": \"array\", \"description\": \"The y coordinates of the points.\", \"items\": {\"type\": \"integer\"}}}, \"required\": [\"x\", \"y\"]}\\ncalculate_intercept: Calculates the y-intercept of the linear regression line from a set of points and a given slope. | Parameters: {\"type\": \"dict\", \"properties\": {\"x\": {\"type\": \"array\", \"description\": \"The x coordinates of the points.\", \"items\": {\"type\": \"integer\"}}, \"y\": {\"type\": \"array\", \"description\": \"The y coordinates of the points.\", \"items\": {\"type\": \"integer\"}}, \"slope\": {\"type\": \"integer\", \"description\": \"The slope of the linear regression line.\"}}, \"required\": [\"x\", \"y\", \"slope\"]}\\npredict_value: Predicts the value of y given the slope, intercept, and an x value. | Parameters: {\"type\": \"dict\", \"properties\": {\"slope\": {\"type\": \"integer\", \"description\": \"The slope of the linear regression line.\"}, \"intercept\": {\"type\": \"integer\", \"description\": \"The y-intercept of the linear regression line.\"}, \"x\": {\"type\": \"integer\", \"description\": \"The x value to predict the y for.\"}}, \"required\": [\"slope\", \"intercept\", \"x\"]}\\ncalculate_investment_value: Calculates the value of an investment over time. | Parameters: {\"type\": \"dict\", \"properties\": {\"initial_investment\": {\"type\": \"integer\", \"description\": \"The initial investment amount.\"}, \"annual_contribution\": {\"type\": \"integer\", \"description\": \"The annual contribution amount.\"}, \"years\": {\"type\": \"integer\", \"description\": \"The number of years to calculate the investment value for.\"}, \"annual_return\": {\"type\": \"float\", \"description\": \"The annual return rate, ranging from 0 to 1.\"}, \"inflation_rate\": {\"type\": \"array\", \"items\": {\"type\": \"float\"}, \"description\": \"The inflation rate for each year in percentage, ranging from 0 to 1.\"}, \"adjust_for_inflation\": {\"type\": \"boolean\", \"default\": true, \"description\": \"Whether to adjust the investment value for inflation.\"}}, \"required\": [\"initial_investment\", \"annual_contribution\", \"years\", \"annual_return\", \"inflation_rate\"]}\\ncompound_interest: Calculates compound interest over time. | Parameters: {\"type\": \"dict\", \"properties\": {\"principal\": {\"type\": \"integer\", \"description\": \"The principal amount.\"}, \"rate\": {\"type\": \"float\", \"description\": \"The annual interest rate.\"}, \"times_compounded\": {\"type\": \"integer\", \"description\": \"The number of times the interest is compounded per year.\"}, \"years\": {\"type\": \"integer\", \"description\": \"The number of years to calculate the compound interest for.\"}}, \"required\": [\"principal\", \"rate\", \"times_compounded\", \"years\"]}\\ninflation_adjustment: Adjusts an amount for inflation. | Parameters: {\"type\": \"dict\", \"properties\": {\"amount\": {\"type\": \"float\", \"description\": \"The amount to adjust for inflation.\"}, \"inflation_rate\": {\"type\": \"float\", \"description\": \"The annual inflation float.\"}, \"years\": {\"type\": \"integer\", \"description\": \"The number of years to adjust for inflation.\"}}, \"required\": [\"amount\", \"inflation_rate\", \"years\"]}\\nadjust_for_inflation: Adjusts the investment value for inflation for each year. | Parameters: {\"type\": \"dict\", \"properties\": {\"investment_value\": {\"type\": \"float\", \"description\": \"The value of the investment to adjust.\"}, \"inflation_rates\": {\"type\": \"array\", \"items\": {\"type\": \"float\"}, \"description\": \"The inflation rates for each year.\"}}, \"required\": [\"investment_value\", \"inflation_rates\"]}\\ncalculate_basal_metabolic_rate: Calculates the Basal Metabolic Rate (BMR) of a person. | Parameters: {\"type\": \"dict\", \"properties\": {\"weight\": {\"type\": \"float\", \"description\": \"The weight of the person in kilograms.\"}, \"height\": {\"type\": \"float\", \"description\": \"The height of the person in centimeters.\"}, \"age\": {\"type\": \"float\", \"description\": \"The age of the person in years.\"}, \"gender\": {\"type\": \"string\", \"description\": \"The gender of the person. Possible options [male, female, other].\"}}, \"required\": [\"weight\", \"height\", \"age\", \"gender\"]}\\ncalculate_daily_energy_expenditure: Calculates the daily energy expenditure based on BMR and activity level. | Parameters: {\"type\": \"dict\", \"properties\": {\"basal_metabolic_rate\": {\"type\": \"float\", \"description\": \"The BMR of the person.\"}, \"activity_level\": {\"type\": \"float\", \"description\": \"The activity level of the person. Possible options [1,2,3,4,5].\"}}, \"required\": [\"basal_metabolic_rate\", \"activity_level\"]}\\ncalculate_nutritional_needs: Calculates the nutritional needs of a person based on their weight, height, age, gender, activity level, and goal. | Parameters: {\"type\": \"dict\", \"properties\": {\"weight\": {\"type\": \"float\", \"description\": \"The weight of the person in kilograms.\"}, \"height\": {\"type\": \"float\", \"description\": \"The height of the person in centimeters.\"}, \"age\": {\"type\": \"float\", \"description\": \"The age of the person in years.\"}, \"gender\": {\"type\": \"string\", \"description\": \"The gender of the person. Possible options [male, female, other].\"}, \"activity_level\": {\"type\": \"float\", \"description\": \"The activity level of the person. Possible options [1,2,3,4,5].\"}, \"goal\": {\"type\": \"string\", \"description\": \"The goal of the person. Possible options [lose, gain, maintain].\"}}, \"required\": [\"weight\", \"height\", \"age\", \"gender\", \"activity_level\", \"goal\"]}\\nbook_room: Books a room for a customer. | Parameters: {\"type\": \"dict\", \"properties\": {\"room_type\": {\"type\": \"dict\", \"description\": \"The room type to book.\"}, \"check_in_date\": {\"type\": \"string\", \"description\": \"The check-in date in format of MM-DD-YYYY.\"}, \"check_out_date\": {\"type\": \"string\", \"description\": \"The check-out date in format of MM-DD-YYYY.\"}, \"customer_id\": {\"type\": \"string\", \"description\": \"The customer ID.\"}, \"discount_code\": {\"type\": \"string\", \"description\": \"The discount code (if any).\", \"default\": null}}, \"required\": [\"room_type\", \"check_in_date\", \"check_out_date\", \"customer_id\"]}\\ncalculate_total_price: Calculates the total price of the room booking. | Parameters: {\"type\": \"dict\", \"properties\": {\"room_price\": {\"type\": \"float\", \"description\": \"The price per night of the room.\"}, \"nights\": {\"type\": \"integer\", \"description\": \"The number of nights for the booking.\"}, \"discount\": {\"type\": \"float\", \"description\": \"The discount amount (if any).\", \"default\": 0}}, \"required\": [\"room_price\", \"nights\"]}\\nconfirm_booking: Confirms the room booking and sends a confirmation to the customer. | Parameters: {\"type\": \"dict\", \"properties\": {\"customer_id\": {\"type\": \"string\", \"description\": \"The customer ID.\"}, \"room_number\": {\"type\": \"string\", \"description\": \"The room number assigned to the booking.\"}, \"total_price\": {\"type\": \"float\", \"description\": \"The total price for the booking.\"}}, \"required\": [\"customer_id\", \"room_number\", \"total_price\"]}\\norder_food: Orders food for a customer. Return the total price. | Parameters: {\"type\": \"dict\", \"properties\": {\"item\": {\"type\": \"array\", \"items\": {\"type\": \"string\"}, \"description\": \"the name of the product.\"}, \"quantity\": {\"type\": \"array\", \"items\": {\"type\": \"integer\"}, \"description\": \"the number of the product purchased.\"}, \"price\": {\"type\": \"array\", \"items\": {\"type\": \"float\"}, \"description\": \"the price of the product.\"}}, \"required\": [\"item\", \"quantity\", \"price\"]}\\ncalculate_total: Calculates the total price of an order given the quantities and prices. | Parameters: {\"type\": \"dict\", \"properties\": {\"quantities\": {\"type\": \"array\", \"items\": {\"type\": \"integer\"}, \"description\": \"The quantities of each product.\"}, \"prices\": {\"type\": \"array\", \"items\": {\"type\": \"float\"}, \"description\": \"The price of each product.\"}}, \"required\": [\"quantities\", \"prices\"]}\\napply_discount: Applies a discount to the total price. | Parameters: {\"type\": \"dict\", \"properties\": {\"total\": {\"type\": \"float\", \"description\": \"The original total price.\"}, \"discount\": {\"type\": \"float\", \"description\": \"The discount percentage to apply.\"}}, \"required\": [\"total\", \"discount\"]}\\nget_movie_director: Fetches the director of a movie from the OMDB API. | Parameters: {\"type\": \"dict\", \"properties\": {\"movie_name\": {\"type\": \"string\", \"description\": \"The name of the movie.\"}}, \"required\": [\"movie_name\"]}\\ncalculate_interest_rate: Calculates the interest rate for a given principal, rate, and time. | Parameters: {\"type\": \"dict\", \"properties\": {\"principal\": {\"type\": \"float\", \"description\": \"The initial amount of money.\"}, \"rate\": {\"type\": \"float\", \"description\": \"The interest rate per period.\"}, \"time\": {\"type\": \"float\", \"description\": \"The time the money is invested or borrowed for.\"}}, \"required\": [\"principal\", \"rate\", \"time\"]}\\nconvert_temperature: Converts temperature from Celsius to Fahrenheit or vice versa. | Parameters: {\"type\": \"dict\", \"properties\": {\"temperature\": {\"type\": \"float\", \"description\": \"The temperature to convert.\"}, \"unit_from\": {\"type\": \"string\", \"description\": \"The current unit of the temperature (Celsius or Fahrenheit).\"}, \"unit_to\": {\"type\": \"string\", \"description\": \"The unit to convert the temperature to (Celsius or Fahrenheit).\"}}, \"required\": [\"temperature\", \"unit_from\", \"unit_to\"]}\\ngenerate_random_number: Generates a random number within a specified range. | Parameters: {\"type\": \"dict\", \"properties\": {\"min\": {\"type\": \"integer\", \"description\": \"The minimum value of the range.\"}, \"max\": {\"type\": \"integer\", \"description\": \"The maximum value of the range.\"}}, \"required\": [\"min\", \"max\"]}\\nget_movie_rating: Fetches the age rating of a movie from the OMDB API. | Parameters: {\"type\": \"dict\", \"properties\": {\"movie_name\": {\"type\": \"string\", \"description\": \"The name of the movie.\"}}, \"required\": [\"movie_name\"]}\\nget_movie_genre: Retrieves the genre of a movie from the OMDB API. | Parameters: {\"type\": \"dict\", \"properties\": {\"movie_name\": {\"type\": \"string\", \"description\": \"The name of the movie to retrieve the genre for.\"}}, \"required\": [\"movie_name\"]}\\nget_director_by_movie_name: Gets the director of a movie. | Parameters: {\"type\": \"dict\", \"properties\": {\"movie_name\": {\"type\": \"string\", \"description\": \"The movie to find the director of.\"}}, \"required\": [\"movie_name\"]}\\nconvert_coordinates: Converts a list of tuples into a list of lists. | Parameters: {\"type\": \"dict\", \"properties\": {\"coordinates\": {\"type\": \"array\", \"items\": {\"type\": \"tuple\", \"items\": {\"type\": \"float\"}, \"description\": \"A single coordinate represented by a tuple (x, y).\"}, \"description\": \"The coordinates to be converted, where each coordinate is a tuple (x, y).\"}}, \"required\": [\"coordinates\"]}\\npolygon_area: Calculate the area of a polygon given its vertices using the shoelace formula. | Parameters: {\"type\": \"dict\", \"properties\": {\"vertices\": {\"type\": \"array\", \"items\": {\"type\": \"array\", \"items\": {\"type\": \"float\"}, \"minItems\": 2, \"maxItems\": 2, \"description\": \"A single vertex represented by a 2 element list [x, y].\"}, \"description\": \"The vertices of the polygon, where each vertex is a 2 element list [x, y].\"}}, \"required\": [\"vertices\"]}\\nvalidate_polygon: Checks if the given vertices form a valid polygon. | Parameters: {\"type\": \"dict\", \"properties\": {\"vertices\": {\"type\": \"array\", \"items\": {\"type\": \"array\", \"items\": {\"type\": \"float\"}, \"description\": \"A single vertex represented by a 2 element list [x, y].\"}, \"description\": \"The vertices of the polygon, where each vertex is a 2 element list [x, y].\"}}, \"required\": [\"vertices\"]}  \n",
       "1  get_weather_data: Fetches weather data from the Open-Meteo API for the given latitude and longitude. | Parameters: {\"type\": \"dict\", \"properties\": {\"coordinates\": {\"type\": \"array\", \"items\": {\"type\": \"float\"}, \"description\": \"The latitude and longitude of the location.\"}}, \"required\": [\"coordinates\"]}\\ncalc_binomial_probability: Calculates the probability of getting k successes in n trials. | Parameters: {\"type\": \"dict\", \"properties\": {\"n\": {\"type\": \"integer\", \"description\": \"The number of trials.\"}, \"k\": {\"type\": \"integer\", \"description\": \"The number of successes.\"}, \"p\": {\"type\": \"float\", \"description\": \"The probability of success.\"}}, \"required\": [\"n\", \"k\", \"p\"]}\\ncalculate_cosine_similarity: Calculates the cosine similarity of two vectors. | Parameters: {\"type\": \"dict\", \"properties\": {\"vectorA\": {\"type\": \"array\", \"items\": {\"type\": \"float\"}, \"description\": \"The first vector.\"}, \"vectorB\": {\"type\": \"array\", \"items\": {\"type\": \"float\"}, \"description\": \"The second vector.\"}}, \"required\": [\"vectorA\", \"vectorB\"]}\\nget_stock_price_by_stock_name: Finds the price of a stock by its stock name. | Parameters: {\"type\": \"dict\", \"properties\": {\"stock_name\": {\"type\": \"string\", \"description\": \"The stock name of the product, in the format of the stock symbol.\"}}, \"required\": [\"stock_name\"]}\\ncalculate_density: Calculates the density of an object. | Parameters: {\"type\": \"dict\", \"properties\": {\"mass\": {\"type\": \"float\", \"description\": \"The mass of the object, in kilograms.\"}, \"volume\": {\"type\": \"float\", \"description\": \"The volume of the object, in cubic meters.\"}}, \"required\": [\"mass\", \"volume\"]}\\ncalculate_future_value: Calculates the future value of an investment. | Parameters: {\"type\": \"dict\", \"properties\": {\"present_value\": {\"type\": \"float\", \"description\": \"The present value of the investment, in dollars.\"}, \"interest_rate\": {\"type\": \"float\", \"description\": \"The interest rate of the investment, ranging from 0 to 1.\"}, \"periods\": {\"type\": \"integer\", \"description\": \"The number of periods, in years.\"}}, \"required\": [\"present_value\", \"interest_rate\", \"periods\"]}\\nget_rating_by_amazon_ASIN: Finds the rating of a product by its Amazon ASIN. | Parameters: {\"type\": \"dict\", \"properties\": {\"ASIN\": {\"type\": \"string\", \"description\": \"The Amazon ASIN of the product.\"}}, \"required\": [\"ASIN\"]}\\nretrieve_holiday_by_year: Finds the holidays of a year. | Parameters: {\"type\": \"dict\", \"properties\": {\"year\": {\"type\": \"string\", \"description\": \"The year of the holidays.\"}, \"country\": {\"type\": \"string\", \"description\": \"The country of the holidays. Possible options: US, AT, DE, ES, FR, GB, IT, NL, PL, RO, SK, UA.\"}}, \"required\": [\"year\", \"country\"]}\\ncalculate_displacement: Calculates the displacement of an object. | Parameters: {\"type\": \"dict\", \"properties\": {\"initial_velocity\": {\"type\": \"float\", \"description\": \"The initial velocity of the object, in meters per second.\"}, \"acceleration\": {\"type\": \"float\", \"description\": \"The acceleration of the object, in meters per second squared.\"}, \"time\": {\"type\": \"float\", \"description\": \"The time the object has been moving, in seconds.\"}}, \"required\": [\"initial_velocity\", \"acceleration\", \"time\"]}\\nget_zipcode_by_ip_address: Finds the zipcode of an IP address. | Parameters: {\"type\": \"dict\", \"properties\": {\"ip_address\": {\"type\": \"string\", \"description\": \"The IP address to find the location of.\"}}, \"required\": [\"ip_address\"]}\\ncalculate_electrostatic_potential_energy: Calculates the electrostatic potential energy. | Parameters: {\"type\": \"dict\", \"properties\": {\"charge\": {\"type\": \"float\", \"description\": \"The charge of the object, in coulombs.\"}, \"voltage\": {\"type\": \"float\", \"description\": \"The voltage of the object, in volts.\"}}, \"required\": [\"charge\", \"voltage\"]}\\nmortgage_calculator: Calculates the monthly mortgage payment. | Parameters: {\"type\": \"dict\", \"properties\": {\"loan_amount\": {\"type\": \"float\", \"description\": \"The amount of the loan.\"}, \"interest_rate\": {\"type\": \"float\", \"description\": \"The interest rate of the loan, ranging from 0 to 1.\"}, \"loan_period\": {\"type\": \"integer\", \"description\": \"The period of the loan, in years.\"}}, \"required\": [\"loan_amount\", \"interest_rate\", \"loan_period\"]}\\ncalculate_final_velocity: Calculates the final velocity of an object. | Parameters: {\"type\": \"dict\", \"properties\": {\"initial_velocity\": {\"type\": \"float\", \"description\": \"The initial velocity of the object.\"}, \"acceleration\": {\"type\": \"float\", \"description\": \"The acceleration of the object.\"}, \"time\": {\"type\": \"float\", \"description\": \"The time the object has been moving.\"}}, \"required\": [\"initial_velocity\", \"acceleration\", \"time\"]}\\nget_fibonacci_sequence: Calculates the n numbers of the Fibonacci. | Parameters: {\"type\": \"dict\", \"properties\": {\"n\": {\"type\": \"integer\", \"description\": \"The number of Fibonacci numbers to calculate.\"}}, \"required\": [\"n\"]}\\nsort_array: Sorts an array of numbers. | Parameters: {\"type\": \"dict\", \"properties\": {\"array\": {\"type\": \"array\", \"items\": {\"type\": \"float\"}, \"description\": \"The array of numbers.\"}, \"reverse\": {\"type\": \"boolean\", \"description\": \"Whether to sort the array in reverse order, i.e., descending order.\", \"default\": false}}, \"required\": [\"array\"]}\\nget_time_zone_by_coord: Finds the timezone of a coordinate. | Parameters: {\"type\": \"dict\", \"properties\": {\"long\": {\"type\": \"string\", \"description\": \"The longitude of the coordinate.\"}, \"lat\": {\"type\": \"string\", \"description\": \"The latitude of the coordinate.\"}}, \"required\": [\"long\", \"lat\"]}\\ncalculate_mean: Calculates the mean of a list of numbers. | Parameters: {\"type\": \"dict\", \"properties\": {\"numbers\": {\"type\": \"array\", \"items\": {\"type\": \"integer\"}, \"description\": \"The list of numbers.\"}}, \"required\": [\"numbers\"]}\\ncalculate_permutations: Calculates the number of permutations of k elements from a set of n elements. | Parameters: {\"type\": \"dict\", \"properties\": {\"n\": {\"type\": \"integer\", \"description\": \"The number of elements in the set.\"}, \"k\": {\"type\": \"integer\", \"description\": \"The number of elements to choose.\"}}, \"required\": [\"n\", \"k\"]}\\nget_company_name_by_stock_name: Finds the company name of a stock by its stock name. | Parameters: {\"type\": \"dict\", \"properties\": {\"stock_name\": {\"type\": \"string\", \"description\": \"The stock name of the product, in the format of the stock symbol.\"}}, \"required\": [\"stock_name\"]}\\ncalculate_standard_deviation: Calculates the standard deviation of a list of numbers. | Parameters: {\"type\": \"dict\", \"properties\": {\"numbers\": {\"type\": \"array\", \"items\": {\"type\": \"integer\"}, \"description\": \"The list of numbers.\"}}, \"required\": [\"numbers\"]}\\nmath_lcm: Calculates the least common multiple of two numbers. | Parameters: {\"type\": \"dict\", \"properties\": {\"a\": {\"type\": \"integer\", \"description\": \"The first number. This should be the larger number.\"}, \"b\": {\"type\": \"integer\", \"description\": \"The second number.\"}}, \"required\": [\"a\", \"b\"]}\\ncalculate_triangle_area: Calculates the area of a triangle given its base and height. | Parameters: {\"type\": \"dict\", \"properties\": {\"base\": {\"type\": \"integer\", \"description\": \"The base of the triangle, in meters.\"}, \"height\": {\"type\": \"integer\", \"description\": \"The height of the triangle, in meters.\"}}, \"required\": [\"base\", \"height\"]}\\nconvert_currency: Converts a given amount from one currency to another using the ExchangeRate-API. | Parameters: {\"type\": \"dict\", \"properties\": {\"amount\": {\"type\": \"float\", \"description\": \"The amount of money to convert, in the base currency.\"}, \"from_currency\": {\"type\": \"string\", \"description\": \"The ISO currency code for the base currency.\"}, \"to_currency\": {\"type\": \"string\", \"description\": \"The ISO currency code for the target currency.\"}}, \"required\": [\"amount\", \"from_currency\", \"to_currency\"]}\\nget_stock_history: Finds the price of a stock by its stock name. | Parameters: {\"type\": \"dict\", \"properties\": {\"stock_name\": {\"type\": \"string\", \"description\": \"The stock name of the product, in the format of the stock symbol.\"}, \"interval\": {\"type\": \"string\", \"description\": \"The interval of the stock history. Allows one of following : 5m|15m|30m|1h|1d|1wk|1mo|3mo\"}, \"diffandsplits\": {\"type\": \"string\", \"description\": \"The diff and splits of the stock history. Allows one of following : true|false. Default to false\"}}, \"required\": [\"stock_name\", \"interval\"]}\\nmath_gcd: Calculates the greatest common divisor of two numbers. | Parameters: {\"type\": \"dict\", \"properties\": {\"a\": {\"type\": \"integer\", \"description\": \"The first number. This should be the larger number.\"}, \"b\": {\"type\": \"integer\", \"description\": \"The second number.\"}}, \"required\": [\"a\", \"b\"]}\\nestimate_derivative: Estimate the derivative of a function at a given point. | Parameters: {\"type\": \"dict\", \"properties\": {\"function\": {\"type\": \"string\", \"description\": \"The function to calculate the derivative of. This should be the string literal of lambda function\"}, \"x\": {\"type\": \"integer\", \"description\": \"The point to calculate the derivative at.\"}}, \"required\": [\"function\", \"x\"]}\\nfind_term_on_urban_dictionary: Finds the definition of a term on Urban Dictionary. | Parameters: {\"type\": \"dict\", \"properties\": {\"term\": {\"type\": \"string\", \"description\": \"The term to find the definition of.\"}}, \"required\": [\"term\"]}\\nget_distance: Calculates the distance between two 2D points. | Parameters: {\"type\": \"dict\", \"properties\": {\"pointA\": {\"type\": \"tuple\", \"description\": \"The first point.\", \"items\": {\"type\": \"float\"}}, \"pointB\": {\"type\": \"tuple\", \"description\": \"The second point.\", \"items\": {\"type\": \"float\"}}}, \"required\": [\"pointA\", \"pointB\"]}\\ngeometry_area_circle: Calculates the area of a circle. | Parameters: {\"type\": \"dict\", \"properties\": {\"radius\": {\"type\": \"integer\", \"description\": \"The radius of the circle, in feet.\"}}, \"required\": [\"radius\"]}\\nget_covid_death_by_country: Finds the most up to date total deaths of a country result from COVID. | Parameters: {\"type\": \"dict\", \"properties\": {\"country\": {\"type\": \"string\", \"description\": \"The country to find the total deaths of, in the format of the country's full name.\"}}, \"required\": [\"country\"]}\\nget_active_covid_case_by_country: Finds the most up to date active cases of a country result from COVID. | Parameters: {\"type\": \"dict\", \"properties\": {\"country\": {\"type\": \"string\", \"description\": \"The country to find the active cases of, in the format of the country's full name.\"}}, \"required\": [\"country\"]}\\nmat_mul: Multiplies two matrices. | Parameters: {\"type\": \"dict\", \"properties\": {\"matA\": {\"type\": \"array\", \"description\": \"The first matrix.\", \"items\": {\"type\": \"array\", \"items\": {\"type\": \"integer\"}}}, \"matB\": {\"type\": \"array\", \"description\": \"The second matrix.\", \"items\": {\"type\": \"array\", \"items\": {\"type\": \"integer\"}}}}, \"required\": [\"matA\", \"matB\"]}\\nget_coordinate_by_ip_address: Finds the latitude and longitude of an IP address. | Parameters: {\"type\": \"dict\", \"properties\": {\"ip_address\": {\"type\": \"string\", \"description\": \"The IP address to find the location of.\"}}, \"required\": [\"ip_address\"]}\\nget_coordinates_from_city: Fetches the latitude and longitude of a given city name using the Maps.co Geocoding API. | Parameters: {\"type\": \"dict\", \"properties\": {\"city_name\": {\"type\": \"string\", \"description\": \"The name of the city, such as 'Rome'.\"}}, \"required\": [\"city_name\"]}\\nget_product_name_by_amazon_ASIN: Finds the price of a product by its Amazon ASIN. | Parameters: {\"type\": \"dict\", \"properties\": {\"ASIN\": {\"type\": \"string\", \"description\": \"The Amazon ASIN of the product.\"}}, \"required\": [\"ASIN\"]}\\nget_price_by_amazon_ASIN: Finds the price of a product by its Amazon ASIN. | Parameters: {\"type\": \"dict\", \"properties\": {\"ASIN\": {\"type\": \"string\", \"description\": \"The Amazon ASIN of the product.\"}}, \"required\": [\"ASIN\"]}\\nget_prime_factors: Calculates the prime factors of a number. | Parameters: {\"type\": \"dict\", \"properties\": {\"number\": {\"type\": \"integer\", \"description\": \"The number to calculate the prime factors of.\"}}, \"required\": [\"number\"]}\\nretrieve_city_based_on_zipcode: Finds the city of a zipcode. | Parameters: {\"type\": \"dict\", \"properties\": {\"zipcode\": {\"type\": \"string\", \"description\": \"The zipcode of the city.\"}}, \"required\": [\"zipcode\"]}\\nmath_factorial: Calculates the factorial of a number. | Parameters: {\"type\": \"dict\", \"properties\": {\"n\": {\"type\": \"integer\", \"description\": \"The number to calculate the factorial of.\"}}, \"required\": [\"n\"]}\\nquadratic_roots: Calculates the roots of a quadratic equation. | Parameters: {\"type\": \"dict\", \"properties\": {\"a\": {\"type\": \"integer\", \"description\": \"The first coefficient.\"}, \"b\": {\"type\": \"integer\", \"description\": \"The second coefficient.\"}, \"c\": {\"type\": \"integer\", \"description\": \"The third coefficient.\"}}, \"required\": [\"a\", \"b\", \"c\"]}\\nadd_binary_numbers: Adds two binary numbers. | Parameters: {\"type\": \"dict\", \"properties\": {\"a\": {\"type\": \"string\", \"description\": \"The first binary number.\"}, \"b\": {\"type\": \"string\", \"description\": \"The second binary number.\"}}, \"required\": [\"a\", \"b\"]}\\nconvert_binary_to_decimal: Converts a binary number to a decimal number. | Parameters: {\"type\": \"dict\", \"properties\": {\"binary\": {\"type\": \"string\", \"description\": \"The binary number to convert.\"}}, \"required\": [\"binary\"]}\\nconvert_decimal_to_hex: Converts a decimal number to a hexadecimal number. | Parameters: {\"type\": \"dict\", \"properties\": {\"decimal\": {\"type\": \"integer\", \"description\": \"The decimal number to convert.\"}}, \"required\": [\"decimal\"]}\\nlinear_regression: Finds the linear regression of a set of points and evaluates it at a given point. | Parameters: {\"type\": \"dict\", \"properties\": {\"x\": {\"type\": \"array\", \"description\": \"The x coordinates of the points.\", \"items\": {\"type\": \"integer\"}}, \"y\": {\"type\": \"array\", \"description\": \"The y coordinates of the points.\", \"items\": {\"type\": \"integer\"}}, \"point\": {\"type\": \"integer\", \"description\": \"The point to calculate the linear regression at.\"}}, \"required\": [\"x\", \"y\", \"point\"]}\\ncalculate_slope: Calculates the slope of the linear regression line from a set of points. | Parameters: {\"type\": \"dict\", \"properties\": {\"x\": {\"type\": \"array\", \"description\": \"The x coordinates of the points.\", \"items\": {\"type\": \"integer\"}}, \"y\": {\"type\": \"array\", \"description\": \"The y coordinates of the points.\", \"items\": {\"type\": \"integer\"}}}, \"required\": [\"x\", \"y\"]}\\ncalculate_intercept: Calculates the y-intercept of the linear regression line from a set of points and a given slope. | Parameters: {\"type\": \"dict\", \"properties\": {\"x\": {\"type\": \"array\", \"description\": \"The x coordinates of the points.\", \"items\": {\"type\": \"integer\"}}, \"y\": {\"type\": \"array\", \"description\": \"The y coordinates of the points.\", \"items\": {\"type\": \"integer\"}}, \"slope\": {\"type\": \"integer\", \"description\": \"The slope of the linear regression line.\"}}, \"required\": [\"x\", \"y\", \"slope\"]}\\npredict_value: Predicts the value of y given the slope, intercept, and an x value. | Parameters: {\"type\": \"dict\", \"properties\": {\"slope\": {\"type\": \"integer\", \"description\": \"The slope of the linear regression line.\"}, \"intercept\": {\"type\": \"integer\", \"description\": \"The y-intercept of the linear regression line.\"}, \"x\": {\"type\": \"integer\", \"description\": \"The x value to predict the y for.\"}}, \"required\": [\"slope\", \"intercept\", \"x\"]}\\ncalculate_investment_value: Calculates the value of an investment over time. | Parameters: {\"type\": \"dict\", \"properties\": {\"initial_investment\": {\"type\": \"integer\", \"description\": \"The initial investment amount.\"}, \"annual_contribution\": {\"type\": \"integer\", \"description\": \"The annual contribution amount.\"}, \"years\": {\"type\": \"integer\", \"description\": \"The number of years to calculate the investment value for.\"}, \"annual_return\": {\"type\": \"float\", \"description\": \"The annual return rate, ranging from 0 to 1.\"}, \"inflation_rate\": {\"type\": \"array\", \"items\": {\"type\": \"float\"}, \"description\": \"The inflation rate for each year in percentage, ranging from 0 to 1.\"}, \"adjust_for_inflation\": {\"type\": \"boolean\", \"default\": true, \"description\": \"Whether to adjust the investment value for inflation.\"}}, \"required\": [\"initial_investment\", \"annual_contribution\", \"years\", \"annual_return\", \"inflation_rate\"]}\\ncompound_interest: Calculates compound interest over time. | Parameters: {\"type\": \"dict\", \"properties\": {\"principal\": {\"type\": \"integer\", \"description\": \"The principal amount.\"}, \"rate\": {\"type\": \"float\", \"description\": \"The annual interest rate.\"}, \"times_compounded\": {\"type\": \"integer\", \"description\": \"The number of times the interest is compounded per year.\"}, \"years\": {\"type\": \"integer\", \"description\": \"The number of years to calculate the compound interest for.\"}}, \"required\": [\"principal\", \"rate\", \"times_compounded\", \"years\"]}\\ninflation_adjustment: Adjusts an amount for inflation. | Parameters: {\"type\": \"dict\", \"properties\": {\"amount\": {\"type\": \"float\", \"description\": \"The amount to adjust for inflation.\"}, \"inflation_rate\": {\"type\": \"float\", \"description\": \"The annual inflation float.\"}, \"years\": {\"type\": \"integer\", \"description\": \"The number of years to adjust for inflation.\"}}, \"required\": [\"amount\", \"inflation_rate\", \"years\"]}\\nadjust_for_inflation: Adjusts the investment value for inflation for each year. | Parameters: {\"type\": \"dict\", \"properties\": {\"investment_value\": {\"type\": \"float\", \"description\": \"The value of the investment to adjust.\"}, \"inflation_rates\": {\"type\": \"array\", \"items\": {\"type\": \"float\"}, \"description\": \"The inflation rates for each year.\"}}, \"required\": [\"investment_value\", \"inflation_rates\"]}\\ncalculate_basal_metabolic_rate: Calculates the Basal Metabolic Rate (BMR) of a person. | Parameters: {\"type\": \"dict\", \"properties\": {\"weight\": {\"type\": \"float\", \"description\": \"The weight of the person in kilograms.\"}, \"height\": {\"type\": \"float\", \"description\": \"The height of the person in centimeters.\"}, \"age\": {\"type\": \"float\", \"description\": \"The age of the person in years.\"}, \"gender\": {\"type\": \"string\", \"description\": \"The gender of the person. Possible options [male, female, other].\"}}, \"required\": [\"weight\", \"height\", \"age\", \"gender\"]}\\ncalculate_daily_energy_expenditure: Calculates the daily energy expenditure based on BMR and activity level. | Parameters: {\"type\": \"dict\", \"properties\": {\"basal_metabolic_rate\": {\"type\": \"float\", \"description\": \"The BMR of the person.\"}, \"activity_level\": {\"type\": \"float\", \"description\": \"The activity level of the person. Possible options [1,2,3,4,5].\"}}, \"required\": [\"basal_metabolic_rate\", \"activity_level\"]}\\ncalculate_nutritional_needs: Calculates the nutritional needs of a person based on their weight, height, age, gender, activity level, and goal. | Parameters: {\"type\": \"dict\", \"properties\": {\"weight\": {\"type\": \"float\", \"description\": \"The weight of the person in kilograms.\"}, \"height\": {\"type\": \"float\", \"description\": \"The height of the person in centimeters.\"}, \"age\": {\"type\": \"float\", \"description\": \"The age of the person in years.\"}, \"gender\": {\"type\": \"string\", \"description\": \"The gender of the person. Possible options [male, female, other].\"}, \"activity_level\": {\"type\": \"float\", \"description\": \"The activity level of the person. Possible options [1,2,3,4,5].\"}, \"goal\": {\"type\": \"string\", \"description\": \"The goal of the person. Possible options [lose, gain, maintain].\"}}, \"required\": [\"weight\", \"height\", \"age\", \"gender\", \"activity_level\", \"goal\"]}\\nbook_room: Books a room for a customer. | Parameters: {\"type\": \"dict\", \"properties\": {\"room_type\": {\"type\": \"dict\", \"description\": \"The room type to book.\"}, \"check_in_date\": {\"type\": \"string\", \"description\": \"The check-in date in format of MM-DD-YYYY.\"}, \"check_out_date\": {\"type\": \"string\", \"description\": \"The check-out date in format of MM-DD-YYYY.\"}, \"customer_id\": {\"type\": \"string\", \"description\": \"The customer ID.\"}, \"discount_code\": {\"type\": \"string\", \"description\": \"The discount code (if any).\", \"default\": null}}, \"required\": [\"room_type\", \"check_in_date\", \"check_out_date\", \"customer_id\"]}\\ncalculate_total_price: Calculates the total price of the room booking. | Parameters: {\"type\": \"dict\", \"properties\": {\"room_price\": {\"type\": \"float\", \"description\": \"The price per night of the room.\"}, \"nights\": {\"type\": \"integer\", \"description\": \"The number of nights for the booking.\"}, \"discount\": {\"type\": \"float\", \"description\": \"The discount amount (if any).\", \"default\": 0}}, \"required\": [\"room_price\", \"nights\"]}\\nconfirm_booking: Confirms the room booking and sends a confirmation to the customer. | Parameters: {\"type\": \"dict\", \"properties\": {\"customer_id\": {\"type\": \"string\", \"description\": \"The customer ID.\"}, \"room_number\": {\"type\": \"string\", \"description\": \"The room number assigned to the booking.\"}, \"total_price\": {\"type\": \"float\", \"description\": \"The total price for the booking.\"}}, \"required\": [\"customer_id\", \"room_number\", \"total_price\"]}\\norder_food: Orders food for a customer. Return the total price. | Parameters: {\"type\": \"dict\", \"properties\": {\"item\": {\"type\": \"array\", \"items\": {\"type\": \"string\"}, \"description\": \"the name of the product.\"}, \"quantity\": {\"type\": \"array\", \"items\": {\"type\": \"integer\"}, \"description\": \"the number of the product purchased.\"}, \"price\": {\"type\": \"array\", \"items\": {\"type\": \"float\"}, \"description\": \"the price of the product.\"}}, \"required\": [\"item\", \"quantity\", \"price\"]}\\ncalculate_total: Calculates the total price of an order given the quantities and prices. | Parameters: {\"type\": \"dict\", \"properties\": {\"quantities\": {\"type\": \"array\", \"items\": {\"type\": \"integer\"}, \"description\": \"The quantities of each product.\"}, \"prices\": {\"type\": \"array\", \"items\": {\"type\": \"float\"}, \"description\": \"The price of each product.\"}}, \"required\": [\"quantities\", \"prices\"]}\\napply_discount: Applies a discount to the total price. | Parameters: {\"type\": \"dict\", \"properties\": {\"total\": {\"type\": \"float\", \"description\": \"The original total price.\"}, \"discount\": {\"type\": \"float\", \"description\": \"The discount percentage to apply.\"}}, \"required\": [\"total\", \"discount\"]}\\nget_movie_director: Fetches the director of a movie from the OMDB API. | Parameters: {\"type\": \"dict\", \"properties\": {\"movie_name\": {\"type\": \"string\", \"description\": \"The name of the movie.\"}}, \"required\": [\"movie_name\"]}\\ncalculate_interest_rate: Calculates the interest rate for a given principal, rate, and time. | Parameters: {\"type\": \"dict\", \"properties\": {\"principal\": {\"type\": \"float\", \"description\": \"The initial amount of money.\"}, \"rate\": {\"type\": \"float\", \"description\": \"The interest rate per period.\"}, \"time\": {\"type\": \"float\", \"description\": \"The time the money is invested or borrowed for.\"}}, \"required\": [\"principal\", \"rate\", \"time\"]}\\nconvert_temperature: Converts temperature from Celsius to Fahrenheit or vice versa. | Parameters: {\"type\": \"dict\", \"properties\": {\"temperature\": {\"type\": \"float\", \"description\": \"The temperature to convert.\"}, \"unit_from\": {\"type\": \"string\", \"description\": \"The current unit of the temperature (Celsius or Fahrenheit).\"}, \"unit_to\": {\"type\": \"string\", \"description\": \"The unit to convert the temperature to (Celsius or Fahrenheit).\"}}, \"required\": [\"temperature\", \"unit_from\", \"unit_to\"]}\\ngenerate_random_number: Generates a random number within a specified range. | Parameters: {\"type\": \"dict\", \"properties\": {\"min\": {\"type\": \"integer\", \"description\": \"The minimum value of the range.\"}, \"max\": {\"type\": \"integer\", \"description\": \"The maximum value of the range.\"}}, \"required\": [\"min\", \"max\"]}\\nget_movie_rating: Fetches the age rating of a movie from the OMDB API. | Parameters: {\"type\": \"dict\", \"properties\": {\"movie_name\": {\"type\": \"string\", \"description\": \"The name of the movie.\"}}, \"required\": [\"movie_name\"]}\\nget_movie_genre: Retrieves the genre of a movie from the OMDB API. | Parameters: {\"type\": \"dict\", \"properties\": {\"movie_name\": {\"type\": \"string\", \"description\": \"The name of the movie to retrieve the genre for.\"}}, \"required\": [\"movie_name\"]}\\nget_director_by_movie_name: Gets the director of a movie. | Parameters: {\"type\": \"dict\", \"properties\": {\"movie_name\": {\"type\": \"string\", \"description\": \"The movie to find the director of.\"}}, \"required\": [\"movie_name\"]}\\nconvert_coordinates: Converts a list of tuples into a list of lists. | Parameters: {\"type\": \"dict\", \"properties\": {\"coordinates\": {\"type\": \"array\", \"items\": {\"type\": \"tuple\", \"items\": {\"type\": \"float\"}, \"description\": \"A single coordinate represented by a tuple (x, y).\"}, \"description\": \"The coordinates to be converted, where each coordinate is a tuple (x, y).\"}}, \"required\": [\"coordinates\"]}\\npolygon_area: Calculate the area of a polygon given its vertices using the shoelace formula. | Parameters: {\"type\": \"dict\", \"properties\": {\"vertices\": {\"type\": \"array\", \"items\": {\"type\": \"array\", \"items\": {\"type\": \"float\"}, \"minItems\": 2, \"maxItems\": 2, \"description\": \"A single vertex represented by a 2 element list [x, y].\"}, \"description\": \"The vertices of the polygon, where each vertex is a 2 element list [x, y].\"}}, \"required\": [\"vertices\"]}\\nvalidate_polygon: Checks if the given vertices form a valid polygon. | Parameters: {\"type\": \"dict\", \"properties\": {\"vertices\": {\"type\": \"array\", \"items\": {\"type\": \"array\", \"items\": {\"type\": \"float\"}, \"description\": \"A single vertex represented by a 2 element list [x, y].\"}, \"description\": \"The vertices of the polygon, where each vertex is a 2 element list [x, y].\"}}, \"required\": [\"vertices\"]}  \n",
       "2  get_weather_data: Fetches weather data from the Open-Meteo API for the given latitude and longitude. | Parameters: {\"type\": \"dict\", \"properties\": {\"coordinates\": {\"type\": \"array\", \"items\": {\"type\": \"float\"}, \"description\": \"The latitude and longitude of the location.\"}}, \"required\": [\"coordinates\"]}\\ncalc_binomial_probability: Calculates the probability of getting k successes in n trials. | Parameters: {\"type\": \"dict\", \"properties\": {\"n\": {\"type\": \"integer\", \"description\": \"The number of trials.\"}, \"k\": {\"type\": \"integer\", \"description\": \"The number of successes.\"}, \"p\": {\"type\": \"float\", \"description\": \"The probability of success.\"}}, \"required\": [\"n\", \"k\", \"p\"]}\\ncalculate_cosine_similarity: Calculates the cosine similarity of two vectors. | Parameters: {\"type\": \"dict\", \"properties\": {\"vectorA\": {\"type\": \"array\", \"items\": {\"type\": \"float\"}, \"description\": \"The first vector.\"}, \"vectorB\": {\"type\": \"array\", \"items\": {\"type\": \"float\"}, \"description\": \"The second vector.\"}}, \"required\": [\"vectorA\", \"vectorB\"]}\\nget_stock_price_by_stock_name: Finds the price of a stock by its stock name. | Parameters: {\"type\": \"dict\", \"properties\": {\"stock_name\": {\"type\": \"string\", \"description\": \"The stock name of the product, in the format of the stock symbol.\"}}, \"required\": [\"stock_name\"]}\\ncalculate_density: Calculates the density of an object. | Parameters: {\"type\": \"dict\", \"properties\": {\"mass\": {\"type\": \"float\", \"description\": \"The mass of the object, in kilograms.\"}, \"volume\": {\"type\": \"float\", \"description\": \"The volume of the object, in cubic meters.\"}}, \"required\": [\"mass\", \"volume\"]}\\ncalculate_future_value: Calculates the future value of an investment. | Parameters: {\"type\": \"dict\", \"properties\": {\"present_value\": {\"type\": \"float\", \"description\": \"The present value of the investment, in dollars.\"}, \"interest_rate\": {\"type\": \"float\", \"description\": \"The interest rate of the investment, ranging from 0 to 1.\"}, \"periods\": {\"type\": \"integer\", \"description\": \"The number of periods, in years.\"}}, \"required\": [\"present_value\", \"interest_rate\", \"periods\"]}\\nget_rating_by_amazon_ASIN: Finds the rating of a product by its Amazon ASIN. | Parameters: {\"type\": \"dict\", \"properties\": {\"ASIN\": {\"type\": \"string\", \"description\": \"The Amazon ASIN of the product.\"}}, \"required\": [\"ASIN\"]}\\nretrieve_holiday_by_year: Finds the holidays of a year. | Parameters: {\"type\": \"dict\", \"properties\": {\"year\": {\"type\": \"string\", \"description\": \"The year of the holidays.\"}, \"country\": {\"type\": \"string\", \"description\": \"The country of the holidays. Possible options: US, AT, DE, ES, FR, GB, IT, NL, PL, RO, SK, UA.\"}}, \"required\": [\"year\", \"country\"]}\\ncalculate_displacement: Calculates the displacement of an object. | Parameters: {\"type\": \"dict\", \"properties\": {\"initial_velocity\": {\"type\": \"float\", \"description\": \"The initial velocity of the object, in meters per second.\"}, \"acceleration\": {\"type\": \"float\", \"description\": \"The acceleration of the object, in meters per second squared.\"}, \"time\": {\"type\": \"float\", \"description\": \"The time the object has been moving, in seconds.\"}}, \"required\": [\"initial_velocity\", \"acceleration\", \"time\"]}\\nget_zipcode_by_ip_address: Finds the zipcode of an IP address. | Parameters: {\"type\": \"dict\", \"properties\": {\"ip_address\": {\"type\": \"string\", \"description\": \"The IP address to find the location of.\"}}, \"required\": [\"ip_address\"]}\\ncalculate_electrostatic_potential_energy: Calculates the electrostatic potential energy. | Parameters: {\"type\": \"dict\", \"properties\": {\"charge\": {\"type\": \"float\", \"description\": \"The charge of the object, in coulombs.\"}, \"voltage\": {\"type\": \"float\", \"description\": \"The voltage of the object, in volts.\"}}, \"required\": [\"charge\", \"voltage\"]}\\nmortgage_calculator: Calculates the monthly mortgage payment. | Parameters: {\"type\": \"dict\", \"properties\": {\"loan_amount\": {\"type\": \"float\", \"description\": \"The amount of the loan.\"}, \"interest_rate\": {\"type\": \"float\", \"description\": \"The interest rate of the loan, ranging from 0 to 1.\"}, \"loan_period\": {\"type\": \"integer\", \"description\": \"The period of the loan, in years.\"}}, \"required\": [\"loan_amount\", \"interest_rate\", \"loan_period\"]}\\ncalculate_final_velocity: Calculates the final velocity of an object. | Parameters: {\"type\": \"dict\", \"properties\": {\"initial_velocity\": {\"type\": \"float\", \"description\": \"The initial velocity of the object.\"}, \"acceleration\": {\"type\": \"float\", \"description\": \"The acceleration of the object.\"}, \"time\": {\"type\": \"float\", \"description\": \"The time the object has been moving.\"}}, \"required\": [\"initial_velocity\", \"acceleration\", \"time\"]}\\nget_fibonacci_sequence: Calculates the n numbers of the Fibonacci. | Parameters: {\"type\": \"dict\", \"properties\": {\"n\": {\"type\": \"integer\", \"description\": \"The number of Fibonacci numbers to calculate.\"}}, \"required\": [\"n\"]}\\nsort_array: Sorts an array of numbers. | Parameters: {\"type\": \"dict\", \"properties\": {\"array\": {\"type\": \"array\", \"items\": {\"type\": \"float\"}, \"description\": \"The array of numbers.\"}, \"reverse\": {\"type\": \"boolean\", \"description\": \"Whether to sort the array in reverse order, i.e., descending order.\", \"default\": false}}, \"required\": [\"array\"]}\\nget_time_zone_by_coord: Finds the timezone of a coordinate. | Parameters: {\"type\": \"dict\", \"properties\": {\"long\": {\"type\": \"string\", \"description\": \"The longitude of the coordinate.\"}, \"lat\": {\"type\": \"string\", \"description\": \"The latitude of the coordinate.\"}}, \"required\": [\"long\", \"lat\"]}\\ncalculate_mean: Calculates the mean of a list of numbers. | Parameters: {\"type\": \"dict\", \"properties\": {\"numbers\": {\"type\": \"array\", \"items\": {\"type\": \"integer\"}, \"description\": \"The list of numbers.\"}}, \"required\": [\"numbers\"]}\\ncalculate_permutations: Calculates the number of permutations of k elements from a set of n elements. | Parameters: {\"type\": \"dict\", \"properties\": {\"n\": {\"type\": \"integer\", \"description\": \"The number of elements in the set.\"}, \"k\": {\"type\": \"integer\", \"description\": \"The number of elements to choose.\"}}, \"required\": [\"n\", \"k\"]}\\nget_company_name_by_stock_name: Finds the company name of a stock by its stock name. | Parameters: {\"type\": \"dict\", \"properties\": {\"stock_name\": {\"type\": \"string\", \"description\": \"The stock name of the product, in the format of the stock symbol.\"}}, \"required\": [\"stock_name\"]}\\ncalculate_standard_deviation: Calculates the standard deviation of a list of numbers. | Parameters: {\"type\": \"dict\", \"properties\": {\"numbers\": {\"type\": \"array\", \"items\": {\"type\": \"integer\"}, \"description\": \"The list of numbers.\"}}, \"required\": [\"numbers\"]}\\nmath_lcm: Calculates the least common multiple of two numbers. | Parameters: {\"type\": \"dict\", \"properties\": {\"a\": {\"type\": \"integer\", \"description\": \"The first number. This should be the larger number.\"}, \"b\": {\"type\": \"integer\", \"description\": \"The second number.\"}}, \"required\": [\"a\", \"b\"]}\\ncalculate_triangle_area: Calculates the area of a triangle given its base and height. | Parameters: {\"type\": \"dict\", \"properties\": {\"base\": {\"type\": \"integer\", \"description\": \"The base of the triangle, in meters.\"}, \"height\": {\"type\": \"integer\", \"description\": \"The height of the triangle, in meters.\"}}, \"required\": [\"base\", \"height\"]}\\nconvert_currency: Converts a given amount from one currency to another using the ExchangeRate-API. | Parameters: {\"type\": \"dict\", \"properties\": {\"amount\": {\"type\": \"float\", \"description\": \"The amount of money to convert, in the base currency.\"}, \"from_currency\": {\"type\": \"string\", \"description\": \"The ISO currency code for the base currency.\"}, \"to_currency\": {\"type\": \"string\", \"description\": \"The ISO currency code for the target currency.\"}}, \"required\": [\"amount\", \"from_currency\", \"to_currency\"]}\\nget_stock_history: Finds the price of a stock by its stock name. | Parameters: {\"type\": \"dict\", \"properties\": {\"stock_name\": {\"type\": \"string\", \"description\": \"The stock name of the product, in the format of the stock symbol.\"}, \"interval\": {\"type\": \"string\", \"description\": \"The interval of the stock history. Allows one of following : 5m|15m|30m|1h|1d|1wk|1mo|3mo\"}, \"diffandsplits\": {\"type\": \"string\", \"description\": \"The diff and splits of the stock history. Allows one of following : true|false. Default to false\"}}, \"required\": [\"stock_name\", \"interval\"]}\\nmath_gcd: Calculates the greatest common divisor of two numbers. | Parameters: {\"type\": \"dict\", \"properties\": {\"a\": {\"type\": \"integer\", \"description\": \"The first number. This should be the larger number.\"}, \"b\": {\"type\": \"integer\", \"description\": \"The second number.\"}}, \"required\": [\"a\", \"b\"]}\\nestimate_derivative: Estimate the derivative of a function at a given point. | Parameters: {\"type\": \"dict\", \"properties\": {\"function\": {\"type\": \"string\", \"description\": \"The function to calculate the derivative of. This should be the string literal of lambda function\"}, \"x\": {\"type\": \"integer\", \"description\": \"The point to calculate the derivative at.\"}}, \"required\": [\"function\", \"x\"]}\\nfind_term_on_urban_dictionary: Finds the definition of a term on Urban Dictionary. | Parameters: {\"type\": \"dict\", \"properties\": {\"term\": {\"type\": \"string\", \"description\": \"The term to find the definition of.\"}}, \"required\": [\"term\"]}\\nget_distance: Calculates the distance between two 2D points. | Parameters: {\"type\": \"dict\", \"properties\": {\"pointA\": {\"type\": \"tuple\", \"description\": \"The first point.\", \"items\": {\"type\": \"float\"}}, \"pointB\": {\"type\": \"tuple\", \"description\": \"The second point.\", \"items\": {\"type\": \"float\"}}}, \"required\": [\"pointA\", \"pointB\"]}\\ngeometry_area_circle: Calculates the area of a circle. | Parameters: {\"type\": \"dict\", \"properties\": {\"radius\": {\"type\": \"integer\", \"description\": \"The radius of the circle, in feet.\"}}, \"required\": [\"radius\"]}\\nget_covid_death_by_country: Finds the most up to date total deaths of a country result from COVID. | Parameters: {\"type\": \"dict\", \"properties\": {\"country\": {\"type\": \"string\", \"description\": \"The country to find the total deaths of, in the format of the country's full name.\"}}, \"required\": [\"country\"]}\\nget_active_covid_case_by_country: Finds the most up to date active cases of a country result from COVID. | Parameters: {\"type\": \"dict\", \"properties\": {\"country\": {\"type\": \"string\", \"description\": \"The country to find the active cases of, in the format of the country's full name.\"}}, \"required\": [\"country\"]}\\nmat_mul: Multiplies two matrices. | Parameters: {\"type\": \"dict\", \"properties\": {\"matA\": {\"type\": \"array\", \"description\": \"The first matrix.\", \"items\": {\"type\": \"array\", \"items\": {\"type\": \"integer\"}}}, \"matB\": {\"type\": \"array\", \"description\": \"The second matrix.\", \"items\": {\"type\": \"array\", \"items\": {\"type\": \"integer\"}}}}, \"required\": [\"matA\", \"matB\"]}\\nget_coordinate_by_ip_address: Finds the latitude and longitude of an IP address. | Parameters: {\"type\": \"dict\", \"properties\": {\"ip_address\": {\"type\": \"string\", \"description\": \"The IP address to find the location of.\"}}, \"required\": [\"ip_address\"]}\\nget_coordinates_from_city: Fetches the latitude and longitude of a given city name using the Maps.co Geocoding API. | Parameters: {\"type\": \"dict\", \"properties\": {\"city_name\": {\"type\": \"string\", \"description\": \"The name of the city, such as 'Rome'.\"}}, \"required\": [\"city_name\"]}\\nget_product_name_by_amazon_ASIN: Finds the price of a product by its Amazon ASIN. | Parameters: {\"type\": \"dict\", \"properties\": {\"ASIN\": {\"type\": \"string\", \"description\": \"The Amazon ASIN of the product.\"}}, \"required\": [\"ASIN\"]}\\nget_price_by_amazon_ASIN: Finds the price of a product by its Amazon ASIN. | Parameters: {\"type\": \"dict\", \"properties\": {\"ASIN\": {\"type\": \"string\", \"description\": \"The Amazon ASIN of the product.\"}}, \"required\": [\"ASIN\"]}\\nget_prime_factors: Calculates the prime factors of a number. | Parameters: {\"type\": \"dict\", \"properties\": {\"number\": {\"type\": \"integer\", \"description\": \"The number to calculate the prime factors of.\"}}, \"required\": [\"number\"]}\\nretrieve_city_based_on_zipcode: Finds the city of a zipcode. | Parameters: {\"type\": \"dict\", \"properties\": {\"zipcode\": {\"type\": \"string\", \"description\": \"The zipcode of the city.\"}}, \"required\": [\"zipcode\"]}\\nmath_factorial: Calculates the factorial of a number. | Parameters: {\"type\": \"dict\", \"properties\": {\"n\": {\"type\": \"integer\", \"description\": \"The number to calculate the factorial of.\"}}, \"required\": [\"n\"]}\\nquadratic_roots: Calculates the roots of a quadratic equation. | Parameters: {\"type\": \"dict\", \"properties\": {\"a\": {\"type\": \"integer\", \"description\": \"The first coefficient.\"}, \"b\": {\"type\": \"integer\", \"description\": \"The second coefficient.\"}, \"c\": {\"type\": \"integer\", \"description\": \"The third coefficient.\"}}, \"required\": [\"a\", \"b\", \"c\"]}\\nadd_binary_numbers: Adds two binary numbers. | Parameters: {\"type\": \"dict\", \"properties\": {\"a\": {\"type\": \"string\", \"description\": \"The first binary number.\"}, \"b\": {\"type\": \"string\", \"description\": \"The second binary number.\"}}, \"required\": [\"a\", \"b\"]}\\nconvert_binary_to_decimal: Converts a binary number to a decimal number. | Parameters: {\"type\": \"dict\", \"properties\": {\"binary\": {\"type\": \"string\", \"description\": \"The binary number to convert.\"}}, \"required\": [\"binary\"]}\\nconvert_decimal_to_hex: Converts a decimal number to a hexadecimal number. | Parameters: {\"type\": \"dict\", \"properties\": {\"decimal\": {\"type\": \"integer\", \"description\": \"The decimal number to convert.\"}}, \"required\": [\"decimal\"]}\\nlinear_regression: Finds the linear regression of a set of points and evaluates it at a given point. | Parameters: {\"type\": \"dict\", \"properties\": {\"x\": {\"type\": \"array\", \"description\": \"The x coordinates of the points.\", \"items\": {\"type\": \"integer\"}}, \"y\": {\"type\": \"array\", \"description\": \"The y coordinates of the points.\", \"items\": {\"type\": \"integer\"}}, \"point\": {\"type\": \"integer\", \"description\": \"The point to calculate the linear regression at.\"}}, \"required\": [\"x\", \"y\", \"point\"]}\\ncalculate_slope: Calculates the slope of the linear regression line from a set of points. | Parameters: {\"type\": \"dict\", \"properties\": {\"x\": {\"type\": \"array\", \"description\": \"The x coordinates of the points.\", \"items\": {\"type\": \"integer\"}}, \"y\": {\"type\": \"array\", \"description\": \"The y coordinates of the points.\", \"items\": {\"type\": \"integer\"}}}, \"required\": [\"x\", \"y\"]}\\ncalculate_intercept: Calculates the y-intercept of the linear regression line from a set of points and a given slope. | Parameters: {\"type\": \"dict\", \"properties\": {\"x\": {\"type\": \"array\", \"description\": \"The x coordinates of the points.\", \"items\": {\"type\": \"integer\"}}, \"y\": {\"type\": \"array\", \"description\": \"The y coordinates of the points.\", \"items\": {\"type\": \"integer\"}}, \"slope\": {\"type\": \"integer\", \"description\": \"The slope of the linear regression line.\"}}, \"required\": [\"x\", \"y\", \"slope\"]}\\npredict_value: Predicts the value of y given the slope, intercept, and an x value. | Parameters: {\"type\": \"dict\", \"properties\": {\"slope\": {\"type\": \"integer\", \"description\": \"The slope of the linear regression line.\"}, \"intercept\": {\"type\": \"integer\", \"description\": \"The y-intercept of the linear regression line.\"}, \"x\": {\"type\": \"integer\", \"description\": \"The x value to predict the y for.\"}}, \"required\": [\"slope\", \"intercept\", \"x\"]}\\ncalculate_investment_value: Calculates the value of an investment over time. | Parameters: {\"type\": \"dict\", \"properties\": {\"initial_investment\": {\"type\": \"integer\", \"description\": \"The initial investment amount.\"}, \"annual_contribution\": {\"type\": \"integer\", \"description\": \"The annual contribution amount.\"}, \"years\": {\"type\": \"integer\", \"description\": \"The number of years to calculate the investment value for.\"}, \"annual_return\": {\"type\": \"float\", \"description\": \"The annual return rate, ranging from 0 to 1.\"}, \"inflation_rate\": {\"type\": \"array\", \"items\": {\"type\": \"float\"}, \"description\": \"The inflation rate for each year in percentage, ranging from 0 to 1.\"}, \"adjust_for_inflation\": {\"type\": \"boolean\", \"default\": true, \"description\": \"Whether to adjust the investment value for inflation.\"}}, \"required\": [\"initial_investment\", \"annual_contribution\", \"years\", \"annual_return\", \"inflation_rate\"]}\\ncompound_interest: Calculates compound interest over time. | Parameters: {\"type\": \"dict\", \"properties\": {\"principal\": {\"type\": \"integer\", \"description\": \"The principal amount.\"}, \"rate\": {\"type\": \"float\", \"description\": \"The annual interest rate.\"}, \"times_compounded\": {\"type\": \"integer\", \"description\": \"The number of times the interest is compounded per year.\"}, \"years\": {\"type\": \"integer\", \"description\": \"The number of years to calculate the compound interest for.\"}}, \"required\": [\"principal\", \"rate\", \"times_compounded\", \"years\"]}\\ninflation_adjustment: Adjusts an amount for inflation. | Parameters: {\"type\": \"dict\", \"properties\": {\"amount\": {\"type\": \"float\", \"description\": \"The amount to adjust for inflation.\"}, \"inflation_rate\": {\"type\": \"float\", \"description\": \"The annual inflation float.\"}, \"years\": {\"type\": \"integer\", \"description\": \"The number of years to adjust for inflation.\"}}, \"required\": [\"amount\", \"inflation_rate\", \"years\"]}\\nadjust_for_inflation: Adjusts the investment value for inflation for each year. | Parameters: {\"type\": \"dict\", \"properties\": {\"investment_value\": {\"type\": \"float\", \"description\": \"The value of the investment to adjust.\"}, \"inflation_rates\": {\"type\": \"array\", \"items\": {\"type\": \"float\"}, \"description\": \"The inflation rates for each year.\"}}, \"required\": [\"investment_value\", \"inflation_rates\"]}\\ncalculate_basal_metabolic_rate: Calculates the Basal Metabolic Rate (BMR) of a person. | Parameters: {\"type\": \"dict\", \"properties\": {\"weight\": {\"type\": \"float\", \"description\": \"The weight of the person in kilograms.\"}, \"height\": {\"type\": \"float\", \"description\": \"The height of the person in centimeters.\"}, \"age\": {\"type\": \"float\", \"description\": \"The age of the person in years.\"}, \"gender\": {\"type\": \"string\", \"description\": \"The gender of the person. Possible options [male, female, other].\"}}, \"required\": [\"weight\", \"height\", \"age\", \"gender\"]}\\ncalculate_daily_energy_expenditure: Calculates the daily energy expenditure based on BMR and activity level. | Parameters: {\"type\": \"dict\", \"properties\": {\"basal_metabolic_rate\": {\"type\": \"float\", \"description\": \"The BMR of the person.\"}, \"activity_level\": {\"type\": \"float\", \"description\": \"The activity level of the person. Possible options [1,2,3,4,5].\"}}, \"required\": [\"basal_metabolic_rate\", \"activity_level\"]}\\ncalculate_nutritional_needs: Calculates the nutritional needs of a person based on their weight, height, age, gender, activity level, and goal. | Parameters: {\"type\": \"dict\", \"properties\": {\"weight\": {\"type\": \"float\", \"description\": \"The weight of the person in kilograms.\"}, \"height\": {\"type\": \"float\", \"description\": \"The height of the person in centimeters.\"}, \"age\": {\"type\": \"float\", \"description\": \"The age of the person in years.\"}, \"gender\": {\"type\": \"string\", \"description\": \"The gender of the person. Possible options [male, female, other].\"}, \"activity_level\": {\"type\": \"float\", \"description\": \"The activity level of the person. Possible options [1,2,3,4,5].\"}, \"goal\": {\"type\": \"string\", \"description\": \"The goal of the person. Possible options [lose, gain, maintain].\"}}, \"required\": [\"weight\", \"height\", \"age\", \"gender\", \"activity_level\", \"goal\"]}\\nbook_room: Books a room for a customer. | Parameters: {\"type\": \"dict\", \"properties\": {\"room_type\": {\"type\": \"dict\", \"description\": \"The room type to book.\"}, \"check_in_date\": {\"type\": \"string\", \"description\": \"The check-in date in format of MM-DD-YYYY.\"}, \"check_out_date\": {\"type\": \"string\", \"description\": \"The check-out date in format of MM-DD-YYYY.\"}, \"customer_id\": {\"type\": \"string\", \"description\": \"The customer ID.\"}, \"discount_code\": {\"type\": \"string\", \"description\": \"The discount code (if any).\", \"default\": null}}, \"required\": [\"room_type\", \"check_in_date\", \"check_out_date\", \"customer_id\"]}\\ncalculate_total_price: Calculates the total price of the room booking. | Parameters: {\"type\": \"dict\", \"properties\": {\"room_price\": {\"type\": \"float\", \"description\": \"The price per night of the room.\"}, \"nights\": {\"type\": \"integer\", \"description\": \"The number of nights for the booking.\"}, \"discount\": {\"type\": \"float\", \"description\": \"The discount amount (if any).\", \"default\": 0}}, \"required\": [\"room_price\", \"nights\"]}\\nconfirm_booking: Confirms the room booking and sends a confirmation to the customer. | Parameters: {\"type\": \"dict\", \"properties\": {\"customer_id\": {\"type\": \"string\", \"description\": \"The customer ID.\"}, \"room_number\": {\"type\": \"string\", \"description\": \"The room number assigned to the booking.\"}, \"total_price\": {\"type\": \"float\", \"description\": \"The total price for the booking.\"}}, \"required\": [\"customer_id\", \"room_number\", \"total_price\"]}\\norder_food: Orders food for a customer. Return the total price. | Parameters: {\"type\": \"dict\", \"properties\": {\"item\": {\"type\": \"array\", \"items\": {\"type\": \"string\"}, \"description\": \"the name of the product.\"}, \"quantity\": {\"type\": \"array\", \"items\": {\"type\": \"integer\"}, \"description\": \"the number of the product purchased.\"}, \"price\": {\"type\": \"array\", \"items\": {\"type\": \"float\"}, \"description\": \"the price of the product.\"}}, \"required\": [\"item\", \"quantity\", \"price\"]}\\ncalculate_total: Calculates the total price of an order given the quantities and prices. | Parameters: {\"type\": \"dict\", \"properties\": {\"quantities\": {\"type\": \"array\", \"items\": {\"type\": \"integer\"}, \"description\": \"The quantities of each product.\"}, \"prices\": {\"type\": \"array\", \"items\": {\"type\": \"float\"}, \"description\": \"The price of each product.\"}}, \"required\": [\"quantities\", \"prices\"]}\\napply_discount: Applies a discount to the total price. | Parameters: {\"type\": \"dict\", \"properties\": {\"total\": {\"type\": \"float\", \"description\": \"The original total price.\"}, \"discount\": {\"type\": \"float\", \"description\": \"The discount percentage to apply.\"}}, \"required\": [\"total\", \"discount\"]}\\nget_movie_director: Fetches the director of a movie from the OMDB API. | Parameters: {\"type\": \"dict\", \"properties\": {\"movie_name\": {\"type\": \"string\", \"description\": \"The name of the movie.\"}}, \"required\": [\"movie_name\"]}\\ncalculate_interest_rate: Calculates the interest rate for a given principal, rate, and time. | Parameters: {\"type\": \"dict\", \"properties\": {\"principal\": {\"type\": \"float\", \"description\": \"The initial amount of money.\"}, \"rate\": {\"type\": \"float\", \"description\": \"The interest rate per period.\"}, \"time\": {\"type\": \"float\", \"description\": \"The time the money is invested or borrowed for.\"}}, \"required\": [\"principal\", \"rate\", \"time\"]}\\nconvert_temperature: Converts temperature from Celsius to Fahrenheit or vice versa. | Parameters: {\"type\": \"dict\", \"properties\": {\"temperature\": {\"type\": \"float\", \"description\": \"The temperature to convert.\"}, \"unit_from\": {\"type\": \"string\", \"description\": \"The current unit of the temperature (Celsius or Fahrenheit).\"}, \"unit_to\": {\"type\": \"string\", \"description\": \"The unit to convert the temperature to (Celsius or Fahrenheit).\"}}, \"required\": [\"temperature\", \"unit_from\", \"unit_to\"]}\\ngenerate_random_number: Generates a random number within a specified range. | Parameters: {\"type\": \"dict\", \"properties\": {\"min\": {\"type\": \"integer\", \"description\": \"The minimum value of the range.\"}, \"max\": {\"type\": \"integer\", \"description\": \"The maximum value of the range.\"}}, \"required\": [\"min\", \"max\"]}\\nget_movie_rating: Fetches the age rating of a movie from the OMDB API. | Parameters: {\"type\": \"dict\", \"properties\": {\"movie_name\": {\"type\": \"string\", \"description\": \"The name of the movie.\"}}, \"required\": [\"movie_name\"]}\\nget_movie_genre: Retrieves the genre of a movie from the OMDB API. | Parameters: {\"type\": \"dict\", \"properties\": {\"movie_name\": {\"type\": \"string\", \"description\": \"The name of the movie to retrieve the genre for.\"}}, \"required\": [\"movie_name\"]}\\nget_director_by_movie_name: Gets the director of a movie. | Parameters: {\"type\": \"dict\", \"properties\": {\"movie_name\": {\"type\": \"string\", \"description\": \"The movie to find the director of.\"}}, \"required\": [\"movie_name\"]}\\nconvert_coordinates: Converts a list of tuples into a list of lists. | Parameters: {\"type\": \"dict\", \"properties\": {\"coordinates\": {\"type\": \"array\", \"items\": {\"type\": \"tuple\", \"items\": {\"type\": \"float\"}, \"description\": \"A single coordinate represented by a tuple (x, y).\"}, \"description\": \"The coordinates to be converted, where each coordinate is a tuple (x, y).\"}}, \"required\": [\"coordinates\"]}\\npolygon_area: Calculate the area of a polygon given its vertices using the shoelace formula. | Parameters: {\"type\": \"dict\", \"properties\": {\"vertices\": {\"type\": \"array\", \"items\": {\"type\": \"array\", \"items\": {\"type\": \"float\"}, \"minItems\": 2, \"maxItems\": 2, \"description\": \"A single vertex represented by a 2 element list [x, y].\"}, \"description\": \"The vertices of the polygon, where each vertex is a 2 element list [x, y].\"}}, \"required\": [\"vertices\"]}\\nvalidate_polygon: Checks if the given vertices form a valid polygon. | Parameters: {\"type\": \"dict\", \"properties\": {\"vertices\": {\"type\": \"array\", \"items\": {\"type\": \"array\", \"items\": {\"type\": \"float\"}, \"description\": \"A single vertex represented by a 2 element list [x, y].\"}, \"description\": \"The vertices of the polygon, where each vertex is a 2 element list [x, y].\"}}, \"required\": [\"vertices\"]}  \n",
       "3  get_weather_data: Fetches weather data from the Open-Meteo API for the given latitude and longitude. | Parameters: {\"type\": \"dict\", \"properties\": {\"coordinates\": {\"type\": \"array\", \"items\": {\"type\": \"float\"}, \"description\": \"The latitude and longitude of the location.\"}}, \"required\": [\"coordinates\"]}\\ncalc_binomial_probability: Calculates the probability of getting k successes in n trials. | Parameters: {\"type\": \"dict\", \"properties\": {\"n\": {\"type\": \"integer\", \"description\": \"The number of trials.\"}, \"k\": {\"type\": \"integer\", \"description\": \"The number of successes.\"}, \"p\": {\"type\": \"float\", \"description\": \"The probability of success.\"}}, \"required\": [\"n\", \"k\", \"p\"]}\\ncalculate_cosine_similarity: Calculates the cosine similarity of two vectors. | Parameters: {\"type\": \"dict\", \"properties\": {\"vectorA\": {\"type\": \"array\", \"items\": {\"type\": \"float\"}, \"description\": \"The first vector.\"}, \"vectorB\": {\"type\": \"array\", \"items\": {\"type\": \"float\"}, \"description\": \"The second vector.\"}}, \"required\": [\"vectorA\", \"vectorB\"]}\\nget_stock_price_by_stock_name: Finds the price of a stock by its stock name. | Parameters: {\"type\": \"dict\", \"properties\": {\"stock_name\": {\"type\": \"string\", \"description\": \"The stock name of the product, in the format of the stock symbol.\"}}, \"required\": [\"stock_name\"]}\\ncalculate_density: Calculates the density of an object. | Parameters: {\"type\": \"dict\", \"properties\": {\"mass\": {\"type\": \"float\", \"description\": \"The mass of the object, in kilograms.\"}, \"volume\": {\"type\": \"float\", \"description\": \"The volume of the object, in cubic meters.\"}}, \"required\": [\"mass\", \"volume\"]}\\ncalculate_future_value: Calculates the future value of an investment. | Parameters: {\"type\": \"dict\", \"properties\": {\"present_value\": {\"type\": \"float\", \"description\": \"The present value of the investment, in dollars.\"}, \"interest_rate\": {\"type\": \"float\", \"description\": \"The interest rate of the investment, ranging from 0 to 1.\"}, \"periods\": {\"type\": \"integer\", \"description\": \"The number of periods, in years.\"}}, \"required\": [\"present_value\", \"interest_rate\", \"periods\"]}\\nget_rating_by_amazon_ASIN: Finds the rating of a product by its Amazon ASIN. | Parameters: {\"type\": \"dict\", \"properties\": {\"ASIN\": {\"type\": \"string\", \"description\": \"The Amazon ASIN of the product.\"}}, \"required\": [\"ASIN\"]}\\nretrieve_holiday_by_year: Finds the holidays of a year. | Parameters: {\"type\": \"dict\", \"properties\": {\"year\": {\"type\": \"string\", \"description\": \"The year of the holidays.\"}, \"country\": {\"type\": \"string\", \"description\": \"The country of the holidays. Possible options: US, AT, DE, ES, FR, GB, IT, NL, PL, RO, SK, UA.\"}}, \"required\": [\"year\", \"country\"]}\\ncalculate_displacement: Calculates the displacement of an object. | Parameters: {\"type\": \"dict\", \"properties\": {\"initial_velocity\": {\"type\": \"float\", \"description\": \"The initial velocity of the object, in meters per second.\"}, \"acceleration\": {\"type\": \"float\", \"description\": \"The acceleration of the object, in meters per second squared.\"}, \"time\": {\"type\": \"float\", \"description\": \"The time the object has been moving, in seconds.\"}}, \"required\": [\"initial_velocity\", \"acceleration\", \"time\"]}\\nget_zipcode_by_ip_address: Finds the zipcode of an IP address. | Parameters: {\"type\": \"dict\", \"properties\": {\"ip_address\": {\"type\": \"string\", \"description\": \"The IP address to find the location of.\"}}, \"required\": [\"ip_address\"]}\\ncalculate_electrostatic_potential_energy: Calculates the electrostatic potential energy. | Parameters: {\"type\": \"dict\", \"properties\": {\"charge\": {\"type\": \"float\", \"description\": \"The charge of the object, in coulombs.\"}, \"voltage\": {\"type\": \"float\", \"description\": \"The voltage of the object, in volts.\"}}, \"required\": [\"charge\", \"voltage\"]}\\nmortgage_calculator: Calculates the monthly mortgage payment. | Parameters: {\"type\": \"dict\", \"properties\": {\"loan_amount\": {\"type\": \"float\", \"description\": \"The amount of the loan.\"}, \"interest_rate\": {\"type\": \"float\", \"description\": \"The interest rate of the loan, ranging from 0 to 1.\"}, \"loan_period\": {\"type\": \"integer\", \"description\": \"The period of the loan, in years.\"}}, \"required\": [\"loan_amount\", \"interest_rate\", \"loan_period\"]}\\ncalculate_final_velocity: Calculates the final velocity of an object. | Parameters: {\"type\": \"dict\", \"properties\": {\"initial_velocity\": {\"type\": \"float\", \"description\": \"The initial velocity of the object.\"}, \"acceleration\": {\"type\": \"float\", \"description\": \"The acceleration of the object.\"}, \"time\": {\"type\": \"float\", \"description\": \"The time the object has been moving.\"}}, \"required\": [\"initial_velocity\", \"acceleration\", \"time\"]}\\nget_fibonacci_sequence: Calculates the n numbers of the Fibonacci. | Parameters: {\"type\": \"dict\", \"properties\": {\"n\": {\"type\": \"integer\", \"description\": \"The number of Fibonacci numbers to calculate.\"}}, \"required\": [\"n\"]}\\nsort_array: Sorts an array of numbers. | Parameters: {\"type\": \"dict\", \"properties\": {\"array\": {\"type\": \"array\", \"items\": {\"type\": \"float\"}, \"description\": \"The array of numbers.\"}, \"reverse\": {\"type\": \"boolean\", \"description\": \"Whether to sort the array in reverse order, i.e., descending order.\", \"default\": false}}, \"required\": [\"array\"]}\\nget_time_zone_by_coord: Finds the timezone of a coordinate. | Parameters: {\"type\": \"dict\", \"properties\": {\"long\": {\"type\": \"string\", \"description\": \"The longitude of the coordinate.\"}, \"lat\": {\"type\": \"string\", \"description\": \"The latitude of the coordinate.\"}}, \"required\": [\"long\", \"lat\"]}\\ncalculate_mean: Calculates the mean of a list of numbers. | Parameters: {\"type\": \"dict\", \"properties\": {\"numbers\": {\"type\": \"array\", \"items\": {\"type\": \"integer\"}, \"description\": \"The list of numbers.\"}}, \"required\": [\"numbers\"]}\\ncalculate_permutations: Calculates the number of permutations of k elements from a set of n elements. | Parameters: {\"type\": \"dict\", \"properties\": {\"n\": {\"type\": \"integer\", \"description\": \"The number of elements in the set.\"}, \"k\": {\"type\": \"integer\", \"description\": \"The number of elements to choose.\"}}, \"required\": [\"n\", \"k\"]}\\nget_company_name_by_stock_name: Finds the company name of a stock by its stock name. | Parameters: {\"type\": \"dict\", \"properties\": {\"stock_name\": {\"type\": \"string\", \"description\": \"The stock name of the product, in the format of the stock symbol.\"}}, \"required\": [\"stock_name\"]}\\ncalculate_standard_deviation: Calculates the standard deviation of a list of numbers. | Parameters: {\"type\": \"dict\", \"properties\": {\"numbers\": {\"type\": \"array\", \"items\": {\"type\": \"integer\"}, \"description\": \"The list of numbers.\"}}, \"required\": [\"numbers\"]}\\nmath_lcm: Calculates the least common multiple of two numbers. | Parameters: {\"type\": \"dict\", \"properties\": {\"a\": {\"type\": \"integer\", \"description\": \"The first number. This should be the larger number.\"}, \"b\": {\"type\": \"integer\", \"description\": \"The second number.\"}}, \"required\": [\"a\", \"b\"]}\\ncalculate_triangle_area: Calculates the area of a triangle given its base and height. | Parameters: {\"type\": \"dict\", \"properties\": {\"base\": {\"type\": \"integer\", \"description\": \"The base of the triangle, in meters.\"}, \"height\": {\"type\": \"integer\", \"description\": \"The height of the triangle, in meters.\"}}, \"required\": [\"base\", \"height\"]}\\nconvert_currency: Converts a given amount from one currency to another using the ExchangeRate-API. | Parameters: {\"type\": \"dict\", \"properties\": {\"amount\": {\"type\": \"float\", \"description\": \"The amount of money to convert, in the base currency.\"}, \"from_currency\": {\"type\": \"string\", \"description\": \"The ISO currency code for the base currency.\"}, \"to_currency\": {\"type\": \"string\", \"description\": \"The ISO currency code for the target currency.\"}}, \"required\": [\"amount\", \"from_currency\", \"to_currency\"]}\\nget_stock_history: Finds the price of a stock by its stock name. | Parameters: {\"type\": \"dict\", \"properties\": {\"stock_name\": {\"type\": \"string\", \"description\": \"The stock name of the product, in the format of the stock symbol.\"}, \"interval\": {\"type\": \"string\", \"description\": \"The interval of the stock history. Allows one of following : 5m|15m|30m|1h|1d|1wk|1mo|3mo\"}, \"diffandsplits\": {\"type\": \"string\", \"description\": \"The diff and splits of the stock history. Allows one of following : true|false. Default to false\"}}, \"required\": [\"stock_name\", \"interval\"]}\\nmath_gcd: Calculates the greatest common divisor of two numbers. | Parameters: {\"type\": \"dict\", \"properties\": {\"a\": {\"type\": \"integer\", \"description\": \"The first number. This should be the larger number.\"}, \"b\": {\"type\": \"integer\", \"description\": \"The second number.\"}}, \"required\": [\"a\", \"b\"]}\\nestimate_derivative: Estimate the derivative of a function at a given point. | Parameters: {\"type\": \"dict\", \"properties\": {\"function\": {\"type\": \"string\", \"description\": \"The function to calculate the derivative of. This should be the string literal of lambda function\"}, \"x\": {\"type\": \"integer\", \"description\": \"The point to calculate the derivative at.\"}}, \"required\": [\"function\", \"x\"]}\\nfind_term_on_urban_dictionary: Finds the definition of a term on Urban Dictionary. | Parameters: {\"type\": \"dict\", \"properties\": {\"term\": {\"type\": \"string\", \"description\": \"The term to find the definition of.\"}}, \"required\": [\"term\"]}\\nget_distance: Calculates the distance between two 2D points. | Parameters: {\"type\": \"dict\", \"properties\": {\"pointA\": {\"type\": \"tuple\", \"description\": \"The first point.\", \"items\": {\"type\": \"float\"}}, \"pointB\": {\"type\": \"tuple\", \"description\": \"The second point.\", \"items\": {\"type\": \"float\"}}}, \"required\": [\"pointA\", \"pointB\"]}\\ngeometry_area_circle: Calculates the area of a circle. | Parameters: {\"type\": \"dict\", \"properties\": {\"radius\": {\"type\": \"integer\", \"description\": \"The radius of the circle, in feet.\"}}, \"required\": [\"radius\"]}\\nget_covid_death_by_country: Finds the most up to date total deaths of a country result from COVID. | Parameters: {\"type\": \"dict\", \"properties\": {\"country\": {\"type\": \"string\", \"description\": \"The country to find the total deaths of, in the format of the country's full name.\"}}, \"required\": [\"country\"]}\\nget_active_covid_case_by_country: Finds the most up to date active cases of a country result from COVID. | Parameters: {\"type\": \"dict\", \"properties\": {\"country\": {\"type\": \"string\", \"description\": \"The country to find the active cases of, in the format of the country's full name.\"}}, \"required\": [\"country\"]}\\nmat_mul: Multiplies two matrices. | Parameters: {\"type\": \"dict\", \"properties\": {\"matA\": {\"type\": \"array\", \"description\": \"The first matrix.\", \"items\": {\"type\": \"array\", \"items\": {\"type\": \"integer\"}}}, \"matB\": {\"type\": \"array\", \"description\": \"The second matrix.\", \"items\": {\"type\": \"array\", \"items\": {\"type\": \"integer\"}}}}, \"required\": [\"matA\", \"matB\"]}\\nget_coordinate_by_ip_address: Finds the latitude and longitude of an IP address. | Parameters: {\"type\": \"dict\", \"properties\": {\"ip_address\": {\"type\": \"string\", \"description\": \"The IP address to find the location of.\"}}, \"required\": [\"ip_address\"]}\\nget_coordinates_from_city: Fetches the latitude and longitude of a given city name using the Maps.co Geocoding API. | Parameters: {\"type\": \"dict\", \"properties\": {\"city_name\": {\"type\": \"string\", \"description\": \"The name of the city, such as 'Rome'.\"}}, \"required\": [\"city_name\"]}\\nget_product_name_by_amazon_ASIN: Finds the price of a product by its Amazon ASIN. | Parameters: {\"type\": \"dict\", \"properties\": {\"ASIN\": {\"type\": \"string\", \"description\": \"The Amazon ASIN of the product.\"}}, \"required\": [\"ASIN\"]}\\nget_price_by_amazon_ASIN: Finds the price of a product by its Amazon ASIN. | Parameters: {\"type\": \"dict\", \"properties\": {\"ASIN\": {\"type\": \"string\", \"description\": \"The Amazon ASIN of the product.\"}}, \"required\": [\"ASIN\"]}\\nget_prime_factors: Calculates the prime factors of a number. | Parameters: {\"type\": \"dict\", \"properties\": {\"number\": {\"type\": \"integer\", \"description\": \"The number to calculate the prime factors of.\"}}, \"required\": [\"number\"]}\\nretrieve_city_based_on_zipcode: Finds the city of a zipcode. | Parameters: {\"type\": \"dict\", \"properties\": {\"zipcode\": {\"type\": \"string\", \"description\": \"The zipcode of the city.\"}}, \"required\": [\"zipcode\"]}\\nmath_factorial: Calculates the factorial of a number. | Parameters: {\"type\": \"dict\", \"properties\": {\"n\": {\"type\": \"integer\", \"description\": \"The number to calculate the factorial of.\"}}, \"required\": [\"n\"]}\\nquadratic_roots: Calculates the roots of a quadratic equation. | Parameters: {\"type\": \"dict\", \"properties\": {\"a\": {\"type\": \"integer\", \"description\": \"The first coefficient.\"}, \"b\": {\"type\": \"integer\", \"description\": \"The second coefficient.\"}, \"c\": {\"type\": \"integer\", \"description\": \"The third coefficient.\"}}, \"required\": [\"a\", \"b\", \"c\"]}\\nadd_binary_numbers: Adds two binary numbers. | Parameters: {\"type\": \"dict\", \"properties\": {\"a\": {\"type\": \"string\", \"description\": \"The first binary number.\"}, \"b\": {\"type\": \"string\", \"description\": \"The second binary number.\"}}, \"required\": [\"a\", \"b\"]}\\nconvert_binary_to_decimal: Converts a binary number to a decimal number. | Parameters: {\"type\": \"dict\", \"properties\": {\"binary\": {\"type\": \"string\", \"description\": \"The binary number to convert.\"}}, \"required\": [\"binary\"]}\\nconvert_decimal_to_hex: Converts a decimal number to a hexadecimal number. | Parameters: {\"type\": \"dict\", \"properties\": {\"decimal\": {\"type\": \"integer\", \"description\": \"The decimal number to convert.\"}}, \"required\": [\"decimal\"]}\\nlinear_regression: Finds the linear regression of a set of points and evaluates it at a given point. | Parameters: {\"type\": \"dict\", \"properties\": {\"x\": {\"type\": \"array\", \"description\": \"The x coordinates of the points.\", \"items\": {\"type\": \"integer\"}}, \"y\": {\"type\": \"array\", \"description\": \"The y coordinates of the points.\", \"items\": {\"type\": \"integer\"}}, \"point\": {\"type\": \"integer\", \"description\": \"The point to calculate the linear regression at.\"}}, \"required\": [\"x\", \"y\", \"point\"]}\\ncalculate_slope: Calculates the slope of the linear regression line from a set of points. | Parameters: {\"type\": \"dict\", \"properties\": {\"x\": {\"type\": \"array\", \"description\": \"The x coordinates of the points.\", \"items\": {\"type\": \"integer\"}}, \"y\": {\"type\": \"array\", \"description\": \"The y coordinates of the points.\", \"items\": {\"type\": \"integer\"}}}, \"required\": [\"x\", \"y\"]}\\ncalculate_intercept: Calculates the y-intercept of the linear regression line from a set of points and a given slope. | Parameters: {\"type\": \"dict\", \"properties\": {\"x\": {\"type\": \"array\", \"description\": \"The x coordinates of the points.\", \"items\": {\"type\": \"integer\"}}, \"y\": {\"type\": \"array\", \"description\": \"The y coordinates of the points.\", \"items\": {\"type\": \"integer\"}}, \"slope\": {\"type\": \"integer\", \"description\": \"The slope of the linear regression line.\"}}, \"required\": [\"x\", \"y\", \"slope\"]}\\npredict_value: Predicts the value of y given the slope, intercept, and an x value. | Parameters: {\"type\": \"dict\", \"properties\": {\"slope\": {\"type\": \"integer\", \"description\": \"The slope of the linear regression line.\"}, \"intercept\": {\"type\": \"integer\", \"description\": \"The y-intercept of the linear regression line.\"}, \"x\": {\"type\": \"integer\", \"description\": \"The x value to predict the y for.\"}}, \"required\": [\"slope\", \"intercept\", \"x\"]}\\ncalculate_investment_value: Calculates the value of an investment over time. | Parameters: {\"type\": \"dict\", \"properties\": {\"initial_investment\": {\"type\": \"integer\", \"description\": \"The initial investment amount.\"}, \"annual_contribution\": {\"type\": \"integer\", \"description\": \"The annual contribution amount.\"}, \"years\": {\"type\": \"integer\", \"description\": \"The number of years to calculate the investment value for.\"}, \"annual_return\": {\"type\": \"float\", \"description\": \"The annual return rate, ranging from 0 to 1.\"}, \"inflation_rate\": {\"type\": \"array\", \"items\": {\"type\": \"float\"}, \"description\": \"The inflation rate for each year in percentage, ranging from 0 to 1.\"}, \"adjust_for_inflation\": {\"type\": \"boolean\", \"default\": true, \"description\": \"Whether to adjust the investment value for inflation.\"}}, \"required\": [\"initial_investment\", \"annual_contribution\", \"years\", \"annual_return\", \"inflation_rate\"]}\\ncompound_interest: Calculates compound interest over time. | Parameters: {\"type\": \"dict\", \"properties\": {\"principal\": {\"type\": \"integer\", \"description\": \"The principal amount.\"}, \"rate\": {\"type\": \"float\", \"description\": \"The annual interest rate.\"}, \"times_compounded\": {\"type\": \"integer\", \"description\": \"The number of times the interest is compounded per year.\"}, \"years\": {\"type\": \"integer\", \"description\": \"The number of years to calculate the compound interest for.\"}}, \"required\": [\"principal\", \"rate\", \"times_compounded\", \"years\"]}\\ninflation_adjustment: Adjusts an amount for inflation. | Parameters: {\"type\": \"dict\", \"properties\": {\"amount\": {\"type\": \"float\", \"description\": \"The amount to adjust for inflation.\"}, \"inflation_rate\": {\"type\": \"float\", \"description\": \"The annual inflation float.\"}, \"years\": {\"type\": \"integer\", \"description\": \"The number of years to adjust for inflation.\"}}, \"required\": [\"amount\", \"inflation_rate\", \"years\"]}\\nadjust_for_inflation: Adjusts the investment value for inflation for each year. | Parameters: {\"type\": \"dict\", \"properties\": {\"investment_value\": {\"type\": \"float\", \"description\": \"The value of the investment to adjust.\"}, \"inflation_rates\": {\"type\": \"array\", \"items\": {\"type\": \"float\"}, \"description\": \"The inflation rates for each year.\"}}, \"required\": [\"investment_value\", \"inflation_rates\"]}\\ncalculate_basal_metabolic_rate: Calculates the Basal Metabolic Rate (BMR) of a person. | Parameters: {\"type\": \"dict\", \"properties\": {\"weight\": {\"type\": \"float\", \"description\": \"The weight of the person in kilograms.\"}, \"height\": {\"type\": \"float\", \"description\": \"The height of the person in centimeters.\"}, \"age\": {\"type\": \"float\", \"description\": \"The age of the person in years.\"}, \"gender\": {\"type\": \"string\", \"description\": \"The gender of the person. Possible options [male, female, other].\"}}, \"required\": [\"weight\", \"height\", \"age\", \"gender\"]}\\ncalculate_daily_energy_expenditure: Calculates the daily energy expenditure based on BMR and activity level. | Parameters: {\"type\": \"dict\", \"properties\": {\"basal_metabolic_rate\": {\"type\": \"float\", \"description\": \"The BMR of the person.\"}, \"activity_level\": {\"type\": \"float\", \"description\": \"The activity level of the person. Possible options [1,2,3,4,5].\"}}, \"required\": [\"basal_metabolic_rate\", \"activity_level\"]}\\ncalculate_nutritional_needs: Calculates the nutritional needs of a person based on their weight, height, age, gender, activity level, and goal. | Parameters: {\"type\": \"dict\", \"properties\": {\"weight\": {\"type\": \"float\", \"description\": \"The weight of the person in kilograms.\"}, \"height\": {\"type\": \"float\", \"description\": \"The height of the person in centimeters.\"}, \"age\": {\"type\": \"float\", \"description\": \"The age of the person in years.\"}, \"gender\": {\"type\": \"string\", \"description\": \"The gender of the person. Possible options [male, female, other].\"}, \"activity_level\": {\"type\": \"float\", \"description\": \"The activity level of the person. Possible options [1,2,3,4,5].\"}, \"goal\": {\"type\": \"string\", \"description\": \"The goal of the person. Possible options [lose, gain, maintain].\"}}, \"required\": [\"weight\", \"height\", \"age\", \"gender\", \"activity_level\", \"goal\"]}\\nbook_room: Books a room for a customer. | Parameters: {\"type\": \"dict\", \"properties\": {\"room_type\": {\"type\": \"dict\", \"description\": \"The room type to book.\"}, \"check_in_date\": {\"type\": \"string\", \"description\": \"The check-in date in format of MM-DD-YYYY.\"}, \"check_out_date\": {\"type\": \"string\", \"description\": \"The check-out date in format of MM-DD-YYYY.\"}, \"customer_id\": {\"type\": \"string\", \"description\": \"The customer ID.\"}, \"discount_code\": {\"type\": \"string\", \"description\": \"The discount code (if any).\", \"default\": null}}, \"required\": [\"room_type\", \"check_in_date\", \"check_out_date\", \"customer_id\"]}\\ncalculate_total_price: Calculates the total price of the room booking. | Parameters: {\"type\": \"dict\", \"properties\": {\"room_price\": {\"type\": \"float\", \"description\": \"The price per night of the room.\"}, \"nights\": {\"type\": \"integer\", \"description\": \"The number of nights for the booking.\"}, \"discount\": {\"type\": \"float\", \"description\": \"The discount amount (if any).\", \"default\": 0}}, \"required\": [\"room_price\", \"nights\"]}\\nconfirm_booking: Confirms the room booking and sends a confirmation to the customer. | Parameters: {\"type\": \"dict\", \"properties\": {\"customer_id\": {\"type\": \"string\", \"description\": \"The customer ID.\"}, \"room_number\": {\"type\": \"string\", \"description\": \"The room number assigned to the booking.\"}, \"total_price\": {\"type\": \"float\", \"description\": \"The total price for the booking.\"}}, \"required\": [\"customer_id\", \"room_number\", \"total_price\"]}\\norder_food: Orders food for a customer. Return the total price. | Parameters: {\"type\": \"dict\", \"properties\": {\"item\": {\"type\": \"array\", \"items\": {\"type\": \"string\"}, \"description\": \"the name of the product.\"}, \"quantity\": {\"type\": \"array\", \"items\": {\"type\": \"integer\"}, \"description\": \"the number of the product purchased.\"}, \"price\": {\"type\": \"array\", \"items\": {\"type\": \"float\"}, \"description\": \"the price of the product.\"}}, \"required\": [\"item\", \"quantity\", \"price\"]}\\ncalculate_total: Calculates the total price of an order given the quantities and prices. | Parameters: {\"type\": \"dict\", \"properties\": {\"quantities\": {\"type\": \"array\", \"items\": {\"type\": \"integer\"}, \"description\": \"The quantities of each product.\"}, \"prices\": {\"type\": \"array\", \"items\": {\"type\": \"float\"}, \"description\": \"The price of each product.\"}}, \"required\": [\"quantities\", \"prices\"]}\\napply_discount: Applies a discount to the total price. | Parameters: {\"type\": \"dict\", \"properties\": {\"total\": {\"type\": \"float\", \"description\": \"The original total price.\"}, \"discount\": {\"type\": \"float\", \"description\": \"The discount percentage to apply.\"}}, \"required\": [\"total\", \"discount\"]}\\nget_movie_director: Fetches the director of a movie from the OMDB API. | Parameters: {\"type\": \"dict\", \"properties\": {\"movie_name\": {\"type\": \"string\", \"description\": \"The name of the movie.\"}}, \"required\": [\"movie_name\"]}\\ncalculate_interest_rate: Calculates the interest rate for a given principal, rate, and time. | Parameters: {\"type\": \"dict\", \"properties\": {\"principal\": {\"type\": \"float\", \"description\": \"The initial amount of money.\"}, \"rate\": {\"type\": \"float\", \"description\": \"The interest rate per period.\"}, \"time\": {\"type\": \"float\", \"description\": \"The time the money is invested or borrowed for.\"}}, \"required\": [\"principal\", \"rate\", \"time\"]}\\nconvert_temperature: Converts temperature from Celsius to Fahrenheit or vice versa. | Parameters: {\"type\": \"dict\", \"properties\": {\"temperature\": {\"type\": \"float\", \"description\": \"The temperature to convert.\"}, \"unit_from\": {\"type\": \"string\", \"description\": \"The current unit of the temperature (Celsius or Fahrenheit).\"}, \"unit_to\": {\"type\": \"string\", \"description\": \"The unit to convert the temperature to (Celsius or Fahrenheit).\"}}, \"required\": [\"temperature\", \"unit_from\", \"unit_to\"]}\\ngenerate_random_number: Generates a random number within a specified range. | Parameters: {\"type\": \"dict\", \"properties\": {\"min\": {\"type\": \"integer\", \"description\": \"The minimum value of the range.\"}, \"max\": {\"type\": \"integer\", \"description\": \"The maximum value of the range.\"}}, \"required\": [\"min\", \"max\"]}\\nget_movie_rating: Fetches the age rating of a movie from the OMDB API. | Parameters: {\"type\": \"dict\", \"properties\": {\"movie_name\": {\"type\": \"string\", \"description\": \"The name of the movie.\"}}, \"required\": [\"movie_name\"]}\\nget_movie_genre: Retrieves the genre of a movie from the OMDB API. | Parameters: {\"type\": \"dict\", \"properties\": {\"movie_name\": {\"type\": \"string\", \"description\": \"The name of the movie to retrieve the genre for.\"}}, \"required\": [\"movie_name\"]}\\nget_director_by_movie_name: Gets the director of a movie. | Parameters: {\"type\": \"dict\", \"properties\": {\"movie_name\": {\"type\": \"string\", \"description\": \"The movie to find the director of.\"}}, \"required\": [\"movie_name\"]}\\nconvert_coordinates: Converts a list of tuples into a list of lists. | Parameters: {\"type\": \"dict\", \"properties\": {\"coordinates\": {\"type\": \"array\", \"items\": {\"type\": \"tuple\", \"items\": {\"type\": \"float\"}, \"description\": \"A single coordinate represented by a tuple (x, y).\"}, \"description\": \"The coordinates to be converted, where each coordinate is a tuple (x, y).\"}}, \"required\": [\"coordinates\"]}\\npolygon_area: Calculate the area of a polygon given its vertices using the shoelace formula. | Parameters: {\"type\": \"dict\", \"properties\": {\"vertices\": {\"type\": \"array\", \"items\": {\"type\": \"array\", \"items\": {\"type\": \"float\"}, \"minItems\": 2, \"maxItems\": 2, \"description\": \"A single vertex represented by a 2 element list [x, y].\"}, \"description\": \"The vertices of the polygon, where each vertex is a 2 element list [x, y].\"}}, \"required\": [\"vertices\"]}\\nvalidate_polygon: Checks if the given vertices form a valid polygon. | Parameters: {\"type\": \"dict\", \"properties\": {\"vertices\": {\"type\": \"array\", \"items\": {\"type\": \"array\", \"items\": {\"type\": \"float\"}, \"description\": \"A single vertex represented by a 2 element list [x, y].\"}, \"description\": \"The vertices of the polygon, where each vertex is a 2 element list [x, y].\"}}, \"required\": [\"vertices\"]}  \n",
       "4  get_weather_data: Fetches weather data from the Open-Meteo API for the given latitude and longitude. | Parameters: {\"type\": \"dict\", \"properties\": {\"coordinates\": {\"type\": \"array\", \"items\": {\"type\": \"float\"}, \"description\": \"The latitude and longitude of the location.\"}}, \"required\": [\"coordinates\"]}\\ncalc_binomial_probability: Calculates the probability of getting k successes in n trials. | Parameters: {\"type\": \"dict\", \"properties\": {\"n\": {\"type\": \"integer\", \"description\": \"The number of trials.\"}, \"k\": {\"type\": \"integer\", \"description\": \"The number of successes.\"}, \"p\": {\"type\": \"float\", \"description\": \"The probability of success.\"}}, \"required\": [\"n\", \"k\", \"p\"]}\\ncalculate_cosine_similarity: Calculates the cosine similarity of two vectors. | Parameters: {\"type\": \"dict\", \"properties\": {\"vectorA\": {\"type\": \"array\", \"items\": {\"type\": \"float\"}, \"description\": \"The first vector.\"}, \"vectorB\": {\"type\": \"array\", \"items\": {\"type\": \"float\"}, \"description\": \"The second vector.\"}}, \"required\": [\"vectorA\", \"vectorB\"]}\\nget_stock_price_by_stock_name: Finds the price of a stock by its stock name. | Parameters: {\"type\": \"dict\", \"properties\": {\"stock_name\": {\"type\": \"string\", \"description\": \"The stock name of the product, in the format of the stock symbol.\"}}, \"required\": [\"stock_name\"]}\\ncalculate_density: Calculates the density of an object. | Parameters: {\"type\": \"dict\", \"properties\": {\"mass\": {\"type\": \"float\", \"description\": \"The mass of the object, in kilograms.\"}, \"volume\": {\"type\": \"float\", \"description\": \"The volume of the object, in cubic meters.\"}}, \"required\": [\"mass\", \"volume\"]}\\ncalculate_future_value: Calculates the future value of an investment. | Parameters: {\"type\": \"dict\", \"properties\": {\"present_value\": {\"type\": \"float\", \"description\": \"The present value of the investment, in dollars.\"}, \"interest_rate\": {\"type\": \"float\", \"description\": \"The interest rate of the investment, ranging from 0 to 1.\"}, \"periods\": {\"type\": \"integer\", \"description\": \"The number of periods, in years.\"}}, \"required\": [\"present_value\", \"interest_rate\", \"periods\"]}\\nget_rating_by_amazon_ASIN: Finds the rating of a product by its Amazon ASIN. | Parameters: {\"type\": \"dict\", \"properties\": {\"ASIN\": {\"type\": \"string\", \"description\": \"The Amazon ASIN of the product.\"}}, \"required\": [\"ASIN\"]}\\nretrieve_holiday_by_year: Finds the holidays of a year. | Parameters: {\"type\": \"dict\", \"properties\": {\"year\": {\"type\": \"string\", \"description\": \"The year of the holidays.\"}, \"country\": {\"type\": \"string\", \"description\": \"The country of the holidays. Possible options: US, AT, DE, ES, FR, GB, IT, NL, PL, RO, SK, UA.\"}}, \"required\": [\"year\", \"country\"]}\\ncalculate_displacement: Calculates the displacement of an object. | Parameters: {\"type\": \"dict\", \"properties\": {\"initial_velocity\": {\"type\": \"float\", \"description\": \"The initial velocity of the object, in meters per second.\"}, \"acceleration\": {\"type\": \"float\", \"description\": \"The acceleration of the object, in meters per second squared.\"}, \"time\": {\"type\": \"float\", \"description\": \"The time the object has been moving, in seconds.\"}}, \"required\": [\"initial_velocity\", \"acceleration\", \"time\"]}\\nget_zipcode_by_ip_address: Finds the zipcode of an IP address. | Parameters: {\"type\": \"dict\", \"properties\": {\"ip_address\": {\"type\": \"string\", \"description\": \"The IP address to find the location of.\"}}, \"required\": [\"ip_address\"]}\\ncalculate_electrostatic_potential_energy: Calculates the electrostatic potential energy. | Parameters: {\"type\": \"dict\", \"properties\": {\"charge\": {\"type\": \"float\", \"description\": \"The charge of the object, in coulombs.\"}, \"voltage\": {\"type\": \"float\", \"description\": \"The voltage of the object, in volts.\"}}, \"required\": [\"charge\", \"voltage\"]}\\nmortgage_calculator: Calculates the monthly mortgage payment. | Parameters: {\"type\": \"dict\", \"properties\": {\"loan_amount\": {\"type\": \"float\", \"description\": \"The amount of the loan.\"}, \"interest_rate\": {\"type\": \"float\", \"description\": \"The interest rate of the loan, ranging from 0 to 1.\"}, \"loan_period\": {\"type\": \"integer\", \"description\": \"The period of the loan, in years.\"}}, \"required\": [\"loan_amount\", \"interest_rate\", \"loan_period\"]}\\ncalculate_final_velocity: Calculates the final velocity of an object. | Parameters: {\"type\": \"dict\", \"properties\": {\"initial_velocity\": {\"type\": \"float\", \"description\": \"The initial velocity of the object.\"}, \"acceleration\": {\"type\": \"float\", \"description\": \"The acceleration of the object.\"}, \"time\": {\"type\": \"float\", \"description\": \"The time the object has been moving.\"}}, \"required\": [\"initial_velocity\", \"acceleration\", \"time\"]}\\nget_fibonacci_sequence: Calculates the n numbers of the Fibonacci. | Parameters: {\"type\": \"dict\", \"properties\": {\"n\": {\"type\": \"integer\", \"description\": \"The number of Fibonacci numbers to calculate.\"}}, \"required\": [\"n\"]}\\nsort_array: Sorts an array of numbers. | Parameters: {\"type\": \"dict\", \"properties\": {\"array\": {\"type\": \"array\", \"items\": {\"type\": \"float\"}, \"description\": \"The array of numbers.\"}, \"reverse\": {\"type\": \"boolean\", \"description\": \"Whether to sort the array in reverse order, i.e., descending order.\", \"default\": false}}, \"required\": [\"array\"]}\\nget_time_zone_by_coord: Finds the timezone of a coordinate. | Parameters: {\"type\": \"dict\", \"properties\": {\"long\": {\"type\": \"string\", \"description\": \"The longitude of the coordinate.\"}, \"lat\": {\"type\": \"string\", \"description\": \"The latitude of the coordinate.\"}}, \"required\": [\"long\", \"lat\"]}\\ncalculate_mean: Calculates the mean of a list of numbers. | Parameters: {\"type\": \"dict\", \"properties\": {\"numbers\": {\"type\": \"array\", \"items\": {\"type\": \"integer\"}, \"description\": \"The list of numbers.\"}}, \"required\": [\"numbers\"]}\\ncalculate_permutations: Calculates the number of permutations of k elements from a set of n elements. | Parameters: {\"type\": \"dict\", \"properties\": {\"n\": {\"type\": \"integer\", \"description\": \"The number of elements in the set.\"}, \"k\": {\"type\": \"integer\", \"description\": \"The number of elements to choose.\"}}, \"required\": [\"n\", \"k\"]}\\nget_company_name_by_stock_name: Finds the company name of a stock by its stock name. | Parameters: {\"type\": \"dict\", \"properties\": {\"stock_name\": {\"type\": \"string\", \"description\": \"The stock name of the product, in the format of the stock symbol.\"}}, \"required\": [\"stock_name\"]}\\ncalculate_standard_deviation: Calculates the standard deviation of a list of numbers. | Parameters: {\"type\": \"dict\", \"properties\": {\"numbers\": {\"type\": \"array\", \"items\": {\"type\": \"integer\"}, \"description\": \"The list of numbers.\"}}, \"required\": [\"numbers\"]}\\nmath_lcm: Calculates the least common multiple of two numbers. | Parameters: {\"type\": \"dict\", \"properties\": {\"a\": {\"type\": \"integer\", \"description\": \"The first number. This should be the larger number.\"}, \"b\": {\"type\": \"integer\", \"description\": \"The second number.\"}}, \"required\": [\"a\", \"b\"]}\\ncalculate_triangle_area: Calculates the area of a triangle given its base and height. | Parameters: {\"type\": \"dict\", \"properties\": {\"base\": {\"type\": \"integer\", \"description\": \"The base of the triangle, in meters.\"}, \"height\": {\"type\": \"integer\", \"description\": \"The height of the triangle, in meters.\"}}, \"required\": [\"base\", \"height\"]}\\nconvert_currency: Converts a given amount from one currency to another using the ExchangeRate-API. | Parameters: {\"type\": \"dict\", \"properties\": {\"amount\": {\"type\": \"float\", \"description\": \"The amount of money to convert, in the base currency.\"}, \"from_currency\": {\"type\": \"string\", \"description\": \"The ISO currency code for the base currency.\"}, \"to_currency\": {\"type\": \"string\", \"description\": \"The ISO currency code for the target currency.\"}}, \"required\": [\"amount\", \"from_currency\", \"to_currency\"]}\\nget_stock_history: Finds the price of a stock by its stock name. | Parameters: {\"type\": \"dict\", \"properties\": {\"stock_name\": {\"type\": \"string\", \"description\": \"The stock name of the product, in the format of the stock symbol.\"}, \"interval\": {\"type\": \"string\", \"description\": \"The interval of the stock history. Allows one of following : 5m|15m|30m|1h|1d|1wk|1mo|3mo\"}, \"diffandsplits\": {\"type\": \"string\", \"description\": \"The diff and splits of the stock history. Allows one of following : true|false. Default to false\"}}, \"required\": [\"stock_name\", \"interval\"]}\\nmath_gcd: Calculates the greatest common divisor of two numbers. | Parameters: {\"type\": \"dict\", \"properties\": {\"a\": {\"type\": \"integer\", \"description\": \"The first number. This should be the larger number.\"}, \"b\": {\"type\": \"integer\", \"description\": \"The second number.\"}}, \"required\": [\"a\", \"b\"]}\\nestimate_derivative: Estimate the derivative of a function at a given point. | Parameters: {\"type\": \"dict\", \"properties\": {\"function\": {\"type\": \"string\", \"description\": \"The function to calculate the derivative of. This should be the string literal of lambda function\"}, \"x\": {\"type\": \"integer\", \"description\": \"The point to calculate the derivative at.\"}}, \"required\": [\"function\", \"x\"]}\\nfind_term_on_urban_dictionary: Finds the definition of a term on Urban Dictionary. | Parameters: {\"type\": \"dict\", \"properties\": {\"term\": {\"type\": \"string\", \"description\": \"The term to find the definition of.\"}}, \"required\": [\"term\"]}\\nget_distance: Calculates the distance between two 2D points. | Parameters: {\"type\": \"dict\", \"properties\": {\"pointA\": {\"type\": \"tuple\", \"description\": \"The first point.\", \"items\": {\"type\": \"float\"}}, \"pointB\": {\"type\": \"tuple\", \"description\": \"The second point.\", \"items\": {\"type\": \"float\"}}}, \"required\": [\"pointA\", \"pointB\"]}\\ngeometry_area_circle: Calculates the area of a circle. | Parameters: {\"type\": \"dict\", \"properties\": {\"radius\": {\"type\": \"integer\", \"description\": \"The radius of the circle, in feet.\"}}, \"required\": [\"radius\"]}\\nget_covid_death_by_country: Finds the most up to date total deaths of a country result from COVID. | Parameters: {\"type\": \"dict\", \"properties\": {\"country\": {\"type\": \"string\", \"description\": \"The country to find the total deaths of, in the format of the country's full name.\"}}, \"required\": [\"country\"]}\\nget_active_covid_case_by_country: Finds the most up to date active cases of a country result from COVID. | Parameters: {\"type\": \"dict\", \"properties\": {\"country\": {\"type\": \"string\", \"description\": \"The country to find the active cases of, in the format of the country's full name.\"}}, \"required\": [\"country\"]}\\nmat_mul: Multiplies two matrices. | Parameters: {\"type\": \"dict\", \"properties\": {\"matA\": {\"type\": \"array\", \"description\": \"The first matrix.\", \"items\": {\"type\": \"array\", \"items\": {\"type\": \"integer\"}}}, \"matB\": {\"type\": \"array\", \"description\": \"The second matrix.\", \"items\": {\"type\": \"array\", \"items\": {\"type\": \"integer\"}}}}, \"required\": [\"matA\", \"matB\"]}\\nget_coordinate_by_ip_address: Finds the latitude and longitude of an IP address. | Parameters: {\"type\": \"dict\", \"properties\": {\"ip_address\": {\"type\": \"string\", \"description\": \"The IP address to find the location of.\"}}, \"required\": [\"ip_address\"]}\\nget_coordinates_from_city: Fetches the latitude and longitude of a given city name using the Maps.co Geocoding API. | Parameters: {\"type\": \"dict\", \"properties\": {\"city_name\": {\"type\": \"string\", \"description\": \"The name of the city, such as 'Rome'.\"}}, \"required\": [\"city_name\"]}\\nget_product_name_by_amazon_ASIN: Finds the price of a product by its Amazon ASIN. | Parameters: {\"type\": \"dict\", \"properties\": {\"ASIN\": {\"type\": \"string\", \"description\": \"The Amazon ASIN of the product.\"}}, \"required\": [\"ASIN\"]}\\nget_price_by_amazon_ASIN: Finds the price of a product by its Amazon ASIN. | Parameters: {\"type\": \"dict\", \"properties\": {\"ASIN\": {\"type\": \"string\", \"description\": \"The Amazon ASIN of the product.\"}}, \"required\": [\"ASIN\"]}\\nget_prime_factors: Calculates the prime factors of a number. | Parameters: {\"type\": \"dict\", \"properties\": {\"number\": {\"type\": \"integer\", \"description\": \"The number to calculate the prime factors of.\"}}, \"required\": [\"number\"]}\\nretrieve_city_based_on_zipcode: Finds the city of a zipcode. | Parameters: {\"type\": \"dict\", \"properties\": {\"zipcode\": {\"type\": \"string\", \"description\": \"The zipcode of the city.\"}}, \"required\": [\"zipcode\"]}\\nmath_factorial: Calculates the factorial of a number. | Parameters: {\"type\": \"dict\", \"properties\": {\"n\": {\"type\": \"integer\", \"description\": \"The number to calculate the factorial of.\"}}, \"required\": [\"n\"]}\\nquadratic_roots: Calculates the roots of a quadratic equation. | Parameters: {\"type\": \"dict\", \"properties\": {\"a\": {\"type\": \"integer\", \"description\": \"The first coefficient.\"}, \"b\": {\"type\": \"integer\", \"description\": \"The second coefficient.\"}, \"c\": {\"type\": \"integer\", \"description\": \"The third coefficient.\"}}, \"required\": [\"a\", \"b\", \"c\"]}\\nadd_binary_numbers: Adds two binary numbers. | Parameters: {\"type\": \"dict\", \"properties\": {\"a\": {\"type\": \"string\", \"description\": \"The first binary number.\"}, \"b\": {\"type\": \"string\", \"description\": \"The second binary number.\"}}, \"required\": [\"a\", \"b\"]}\\nconvert_binary_to_decimal: Converts a binary number to a decimal number. | Parameters: {\"type\": \"dict\", \"properties\": {\"binary\": {\"type\": \"string\", \"description\": \"The binary number to convert.\"}}, \"required\": [\"binary\"]}\\nconvert_decimal_to_hex: Converts a decimal number to a hexadecimal number. | Parameters: {\"type\": \"dict\", \"properties\": {\"decimal\": {\"type\": \"integer\", \"description\": \"The decimal number to convert.\"}}, \"required\": [\"decimal\"]}\\nlinear_regression: Finds the linear regression of a set of points and evaluates it at a given point. | Parameters: {\"type\": \"dict\", \"properties\": {\"x\": {\"type\": \"array\", \"description\": \"The x coordinates of the points.\", \"items\": {\"type\": \"integer\"}}, \"y\": {\"type\": \"array\", \"description\": \"The y coordinates of the points.\", \"items\": {\"type\": \"integer\"}}, \"point\": {\"type\": \"integer\", \"description\": \"The point to calculate the linear regression at.\"}}, \"required\": [\"x\", \"y\", \"point\"]}\\ncalculate_slope: Calculates the slope of the linear regression line from a set of points. | Parameters: {\"type\": \"dict\", \"properties\": {\"x\": {\"type\": \"array\", \"description\": \"The x coordinates of the points.\", \"items\": {\"type\": \"integer\"}}, \"y\": {\"type\": \"array\", \"description\": \"The y coordinates of the points.\", \"items\": {\"type\": \"integer\"}}}, \"required\": [\"x\", \"y\"]}\\ncalculate_intercept: Calculates the y-intercept of the linear regression line from a set of points and a given slope. | Parameters: {\"type\": \"dict\", \"properties\": {\"x\": {\"type\": \"array\", \"description\": \"The x coordinates of the points.\", \"items\": {\"type\": \"integer\"}}, \"y\": {\"type\": \"array\", \"description\": \"The y coordinates of the points.\", \"items\": {\"type\": \"integer\"}}, \"slope\": {\"type\": \"integer\", \"description\": \"The slope of the linear regression line.\"}}, \"required\": [\"x\", \"y\", \"slope\"]}\\npredict_value: Predicts the value of y given the slope, intercept, and an x value. | Parameters: {\"type\": \"dict\", \"properties\": {\"slope\": {\"type\": \"integer\", \"description\": \"The slope of the linear regression line.\"}, \"intercept\": {\"type\": \"integer\", \"description\": \"The y-intercept of the linear regression line.\"}, \"x\": {\"type\": \"integer\", \"description\": \"The x value to predict the y for.\"}}, \"required\": [\"slope\", \"intercept\", \"x\"]}\\ncalculate_investment_value: Calculates the value of an investment over time. | Parameters: {\"type\": \"dict\", \"properties\": {\"initial_investment\": {\"type\": \"integer\", \"description\": \"The initial investment amount.\"}, \"annual_contribution\": {\"type\": \"integer\", \"description\": \"The annual contribution amount.\"}, \"years\": {\"type\": \"integer\", \"description\": \"The number of years to calculate the investment value for.\"}, \"annual_return\": {\"type\": \"float\", \"description\": \"The annual return rate, ranging from 0 to 1.\"}, \"inflation_rate\": {\"type\": \"array\", \"items\": {\"type\": \"float\"}, \"description\": \"The inflation rate for each year in percentage, ranging from 0 to 1.\"}, \"adjust_for_inflation\": {\"type\": \"boolean\", \"default\": true, \"description\": \"Whether to adjust the investment value for inflation.\"}}, \"required\": [\"initial_investment\", \"annual_contribution\", \"years\", \"annual_return\", \"inflation_rate\"]}\\ncompound_interest: Calculates compound interest over time. | Parameters: {\"type\": \"dict\", \"properties\": {\"principal\": {\"type\": \"integer\", \"description\": \"The principal amount.\"}, \"rate\": {\"type\": \"float\", \"description\": \"The annual interest rate.\"}, \"times_compounded\": {\"type\": \"integer\", \"description\": \"The number of times the interest is compounded per year.\"}, \"years\": {\"type\": \"integer\", \"description\": \"The number of years to calculate the compound interest for.\"}}, \"required\": [\"principal\", \"rate\", \"times_compounded\", \"years\"]}\\ninflation_adjustment: Adjusts an amount for inflation. | Parameters: {\"type\": \"dict\", \"properties\": {\"amount\": {\"type\": \"float\", \"description\": \"The amount to adjust for inflation.\"}, \"inflation_rate\": {\"type\": \"float\", \"description\": \"The annual inflation float.\"}, \"years\": {\"type\": \"integer\", \"description\": \"The number of years to adjust for inflation.\"}}, \"required\": [\"amount\", \"inflation_rate\", \"years\"]}\\nadjust_for_inflation: Adjusts the investment value for inflation for each year. | Parameters: {\"type\": \"dict\", \"properties\": {\"investment_value\": {\"type\": \"float\", \"description\": \"The value of the investment to adjust.\"}, \"inflation_rates\": {\"type\": \"array\", \"items\": {\"type\": \"float\"}, \"description\": \"The inflation rates for each year.\"}}, \"required\": [\"investment_value\", \"inflation_rates\"]}\\ncalculate_basal_metabolic_rate: Calculates the Basal Metabolic Rate (BMR) of a person. | Parameters: {\"type\": \"dict\", \"properties\": {\"weight\": {\"type\": \"float\", \"description\": \"The weight of the person in kilograms.\"}, \"height\": {\"type\": \"float\", \"description\": \"The height of the person in centimeters.\"}, \"age\": {\"type\": \"float\", \"description\": \"The age of the person in years.\"}, \"gender\": {\"type\": \"string\", \"description\": \"The gender of the person. Possible options [male, female, other].\"}}, \"required\": [\"weight\", \"height\", \"age\", \"gender\"]}\\ncalculate_daily_energy_expenditure: Calculates the daily energy expenditure based on BMR and activity level. | Parameters: {\"type\": \"dict\", \"properties\": {\"basal_metabolic_rate\": {\"type\": \"float\", \"description\": \"The BMR of the person.\"}, \"activity_level\": {\"type\": \"float\", \"description\": \"The activity level of the person. Possible options [1,2,3,4,5].\"}}, \"required\": [\"basal_metabolic_rate\", \"activity_level\"]}\\ncalculate_nutritional_needs: Calculates the nutritional needs of a person based on their weight, height, age, gender, activity level, and goal. | Parameters: {\"type\": \"dict\", \"properties\": {\"weight\": {\"type\": \"float\", \"description\": \"The weight of the person in kilograms.\"}, \"height\": {\"type\": \"float\", \"description\": \"The height of the person in centimeters.\"}, \"age\": {\"type\": \"float\", \"description\": \"The age of the person in years.\"}, \"gender\": {\"type\": \"string\", \"description\": \"The gender of the person. Possible options [male, female, other].\"}, \"activity_level\": {\"type\": \"float\", \"description\": \"The activity level of the person. Possible options [1,2,3,4,5].\"}, \"goal\": {\"type\": \"string\", \"description\": \"The goal of the person. Possible options [lose, gain, maintain].\"}}, \"required\": [\"weight\", \"height\", \"age\", \"gender\", \"activity_level\", \"goal\"]}\\nbook_room: Books a room for a customer. | Parameters: {\"type\": \"dict\", \"properties\": {\"room_type\": {\"type\": \"dict\", \"description\": \"The room type to book.\"}, \"check_in_date\": {\"type\": \"string\", \"description\": \"The check-in date in format of MM-DD-YYYY.\"}, \"check_out_date\": {\"type\": \"string\", \"description\": \"The check-out date in format of MM-DD-YYYY.\"}, \"customer_id\": {\"type\": \"string\", \"description\": \"The customer ID.\"}, \"discount_code\": {\"type\": \"string\", \"description\": \"The discount code (if any).\", \"default\": null}}, \"required\": [\"room_type\", \"check_in_date\", \"check_out_date\", \"customer_id\"]}\\ncalculate_total_price: Calculates the total price of the room booking. | Parameters: {\"type\": \"dict\", \"properties\": {\"room_price\": {\"type\": \"float\", \"description\": \"The price per night of the room.\"}, \"nights\": {\"type\": \"integer\", \"description\": \"The number of nights for the booking.\"}, \"discount\": {\"type\": \"float\", \"description\": \"The discount amount (if any).\", \"default\": 0}}, \"required\": [\"room_price\", \"nights\"]}\\nconfirm_booking: Confirms the room booking and sends a confirmation to the customer. | Parameters: {\"type\": \"dict\", \"properties\": {\"customer_id\": {\"type\": \"string\", \"description\": \"The customer ID.\"}, \"room_number\": {\"type\": \"string\", \"description\": \"The room number assigned to the booking.\"}, \"total_price\": {\"type\": \"float\", \"description\": \"The total price for the booking.\"}}, \"required\": [\"customer_id\", \"room_number\", \"total_price\"]}\\norder_food: Orders food for a customer. Return the total price. | Parameters: {\"type\": \"dict\", \"properties\": {\"item\": {\"type\": \"array\", \"items\": {\"type\": \"string\"}, \"description\": \"the name of the product.\"}, \"quantity\": {\"type\": \"array\", \"items\": {\"type\": \"integer\"}, \"description\": \"the number of the product purchased.\"}, \"price\": {\"type\": \"array\", \"items\": {\"type\": \"float\"}, \"description\": \"the price of the product.\"}}, \"required\": [\"item\", \"quantity\", \"price\"]}\\ncalculate_total: Calculates the total price of an order given the quantities and prices. | Parameters: {\"type\": \"dict\", \"properties\": {\"quantities\": {\"type\": \"array\", \"items\": {\"type\": \"integer\"}, \"description\": \"The quantities of each product.\"}, \"prices\": {\"type\": \"array\", \"items\": {\"type\": \"float\"}, \"description\": \"The price of each product.\"}}, \"required\": [\"quantities\", \"prices\"]}\\napply_discount: Applies a discount to the total price. | Parameters: {\"type\": \"dict\", \"properties\": {\"total\": {\"type\": \"float\", \"description\": \"The original total price.\"}, \"discount\": {\"type\": \"float\", \"description\": \"The discount percentage to apply.\"}}, \"required\": [\"total\", \"discount\"]}\\nget_movie_director: Fetches the director of a movie from the OMDB API. | Parameters: {\"type\": \"dict\", \"properties\": {\"movie_name\": {\"type\": \"string\", \"description\": \"The name of the movie.\"}}, \"required\": [\"movie_name\"]}\\ncalculate_interest_rate: Calculates the interest rate for a given principal, rate, and time. | Parameters: {\"type\": \"dict\", \"properties\": {\"principal\": {\"type\": \"float\", \"description\": \"The initial amount of money.\"}, \"rate\": {\"type\": \"float\", \"description\": \"The interest rate per period.\"}, \"time\": {\"type\": \"float\", \"description\": \"The time the money is invested or borrowed for.\"}}, \"required\": [\"principal\", \"rate\", \"time\"]}\\nconvert_temperature: Converts temperature from Celsius to Fahrenheit or vice versa. | Parameters: {\"type\": \"dict\", \"properties\": {\"temperature\": {\"type\": \"float\", \"description\": \"The temperature to convert.\"}, \"unit_from\": {\"type\": \"string\", \"description\": \"The current unit of the temperature (Celsius or Fahrenheit).\"}, \"unit_to\": {\"type\": \"string\", \"description\": \"The unit to convert the temperature to (Celsius or Fahrenheit).\"}}, \"required\": [\"temperature\", \"unit_from\", \"unit_to\"]}\\ngenerate_random_number: Generates a random number within a specified range. | Parameters: {\"type\": \"dict\", \"properties\": {\"min\": {\"type\": \"integer\", \"description\": \"The minimum value of the range.\"}, \"max\": {\"type\": \"integer\", \"description\": \"The maximum value of the range.\"}}, \"required\": [\"min\", \"max\"]}\\nget_movie_rating: Fetches the age rating of a movie from the OMDB API. | Parameters: {\"type\": \"dict\", \"properties\": {\"movie_name\": {\"type\": \"string\", \"description\": \"The name of the movie.\"}}, \"required\": [\"movie_name\"]}\\nget_movie_genre: Retrieves the genre of a movie from the OMDB API. | Parameters: {\"type\": \"dict\", \"properties\": {\"movie_name\": {\"type\": \"string\", \"description\": \"The name of the movie to retrieve the genre for.\"}}, \"required\": [\"movie_name\"]}\\nget_director_by_movie_name: Gets the director of a movie. | Parameters: {\"type\": \"dict\", \"properties\": {\"movie_name\": {\"type\": \"string\", \"description\": \"The movie to find the director of.\"}}, \"required\": [\"movie_name\"]}\\nconvert_coordinates: Converts a list of tuples into a list of lists. | Parameters: {\"type\": \"dict\", \"properties\": {\"coordinates\": {\"type\": \"array\", \"items\": {\"type\": \"tuple\", \"items\": {\"type\": \"float\"}, \"description\": \"A single coordinate represented by a tuple (x, y).\"}, \"description\": \"The coordinates to be converted, where each coordinate is a tuple (x, y).\"}}, \"required\": [\"coordinates\"]}\\npolygon_area: Calculate the area of a polygon given its vertices using the shoelace formula. | Parameters: {\"type\": \"dict\", \"properties\": {\"vertices\": {\"type\": \"array\", \"items\": {\"type\": \"array\", \"items\": {\"type\": \"float\"}, \"minItems\": 2, \"maxItems\": 2, \"description\": \"A single vertex represented by a 2 element list [x, y].\"}, \"description\": \"The vertices of the polygon, where each vertex is a 2 element list [x, y].\"}}, \"required\": [\"vertices\"]}\\nvalidate_polygon: Checks if the given vertices form a valid polygon. | Parameters: {\"type\": \"dict\", \"properties\": {\"vertices\": {\"type\": \"array\", \"items\": {\"type\": \"array\", \"items\": {\"type\": \"float\"}, \"description\": \"A single vertex represented by a 2 element list [x, y].\"}, \"description\": \"The vertices of the polygon, where each vertex is a 2 element list [x, y].\"}}, \"required\": [\"vertices\"]}  "
      ]
     },
     "execution_count": 5,
     "metadata": {},
     "output_type": "execute_result"
    }
   ],
   "source": [
    "import pandas as pd\n",
    "import requests\n",
    "\n",
    "# Load dataset\n",
    "url = \"https://huggingface.co/datasets/gorilla-llm/Berkeley-Function-Calling-Leaderboard/resolve/main/BFCL_v3_exec_multiple.json\"\n",
    "response = requests.get(url)\n",
    "dataset = [json.loads(line) for line in response.text.strip().splitlines()]\n",
    "\n",
    "# Collect all unique tool definitions (these are all the tools the agent\n",
    "# can choose from, as well as their parameters)\n",
    "unique_tools = {}\n",
    "for entry in dataset:\n",
    "    for tool in entry.get(\"function\", []):\n",
    "        if tool[\"name\"] not in unique_tools:\n",
    "            unique_tools[tool[\"name\"]] = tool\n",
    "\n",
    "tool_definitions_text = \"\\n\".join(\n",
    "    f\"{tool['name']}: {tool['description']} | Parameters: {json.dumps(tool['parameters'])}\"\n",
    "    for tool in unique_tools.values()\n",
    ")\n",
    "\n",
    "\n",
    "# Prepare data for evaluation\n",
    "eval_data = []\n",
    "for entry in dataset:\n",
    "    question = entry[\"question\"][0][0][\"content\"]\n",
    "    ground_truths = entry.get(\"ground_truth\", [])\n",
    "    for gt in ground_truths:\n",
    "        eval_data.append({\n",
    "            \"question\": question,\n",
    "            \"tool_call\": gt,\n",
    "            \"tool_definitions\": tool_definitions_text\n",
    "        })\n",
    "\n",
    "df_eval = pd.DataFrame(eval_data)\n",
    "df_eval.head()\n"
   ]
  },
  {
   "cell_type": "markdown",
   "metadata": {
    "id": "eO7_Lz5iSxnt"
   },
   "source": [
    "## Modify Benchmark Dataset\n",
    "\n",
    "The BFCL Dataset does not have any `negative` examples, i.e. only `question`, `available_tools`, and `ground_truth` are present. In order to accurately benchmark our LLM-as-a-Judge, this code snippet appends some `incorrect` examples to our dataset, by adding 20 rows of data where the `incorrect` tool is selected with correspondingly incorrect parameters."
   ]
  },
  {
   "cell_type": "code",
   "execution_count": 6,
   "metadata": {
    "id": "TnUiOiwYS31x"
   },
   "outputs": [],
   "source": [
    "import json\n",
    "import random\n",
    "import re\n",
    "\n",
    "\n",
    "# Parse tool definitions into a dict: tool_name -> list of required parameters\n",
    "def extract_tool_param_templates(tool_definitions):\n",
    "    tools = {}\n",
    "    pattern = r\"^(\\w+):.*?\\| Parameters: (.*)$\"\n",
    "    for line in tool_definitions.strip().split(\"\\n\"):\n",
    "        match = re.match(pattern, line.strip())\n",
    "        if match:\n",
    "            name, param_json = match.groups()\n",
    "            try:\n",
    "                param_schema = json.loads(param_json)\n",
    "                required = param_schema.get(\"required\", [])\n",
    "                tools[name] = required\n",
    "            except json.JSONDecodeError:\n",
    "                continue\n",
    "    return tools\n",
    "\n",
    "tool_param_templates = extract_tool_param_templates(tool_definitions_text)\n",
    "tool_names = list(tool_param_templates.keys())\n",
    "\n",
    "# Sample 20 wrong examples\n",
    "wrong_examples = []\n",
    "for i in range(20):\n",
    "    row = df_eval.iloc[i]\n",
    "    question = row[\"question\"]\n",
    "    correct_tool_call_str = row[\"tool_call\"]\n",
    "\n",
    "    # Get correct tool name (assume it's before the first '(')\n",
    "    try:\n",
    "        correct_tool_name = correct_tool_call_str.split(\"(\")[0]\n",
    "    except Exception as e:\n",
    "        print(f\"Skipping row {i} due to error: {e}\")\n",
    "        continue\n",
    "\n",
    "    # Get a different tool\n",
    "    incorrect_tools = [tool for tool in tool_names if tool != correct_tool_name]\n",
    "    if not incorrect_tools:\n",
    "        continue\n",
    "\n",
    "    wrong_tool = random.choice(incorrect_tools)\n",
    "    required_params = tool_param_templates.get(wrong_tool, [])\n",
    "\n",
    "    # Build dummy argument string\n",
    "    dummy_args = []\n",
    "    for param in required_params:\n",
    "        dummy_value = random.choice([42, 3.14, '\"example\"', '[1, 2, 3]', 'True'])  # random but plausible\n",
    "        dummy_args.append(f\"{param}={dummy_value}\")\n",
    "\n",
    "    wrong_tool_call = f\"{wrong_tool}({', '.join(dummy_args)})\"\n",
    "\n",
    "    wrong_examples.append({\n",
    "        \"question\": question,\n",
    "        \"tool_call\": wrong_tool_call,\n",
    "        \"tool_definitions\": tool_definitions_text\n",
    "    })\n",
    "\n",
    "# Create and label the correct examples\n",
    "df_eval[\"true_label\"] = \"correct\"\n",
    "\n",
    "# Create and label the incorrect examples\n",
    "df_wrong = pd.DataFrame(wrong_examples)\n",
    "df_wrong[\"true_label\"] = \"incorrect\"\n",
    "\n",
    "# Combine both datasets\n",
    "df_combined = pd.concat([df_eval, df_wrong], ignore_index=True)\n",
    "\n",
    "# OPTIONAL: Shuffle AFTER labeling\n",
    "df_eval_final = df_combined.sample(frac=1).reset_index(drop=True)\n"
   ]
  },
  {
   "cell_type": "markdown",
   "metadata": {
    "id": "1BsKhwkqEGbc"
   },
   "source": [
    "## Display Agent Tool Parameter Extraction Prompt Template\n",
    "\n",
    "View the default template used to evaluate agent tool parameter extraction.\n",
    "You can tweak this template and evaluate its performance relative to the default."
   ]
  },
  {
   "cell_type": "code",
   "execution_count": 7,
   "metadata": {
    "colab": {
     "base_uri": "https://localhost:8080/"
    },
    "id": "mbuxlKUqlvk0",
    "outputId": "bc7abde2-3819-4e03-bb35-1c8473ba26be"
   },
   "outputs": [
    {
     "name": "stdout",
     "output_type": "stream",
     "text": [
      "\n",
      "You are an evaluation assistant assessing whether the parameters provided in a tool call correctly\n",
      "match the user's question. Your task is to decide if the parameters selected are correct and \n",
      "sufficient to answer the question, using only the list of available tools and their parameter\n",
      "definitions provided below. You are not responsible for checking if the correct tool was selected\n",
      "— assume the tool is correct. You are evaluating **only** whether the parameters are accurate and\n",
      "justified based on the content of the question.\n",
      "\n",
      "Think like a grading rubric. Be strict. If the parameters are not clearly correct based on the\n",
      "question alone, label them \"incorrect\". Do not make assumptions or infer values that are not\n",
      "explicitly stated or directly supported by the question. Only use the information provided.\n",
      "\n",
      "Your response must be a **single word**: either `\"correct\"` or `\"incorrect\"`. \n",
      "Do not include any explanation, punctuation, or other characters. The output will be parsed\n",
      "programmatically.\n",
      "\n",
      "---\n",
      "Label the parameter extraction as `\"correct\"` if **all** of the following are true:\n",
      "- All required parameters are present and correctly filled based on the question\n",
      "- The parameter values are explicitly justified by the question\n",
      "- No extra, irrelevant, or hallucinated parameters are included\n",
      "\n",
      "Label the parameter extraction as `\"incorrect\"` if **any** of the following are true:\n",
      "- Any required parameter is missing, malformed, or incorrectly populated\n",
      "- Any parameter value is inferred or not clearly supported by the question\n",
      "- Any extra or irrelevant parameter is included\n",
      "---\n",
      "\n",
      "[BEGIN DATA]\n",
      "************\n",
      "[Question]: {question}\n",
      "************\n",
      "[Tool Called With Parameters]: {tool_call}\n",
      "************\n",
      "[END DATA]\n",
      "\n",
      "[Tool Definitions]: {tool_definitions}\n",
      "\n",
      "\n"
     ]
    }
   ],
   "source": [
    "print(templates.TOOL_PARAMETER_EXTRACTION_PROMPT_TEMPLATE)\n"
   ]
  },
  {
   "cell_type": "markdown",
   "metadata": {
    "id": "oR2oNMS6EGbc"
   },
   "source": [
    "Eval template variables:\n",
    "\n",
    "- **question** : The question the user poses\n",
    "- **tool_call** : The tool that is actually called (ground truth)\n",
    "- **tool_definitions** : All the available tools to the agent"
   ]
  },
  {
   "cell_type": "markdown",
   "metadata": {
    "id": "tV3bLwrAEGbd"
   },
   "source": [
    "## Configure the LLM\n",
    "\n",
    "Configure your API keys."
   ]
  },
  {
   "cell_type": "code",
   "execution_count": 8,
   "metadata": {
    "colab": {
     "base_uri": "https://localhost:8080/"
    },
    "id": "dlm4HdAGEGbd",
    "outputId": "3f13598b-f68f-42cc-c53d-d9e8073b8534"
   },
   "outputs": [
    {
     "name": "stdout",
     "output_type": "stream",
     "text": [
      "🔑 Enter your OpenAI API key: ··········\n",
      "🔑 Enter your Anthropic API key: ··········\n"
     ]
    }
   ],
   "source": [
    "if not (openai_api_key := os.getenv(\"OPENAI_API_KEY\")):\n",
    "    openai_api_key = getpass(\"🔑 Enter your OpenAI API key: \")\n",
    "\n",
    "openai.api_key = openai_api_key\n",
    "os.environ[\"OPENAI_API_KEY\"] = openai_api_key\n",
    "\n",
    "\n",
    "# Set Anthropic API key\n",
    "if not (anthropic_api_key := os.getenv(\"ANTHROPIC_API_KEY\")):\n",
    "    anthropic_api_key = getpass(\"🔑 Enter your Anthropic API key: \")\n",
    "\n",
    "os.environ[\"ANTHROPIC_API_KEY\"] = anthropic_api_key\n"
   ]
  },
  {
   "cell_type": "markdown",
   "metadata": {
    "id": "9NJpkArqgrmE"
   },
   "source": [
    "## Evaluate the Dataset Using Phoenix"
   ]
  },
  {
   "cell_type": "code",
   "execution_count": 9,
   "metadata": {
    "colab": {
     "base_uri": "https://localhost:8080/",
     "height": 847,
     "referenced_widgets": [
      "190204a6fa684b04a3111cce203ab433",
      "9340ce80be6945e799668fd55ecf069c",
      "0bc220a1cbc844cdb2062f467ca6911a",
      "b5566d57043b48728839b1ce84fe38d8",
      "4618a74e31d84e4f89a91bd2149fe18a",
      "de01151afe21413e8c51b9fbfeb43b10",
      "7517c996509e4d598b5137c5146ebcfc",
      "dd13781a994949a1adaf8a107b43f383",
      "5b03048ea7824fa99e1d5514a278e982",
      "f77860ad8da94e8dac0371379fb3fb33",
      "7930307ad3c7495aa15c8ca369b66599",
      "a6c8434219b54b6f86023e67bfff3180",
      "482bec72a39043b2b3814eb9349f7e13",
      "24c2ea28a1564bc8a8b070d76b2ce210",
      "4b3a652e84fa44129d3b2d985db82708",
      "1616f555667f43a19cc6a0df4580b451",
      "e124db4c6e0b412c9a66b2d7d01c667b",
      "a709e1d3d47447f8a9e9c7799cf203bb",
      "42e00d4488834b9087a0826344082203",
      "fb882c92c475408a954d65ae60a5c579",
      "b8a2b2a494b04a82ad16408f0eeeed36",
      "411be36c9274477990eabb5da6153cc3",
      "c7776f7b11d747dba27e45620ea41c3b",
      "1ddacf9119dc431cb30ef5cba797e891",
      "f473be03794043f2b8a9347fb9247c31",
      "e09b7013e49c470997390dbcbab28502",
      "7c677582a0d14b298dc91f34bd9fece2",
      "bfd6477135d74fbe96d9eb30c0ec3904",
      "c808a7aecbcd4a509f4a5a1654487a21",
      "7c0f811a68a345878e5de572fd75de69",
      "622640cbbe0b45818e786bffdb72014f",
      "4676355f035a419da778bad037a6fbe3",
      "12d77b6769534a4e8aa0b8c48a99a61c",
      "e6a75966cf424b41b886b8e75afc89c4",
      "51856f4b2abb42e28b8512ed3cbc04e5",
      "15fa120a5afd4dc8b808840a89852e2d",
      "d3daf62665024b0cb9d884a35a296837",
      "c5edbc99cb6e49539fb8d7d9924d4e7a",
      "effb5ac887a3499dafb876838b86d6df",
      "b4129e949db94bf397996951e2ac79b6",
      "711e731d43a04d42bb84e02aac16c71e",
      "2311f70433e74c9d91b0cfad01e0c16e",
      "93674f77b7cf47739d1cf31d9c04179a",
      "ffcc11db32da4f0a96ea351aaf55fcef",
      "b6868c39c76541bf838be0b82b54fbd4",
      "9c060948dbc54815abaf16c7d20c4031",
      "933bec8bb2fd48a6934d6c596f6385ba",
      "642c2a52213f4321a4331e3942cc6e72",
      "b07d0d07134a450aa304f3ef239c64fd",
      "f36cdebb6ed842c89902b1bde313c440",
      "7eb61e3d5f7442099f12ada973daac56",
      "766ef5005ce74254a49f1be8d433283e",
      "08d3d7d62afa4f68a1a4fccdb7661e53",
      "d7db67e5781d41b4bff04bb596f8491e",
      "5396e59cab674909b958a91e0c23980c",
      "2d4a07eb5a754790b6e0253fd02bbca1",
      "aa6186d26349457ab8cd49f618f92e20",
      "60c8d5ab7f00483e934fec40112cda49",
      "213267d5265c4e168bb8747780abd35f",
      "cb8ab6be9b4343a19ba0e525089713df",
      "778cb3afdc814a58b338ce741ef59b05",
      "fd00387d6be14ecea50541c03c4c5709",
      "cfc422161be34780b6889c52ffb7bfd5",
      "d21536d884824c0eadb60e76252b6ad8",
      "3d1600a6937d4bb7bfbd15451cbfab22",
      "c0218bbe332444d499f55eed9d988c5d",
      "4996d7266fde4157acc9ff1401f4761c",
      "bff58900101145d3855868a6bdc57090",
      "c438eb3b3d174d88b61903c3a4b36cb8",
      "fa7be9de059f44adb92c228f931eeba2",
      "8507c52d3901493ba12674b07d726dbf",
      "3d73c5ac883a4095b0ed26ea84d9319d",
      "ba75fc83d5714246a2829d5cae150a19",
      "08f8330860d64fe88aa5321515024d53",
      "a2b1c3494d0344b5a69e2faa3991c3bc",
      "7d8e8435773b4911b9731d1c8c33ea3c",
      "606b36ab9b784ce4ad22c2d0fddadc98",
      "9a163f2656ee4fb8a1d86d9b46ae79ff",
      "30dae31eba0f4730b3ccf16433f8aa86",
      "ce9836d6041246daa1400dbd9f4d2967",
      "e1891b6f10514bcca3e73b3239635778",
      "0671b695303445148fd7a614fa465430",
      "eb3bdea788554c0381726b660146ff9d",
      "c60ddabb4f3f4aa993f391eb80e92936",
      "2ab3bc24d02640969ddb70374e400025",
      "379578de48614db6a6e87763b2aeae73",
      "ac6c4cb900744efc886ccd62109fcf8b",
      "7f9e108f0d6e4d97b61c63f0e5ed77de",
      "b8bf9a388a0943e7952f46e1083b2b37",
      "3eb82fea4066408599abb2ce2e293149",
      "3c44422cf504415484cfe5fc2b1462de",
      "5190ada18928465ca72c5462f57538a3",
      "e730e4599f5e4045b91eed265bf81760",
      "4a625733b2f243ac9c33dc4a5f258c38",
      "e6e4c6403bef48ab9cef2c11c26ddc23",
      "6712670f3cfe46a1bf4db21c29f09e4e",
      "577bba4263fd45c6a18d8e6e5301039c",
      "d80c595eea19496fa293f676263d9038",
      "9b9c9a69d6514b5b9d136dd6fc9456a2",
      "512f49c003804eacb20e4248e220c322",
      "fa622655d72d4dd59b85468b0e772055",
      "f7836fd503bc487daf91df5bd30b39a8",
      "0f40e003e34749aab79b22a16c4f505f",
      "ae873eaf5fe1499cadd181cc0317ac85",
      "e5892867ad1e41e9823e9414a6b5291a",
      "7c53c64ad53d46ad80f15a732c442e47",
      "233e0850a96e48a0bdbd9d0f6ce5c641",
      "a9dc0aeb31f244fba97477458f5d2bcf",
      "1b2ccb7175dd4380819d7f0ab3a26d09",
      "efb1e6093aeb4cd3b9ed2c4a0bfb0d3e",
      "7ecf338f287440fcb4ac44bc20f3e937",
      "d0b365e3771f46de9031ad5225240a6f",
      "50da8328f9254e3bbf3fe53ef0f7d86a",
      "1fb14a86620b4f2eb62db97604ee5a1a",
      "19e70fb91b9d4fb7a28e22f9b614a57c",
      "c04fbe25c01e4535ad0f31e782544927",
      "4542f1e2133d4dfa9e43adc5ab5a58d2",
      "04be0dd1a86e4c598a571c44e90ed3fe",
      "b75ea2e7d2ce4e6396b3d23f3b3fc3c8",
      "34f66dd8b7e14f57a806ca010cac9676",
      "b423b52486d4441ba5c841e4ecff5fae",
      "d4c92c73bc804c7492994559300cb95a",
      "b63148e6a0494e339b58692b7c5c8d5e",
      "1eeb81e56df8422182450f8ee46b3bc7",
      "ddb0ec611da94b5e842b92cf6ca57642",
      "bf294a46d9934a68b1f4bc1fe79deb00",
      "04abdcb8eacd4740b6ac417ff536f952",
      "92ce2ceac4c64c838bc3539a40f7d7d0",
      "f633f643712a49b0bedb243feebb8307",
      "4bf0a490d71041b1889da9c19c5c8057",
      "9c1341adab3042f0a7a9179f609a24b0",
      "f252dd6e040f4388808b2f1d2eb52419"
     ]
    },
    "id": "q5zDDCXqPwN0",
    "outputId": "63cad360-7ba1-4083-abfc-d4a15b7098a5"
   },
   "outputs": [
    {
     "name": "stderr",
     "output_type": "stream",
     "text": [
      "\r  0%|          | 0/12 [00:00<?, ?it/s]"
     ]
    },
    {
     "name": "stdout",
     "output_type": "stream",
     "text": [
      "\n",
      "🧪 Evaluating OpenAI model: gpt-4o\n"
     ]
    },
    {
     "data": {
      "application/vnd.jupyter.widget-view+json": {
       "model_id": "190204a6fa684b04a3111cce203ab433",
       "version_major": 2,
       "version_minor": 0
      },
      "text/plain": [
       "llm_classify |          | 0/50 (0.0%) | ⏳ 00:00<? | ?it/s"
      ]
     },
     "metadata": {},
     "output_type": "display_data"
    },
    {
     "name": "stderr",
     "output_type": "stream",
     "text": [
      "\r  8%|▊         | 1/12 [00:07<01:18,  7.16s/it]"
     ]
    },
    {
     "name": "stdout",
     "output_type": "stream",
     "text": [
      "\n",
      "🧪 Evaluating OpenAI model: gpt-4o-mini\n"
     ]
    },
    {
     "data": {
      "application/vnd.jupyter.widget-view+json": {
       "model_id": "a6c8434219b54b6f86023e67bfff3180",
       "version_major": 2,
       "version_minor": 0
      },
      "text/plain": [
       "llm_classify |          | 0/50 (0.0%) | ⏳ 00:00<? | ?it/s"
      ]
     },
     "metadata": {},
     "output_type": "display_data"
    },
    {
     "name": "stderr",
     "output_type": "stream",
     "text": [
      "\r 17%|█▋        | 2/12 [00:13<01:08,  6.86s/it]"
     ]
    },
    {
     "name": "stdout",
     "output_type": "stream",
     "text": [
      "\n",
      "🧪 Evaluating OpenAI model: gpt-4\n"
     ]
    },
    {
     "data": {
      "application/vnd.jupyter.widget-view+json": {
       "model_id": "c7776f7b11d747dba27e45620ea41c3b",
       "version_major": 2,
       "version_minor": 0
      },
      "text/plain": [
       "llm_classify |          | 0/50 (0.0%) | ⏳ 00:00<? | ?it/s"
      ]
     },
     "metadata": {},
     "output_type": "display_data"
    },
    {
     "name": "stderr",
     "output_type": "stream",
     "text": [
      "\r 25%|██▌       | 3/12 [00:24<01:15,  8.44s/it]"
     ]
    },
    {
     "name": "stdout",
     "output_type": "stream",
     "text": [
      "\n",
      "🧪 Evaluating OpenAI model: gpt-4-turbo\n"
     ]
    },
    {
     "data": {
      "application/vnd.jupyter.widget-view+json": {
       "model_id": "e6a75966cf424b41b886b8e75afc89c4",
       "version_major": 2,
       "version_minor": 0
      },
      "text/plain": [
       "llm_classify |          | 0/50 (0.0%) | ⏳ 00:00<? | ?it/s"
      ]
     },
     "metadata": {},
     "output_type": "display_data"
    },
    {
     "name": "stderr",
     "output_type": "stream",
     "text": [
      "\r 33%|███▎      | 4/12 [00:32<01:07,  8.47s/it]"
     ]
    },
    {
     "name": "stdout",
     "output_type": "stream",
     "text": [
      "\n",
      "🧪 Evaluating OpenAI model: gpt-4-turbo-2024-04-09\n"
     ]
    },
    {
     "data": {
      "application/vnd.jupyter.widget-view+json": {
       "model_id": "b6868c39c76541bf838be0b82b54fbd4",
       "version_major": 2,
       "version_minor": 0
      },
      "text/plain": [
       "llm_classify |          | 0/50 (0.0%) | ⏳ 00:00<? | ?it/s"
      ]
     },
     "metadata": {},
     "output_type": "display_data"
    },
    {
     "name": "stderr",
     "output_type": "stream",
     "text": [
      "\r 42%|████▏     | 5/12 [00:41<01:00,  8.69s/it]"
     ]
    },
    {
     "name": "stdout",
     "output_type": "stream",
     "text": [
      "\n",
      "🧪 Evaluating OpenAI model: gpt-3.5-turbo\n"
     ]
    },
    {
     "data": {
      "application/vnd.jupyter.widget-view+json": {
       "model_id": "2d4a07eb5a754790b6e0253fd02bbca1",
       "version_major": 2,
       "version_minor": 0
      },
      "text/plain": [
       "llm_classify |          | 0/50 (0.0%) | ⏳ 00:00<? | ?it/s"
      ]
     },
     "metadata": {},
     "output_type": "display_data"
    },
    {
     "name": "stderr",
     "output_type": "stream",
     "text": [
      "\r 50%|█████     | 6/12 [00:48<00:47,  7.95s/it]"
     ]
    },
    {
     "name": "stdout",
     "output_type": "stream",
     "text": [
      "\n",
      "🧪 Evaluating OpenAI model: gpt-3.5-turbo-0125\n"
     ]
    },
    {
     "data": {
      "application/vnd.jupyter.widget-view+json": {
       "model_id": "4996d7266fde4157acc9ff1401f4761c",
       "version_major": 2,
       "version_minor": 0
      },
      "text/plain": [
       "llm_classify |          | 0/50 (0.0%) | ⏳ 00:00<? | ?it/s"
      ]
     },
     "metadata": {},
     "output_type": "display_data"
    },
    {
     "name": "stderr",
     "output_type": "stream",
     "text": [
      "\r 58%|█████▊    | 7/12 [00:55<00:37,  7.57s/it]"
     ]
    },
    {
     "name": "stdout",
     "output_type": "stream",
     "text": [
      "\n",
      "🧪 Evaluating OpenAI model: o1\n"
     ]
    },
    {
     "data": {
      "application/vnd.jupyter.widget-view+json": {
       "model_id": "9a163f2656ee4fb8a1d86d9b46ae79ff",
       "version_major": 2,
       "version_minor": 0
      },
      "text/plain": [
       "llm_classify |          | 0/50 (0.0%) | ⏳ 00:00<? | ?it/s"
      ]
     },
     "metadata": {},
     "output_type": "display_data"
    },
    {
     "name": "stderr",
     "output_type": "stream",
     "text": [
      "\r 67%|██████▋   | 8/12 [01:25<00:59, 14.87s/it]"
     ]
    },
    {
     "name": "stdout",
     "output_type": "stream",
     "text": [
      "\n",
      "🧪 Evaluating OpenAI model: o1-mini\n"
     ]
    },
    {
     "data": {
      "application/vnd.jupyter.widget-view+json": {
       "model_id": "b8bf9a388a0943e7952f46e1083b2b37",
       "version_major": 2,
       "version_minor": 0
      },
      "text/plain": [
       "llm_classify |          | 0/50 (0.0%) | ⏳ 00:00<? | ?it/s"
      ]
     },
     "metadata": {},
     "output_type": "display_data"
    },
    {
     "name": "stderr",
     "output_type": "stream",
     "text": [
      "\r 75%|███████▌  | 9/12 [01:43<00:47, 15.69s/it]"
     ]
    },
    {
     "name": "stdout",
     "output_type": "stream",
     "text": [
      "\n",
      "🧪 Evaluating OpenAI model: o3\n"
     ]
    },
    {
     "data": {
      "application/vnd.jupyter.widget-view+json": {
       "model_id": "512f49c003804eacb20e4248e220c322",
       "version_major": 2,
       "version_minor": 0
      },
      "text/plain": [
       "llm_classify |          | 0/50 (0.0%) | ⏳ 00:00<? | ?it/s"
      ]
     },
     "metadata": {},
     "output_type": "display_data"
    },
    {
     "name": "stderr",
     "output_type": "stream",
     "text": [
      "\r 83%|████████▎ | 10/12 [01:56<00:30, 15.10s/it]"
     ]
    },
    {
     "name": "stdout",
     "output_type": "stream",
     "text": [
      "\n",
      "🧪 Evaluating OpenAI model: o3-mini\n"
     ]
    },
    {
     "data": {
      "application/vnd.jupyter.widget-view+json": {
       "model_id": "7ecf338f287440fcb4ac44bc20f3e937",
       "version_major": 2,
       "version_minor": 0
      },
      "text/plain": [
       "llm_classify |          | 0/50 (0.0%) | ⏳ 00:00<? | ?it/s"
      ]
     },
     "metadata": {},
     "output_type": "display_data"
    },
    {
     "name": "stderr",
     "output_type": "stream",
     "text": [
      "\r 92%|█████████▏| 11/12 [02:09<00:14, 14.51s/it]"
     ]
    },
    {
     "name": "stdout",
     "output_type": "stream",
     "text": [
      "\n",
      "🧪 Evaluating OpenAI model: o4-mini\n"
     ]
    },
    {
     "data": {
      "application/vnd.jupyter.widget-view+json": {
       "model_id": "d4c92c73bc804c7492994559300cb95a",
       "version_major": 2,
       "version_minor": 0
      },
      "text/plain": [
       "llm_classify |          | 0/50 (0.0%) | ⏳ 00:00<? | ?it/s"
      ]
     },
     "metadata": {},
     "output_type": "display_data"
    },
    {
     "name": "stderr",
     "output_type": "stream",
     "text": [
      "100%|██████████| 12/12 [02:25<00:00, 12.10s/it]\n"
     ]
    }
   ],
   "source": [
    "from tqdm import tqdm\n",
    "\n",
    "# List of OpenAI model codes to benchmark\n",
    "open_ai_models = [\n",
    "    \"gpt-4o\",                     # GPT-4 Omni (May 2024)\n",
    "    \"gpt-4o-mini\",                # Smaller version of GPT-4o\n",
    "    \"gpt-4\",                      # GPT-4 (March 2023)\n",
    "    \"gpt-4-turbo\",                # GPT-4 Turbo (November 2023)\n",
    "    \"gpt-4-turbo-2024-04-09\",     # GPT-4 Turbo snapshot (April 2024)\n",
    "    \"gpt-3.5-turbo\",              # GPT-3.5 Turbo (March 2023)\n",
    "    \"gpt-3.5-turbo-0125\",         # GPT-3.5 Turbo snapshot (January 2025)\n",
    "    \"o1\",                         # OpenAI's first reasoning model\n",
    "    \"o1-mini\",                    # Smaller version of o1\n",
    "    \"o3\",                         # Successor to o1 with improved reasoning\n",
    "    \"o3-mini\",                    # Smaller version of o3\n",
    "    \"o4-mini\"                     # Latest mini reasoning model (April 2025)\n",
    "]\n",
    "\n",
    "# List of Claude (Anthropic) models to benchmark\n",
    "anthropic_models = [\n",
    "    \"claude-3-opus-20240229\",       # Claude 3 Opus\n",
    "    \"claude-3-sonnet-20240229\",     # Claude 3 Sonnet\n",
    "    \"claude-3-haiku-20240307\",      # Claude 3 Haiku\n",
    "    \"claude-opus-4-20250514\",       # Claude Opus 4\n",
    "    \"claude-sonnet-4-20250514\"      # Claude Sonnet 4\n",
    "]\n",
    "\n",
    "\n",
    "#\n",
    "\n",
    "all_results = []\n",
    "\n",
    "# ---------- Evaluate OpenAI Models ----------\n",
    "for model_name in tqdm(open_ai_models):\n",
    "    print(f\"\\n🧪 Evaluating OpenAI model: {model_name}\")\n",
    "\n",
    "    model = OpenAIModel(model=model_name, temperature=1)\n",
    "\n",
    "    results = llm_classify(\n",
    "        data=df_eval,\n",
    "        template=templates.TOOL_PARAMETER_EXTRACTION_PROMPT_TEMPLATE,\n",
    "        model=model,\n",
    "        rails=[\"correct\", \"incorrect\"],\n",
    "        provide_explanation=False\n",
    "    )\n",
    "\n",
    "    df_result = df_eval.copy()\n",
    "    df_result[\"label\"] = results[\"label\"]\n",
    "    df_result[\"model\"] = model_name\n",
    "    all_results.append(df_result)\n"
   ]
  },
  {
   "cell_type": "markdown",
   "metadata": {
    "id": "sNF3fP4QcFs7"
   },
   "source": [
    "## Evaluate Anthropic Models"
   ]
  },
  {
   "cell_type": "code",
   "execution_count": 10,
   "metadata": {
    "colab": {
     "base_uri": "https://localhost:8080/",
     "height": 1000,
     "referenced_widgets": [
      "297f45ad9e624e8692bcb854ab176a73",
      "043468e50f14495e8a8d57432a833e63",
      "f9fe3e79a05c4a018f0ffcd3255b1647",
      "9c35206b494c474f951d02dd9b16607d",
      "d8f466e8097e4070b4944e78ae369c45",
      "37bdf2088d0742f19369e0d471b962d7",
      "340bc653835b48baa4d86851d697ad84",
      "f94e08bb3adb4c54b3e04713795467aa",
      "4671d2ae6edd4795b908c0fa46914774",
      "627b5824ab3944d8a4d63dd7dba91000",
      "a347d8feb7ef4bc1acde6208a441cb43",
      "a6006ddd4b6f4fa7a51194f7dca6068f",
      "3f092c7a41c448be99dc6adf83167102",
      "be84de76d36a44ca96e8945f34656957",
      "2a4c522e81e24ddd8cfdd274bf3aa971",
      "2fcb544976484e1bb9d98b79eee07314",
      "bf90eff40b5d4c608f3e584d375893bf",
      "605ebcdc2b31470ebfa5f490887b9b1a",
      "58ab9e780b1b44d0bd2e525d41992a06",
      "fb554c7c9e734c87b0daf988e23ad8c1",
      "95a157a3f084434999683b2b62447088",
      "39486b7691554ff4b9caea3965a9bc96",
      "2254425ecb1c4957878bd374bd888931",
      "e2098dac39e74ed88b40a60bafa31dad",
      "158a6c9bb0624d32925b8f4170bd6da7",
      "1772899a4d3d40bfbdc7a1622120166f",
      "bfdee894e7e7416eb0078f25ea7d2bad",
      "43541e6f77ee488893a556e337a3cb9f",
      "937133f8bd9c433183ba507a66ef0028",
      "95c3a526924347998530a1ac32293a32",
      "325fc81603684ce387d36ec2287ddb0a",
      "9204043311f2425a908d471d66f3acff",
      "d96808f3779443c2b315e602e04a02dd",
      "a42bdbb2e85744dfa155e058d15d1511",
      "4964b79ea3c34b2ba96b35a6d8ae1818",
      "9fb3d9d5aaef4c05b357892853c81f43",
      "1a30fde4dc9e435aa9fee7e029585eea",
      "76501301855b45cd9671e604ddacdf80",
      "08caa698da9043119f38bf8748f7db81",
      "9396cc88ad0c47dd8663457ced805760",
      "156440b580b04bcaa81f33888f49578c",
      "34b2dfd3cea341a59df1211aa145a3fa",
      "77056d8f7c724d7788936fe2a06323cb",
      "76bf7fcf2ed94bde9035f622bbaa5e26",
      "015b9e00d87e477494bdbb75f77523c6",
      "0635be35c18345a382acbf5ae011bcc5",
      "060450717315474b85fd16fa1ec9637b",
      "7d373aafb2524ccfb22ad2279d4d131e",
      "2b772b1b68424974b487697c9cefa3b2",
      "c8d415d3189a42ef9f54a8063176d367",
      "f00a65ae1d484247ae5e1746fd85d82a",
      "b6319feae1c94df09d21c735cab2e34f",
      "0b55227fc0f84c85974491f4aca829a5",
      "b72277075f634fe484ce0ab1173dcc19",
      "5669a990c18a47d0bd699ada4c9c84f8"
     ]
    },
    "id": "LJX1KXX2cE_v",
    "outputId": "ed0024e3-3954-44ba-e139-613d9e9b7d6b"
   },
   "outputs": [
    {
     "name": "stderr",
     "output_type": "stream",
     "text": [
      "\r  0%|          | 0/5 [00:00<?, ?it/s]"
     ]
    },
    {
     "name": "stdout",
     "output_type": "stream",
     "text": [
      "\n",
      "🧪 Evaluating Anthropic model: claude-3-opus-20240229\n"
     ]
    },
    {
     "data": {
      "application/vnd.jupyter.widget-view+json": {
       "model_id": "297f45ad9e624e8692bcb854ab176a73",
       "version_major": 2,
       "version_minor": 0
      },
      "text/plain": [
       "llm_classify |          | 0/50 (0.0%) | ⏳ 00:00<? | ?it/s"
      ]
     },
     "metadata": {},
     "output_type": "display_data"
    },
    {
     "name": "stderr",
     "output_type": "stream",
     "text": [
      "  0%|          | 0/5 [00:03<?, ?it/s]"
     ]
    },
    {
     "name": "stdout",
     "output_type": "stream",
     "text": [
      "Exception in worker on attempt 1: raised InternalServerError(\"Error code: 529 - {'type': 'error', 'error': {'type': 'overloaded_error', 'message': 'Overloaded'}}\")\n",
      "Requeuing...\n",
      "Exception in worker on attempt 1: raised InternalServerError(\"Error code: 529 - {'type': 'error', 'error': {'type': 'overloaded_error', 'message': 'Overloaded'}}\")\n",
      "Requeuing...\n"
     ]
    },
    {
     "name": "stderr",
     "output_type": "stream",
     "text": [
      "  0%|          | 0/5 [00:04<?, ?it/s]"
     ]
    },
    {
     "name": "stdout",
     "output_type": "stream",
     "text": [
      "Exception in worker on attempt 1: raised InternalServerError(\"Error code: 529 - {'type': 'error', 'error': {'type': 'overloaded_error', 'message': 'Overloaded'}}\")\n",
      "Requeuing...\n",
      "Exception in worker on attempt 1: raised InternalServerError(\"Error code: 529 - {'type': 'error', 'error': {'type': 'overloaded_error', 'message': 'Overloaded'}}\")\n",
      "Requeuing...\n"
     ]
    },
    {
     "name": "stderr",
     "output_type": "stream",
     "text": [
      "  0%|          | 0/5 [00:04<?, ?it/s]"
     ]
    },
    {
     "name": "stdout",
     "output_type": "stream",
     "text": [
      "Exception in worker on attempt 1: raised InternalServerError(\"Error code: 529 - {'type': 'error', 'error': {'type': 'overloaded_error', 'message': 'Overloaded'}}\")\n",
      "Requeuing...\n",
      "Exception in worker on attempt 1: raised InternalServerError(\"Error code: 529 - {'type': 'error', 'error': {'type': 'overloaded_error', 'message': 'Overloaded'}}\")\n",
      "Requeuing...\n"
     ]
    },
    {
     "name": "stderr",
     "output_type": "stream",
     "text": [
      "  0%|          | 0/5 [00:04<?, ?it/s]"
     ]
    },
    {
     "name": "stdout",
     "output_type": "stream",
     "text": [
      "Exception in worker on attempt 1: raised InternalServerError(\"Error code: 529 - {'type': 'error', 'error': {'type': 'overloaded_error', 'message': 'Overloaded'}}\")\n",
      "Requeuing...\n"
     ]
    },
    {
     "name": "stderr",
     "output_type": "stream",
     "text": [
      "  0%|          | 0/5 [00:05<?, ?it/s]"
     ]
    },
    {
     "name": "stdout",
     "output_type": "stream",
     "text": [
      "Exception in worker on attempt 1: raised InternalServerError(\"Error code: 529 - {'type': 'error', 'error': {'type': 'overloaded_error', 'message': 'Overloaded'}}\")\n",
      "Requeuing...\n"
     ]
    },
    {
     "name": "stderr",
     "output_type": "stream",
     "text": [
      "  0%|          | 0/5 [00:05<?, ?it/s]"
     ]
    },
    {
     "name": "stdout",
     "output_type": "stream",
     "text": [
      "Exception in worker on attempt 1: raised InternalServerError(\"Error code: 529 - {'type': 'error', 'error': {'type': 'overloaded_error', 'message': 'Overloaded'}}\")\n",
      "Requeuing...\n",
      "Exception in worker on attempt 1: raised InternalServerError(\"Error code: 529 - {'type': 'error', 'error': {'type': 'overloaded_error', 'message': 'Overloaded'}}\")\n",
      "Requeuing...\n"
     ]
    },
    {
     "name": "stderr",
     "output_type": "stream",
     "text": [
      "  0%|          | 0/5 [00:05<?, ?it/s]"
     ]
    },
    {
     "name": "stdout",
     "output_type": "stream",
     "text": [
      "Exception in worker on attempt 1: raised InternalServerError(\"Error code: 529 - {'type': 'error', 'error': {'type': 'overloaded_error', 'message': 'Overloaded'}}\")\n",
      "Requeuing...\n",
      "Exception in worker on attempt 1: raised InternalServerError(\"Error code: 529 - {'type': 'error', 'error': {'type': 'overloaded_error', 'message': 'Overloaded'}}\")\n",
      "Requeuing...\n"
     ]
    },
    {
     "name": "stderr",
     "output_type": "stream",
     "text": [
      "  0%|          | 0/5 [00:06<?, ?it/s]"
     ]
    },
    {
     "name": "stdout",
     "output_type": "stream",
     "text": [
      "Exception in worker on attempt 2: raised InternalServerError(\"Error code: 529 - {'type': 'error', 'error': {'type': 'overloaded_error', 'message': 'Overloaded'}}\")\n",
      "Requeuing...\n"
     ]
    },
    {
     "name": "stderr",
     "output_type": "stream",
     "text": [
      "  0%|          | 0/5 [00:06<?, ?it/s]"
     ]
    },
    {
     "name": "stdout",
     "output_type": "stream",
     "text": [
      "Exception in worker on attempt 1: raised InternalServerError(\"Error code: 529 - {'type': 'error', 'error': {'type': 'overloaded_error', 'message': 'Overloaded'}}\")\n",
      "Requeuing...\n",
      "Exception in worker on attempt 2: raised InternalServerError(\"Error code: 529 - {'type': 'error', 'error': {'type': 'overloaded_error', 'message': 'Overloaded'}}\")\n",
      "Requeuing...\n",
      "Exception in worker on attempt 2: raised InternalServerError(\"Error code: 529 - {'type': 'error', 'error': {'type': 'overloaded_error', 'message': 'Overloaded'}}\")\n",
      "Requeuing...\n"
     ]
    },
    {
     "name": "stderr",
     "output_type": "stream",
     "text": []
    },
    {
     "name": "stdout",
     "output_type": "stream",
     "text": [
      "Exception in worker on attempt 2: raised InternalServerError(\"Error code: 529 - {'type': 'error', 'error': {'type': 'overloaded_error', 'message': 'Overloaded'}}\")\n",
      "Requeuing...\n",
      "Exception in worker on attempt 1: raised InternalServerError(\"Error code: 529 - {'type': 'error', 'error': {'type': 'overloaded_error', 'message': 'Overloaded'}}\")\n",
      "Requeuing...\n"
     ]
    },
    {
     "name": "stderr",
     "output_type": "stream",
     "text": [
      "  0%|          | 0/5 [00:07<?, ?it/s]"
     ]
    },
    {
     "name": "stdout",
     "output_type": "stream",
     "text": [
      "Exception in worker on attempt 2: raised InternalServerError(\"Error code: 529 - {'type': 'error', 'error': {'type': 'overloaded_error', 'message': 'Overloaded'}}\")\n",
      "Requeuing...\n",
      "Exception in worker on attempt 1: raised InternalServerError(\"Error code: 529 - {'type': 'error', 'error': {'type': 'overloaded_error', 'message': 'Overloaded'}}\")\n",
      "Requeuing...\n"
     ]
    },
    {
     "name": "stderr",
     "output_type": "stream",
     "text": [
      "  0%|          | 0/5 [00:07<?, ?it/s]"
     ]
    },
    {
     "name": "stdout",
     "output_type": "stream",
     "text": [
      "Exception in worker on attempt 3: raised InternalServerError(\"Error code: 529 - {'type': 'error', 'error': {'type': 'overloaded_error', 'message': 'Overloaded'}}\")\n",
      "Requeuing...\n",
      "Exception in worker on attempt 1: raised InternalServerError(\"Error code: 529 - {'type': 'error', 'error': {'type': 'overloaded_error', 'message': 'Overloaded'}}\")\n",
      "Requeuing...\n"
     ]
    },
    {
     "name": "stderr",
     "output_type": "stream",
     "text": [
      "  0%|          | 0/5 [00:08<?, ?it/s]"
     ]
    },
    {
     "name": "stdout",
     "output_type": "stream",
     "text": [
      "Exception in worker on attempt 1: raised InternalServerError(\"Error code: 529 - {'type': 'error', 'error': {'type': 'overloaded_error', 'message': 'Overloaded'}}\")\n",
      "Requeuing...\n",
      "Exception in worker on attempt 2: raised InternalServerError(\"Error code: 529 - {'type': 'error', 'error': {'type': 'overloaded_error', 'message': 'Overloaded'}}\")\n",
      "Requeuing...\n"
     ]
    },
    {
     "name": "stderr",
     "output_type": "stream",
     "text": [
      "  0%|          | 0/5 [00:08<?, ?it/s]"
     ]
    },
    {
     "name": "stdout",
     "output_type": "stream",
     "text": [
      "Exception in worker on attempt 3: raised InternalServerError(\"Error code: 529 - {'type': 'error', 'error': {'type': 'overloaded_error', 'message': 'Overloaded'}}\")\n",
      "Requeuing...\n"
     ]
    },
    {
     "name": "stderr",
     "output_type": "stream",
     "text": [
      "  0%|          | 0/5 [00:08<?, ?it/s]"
     ]
    },
    {
     "name": "stdout",
     "output_type": "stream",
     "text": [
      "Exception in worker on attempt 3: raised InternalServerError(\"Error code: 529 - {'type': 'error', 'error': {'type': 'overloaded_error', 'message': 'Overloaded'}}\")\n",
      "Requeuing...\n",
      "Exception in worker on attempt 3: raised InternalServerError(\"Error code: 529 - {'type': 'error', 'error': {'type': 'overloaded_error', 'message': 'Overloaded'}}\")\n",
      "Requeuing...\n"
     ]
    },
    {
     "name": "stderr",
     "output_type": "stream",
     "text": [
      "  0%|          | 0/5 [00:09<?, ?it/s]"
     ]
    },
    {
     "name": "stdout",
     "output_type": "stream",
     "text": [
      "Exception in worker on attempt 2: raised InternalServerError(\"Error code: 529 - {'type': 'error', 'error': {'type': 'overloaded_error', 'message': 'Overloaded'}}\")\n",
      "Requeuing...\n",
      "Exception in worker on attempt 2: raised InternalServerError(\"Error code: 529 - {'type': 'error', 'error': {'type': 'overloaded_error', 'message': 'Overloaded'}}\")\n",
      "Requeuing...\n",
      "Exception in worker on attempt 2: raised InternalServerError(\"Error code: 529 - {'type': 'error', 'error': {'type': 'overloaded_error', 'message': 'Overloaded'}}\")\n",
      "Requeuing...\n"
     ]
    },
    {
     "name": "stderr",
     "output_type": "stream",
     "text": [
      "  0%|          | 0/5 [00:09<?, ?it/s]"
     ]
    },
    {
     "name": "stdout",
     "output_type": "stream",
     "text": [
      "Exception in worker on attempt 2: raised InternalServerError(\"Error code: 529 - {'type': 'error', 'error': {'type': 'overloaded_error', 'message': 'Overloaded'}}\")\n",
      "Requeuing...\n"
     ]
    },
    {
     "name": "stderr",
     "output_type": "stream",
     "text": [
      "  0%|          | 0/5 [00:09<?, ?it/s]"
     ]
    },
    {
     "name": "stdout",
     "output_type": "stream",
     "text": [
      "Exception in worker on attempt 1: raised InternalServerError(\"Error code: 529 - {'type': 'error', 'error': {'type': 'overloaded_error', 'message': 'Overloaded'}}\")\n",
      "Requeuing...\n",
      "Exception in worker on attempt 2: raised InternalServerError(\"Error code: 529 - {'type': 'error', 'error': {'type': 'overloaded_error', 'message': 'Overloaded'}}\")\n",
      "Requeuing...\n",
      "Exception in worker on attempt 2: raised InternalServerError(\"Error code: 529 - {'type': 'error', 'error': {'type': 'overloaded_error', 'message': 'Overloaded'}}\")\n",
      "Requeuing...\n"
     ]
    },
    {
     "name": "stderr",
     "output_type": "stream",
     "text": [
      "  0%|          | 0/5 [00:10<?, ?it/s]"
     ]
    },
    {
     "name": "stdout",
     "output_type": "stream",
     "text": [
      "Exception in worker on attempt 3: raised InternalServerError(\"Error code: 529 - {'type': 'error', 'error': {'type': 'overloaded_error', 'message': 'Overloaded'}}\")\n",
      "Requeuing...\n",
      "Exception in worker on attempt 2: raised InternalServerError(\"Error code: 529 - {'type': 'error', 'error': {'type': 'overloaded_error', 'message': 'Overloaded'}}\")\n",
      "Requeuing...\n",
      "Exception in worker on attempt 1: raised InternalServerError(\"Error code: 529 - {'type': 'error', 'error': {'type': 'overloaded_error', 'message': 'Overloaded'}}\")\n",
      "Requeuing...\n"
     ]
    },
    {
     "name": "stderr",
     "output_type": "stream",
     "text": [
      "  0%|          | 0/5 [00:10<?, ?it/s]"
     ]
    },
    {
     "name": "stdout",
     "output_type": "stream",
     "text": [
      "Exception in worker on attempt 4: raised InternalServerError(\"Error code: 529 - {'type': 'error', 'error': {'type': 'overloaded_error', 'message': 'Overloaded'}}\")\n",
      "Requeuing...\n"
     ]
    },
    {
     "name": "stderr",
     "output_type": "stream",
     "text": [
      "  0%|          | 0/5 [00:10<?, ?it/s]"
     ]
    },
    {
     "name": "stdout",
     "output_type": "stream",
     "text": [
      "Exception in worker on attempt 2: raised InternalServerError(\"Error code: 529 - {'type': 'error', 'error': {'type': 'overloaded_error', 'message': 'Overloaded'}}\")\n",
      "Requeuing...\n",
      "Exception in worker on attempt 2: raised InternalServerError(\"Error code: 529 - {'type': 'error', 'error': {'type': 'overloaded_error', 'message': 'Overloaded'}}\")\n",
      "Requeuing...\n"
     ]
    },
    {
     "name": "stderr",
     "output_type": "stream",
     "text": []
    },
    {
     "name": "stdout",
     "output_type": "stream",
     "text": [
      "Exception in worker on attempt 1: raised InternalServerError(\"Error code: 529 - {'type': 'error', 'error': {'type': 'overloaded_error', 'message': 'Overloaded'}}\")\n",
      "Requeuing...\n"
     ]
    },
    {
     "name": "stderr",
     "output_type": "stream",
     "text": [
      "  0%|          | 0/5 [00:11<?, ?it/s]"
     ]
    },
    {
     "name": "stdout",
     "output_type": "stream",
     "text": [
      "Exception in worker on attempt 3: raised InternalServerError(\"Error code: 529 - {'type': 'error', 'error': {'type': 'overloaded_error', 'message': 'Overloaded'}}\")\n",
      "Requeuing...\n",
      "Exception in worker on attempt 2: raised InternalServerError(\"Error code: 529 - {'type': 'error', 'error': {'type': 'overloaded_error', 'message': 'Overloaded'}}\")\n",
      "Requeuing...\n"
     ]
    },
    {
     "name": "stderr",
     "output_type": "stream",
     "text": [
      "  0%|          | 0/5 [00:11<?, ?it/s]"
     ]
    },
    {
     "name": "stdout",
     "output_type": "stream",
     "text": [
      "Exception in worker on attempt 3: raised InternalServerError(\"Error code: 529 - {'type': 'error', 'error': {'type': 'overloaded_error', 'message': 'Overloaded'}}\")\n",
      "Requeuing...\n"
     ]
    },
    {
     "name": "stderr",
     "output_type": "stream",
     "text": [
      "  0%|          | 0/5 [00:12<?, ?it/s]"
     ]
    },
    {
     "name": "stdout",
     "output_type": "stream",
     "text": [
      "Exception in worker on attempt 2: raised InternalServerError(\"Error code: 529 - {'type': 'error', 'error': {'type': 'overloaded_error', 'message': 'Overloaded'}}\")\n",
      "Requeuing...\n",
      "Exception in worker on attempt 3: raised InternalServerError(\"Error code: 529 - {'type': 'error', 'error': {'type': 'overloaded_error', 'message': 'Overloaded'}}\")\n",
      "Requeuing...\n",
      "Exception in worker on attempt 4: raised InternalServerError(\"Error code: 529 - {'type': 'error', 'error': {'type': 'overloaded_error', 'message': 'Overloaded'}}\")\n",
      "Requeuing...\n"
     ]
    },
    {
     "name": "stderr",
     "output_type": "stream",
     "text": [
      "  0%|          | 0/5 [00:12<?, ?it/s]"
     ]
    },
    {
     "name": "stdout",
     "output_type": "stream",
     "text": [
      "Exception in worker on attempt 3: raised InternalServerError(\"Error code: 529 - {'type': 'error', 'error': {'type': 'overloaded_error', 'message': 'Overloaded'}}\")\n",
      "Requeuing...\n",
      "Exception in worker on attempt 5: raised InternalServerError(\"Error code: 529 - {'type': 'error', 'error': {'type': 'overloaded_error', 'message': 'Overloaded'}}\")\n",
      "Requeuing...\n"
     ]
    },
    {
     "name": "stderr",
     "output_type": "stream",
     "text": [
      "  0%|          | 0/5 [00:13<?, ?it/s]"
     ]
    },
    {
     "name": "stdout",
     "output_type": "stream",
     "text": [
      "Exception in worker on attempt 3: raised InternalServerError(\"Error code: 529 - {'type': 'error', 'error': {'type': 'overloaded_error', 'message': 'Overloaded'}}\")\n",
      "Requeuing...\n",
      "Exception in worker on attempt 2: raised InternalServerError(\"Error code: 529 - {'type': 'error', 'error': {'type': 'overloaded_error', 'message': 'Overloaded'}}\")\n",
      "Requeuing...\n",
      "Exception in worker on attempt 2: raised InternalServerError(\"Error code: 529 - {'type': 'error', 'error': {'type': 'overloaded_error', 'message': 'Overloaded'}}\")\n",
      "Requeuing...\n"
     ]
    },
    {
     "name": "stderr",
     "output_type": "stream",
     "text": [
      "  0%|          | 0/5 [00:13<?, ?it/s]"
     ]
    },
    {
     "name": "stdout",
     "output_type": "stream",
     "text": [
      "Exception in worker on attempt 4: raised InternalServerError(\"Error code: 529 - {'type': 'error', 'error': {'type': 'overloaded_error', 'message': 'Overloaded'}}\")\n",
      "Requeuing...\n",
      "Exception in worker on attempt 4: raised InternalServerError(\"Error code: 529 - {'type': 'error', 'error': {'type': 'overloaded_error', 'message': 'Overloaded'}}\")\n",
      "Requeuing...\n"
     ]
    },
    {
     "name": "stderr",
     "output_type": "stream",
     "text": [
      "  0%|          | 0/5 [00:13<?, ?it/s]"
     ]
    },
    {
     "name": "stdout",
     "output_type": "stream",
     "text": [
      "Exception in worker on attempt 3: raised InternalServerError(\"Error code: 529 - {'type': 'error', 'error': {'type': 'overloaded_error', 'message': 'Overloaded'}}\")\n",
      "Requeuing...\n",
      "Exception in worker on attempt 4: raised InternalServerError(\"Error code: 529 - {'type': 'error', 'error': {'type': 'overloaded_error', 'message': 'Overloaded'}}\")\n",
      "Requeuing...\n"
     ]
    },
    {
     "name": "stderr",
     "output_type": "stream",
     "text": [
      "  0%|          | 0/5 [00:14<?, ?it/s]"
     ]
    },
    {
     "name": "stdout",
     "output_type": "stream",
     "text": [
      "Exception in worker on attempt 4: raised InternalServerError(\"Error code: 529 - {'type': 'error', 'error': {'type': 'overloaded_error', 'message': 'Overloaded'}}\")\n",
      "Requeuing...\n"
     ]
    },
    {
     "name": "stderr",
     "output_type": "stream",
     "text": [
      "  0%|          | 0/5 [00:14<?, ?it/s]"
     ]
    },
    {
     "name": "stdout",
     "output_type": "stream",
     "text": [
      "Exception in worker on attempt 3: raised InternalServerError(\"Error code: 529 - {'type': 'error', 'error': {'type': 'overloaded_error', 'message': 'Overloaded'}}\")\n",
      "Requeuing...\n"
     ]
    },
    {
     "name": "stderr",
     "output_type": "stream",
     "text": [
      "  0%|          | 0/5 [00:15<?, ?it/s]"
     ]
    },
    {
     "name": "stdout",
     "output_type": "stream",
     "text": [
      "Exception in worker on attempt 2: raised InternalServerError(\"Error code: 529 - {'type': 'error', 'error': {'type': 'overloaded_error', 'message': 'Overloaded'}}\")\n",
      "Requeuing...\n",
      "Exception in worker on attempt 3: raised InternalServerError(\"Error code: 529 - {'type': 'error', 'error': {'type': 'overloaded_error', 'message': 'Overloaded'}}\")\n",
      "Requeuing...\n",
      "Exception in worker on attempt 3: raised InternalServerError(\"Error code: 529 - {'type': 'error', 'error': {'type': 'overloaded_error', 'message': 'Overloaded'}}\")\n",
      "Requeuing...\n"
     ]
    },
    {
     "name": "stderr",
     "output_type": "stream",
     "text": [
      "  0%|          | 0/5 [00:15<?, ?it/s]"
     ]
    },
    {
     "name": "stdout",
     "output_type": "stream",
     "text": [
      "Exception in worker on attempt 5: raised InternalServerError(\"Error code: 529 - {'type': 'error', 'error': {'type': 'overloaded_error', 'message': 'Overloaded'}}\")\n",
      "Requeuing...\n",
      "Exception in worker on attempt 3: raised InternalServerError(\"Error code: 529 - {'type': 'error', 'error': {'type': 'overloaded_error', 'message': 'Overloaded'}}\")\n",
      "Requeuing...\n"
     ]
    },
    {
     "name": "stderr",
     "output_type": "stream",
     "text": [
      "                                     "
     ]
    },
    {
     "name": "stdout",
     "output_type": "stream",
     "text": [
      "Exception in worker on attempt 4: raised InternalServerError(\"Error code: 529 - {'type': 'error', 'error': {'type': 'overloaded_error', 'message': 'Overloaded'}}\")\n",
      "Requeuing...\n",
      "Exception in worker on attempt 3: raised InternalServerError(\"Error code: 529 - {'type': 'error', 'error': {'type': 'overloaded_error', 'message': 'Overloaded'}}\")\n",
      "Requeuing...\n",
      "Exception in worker on attempt 4: raised InternalServerError(\"Error code: 529 - {'type': 'error', 'error': {'type': 'overloaded_error', 'message': 'Overloaded'}}\")\n",
      "Requeuing...\n"
     ]
    },
    {
     "name": "stderr",
     "output_type": "stream",
     "text": [
      "  0%|          | 0/5 [00:16<?, ?it/s]"
     ]
    },
    {
     "name": "stdout",
     "output_type": "stream",
     "text": [
      "Exception in worker on attempt 3: raised InternalServerError(\"Error code: 529 - {'type': 'error', 'error': {'type': 'overloaded_error', 'message': 'Overloaded'}}\")\n",
      "Requeuing...\n",
      "Exception in worker on attempt 4: raised InternalServerError(\"Error code: 529 - {'type': 'error', 'error': {'type': 'overloaded_error', 'message': 'Overloaded'}}\")\n",
      "Requeuing...\n"
     ]
    },
    {
     "name": "stderr",
     "output_type": "stream",
     "text": [
      "  0%|          | 0/5 [00:16<?, ?it/s]"
     ]
    },
    {
     "name": "stdout",
     "output_type": "stream",
     "text": [
      "Exception in worker on attempt 3: raised InternalServerError(\"Error code: 529 - {'type': 'error', 'error': {'type': 'overloaded_error', 'message': 'Overloaded'}}\")\n",
      "Requeuing...\n",
      "Exception in worker on attempt 4: raised InternalServerError(\"Error code: 529 - {'type': 'error', 'error': {'type': 'overloaded_error', 'message': 'Overloaded'}}\")\n"
     ]
    },
    {
     "name": "stderr",
     "output_type": "stream",
     "text": [
      "  0%|          | 0/5 [00:16<?, ?it/s]"
     ]
    },
    {
     "name": "stdout",
     "output_type": "stream",
     "text": [
      "Requeuing...\n",
      "Exception in worker on attempt 3: raised InternalServerError(\"Error code: 529 - {'type': 'error', 'error': {'type': 'overloaded_error', 'message': 'Overloaded'}}\")\n",
      "Requeuing...\n",
      "Exception in worker on attempt 5: raised InternalServerError(\"Error code: 529 - {'type': 'error', 'error': {'type': 'overloaded_error', 'message': 'Overloaded'}}\")\n",
      "Requeuing...\n"
     ]
    },
    {
     "name": "stderr",
     "output_type": "stream",
     "text": [
      "  0%|          | 0/5 [00:17<?, ?it/s]"
     ]
    },
    {
     "name": "stdout",
     "output_type": "stream",
     "text": [
      "Exception in worker on attempt 6: raised InternalServerError(\"Error code: 529 - {'type': 'error', 'error': {'type': 'overloaded_error', 'message': 'Overloaded'}}\")\n",
      "Requeuing...\n",
      "Exception in worker on attempt 4: raised InternalServerError(\"Error code: 529 - {'type': 'error', 'error': {'type': 'overloaded_error', 'message': 'Overloaded'}}\")\n",
      "Requeuing...\n",
      "Exception in worker on attempt 5: raised InternalServerError(\"Error code: 529 - {'type': 'error', 'error': {'type': 'overloaded_error', 'message': 'Overloaded'}}\")\n",
      "Requeuing...\n"
     ]
    },
    {
     "name": "stderr",
     "output_type": "stream",
     "text": [
      "  0%|          | 0/5 [00:17<?, ?it/s]"
     ]
    },
    {
     "name": "stdout",
     "output_type": "stream",
     "text": [
      "Exception in worker on attempt 5: raised InternalServerError(\"Error code: 529 - {'type': 'error', 'error': {'type': 'overloaded_error', 'message': 'Overloaded'}}\")\n",
      "Requeuing...\n",
      "Exception in worker on attempt 4: raised InternalServerError(\"Error code: 529 - {'type': 'error', 'error': {'type': 'overloaded_error', 'message': 'Overloaded'}}\")\n",
      "Requeuing...\n"
     ]
    },
    {
     "name": "stderr",
     "output_type": "stream",
     "text": [
      "  0%|          | 0/5 [00:18<?, ?it/s]"
     ]
    },
    {
     "name": "stdout",
     "output_type": "stream",
     "text": [
      "Exception in worker on attempt 5: raised InternalServerError(\"Error code: 529 - {'type': 'error', 'error': {'type': 'overloaded_error', 'message': 'Overloaded'}}\")\n",
      "Requeuing...\n",
      "Exception in worker on attempt 4: raised InternalServerError(\"Error code: 529 - {'type': 'error', 'error': {'type': 'overloaded_error', 'message': 'Overloaded'}}\")\n",
      "Requeuing...\n",
      "Exception in worker on attempt 4: raised InternalServerError(\"Error code: 529 - {'type': 'error', 'error': {'type': 'overloaded_error', 'message': 'Overloaded'}}\")\n",
      "Requeuing...\n"
     ]
    },
    {
     "name": "stderr",
     "output_type": "stream",
     "text": [
      "  0%|          | 0/5 [00:18<?, ?it/s]"
     ]
    },
    {
     "name": "stdout",
     "output_type": "stream",
     "text": [
      "Exception in worker on attempt 5: raised InternalServerError(\"Error code: 529 - {'type': 'error', 'error': {'type': 'overloaded_error', 'message': 'Overloaded'}}\")\n",
      "Requeuing...\n"
     ]
    },
    {
     "name": "stderr",
     "output_type": "stream",
     "text": [
      "  0%|          | 0/5 [00:18<?, ?it/s]"
     ]
    },
    {
     "name": "stdout",
     "output_type": "stream",
     "text": [
      "Exception in worker on attempt 5: raised InternalServerError(\"Error code: 529 - {'type': 'error', 'error': {'type': 'overloaded_error', 'message': 'Overloaded'}}\")\n",
      "Requeuing...\n",
      "Exception in worker on attempt 3: raised InternalServerError(\"Error code: 529 - {'type': 'error', 'error': {'type': 'overloaded_error', 'message': 'Overloaded'}}\")\n",
      "Requeuing...\n"
     ]
    },
    {
     "name": "stderr",
     "output_type": "stream",
     "text": [
      "  0%|          | 0/5 [00:18<?, ?it/s]"
     ]
    },
    {
     "name": "stdout",
     "output_type": "stream",
     "text": [
      "Exception in worker on attempt 4: raised InternalServerError(\"Error code: 529 - {'type': 'error', 'error': {'type': 'overloaded_error', 'message': 'Overloaded'}}\")\n",
      "Requeuing...\n",
      "Exception in worker on attempt 4: raised InternalServerError(\"Error code: 529 - {'type': 'error', 'error': {'type': 'overloaded_error', 'message': 'Overloaded'}}\")\n",
      "Requeuing...\n"
     ]
    },
    {
     "name": "stderr",
     "output_type": "stream",
     "text": [
      "  0%|          | 0/5 [00:19<?, ?it/s]"
     ]
    },
    {
     "name": "stdout",
     "output_type": "stream",
     "text": [
      "Exception in worker on attempt 4: raised InternalServerError(\"Error code: 529 - {'type': 'error', 'error': {'type': 'overloaded_error', 'message': 'Overloaded'}}\")\n",
      "Requeuing...\n",
      "Exception in worker on attempt 6: raised InternalServerError(\"Error code: 529 - {'type': 'error', 'error': {'type': 'overloaded_error', 'message': 'Overloaded'}}\")\n",
      "Requeuing...\n"
     ]
    },
    {
     "name": "stderr",
     "output_type": "stream",
     "text": [
      "  0%|          | 0/5 [00:19<?, ?it/s]"
     ]
    },
    {
     "name": "stdout",
     "output_type": "stream",
     "text": [
      "Exception in worker on attempt 6: raised InternalServerError(\"Error code: 529 - {'type': 'error', 'error': {'type': 'overloaded_error', 'message': 'Overloaded'}}\")\n",
      "Requeuing...\n",
      "Exception in worker on attempt 5: raised InternalServerError(\"Error code: 529 - {'type': 'error', 'error': {'type': 'overloaded_error', 'message': 'Overloaded'}}\")\n",
      "Requeuing...\n",
      "Exception in worker on attempt 5: raised InternalServerError(\"Error code: 529 - {'type': 'error', 'error': {'type': 'overloaded_error', 'message': 'Overloaded'}}\")\n",
      "Requeuing...\n"
     ]
    },
    {
     "name": "stderr",
     "output_type": "stream",
     "text": [
      "  0%|          | 0/5 [00:20<?, ?it/s]"
     ]
    },
    {
     "name": "stdout",
     "output_type": "stream",
     "text": [
      "Exception in worker on attempt 6: raised InternalServerError(\"Error code: 529 - {'type': 'error', 'error': {'type': 'overloaded_error', 'message': 'Overloaded'}}\")\n",
      "Requeuing...\n",
      "Exception in worker on attempt 6: raised InternalServerError(\"Error code: 529 - {'type': 'error', 'error': {'type': 'overloaded_error', 'message': 'Overloaded'}}\")\n",
      "Requeuing...\n",
      "Exception in worker on attempt 4: raised InternalServerError(\"Error code: 529 - {'type': 'error', 'error': {'type': 'overloaded_error', 'message': 'Overloaded'}}\")\n",
      "Requeuing...\n",
      "Exception in worker on attempt 4: raised InternalServerError(\"Error code: 529 - {'type': 'error', 'error': {'type': 'overloaded_error', 'message': 'Overloaded'}}\")\n",
      "Requeuing...\n"
     ]
    },
    {
     "name": "stderr",
     "output_type": "stream",
     "text": [
      "  0%|          | 0/5 [00:20<?, ?it/s]"
     ]
    },
    {
     "name": "stdout",
     "output_type": "stream",
     "text": [
      "Exception in worker on attempt 4: raised InternalServerError(\"Error code: 529 - {'type': 'error', 'error': {'type': 'overloaded_error', 'message': 'Overloaded'}}\")\n",
      "Requeuing...\n",
      "Exception in worker on attempt 5: raised InternalServerError(\"Error code: 529 - {'type': 'error', 'error': {'type': 'overloaded_error', 'message': 'Overloaded'}}\")\n",
      "Requeuing...\n"
     ]
    },
    {
     "name": "stderr",
     "output_type": "stream",
     "text": [
      "  0%|          | 0/5 [00:21<?, ?it/s]"
     ]
    },
    {
     "name": "stdout",
     "output_type": "stream",
     "text": [
      "Exception in worker on attempt 7: raised InternalServerError(\"Error code: 529 - {'type': 'error', 'error': {'type': 'overloaded_error', 'message': 'Overloaded'}}\")\n",
      "Requeuing...\n",
      "Exception in worker on attempt 5: raised InternalServerError(\"Error code: 529 - {'type': 'error', 'error': {'type': 'overloaded_error', 'message': 'Overloaded'}}\")\n",
      "Requeuing...\n",
      "Exception in worker on attempt 6: raised InternalServerError(\"Error code: 529 - {'type': 'error', 'error': {'type': 'overloaded_error', 'message': 'Overloaded'}}\")\n",
      "Requeuing...\n",
      "Exception in worker on attempt 6: raised InternalServerError(\"Error code: 529 - {'type': 'error', 'error': {'type': 'overloaded_error', 'message': 'Overloaded'}}\")\n",
      "Requeuing...\n"
     ]
    },
    {
     "name": "stderr",
     "output_type": "stream",
     "text": [
      "  0%|          | 0/5 [00:21<?, ?it/s]"
     ]
    },
    {
     "name": "stdout",
     "output_type": "stream",
     "text": [
      "Exception in worker on attempt 7: raised InternalServerError(\"Error code: 529 - {'type': 'error', 'error': {'type': 'overloaded_error', 'message': 'Overloaded'}}\")\n",
      "Requeuing...\n"
     ]
    },
    {
     "name": "stderr",
     "output_type": "stream",
     "text": []
    },
    {
     "name": "stdout",
     "output_type": "stream",
     "text": [
      "Exception in worker on attempt 5: raised InternalServerError(\"Error code: 529 - {'type': 'error', 'error': {'type': 'overloaded_error', 'message': 'Overloaded'}}\")\n",
      "Requeuing...\n"
     ]
    },
    {
     "name": "stderr",
     "output_type": "stream",
     "text": [
      "  0%|          | 0/5 [00:22<?, ?it/s]"
     ]
    },
    {
     "name": "stdout",
     "output_type": "stream",
     "text": [
      "Exception in worker on attempt 7: raised InternalServerError(\"Error code: 529 - {'type': 'error', 'error': {'type': 'overloaded_error', 'message': 'Overloaded'}}\")\n",
      "Requeuing...\n",
      "Exception in worker on attempt 5: raised InternalServerError(\"Error code: 529 - {'type': 'error', 'error': {'type': 'overloaded_error', 'message': 'Overloaded'}}\")\n",
      "Requeuing...\n",
      "Exception in worker on attempt 7: raised InternalServerError(\"Error code: 529 - {'type': 'error', 'error': {'type': 'overloaded_error', 'message': 'Overloaded'}}\")\n",
      "Requeuing...\n"
     ]
    },
    {
     "name": "stderr",
     "output_type": "stream",
     "text": [
      "  0%|          | 0/5 [00:22<?, ?it/s]"
     ]
    },
    {
     "name": "stdout",
     "output_type": "stream",
     "text": [
      "Exception in worker on attempt 5: raised InternalServerError(\"Error code: 529 - {'type': 'error', 'error': {'type': 'overloaded_error', 'message': 'Overloaded'}}\")\n",
      "Requeuing...\n",
      "Exception in worker on attempt 5: raised InternalServerError(\"Error code: 529 - {'type': 'error', 'error': {'type': 'overloaded_error', 'message': 'Overloaded'}}\")\n",
      "Requeuing...\n"
     ]
    },
    {
     "name": "stderr",
     "output_type": "stream",
     "text": [
      "  0%|          | 0/5 [00:22<?, ?it/s]"
     ]
    },
    {
     "name": "stdout",
     "output_type": "stream",
     "text": [
      "Exception in worker on attempt 6: raised InternalServerError(\"Error code: 529 - {'type': 'error', 'error': {'type': 'overloaded_error', 'message': 'Overloaded'}}\")\n",
      "Requeuing...\n",
      "Exception in worker on attempt 5: raised InternalServerError(\"Error code: 529 - {'type': 'error', 'error': {'type': 'overloaded_error', 'message': 'Overloaded'}}\")\n",
      "Requeuing...\n"
     ]
    },
    {
     "name": "stderr",
     "output_type": "stream",
     "text": [
      "  0%|          | 0/5 [00:23<?, ?it/s]"
     ]
    },
    {
     "name": "stdout",
     "output_type": "stream",
     "text": [
      "Exception in worker on attempt 7: raised InternalServerError(\"Error code: 529 - {'type': 'error', 'error': {'type': 'overloaded_error', 'message': 'Overloaded'}}\")\n",
      "Requeuing...\n",
      "Exception in worker on attempt 6: raised InternalServerError(\"Error code: 529 - {'type': 'error', 'error': {'type': 'overloaded_error', 'message': 'Overloaded'}}\")\n",
      "Requeuing...\n",
      "Exception in worker on attempt 8: raised InternalServerError(\"Error code: 529 - {'type': 'error', 'error': {'type': 'overloaded_error', 'message': 'Overloaded'}}\")\n",
      "Requeuing...\n"
     ]
    },
    {
     "name": "stderr",
     "output_type": "stream",
     "text": [
      "  0%|          | 0/5 [00:23<?, ?it/s]"
     ]
    },
    {
     "name": "stdout",
     "output_type": "stream",
     "text": [
      "Exception in worker on attempt 5: raised InternalServerError(\"Error code: 529 - {'type': 'error', 'error': {'type': 'overloaded_error', 'message': 'Overloaded'}}\")\n",
      "Requeuing...\n",
      "Exception in worker on attempt 7: raised InternalServerError(\"Error code: 529 - {'type': 'error', 'error': {'type': 'overloaded_error', 'message': 'Overloaded'}}\")\n",
      "Requeuing...\n",
      "Exception in worker on attempt 6: raised InternalServerError(\"Error code: 529 - {'type': 'error', 'error': {'type': 'overloaded_error', 'message': 'Overloaded'}}\")\n",
      "Requeuing...\n",
      "Exception in worker on attempt 8: raised InternalServerError(\"Error code: 529 - {'type': 'error', 'error': {'type': 'overloaded_error', 'message': 'Overloaded'}}\")\n",
      "Requeuing...\n"
     ]
    },
    {
     "name": "stderr",
     "output_type": "stream",
     "text": [
      "  0%|          | 0/5 [00:24<?, ?it/s]"
     ]
    },
    {
     "name": "stdout",
     "output_type": "stream",
     "text": [
      "Exception in worker on attempt 8: raised InternalServerError(\"Error code: 529 - {'type': 'error', 'error': {'type': 'overloaded_error', 'message': 'Overloaded'}}\")\n",
      "Requeuing...\n",
      "Exception in worker on attempt 5: raised InternalServerError(\"Error code: 529 - {'type': 'error', 'error': {'type': 'overloaded_error', 'message': 'Overloaded'}}\")\n",
      "Requeuing...\n"
     ]
    },
    {
     "name": "stderr",
     "output_type": "stream",
     "text": [
      "  0%|          | 0/5 [00:24<?, ?it/s]"
     ]
    },
    {
     "name": "stdout",
     "output_type": "stream",
     "text": [
      "Exception in worker on attempt 6: raised InternalServerError(\"Error code: 529 - {'type': 'error', 'error': {'type': 'overloaded_error', 'message': 'Overloaded'}}\")\n",
      "Requeuing...\n",
      "Exception in worker on attempt 7: raised InternalServerError(\"Error code: 529 - {'type': 'error', 'error': {'type': 'overloaded_error', 'message': 'Overloaded'}}\")\n",
      "Requeuing...\n"
     ]
    },
    {
     "name": "stderr",
     "output_type": "stream",
     "text": [
      "  0%|          | 0/5 [00:24<?, ?it/s]"
     ]
    },
    {
     "name": "stdout",
     "output_type": "stream",
     "text": [
      "Exception in worker on attempt 6: raised InternalServerError(\"Error code: 529 - {'type': 'error', 'error': {'type': 'overloaded_error', 'message': 'Overloaded'}}\")\n",
      "Requeuing...\n"
     ]
    },
    {
     "name": "stderr",
     "output_type": "stream",
     "text": [
      "  0%|          | 0/5 [00:25<?, ?it/s]"
     ]
    },
    {
     "name": "stdout",
     "output_type": "stream",
     "text": [
      "Exception in worker on attempt 7: raised InternalServerError(\"Error code: 529 - {'type': 'error', 'error': {'type': 'overloaded_error', 'message': 'Overloaded'}}\")\n",
      "Requeuing...\n",
      "Exception in worker on attempt 5: raised InternalServerError(\"Error code: 529 - {'type': 'error', 'error': {'type': 'overloaded_error', 'message': 'Overloaded'}}\")\n",
      "Requeuing...\n"
     ]
    },
    {
     "name": "stderr",
     "output_type": "stream",
     "text": [
      "  0%|          | 0/5 [00:25<?, ?it/s]"
     ]
    },
    {
     "name": "stdout",
     "output_type": "stream",
     "text": [
      "Exception in worker on attempt 6: raised InternalServerError(\"Error code: 529 - {'type': 'error', 'error': {'type': 'overloaded_error', 'message': 'Overloaded'}}\")\n",
      "Requeuing...\n",
      "Exception in worker on attempt 8: raised InternalServerError(\"Error code: 529 - {'type': 'error', 'error': {'type': 'overloaded_error', 'message': 'Overloaded'}}\")\n",
      "Requeuing...\n"
     ]
    },
    {
     "name": "stderr",
     "output_type": "stream",
     "text": [
      "  0%|          | 0/5 [00:25<?, ?it/s]"
     ]
    },
    {
     "name": "stdout",
     "output_type": "stream",
     "text": [
      "Exception in worker on attempt 9: raised InternalServerError(\"Error code: 529 - {'type': 'error', 'error': {'type': 'overloaded_error', 'message': 'Overloaded'}}\")\n",
      "Requeuing...\n",
      "Exception in worker on attempt 9: raised InternalServerError(\"Error code: 529 - {'type': 'error', 'error': {'type': 'overloaded_error', 'message': 'Overloaded'}}\")\n",
      "Requeuing...\n"
     ]
    },
    {
     "name": "stderr",
     "output_type": "stream",
     "text": [
      "  0%|          | 0/5 [00:25<?, ?it/s]"
     ]
    },
    {
     "name": "stdout",
     "output_type": "stream",
     "text": [
      "Exception in worker on attempt 8: raised InternalServerError(\"Error code: 529 - {'type': 'error', 'error': {'type': 'overloaded_error', 'message': 'Overloaded'}}\")\n",
      "Requeuing...\n",
      "Exception in worker on attempt 6: raised InternalServerError(\"Error code: 529 - {'type': 'error', 'error': {'type': 'overloaded_error', 'message': 'Overloaded'}}\")\n",
      "Requeuing...\n"
     ]
    },
    {
     "name": "stderr",
     "output_type": "stream",
     "text": [
      "  0%|          | 0/5 [00:26<?, ?it/s]"
     ]
    },
    {
     "name": "stdout",
     "output_type": "stream",
     "text": [
      "Exception in worker on attempt 7: raised InternalServerError(\"Error code: 529 - {'type': 'error', 'error': {'type': 'overloaded_error', 'message': 'Overloaded'}}\")\n",
      "Requeuing...\n"
     ]
    },
    {
     "name": "stderr",
     "output_type": "stream",
     "text": [
      "  0%|          | 0/5 [00:26<?, ?it/s]"
     ]
    },
    {
     "name": "stdout",
     "output_type": "stream",
     "text": [
      "Exception in worker on attempt 8: raised InternalServerError(\"Error code: 529 - {'type': 'error', 'error': {'type': 'overloaded_error', 'message': 'Overloaded'}}\")\n",
      "Requeuing...\n"
     ]
    },
    {
     "name": "stderr",
     "output_type": "stream",
     "text": [
      "  0%|          | 0/5 [00:26<?, ?it/s]"
     ]
    },
    {
     "name": "stdout",
     "output_type": "stream",
     "text": [
      "Exception in worker on attempt 6: raised InternalServerError(\"Error code: 529 - {'type': 'error', 'error': {'type': 'overloaded_error', 'message': 'Overloaded'}}\")\n",
      "Requeuing...\n",
      "Exception in worker on attempt 6: raised InternalServerError(\"Error code: 529 - {'type': 'error', 'error': {'type': 'overloaded_error', 'message': 'Overloaded'}}\")\n",
      "Requeuing...\n"
     ]
    },
    {
     "name": "stderr",
     "output_type": "stream",
     "text": [
      "  0%|          | 0/5 [00:27<?, ?it/s]"
     ]
    },
    {
     "name": "stdout",
     "output_type": "stream",
     "text": [
      "Exception in worker on attempt 7: raised InternalServerError(\"Error code: 529 - {'type': 'error', 'error': {'type': 'overloaded_error', 'message': 'Overloaded'}}\")\n",
      "Requeuing...\n",
      "Exception in worker on attempt 6: raised InternalServerError(\"Error code: 529 - {'type': 'error', 'error': {'type': 'overloaded_error', 'message': 'Overloaded'}}\")\n",
      "Requeuing...\n",
      "Exception in worker on attempt 7: raised InternalServerError(\"Error code: 529 - {'type': 'error', 'error': {'type': 'overloaded_error', 'message': 'Overloaded'}}\")\n",
      "Requeuing...\n",
      "Exception in worker on attempt 9: raised InternalServerError(\"Error code: 529 - {'type': 'error', 'error': {'type': 'overloaded_error', 'message': 'Overloaded'}}\")\n",
      "Requeuing...\n"
     ]
    },
    {
     "name": "stderr",
     "output_type": "stream",
     "text": [
      "  0%|          | 0/5 [00:27<?, ?it/s]"
     ]
    },
    {
     "name": "stdout",
     "output_type": "stream",
     "text": [
      "Exception in worker on attempt 6: raised InternalServerError(\"Error code: 529 - {'type': 'error', 'error': {'type': 'overloaded_error', 'message': 'Overloaded'}}\")\n",
      "Requeuing...\n",
      "Exception in worker on attempt 6: raised InternalServerError(\"Error code: 529 - {'type': 'error', 'error': {'type': 'overloaded_error', 'message': 'Overloaded'}}\")\n",
      "Requeuing...\n"
     ]
    },
    {
     "name": "stderr",
     "output_type": "stream",
     "text": [
      "  0%|          | 0/5 [00:27<?, ?it/s]"
     ]
    },
    {
     "name": "stdout",
     "output_type": "stream",
     "text": [
      "Exception in worker on attempt 9: raised InternalServerError(\"Error code: 529 - {'type': 'error', 'error': {'type': 'overloaded_error', 'message': 'Overloaded'}}\")\n",
      "Requeuing...\n"
     ]
    },
    {
     "name": "stderr",
     "output_type": "stream",
     "text": [
      "  0%|          | 0/5 [00:28<?, ?it/s]"
     ]
    },
    {
     "name": "stdout",
     "output_type": "stream",
     "text": [
      "Exception in worker on attempt 8: raised InternalServerError(\"Error code: 529 - {'type': 'error', 'error': {'type': 'overloaded_error', 'message': 'Overloaded'}}\")\n",
      "Requeuing...\n",
      "Exception in worker on attempt 9: raised InternalServerError(\"Error code: 529 - {'type': 'error', 'error': {'type': 'overloaded_error', 'message': 'Overloaded'}}\")\n",
      "Requeuing...\n"
     ]
    },
    {
     "name": "stderr",
     "output_type": "stream",
     "text": [
      "  0%|          | 0/5 [00:28<?, ?it/s]"
     ]
    },
    {
     "name": "stdout",
     "output_type": "stream",
     "text": [
      "Exception in worker on attempt 7: raised InternalServerError(\"Error code: 529 - {'type': 'error', 'error': {'type': 'overloaded_error', 'message': 'Overloaded'}}\")\n",
      "Requeuing...\n",
      "Exception in worker on attempt 7: raised InternalServerError(\"Error code: 529 - {'type': 'error', 'error': {'type': 'overloaded_error', 'message': 'Overloaded'}}\")\n",
      "Requeuing...\n",
      "Exception in worker on attempt 8: raised InternalServerError(\"Error code: 529 - {'type': 'error', 'error': {'type': 'overloaded_error', 'message': 'Overloaded'}}\")\n",
      "Requeuing...\n"
     ]
    },
    {
     "name": "stderr",
     "output_type": "stream",
     "text": [
      "  0%|          | 0/5 [00:28<?, ?it/s]"
     ]
    },
    {
     "name": "stdout",
     "output_type": "stream",
     "text": [
      "Exception in worker on attempt 6: raised InternalServerError(\"Error code: 529 - {'type': 'error', 'error': {'type': 'overloaded_error', 'message': 'Overloaded'}}\")\n",
      "Requeuing...\n",
      "Exception in worker on attempt 8: raised InternalServerError(\"Error code: 529 - {'type': 'error', 'error': {'type': 'overloaded_error', 'message': 'Overloaded'}}\")\n",
      "Requeuing...\n"
     ]
    },
    {
     "name": "stderr",
     "output_type": "stream",
     "text": [
      "  0%|          | 0/5 [00:29<?, ?it/s]"
     ]
    },
    {
     "name": "stdout",
     "output_type": "stream",
     "text": [
      "Exception in worker on attempt 8: raised InternalServerError(\"Error code: 529 - {'type': 'error', 'error': {'type': 'overloaded_error', 'message': 'Overloaded'}}\")\n",
      "Requeuing...\n",
      "Exception in worker on attempt 7: raised InternalServerError(\"Error code: 529 - {'type': 'error', 'error': {'type': 'overloaded_error', 'message': 'Overloaded'}}\")\n",
      "Requeuing...\n"
     ]
    },
    {
     "name": "stderr",
     "output_type": "stream",
     "text": [
      "  0%|          | 0/5 [00:29<?, ?it/s]"
     ]
    },
    {
     "name": "stdout",
     "output_type": "stream",
     "text": [
      "Exception in worker on attempt 10: raised InternalServerError(\"Error code: 529 - {'type': 'error', 'error': {'type': 'overloaded_error', 'message': 'Overloaded'}}\")\n",
      "Requeuing...\n",
      "Exception in worker on attempt 10: raised InternalServerError(\"Error code: 529 - {'type': 'error', 'error': {'type': 'overloaded_error', 'message': 'Overloaded'}}\")\n",
      "Requeuing...\n"
     ]
    },
    {
     "name": "stderr",
     "output_type": "stream",
     "text": [
      "  0%|          | 0/5 [00:29<?, ?it/s]"
     ]
    },
    {
     "name": "stdout",
     "output_type": "stream",
     "text": [
      "Exception in worker on attempt 10: raised InternalServerError(\"Error code: 529 - {'type': 'error', 'error': {'type': 'overloaded_error', 'message': 'Overloaded'}}\")\n",
      "Requeuing...\n",
      "Exception in worker on attempt 7: raised InternalServerError(\"Error code: 529 - {'type': 'error', 'error': {'type': 'overloaded_error', 'message': 'Overloaded'}}\")\n",
      "Requeuing...\n"
     ]
    },
    {
     "name": "stderr",
     "output_type": "stream",
     "text": [
      "  0%|          | 0/5 [00:30<?, ?it/s]"
     ]
    },
    {
     "name": "stdout",
     "output_type": "stream",
     "text": [
      "Exception in worker on attempt 7: raised InternalServerError(\"Error code: 529 - {'type': 'error', 'error': {'type': 'overloaded_error', 'message': 'Overloaded'}}\")\n",
      "Requeuing...\n",
      "Exception in worker on attempt 10: raised InternalServerError(\"Error code: 529 - {'type': 'error', 'error': {'type': 'overloaded_error', 'message': 'Overloaded'}}\")\n",
      "Requeuing...\n"
     ]
    },
    {
     "name": "stderr",
     "output_type": "stream",
     "text": [
      "  0%|          | 0/5 [00:30<?, ?it/s]"
     ]
    },
    {
     "name": "stdout",
     "output_type": "stream",
     "text": [
      "Exception in worker on attempt 8: raised InternalServerError(\"Error code: 529 - {'type': 'error', 'error': {'type': 'overloaded_error', 'message': 'Overloaded'}}\")\n",
      "Requeuing...\n",
      "Exception in worker on attempt 8: raised InternalServerError(\"Error code: 529 - {'type': 'error', 'error': {'type': 'overloaded_error', 'message': 'Overloaded'}}\")\n",
      "Requeuing...\n",
      "Exception in worker on attempt 9: raised InternalServerError(\"Error code: 529 - {'type': 'error', 'error': {'type': 'overloaded_error', 'message': 'Overloaded'}}\")\n",
      "Requeuing...\n"
     ]
    },
    {
     "name": "stderr",
     "output_type": "stream",
     "text": [
      "  0%|          | 0/5 [00:30<?, ?it/s]"
     ]
    },
    {
     "name": "stdout",
     "output_type": "stream",
     "text": [
      "Exception in worker on attempt 9: raised InternalServerError(\"Error code: 529 - {'type': 'error', 'error': {'type': 'overloaded_error', 'message': 'Overloaded'}}\")\n",
      "Requeuing...\n"
     ]
    },
    {
     "name": "stderr",
     "output_type": "stream",
     "text": [
      "\r 20%|██        | 1/5 [00:58<03:52, 58.07s/it]"
     ]
    },
    {
     "name": "stdout",
     "output_type": "stream",
     "text": [
      "\n",
      "🧪 Evaluating Anthropic model: claude-3-sonnet-20240229\n"
     ]
    },
    {
     "data": {
      "application/vnd.jupyter.widget-view+json": {
       "model_id": "a6006ddd4b6f4fa7a51194f7dca6068f",
       "version_major": 2,
       "version_minor": 0
      },
      "text/plain": [
       "llm_classify |          | 0/50 (0.0%) | ⏳ 00:00<? | ?it/s"
      ]
     },
     "metadata": {},
     "output_type": "display_data"
    },
    {
     "name": "stderr",
     "output_type": "stream",
     "text": [
      "\r 40%|████      | 2/5 [01:10<01:34, 31.50s/it]"
     ]
    },
    {
     "name": "stdout",
     "output_type": "stream",
     "text": [
      "\n",
      "🧪 Evaluating Anthropic model: claude-3-haiku-20240307\n"
     ]
    },
    {
     "data": {
      "application/vnd.jupyter.widget-view+json": {
       "model_id": "2254425ecb1c4957878bd374bd888931",
       "version_major": 2,
       "version_minor": 0
      },
      "text/plain": [
       "llm_classify |          | 0/50 (0.0%) | ⏳ 00:00<? | ?it/s"
      ]
     },
     "metadata": {},
     "output_type": "display_data"
    },
    {
     "name": "stderr",
     "output_type": "stream",
     "text": [
      "\r 60%|██████    | 3/5 [01:22<00:44, 22.44s/it]"
     ]
    },
    {
     "name": "stdout",
     "output_type": "stream",
     "text": [
      "\n",
      "🧪 Evaluating Anthropic model: claude-opus-4-20250514\n"
     ]
    },
    {
     "data": {
      "application/vnd.jupyter.widget-view+json": {
       "model_id": "a42bdbb2e85744dfa155e058d15d1511",
       "version_major": 2,
       "version_minor": 0
      },
      "text/plain": [
       "llm_classify |          | 0/50 (0.0%) | ⏳ 00:00<? | ?it/s"
      ]
     },
     "metadata": {},
     "output_type": "display_data"
    },
    {
     "name": "stderr",
     "output_type": "stream",
     "text": [
      "\r 80%|████████  | 4/5 [01:35<00:18, 18.70s/it]"
     ]
    },
    {
     "name": "stdout",
     "output_type": "stream",
     "text": [
      "\n",
      "🧪 Evaluating Anthropic model: claude-sonnet-4-20250514\n"
     ]
    },
    {
     "data": {
      "application/vnd.jupyter.widget-view+json": {
       "model_id": "015b9e00d87e477494bdbb75f77523c6",
       "version_major": 2,
       "version_minor": 0
      },
      "text/plain": [
       "llm_classify |          | 0/50 (0.0%) | ⏳ 00:00<? | ?it/s"
      ]
     },
     "metadata": {},
     "output_type": "display_data"
    },
    {
     "name": "stderr",
     "output_type": "stream",
     "text": [
      "100%|██████████| 5/5 [01:48<00:00, 21.74s/it]\n"
     ]
    }
   ],
   "source": [
    "# ---------- Evaluate Anthropic Models ----------\n",
    "for model_name in tqdm(anthropic_models):\n",
    "    print(f\"\\n🧪 Evaluating Anthropic model: {model_name}\")\n",
    "\n",
    "    model = AnthropicModel(model=model_name, temperature=0.0)\n",
    "    results = llm_classify(\n",
    "        data=df_eval,\n",
    "        template=templates.TOOL_PARAMETER_EXTRACTION_PROMPT_TEMPLATE,\n",
    "        model=model,\n",
    "        rails=[\"correct\", \"incorrect\"],\n",
    "        provide_explanation=False\n",
    "    )\n",
    "\n",
    "    df_result = df_eval.copy()\n",
    "    df_result[\"label\"] = results[\"label\"]\n",
    "    df_result[\"model\"] = model_name\n",
    "    all_results.append(df_result)\n"
   ]
  },
  {
   "cell_type": "markdown",
   "metadata": {
    "id": "Z7W3RD-yUrvR"
   },
   "source": [
    "## Show Results\n",
    "\n",
    "Let's see how well different models performed as a Judge! We'll show:\n",
    "\n",
    "- F1 score per model benchmarked, to compare how different models perform as a judge vs the ground truth\n",
    "-  An agreement matrix to see which models agree with each other as judges."
   ]
  },
  {
   "cell_type": "code",
   "execution_count": 11,
   "metadata": {
    "colab": {
     "base_uri": "https://localhost:8080/",
     "height": 1000
    },
    "id": "MEZEr0cVUu9Z",
    "outputId": "5e3050f6-e094-449d-fb53-022185e1f1a4"
   },
   "outputs": [
    {
     "name": "stderr",
     "output_type": "stream",
     "text": [
      "/tmp/ipython-input-11-2559147695.py:48: FutureWarning: \n",
      "\n",
      "Passing `palette` without assigning `hue` is deprecated and will be removed in v0.14.0. Assign the `y` variable to `hue` and set `legend=False` for the same effect.\n",
      "\n",
      "  ax = sns.barplot(\n"
     ]
    },
    {
     "data": {
      "image/png": "[encoded data removed]",
      "text/plain": [
       "<Figure size 1000x600 with 1 Axes>"
      ]
     },
     "metadata": {},
     "output_type": "display_data"
    },
    {
     "data": {
      "image/png": "[encoded data removed]",
      "text/plain": [
       "<Figure size 1000x800 with 2 Axes>"
      ]
     },
     "metadata": {},
     "output_type": "display_data"
    }
   ],
   "source": [
    "import seaborn as sns\n",
    "from sklearn.metrics import accuracy_score, f1_score, precision_score, recall_score\n",
    "\n",
    "# Combine results and save\n",
    "df_all_models = pd.concat(all_results, ignore_index=True)\n",
    "df_all_models.to_csv(\"judge_results_all_models.csv\", index=False)\n",
    "\n",
    "# Compute metrics\n",
    "metrics = []\n",
    "models = df_all_models[\"model\"].unique()\n",
    "\n",
    "for model_name in models:\n",
    "    df_model = df_all_models[df_all_models[\"model\"] == model_name]\n",
    "\n",
    "    # Keep only valid predictions and labels\n",
    "    df_model = df_model[\n",
    "        df_model[\"label\"].isin([\"correct\", \"incorrect\"]) &\n",
    "        df_model[\"true_label\"].isin([\"correct\", \"incorrect\"])\n",
    "    ]\n",
    "\n",
    "    # Use real ground truth, given we added some incorrect examples\n",
    "    true_labels = df_model[\"true_label\"].tolist()\n",
    "    pred_labels = df_model[\"label\"].tolist()\n",
    "\n",
    "    accuracy = accuracy_score(true_labels, pred_labels)\n",
    "    precision = precision_score(true_labels, pred_labels, pos_label=\"correct\", zero_division=0)\n",
    "    recall = recall_score(true_labels, pred_labels, pos_label=\"correct\", zero_division=0)\n",
    "    f1 = f1_score(true_labels, pred_labels, pos_label=\"correct\", zero_division=0)\n",
    "\n",
    "    metrics.append({\n",
    "        \"Model\": model_name,\n",
    "        \"Accuracy\": accuracy,\n",
    "        \"Precision\": precision,\n",
    "        \"Recall\": recall,\n",
    "        \"F1 Score\": f1\n",
    "    })\n",
    "\n",
    "# Create dataframe and sort it\n",
    "df_metrics = pd.DataFrame(metrics)\n",
    "df_metrics_sorted = df_metrics.sort_values(\"F1 Score\", ascending=False)\n",
    "\n",
    "# Preserve order of models for plotting\n",
    "model_order = df_metrics_sorted[\"Model\"].tolist()\n",
    "\n",
    "# Plot with fixed order\n",
    "plt.figure(figsize=(10, 6))\n",
    "ax = sns.barplot(\n",
    "    data=df_metrics_sorted,\n",
    "    x=\"F1 Score\",\n",
    "    y=\"Model\",\n",
    "    palette=\"Blues_d\",\n",
    "    order=model_order\n",
    ")\n",
    "plt.title(\"F1 Score by Model\")\n",
    "plt.xlim(0, 1)\n",
    "\n",
    "# Add labels at correct y-axis positions\n",
    "for i, model in enumerate(model_order):\n",
    "    score = df_metrics_sorted[df_metrics_sorted[\"Model\"] == model][\"F1 Score\"].values[0]\n",
    "    ax.text(score + 0.01, i, f\"{score:.2f}\", va='center')\n",
    "\n",
    "plt.tight_layout()\n",
    "plt.show()\n",
    "\n",
    "# ---- Generate agreement Matrix for models -------\n",
    "\n",
    "# Generate a consistent ID for each example\n",
    "df_all_models[\"example_id\"] = df_all_models.groupby(\"model\").cumcount()\n",
    "\n",
    "# Pivot to wide format: one row per example, one column per model\n",
    "df_pivot = df_all_models.pivot(index=\"example_id\", columns=\"model\", values=\"label\")\n",
    "\n",
    "# Compute agreement rates between models\n",
    "agreement_matrix = pd.DataFrame(index=model_order, columns=model_order)\n",
    "\n",
    "for m1 in model_order:\n",
    "    for m2 in model_order:\n",
    "        agreement = (df_pivot[m1] == df_pivot[m2]).mean()\n",
    "        agreement_matrix.loc[m1, m2] = agreement\n",
    "\n",
    "agreement_matrix = agreement_matrix.astype(float)\n",
    "\n",
    "# ----------------------------------------\n",
    "# Plot Agreement Heatmap\n",
    "# ----------------------------------------\n",
    "\n",
    "plt.figure(figsize=(10, 8))\n",
    "sns.heatmap(agreement_matrix, annot=True, cmap=\"Blues\", fmt=\".2f\", cbar=True)\n",
    "plt.title(\"Model Agreement Matrix (Label Agreement Rate)\")\n",
    "plt.tight_layout()\n",
    "plt.show()"
   ]
  }
 ],
 "metadata": {
  "colab": {
   "provenance": []
  },
  "kernelspec": {
   "display_name": "Python 3 (ipykernel)",
   "language": "python",
   "name": "python3"
  },
  "language_info": {
   "codemirror_mode": {
    "name": "ipython",
    "version": 3
   },
   "file_extension": ".py",
   "mimetype": "text/x-python",
   "name": "python",
   "nbconvert_exporter": "python",
   "pygments_lexer": "ipython3",
   "version": "3.8.18"
  },
  "widgets": {
   "application/vnd.jupyter.widget-state+json": {
    "015b9e00d87e477494bdbb75f77523c6": {
     "model_module": "@jupyter-widgets/controls",
     "model_module_version": "1.5.0",
     "model_name": "HBoxModel",
     "state": {
      "_dom_classes": [],
      "_model_module": "@jupyter-widgets/controls",
      "_model_module_version": "1.5.0",
      "_model_name": "HBoxModel",
      "_view_count": null,
      "_view_module": "@jupyter-widgets/controls",
      "_view_module_version": "1.5.0",
      "_view_name": "HBoxView",
      "box_style": "",
      "children": [
       "IPY_MODEL_0635be35c18345a382acbf5ae011bcc5",
       "IPY_MODEL_060450717315474b85fd16fa1ec9637b",
       "IPY_MODEL_7d373aafb2524ccfb22ad2279d4d131e"
      ],
      "layout": "IPY_MODEL_2b772b1b68424974b487697c9cefa3b2"
     }
    },
    "043468e50f14495e8a8d57432a833e63": {
     "model_module": "@jupyter-widgets/controls",
     "model_module_version": "1.5.0",
     "model_name": "HTMLModel",
     "state": {
      "_dom_classes": [],
      "_model_module": "@jupyter-widgets/controls",
      "_model_module_version": "1.5.0",
      "_model_name": "HTMLModel",
      "_view_count": null,
      "_view_module": "@jupyter-widgets/controls",
      "_view_module_version": "1.5.0",
      "_view_name": "HTMLView",
      "description": "",
      "description_tooltip": null,
      "layout": "IPY_MODEL_37bdf2088d0742f19369e0d471b962d7",
      "placeholder": "​",
      "style": "IPY_MODEL_340bc653835b48baa4d86851d697ad84",
      "value": "llm_classify "
     }
    },
    "04abdcb8eacd4740b6ac417ff536f952": {
     "model_module": "@jupyter-widgets/base",
     "model_module_version": "1.2.0",
     "model_name": "LayoutModel",
     "state": {
      "_model_module": "@jupyter-widgets/base",
      "_model_module_version": "1.2.0",
      "_model_name": "LayoutModel",
      "_view_count": null,
      "_view_module": "@jupyter-widgets/base",
      "_view_module_version": "1.2.0",
      "_view_name": "LayoutView",
      "align_content": null,
      "align_items": null,
      "align_self": null,
      "border": null,
      "bottom": null,
      "display": null,
      "flex": null,
      "flex_flow": null,
      "grid_area": null,
      "grid_auto_columns": null,
      "grid_auto_flow": null,
      "grid_auto_rows": null,
      "grid_column": null,
      "grid_gap": null,
      "grid_row": null,
      "grid_template_areas": null,
      "grid_template_columns": null,
      "grid_template_rows": null,
      "height": null,
      "justify_content": null,
      "justify_items": null,
      "left": null,
      "margin": null,
      "max_height": null,
      "max_width": null,
      "min_height": null,
      "min_width": null,
      "object_fit": null,
      "object_position": null,
      "order": null,
      "overflow": null,
      "overflow_x": null,
      "overflow_y": null,
      "padding": null,
      "right": null,
      "top": null,
      "visibility": null,
      "width": null
     }
    },
    "04be0dd1a86e4c598a571c44e90ed3fe": {
     "model_module": "@jupyter-widgets/base",
     "model_module_version": "1.2.0",
     "model_name": "LayoutModel",
     "state": {
      "_model_module": "@jupyter-widgets/base",
      "_model_module_version": "1.2.0",
      "_model_name": "LayoutModel",
      "_view_count": null,
      "_view_module": "@jupyter-widgets/base",
      "_view_module_version": "1.2.0",
      "_view_name": "LayoutView",
      "align_content": null,
      "align_items": null,
      "align_self": null,
      "border": null,
      "bottom": null,
      "display": null,
      "flex": null,
      "flex_flow": null,
      "grid_area": null,
      "grid_auto_columns": null,
      "grid_auto_flow": null,
      "grid_auto_rows": null,
      "grid_column": null,
      "grid_gap": null,
      "grid_row": null,
      "grid_template_areas": null,
      "grid_template_columns": null,
      "grid_template_rows": null,
      "height": null,
      "justify_content": null,
      "justify_items": null,
      "left": null,
      "margin": null,
      "max_height": null,
      "max_width": null,
      "min_height": null,
      "min_width": null,
      "object_fit": null,
      "object_position": null,
      "order": null,
      "overflow": null,
      "overflow_x": null,
      "overflow_y": null,
      "padding": null,
      "right": null,
      "top": null,
      "visibility": null,
      "width": null
     }
    },
    "060450717315474b85fd16fa1ec9637b": {
     "model_module": "@jupyter-widgets/controls",
     "model_module_version": "1.5.0",
     "model_name": "FloatProgressModel",
     "state": {
      "_dom_classes": [],
      "_model_module": "@jupyter-widgets/controls",
      "_model_module_version": "1.5.0",
      "_model_name": "FloatProgressModel",
      "_view_count": null,
      "_view_module": "@jupyter-widgets/controls",
      "_view_module_version": "1.5.0",
      "_view_name": "ProgressView",
      "bar_style": "success",
      "description": "",
      "description_tooltip": null,
      "layout": "IPY_MODEL_b6319feae1c94df09d21c735cab2e34f",
      "max": 50,
      "min": 0,
      "orientation": "horizontal",
      "style": "IPY_MODEL_0b55227fc0f84c85974491f4aca829a5",
      "value": 50
     }
    },
    "0635be35c18345a382acbf5ae011bcc5": {
     "model_module": "@jupyter-widgets/controls",
     "model_module_version": "1.5.0",
     "model_name": "HTMLModel",
     "state": {
      "_dom_classes": [],
      "_model_module": "@jupyter-widgets/controls",
      "_model_module_version": "1.5.0",
      "_model_name": "HTMLModel",
      "_view_count": null,
      "_view_module": "@jupyter-widgets/controls",
      "_view_module_version": "1.5.0",
      "_view_name": "HTMLView",
      "description": "",
      "description_tooltip": null,
      "layout": "IPY_MODEL_c8d415d3189a42ef9f54a8063176d367",
      "placeholder": "​",
      "style": "IPY_MODEL_f00a65ae1d484247ae5e1746fd85d82a",
      "value": "llm_classify "
     }
    },
    "0671b695303445148fd7a614fa465430": {
     "model_module": "@jupyter-widgets/base",
     "model_module_version": "1.2.0",
     "model_name": "LayoutModel",
     "state": {
      "_model_module": "@jupyter-widgets/base",
      "_model_module_version": "1.2.0",
      "_model_name": "LayoutModel",
      "_view_count": null,
      "_view_module": "@jupyter-widgets/base",
      "_view_module_version": "1.2.0",
      "_view_name": "LayoutView",
      "align_content": null,
      "align_items": null,
      "align_self": null,
      "border": null,
      "bottom": null,
      "display": null,
      "flex": null,
      "flex_flow": null,
      "grid_area": null,
      "grid_auto_columns": null,
      "grid_auto_flow": null,
      "grid_auto_rows": null,
      "grid_column": null,
      "grid_gap": null,
      "grid_row": null,
      "grid_template_areas": null,
      "grid_template_columns": null,
      "grid_template_rows": null,
      "height": null,
      "justify_content": null,
      "justify_items": null,
      "left": null,
      "margin": null,
      "max_height": null,
      "max_width": null,
      "min_height": null,
      "min_width": null,
      "object_fit": null,
      "object_position": null,
      "order": null,
      "overflow": null,
      "overflow_x": null,
      "overflow_y": null,
      "padding": null,
      "right": null,
      "top": null,
      "visibility": null,
      "width": null
     }
    },
    "08caa698da9043119f38bf8748f7db81": {
     "model_module": "@jupyter-widgets/base",
     "model_module_version": "1.2.0",
     "model_name": "LayoutModel",
     "state": {
      "_model_module": "@jupyter-widgets/base",
      "_model_module_version": "1.2.0",
      "_model_name": "LayoutModel",
      "_view_count": null,
      "_view_module": "@jupyter-widgets/base",
      "_view_module_version": "1.2.0",
      "_view_name": "LayoutView",
      "align_content": null,
      "align_items": null,
      "align_self": null,
      "border": null,
      "bottom": null,
      "display": null,
      "flex": null,
      "flex_flow": null,
      "grid_area": null,
      "grid_auto_columns": null,
      "grid_auto_flow": null,
      "grid_auto_rows": null,
      "grid_column": null,
      "grid_gap": null,
      "grid_row": null,
      "grid_template_areas": null,
      "grid_template_columns": null,
      "grid_template_rows": null,
      "height": null,
      "justify_content": null,
      "justify_items": null,
      "left": null,
      "margin": null,
      "max_height": null,
      "max_width": null,
      "min_height": null,
      "min_width": null,
      "object_fit": null,
      "object_position": null,
      "order": null,
      "overflow": null,
      "overflow_x": null,
      "overflow_y": null,
      "padding": null,
      "right": null,
      "top": null,
      "visibility": null,
      "width": null
     }
    },
    "08d3d7d62afa4f68a1a4fccdb7661e53": {
     "model_module": "@jupyter-widgets/controls",
     "model_module_version": "1.5.0",
     "model_name": "ProgressStyleModel",
     "state": {
      "_model_module": "@jupyter-widgets/controls",
      "_model_module_version": "1.5.0",
      "_model_name": "ProgressStyleModel",
      "_view_count": null,
      "_view_module": "@jupyter-widgets/base",
      "_view_module_version": "1.2.0",
      "_view_name": "StyleView",
      "bar_color": null,
      "description_width": ""
     }
    },
    "08f8330860d64fe88aa5321515024d53": {
     "model_module": "@jupyter-widgets/base",
     "model_module_version": "1.2.0",
     "model_name": "LayoutModel",
     "state": {
      "_model_module": "@jupyter-widgets/base",
      "_model_module_version": "1.2.0",
      "_model_name": "LayoutModel",
      "_view_count": null,
      "_view_module": "@jupyter-widgets/base",
      "_view_module_version": "1.2.0",
      "_view_name": "LayoutView",
      "align_content": null,
      "align_items": null,
      "align_self": null,
      "border": null,
      "bottom": null,
      "display": null,
      "flex": null,
      "flex_flow": null,
      "grid_area": null,
      "grid_auto_columns": null,
      "grid_auto_flow": null,
      "grid_auto_rows": null,
      "grid_column": null,
      "grid_gap": null,
      "grid_row": null,
      "grid_template_areas": null,
      "grid_template_columns": null,
      "grid_template_rows": null,
      "height": null,
      "justify_content": null,
      "justify_items": null,
      "left": null,
      "margin": null,
      "max_height": null,
      "max_width": null,
      "min_height": null,
      "min_width": null,
      "object_fit": null,
      "object_position": null,
      "order": null,
      "overflow": null,
      "overflow_x": null,
      "overflow_y": null,
      "padding": null,
      "right": null,
      "top": null,
      "visibility": null,
      "width": null
     }
    },
    "0b55227fc0f84c85974491f4aca829a5": {
     "model_module": "@jupyter-widgets/controls",
     "model_module_version": "1.5.0",
     "model_name": "ProgressStyleModel",
     "state": {
      "_model_module": "@jupyter-widgets/controls",
      "_model_module_version": "1.5.0",
      "_model_name": "ProgressStyleModel",
      "_view_count": null,
      "_view_module": "@jupyter-widgets/base",
      "_view_module_version": "1.2.0",
      "_view_name": "StyleView",
      "bar_color": null,
      "description_width": ""
     }
    },
    "0bc220a1cbc844cdb2062f467ca6911a": {
     "model_module": "@jupyter-widgets/controls",
     "model_module_version": "1.5.0",
     "model_name": "FloatProgressModel",
     "state": {
      "_dom_classes": [],
      "_model_module": "@jupyter-widgets/controls",
      "_model_module_version": "1.5.0",
      "_model_name": "FloatProgressModel",
      "_view_count": null,
      "_view_module": "@jupyter-widgets/controls",
      "_view_module_version": "1.5.0",
      "_view_name": "ProgressView",
      "bar_style": "success",
      "description": "",
      "description_tooltip": null,
      "layout": "IPY_MODEL_dd13781a994949a1adaf8a107b43f383",
      "max": 50,
      "min": 0,
      "orientation": "horizontal",
      "style": "IPY_MODEL_5b03048ea7824fa99e1d5514a278e982",
      "value": 50
     }
    },
    "0f40e003e34749aab79b22a16c4f505f": {
     "model_module": "@jupyter-widgets/controls",
     "model_module_version": "1.5.0",
     "model_name": "HTMLModel",
     "state": {
      "_dom_classes": [],
      "_model_module": "@jupyter-widgets/controls",
      "_model_module_version": "1.5.0",
      "_model_name": "HTMLModel",
      "_view_count": null,
      "_view_module": "@jupyter-widgets/controls",
      "_view_module_version": "1.5.0",
      "_view_name": "HTMLView",
      "description": "",
      "description_tooltip": null,
      "layout": "IPY_MODEL_1b2ccb7175dd4380819d7f0ab3a26d09",
      "placeholder": "​",
      "style": "IPY_MODEL_efb1e6093aeb4cd3b9ed2c4a0bfb0d3e",
      "value": " 50/50 (100.0%) | ⏳ 00:42&lt;00:00 |  3.75it/s"
     }
    },
    "12d77b6769534a4e8aa0b8c48a99a61c": {
     "model_module": "@jupyter-widgets/controls",
     "model_module_version": "1.5.0",
     "model_name": "DescriptionStyleModel",
     "state": {
      "_model_module": "@jupyter-widgets/controls",
      "_model_module_version": "1.5.0",
      "_model_name": "DescriptionStyleModel",
      "_view_count": null,
      "_view_module": "@jupyter-widgets/base",
      "_view_module_version": "1.2.0",
      "_view_name": "StyleView",
      "description_width": ""
     }
    },
    "156440b580b04bcaa81f33888f49578c": {
     "model_module": "@jupyter-widgets/base",
     "model_module_version": "1.2.0",
     "model_name": "LayoutModel",
     "state": {
      "_model_module": "@jupyter-widgets/base",
      "_model_module_version": "1.2.0",
      "_model_name": "LayoutModel",
      "_view_count": null,
      "_view_module": "@jupyter-widgets/base",
      "_view_module_version": "1.2.0",
      "_view_name": "LayoutView",
      "align_content": null,
      "align_items": null,
      "align_self": null,
      "border": null,
      "bottom": null,
      "display": null,
      "flex": null,
      "flex_flow": null,
      "grid_area": null,
      "grid_auto_columns": null,
      "grid_auto_flow": null,
      "grid_auto_rows": null,
      "grid_column": null,
      "grid_gap": null,
      "grid_row": null,
      "grid_template_areas": null,
      "grid_template_columns": null,
      "grid_template_rows": null,
      "height": null,
      "justify_content": null,
      "justify_items": null,
      "left": null,
      "margin": null,
      "max_height": null,
      "max_width": null,
      "min_height": null,
      "min_width": null,
      "object_fit": null,
      "object_position": null,
      "order": null,
      "overflow": null,
      "overflow_x": null,
      "overflow_y": null,
      "padding": null,
      "right": null,
      "top": null,
      "visibility": null,
      "width": null
     }
    },
    "158a6c9bb0624d32925b8f4170bd6da7": {
     "model_module": "@jupyter-widgets/controls",
     "model_module_version": "1.5.0",
     "model_name": "FloatProgressModel",
     "state": {
      "_dom_classes": [],
      "_model_module": "@jupyter-widgets/controls",
      "_model_module_version": "1.5.0",
      "_model_name": "FloatProgressModel",
      "_view_count": null,
      "_view_module": "@jupyter-widgets/controls",
      "_view_module_version": "1.5.0",
      "_view_name": "ProgressView",
      "bar_style": "success",
      "description": "",
      "description_tooltip": null,
      "layout": "IPY_MODEL_95c3a526924347998530a1ac32293a32",
      "max": 50,
      "min": 0,
      "orientation": "horizontal",
      "style": "IPY_MODEL_325fc81603684ce387d36ec2287ddb0a",
      "value": 50
     }
    },
    "15fa120a5afd4dc8b808840a89852e2d": {
     "model_module": "@jupyter-widgets/controls",
     "model_module_version": "1.5.0",
     "model_name": "FloatProgressModel",
     "state": {
      "_dom_classes": [],
      "_model_module": "@jupyter-widgets/controls",
      "_model_module_version": "1.5.0",
      "_model_name": "FloatProgressModel",
      "_view_count": null,
      "_view_module": "@jupyter-widgets/controls",
      "_view_module_version": "1.5.0",
      "_view_name": "ProgressView",
      "bar_style": "success",
      "description": "",
      "description_tooltip": null,
      "layout": "IPY_MODEL_711e731d43a04d42bb84e02aac16c71e",
      "max": 50,
      "min": 0,
      "orientation": "horizontal",
      "style": "IPY_MODEL_2311f70433e74c9d91b0cfad01e0c16e",
      "value": 50
     }
    },
    "1616f555667f43a19cc6a0df4580b451": {
     "model_module": "@jupyter-widgets/base",
     "model_module_version": "1.2.0",
     "model_name": "LayoutModel",
     "state": {
      "_model_module": "@jupyter-widgets/base",
      "_model_module_version": "1.2.0",
      "_model_name": "LayoutModel",
      "_view_count": null,
      "_view_module": "@jupyter-widgets/base",
      "_view_module_version": "1.2.0",
      "_view_name": "LayoutView",
      "align_content": null,
      "align_items": null,
      "align_self": null,
      "border": null,
      "bottom": null,
      "display": null,
      "flex": null,
      "flex_flow": null,
      "grid_area": null,
      "grid_auto_columns": null,
      "grid_auto_flow": null,
      "grid_auto_rows": null,
      "grid_column": null,
      "grid_gap": null,
      "grid_row": null,
      "grid_template_areas": null,
      "grid_template_columns": null,
      "grid_template_rows": null,
      "height": null,
      "justify_content": null,
      "justify_items": null,
      "left": null,
      "margin": null,
      "max_height": null,
      "max_width": null,
      "min_height": null,
      "min_width": null,
      "object_fit": null,
      "object_position": null,
      "order": null,
      "overflow": null,
      "overflow_x": null,
      "overflow_y": null,
      "padding": null,
      "right": null,
      "top": null,
      "visibility": null,
      "width": null
     }
    },
    "1772899a4d3d40bfbdc7a1622120166f": {
     "model_module": "@jupyter-widgets/controls",
     "model_module_version": "1.5.0",
     "model_name": "HTMLModel",
     "state": {
      "_dom_classes": [],
      "_model_module": "@jupyter-widgets/controls",
      "_model_module_version": "1.5.0",
      "_model_name": "HTMLModel",
      "_view_count": null,
      "_view_module": "@jupyter-widgets/controls",
      "_view_module_version": "1.5.0",
      "_view_name": "HTMLView",
      "description": "",
      "description_tooltip": null,
      "layout": "IPY_MODEL_9204043311f2425a908d471d66f3acff",
      "placeholder": "​",
      "style": "IPY_MODEL_d96808f3779443c2b315e602e04a02dd",
      "value": " 50/50 (100.0%) | ⏳ 00:39&lt;00:00 |  5.12it/s"
     }
    },
    "190204a6fa684b04a3111cce203ab433": {
     "model_module": "@jupyter-widgets/controls",
     "model_module_version": "1.5.0",
     "model_name": "HBoxModel",
     "state": {
      "_dom_classes": [],
      "_model_module": "@jupyter-widgets/controls",
      "_model_module_version": "1.5.0",
      "_model_name": "HBoxModel",
      "_view_count": null,
      "_view_module": "@jupyter-widgets/controls",
      "_view_module_version": "1.5.0",
      "_view_name": "HBoxView",
      "box_style": "",
      "children": [
       "IPY_MODEL_9340ce80be6945e799668fd55ecf069c",
       "IPY_MODEL_0bc220a1cbc844cdb2062f467ca6911a",
       "IPY_MODEL_b5566d57043b48728839b1ce84fe38d8"
      ],
      "layout": "IPY_MODEL_4618a74e31d84e4f89a91bd2149fe18a"
     }
    },
    "19e70fb91b9d4fb7a28e22f9b614a57c": {
     "model_module": "@jupyter-widgets/base",
     "model_module_version": "1.2.0",
     "model_name": "LayoutModel",
     "state": {
      "_model_module": "@jupyter-widgets/base",
      "_model_module_version": "1.2.0",
      "_model_name": "LayoutModel",
      "_view_count": null,
      "_view_module": "@jupyter-widgets/base",
      "_view_module_version": "1.2.0",
      "_view_name": "LayoutView",
      "align_content": null,
      "align_items": null,
      "align_self": null,
      "border": null,
      "bottom": null,
      "display": null,
      "flex": null,
      "flex_flow": null,
      "grid_area": null,
      "grid_auto_columns": null,
      "grid_auto_flow": null,
      "grid_auto_rows": null,
      "grid_column": null,
      "grid_gap": null,
      "grid_row": null,
      "grid_template_areas": null,
      "grid_template_columns": null,
      "grid_template_rows": null,
      "height": null,
      "justify_content": null,
      "justify_items": null,
      "left": null,
      "margin": null,
      "max_height": null,
      "max_width": null,
      "min_height": null,
      "min_width": null,
      "object_fit": null,
      "object_position": null,
      "order": null,
      "overflow": null,
      "overflow_x": null,
      "overflow_y": null,
      "padding": null,
      "right": null,
      "top": null,
      "visibility": null,
      "width": null
     }
    },
    "1a30fde4dc9e435aa9fee7e029585eea": {
     "model_module": "@jupyter-widgets/controls",
     "model_module_version": "1.5.0",
     "model_name": "HTMLModel",
     "state": {
      "_dom_classes": [],
      "_model_module": "@jupyter-widgets/controls",
      "_model_module_version": "1.5.0",
      "_model_name": "HTMLModel",
      "_view_count": null,
      "_view_module": "@jupyter-widgets/controls",
      "_view_module_version": "1.5.0",
      "_view_name": "HTMLView",
      "description": "",
      "description_tooltip": null,
      "layout": "IPY_MODEL_77056d8f7c724d7788936fe2a06323cb",
      "placeholder": "​",
      "style": "IPY_MODEL_76bf7fcf2ed94bde9035f622bbaa5e26",
      "value": " 50/50 (100.0%) | ⏳ 00:12&lt;00:00 |  4.15it/s"
     }
    },
    "1b2ccb7175dd4380819d7f0ab3a26d09": {
     "model_module": "@jupyter-widgets/base",
     "model_module_version": "1.2.0",
     "model_name": "LayoutModel",
     "state": {
      "_model_module": "@jupyter-widgets/base",
      "_model_module_version": "1.2.0",
      "_model_name": "LayoutModel",
      "_view_count": null,
      "_view_module": "@jupyter-widgets/base",
      "_view_module_version": "1.2.0",
      "_view_name": "LayoutView",
      "align_content": null,
      "align_items": null,
      "align_self": null,
      "border": null,
      "bottom": null,
      "display": null,
      "flex": null,
      "flex_flow": null,
      "grid_area": null,
      "grid_auto_columns": null,
      "grid_auto_flow": null,
      "grid_auto_rows": null,
      "grid_column": null,
      "grid_gap": null,
      "grid_row": null,
      "grid_template_areas": null,
      "grid_template_columns": null,
      "grid_template_rows": null,
      "height": null,
      "justify_content": null,
      "justify_items": null,
      "left": null,
      "margin": null,
      "max_height": null,
      "max_width": null,
      "min_height": null,
      "min_width": null,
      "object_fit": null,
      "object_position": null,
      "order": null,
      "overflow": null,
      "overflow_x": null,
      "overflow_y": null,
      "padding": null,
      "right": null,
      "top": null,
      "visibility": null,
      "width": null
     }
    },
    "1ddacf9119dc431cb30ef5cba797e891": {
     "model_module": "@jupyter-widgets/controls",
     "model_module_version": "1.5.0",
     "model_name": "HTMLModel",
     "state": {
      "_dom_classes": [],
      "_model_module": "@jupyter-widgets/controls",
      "_model_module_version": "1.5.0",
      "_model_name": "HTMLModel",
      "_view_count": null,
      "_view_module": "@jupyter-widgets/controls",
      "_view_module_version": "1.5.0",
      "_view_name": "HTMLView",
      "description": "",
      "description_tooltip": null,
      "layout": "IPY_MODEL_bfd6477135d74fbe96d9eb30c0ec3904",
      "placeholder": "​",
      "style": "IPY_MODEL_c808a7aecbcd4a509f4a5a1654487a21",
      "value": "llm_classify "
     }
    },
    "1eeb81e56df8422182450f8ee46b3bc7": {
     "model_module": "@jupyter-widgets/controls",
     "model_module_version": "1.5.0",
     "model_name": "FloatProgressModel",
     "state": {
      "_dom_classes": [],
      "_model_module": "@jupyter-widgets/controls",
      "_model_module_version": "1.5.0",
      "_model_name": "FloatProgressModel",
      "_view_count": null,
      "_view_module": "@jupyter-widgets/controls",
      "_view_module_version": "1.5.0",
      "_view_name": "ProgressView",
      "bar_style": "success",
      "description": "",
      "description_tooltip": null,
      "layout": "IPY_MODEL_f633f643712a49b0bedb243feebb8307",
      "max": 50,
      "min": 0,
      "orientation": "horizontal",
      "style": "IPY_MODEL_4bf0a490d71041b1889da9c19c5c8057",
      "value": 50
     }
    },
    "1fb14a86620b4f2eb62db97604ee5a1a": {
     "model_module": "@jupyter-widgets/controls",
     "model_module_version": "1.5.0",
     "model_name": "HTMLModel",
     "state": {
      "_dom_classes": [],
      "_model_module": "@jupyter-widgets/controls",
      "_model_module_version": "1.5.0",
      "_model_name": "HTMLModel",
      "_view_count": null,
      "_view_module": "@jupyter-widgets/controls",
      "_view_module_version": "1.5.0",
      "_view_name": "HTMLView",
      "description": "",
      "description_tooltip": null,
      "layout": "IPY_MODEL_34f66dd8b7e14f57a806ca010cac9676",
      "placeholder": "​",
      "style": "IPY_MODEL_b423b52486d4441ba5c841e4ecff5fae",
      "value": " 50/50 (100.0%) | ⏳ 00:28&lt;00:00 |  1.31it/s"
     }
    },
    "213267d5265c4e168bb8747780abd35f": {
     "model_module": "@jupyter-widgets/controls",
     "model_module_version": "1.5.0",
     "model_name": "HTMLModel",
     "state": {
      "_dom_classes": [],
      "_model_module": "@jupyter-widgets/controls",
      "_model_module_version": "1.5.0",
      "_model_name": "HTMLModel",
      "_view_count": null,
      "_view_module": "@jupyter-widgets/controls",
      "_view_module_version": "1.5.0",
      "_view_name": "HTMLView",
      "description": "",
      "description_tooltip": null,
      "layout": "IPY_MODEL_3d1600a6937d4bb7bfbd15451cbfab22",
      "placeholder": "​",
      "style": "IPY_MODEL_c0218bbe332444d499f55eed9d988c5d",
      "value": " 50/50 (100.0%) | ⏳ 01:43&lt;00:00 |  9.38it/s"
     }
    },
    "2254425ecb1c4957878bd374bd888931": {
     "model_module": "@jupyter-widgets/controls",
     "model_module_version": "1.5.0",
     "model_name": "HBoxModel",
     "state": {
      "_dom_classes": [],
      "_model_module": "@jupyter-widgets/controls",
      "_model_module_version": "1.5.0",
      "_model_name": "HBoxModel",
      "_view_count": null,
      "_view_module": "@jupyter-widgets/controls",
      "_view_module_version": "1.5.0",
      "_view_name": "HBoxView",
      "box_style": "",
      "children": [
       "IPY_MODEL_e2098dac39e74ed88b40a60bafa31dad",
       "IPY_MODEL_158a6c9bb0624d32925b8f4170bd6da7",
       "IPY_MODEL_1772899a4d3d40bfbdc7a1622120166f"
      ],
      "layout": "IPY_MODEL_bfdee894e7e7416eb0078f25ea7d2bad"
     }
    },
    "2311f70433e74c9d91b0cfad01e0c16e": {
     "model_module": "@jupyter-widgets/controls",
     "model_module_version": "1.5.0",
     "model_name": "ProgressStyleModel",
     "state": {
      "_model_module": "@jupyter-widgets/controls",
      "_model_module_version": "1.5.0",
      "_model_name": "ProgressStyleModel",
      "_view_count": null,
      "_view_module": "@jupyter-widgets/base",
      "_view_module_version": "1.2.0",
      "_view_name": "StyleView",
      "bar_color": null,
      "description_width": ""
     }
    },
    "233e0850a96e48a0bdbd9d0f6ce5c641": {
     "model_module": "@jupyter-widgets/base",
     "model_module_version": "1.2.0",
     "model_name": "LayoutModel",
     "state": {
      "_model_module": "@jupyter-widgets/base",
      "_model_module_version": "1.2.0",
      "_model_name": "LayoutModel",
      "_view_count": null,
      "_view_module": "@jupyter-widgets/base",
      "_view_module_version": "1.2.0",
      "_view_name": "LayoutView",
      "align_content": null,
      "align_items": null,
      "align_self": null,
      "border": null,
      "bottom": null,
      "display": null,
      "flex": null,
      "flex_flow": null,
      "grid_area": null,
      "grid_auto_columns": null,
      "grid_auto_flow": null,
      "grid_auto_rows": null,
      "grid_column": null,
      "grid_gap": null,
      "grid_row": null,
      "grid_template_areas": null,
      "grid_template_columns": null,
      "grid_template_rows": null,
      "height": null,
      "justify_content": null,
      "justify_items": null,
      "left": null,
      "margin": null,
      "max_height": null,
      "max_width": null,
      "min_height": null,
      "min_width": null,
      "object_fit": null,
      "object_position": null,
      "order": null,
      "overflow": null,
      "overflow_x": null,
      "overflow_y": null,
      "padding": null,
      "right": null,
      "top": null,
      "visibility": null,
      "width": null
     }
    },
    "24c2ea28a1564bc8a8b070d76b2ce210": {
     "model_module": "@jupyter-widgets/controls",
     "model_module_version": "1.5.0",
     "model_name": "FloatProgressModel",
     "state": {
      "_dom_classes": [],
      "_model_module": "@jupyter-widgets/controls",
      "_model_module_version": "1.5.0",
      "_model_name": "FloatProgressModel",
      "_view_count": null,
      "_view_module": "@jupyter-widgets/controls",
      "_view_module_version": "1.5.0",
      "_view_name": "ProgressView",
      "bar_style": "success",
      "description": "",
      "description_tooltip": null,
      "layout": "IPY_MODEL_42e00d4488834b9087a0826344082203",
      "max": 50,
      "min": 0,
      "orientation": "horizontal",
      "style": "IPY_MODEL_fb882c92c475408a954d65ae60a5c579",
      "value": 50
     }
    },
    "297f45ad9e624e8692bcb854ab176a73": {
     "model_module": "@jupyter-widgets/controls",
     "model_module_version": "1.5.0",
     "model_name": "HBoxModel",
     "state": {
      "_dom_classes": [],
      "_model_module": "@jupyter-widgets/controls",
      "_model_module_version": "1.5.0",
      "_model_name": "HBoxModel",
      "_view_count": null,
      "_view_module": "@jupyter-widgets/controls",
      "_view_module_version": "1.5.0",
      "_view_name": "HBoxView",
      "box_style": "",
      "children": [
       "IPY_MODEL_043468e50f14495e8a8d57432a833e63",
       "IPY_MODEL_f9fe3e79a05c4a018f0ffcd3255b1647",
       "IPY_MODEL_9c35206b494c474f951d02dd9b16607d"
      ],
      "layout": "IPY_MODEL_d8f466e8097e4070b4944e78ae369c45"
     }
    },
    "2a4c522e81e24ddd8cfdd274bf3aa971": {
     "model_module": "@jupyter-widgets/controls",
     "model_module_version": "1.5.0",
     "model_name": "HTMLModel",
     "state": {
      "_dom_classes": [],
      "_model_module": "@jupyter-widgets/controls",
      "_model_module_version": "1.5.0",
      "_model_name": "HTMLModel",
      "_view_count": null,
      "_view_module": "@jupyter-widgets/controls",
      "_view_module_version": "1.5.0",
      "_view_name": "HTMLView",
      "description": "",
      "description_tooltip": null,
      "layout": "IPY_MODEL_95a157a3f084434999683b2b62447088",
      "placeholder": "​",
      "style": "IPY_MODEL_39486b7691554ff4b9caea3965a9bc96",
      "value": " 50/50 (100.0%) | ⏳ 00:52&lt;00:00 |  6.26it/s"
     }
    },
    "2ab3bc24d02640969ddb70374e400025": {
     "model_module": "@jupyter-widgets/base",
     "model_module_version": "1.2.0",
     "model_name": "LayoutModel",
     "state": {
      "_model_module": "@jupyter-widgets/base",
      "_model_module_version": "1.2.0",
      "_model_name": "LayoutModel",
      "_view_count": null,
      "_view_module": "@jupyter-widgets/base",
      "_view_module_version": "1.2.0",
      "_view_name": "LayoutView",
      "align_content": null,
      "align_items": null,
      "align_self": null,
      "border": null,
      "bottom": null,
      "display": null,
      "flex": null,
      "flex_flow": null,
      "grid_area": null,
      "grid_auto_columns": null,
      "grid_auto_flow": null,
      "grid_auto_rows": null,
      "grid_column": null,
      "grid_gap": null,
      "grid_row": null,
      "grid_template_areas": null,
      "grid_template_columns": null,
      "grid_template_rows": null,
      "height": null,
      "justify_content": null,
      "justify_items": null,
      "left": null,
      "margin": null,
      "max_height": null,
      "max_width": null,
      "min_height": null,
      "min_width": null,
      "object_fit": null,
      "object_position": null,
      "order": null,
      "overflow": null,
      "overflow_x": null,
      "overflow_y": null,
      "padding": null,
      "right": null,
      "top": null,
      "visibility": null,
      "width": null
     }
    },
    "2b772b1b68424974b487697c9cefa3b2": {
     "model_module": "@jupyter-widgets/base",
     "model_module_version": "1.2.0",
     "model_name": "LayoutModel",
     "state": {
      "_model_module": "@jupyter-widgets/base",
      "_model_module_version": "1.2.0",
      "_model_name": "LayoutModel",
      "_view_count": null,
      "_view_module": "@jupyter-widgets/base",
      "_view_module_version": "1.2.0",
      "_view_name": "LayoutView",
      "align_content": null,
      "align_items": null,
      "align_self": null,
      "border": null,
      "bottom": null,
      "display": null,
      "flex": null,
      "flex_flow": null,
      "grid_area": null,
      "grid_auto_columns": null,
      "grid_auto_flow": null,
      "grid_auto_rows": null,
      "grid_column": null,
      "grid_gap": null,
      "grid_row": null,
      "grid_template_areas": null,
      "grid_template_columns": null,
      "grid_template_rows": null,
      "height": null,
      "justify_content": null,
      "justify_items": null,
      "left": null,
      "margin": null,
      "max_height": null,
      "max_width": null,
      "min_height": null,
      "min_width": null,
      "object_fit": null,
      "object_position": null,
      "order": null,
      "overflow": null,
      "overflow_x": null,
      "overflow_y": null,
      "padding": null,
      "right": null,
      "top": null,
      "visibility": null,
      "width": null
     }
    },
    "2d4a07eb5a754790b6e0253fd02bbca1": {
     "model_module": "@jupyter-widgets/controls",
     "model_module_version": "1.5.0",
     "model_name": "HBoxModel",
     "state": {
      "_dom_classes": [],
      "_model_module": "@jupyter-widgets/controls",
      "_model_module_version": "1.5.0",
      "_model_name": "HBoxModel",
      "_view_count": null,
      "_view_module": "@jupyter-widgets/controls",
      "_view_module_version": "1.5.0",
      "_view_name": "HBoxView",
      "box_style": "",
      "children": [
       "IPY_MODEL_aa6186d26349457ab8cd49f618f92e20",
       "IPY_MODEL_60c8d5ab7f00483e934fec40112cda49",
       "IPY_MODEL_213267d5265c4e168bb8747780abd35f"
      ],
      "layout": "IPY_MODEL_cb8ab6be9b4343a19ba0e525089713df"
     }
    },
    "2fcb544976484e1bb9d98b79eee07314": {
     "model_module": "@jupyter-widgets/base",
     "model_module_version": "1.2.0",
     "model_name": "LayoutModel",
     "state": {
      "_model_module": "@jupyter-widgets/base",
      "_model_module_version": "1.2.0",
      "_model_name": "LayoutModel",
      "_view_count": null,
      "_view_module": "@jupyter-widgets/base",
      "_view_module_version": "1.2.0",
      "_view_name": "LayoutView",
      "align_content": null,
      "align_items": null,
      "align_self": null,
      "border": null,
      "bottom": null,
      "display": null,
      "flex": null,
      "flex_flow": null,
      "grid_area": null,
      "grid_auto_columns": null,
      "grid_auto_flow": null,
      "grid_auto_rows": null,
      "grid_column": null,
      "grid_gap": null,
      "grid_row": null,
      "grid_template_areas": null,
      "grid_template_columns": null,
      "grid_template_rows": null,
      "height": null,
      "justify_content": null,
      "justify_items": null,
      "left": null,
      "margin": null,
      "max_height": null,
      "max_width": null,
      "min_height": null,
      "min_width": null,
      "object_fit": null,
      "object_position": null,
      "order": null,
      "overflow": null,
      "overflow_x": null,
      "overflow_y": null,
      "padding": null,
      "right": null,
      "top": null,
      "visibility": null,
      "width": null
     }
    },
    "30dae31eba0f4730b3ccf16433f8aa86": {
     "model_module": "@jupyter-widgets/controls",
     "model_module_version": "1.5.0",
     "model_name": "HTMLModel",
     "state": {
      "_dom_classes": [],
      "_model_module": "@jupyter-widgets/controls",
      "_model_module_version": "1.5.0",
      "_model_name": "HTMLModel",
      "_view_count": null,
      "_view_module": "@jupyter-widgets/controls",
      "_view_module_version": "1.5.0",
      "_view_name": "HTMLView",
      "description": "",
      "description_tooltip": null,
      "layout": "IPY_MODEL_eb3bdea788554c0381726b660146ff9d",
      "placeholder": "​",
      "style": "IPY_MODEL_c60ddabb4f3f4aa993f391eb80e92936",
      "value": "llm_classify "
     }
    },
    "325fc81603684ce387d36ec2287ddb0a": {
     "model_module": "@jupyter-widgets/controls",
     "model_module_version": "1.5.0",
     "model_name": "ProgressStyleModel",
     "state": {
      "_model_module": "@jupyter-widgets/controls",
      "_model_module_version": "1.5.0",
      "_model_name": "ProgressStyleModel",
      "_view_count": null,
      "_view_module": "@jupyter-widgets/base",
      "_view_module_version": "1.2.0",
      "_view_name": "StyleView",
      "bar_color": null,
      "description_width": ""
     }
    },
    "340bc653835b48baa4d86851d697ad84": {
     "model_module": "@jupyter-widgets/controls",
     "model_module_version": "1.5.0",
     "model_name": "DescriptionStyleModel",
     "state": {
      "_model_module": "@jupyter-widgets/controls",
      "_model_module_version": "1.5.0",
      "_model_name": "DescriptionStyleModel",
      "_view_count": null,
      "_view_module": "@jupyter-widgets/base",
      "_view_module_version": "1.2.0",
      "_view_name": "StyleView",
      "description_width": ""
     }
    },
    "34b2dfd3cea341a59df1211aa145a3fa": {
     "model_module": "@jupyter-widgets/controls",
     "model_module_version": "1.5.0",
     "model_name": "ProgressStyleModel",
     "state": {
      "_model_module": "@jupyter-widgets/controls",
      "_model_module_version": "1.5.0",
      "_model_name": "ProgressStyleModel",
      "_view_count": null,
      "_view_module": "@jupyter-widgets/base",
      "_view_module_version": "1.2.0",
      "_view_name": "StyleView",
      "bar_color": null,
      "description_width": ""
     }
    },
    "34f66dd8b7e14f57a806ca010cac9676": {
     "model_module": "@jupyter-widgets/base",
     "model_module_version": "1.2.0",
     "model_name": "LayoutModel",
     "state": {
      "_model_module": "@jupyter-widgets/base",
      "_model_module_version": "1.2.0",
      "_model_name": "LayoutModel",
      "_view_count": null,
      "_view_module": "@jupyter-widgets/base",
      "_view_module_version": "1.2.0",
      "_view_name": "LayoutView",
      "align_content": null,
      "align_items": null,
      "align_self": null,
      "border": null,
      "bottom": null,
      "display": null,
      "flex": null,
      "flex_flow": null,
      "grid_area": null,
      "grid_auto_columns": null,
      "grid_auto_flow": null,
      "grid_auto_rows": null,
      "grid_column": null,
      "grid_gap": null,
      "grid_row": null,
      "grid_template_areas": null,
      "grid_template_columns": null,
      "grid_template_rows": null,
      "height": null,
      "justify_content": null,
      "justify_items": null,
      "left": null,
      "margin": null,
      "max_height": null,
      "max_width": null,
      "min_height": null,
      "min_width": null,
      "object_fit": null,
      "object_position": null,
      "order": null,
      "overflow": null,
      "overflow_x": null,
      "overflow_y": null,
      "padding": null,
      "right": null,
      "top": null,
      "visibility": null,
      "width": null
     }
    },
    "379578de48614db6a6e87763b2aeae73": {
     "model_module": "@jupyter-widgets/controls",
     "model_module_version": "1.5.0",
     "model_name": "ProgressStyleModel",
     "state": {
      "_model_module": "@jupyter-widgets/controls",
      "_model_module_version": "1.5.0",
      "_model_name": "ProgressStyleModel",
      "_view_count": null,
      "_view_module": "@jupyter-widgets/base",
      "_view_module_version": "1.2.0",
      "_view_name": "StyleView",
      "bar_color": null,
      "description_width": ""
     }
    },
    "37bdf2088d0742f19369e0d471b962d7": {
     "model_module": "@jupyter-widgets/base",
     "model_module_version": "1.2.0",
     "model_name": "LayoutModel",
     "state": {
      "_model_module": "@jupyter-widgets/base",
      "_model_module_version": "1.2.0",
      "_model_name": "LayoutModel",
      "_view_count": null,
      "_view_module": "@jupyter-widgets/base",
      "_view_module_version": "1.2.0",
      "_view_name": "LayoutView",
      "align_content": null,
      "align_items": null,
      "align_self": null,
      "border": null,
      "bottom": null,
      "display": null,
      "flex": null,
      "flex_flow": null,
      "grid_area": null,
      "grid_auto_columns": null,
      "grid_auto_flow": null,
      "grid_auto_rows": null,
      "grid_column": null,
      "grid_gap": null,
      "grid_row": null,
      "grid_template_areas": null,
      "grid_template_columns": null,
      "grid_template_rows": null,
      "height": null,
      "justify_content": null,
      "justify_items": null,
      "left": null,
      "margin": null,
      "max_height": null,
      "max_width": null,
      "min_height": null,
      "min_width": null,
      "object_fit": null,
      "object_position": null,
      "order": null,
      "overflow": null,
      "overflow_x": null,
      "overflow_y": null,
      "padding": null,
      "right": null,
      "top": null,
      "visibility": null,
      "width": null
     }
    },
    "39486b7691554ff4b9caea3965a9bc96": {
     "model_module": "@jupyter-widgets/controls",
     "model_module_version": "1.5.0",
     "model_name": "DescriptionStyleModel",
     "state": {
      "_model_module": "@jupyter-widgets/controls",
      "_model_module_version": "1.5.0",
      "_model_name": "DescriptionStyleModel",
      "_view_count": null,
      "_view_module": "@jupyter-widgets/base",
      "_view_module_version": "1.2.0",
      "_view_name": "StyleView",
      "description_width": ""
     }
    },
    "3c44422cf504415484cfe5fc2b1462de": {
     "model_module": "@jupyter-widgets/controls",
     "model_module_version": "1.5.0",
     "model_name": "FloatProgressModel",
     "state": {
      "_dom_classes": [],
      "_model_module": "@jupyter-widgets/controls",
      "_model_module_version": "1.5.0",
      "_model_name": "FloatProgressModel",
      "_view_count": null,
      "_view_module": "@jupyter-widgets/controls",
      "_view_module_version": "1.5.0",
      "_view_name": "ProgressView",
      "bar_style": "success",
      "description": "",
      "description_tooltip": null,
      "layout": "IPY_MODEL_6712670f3cfe46a1bf4db21c29f09e4e",
      "max": 50,
      "min": 0,
      "orientation": "horizontal",
      "style": "IPY_MODEL_577bba4263fd45c6a18d8e6e5301039c",
      "value": 50
     }
    },
    "3d1600a6937d4bb7bfbd15451cbfab22": {
     "model_module": "@jupyter-widgets/base",
     "model_module_version": "1.2.0",
     "model_name": "LayoutModel",
     "state": {
      "_model_module": "@jupyter-widgets/base",
      "_model_module_version": "1.2.0",
      "_model_name": "LayoutModel",
      "_view_count": null,
      "_view_module": "@jupyter-widgets/base",
      "_view_module_version": "1.2.0",
      "_view_name": "LayoutView",
      "align_content": null,
      "align_items": null,
      "align_self": null,
      "border": null,
      "bottom": null,
      "display": null,
      "flex": null,
      "flex_flow": null,
      "grid_area": null,
      "grid_auto_columns": null,
      "grid_auto_flow": null,
      "grid_auto_rows": null,
      "grid_column": null,
      "grid_gap": null,
      "grid_row": null,
      "grid_template_areas": null,
      "grid_template_columns": null,
      "grid_template_rows": null,
      "height": null,
      "justify_content": null,
      "justify_items": null,
      "left": null,
      "margin": null,
      "max_height": null,
      "max_width": null,
      "min_height": null,
      "min_width": null,
      "object_fit": null,
      "object_position": null,
      "order": null,
      "overflow": null,
      "overflow_x": null,
      "overflow_y": null,
      "padding": null,
      "right": null,
      "top": null,
      "visibility": null,
      "width": null
     }
    },
    "3d73c5ac883a4095b0ed26ea84d9319d": {
     "model_module": "@jupyter-widgets/base",
     "model_module_version": "1.2.0",
     "model_name": "LayoutModel",
     "state": {
      "_model_module": "@jupyter-widgets/base",
      "_model_module_version": "1.2.0",
      "_model_name": "LayoutModel",
      "_view_count": null,
      "_view_module": "@jupyter-widgets/base",
      "_view_module_version": "1.2.0",
      "_view_name": "LayoutView",
      "align_content": null,
      "align_items": null,
      "align_self": null,
      "border": null,
      "bottom": null,
      "display": null,
      "flex": null,
      "flex_flow": null,
      "grid_area": null,
      "grid_auto_columns": null,
      "grid_auto_flow": null,
      "grid_auto_rows": null,
      "grid_column": null,
      "grid_gap": null,
      "grid_row": null,
      "grid_template_areas": null,
      "grid_template_columns": null,
      "grid_template_rows": null,
      "height": null,
      "justify_content": null,
      "justify_items": null,
      "left": null,
      "margin": null,
      "max_height": null,
      "max_width": null,
      "min_height": null,
      "min_width": null,
      "object_fit": null,
      "object_position": null,
      "order": null,
      "overflow": null,
      "overflow_x": null,
      "overflow_y": null,
      "padding": null,
      "right": null,
      "top": null,
      "visibility": null,
      "width": null
     }
    },
    "3eb82fea4066408599abb2ce2e293149": {
     "model_module": "@jupyter-widgets/controls",
     "model_module_version": "1.5.0",
     "model_name": "HTMLModel",
     "state": {
      "_dom_classes": [],
      "_model_module": "@jupyter-widgets/controls",
      "_model_module_version": "1.5.0",
      "_model_name": "HTMLModel",
      "_view_count": null,
      "_view_module": "@jupyter-widgets/controls",
      "_view_module_version": "1.5.0",
      "_view_name": "HTMLView",
      "description": "",
      "description_tooltip": null,
      "layout": "IPY_MODEL_4a625733b2f243ac9c33dc4a5f258c38",
      "placeholder": "​",
      "style": "IPY_MODEL_e6e4c6403bef48ab9cef2c11c26ddc23",
      "value": "llm_classify "
     }
    },
    "3f092c7a41c448be99dc6adf83167102": {
     "model_module": "@jupyter-widgets/controls",
     "model_module_version": "1.5.0",
     "model_name": "HTMLModel",
     "state": {
      "_dom_classes": [],
      "_model_module": "@jupyter-widgets/controls",
      "_model_module_version": "1.5.0",
      "_model_name": "HTMLModel",
      "_view_count": null,
      "_view_module": "@jupyter-widgets/controls",
      "_view_module_version": "1.5.0",
      "_view_name": "HTMLView",
      "description": "",
      "description_tooltip": null,
      "layout": "IPY_MODEL_bf90eff40b5d4c608f3e584d375893bf",
      "placeholder": "​",
      "style": "IPY_MODEL_605ebcdc2b31470ebfa5f490887b9b1a",
      "value": "llm_classify "
     }
    },
    "411be36c9274477990eabb5da6153cc3": {
     "model_module": "@jupyter-widgets/controls",
     "model_module_version": "1.5.0",
     "model_name": "DescriptionStyleModel",
     "state": {
      "_model_module": "@jupyter-widgets/controls",
      "_model_module_version": "1.5.0",
      "_model_name": "DescriptionStyleModel",
      "_view_count": null,
      "_view_module": "@jupyter-widgets/base",
      "_view_module_version": "1.2.0",
      "_view_name": "StyleView",
      "description_width": ""
     }
    },
    "42e00d4488834b9087a0826344082203": {
     "model_module": "@jupyter-widgets/base",
     "model_module_version": "1.2.0",
     "model_name": "LayoutModel",
     "state": {
      "_model_module": "@jupyter-widgets/base",
      "_model_module_version": "1.2.0",
      "_model_name": "LayoutModel",
      "_view_count": null,
      "_view_module": "@jupyter-widgets/base",
      "_view_module_version": "1.2.0",
      "_view_name": "LayoutView",
      "align_content": null,
      "align_items": null,
      "align_self": null,
      "border": null,
      "bottom": null,
      "display": null,
      "flex": null,
      "flex_flow": null,
      "grid_area": null,
      "grid_auto_columns": null,
      "grid_auto_flow": null,
      "grid_auto_rows": null,
      "grid_column": null,
      "grid_gap": null,
      "grid_row": null,
      "grid_template_areas": null,
      "grid_template_columns": null,
      "grid_template_rows": null,
      "height": null,
      "justify_content": null,
      "justify_items": null,
      "left": null,
      "margin": null,
      "max_height": null,
      "max_width": null,
      "min_height": null,
      "min_width": null,
      "object_fit": null,
      "object_position": null,
      "order": null,
      "overflow": null,
      "overflow_x": null,
      "overflow_y": null,
      "padding": null,
      "right": null,
      "top": null,
      "visibility": null,
      "width": null
     }
    },
    "43541e6f77ee488893a556e337a3cb9f": {
     "model_module": "@jupyter-widgets/base",
     "model_module_version": "1.2.0",
     "model_name": "LayoutModel",
     "state": {
      "_model_module": "@jupyter-widgets/base",
      "_model_module_version": "1.2.0",
      "_model_name": "LayoutModel",
      "_view_count": null,
      "_view_module": "@jupyter-widgets/base",
      "_view_module_version": "1.2.0",
      "_view_name": "LayoutView",
      "align_content": null,
      "align_items": null,
      "align_self": null,
      "border": null,
      "bottom": null,
      "display": null,
      "flex": null,
      "flex_flow": null,
      "grid_area": null,
      "grid_auto_columns": null,
      "grid_auto_flow": null,
      "grid_auto_rows": null,
      "grid_column": null,
      "grid_gap": null,
      "grid_row": null,
      "grid_template_areas": null,
      "grid_template_columns": null,
      "grid_template_rows": null,
      "height": null,
      "justify_content": null,
      "justify_items": null,
      "left": null,
      "margin": null,
      "max_height": null,
      "max_width": null,
      "min_height": null,
      "min_width": null,
      "object_fit": null,
      "object_position": null,
      "order": null,
      "overflow": null,
      "overflow_x": null,
      "overflow_y": null,
      "padding": null,
      "right": null,
      "top": null,
      "visibility": null,
      "width": null
     }
    },
    "4542f1e2133d4dfa9e43adc5ab5a58d2": {
     "model_module": "@jupyter-widgets/controls",
     "model_module_version": "1.5.0",
     "model_name": "DescriptionStyleModel",
     "state": {
      "_model_module": "@jupyter-widgets/controls",
      "_model_module_version": "1.5.0",
      "_model_name": "DescriptionStyleModel",
      "_view_count": null,
      "_view_module": "@jupyter-widgets/base",
      "_view_module_version": "1.2.0",
      "_view_name": "StyleView",
      "description_width": ""
     }
    },
    "4618a74e31d84e4f89a91bd2149fe18a": {
     "model_module": "@jupyter-widgets/base",
     "model_module_version": "1.2.0",
     "model_name": "LayoutModel",
     "state": {
      "_model_module": "@jupyter-widgets/base",
      "_model_module_version": "1.2.0",
      "_model_name": "LayoutModel",
      "_view_count": null,
      "_view_module": "@jupyter-widgets/base",
      "_view_module_version": "1.2.0",
      "_view_name": "LayoutView",
      "align_content": null,
      "align_items": null,
      "align_self": null,
      "border": null,
      "bottom": null,
      "display": null,
      "flex": null,
      "flex_flow": null,
      "grid_area": null,
      "grid_auto_columns": null,
      "grid_auto_flow": null,
      "grid_auto_rows": null,
      "grid_column": null,
      "grid_gap": null,
      "grid_row": null,
      "grid_template_areas": null,
      "grid_template_columns": null,
      "grid_template_rows": null,
      "height": null,
      "justify_content": null,
      "justify_items": null,
      "left": null,
      "margin": null,
      "max_height": null,
      "max_width": null,
      "min_height": null,
      "min_width": null,
      "object_fit": null,
      "object_position": null,
      "order": null,
      "overflow": null,
      "overflow_x": null,
      "overflow_y": null,
      "padding": null,
      "right": null,
      "top": null,
      "visibility": null,
      "width": null
     }
    },
    "4671d2ae6edd4795b908c0fa46914774": {
     "model_module": "@jupyter-widgets/controls",
     "model_module_version": "1.5.0",
     "model_name": "ProgressStyleModel",
     "state": {
      "_model_module": "@jupyter-widgets/controls",
      "_model_module_version": "1.5.0",
      "_model_name": "ProgressStyleModel",
      "_view_count": null,
      "_view_module": "@jupyter-widgets/base",
      "_view_module_version": "1.2.0",
      "_view_name": "StyleView",
      "bar_color": null,
      "description_width": ""
     }
    },
    "4676355f035a419da778bad037a6fbe3": {
     "model_module": "@jupyter-widgets/base",
     "model_module_version": "1.2.0",
     "model_name": "LayoutModel",
     "state": {
      "_model_module": "@jupyter-widgets/base",
      "_model_module_version": "1.2.0",
      "_model_name": "LayoutModel",
      "_view_count": null,
      "_view_module": "@jupyter-widgets/base",
      "_view_module_version": "1.2.0",
      "_view_name": "LayoutView",
      "align_content": null,
      "align_items": null,
      "align_self": null,
      "border": null,
      "bottom": null,
      "display": null,
      "flex": null,
      "flex_flow": null,
      "grid_area": null,
      "grid_auto_columns": null,
      "grid_auto_flow": null,
      "grid_auto_rows": null,
      "grid_column": null,
      "grid_gap": null,
      "grid_row": null,
      "grid_template_areas": null,
      "grid_template_columns": null,
      "grid_template_rows": null,
      "height": null,
      "justify_content": null,
      "justify_items": null,
      "left": null,
      "margin": null,
      "max_height": null,
      "max_width": null,
      "min_height": null,
      "min_width": null,
      "object_fit": null,
      "object_position": null,
      "order": null,
      "overflow": null,
      "overflow_x": null,
      "overflow_y": null,
      "padding": null,
      "right": null,
      "top": null,
      "visibility": null,
      "width": null
     }
    },
    "482bec72a39043b2b3814eb9349f7e13": {
     "model_module": "@jupyter-widgets/controls",
     "model_module_version": "1.5.0",
     "model_name": "HTMLModel",
     "state": {
      "_dom_classes": [],
      "_model_module": "@jupyter-widgets/controls",
      "_model_module_version": "1.5.0",
      "_model_name": "HTMLModel",
      "_view_count": null,
      "_view_module": "@jupyter-widgets/controls",
      "_view_module_version": "1.5.0",
      "_view_name": "HTMLView",
      "description": "",
      "description_tooltip": null,
      "layout": "IPY_MODEL_e124db4c6e0b412c9a66b2d7d01c667b",
      "placeholder": "​",
      "style": "IPY_MODEL_a709e1d3d47447f8a9e9c7799cf203bb",
      "value": "llm_classify "
     }
    },
    "4964b79ea3c34b2ba96b35a6d8ae1818": {
     "model_module": "@jupyter-widgets/controls",
     "model_module_version": "1.5.0",
     "model_name": "HTMLModel",
     "state": {
      "_dom_classes": [],
      "_model_module": "@jupyter-widgets/controls",
      "_model_module_version": "1.5.0",
      "_model_name": "HTMLModel",
      "_view_count": null,
      "_view_module": "@jupyter-widgets/controls",
      "_view_module_version": "1.5.0",
      "_view_name": "HTMLView",
      "description": "",
      "description_tooltip": null,
      "layout": "IPY_MODEL_08caa698da9043119f38bf8748f7db81",
      "placeholder": "​",
      "style": "IPY_MODEL_9396cc88ad0c47dd8663457ced805760",
      "value": "llm_classify "
     }
    },
    "4996d7266fde4157acc9ff1401f4761c": {
     "model_module": "@jupyter-widgets/controls",
     "model_module_version": "1.5.0",
     "model_name": "HBoxModel",
     "state": {
      "_dom_classes": [],
      "_model_module": "@jupyter-widgets/controls",
      "_model_module_version": "1.5.0",
      "_model_name": "HBoxModel",
      "_view_count": null,
      "_view_module": "@jupyter-widgets/controls",
      "_view_module_version": "1.5.0",
      "_view_name": "HBoxView",
      "box_style": "",
      "children": [
       "IPY_MODEL_bff58900101145d3855868a6bdc57090",
       "IPY_MODEL_c438eb3b3d174d88b61903c3a4b36cb8",
       "IPY_MODEL_fa7be9de059f44adb92c228f931eeba2"
      ],
      "layout": "IPY_MODEL_8507c52d3901493ba12674b07d726dbf"
     }
    },
    "4a625733b2f243ac9c33dc4a5f258c38": {
     "model_module": "@jupyter-widgets/base",
     "model_module_version": "1.2.0",
     "model_name": "LayoutModel",
     "state": {
      "_model_module": "@jupyter-widgets/base",
      "_model_module_version": "1.2.0",
      "_model_name": "LayoutModel",
      "_view_count": null,
      "_view_module": "@jupyter-widgets/base",
      "_view_module_version": "1.2.0",
      "_view_name": "LayoutView",
      "align_content": null,
      "align_items": null,
      "align_self": null,
      "border": null,
      "bottom": null,
      "display": null,
      "flex": null,
      "flex_flow": null,
      "grid_area": null,
      "grid_auto_columns": null,
      "grid_auto_flow": null,
      "grid_auto_rows": null,
      "grid_column": null,
      "grid_gap": null,
      "grid_row": null,
      "grid_template_areas": null,
      "grid_template_columns": null,
      "grid_template_rows": null,
      "height": null,
      "justify_content": null,
      "justify_items": null,
      "left": null,
      "margin": null,
      "max_height": null,
      "max_width": null,
      "min_height": null,
      "min_width": null,
      "object_fit": null,
      "object_position": null,
      "order": null,
      "overflow": null,
      "overflow_x": null,
      "overflow_y": null,
      "padding": null,
      "right": null,
      "top": null,
      "visibility": null,
      "width": null
     }
    },
    "4b3a652e84fa44129d3b2d985db82708": {
     "model_module": "@jupyter-widgets/controls",
     "model_module_version": "1.5.0",
     "model_name": "HTMLModel",
     "state": {
      "_dom_classes": [],
      "_model_module": "@jupyter-widgets/controls",
      "_model_module_version": "1.5.0",
      "_model_name": "HTMLModel",
      "_view_count": null,
      "_view_module": "@jupyter-widgets/controls",
      "_view_module_version": "1.5.0",
      "_view_name": "HTMLView",
      "description": "",
      "description_tooltip": null,
      "layout": "IPY_MODEL_b8a2b2a494b04a82ad16408f0eeeed36",
      "placeholder": "​",
      "style": "IPY_MODEL_411be36c9274477990eabb5da6153cc3",
      "value": " 50/50 (100.0%) | ⏳ 00:06&lt;00:00 | 10.91it/s"
     }
    },
    "4bf0a490d71041b1889da9c19c5c8057": {
     "model_module": "@jupyter-widgets/controls",
     "model_module_version": "1.5.0",
     "model_name": "ProgressStyleModel",
     "state": {
      "_model_module": "@jupyter-widgets/controls",
      "_model_module_version": "1.5.0",
      "_model_name": "ProgressStyleModel",
      "_view_count": null,
      "_view_module": "@jupyter-widgets/base",
      "_view_module_version": "1.2.0",
      "_view_name": "StyleView",
      "bar_color": null,
      "description_width": ""
     }
    },
    "50da8328f9254e3bbf3fe53ef0f7d86a": {
     "model_module": "@jupyter-widgets/controls",
     "model_module_version": "1.5.0",
     "model_name": "FloatProgressModel",
     "state": {
      "_dom_classes": [],
      "_model_module": "@jupyter-widgets/controls",
      "_model_module_version": "1.5.0",
      "_model_name": "FloatProgressModel",
      "_view_count": null,
      "_view_module": "@jupyter-widgets/controls",
      "_view_module_version": "1.5.0",
      "_view_name": "ProgressView",
      "bar_style": "success",
      "description": "",
      "description_tooltip": null,
      "layout": "IPY_MODEL_04be0dd1a86e4c598a571c44e90ed3fe",
      "max": 50,
      "min": 0,
      "orientation": "horizontal",
      "style": "IPY_MODEL_b75ea2e7d2ce4e6396b3d23f3b3fc3c8",
      "value": 50
     }
    },
    "512f49c003804eacb20e4248e220c322": {
     "model_module": "@jupyter-widgets/controls",
     "model_module_version": "1.5.0",
     "model_name": "HBoxModel",
     "state": {
      "_dom_classes": [],
      "_model_module": "@jupyter-widgets/controls",
      "_model_module_version": "1.5.0",
      "_model_name": "HBoxModel",
      "_view_count": null,
      "_view_module": "@jupyter-widgets/controls",
      "_view_module_version": "1.5.0",
      "_view_name": "HBoxView",
      "box_style": "",
      "children": [
       "IPY_MODEL_fa622655d72d4dd59b85468b0e772055",
       "IPY_MODEL_f7836fd503bc487daf91df5bd30b39a8",
       "IPY_MODEL_0f40e003e34749aab79b22a16c4f505f"
      ],
      "layout": "IPY_MODEL_ae873eaf5fe1499cadd181cc0317ac85"
     }
    },
    "51856f4b2abb42e28b8512ed3cbc04e5": {
     "model_module": "@jupyter-widgets/controls",
     "model_module_version": "1.5.0",
     "model_name": "HTMLModel",
     "state": {
      "_dom_classes": [],
      "_model_module": "@jupyter-widgets/controls",
      "_model_module_version": "1.5.0",
      "_model_name": "HTMLModel",
      "_view_count": null,
      "_view_module": "@jupyter-widgets/controls",
      "_view_module_version": "1.5.0",
      "_view_name": "HTMLView",
      "description": "",
      "description_tooltip": null,
      "layout": "IPY_MODEL_effb5ac887a3499dafb876838b86d6df",
      "placeholder": "​",
      "style": "IPY_MODEL_b4129e949db94bf397996951e2ac79b6",
      "value": "llm_classify "
     }
    },
    "5190ada18928465ca72c5462f57538a3": {
     "model_module": "@jupyter-widgets/controls",
     "model_module_version": "1.5.0",
     "model_name": "HTMLModel",
     "state": {
      "_dom_classes": [],
      "_model_module": "@jupyter-widgets/controls",
      "_model_module_version": "1.5.0",
      "_model_name": "HTMLModel",
      "_view_count": null,
      "_view_module": "@jupyter-widgets/controls",
      "_view_module_version": "1.5.0",
      "_view_name": "HTMLView",
      "description": "",
      "description_tooltip": null,
      "layout": "IPY_MODEL_d80c595eea19496fa293f676263d9038",
      "placeholder": "​",
      "style": "IPY_MODEL_9b9c9a69d6514b5b9d136dd6fc9456a2",
      "value": " 50/50 (100.0%) | ⏳ 00:59&lt;00:00 |  1.12it/s"
     }
    },
    "5396e59cab674909b958a91e0c23980c": {
     "model_module": "@jupyter-widgets/controls",
     "model_module_version": "1.5.0",
     "model_name": "DescriptionStyleModel",
     "state": {
      "_model_module": "@jupyter-widgets/controls",
      "_model_module_version": "1.5.0",
      "_model_name": "DescriptionStyleModel",
      "_view_count": null,
      "_view_module": "@jupyter-widgets/base",
      "_view_module_version": "1.2.0",
      "_view_name": "StyleView",
      "description_width": ""
     }
    },
    "5669a990c18a47d0bd699ada4c9c84f8": {
     "model_module": "@jupyter-widgets/controls",
     "model_module_version": "1.5.0",
     "model_name": "DescriptionStyleModel",
     "state": {
      "_model_module": "@jupyter-widgets/controls",
      "_model_module_version": "1.5.0",
      "_model_name": "DescriptionStyleModel",
      "_view_count": null,
      "_view_module": "@jupyter-widgets/base",
      "_view_module_version": "1.2.0",
      "_view_name": "StyleView",
      "description_width": ""
     }
    },
    "577bba4263fd45c6a18d8e6e5301039c": {
     "model_module": "@jupyter-widgets/controls",
     "model_module_version": "1.5.0",
     "model_name": "ProgressStyleModel",
     "state": {
      "_model_module": "@jupyter-widgets/controls",
      "_model_module_version": "1.5.0",
      "_model_name": "ProgressStyleModel",
      "_view_count": null,
      "_view_module": "@jupyter-widgets/base",
      "_view_module_version": "1.2.0",
      "_view_name": "StyleView",
      "bar_color": null,
      "description_width": ""
     }
    },
    "58ab9e780b1b44d0bd2e525d41992a06": {
     "model_module": "@jupyter-widgets/base",
     "model_module_version": "1.2.0",
     "model_name": "LayoutModel",
     "state": {
      "_model_module": "@jupyter-widgets/base",
      "_model_module_version": "1.2.0",
      "_model_name": "LayoutModel",
      "_view_count": null,
      "_view_module": "@jupyter-widgets/base",
      "_view_module_version": "1.2.0",
      "_view_name": "LayoutView",
      "align_content": null,
      "align_items": null,
      "align_self": null,
      "border": null,
      "bottom": null,
      "display": null,
      "flex": null,
      "flex_flow": null,
      "grid_area": null,
      "grid_auto_columns": null,
      "grid_auto_flow": null,
      "grid_auto_rows": null,
      "grid_column": null,
      "grid_gap": null,
      "grid_row": null,
      "grid_template_areas": null,
      "grid_template_columns": null,
      "grid_template_rows": null,
      "height": null,
      "justify_content": null,
      "justify_items": null,
      "left": null,
      "margin": null,
      "max_height": null,
      "max_width": null,
      "min_height": null,
      "min_width": null,
      "object_fit": null,
      "object_position": null,
      "order": null,
      "overflow": null,
      "overflow_x": null,
      "overflow_y": null,
      "padding": null,
      "right": null,
      "top": null,
      "visibility": null,
      "width": null
     }
    },
    "5b03048ea7824fa99e1d5514a278e982": {
     "model_module": "@jupyter-widgets/controls",
     "model_module_version": "1.5.0",
     "model_name": "ProgressStyleModel",
     "state": {
      "_model_module": "@jupyter-widgets/controls",
      "_model_module_version": "1.5.0",
      "_model_name": "ProgressStyleModel",
      "_view_count": null,
      "_view_module": "@jupyter-widgets/base",
      "_view_module_version": "1.2.0",
      "_view_name": "StyleView",
      "bar_color": null,
      "description_width": ""
     }
    },
    "605ebcdc2b31470ebfa5f490887b9b1a": {
     "model_module": "@jupyter-widgets/controls",
     "model_module_version": "1.5.0",
     "model_name": "DescriptionStyleModel",
     "state": {
      "_model_module": "@jupyter-widgets/controls",
      "_model_module_version": "1.5.0",
      "_model_name": "DescriptionStyleModel",
      "_view_count": null,
      "_view_module": "@jupyter-widgets/base",
      "_view_module_version": "1.2.0",
      "_view_name": "StyleView",
      "description_width": ""
     }
    },
    "606b36ab9b784ce4ad22c2d0fddadc98": {
     "model_module": "@jupyter-widgets/controls",
     "model_module_version": "1.5.0",
     "model_name": "DescriptionStyleModel",
     "state": {
      "_model_module": "@jupyter-widgets/controls",
      "_model_module_version": "1.5.0",
      "_model_name": "DescriptionStyleModel",
      "_view_count": null,
      "_view_module": "@jupyter-widgets/base",
      "_view_module_version": "1.2.0",
      "_view_name": "StyleView",
      "description_width": ""
     }
    },
    "60c8d5ab7f00483e934fec40112cda49": {
     "model_module": "@jupyter-widgets/controls",
     "model_module_version": "1.5.0",
     "model_name": "FloatProgressModel",
     "state": {
      "_dom_classes": [],
      "_model_module": "@jupyter-widgets/controls",
      "_model_module_version": "1.5.0",
      "_model_name": "FloatProgressModel",
      "_view_count": null,
      "_view_module": "@jupyter-widgets/controls",
      "_view_module_version": "1.5.0",
      "_view_name": "ProgressView",
      "bar_style": "success",
      "description": "",
      "description_tooltip": null,
      "layout": "IPY_MODEL_cfc422161be34780b6889c52ffb7bfd5",
      "max": 50,
      "min": 0,
      "orientation": "horizontal",
      "style": "IPY_MODEL_d21536d884824c0eadb60e76252b6ad8",
      "value": 50
     }
    },
    "622640cbbe0b45818e786bffdb72014f": {
     "model_module": "@jupyter-widgets/controls",
     "model_module_version": "1.5.0",
     "model_name": "ProgressStyleModel",
     "state": {
      "_model_module": "@jupyter-widgets/controls",
      "_model_module_version": "1.5.0",
      "_model_name": "ProgressStyleModel",
      "_view_count": null,
      "_view_module": "@jupyter-widgets/base",
      "_view_module_version": "1.2.0",
      "_view_name": "StyleView",
      "bar_color": null,
      "description_width": ""
     }
    },
    "627b5824ab3944d8a4d63dd7dba91000": {
     "model_module": "@jupyter-widgets/base",
     "model_module_version": "1.2.0",
     "model_name": "LayoutModel",
     "state": {
      "_model_module": "@jupyter-widgets/base",
      "_model_module_version": "1.2.0",
      "_model_name": "LayoutModel",
      "_view_count": null,
      "_view_module": "@jupyter-widgets/base",
      "_view_module_version": "1.2.0",
      "_view_name": "LayoutView",
      "align_content": null,
      "align_items": null,
      "align_self": null,
      "border": null,
      "bottom": null,
      "display": null,
      "flex": null,
      "flex_flow": null,
      "grid_area": null,
      "grid_auto_columns": null,
      "grid_auto_flow": null,
      "grid_auto_rows": null,
      "grid_column": null,
      "grid_gap": null,
      "grid_row": null,
      "grid_template_areas": null,
      "grid_template_columns": null,
      "grid_template_rows": null,
      "height": null,
      "justify_content": null,
      "justify_items": null,
      "left": null,
      "margin": null,
      "max_height": null,
      "max_width": null,
      "min_height": null,
      "min_width": null,
      "object_fit": null,
      "object_position": null,
      "order": null,
      "overflow": null,
      "overflow_x": null,
      "overflow_y": null,
      "padding": null,
      "right": null,
      "top": null,
      "visibility": null,
      "width": null
     }
    },
    "642c2a52213f4321a4331e3942cc6e72": {
     "model_module": "@jupyter-widgets/controls",
     "model_module_version": "1.5.0",
     "model_name": "HTMLModel",
     "state": {
      "_dom_classes": [],
      "_model_module": "@jupyter-widgets/controls",
      "_model_module_version": "1.5.0",
      "_model_name": "HTMLModel",
      "_view_count": null,
      "_view_module": "@jupyter-widgets/controls",
      "_view_module_version": "1.5.0",
      "_view_name": "HTMLView",
      "description": "",
      "description_tooltip": null,
      "layout": "IPY_MODEL_d7db67e5781d41b4bff04bb596f8491e",
      "placeholder": "​",
      "style": "IPY_MODEL_5396e59cab674909b958a91e0c23980c",
      "value": " 50/50 (100.0%) | ⏳ 01:52&lt;00:00 |  3.78it/s"
     }
    },
    "6712670f3cfe46a1bf4db21c29f09e4e": {
     "model_module": "@jupyter-widgets/base",
     "model_module_version": "1.2.0",
     "model_name": "LayoutModel",
     "state": {
      "_model_module": "@jupyter-widgets/base",
      "_model_module_version": "1.2.0",
      "_model_name": "LayoutModel",
      "_view_count": null,
      "_view_module": "@jupyter-widgets/base",
      "_view_module_version": "1.2.0",
      "_view_name": "LayoutView",
      "align_content": null,
      "align_items": null,
      "align_self": null,
      "border": null,
      "bottom": null,
      "display": null,
      "flex": null,
      "flex_flow": null,
      "grid_area": null,
      "grid_auto_columns": null,
      "grid_auto_flow": null,
      "grid_auto_rows": null,
      "grid_column": null,
      "grid_gap": null,
      "grid_row": null,
      "grid_template_areas": null,
      "grid_template_columns": null,
      "grid_template_rows": null,
      "height": null,
      "justify_content": null,
      "justify_items": null,
      "left": null,
      "margin": null,
      "max_height": null,
      "max_width": null,
      "min_height": null,
      "min_width": null,
      "object_fit": null,
      "object_position": null,
      "order": null,
      "overflow": null,
      "overflow_x": null,
      "overflow_y": null,
      "padding": null,
      "right": null,
      "top": null,
      "visibility": null,
      "width": null
     }
    },
    "711e731d43a04d42bb84e02aac16c71e": {
     "model_module": "@jupyter-widgets/base",
     "model_module_version": "1.2.0",
     "model_name": "LayoutModel",
     "state": {
      "_model_module": "@jupyter-widgets/base",
      "_model_module_version": "1.2.0",
      "_model_name": "LayoutModel",
      "_view_count": null,
      "_view_module": "@jupyter-widgets/base",
      "_view_module_version": "1.2.0",
      "_view_name": "LayoutView",
      "align_content": null,
      "align_items": null,
      "align_self": null,
      "border": null,
      "bottom": null,
      "display": null,
      "flex": null,
      "flex_flow": null,
      "grid_area": null,
      "grid_auto_columns": null,
      "grid_auto_flow": null,
      "grid_auto_rows": null,
      "grid_column": null,
      "grid_gap": null,
      "grid_row": null,
      "grid_template_areas": null,
      "grid_template_columns": null,
      "grid_template_rows": null,
      "height": null,
      "justify_content": null,
      "justify_items": null,
      "left": null,
      "margin": null,
      "max_height": null,
      "max_width": null,
      "min_height": null,
      "min_width": null,
      "object_fit": null,
      "object_position": null,
      "order": null,
      "overflow": null,
      "overflow_x": null,
      "overflow_y": null,
      "padding": null,
      "right": null,
      "top": null,
      "visibility": null,
      "width": null
     }
    },
    "7517c996509e4d598b5137c5146ebcfc": {
     "model_module": "@jupyter-widgets/controls",
     "model_module_version": "1.5.0",
     "model_name": "DescriptionStyleModel",
     "state": {
      "_model_module": "@jupyter-widgets/controls",
      "_model_module_version": "1.5.0",
      "_model_name": "DescriptionStyleModel",
      "_view_count": null,
      "_view_module": "@jupyter-widgets/base",
      "_view_module_version": "1.2.0",
      "_view_name": "StyleView",
      "description_width": ""
     }
    },
    "76501301855b45cd9671e604ddacdf80": {
     "model_module": "@jupyter-widgets/base",
     "model_module_version": "1.2.0",
     "model_name": "LayoutModel",
     "state": {
      "_model_module": "@jupyter-widgets/base",
      "_model_module_version": "1.2.0",
      "_model_name": "LayoutModel",
      "_view_count": null,
      "_view_module": "@jupyter-widgets/base",
      "_view_module_version": "1.2.0",
      "_view_name": "LayoutView",
      "align_content": null,
      "align_items": null,
      "align_self": null,
      "border": null,
      "bottom": null,
      "display": null,
      "flex": null,
      "flex_flow": null,
      "grid_area": null,
      "grid_auto_columns": null,
      "grid_auto_flow": null,
      "grid_auto_rows": null,
      "grid_column": null,
      "grid_gap": null,
      "grid_row": null,
      "grid_template_areas": null,
      "grid_template_columns": null,
      "grid_template_rows": null,
      "height": null,
      "justify_content": null,
      "justify_items": null,
      "left": null,
      "margin": null,
      "max_height": null,
      "max_width": null,
      "min_height": null,
      "min_width": null,
      "object_fit": null,
      "object_position": null,
      "order": null,
      "overflow": null,
      "overflow_x": null,
      "overflow_y": null,
      "padding": null,
      "right": null,
      "top": null,
      "visibility": null,
      "width": null
     }
    },
    "766ef5005ce74254a49f1be8d433283e": {
     "model_module": "@jupyter-widgets/base",
     "model_module_version": "1.2.0",
     "model_name": "LayoutModel",
     "state": {
      "_model_module": "@jupyter-widgets/base",
      "_model_module_version": "1.2.0",
      "_model_name": "LayoutModel",
      "_view_count": null,
      "_view_module": "@jupyter-widgets/base",
      "_view_module_version": "1.2.0",
      "_view_name": "LayoutView",
      "align_content": null,
      "align_items": null,
      "align_self": null,
      "border": null,
      "bottom": null,
      "display": null,
      "flex": null,
      "flex_flow": null,
      "grid_area": null,
      "grid_auto_columns": null,
      "grid_auto_flow": null,
      "grid_auto_rows": null,
      "grid_column": null,
      "grid_gap": null,
      "grid_row": null,
      "grid_template_areas": null,
      "grid_template_columns": null,
      "grid_template_rows": null,
      "height": null,
      "justify_content": null,
      "justify_items": null,
      "left": null,
      "margin": null,
      "max_height": null,
      "max_width": null,
      "min_height": null,
      "min_width": null,
      "object_fit": null,
      "object_position": null,
      "order": null,
      "overflow": null,
      "overflow_x": null,
      "overflow_y": null,
      "padding": null,
      "right": null,
      "top": null,
      "visibility": null,
      "width": null
     }
    },
    "76bf7fcf2ed94bde9035f622bbaa5e26": {
     "model_module": "@jupyter-widgets/controls",
     "model_module_version": "1.5.0",
     "model_name": "DescriptionStyleModel",
     "state": {
      "_model_module": "@jupyter-widgets/controls",
      "_model_module_version": "1.5.0",
      "_model_name": "DescriptionStyleModel",
      "_view_count": null,
      "_view_module": "@jupyter-widgets/base",
      "_view_module_version": "1.2.0",
      "_view_name": "StyleView",
      "description_width": ""
     }
    },
    "77056d8f7c724d7788936fe2a06323cb": {
     "model_module": "@jupyter-widgets/base",
     "model_module_version": "1.2.0",
     "model_name": "LayoutModel",
     "state": {
      "_model_module": "@jupyter-widgets/base",
      "_model_module_version": "1.2.0",
      "_model_name": "LayoutModel",
      "_view_count": null,
      "_view_module": "@jupyter-widgets/base",
      "_view_module_version": "1.2.0",
      "_view_name": "LayoutView",
      "align_content": null,
      "align_items": null,
      "align_self": null,
      "border": null,
      "bottom": null,
      "display": null,
      "flex": null,
      "flex_flow": null,
      "grid_area": null,
      "grid_auto_columns": null,
      "grid_auto_flow": null,
      "grid_auto_rows": null,
      "grid_column": null,
      "grid_gap": null,
      "grid_row": null,
      "grid_template_areas": null,
      "grid_template_columns": null,
      "grid_template_rows": null,
      "height": null,
      "justify_content": null,
      "justify_items": null,
      "left": null,
      "margin": null,
      "max_height": null,
      "max_width": null,
      "min_height": null,
      "min_width": null,
      "object_fit": null,
      "object_position": null,
      "order": null,
      "overflow": null,
      "overflow_x": null,
      "overflow_y": null,
      "padding": null,
      "right": null,
      "top": null,
      "visibility": null,
      "width": null
     }
    },
    "778cb3afdc814a58b338ce741ef59b05": {
     "model_module": "@jupyter-widgets/base",
     "model_module_version": "1.2.0",
     "model_name": "LayoutModel",
     "state": {
      "_model_module": "@jupyter-widgets/base",
      "_model_module_version": "1.2.0",
      "_model_name": "LayoutModel",
      "_view_count": null,
      "_view_module": "@jupyter-widgets/base",
      "_view_module_version": "1.2.0",
      "_view_name": "LayoutView",
      "align_content": null,
      "align_items": null,
      "align_self": null,
      "border": null,
      "bottom": null,
      "display": null,
      "flex": null,
      "flex_flow": null,
      "grid_area": null,
      "grid_auto_columns": null,
      "grid_auto_flow": null,
      "grid_auto_rows": null,
      "grid_column": null,
      "grid_gap": null,
      "grid_row": null,
      "grid_template_areas": null,
      "grid_template_columns": null,
      "grid_template_rows": null,
      "height": null,
      "justify_content": null,
      "justify_items": null,
      "left": null,
      "margin": null,
      "max_height": null,
      "max_width": null,
      "min_height": null,
      "min_width": null,
      "object_fit": null,
      "object_position": null,
      "order": null,
      "overflow": null,
      "overflow_x": null,
      "overflow_y": null,
      "padding": null,
      "right": null,
      "top": null,
      "visibility": null,
      "width": null
     }
    },
    "7930307ad3c7495aa15c8ca369b66599": {
     "model_module": "@jupyter-widgets/controls",
     "model_module_version": "1.5.0",
     "model_name": "DescriptionStyleModel",
     "state": {
      "_model_module": "@jupyter-widgets/controls",
      "_model_module_version": "1.5.0",
      "_model_name": "DescriptionStyleModel",
      "_view_count": null,
      "_view_module": "@jupyter-widgets/base",
      "_view_module_version": "1.2.0",
      "_view_name": "StyleView",
      "description_width": ""
     }
    },
    "7c0f811a68a345878e5de572fd75de69": {
     "model_module": "@jupyter-widgets/base",
     "model_module_version": "1.2.0",
     "model_name": "LayoutModel",
     "state": {
      "_model_module": "@jupyter-widgets/base",
      "_model_module_version": "1.2.0",
      "_model_name": "LayoutModel",
      "_view_count": null,
      "_view_module": "@jupyter-widgets/base",
      "_view_module_version": "1.2.0",
      "_view_name": "LayoutView",
      "align_content": null,
      "align_items": null,
      "align_self": null,
      "border": null,
      "bottom": null,
      "display": null,
      "flex": null,
      "flex_flow": null,
      "grid_area": null,
      "grid_auto_columns": null,
      "grid_auto_flow": null,
      "grid_auto_rows": null,
      "grid_column": null,
      "grid_gap": null,
      "grid_row": null,
      "grid_template_areas": null,
      "grid_template_columns": null,
      "grid_template_rows": null,
      "height": null,
      "justify_content": null,
      "justify_items": null,
      "left": null,
      "margin": null,
      "max_height": null,
      "max_width": null,
      "min_height": null,
      "min_width": null,
      "object_fit": null,
      "object_position": null,
      "order": null,
      "overflow": null,
      "overflow_x": null,
      "overflow_y": null,
      "padding": null,
      "right": null,
      "top": null,
      "visibility": null,
      "width": null
     }
    },
    "7c53c64ad53d46ad80f15a732c442e47": {
     "model_module": "@jupyter-widgets/controls",
     "model_module_version": "1.5.0",
     "model_name": "DescriptionStyleModel",
     "state": {
      "_model_module": "@jupyter-widgets/controls",
      "_model_module_version": "1.5.0",
      "_model_name": "DescriptionStyleModel",
      "_view_count": null,
      "_view_module": "@jupyter-widgets/base",
      "_view_module_version": "1.2.0",
      "_view_name": "StyleView",
      "description_width": ""
     }
    },
    "7c677582a0d14b298dc91f34bd9fece2": {
     "model_module": "@jupyter-widgets/base",
     "model_module_version": "1.2.0",
     "model_name": "LayoutModel",
     "state": {
      "_model_module": "@jupyter-widgets/base",
      "_model_module_version": "1.2.0",
      "_model_name": "LayoutModel",
      "_view_count": null,
      "_view_module": "@jupyter-widgets/base",
      "_view_module_version": "1.2.0",
      "_view_name": "LayoutView",
      "align_content": null,
      "align_items": null,
      "align_self": null,
      "border": null,
      "bottom": null,
      "display": null,
      "flex": null,
      "flex_flow": null,
      "grid_area": null,
      "grid_auto_columns": null,
      "grid_auto_flow": null,
      "grid_auto_rows": null,
      "grid_column": null,
      "grid_gap": null,
      "grid_row": null,
      "grid_template_areas": null,
      "grid_template_columns": null,
      "grid_template_rows": null,
      "height": null,
      "justify_content": null,
      "justify_items": null,
      "left": null,
      "margin": null,
      "max_height": null,
      "max_width": null,
      "min_height": null,
      "min_width": null,
      "object_fit": null,
      "object_position": null,
      "order": null,
      "overflow": null,
      "overflow_x": null,
      "overflow_y": null,
      "padding": null,
      "right": null,
      "top": null,
      "visibility": null,
      "width": null
     }
    },
    "7d373aafb2524ccfb22ad2279d4d131e": {
     "model_module": "@jupyter-widgets/controls",
     "model_module_version": "1.5.0",
     "model_name": "HTMLModel",
     "state": {
      "_dom_classes": [],
      "_model_module": "@jupyter-widgets/controls",
      "_model_module_version": "1.5.0",
      "_model_name": "HTMLModel",
      "_view_count": null,
      "_view_module": "@jupyter-widgets/controls",
      "_view_module_version": "1.5.0",
      "_view_name": "HTMLView",
      "description": "",
      "description_tooltip": null,
      "layout": "IPY_MODEL_b72277075f634fe484ce0ab1173dcc19",
      "placeholder": "​",
      "style": "IPY_MODEL_5669a990c18a47d0bd699ada4c9c84f8",
      "value": " 50/50 (100.0%) | ⏳ 00:12&lt;00:00 |  5.88it/s"
     }
    },
    "7d8e8435773b4911b9731d1c8c33ea3c": {
     "model_module": "@jupyter-widgets/base",
     "model_module_version": "1.2.0",
     "model_name": "LayoutModel",
     "state": {
      "_model_module": "@jupyter-widgets/base",
      "_model_module_version": "1.2.0",
      "_model_name": "LayoutModel",
      "_view_count": null,
      "_view_module": "@jupyter-widgets/base",
      "_view_module_version": "1.2.0",
      "_view_name": "LayoutView",
      "align_content": null,
      "align_items": null,
      "align_self": null,
      "border": null,
      "bottom": null,
      "display": null,
      "flex": null,
      "flex_flow": null,
      "grid_area": null,
      "grid_auto_columns": null,
      "grid_auto_flow": null,
      "grid_auto_rows": null,
      "grid_column": null,
      "grid_gap": null,
      "grid_row": null,
      "grid_template_areas": null,
      "grid_template_columns": null,
      "grid_template_rows": null,
      "height": null,
      "justify_content": null,
      "justify_items": null,
      "left": null,
      "margin": null,
      "max_height": null,
      "max_width": null,
      "min_height": null,
      "min_width": null,
      "object_fit": null,
      "object_position": null,
      "order": null,
      "overflow": null,
      "overflow_x": null,
      "overflow_y": null,
      "padding": null,
      "right": null,
      "top": null,
      "visibility": null,
      "width": null
     }
    },
    "7eb61e3d5f7442099f12ada973daac56": {
     "model_module": "@jupyter-widgets/controls",
     "model_module_version": "1.5.0",
     "model_name": "DescriptionStyleModel",
     "state": {
      "_model_module": "@jupyter-widgets/controls",
      "_model_module_version": "1.5.0",
      "_model_name": "DescriptionStyleModel",
      "_view_count": null,
      "_view_module": "@jupyter-widgets/base",
      "_view_module_version": "1.2.0",
      "_view_name": "StyleView",
      "description_width": ""
     }
    },
    "7ecf338f287440fcb4ac44bc20f3e937": {
     "model_module": "@jupyter-widgets/controls",
     "model_module_version": "1.5.0",
     "model_name": "HBoxModel",
     "state": {
      "_dom_classes": [],
      "_model_module": "@jupyter-widgets/controls",
      "_model_module_version": "1.5.0",
      "_model_name": "HBoxModel",
      "_view_count": null,
      "_view_module": "@jupyter-widgets/controls",
      "_view_module_version": "1.5.0",
      "_view_name": "HBoxView",
      "box_style": "",
      "children": [
       "IPY_MODEL_d0b365e3771f46de9031ad5225240a6f",
       "IPY_MODEL_50da8328f9254e3bbf3fe53ef0f7d86a",
       "IPY_MODEL_1fb14a86620b4f2eb62db97604ee5a1a"
      ],
      "layout": "IPY_MODEL_19e70fb91b9d4fb7a28e22f9b614a57c"
     }
    },
    "7f9e108f0d6e4d97b61c63f0e5ed77de": {
     "model_module": "@jupyter-widgets/controls",
     "model_module_version": "1.5.0",
     "model_name": "DescriptionStyleModel",
     "state": {
      "_model_module": "@jupyter-widgets/controls",
      "_model_module_version": "1.5.0",
      "_model_name": "DescriptionStyleModel",
      "_view_count": null,
      "_view_module": "@jupyter-widgets/base",
      "_view_module_version": "1.2.0",
      "_view_name": "StyleView",
      "description_width": ""
     }
    },
    "8507c52d3901493ba12674b07d726dbf": {
     "model_module": "@jupyter-widgets/base",
     "model_module_version": "1.2.0",
     "model_name": "LayoutModel",
     "state": {
      "_model_module": "@jupyter-widgets/base",
      "_model_module_version": "1.2.0",
      "_model_name": "LayoutModel",
      "_view_count": null,
      "_view_module": "@jupyter-widgets/base",
      "_view_module_version": "1.2.0",
      "_view_name": "LayoutView",
      "align_content": null,
      "align_items": null,
      "align_self": null,
      "border": null,
      "bottom": null,
      "display": null,
      "flex": null,
      "flex_flow": null,
      "grid_area": null,
      "grid_auto_columns": null,
      "grid_auto_flow": null,
      "grid_auto_rows": null,
      "grid_column": null,
      "grid_gap": null,
      "grid_row": null,
      "grid_template_areas": null,
      "grid_template_columns": null,
      "grid_template_rows": null,
      "height": null,
      "justify_content": null,
      "justify_items": null,
      "left": null,
      "margin": null,
      "max_height": null,
      "max_width": null,
      "min_height": null,
      "min_width": null,
      "object_fit": null,
      "object_position": null,
      "order": null,
      "overflow": null,
      "overflow_x": null,
      "overflow_y": null,
      "padding": null,
      "right": null,
      "top": null,
      "visibility": null,
      "width": null
     }
    },
    "9204043311f2425a908d471d66f3acff": {
     "model_module": "@jupyter-widgets/base",
     "model_module_version": "1.2.0",
     "model_name": "LayoutModel",
     "state": {
      "_model_module": "@jupyter-widgets/base",
      "_model_module_version": "1.2.0",
      "_model_name": "LayoutModel",
      "_view_count": null,
      "_view_module": "@jupyter-widgets/base",
      "_view_module_version": "1.2.0",
      "_view_name": "LayoutView",
      "align_content": null,
      "align_items": null,
      "align_self": null,
      "border": null,
      "bottom": null,
      "display": null,
      "flex": null,
      "flex_flow": null,
      "grid_area": null,
      "grid_auto_columns": null,
      "grid_auto_flow": null,
      "grid_auto_rows": null,
      "grid_column": null,
      "grid_gap": null,
      "grid_row": null,
      "grid_template_areas": null,
      "grid_template_columns": null,
      "grid_template_rows": null,
      "height": null,
      "justify_content": null,
      "justify_items": null,
      "left": null,
      "margin": null,
      "max_height": null,
      "max_width": null,
      "min_height": null,
      "min_width": null,
      "object_fit": null,
      "object_position": null,
      "order": null,
      "overflow": null,
      "overflow_x": null,
      "overflow_y": null,
      "padding": null,
      "right": null,
      "top": null,
      "visibility": null,
      "width": null
     }
    },
    "92ce2ceac4c64c838bc3539a40f7d7d0": {
     "model_module": "@jupyter-widgets/controls",
     "model_module_version": "1.5.0",
     "model_name": "DescriptionStyleModel",
     "state": {
      "_model_module": "@jupyter-widgets/controls",
      "_model_module_version": "1.5.0",
      "_model_name": "DescriptionStyleModel",
      "_view_count": null,
      "_view_module": "@jupyter-widgets/base",
      "_view_module_version": "1.2.0",
      "_view_name": "StyleView",
      "description_width": ""
     }
    },
    "933bec8bb2fd48a6934d6c596f6385ba": {
     "model_module": "@jupyter-widgets/controls",
     "model_module_version": "1.5.0",
     "model_name": "FloatProgressModel",
     "state": {
      "_dom_classes": [],
      "_model_module": "@jupyter-widgets/controls",
      "_model_module_version": "1.5.0",
      "_model_name": "FloatProgressModel",
      "_view_count": null,
      "_view_module": "@jupyter-widgets/controls",
      "_view_module_version": "1.5.0",
      "_view_name": "ProgressView",
      "bar_style": "success",
      "description": "",
      "description_tooltip": null,
      "layout": "IPY_MODEL_766ef5005ce74254a49f1be8d433283e",
      "max": 50,
      "min": 0,
      "orientation": "horizontal",
      "style": "IPY_MODEL_08d3d7d62afa4f68a1a4fccdb7661e53",
      "value": 50
     }
    },
    "9340ce80be6945e799668fd55ecf069c": {
     "model_module": "@jupyter-widgets/controls",
     "model_module_version": "1.5.0",
     "model_name": "HTMLModel",
     "state": {
      "_dom_classes": [],
      "_model_module": "@jupyter-widgets/controls",
      "_model_module_version": "1.5.0",
      "_model_name": "HTMLModel",
      "_view_count": null,
      "_view_module": "@jupyter-widgets/controls",
      "_view_module_version": "1.5.0",
      "_view_name": "HTMLView",
      "description": "",
      "description_tooltip": null,
      "layout": "IPY_MODEL_de01151afe21413e8c51b9fbfeb43b10",
      "placeholder": "​",
      "style": "IPY_MODEL_7517c996509e4d598b5137c5146ebcfc",
      "value": "llm_classify "
     }
    },
    "93674f77b7cf47739d1cf31d9c04179a": {
     "model_module": "@jupyter-widgets/base",
     "model_module_version": "1.2.0",
     "model_name": "LayoutModel",
     "state": {
      "_model_module": "@jupyter-widgets/base",
      "_model_module_version": "1.2.0",
      "_model_name": "LayoutModel",
      "_view_count": null,
      "_view_module": "@jupyter-widgets/base",
      "_view_module_version": "1.2.0",
      "_view_name": "LayoutView",
      "align_content": null,
      "align_items": null,
      "align_self": null,
      "border": null,
      "bottom": null,
      "display": null,
      "flex": null,
      "flex_flow": null,
      "grid_area": null,
      "grid_auto_columns": null,
      "grid_auto_flow": null,
      "grid_auto_rows": null,
      "grid_column": null,
      "grid_gap": null,
      "grid_row": null,
      "grid_template_areas": null,
      "grid_template_columns": null,
      "grid_template_rows": null,
      "height": null,
      "justify_content": null,
      "justify_items": null,
      "left": null,
      "margin": null,
      "max_height": null,
      "max_width": null,
      "min_height": null,
      "min_width": null,
      "object_fit": null,
      "object_position": null,
      "order": null,
      "overflow": null,
      "overflow_x": null,
      "overflow_y": null,
      "padding": null,
      "right": null,
      "top": null,
      "visibility": null,
      "width": null
     }
    },
    "937133f8bd9c433183ba507a66ef0028": {
     "model_module": "@jupyter-widgets/controls",
     "model_module_version": "1.5.0",
     "model_name": "DescriptionStyleModel",
     "state": {
      "_model_module": "@jupyter-widgets/controls",
      "_model_module_version": "1.5.0",
      "_model_name": "DescriptionStyleModel",
      "_view_count": null,
      "_view_module": "@jupyter-widgets/base",
      "_view_module_version": "1.2.0",
      "_view_name": "StyleView",
      "description_width": ""
     }
    },
    "9396cc88ad0c47dd8663457ced805760": {
     "model_module": "@jupyter-widgets/controls",
     "model_module_version": "1.5.0",
     "model_name": "DescriptionStyleModel",
     "state": {
      "_model_module": "@jupyter-widgets/controls",
      "_model_module_version": "1.5.0",
      "_model_name": "DescriptionStyleModel",
      "_view_count": null,
      "_view_module": "@jupyter-widgets/base",
      "_view_module_version": "1.2.0",
      "_view_name": "StyleView",
      "description_width": ""
     }
    },
    "95a157a3f084434999683b2b62447088": {
     "model_module": "@jupyter-widgets/base",
     "model_module_version": "1.2.0",
     "model_name": "LayoutModel",
     "state": {
      "_model_module": "@jupyter-widgets/base",
      "_model_module_version": "1.2.0",
      "_model_name": "LayoutModel",
      "_view_count": null,
      "_view_module": "@jupyter-widgets/base",
      "_view_module_version": "1.2.0",
      "_view_name": "LayoutView",
      "align_content": null,
      "align_items": null,
      "align_self": null,
      "border": null,
      "bottom": null,
      "display": null,
      "flex": null,
      "flex_flow": null,
      "grid_area": null,
      "grid_auto_columns": null,
      "grid_auto_flow": null,
      "grid_auto_rows": null,
      "grid_column": null,
      "grid_gap": null,
      "grid_row": null,
      "grid_template_areas": null,
      "grid_template_columns": null,
      "grid_template_rows": null,
      "height": null,
      "justify_content": null,
      "justify_items": null,
      "left": null,
      "margin": null,
      "max_height": null,
      "max_width": null,
      "min_height": null,
      "min_width": null,
      "object_fit": null,
      "object_position": null,
      "order": null,
      "overflow": null,
      "overflow_x": null,
      "overflow_y": null,
      "padding": null,
      "right": null,
      "top": null,
      "visibility": null,
      "width": null
     }
    },
    "95c3a526924347998530a1ac32293a32": {
     "model_module": "@jupyter-widgets/base",
     "model_module_version": "1.2.0",
     "model_name": "LayoutModel",
     "state": {
      "_model_module": "@jupyter-widgets/base",
      "_model_module_version": "1.2.0",
      "_model_name": "LayoutModel",
      "_view_count": null,
      "_view_module": "@jupyter-widgets/base",
      "_view_module_version": "1.2.0",
      "_view_name": "LayoutView",
      "align_content": null,
      "align_items": null,
      "align_self": null,
      "border": null,
      "bottom": null,
      "display": null,
      "flex": null,
      "flex_flow": null,
      "grid_area": null,
      "grid_auto_columns": null,
      "grid_auto_flow": null,
      "grid_auto_rows": null,
      "grid_column": null,
      "grid_gap": null,
      "grid_row": null,
      "grid_template_areas": null,
      "grid_template_columns": null,
      "grid_template_rows": null,
      "height": null,
      "justify_content": null,
      "justify_items": null,
      "left": null,
      "margin": null,
      "max_height": null,
      "max_width": null,
      "min_height": null,
      "min_width": null,
      "object_fit": null,
      "object_position": null,
      "order": null,
      "overflow": null,
      "overflow_x": null,
      "overflow_y": null,
      "padding": null,
      "right": null,
      "top": null,
      "visibility": null,
      "width": null
     }
    },
    "9a163f2656ee4fb8a1d86d9b46ae79ff": {
     "model_module": "@jupyter-widgets/controls",
     "model_module_version": "1.5.0",
     "model_name": "HBoxModel",
     "state": {
      "_dom_classes": [],
      "_model_module": "@jupyter-widgets/controls",
      "_model_module_version": "1.5.0",
      "_model_name": "HBoxModel",
      "_view_count": null,
      "_view_module": "@jupyter-widgets/controls",
      "_view_module_version": "1.5.0",
      "_view_name": "HBoxView",
      "box_style": "",
      "children": [
       "IPY_MODEL_30dae31eba0f4730b3ccf16433f8aa86",
       "IPY_MODEL_ce9836d6041246daa1400dbd9f4d2967",
       "IPY_MODEL_e1891b6f10514bcca3e73b3239635778"
      ],
      "layout": "IPY_MODEL_0671b695303445148fd7a614fa465430"
     }
    },
    "9b9c9a69d6514b5b9d136dd6fc9456a2": {
     "model_module": "@jupyter-widgets/controls",
     "model_module_version": "1.5.0",
     "model_name": "DescriptionStyleModel",
     "state": {
      "_model_module": "@jupyter-widgets/controls",
      "_model_module_version": "1.5.0",
      "_model_name": "DescriptionStyleModel",
      "_view_count": null,
      "_view_module": "@jupyter-widgets/base",
      "_view_module_version": "1.2.0",
      "_view_name": "StyleView",
      "description_width": ""
     }
    },
    "9c060948dbc54815abaf16c7d20c4031": {
     "model_module": "@jupyter-widgets/controls",
     "model_module_version": "1.5.0",
     "model_name": "HTMLModel",
     "state": {
      "_dom_classes": [],
      "_model_module": "@jupyter-widgets/controls",
      "_model_module_version": "1.5.0",
      "_model_name": "HTMLModel",
      "_view_count": null,
      "_view_module": "@jupyter-widgets/controls",
      "_view_module_version": "1.5.0",
      "_view_name": "HTMLView",
      "description": "",
      "description_tooltip": null,
      "layout": "IPY_MODEL_f36cdebb6ed842c89902b1bde313c440",
      "placeholder": "​",
      "style": "IPY_MODEL_7eb61e3d5f7442099f12ada973daac56",
      "value": "llm_classify "
     }
    },
    "9c1341adab3042f0a7a9179f609a24b0": {
     "model_module": "@jupyter-widgets/base",
     "model_module_version": "1.2.0",
     "model_name": "LayoutModel",
     "state": {
      "_model_module": "@jupyter-widgets/base",
      "_model_module_version": "1.2.0",
      "_model_name": "LayoutModel",
      "_view_count": null,
      "_view_module": "@jupyter-widgets/base",
      "_view_module_version": "1.2.0",
      "_view_name": "LayoutView",
      "align_content": null,
      "align_items": null,
      "align_self": null,
      "border": null,
      "bottom": null,
      "display": null,
      "flex": null,
      "flex_flow": null,
      "grid_area": null,
      "grid_auto_columns": null,
      "grid_auto_flow": null,
      "grid_auto_rows": null,
      "grid_column": null,
      "grid_gap": null,
      "grid_row": null,
      "grid_template_areas": null,
      "grid_template_columns": null,
      "grid_template_rows": null,
      "height": null,
      "justify_content": null,
      "justify_items": null,
      "left": null,
      "margin": null,
      "max_height": null,
      "max_width": null,
      "min_height": null,
      "min_width": null,
      "object_fit": null,
      "object_position": null,
      "order": null,
      "overflow": null,
      "overflow_x": null,
      "overflow_y": null,
      "padding": null,
      "right": null,
      "top": null,
      "visibility": null,
      "width": null
     }
    },
    "9c35206b494c474f951d02dd9b16607d": {
     "model_module": "@jupyter-widgets/controls",
     "model_module_version": "1.5.0",
     "model_name": "HTMLModel",
     "state": {
      "_dom_classes": [],
      "_model_module": "@jupyter-widgets/controls",
      "_model_module_version": "1.5.0",
      "_model_name": "HTMLModel",
      "_view_count": null,
      "_view_module": "@jupyter-widgets/controls",
      "_view_module_version": "1.5.0",
      "_view_name": "HTMLView",
      "description": "",
      "description_tooltip": null,
      "layout": "IPY_MODEL_627b5824ab3944d8a4d63dd7dba91000",
      "placeholder": "​",
      "style": "IPY_MODEL_a347d8feb7ef4bc1acde6208a441cb43",
      "value": " 50/50 (100.0%) | ⏳ 01:50&lt;00:00 |  1.90s/it"
     }
    },
    "9fb3d9d5aaef4c05b357892853c81f43": {
     "model_module": "@jupyter-widgets/controls",
     "model_module_version": "1.5.0",
     "model_name": "FloatProgressModel",
     "state": {
      "_dom_classes": [],
      "_model_module": "@jupyter-widgets/controls",
      "_model_module_version": "1.5.0",
      "_model_name": "FloatProgressModel",
      "_view_count": null,
      "_view_module": "@jupyter-widgets/controls",
      "_view_module_version": "1.5.0",
      "_view_name": "ProgressView",
      "bar_style": "success",
      "description": "",
      "description_tooltip": null,
      "layout": "IPY_MODEL_156440b580b04bcaa81f33888f49578c",
      "max": 50,
      "min": 0,
      "orientation": "horizontal",
      "style": "IPY_MODEL_34b2dfd3cea341a59df1211aa145a3fa",
      "value": 50
     }
    },
    "a2b1c3494d0344b5a69e2faa3991c3bc": {
     "model_module": "@jupyter-widgets/controls",
     "model_module_version": "1.5.0",
     "model_name": "ProgressStyleModel",
     "state": {
      "_model_module": "@jupyter-widgets/controls",
      "_model_module_version": "1.5.0",
      "_model_name": "ProgressStyleModel",
      "_view_count": null,
      "_view_module": "@jupyter-widgets/base",
      "_view_module_version": "1.2.0",
      "_view_name": "StyleView",
      "bar_color": null,
      "description_width": ""
     }
    },
    "a347d8feb7ef4bc1acde6208a441cb43": {
     "model_module": "@jupyter-widgets/controls",
     "model_module_version": "1.5.0",
     "model_name": "DescriptionStyleModel",
     "state": {
      "_model_module": "@jupyter-widgets/controls",
      "_model_module_version": "1.5.0",
      "_model_name": "DescriptionStyleModel",
      "_view_count": null,
      "_view_module": "@jupyter-widgets/base",
      "_view_module_version": "1.2.0",
      "_view_name": "StyleView",
      "description_width": ""
     }
    },
    "a42bdbb2e85744dfa155e058d15d1511": {
     "model_module": "@jupyter-widgets/controls",
     "model_module_version": "1.5.0",
     "model_name": "HBoxModel",
     "state": {
      "_dom_classes": [],
      "_model_module": "@jupyter-widgets/controls",
      "_model_module_version": "1.5.0",
      "_model_name": "HBoxModel",
      "_view_count": null,
      "_view_module": "@jupyter-widgets/controls",
      "_view_module_version": "1.5.0",
      "_view_name": "HBoxView",
      "box_style": "",
      "children": [
       "IPY_MODEL_4964b79ea3c34b2ba96b35a6d8ae1818",
       "IPY_MODEL_9fb3d9d5aaef4c05b357892853c81f43",
       "IPY_MODEL_1a30fde4dc9e435aa9fee7e029585eea"
      ],
      "layout": "IPY_MODEL_76501301855b45cd9671e604ddacdf80"
     }
    },
    "a6006ddd4b6f4fa7a51194f7dca6068f": {
     "model_module": "@jupyter-widgets/controls",
     "model_module_version": "1.5.0",
     "model_name": "HBoxModel",
     "state": {
      "_dom_classes": [],
      "_model_module": "@jupyter-widgets/controls",
      "_model_module_version": "1.5.0",
      "_model_name": "HBoxModel",
      "_view_count": null,
      "_view_module": "@jupyter-widgets/controls",
      "_view_module_version": "1.5.0",
      "_view_name": "HBoxView",
      "box_style": "",
      "children": [
       "IPY_MODEL_3f092c7a41c448be99dc6adf83167102",
       "IPY_MODEL_be84de76d36a44ca96e8945f34656957",
       "IPY_MODEL_2a4c522e81e24ddd8cfdd274bf3aa971"
      ],
      "layout": "IPY_MODEL_2fcb544976484e1bb9d98b79eee07314"
     }
    },
    "a6c8434219b54b6f86023e67bfff3180": {
     "model_module": "@jupyter-widgets/controls",
     "model_module_version": "1.5.0",
     "model_name": "HBoxModel",
     "state": {
      "_dom_classes": [],
      "_model_module": "@jupyter-widgets/controls",
      "_model_module_version": "1.5.0",
      "_model_name": "HBoxModel",
      "_view_count": null,
      "_view_module": "@jupyter-widgets/controls",
      "_view_module_version": "1.5.0",
      "_view_name": "HBoxView",
      "box_style": "",
      "children": [
       "IPY_MODEL_482bec72a39043b2b3814eb9349f7e13",
       "IPY_MODEL_24c2ea28a1564bc8a8b070d76b2ce210",
       "IPY_MODEL_4b3a652e84fa44129d3b2d985db82708"
      ],
      "layout": "IPY_MODEL_1616f555667f43a19cc6a0df4580b451"
     }
    },
    "a709e1d3d47447f8a9e9c7799cf203bb": {
     "model_module": "@jupyter-widgets/controls",
     "model_module_version": "1.5.0",
     "model_name": "DescriptionStyleModel",
     "state": {
      "_model_module": "@jupyter-widgets/controls",
      "_model_module_version": "1.5.0",
      "_model_name": "DescriptionStyleModel",
      "_view_count": null,
      "_view_module": "@jupyter-widgets/base",
      "_view_module_version": "1.2.0",
      "_view_name": "StyleView",
      "description_width": ""
     }
    },
    "a9dc0aeb31f244fba97477458f5d2bcf": {
     "model_module": "@jupyter-widgets/controls",
     "model_module_version": "1.5.0",
     "model_name": "ProgressStyleModel",
     "state": {
      "_model_module": "@jupyter-widgets/controls",
      "_model_module_version": "1.5.0",
      "_model_name": "ProgressStyleModel",
      "_view_count": null,
      "_view_module": "@jupyter-widgets/base",
      "_view_module_version": "1.2.0",
      "_view_name": "StyleView",
      "bar_color": null,
      "description_width": ""
     }
    },
    "aa6186d26349457ab8cd49f618f92e20": {
     "model_module": "@jupyter-widgets/controls",
     "model_module_version": "1.5.0",
     "model_name": "HTMLModel",
     "state": {
      "_dom_classes": [],
      "_model_module": "@jupyter-widgets/controls",
      "_model_module_version": "1.5.0",
      "_model_name": "HTMLModel",
      "_view_count": null,
      "_view_module": "@jupyter-widgets/controls",
      "_view_module_version": "1.5.0",
      "_view_name": "HTMLView",
      "description": "",
      "description_tooltip": null,
      "layout": "IPY_MODEL_778cb3afdc814a58b338ce741ef59b05",
      "placeholder": "​",
      "style": "IPY_MODEL_fd00387d6be14ecea50541c03c4c5709",
      "value": "llm_classify "
     }
    },
    "ac6c4cb900744efc886ccd62109fcf8b": {
     "model_module": "@jupyter-widgets/base",
     "model_module_version": "1.2.0",
     "model_name": "LayoutModel",
     "state": {
      "_model_module": "@jupyter-widgets/base",
      "_model_module_version": "1.2.0",
      "_model_name": "LayoutModel",
      "_view_count": null,
      "_view_module": "@jupyter-widgets/base",
      "_view_module_version": "1.2.0",
      "_view_name": "LayoutView",
      "align_content": null,
      "align_items": null,
      "align_self": null,
      "border": null,
      "bottom": null,
      "display": null,
      "flex": null,
      "flex_flow": null,
      "grid_area": null,
      "grid_auto_columns": null,
      "grid_auto_flow": null,
      "grid_auto_rows": null,
      "grid_column": null,
      "grid_gap": null,
      "grid_row": null,
      "grid_template_areas": null,
      "grid_template_columns": null,
      "grid_template_rows": null,
      "height": null,
      "justify_content": null,
      "justify_items": null,
      "left": null,
      "margin": null,
      "max_height": null,
      "max_width": null,
      "min_height": null,
      "min_width": null,
      "object_fit": null,
      "object_position": null,
      "order": null,
      "overflow": null,
      "overflow_x": null,
      "overflow_y": null,
      "padding": null,
      "right": null,
      "top": null,
      "visibility": null,
      "width": null
     }
    },
    "ae873eaf5fe1499cadd181cc0317ac85": {
     "model_module": "@jupyter-widgets/base",
     "model_module_version": "1.2.0",
     "model_name": "LayoutModel",
     "state": {
      "_model_module": "@jupyter-widgets/base",
      "_model_module_version": "1.2.0",
      "_model_name": "LayoutModel",
      "_view_count": null,
      "_view_module": "@jupyter-widgets/base",
      "_view_module_version": "1.2.0",
      "_view_name": "LayoutView",
      "align_content": null,
      "align_items": null,
      "align_self": null,
      "border": null,
      "bottom": null,
      "display": null,
      "flex": null,
      "flex_flow": null,
      "grid_area": null,
      "grid_auto_columns": null,
      "grid_auto_flow": null,
      "grid_auto_rows": null,
      "grid_column": null,
      "grid_gap": null,
      "grid_row": null,
      "grid_template_areas": null,
      "grid_template_columns": null,
      "grid_template_rows": null,
      "height": null,
      "justify_content": null,
      "justify_items": null,
      "left": null,
      "margin": null,
      "max_height": null,
      "max_width": null,
      "min_height": null,
      "min_width": null,
      "object_fit": null,
      "object_position": null,
      "order": null,
      "overflow": null,
      "overflow_x": null,
      "overflow_y": null,
      "padding": null,
      "right": null,
      "top": null,
      "visibility": null,
      "width": null
     }
    },
    "b07d0d07134a450aa304f3ef239c64fd": {
     "model_module": "@jupyter-widgets/base",
     "model_module_version": "1.2.0",
     "model_name": "LayoutModel",
     "state": {
      "_model_module": "@jupyter-widgets/base",
      "_model_module_version": "1.2.0",
      "_model_name": "LayoutModel",
      "_view_count": null,
      "_view_module": "@jupyter-widgets/base",
      "_view_module_version": "1.2.0",
      "_view_name": "LayoutView",
      "align_content": null,
      "align_items": null,
      "align_self": null,
      "border": null,
      "bottom": null,
      "display": null,
      "flex": null,
      "flex_flow": null,
      "grid_area": null,
      "grid_auto_columns": null,
      "grid_auto_flow": null,
      "grid_auto_rows": null,
      "grid_column": null,
      "grid_gap": null,
      "grid_row": null,
      "grid_template_areas": null,
      "grid_template_columns": null,
      "grid_template_rows": null,
      "height": null,
      "justify_content": null,
      "justify_items": null,
      "left": null,
      "margin": null,
      "max_height": null,
      "max_width": null,
      "min_height": null,
      "min_width": null,
      "object_fit": null,
      "object_position": null,
      "order": null,
      "overflow": null,
      "overflow_x": null,
      "overflow_y": null,
      "padding": null,
      "right": null,
      "top": null,
      "visibility": null,
      "width": null
     }
    },
    "b4129e949db94bf397996951e2ac79b6": {
     "model_module": "@jupyter-widgets/controls",
     "model_module_version": "1.5.0",
     "model_name": "DescriptionStyleModel",
     "state": {
      "_model_module": "@jupyter-widgets/controls",
      "_model_module_version": "1.5.0",
      "_model_name": "DescriptionStyleModel",
      "_view_count": null,
      "_view_module": "@jupyter-widgets/base",
      "_view_module_version": "1.2.0",
      "_view_name": "StyleView",
      "description_width": ""
     }
    },
    "b423b52486d4441ba5c841e4ecff5fae": {
     "model_module": "@jupyter-widgets/controls",
     "model_module_version": "1.5.0",
     "model_name": "DescriptionStyleModel",
     "state": {
      "_model_module": "@jupyter-widgets/controls",
      "_model_module_version": "1.5.0",
      "_model_name": "DescriptionStyleModel",
      "_view_count": null,
      "_view_module": "@jupyter-widgets/base",
      "_view_module_version": "1.2.0",
      "_view_name": "StyleView",
      "description_width": ""
     }
    },
    "b5566d57043b48728839b1ce84fe38d8": {
     "model_module": "@jupyter-widgets/controls",
     "model_module_version": "1.5.0",
     "model_name": "HTMLModel",
     "state": {
      "_dom_classes": [],
      "_model_module": "@jupyter-widgets/controls",
      "_model_module_version": "1.5.0",
      "_model_name": "HTMLModel",
      "_view_count": null,
      "_view_module": "@jupyter-widgets/controls",
      "_view_module_version": "1.5.0",
      "_view_name": "HTMLView",
      "description": "",
      "description_tooltip": null,
      "layout": "IPY_MODEL_f77860ad8da94e8dac0371379fb3fb33",
      "placeholder": "​",
      "style": "IPY_MODEL_7930307ad3c7495aa15c8ca369b66599",
      "value": " 50/50 (100.0%) | ⏳ 02:25&lt;00:00 |  8.76it/s"
     }
    },
    "b63148e6a0494e339b58692b7c5c8d5e": {
     "model_module": "@jupyter-widgets/controls",
     "model_module_version": "1.5.0",
     "model_name": "HTMLModel",
     "state": {
      "_dom_classes": [],
      "_model_module": "@jupyter-widgets/controls",
      "_model_module_version": "1.5.0",
      "_model_name": "HTMLModel",
      "_view_count": null,
      "_view_module": "@jupyter-widgets/controls",
      "_view_module_version": "1.5.0",
      "_view_name": "HTMLView",
      "description": "",
      "description_tooltip": null,
      "layout": "IPY_MODEL_04abdcb8eacd4740b6ac417ff536f952",
      "placeholder": "​",
      "style": "IPY_MODEL_92ce2ceac4c64c838bc3539a40f7d7d0",
      "value": "llm_classify "
     }
    },
    "b6319feae1c94df09d21c735cab2e34f": {
     "model_module": "@jupyter-widgets/base",
     "model_module_version": "1.2.0",
     "model_name": "LayoutModel",
     "state": {
      "_model_module": "@jupyter-widgets/base",
      "_model_module_version": "1.2.0",
      "_model_name": "LayoutModel",
      "_view_count": null,
      "_view_module": "@jupyter-widgets/base",
      "_view_module_version": "1.2.0",
      "_view_name": "LayoutView",
      "align_content": null,
      "align_items": null,
      "align_self": null,
      "border": null,
      "bottom": null,
      "display": null,
      "flex": null,
      "flex_flow": null,
      "grid_area": null,
      "grid_auto_columns": null,
      "grid_auto_flow": null,
      "grid_auto_rows": null,
      "grid_column": null,
      "grid_gap": null,
      "grid_row": null,
      "grid_template_areas": null,
      "grid_template_columns": null,
      "grid_template_rows": null,
      "height": null,
      "justify_content": null,
      "justify_items": null,
      "left": null,
      "margin": null,
      "max_height": null,
      "max_width": null,
      "min_height": null,
      "min_width": null,
      "object_fit": null,
      "object_position": null,
      "order": null,
      "overflow": null,
      "overflow_x": null,
      "overflow_y": null,
      "padding": null,
      "right": null,
      "top": null,
      "visibility": null,
      "width": null
     }
    },
    "b6868c39c76541bf838be0b82b54fbd4": {
     "model_module": "@jupyter-widgets/controls",
     "model_module_version": "1.5.0",
     "model_name": "HBoxModel",
     "state": {
      "_dom_classes": [],
      "_model_module": "@jupyter-widgets/controls",
      "_model_module_version": "1.5.0",
      "_model_name": "HBoxModel",
      "_view_count": null,
      "_view_module": "@jupyter-widgets/controls",
      "_view_module_version": "1.5.0",
      "_view_name": "HBoxView",
      "box_style": "",
      "children": [
       "IPY_MODEL_9c060948dbc54815abaf16c7d20c4031",
       "IPY_MODEL_933bec8bb2fd48a6934d6c596f6385ba",
       "IPY_MODEL_642c2a52213f4321a4331e3942cc6e72"
      ],
      "layout": "IPY_MODEL_b07d0d07134a450aa304f3ef239c64fd"
     }
    },
    "b72277075f634fe484ce0ab1173dcc19": {
     "model_module": "@jupyter-widgets/base",
     "model_module_version": "1.2.0",
     "model_name": "LayoutModel",
     "state": {
      "_model_module": "@jupyter-widgets/base",
      "_model_module_version": "1.2.0",
      "_model_name": "LayoutModel",
      "_view_count": null,
      "_view_module": "@jupyter-widgets/base",
      "_view_module_version": "1.2.0",
      "_view_name": "LayoutView",
      "align_content": null,
      "align_items": null,
      "align_self": null,
      "border": null,
      "bottom": null,
      "display": null,
      "flex": null,
      "flex_flow": null,
      "grid_area": null,
      "grid_auto_columns": null,
      "grid_auto_flow": null,
      "grid_auto_rows": null,
      "grid_column": null,
      "grid_gap": null,
      "grid_row": null,
      "grid_template_areas": null,
      "grid_template_columns": null,
      "grid_template_rows": null,
      "height": null,
      "justify_content": null,
      "justify_items": null,
      "left": null,
      "margin": null,
      "max_height": null,
      "max_width": null,
      "min_height": null,
      "min_width": null,
      "object_fit": null,
      "object_position": null,
      "order": null,
      "overflow": null,
      "overflow_x": null,
      "overflow_y": null,
      "padding": null,
      "right": null,
      "top": null,
      "visibility": null,
      "width": null
     }
    },
    "b75ea2e7d2ce4e6396b3d23f3b3fc3c8": {
     "model_module": "@jupyter-widgets/controls",
     "model_module_version": "1.5.0",
     "model_name": "ProgressStyleModel",
     "state": {
      "_model_module": "@jupyter-widgets/controls",
      "_model_module_version": "1.5.0",
      "_model_name": "ProgressStyleModel",
      "_view_count": null,
      "_view_module": "@jupyter-widgets/base",
      "_view_module_version": "1.2.0",
      "_view_name": "StyleView",
      "bar_color": null,
      "description_width": ""
     }
    },
    "b8a2b2a494b04a82ad16408f0eeeed36": {
     "model_module": "@jupyter-widgets/base",
     "model_module_version": "1.2.0",
     "model_name": "LayoutModel",
     "state": {
      "_model_module": "@jupyter-widgets/base",
      "_model_module_version": "1.2.0",
      "_model_name": "LayoutModel",
      "_view_count": null,
      "_view_module": "@jupyter-widgets/base",
      "_view_module_version": "1.2.0",
      "_view_name": "LayoutView",
      "align_content": null,
      "align_items": null,
      "align_self": null,
      "border": null,
      "bottom": null,
      "display": null,
      "flex": null,
      "flex_flow": null,
      "grid_area": null,
      "grid_auto_columns": null,
      "grid_auto_flow": null,
      "grid_auto_rows": null,
      "grid_column": null,
      "grid_gap": null,
      "grid_row": null,
      "grid_template_areas": null,
      "grid_template_columns": null,
      "grid_template_rows": null,
      "height": null,
      "justify_content": null,
      "justify_items": null,
      "left": null,
      "margin": null,
      "max_height": null,
      "max_width": null,
      "min_height": null,
      "min_width": null,
      "object_fit": null,
      "object_position": null,
      "order": null,
      "overflow": null,
      "overflow_x": null,
      "overflow_y": null,
      "padding": null,
      "right": null,
      "top": null,
      "visibility": null,
      "width": null
     }
    },
    "b8bf9a388a0943e7952f46e1083b2b37": {
     "model_module": "@jupyter-widgets/controls",
     "model_module_version": "1.5.0",
     "model_name": "HBoxModel",
     "state": {
      "_dom_classes": [],
      "_model_module": "@jupyter-widgets/controls",
      "_model_module_version": "1.5.0",
      "_model_name": "HBoxModel",
      "_view_count": null,
      "_view_module": "@jupyter-widgets/controls",
      "_view_module_version": "1.5.0",
      "_view_name": "HBoxView",
      "box_style": "",
      "children": [
       "IPY_MODEL_3eb82fea4066408599abb2ce2e293149",
       "IPY_MODEL_3c44422cf504415484cfe5fc2b1462de",
       "IPY_MODEL_5190ada18928465ca72c5462f57538a3"
      ],
      "layout": "IPY_MODEL_e730e4599f5e4045b91eed265bf81760"
     }
    },
    "ba75fc83d5714246a2829d5cae150a19": {
     "model_module": "@jupyter-widgets/controls",
     "model_module_version": "1.5.0",
     "model_name": "DescriptionStyleModel",
     "state": {
      "_model_module": "@jupyter-widgets/controls",
      "_model_module_version": "1.5.0",
      "_model_name": "DescriptionStyleModel",
      "_view_count": null,
      "_view_module": "@jupyter-widgets/base",
      "_view_module_version": "1.2.0",
      "_view_name": "StyleView",
      "description_width": ""
     }
    },
    "be84de76d36a44ca96e8945f34656957": {
     "model_module": "@jupyter-widgets/controls",
     "model_module_version": "1.5.0",
     "model_name": "FloatProgressModel",
     "state": {
      "_dom_classes": [],
      "_model_module": "@jupyter-widgets/controls",
      "_model_module_version": "1.5.0",
      "_model_name": "FloatProgressModel",
      "_view_count": null,
      "_view_module": "@jupyter-widgets/controls",
      "_view_module_version": "1.5.0",
      "_view_name": "ProgressView",
      "bar_style": "success",
      "description": "",
      "description_tooltip": null,
      "layout": "IPY_MODEL_58ab9e780b1b44d0bd2e525d41992a06",
      "max": 50,
      "min": 0,
      "orientation": "horizontal",
      "style": "IPY_MODEL_fb554c7c9e734c87b0daf988e23ad8c1",
      "value": 50
     }
    },
    "bf294a46d9934a68b1f4bc1fe79deb00": {
     "model_module": "@jupyter-widgets/base",
     "model_module_version": "1.2.0",
     "model_name": "LayoutModel",
     "state": {
      "_model_module": "@jupyter-widgets/base",
      "_model_module_version": "1.2.0",
      "_model_name": "LayoutModel",
      "_view_count": null,
      "_view_module": "@jupyter-widgets/base",
      "_view_module_version": "1.2.0",
      "_view_name": "LayoutView",
      "align_content": null,
      "align_items": null,
      "align_self": null,
      "border": null,
      "bottom": null,
      "display": null,
      "flex": null,
      "flex_flow": null,
      "grid_area": null,
      "grid_auto_columns": null,
      "grid_auto_flow": null,
      "grid_auto_rows": null,
      "grid_column": null,
      "grid_gap": null,
      "grid_row": null,
      "grid_template_areas": null,
      "grid_template_columns": null,
      "grid_template_rows": null,
      "height": null,
      "justify_content": null,
      "justify_items": null,
      "left": null,
      "margin": null,
      "max_height": null,
      "max_width": null,
      "min_height": null,
      "min_width": null,
      "object_fit": null,
      "object_position": null,
      "order": null,
      "overflow": null,
      "overflow_x": null,
      "overflow_y": null,
      "padding": null,
      "right": null,
      "top": null,
      "visibility": null,
      "width": null
     }
    },
    "bf90eff40b5d4c608f3e584d375893bf": {
     "model_module": "@jupyter-widgets/base",
     "model_module_version": "1.2.0",
     "model_name": "LayoutModel",
     "state": {
      "_model_module": "@jupyter-widgets/base",
      "_model_module_version": "1.2.0",
      "_model_name": "LayoutModel",
      "_view_count": null,
      "_view_module": "@jupyter-widgets/base",
      "_view_module_version": "1.2.0",
      "_view_name": "LayoutView",
      "align_content": null,
      "align_items": null,
      "align_self": null,
      "border": null,
      "bottom": null,
      "display": null,
      "flex": null,
      "flex_flow": null,
      "grid_area": null,
      "grid_auto_columns": null,
      "grid_auto_flow": null,
      "grid_auto_rows": null,
      "grid_column": null,
      "grid_gap": null,
      "grid_row": null,
      "grid_template_areas": null,
      "grid_template_columns": null,
      "grid_template_rows": null,
      "height": null,
      "justify_content": null,
      "justify_items": null,
      "left": null,
      "margin": null,
      "max_height": null,
      "max_width": null,
      "min_height": null,
      "min_width": null,
      "object_fit": null,
      "object_position": null,
      "order": null,
      "overflow": null,
      "overflow_x": null,
      "overflow_y": null,
      "padding": null,
      "right": null,
      "top": null,
      "visibility": null,
      "width": null
     }
    },
    "bfd6477135d74fbe96d9eb30c0ec3904": {
     "model_module": "@jupyter-widgets/base",
     "model_module_version": "1.2.0",
     "model_name": "LayoutModel",
     "state": {
      "_model_module": "@jupyter-widgets/base",
      "_model_module_version": "1.2.0",
      "_model_name": "LayoutModel",
      "_view_count": null,
      "_view_module": "@jupyter-widgets/base",
      "_view_module_version": "1.2.0",
      "_view_name": "LayoutView",
      "align_content": null,
      "align_items": null,
      "align_self": null,
      "border": null,
      "bottom": null,
      "display": null,
      "flex": null,
      "flex_flow": null,
      "grid_area": null,
      "grid_auto_columns": null,
      "grid_auto_flow": null,
      "grid_auto_rows": null,
      "grid_column": null,
      "grid_gap": null,
      "grid_row": null,
      "grid_template_areas": null,
      "grid_template_columns": null,
      "grid_template_rows": null,
      "height": null,
      "justify_content": null,
      "justify_items": null,
      "left": null,
      "margin": null,
      "max_height": null,
      "max_width": null,
      "min_height": null,
      "min_width": null,
      "object_fit": null,
      "object_position": null,
      "order": null,
      "overflow": null,
      "overflow_x": null,
      "overflow_y": null,
      "padding": null,
      "right": null,
      "top": null,
      "visibility": null,
      "width": null
     }
    },
    "bfdee894e7e7416eb0078f25ea7d2bad": {
     "model_module": "@jupyter-widgets/base",
     "model_module_version": "1.2.0",
     "model_name": "LayoutModel",
     "state": {
      "_model_module": "@jupyter-widgets/base",
      "_model_module_version": "1.2.0",
      "_model_name": "LayoutModel",
      "_view_count": null,
      "_view_module": "@jupyter-widgets/base",
      "_view_module_version": "1.2.0",
      "_view_name": "LayoutView",
      "align_content": null,
      "align_items": null,
      "align_self": null,
      "border": null,
      "bottom": null,
      "display": null,
      "flex": null,
      "flex_flow": null,
      "grid_area": null,
      "grid_auto_columns": null,
      "grid_auto_flow": null,
      "grid_auto_rows": null,
      "grid_column": null,
      "grid_gap": null,
      "grid_row": null,
      "grid_template_areas": null,
      "grid_template_columns": null,
      "grid_template_rows": null,
      "height": null,
      "justify_content": null,
      "justify_items": null,
      "left": null,
      "margin": null,
      "max_height": null,
      "max_width": null,
      "min_height": null,
      "min_width": null,
      "object_fit": null,
      "object_position": null,
      "order": null,
      "overflow": null,
      "overflow_x": null,
      "overflow_y": null,
      "padding": null,
      "right": null,
      "top": null,
      "visibility": null,
      "width": null
     }
    },
    "bff58900101145d3855868a6bdc57090": {
     "model_module": "@jupyter-widgets/controls",
     "model_module_version": "1.5.0",
     "model_name": "HTMLModel",
     "state": {
      "_dom_classes": [],
      "_model_module": "@jupyter-widgets/controls",
      "_model_module_version": "1.5.0",
      "_model_name": "HTMLModel",
      "_view_count": null,
      "_view_module": "@jupyter-widgets/controls",
      "_view_module_version": "1.5.0",
      "_view_name": "HTMLView",
      "description": "",
      "description_tooltip": null,
      "layout": "IPY_MODEL_3d73c5ac883a4095b0ed26ea84d9319d",
      "placeholder": "​",
      "style": "IPY_MODEL_ba75fc83d5714246a2829d5cae150a19",
      "value": "llm_classify "
     }
    },
    "c0218bbe332444d499f55eed9d988c5d": {
     "model_module": "@jupyter-widgets/controls",
     "model_module_version": "1.5.0",
     "model_name": "DescriptionStyleModel",
     "state": {
      "_model_module": "@jupyter-widgets/controls",
      "_model_module_version": "1.5.0",
      "_model_name": "DescriptionStyleModel",
      "_view_count": null,
      "_view_module": "@jupyter-widgets/base",
      "_view_module_version": "1.2.0",
      "_view_name": "StyleView",
      "description_width": ""
     }
    },
    "c04fbe25c01e4535ad0f31e782544927": {
     "model_module": "@jupyter-widgets/base",
     "model_module_version": "1.2.0",
     "model_name": "LayoutModel",
     "state": {
      "_model_module": "@jupyter-widgets/base",
      "_model_module_version": "1.2.0",
      "_model_name": "LayoutModel",
      "_view_count": null,
      "_view_module": "@jupyter-widgets/base",
      "_view_module_version": "1.2.0",
      "_view_name": "LayoutView",
      "align_content": null,
      "align_items": null,
      "align_self": null,
      "border": null,
      "bottom": null,
      "display": null,
      "flex": null,
      "flex_flow": null,
      "grid_area": null,
      "grid_auto_columns": null,
      "grid_auto_flow": null,
      "grid_auto_rows": null,
      "grid_column": null,
      "grid_gap": null,
      "grid_row": null,
      "grid_template_areas": null,
      "grid_template_columns": null,
      "grid_template_rows": null,
      "height": null,
      "justify_content": null,
      "justify_items": null,
      "left": null,
      "margin": null,
      "max_height": null,
      "max_width": null,
      "min_height": null,
      "min_width": null,
      "object_fit": null,
      "object_position": null,
      "order": null,
      "overflow": null,
      "overflow_x": null,
      "overflow_y": null,
      "padding": null,
      "right": null,
      "top": null,
      "visibility": null,
      "width": null
     }
    },
    "c438eb3b3d174d88b61903c3a4b36cb8": {
     "model_module": "@jupyter-widgets/controls",
     "model_module_version": "1.5.0",
     "model_name": "FloatProgressModel",
     "state": {
      "_dom_classes": [],
      "_model_module": "@jupyter-widgets/controls",
      "_model_module_version": "1.5.0",
      "_model_name": "FloatProgressModel",
      "_view_count": null,
      "_view_module": "@jupyter-widgets/controls",
      "_view_module_version": "1.5.0",
      "_view_name": "ProgressView",
      "bar_style": "success",
      "description": "",
      "description_tooltip": null,
      "layout": "IPY_MODEL_08f8330860d64fe88aa5321515024d53",
      "max": 50,
      "min": 0,
      "orientation": "horizontal",
      "style": "IPY_MODEL_a2b1c3494d0344b5a69e2faa3991c3bc",
      "value": 50
     }
    },
    "c5edbc99cb6e49539fb8d7d9924d4e7a": {
     "model_module": "@jupyter-widgets/base",
     "model_module_version": "1.2.0",
     "model_name": "LayoutModel",
     "state": {
      "_model_module": "@jupyter-widgets/base",
      "_model_module_version": "1.2.0",
      "_model_name": "LayoutModel",
      "_view_count": null,
      "_view_module": "@jupyter-widgets/base",
      "_view_module_version": "1.2.0",
      "_view_name": "LayoutView",
      "align_content": null,
      "align_items": null,
      "align_self": null,
      "border": null,
      "bottom": null,
      "display": null,
      "flex": null,
      "flex_flow": null,
      "grid_area": null,
      "grid_auto_columns": null,
      "grid_auto_flow": null,
      "grid_auto_rows": null,
      "grid_column": null,
      "grid_gap": null,
      "grid_row": null,
      "grid_template_areas": null,
      "grid_template_columns": null,
      "grid_template_rows": null,
      "height": null,
      "justify_content": null,
      "justify_items": null,
      "left": null,
      "margin": null,
      "max_height": null,
      "max_width": null,
      "min_height": null,
      "min_width": null,
      "object_fit": null,
      "object_position": null,
      "order": null,
      "overflow": null,
      "overflow_x": null,
      "overflow_y": null,
      "padding": null,
      "right": null,
      "top": null,
      "visibility": null,
      "width": null
     }
    },
    "c60ddabb4f3f4aa993f391eb80e92936": {
     "model_module": "@jupyter-widgets/controls",
     "model_module_version": "1.5.0",
     "model_name": "DescriptionStyleModel",
     "state": {
      "_model_module": "@jupyter-widgets/controls",
      "_model_module_version": "1.5.0",
      "_model_name": "DescriptionStyleModel",
      "_view_count": null,
      "_view_module": "@jupyter-widgets/base",
      "_view_module_version": "1.2.0",
      "_view_name": "StyleView",
      "description_width": ""
     }
    },
    "c7776f7b11d747dba27e45620ea41c3b": {
     "model_module": "@jupyter-widgets/controls",
     "model_module_version": "1.5.0",
     "model_name": "HBoxModel",
     "state": {
      "_dom_classes": [],
      "_model_module": "@jupyter-widgets/controls",
      "_model_module_version": "1.5.0",
      "_model_name": "HBoxModel",
      "_view_count": null,
      "_view_module": "@jupyter-widgets/controls",
      "_view_module_version": "1.5.0",
      "_view_name": "HBoxView",
      "box_style": "",
      "children": [
       "IPY_MODEL_1ddacf9119dc431cb30ef5cba797e891",
       "IPY_MODEL_f473be03794043f2b8a9347fb9247c31",
       "IPY_MODEL_e09b7013e49c470997390dbcbab28502"
      ],
      "layout": "IPY_MODEL_7c677582a0d14b298dc91f34bd9fece2"
     }
    },
    "c808a7aecbcd4a509f4a5a1654487a21": {
     "model_module": "@jupyter-widgets/controls",
     "model_module_version": "1.5.0",
     "model_name": "DescriptionStyleModel",
     "state": {
      "_model_module": "@jupyter-widgets/controls",
      "_model_module_version": "1.5.0",
      "_model_name": "DescriptionStyleModel",
      "_view_count": null,
      "_view_module": "@jupyter-widgets/base",
      "_view_module_version": "1.2.0",
      "_view_name": "StyleView",
      "description_width": ""
     }
    },
    "c8d415d3189a42ef9f54a8063176d367": {
     "model_module": "@jupyter-widgets/base",
     "model_module_version": "1.2.0",
     "model_name": "LayoutModel",
     "state": {
      "_model_module": "@jupyter-widgets/base",
      "_model_module_version": "1.2.0",
      "_model_name": "LayoutModel",
      "_view_count": null,
      "_view_module": "@jupyter-widgets/base",
      "_view_module_version": "1.2.0",
      "_view_name": "LayoutView",
      "align_content": null,
      "align_items": null,
      "align_self": null,
      "border": null,
      "bottom": null,
      "display": null,
      "flex": null,
      "flex_flow": null,
      "grid_area": null,
      "grid_auto_columns": null,
      "grid_auto_flow": null,
      "grid_auto_rows": null,
      "grid_column": null,
      "grid_gap": null,
      "grid_row": null,
      "grid_template_areas": null,
      "grid_template_columns": null,
      "grid_template_rows": null,
      "height": null,
      "justify_content": null,
      "justify_items": null,
      "left": null,
      "margin": null,
      "max_height": null,
      "max_width": null,
      "min_height": null,
      "min_width": null,
      "object_fit": null,
      "object_position": null,
      "order": null,
      "overflow": null,
      "overflow_x": null,
      "overflow_y": null,
      "padding": null,
      "right": null,
      "top": null,
      "visibility": null,
      "width": null
     }
    },
    "cb8ab6be9b4343a19ba0e525089713df": {
     "model_module": "@jupyter-widgets/base",
     "model_module_version": "1.2.0",
     "model_name": "LayoutModel",
     "state": {
      "_model_module": "@jupyter-widgets/base",
      "_model_module_version": "1.2.0",
      "_model_name": "LayoutModel",
      "_view_count": null,
      "_view_module": "@jupyter-widgets/base",
      "_view_module_version": "1.2.0",
      "_view_name": "LayoutView",
      "align_content": null,
      "align_items": null,
      "align_self": null,
      "border": null,
      "bottom": null,
      "display": null,
      "flex": null,
      "flex_flow": null,
      "grid_area": null,
      "grid_auto_columns": null,
      "grid_auto_flow": null,
      "grid_auto_rows": null,
      "grid_column": null,
      "grid_gap": null,
      "grid_row": null,
      "grid_template_areas": null,
      "grid_template_columns": null,
      "grid_template_rows": null,
      "height": null,
      "justify_content": null,
      "justify_items": null,
      "left": null,
      "margin": null,
      "max_height": null,
      "max_width": null,
      "min_height": null,
      "min_width": null,
      "object_fit": null,
      "object_position": null,
      "order": null,
      "overflow": null,
      "overflow_x": null,
      "overflow_y": null,
      "padding": null,
      "right": null,
      "top": null,
      "visibility": null,
      "width": null
     }
    },
    "ce9836d6041246daa1400dbd9f4d2967": {
     "model_module": "@jupyter-widgets/controls",
     "model_module_version": "1.5.0",
     "model_name": "FloatProgressModel",
     "state": {
      "_dom_classes": [],
      "_model_module": "@jupyter-widgets/controls",
      "_model_module_version": "1.5.0",
      "_model_name": "FloatProgressModel",
      "_view_count": null,
      "_view_module": "@jupyter-widgets/controls",
      "_view_module_version": "1.5.0",
      "_view_name": "ProgressView",
      "bar_style": "success",
      "description": "",
      "description_tooltip": null,
      "layout": "IPY_MODEL_2ab3bc24d02640969ddb70374e400025",
      "max": 50,
      "min": 0,
      "orientation": "horizontal",
      "style": "IPY_MODEL_379578de48614db6a6e87763b2aeae73",
      "value": 50
     }
    },
    "cfc422161be34780b6889c52ffb7bfd5": {
     "model_module": "@jupyter-widgets/base",
     "model_module_version": "1.2.0",
     "model_name": "LayoutModel",
     "state": {
      "_model_module": "@jupyter-widgets/base",
      "_model_module_version": "1.2.0",
      "_model_name": "LayoutModel",
      "_view_count": null,
      "_view_module": "@jupyter-widgets/base",
      "_view_module_version": "1.2.0",
      "_view_name": "LayoutView",
      "align_content": null,
      "align_items": null,
      "align_self": null,
      "border": null,
      "bottom": null,
      "display": null,
      "flex": null,
      "flex_flow": null,
      "grid_area": null,
      "grid_auto_columns": null,
      "grid_auto_flow": null,
      "grid_auto_rows": null,
      "grid_column": null,
      "grid_gap": null,
      "grid_row": null,
      "grid_template_areas": null,
      "grid_template_columns": null,
      "grid_template_rows": null,
      "height": null,
      "justify_content": null,
      "justify_items": null,
      "left": null,
      "margin": null,
      "max_height": null,
      "max_width": null,
      "min_height": null,
      "min_width": null,
      "object_fit": null,
      "object_position": null,
      "order": null,
      "overflow": null,
      "overflow_x": null,
      "overflow_y": null,
      "padding": null,
      "right": null,
      "top": null,
      "visibility": null,
      "width": null
     }
    },
    "d0b365e3771f46de9031ad5225240a6f": {
     "model_module": "@jupyter-widgets/controls",
     "model_module_version": "1.5.0",
     "model_name": "HTMLModel",
     "state": {
      "_dom_classes": [],
      "_model_module": "@jupyter-widgets/controls",
      "_model_module_version": "1.5.0",
      "_model_name": "HTMLModel",
      "_view_count": null,
      "_view_module": "@jupyter-widgets/controls",
      "_view_module_version": "1.5.0",
      "_view_name": "HTMLView",
      "description": "",
      "description_tooltip": null,
      "layout": "IPY_MODEL_c04fbe25c01e4535ad0f31e782544927",
      "placeholder": "​",
      "style": "IPY_MODEL_4542f1e2133d4dfa9e43adc5ab5a58d2",
      "value": "llm_classify "
     }
    },
    "d21536d884824c0eadb60e76252b6ad8": {
     "model_module": "@jupyter-widgets/controls",
     "model_module_version": "1.5.0",
     "model_name": "ProgressStyleModel",
     "state": {
      "_model_module": "@jupyter-widgets/controls",
      "_model_module_version": "1.5.0",
      "_model_name": "ProgressStyleModel",
      "_view_count": null,
      "_view_module": "@jupyter-widgets/base",
      "_view_module_version": "1.2.0",
      "_view_name": "StyleView",
      "bar_color": null,
      "description_width": ""
     }
    },
    "d3daf62665024b0cb9d884a35a296837": {
     "model_module": "@jupyter-widgets/controls",
     "model_module_version": "1.5.0",
     "model_name": "HTMLModel",
     "state": {
      "_dom_classes": [],
      "_model_module": "@jupyter-widgets/controls",
      "_model_module_version": "1.5.0",
      "_model_name": "HTMLModel",
      "_view_count": null,
      "_view_module": "@jupyter-widgets/controls",
      "_view_module_version": "1.5.0",
      "_view_name": "HTMLView",
      "description": "",
      "description_tooltip": null,
      "layout": "IPY_MODEL_93674f77b7cf47739d1cf31d9c04179a",
      "placeholder": "​",
      "style": "IPY_MODEL_ffcc11db32da4f0a96ea351aaf55fcef",
      "value": " 50/50 (100.0%) | ⏳ 02:01&lt;00:00 |  4.59it/s"
     }
    },
    "d4c92c73bc804c7492994559300cb95a": {
     "model_module": "@jupyter-widgets/controls",
     "model_module_version": "1.5.0",
     "model_name": "HBoxModel",
     "state": {
      "_dom_classes": [],
      "_model_module": "@jupyter-widgets/controls",
      "_model_module_version": "1.5.0",
      "_model_name": "HBoxModel",
      "_view_count": null,
      "_view_module": "@jupyter-widgets/controls",
      "_view_module_version": "1.5.0",
      "_view_name": "HBoxView",
      "box_style": "",
      "children": [
       "IPY_MODEL_b63148e6a0494e339b58692b7c5c8d5e",
       "IPY_MODEL_1eeb81e56df8422182450f8ee46b3bc7",
       "IPY_MODEL_ddb0ec611da94b5e842b92cf6ca57642"
      ],
      "layout": "IPY_MODEL_bf294a46d9934a68b1f4bc1fe79deb00"
     }
    },
    "d7db67e5781d41b4bff04bb596f8491e": {
     "model_module": "@jupyter-widgets/base",
     "model_module_version": "1.2.0",
     "model_name": "LayoutModel",
     "state": {
      "_model_module": "@jupyter-widgets/base",
      "_model_module_version": "1.2.0",
      "_model_name": "LayoutModel",
      "_view_count": null,
      "_view_module": "@jupyter-widgets/base",
      "_view_module_version": "1.2.0",
      "_view_name": "LayoutView",
      "align_content": null,
      "align_items": null,
      "align_self": null,
      "border": null,
      "bottom": null,
      "display": null,
      "flex": null,
      "flex_flow": null,
      "grid_area": null,
      "grid_auto_columns": null,
      "grid_auto_flow": null,
      "grid_auto_rows": null,
      "grid_column": null,
      "grid_gap": null,
      "grid_row": null,
      "grid_template_areas": null,
      "grid_template_columns": null,
      "grid_template_rows": null,
      "height": null,
      "justify_content": null,
      "justify_items": null,
      "left": null,
      "margin": null,
      "max_height": null,
      "max_width": null,
      "min_height": null,
      "min_width": null,
      "object_fit": null,
      "object_position": null,
      "order": null,
      "overflow": null,
      "overflow_x": null,
      "overflow_y": null,
      "padding": null,
      "right": null,
      "top": null,
      "visibility": null,
      "width": null
     }
    },
    "d80c595eea19496fa293f676263d9038": {
     "model_module": "@jupyter-widgets/base",
     "model_module_version": "1.2.0",
     "model_name": "LayoutModel",
     "state": {
      "_model_module": "@jupyter-widgets/base",
      "_model_module_version": "1.2.0",
      "_model_name": "LayoutModel",
      "_view_count": null,
      "_view_module": "@jupyter-widgets/base",
      "_view_module_version": "1.2.0",
      "_view_name": "LayoutView",
      "align_content": null,
      "align_items": null,
      "align_self": null,
      "border": null,
      "bottom": null,
      "display": null,
      "flex": null,
      "flex_flow": null,
      "grid_area": null,
      "grid_auto_columns": null,
      "grid_auto_flow": null,
      "grid_auto_rows": null,
      "grid_column": null,
      "grid_gap": null,
      "grid_row": null,
      "grid_template_areas": null,
      "grid_template_columns": null,
      "grid_template_rows": null,
      "height": null,
      "justify_content": null,
      "justify_items": null,
      "left": null,
      "margin": null,
      "max_height": null,
      "max_width": null,
      "min_height": null,
      "min_width": null,
      "object_fit": null,
      "object_position": null,
      "order": null,
      "overflow": null,
      "overflow_x": null,
      "overflow_y": null,
      "padding": null,
      "right": null,
      "top": null,
      "visibility": null,
      "width": null
     }
    },
    "d8f466e8097e4070b4944e78ae369c45": {
     "model_module": "@jupyter-widgets/base",
     "model_module_version": "1.2.0",
     "model_name": "LayoutModel",
     "state": {
      "_model_module": "@jupyter-widgets/base",
      "_model_module_version": "1.2.0",
      "_model_name": "LayoutModel",
      "_view_count": null,
      "_view_module": "@jupyter-widgets/base",
      "_view_module_version": "1.2.0",
      "_view_name": "LayoutView",
      "align_content": null,
      "align_items": null,
      "align_self": null,
      "border": null,
      "bottom": null,
      "display": null,
      "flex": null,
      "flex_flow": null,
      "grid_area": null,
      "grid_auto_columns": null,
      "grid_auto_flow": null,
      "grid_auto_rows": null,
      "grid_column": null,
      "grid_gap": null,
      "grid_row": null,
      "grid_template_areas": null,
      "grid_template_columns": null,
      "grid_template_rows": null,
      "height": null,
      "justify_content": null,
      "justify_items": null,
      "left": null,
      "margin": null,
      "max_height": null,
      "max_width": null,
      "min_height": null,
      "min_width": null,
      "object_fit": null,
      "object_position": null,
      "order": null,
      "overflow": null,
      "overflow_x": null,
      "overflow_y": null,
      "padding": null,
      "right": null,
      "top": null,
      "visibility": null,
      "width": null
     }
    },
    "d96808f3779443c2b315e602e04a02dd": {
     "model_module": "@jupyter-widgets/controls",
     "model_module_version": "1.5.0",
     "model_name": "DescriptionStyleModel",
     "state": {
      "_model_module": "@jupyter-widgets/controls",
      "_model_module_version": "1.5.0",
      "_model_name": "DescriptionStyleModel",
      "_view_count": null,
      "_view_module": "@jupyter-widgets/base",
      "_view_module_version": "1.2.0",
      "_view_name": "StyleView",
      "description_width": ""
     }
    },
    "dd13781a994949a1adaf8a107b43f383": {
     "model_module": "@jupyter-widgets/base",
     "model_module_version": "1.2.0",
     "model_name": "LayoutModel",
     "state": {
      "_model_module": "@jupyter-widgets/base",
      "_model_module_version": "1.2.0",
      "_model_name": "LayoutModel",
      "_view_count": null,
      "_view_module": "@jupyter-widgets/base",
      "_view_module_version": "1.2.0",
      "_view_name": "LayoutView",
      "align_content": null,
      "align_items": null,
      "align_self": null,
      "border": null,
      "bottom": null,
      "display": null,
      "flex": null,
      "flex_flow": null,
      "grid_area": null,
      "grid_auto_columns": null,
      "grid_auto_flow": null,
      "grid_auto_rows": null,
      "grid_column": null,
      "grid_gap": null,
      "grid_row": null,
      "grid_template_areas": null,
      "grid_template_columns": null,
      "grid_template_rows": null,
      "height": null,
      "justify_content": null,
      "justify_items": null,
      "left": null,
      "margin": null,
      "max_height": null,
      "max_width": null,
      "min_height": null,
      "min_width": null,
      "object_fit": null,
      "object_position": null,
      "order": null,
      "overflow": null,
      "overflow_x": null,
      "overflow_y": null,
      "padding": null,
      "right": null,
      "top": null,
      "visibility": null,
      "width": null
     }
    },
    "ddb0ec611da94b5e842b92cf6ca57642": {
     "model_module": "@jupyter-widgets/controls",
     "model_module_version": "1.5.0",
     "model_name": "HTMLModel",
     "state": {
      "_dom_classes": [],
      "_model_module": "@jupyter-widgets/controls",
      "_model_module_version": "1.5.0",
      "_model_name": "HTMLModel",
      "_view_count": null,
      "_view_module": "@jupyter-widgets/controls",
      "_view_module_version": "1.5.0",
      "_view_name": "HTMLView",
      "description": "",
      "description_tooltip": null,
      "layout": "IPY_MODEL_9c1341adab3042f0a7a9179f609a24b0",
      "placeholder": "​",
      "style": "IPY_MODEL_f252dd6e040f4388808b2f1d2eb52419",
      "value": " 50/50 (100.0%) | ⏳ 00:15&lt;00:00 |  1.13it/s"
     }
    },
    "de01151afe21413e8c51b9fbfeb43b10": {
     "model_module": "@jupyter-widgets/base",
     "model_module_version": "1.2.0",
     "model_name": "LayoutModel",
     "state": {
      "_model_module": "@jupyter-widgets/base",
      "_model_module_version": "1.2.0",
      "_model_name": "LayoutModel",
      "_view_count": null,
      "_view_module": "@jupyter-widgets/base",
      "_view_module_version": "1.2.0",
      "_view_name": "LayoutView",
      "align_content": null,
      "align_items": null,
      "align_self": null,
      "border": null,
      "bottom": null,
      "display": null,
      "flex": null,
      "flex_flow": null,
      "grid_area": null,
      "grid_auto_columns": null,
      "grid_auto_flow": null,
      "grid_auto_rows": null,
      "grid_column": null,
      "grid_gap": null,
      "grid_row": null,
      "grid_template_areas": null,
      "grid_template_columns": null,
      "grid_template_rows": null,
      "height": null,
      "justify_content": null,
      "justify_items": null,
      "left": null,
      "margin": null,
      "max_height": null,
      "max_width": null,
      "min_height": null,
      "min_width": null,
      "object_fit": null,
      "object_position": null,
      "order": null,
      "overflow": null,
      "overflow_x": null,
      "overflow_y": null,
      "padding": null,
      "right": null,
      "top": null,
      "visibility": null,
      "width": null
     }
    },
    "e09b7013e49c470997390dbcbab28502": {
     "model_module": "@jupyter-widgets/controls",
     "model_module_version": "1.5.0",
     "model_name": "HTMLModel",
     "state": {
      "_dom_classes": [],
      "_model_module": "@jupyter-widgets/controls",
      "_model_module_version": "1.5.0",
      "_model_name": "HTMLModel",
      "_view_count": null,
      "_view_module": "@jupyter-widgets/controls",
      "_view_module_version": "1.5.0",
      "_view_name": "HTMLView",
      "description": "",
      "description_tooltip": null,
      "layout": "IPY_MODEL_4676355f035a419da778bad037a6fbe3",
      "placeholder": "​",
      "style": "IPY_MODEL_12d77b6769534a4e8aa0b8c48a99a61c",
      "value": " 50/50 (100.0%) | ⏳ 02:11&lt;00:00 |  7.63it/s"
     }
    },
    "e124db4c6e0b412c9a66b2d7d01c667b": {
     "model_module": "@jupyter-widgets/base",
     "model_module_version": "1.2.0",
     "model_name": "LayoutModel",
     "state": {
      "_model_module": "@jupyter-widgets/base",
      "_model_module_version": "1.2.0",
      "_model_name": "LayoutModel",
      "_view_count": null,
      "_view_module": "@jupyter-widgets/base",
      "_view_module_version": "1.2.0",
      "_view_name": "LayoutView",
      "align_content": null,
      "align_items": null,
      "align_self": null,
      "border": null,
      "bottom": null,
      "display": null,
      "flex": null,
      "flex_flow": null,
      "grid_area": null,
      "grid_auto_columns": null,
      "grid_auto_flow": null,
      "grid_auto_rows": null,
      "grid_column": null,
      "grid_gap": null,
      "grid_row": null,
      "grid_template_areas": null,
      "grid_template_columns": null,
      "grid_template_rows": null,
      "height": null,
      "justify_content": null,
      "justify_items": null,
      "left": null,
      "margin": null,
      "max_height": null,
      "max_width": null,
      "min_height": null,
      "min_width": null,
      "object_fit": null,
      "object_position": null,
      "order": null,
      "overflow": null,
      "overflow_x": null,
      "overflow_y": null,
      "padding": null,
      "right": null,
      "top": null,
      "visibility": null,
      "width": null
     }
    },
    "e1891b6f10514bcca3e73b3239635778": {
     "model_module": "@jupyter-widgets/controls",
     "model_module_version": "1.5.0",
     "model_name": "HTMLModel",
     "state": {
      "_dom_classes": [],
      "_model_module": "@jupyter-widgets/controls",
      "_model_module_version": "1.5.0",
      "_model_name": "HTMLModel",
      "_view_count": null,
      "_view_module": "@jupyter-widgets/controls",
      "_view_module_version": "1.5.0",
      "_view_name": "HTMLView",
      "description": "",
      "description_tooltip": null,
      "layout": "IPY_MODEL_ac6c4cb900744efc886ccd62109fcf8b",
      "placeholder": "​",
      "style": "IPY_MODEL_7f9e108f0d6e4d97b61c63f0e5ed77de",
      "value": " 50/50 (100.0%) | ⏳ 01:30&lt;00:00 |  1.55s/it"
     }
    },
    "e2098dac39e74ed88b40a60bafa31dad": {
     "model_module": "@jupyter-widgets/controls",
     "model_module_version": "1.5.0",
     "model_name": "HTMLModel",
     "state": {
      "_dom_classes": [],
      "_model_module": "@jupyter-widgets/controls",
      "_model_module_version": "1.5.0",
      "_model_name": "HTMLModel",
      "_view_count": null,
      "_view_module": "@jupyter-widgets/controls",
      "_view_module_version": "1.5.0",
      "_view_name": "HTMLView",
      "description": "",
      "description_tooltip": null,
      "layout": "IPY_MODEL_43541e6f77ee488893a556e337a3cb9f",
      "placeholder": "​",
      "style": "IPY_MODEL_937133f8bd9c433183ba507a66ef0028",
      "value": "llm_classify "
     }
    },
    "e5892867ad1e41e9823e9414a6b5291a": {
     "model_module": "@jupyter-widgets/base",
     "model_module_version": "1.2.0",
     "model_name": "LayoutModel",
     "state": {
      "_model_module": "@jupyter-widgets/base",
      "_model_module_version": "1.2.0",
      "_model_name": "LayoutModel",
      "_view_count": null,
      "_view_module": "@jupyter-widgets/base",
      "_view_module_version": "1.2.0",
      "_view_name": "LayoutView",
      "align_content": null,
      "align_items": null,
      "align_self": null,
      "border": null,
      "bottom": null,
      "display": null,
      "flex": null,
      "flex_flow": null,
      "grid_area": null,
      "grid_auto_columns": null,
      "grid_auto_flow": null,
      "grid_auto_rows": null,
      "grid_column": null,
      "grid_gap": null,
      "grid_row": null,
      "grid_template_areas": null,
      "grid_template_columns": null,
      "grid_template_rows": null,
      "height": null,
      "justify_content": null,
      "justify_items": null,
      "left": null,
      "margin": null,
      "max_height": null,
      "max_width": null,
      "min_height": null,
      "min_width": null,
      "object_fit": null,
      "object_position": null,
      "order": null,
      "overflow": null,
      "overflow_x": null,
      "overflow_y": null,
      "padding": null,
      "right": null,
      "top": null,
      "visibility": null,
      "width": null
     }
    },
    "e6a75966cf424b41b886b8e75afc89c4": {
     "model_module": "@jupyter-widgets/controls",
     "model_module_version": "1.5.0",
     "model_name": "HBoxModel",
     "state": {
      "_dom_classes": [],
      "_model_module": "@jupyter-widgets/controls",
      "_model_module_version": "1.5.0",
      "_model_name": "HBoxModel",
      "_view_count": null,
      "_view_module": "@jupyter-widgets/controls",
      "_view_module_version": "1.5.0",
      "_view_name": "HBoxView",
      "box_style": "",
      "children": [
       "IPY_MODEL_51856f4b2abb42e28b8512ed3cbc04e5",
       "IPY_MODEL_15fa120a5afd4dc8b808840a89852e2d",
       "IPY_MODEL_d3daf62665024b0cb9d884a35a296837"
      ],
      "layout": "IPY_MODEL_c5edbc99cb6e49539fb8d7d9924d4e7a"
     }
    },
    "e6e4c6403bef48ab9cef2c11c26ddc23": {
     "model_module": "@jupyter-widgets/controls",
     "model_module_version": "1.5.0",
     "model_name": "DescriptionStyleModel",
     "state": {
      "_model_module": "@jupyter-widgets/controls",
      "_model_module_version": "1.5.0",
      "_model_name": "DescriptionStyleModel",
      "_view_count": null,
      "_view_module": "@jupyter-widgets/base",
      "_view_module_version": "1.2.0",
      "_view_name": "StyleView",
      "description_width": ""
     }
    },
    "e730e4599f5e4045b91eed265bf81760": {
     "model_module": "@jupyter-widgets/base",
     "model_module_version": "1.2.0",
     "model_name": "LayoutModel",
     "state": {
      "_model_module": "@jupyter-widgets/base",
      "_model_module_version": "1.2.0",
      "_model_name": "LayoutModel",
      "_view_count": null,
      "_view_module": "@jupyter-widgets/base",
      "_view_module_version": "1.2.0",
      "_view_name": "LayoutView",
      "align_content": null,
      "align_items": null,
      "align_self": null,
      "border": null,
      "bottom": null,
      "display": null,
      "flex": null,
      "flex_flow": null,
      "grid_area": null,
      "grid_auto_columns": null,
      "grid_auto_flow": null,
      "grid_auto_rows": null,
      "grid_column": null,
      "grid_gap": null,
      "grid_row": null,
      "grid_template_areas": null,
      "grid_template_columns": null,
      "grid_template_rows": null,
      "height": null,
      "justify_content": null,
      "justify_items": null,
      "left": null,
      "margin": null,
      "max_height": null,
      "max_width": null,
      "min_height": null,
      "min_width": null,
      "object_fit": null,
      "object_position": null,
      "order": null,
      "overflow": null,
      "overflow_x": null,
      "overflow_y": null,
      "padding": null,
      "right": null,
      "top": null,
      "visibility": null,
      "width": null
     }
    },
    "eb3bdea788554c0381726b660146ff9d": {
     "model_module": "@jupyter-widgets/base",
     "model_module_version": "1.2.0",
     "model_name": "LayoutModel",
     "state": {
      "_model_module": "@jupyter-widgets/base",
      "_model_module_version": "1.2.0",
      "_model_name": "LayoutModel",
      "_view_count": null,
      "_view_module": "@jupyter-widgets/base",
      "_view_module_version": "1.2.0",
      "_view_name": "LayoutView",
      "align_content": null,
      "align_items": null,
      "align_self": null,
      "border": null,
      "bottom": null,
      "display": null,
      "flex": null,
      "flex_flow": null,
      "grid_area": null,
      "grid_auto_columns": null,
      "grid_auto_flow": null,
      "grid_auto_rows": null,
      "grid_column": null,
      "grid_gap": null,
      "grid_row": null,
      "grid_template_areas": null,
      "grid_template_columns": null,
      "grid_template_rows": null,
      "height": null,
      "justify_content": null,
      "justify_items": null,
      "left": null,
      "margin": null,
      "max_height": null,
      "max_width": null,
      "min_height": null,
      "min_width": null,
      "object_fit": null,
      "object_position": null,
      "order": null,
      "overflow": null,
      "overflow_x": null,
      "overflow_y": null,
      "padding": null,
      "right": null,
      "top": null,
      "visibility": null,
      "width": null
     }
    },
    "efb1e6093aeb4cd3b9ed2c4a0bfb0d3e": {
     "model_module": "@jupyter-widgets/controls",
     "model_module_version": "1.5.0",
     "model_name": "DescriptionStyleModel",
     "state": {
      "_model_module": "@jupyter-widgets/controls",
      "_model_module_version": "1.5.0",
      "_model_name": "DescriptionStyleModel",
      "_view_count": null,
      "_view_module": "@jupyter-widgets/base",
      "_view_module_version": "1.2.0",
      "_view_name": "StyleView",
      "description_width": ""
     }
    },
    "effb5ac887a3499dafb876838b86d6df": {
     "model_module": "@jupyter-widgets/base",
     "model_module_version": "1.2.0",
     "model_name": "LayoutModel",
     "state": {
      "_model_module": "@jupyter-widgets/base",
      "_model_module_version": "1.2.0",
      "_model_name": "LayoutModel",
      "_view_count": null,
      "_view_module": "@jupyter-widgets/base",
      "_view_module_version": "1.2.0",
      "_view_name": "LayoutView",
      "align_content": null,
      "align_items": null,
      "align_self": null,
      "border": null,
      "bottom": null,
      "display": null,
      "flex": null,
      "flex_flow": null,
      "grid_area": null,
      "grid_auto_columns": null,
      "grid_auto_flow": null,
      "grid_auto_rows": null,
      "grid_column": null,
      "grid_gap": null,
      "grid_row": null,
      "grid_template_areas": null,
      "grid_template_columns": null,
      "grid_template_rows": null,
      "height": null,
      "justify_content": null,
      "justify_items": null,
      "left": null,
      "margin": null,
      "max_height": null,
      "max_width": null,
      "min_height": null,
      "min_width": null,
      "object_fit": null,
      "object_position": null,
      "order": null,
      "overflow": null,
      "overflow_x": null,
      "overflow_y": null,
      "padding": null,
      "right": null,
      "top": null,
      "visibility": null,
      "width": null
     }
    },
    "f00a65ae1d484247ae5e1746fd85d82a": {
     "model_module": "@jupyter-widgets/controls",
     "model_module_version": "1.5.0",
     "model_name": "DescriptionStyleModel",
     "state": {
      "_model_module": "@jupyter-widgets/controls",
      "_model_module_version": "1.5.0",
      "_model_name": "DescriptionStyleModel",
      "_view_count": null,
      "_view_module": "@jupyter-widgets/base",
      "_view_module_version": "1.2.0",
      "_view_name": "StyleView",
      "description_width": ""
     }
    },
    "f252dd6e040f4388808b2f1d2eb52419": {
     "model_module": "@jupyter-widgets/controls",
     "model_module_version": "1.5.0",
     "model_name": "DescriptionStyleModel",
     "state": {
      "_model_module": "@jupyter-widgets/controls",
      "_model_module_version": "1.5.0",
      "_model_name": "DescriptionStyleModel",
      "_view_count": null,
      "_view_module": "@jupyter-widgets/base",
      "_view_module_version": "1.2.0",
      "_view_name": "StyleView",
      "description_width": ""
     }
    },
    "f36cdebb6ed842c89902b1bde313c440": {
     "model_module": "@jupyter-widgets/base",
     "model_module_version": "1.2.0",
     "model_name": "LayoutModel",
     "state": {
      "_model_module": "@jupyter-widgets/base",
      "_model_module_version": "1.2.0",
      "_model_name": "LayoutModel",
      "_view_count": null,
      "_view_module": "@jupyter-widgets/base",
      "_view_module_version": "1.2.0",
      "_view_name": "LayoutView",
      "align_content": null,
      "align_items": null,
      "align_self": null,
      "border": null,
      "bottom": null,
      "display": null,
      "flex": null,
      "flex_flow": null,
      "grid_area": null,
      "grid_auto_columns": null,
      "grid_auto_flow": null,
      "grid_auto_rows": null,
      "grid_column": null,
      "grid_gap": null,
      "grid_row": null,
      "grid_template_areas": null,
      "grid_template_columns": null,
      "grid_template_rows": null,
      "height": null,
      "justify_content": null,
      "justify_items": null,
      "left": null,
      "margin": null,
      "max_height": null,
      "max_width": null,
      "min_height": null,
      "min_width": null,
      "object_fit": null,
      "object_position": null,
      "order": null,
      "overflow": null,
      "overflow_x": null,
      "overflow_y": null,
      "padding": null,
      "right": null,
      "top": null,
      "visibility": null,
      "width": null
     }
    },
    "f473be03794043f2b8a9347fb9247c31": {
     "model_module": "@jupyter-widgets/controls",
     "model_module_version": "1.5.0",
     "model_name": "FloatProgressModel",
     "state": {
      "_dom_classes": [],
      "_model_module": "@jupyter-widgets/controls",
      "_model_module_version": "1.5.0",
      "_model_name": "FloatProgressModel",
      "_view_count": null,
      "_view_module": "@jupyter-widgets/controls",
      "_view_module_version": "1.5.0",
      "_view_name": "ProgressView",
      "bar_style": "success",
      "description": "",
      "description_tooltip": null,
      "layout": "IPY_MODEL_7c0f811a68a345878e5de572fd75de69",
      "max": 50,
      "min": 0,
      "orientation": "horizontal",
      "style": "IPY_MODEL_622640cbbe0b45818e786bffdb72014f",
      "value": 50
     }
    },
    "f633f643712a49b0bedb243feebb8307": {
     "model_module": "@jupyter-widgets/base",
     "model_module_version": "1.2.0",
     "model_name": "LayoutModel",
     "state": {
      "_model_module": "@jupyter-widgets/base",
      "_model_module_version": "1.2.0",
      "_model_name": "LayoutModel",
      "_view_count": null,
      "_view_module": "@jupyter-widgets/base",
      "_view_module_version": "1.2.0",
      "_view_name": "LayoutView",
      "align_content": null,
      "align_items": null,
      "align_self": null,
      "border": null,
      "bottom": null,
      "display": null,
      "flex": null,
      "flex_flow": null,
      "grid_area": null,
      "grid_auto_columns": null,
      "grid_auto_flow": null,
      "grid_auto_rows": null,
      "grid_column": null,
      "grid_gap": null,
      "grid_row": null,
      "grid_template_areas": null,
      "grid_template_columns": null,
      "grid_template_rows": null,
      "height": null,
      "justify_content": null,
      "justify_items": null,
      "left": null,
      "margin": null,
      "max_height": null,
      "max_width": null,
      "min_height": null,
      "min_width": null,
      "object_fit": null,
      "object_position": null,
      "order": null,
      "overflow": null,
      "overflow_x": null,
      "overflow_y": null,
      "padding": null,
      "right": null,
      "top": null,
      "visibility": null,
      "width": null
     }
    },
    "f77860ad8da94e8dac0371379fb3fb33": {
     "model_module": "@jupyter-widgets/base",
     "model_module_version": "1.2.0",
     "model_name": "LayoutModel",
     "state": {
      "_model_module": "@jupyter-widgets/base",
      "_model_module_version": "1.2.0",
      "_model_name": "LayoutModel",
      "_view_count": null,
      "_view_module": "@jupyter-widgets/base",
      "_view_module_version": "1.2.0",
      "_view_name": "LayoutView",
      "align_content": null,
      "align_items": null,
      "align_self": null,
      "border": null,
      "bottom": null,
      "display": null,
      "flex": null,
      "flex_flow": null,
      "grid_area": null,
      "grid_auto_columns": null,
      "grid_auto_flow": null,
      "grid_auto_rows": null,
      "grid_column": null,
      "grid_gap": null,
      "grid_row": null,
      "grid_template_areas": null,
      "grid_template_columns": null,
      "grid_template_rows": null,
      "height": null,
      "justify_content": null,
      "justify_items": null,
      "left": null,
      "margin": null,
      "max_height": null,
      "max_width": null,
      "min_height": null,
      "min_width": null,
      "object_fit": null,
      "object_position": null,
      "order": null,
      "overflow": null,
      "overflow_x": null,
      "overflow_y": null,
      "padding": null,
      "right": null,
      "top": null,
      "visibility": null,
      "width": null
     }
    },
    "f7836fd503bc487daf91df5bd30b39a8": {
     "model_module": "@jupyter-widgets/controls",
     "model_module_version": "1.5.0",
     "model_name": "FloatProgressModel",
     "state": {
      "_dom_classes": [],
      "_model_module": "@jupyter-widgets/controls",
      "_model_module_version": "1.5.0",
      "_model_name": "FloatProgressModel",
      "_view_count": null,
      "_view_module": "@jupyter-widgets/controls",
      "_view_module_version": "1.5.0",
      "_view_name": "ProgressView",
      "bar_style": "success",
      "description": "",
      "description_tooltip": null,
      "layout": "IPY_MODEL_233e0850a96e48a0bdbd9d0f6ce5c641",
      "max": 50,
      "min": 0,
      "orientation": "horizontal",
      "style": "IPY_MODEL_a9dc0aeb31f244fba97477458f5d2bcf",
      "value": 50
     }
    },
    "f94e08bb3adb4c54b3e04713795467aa": {
     "model_module": "@jupyter-widgets/base",
     "model_module_version": "1.2.0",
     "model_name": "LayoutModel",
     "state": {
      "_model_module": "@jupyter-widgets/base",
      "_model_module_version": "1.2.0",
      "_model_name": "LayoutModel",
      "_view_count": null,
      "_view_module": "@jupyter-widgets/base",
      "_view_module_version": "1.2.0",
      "_view_name": "LayoutView",
      "align_content": null,
      "align_items": null,
      "align_self": null,
      "border": null,
      "bottom": null,
      "display": null,
      "flex": null,
      "flex_flow": null,
      "grid_area": null,
      "grid_auto_columns": null,
      "grid_auto_flow": null,
      "grid_auto_rows": null,
      "grid_column": null,
      "grid_gap": null,
      "grid_row": null,
      "grid_template_areas": null,
      "grid_template_columns": null,
      "grid_template_rows": null,
      "height": null,
      "justify_content": null,
      "justify_items": null,
      "left": null,
      "margin": null,
      "max_height": null,
      "max_width": null,
      "min_height": null,
      "min_width": null,
      "object_fit": null,
      "object_position": null,
      "order": null,
      "overflow": null,
      "overflow_x": null,
      "overflow_y": null,
      "padding": null,
      "right": null,
      "top": null,
      "visibility": null,
      "width": null
     }
    },
    "f9fe3e79a05c4a018f0ffcd3255b1647": {
     "model_module": "@jupyter-widgets/controls",
     "model_module_version": "1.5.0",
     "model_name": "FloatProgressModel",
     "state": {
      "_dom_classes": [],
      "_model_module": "@jupyter-widgets/controls",
      "_model_module_version": "1.5.0",
      "_model_name": "FloatProgressModel",
      "_view_count": null,
      "_view_module": "@jupyter-widgets/controls",
      "_view_module_version": "1.5.0",
      "_view_name": "ProgressView",
      "bar_style": "success",
      "description": "",
      "description_tooltip": null,
      "layout": "IPY_MODEL_f94e08bb3adb4c54b3e04713795467aa",
      "max": 50,
      "min": 0,
      "orientation": "horizontal",
      "style": "IPY_MODEL_4671d2ae6edd4795b908c0fa46914774",
      "value": 50
     }
    },
    "fa622655d72d4dd59b85468b0e772055": {
     "model_module": "@jupyter-widgets/controls",
     "model_module_version": "1.5.0",
     "model_name": "HTMLModel",
     "state": {
      "_dom_classes": [],
      "_model_module": "@jupyter-widgets/controls",
      "_model_module_version": "1.5.0",
      "_model_name": "HTMLModel",
      "_view_count": null,
      "_view_module": "@jupyter-widgets/controls",
      "_view_module_version": "1.5.0",
      "_view_name": "HTMLView",
      "description": "",
      "description_tooltip": null,
      "layout": "IPY_MODEL_e5892867ad1e41e9823e9414a6b5291a",
      "placeholder": "​",
      "style": "IPY_MODEL_7c53c64ad53d46ad80f15a732c442e47",
      "value": "llm_classify "
     }
    },
    "fa7be9de059f44adb92c228f931eeba2": {
     "model_module": "@jupyter-widgets/controls",
     "model_module_version": "1.5.0",
     "model_name": "HTMLModel",
     "state": {
      "_dom_classes": [],
      "_model_module": "@jupyter-widgets/controls",
      "_model_module_version": "1.5.0",
      "_model_name": "HTMLModel",
      "_view_count": null,
      "_view_module": "@jupyter-widgets/controls",
      "_view_module_version": "1.5.0",
      "_view_name": "HTMLView",
      "description": "",
      "description_tooltip": null,
      "layout": "IPY_MODEL_7d8e8435773b4911b9731d1c8c33ea3c",
      "placeholder": "​",
      "style": "IPY_MODEL_606b36ab9b784ce4ad22c2d0fddadc98",
      "value": " 50/50 (100.0%) | ⏳ 00:06&lt;00:00 | 10.84it/s"
     }
    },
    "fb554c7c9e734c87b0daf988e23ad8c1": {
     "model_module": "@jupyter-widgets/controls",
     "model_module_version": "1.5.0",
     "model_name": "ProgressStyleModel",
     "state": {
      "_model_module": "@jupyter-widgets/controls",
      "_model_module_version": "1.5.0",
      "_model_name": "ProgressStyleModel",
      "_view_count": null,
      "_view_module": "@jupyter-widgets/base",
      "_view_module_version": "1.2.0",
      "_view_name": "StyleView",
      "bar_color": null,
      "description_width": ""
     }
    },
    "fb882c92c475408a954d65ae60a5c579": {
     "model_module": "@jupyter-widgets/controls",
     "model_module_version": "1.5.0",
     "model_name": "ProgressStyleModel",
     "state": {
      "_model_module": "@jupyter-widgets/controls",
      "_model_module_version": "1.5.0",
      "_model_name": "ProgressStyleModel",
      "_view_count": null,
      "_view_module": "@jupyter-widgets/base",
      "_view_module_version": "1.2.0",
      "_view_name": "StyleView",
      "bar_color": null,
      "description_width": ""
     }
    },
    "fd00387d6be14ecea50541c03c4c5709": {
     "model_module": "@jupyter-widgets/controls",
     "model_module_version": "1.5.0",
     "model_name": "DescriptionStyleModel",
     "state": {
      "_model_module": "@jupyter-widgets/controls",
      "_model_module_version": "1.5.0",
      "_model_name": "DescriptionStyleModel",
      "_view_count": null,
      "_view_module": "@jupyter-widgets/base",
      "_view_module_version": "1.2.0",
      "_view_name": "StyleView",
      "description_width": ""
     }
    },
    "ffcc11db32da4f0a96ea351aaf55fcef": {
     "model_module": "@jupyter-widgets/controls",
     "model_module_version": "1.5.0",
     "model_name": "DescriptionStyleModel",
     "state": {
      "_model_module": "@jupyter-widgets/controls",
      "_model_module_version": "1.5.0",
      "_model_name": "DescriptionStyleModel",
      "_view_count": null,
      "_view_module": "@jupyter-widgets/base",
      "_view_module_version": "1.2.0",
      "_view_name": "StyleView",
      "description_width": ""
     }
    }
   }
  }
 },
 "nbformat": 4,
 "nbformat_minor": 0
}