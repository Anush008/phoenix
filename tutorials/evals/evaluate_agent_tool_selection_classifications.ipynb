{
  "cells": [
    {
      "cell_type": "markdown",
      "metadata": {
        "id": "aEJv_ZkwEGba"
      },
      "source": [
        "<center>\n",
        "    <p style=\"text-align:center\">\n",
        "        <img alt=\"phoenix logo\" src=\"https://storage.googleapis.com/arize-assets/arize-logo-white.jpg\" width=\"200\"/>\n",
        "        <br>\n",
        "        <img alt=\"phoenix logo\" src=\"https://storage.googleapis.com/arize-assets/phoenix/assets/phoenix-logo-light.svg\" width=\"200\"/>\n",
        "        <br>\n",
        "        <a href=\"https://arize.com/docs/phoenix/\">Docs</a>\n",
        "        |\n",
        "        <a href=\"https://github.com/Arize-ai/phoenix\">GitHub</a>\n",
        "        |\n",
        "        <a href=\"https://arize-ai.slack.com/join/shared_invite/zt-2w57bhem8-hq24MB6u7yE_ZF_ilOYSBw#/shared-invite/email\">Community</a>\n",
        "    </p>\n",
        "</center>\n",
        "<h1 align=\"center\">Agent Tool Selection Classification Evals</h1>\n",
        "\n",
        "The purpose of this notebook is:\n",
        "\n",
        "- to evaluate the performance of an LLM-assisted approach to evaluating agent tool selection,\n",
        "- to provide an experimental framework for users to iterate and improve on the default agent tool calling template.\n",
        "\n",
        "## Install Dependencies and Import Libraries"
      ]
    },
    {
      "cell_type": "code",
      "execution_count": 2,
      "metadata": {
        "id": "0la5vhfxEGbb",
        "colab": {
          "base_uri": "https://localhost:8080/"
        },
        "outputId": "d71b0072-885e-4960-a3a3-1905cd3a2012"
      },
      "outputs": [
        {
          "output_type": "stream",
          "name": "stdout",
          "text": [
            "\u001b[2K     \u001b[90m━━━━━━━━━━━━━━━━━━━━━━━━━━━━━━━━━━━━━━━━\u001b[0m \u001b[32m50.3/50.3 kB\u001b[0m \u001b[31m2.8 MB/s\u001b[0m eta \u001b[36m0:00:00\u001b[0m\n",
            "\u001b[2K     \u001b[90m━━━━━━━━━━━━━━━━━━━━━━━━━━━━━━━━━━━━━━━━\u001b[0m \u001b[32m72.3/72.3 kB\u001b[0m \u001b[31m5.0 MB/s\u001b[0m eta \u001b[36m0:00:00\u001b[0m\n",
            "\u001b[2K   \u001b[90m━━━━━━━━━━━━━━━━━━━━━━━━━━━━━━━━━━━━━━━━\u001b[0m \u001b[32m64.3/64.3 kB\u001b[0m \u001b[31m6.7 MB/s\u001b[0m eta \u001b[36m0:00:00\u001b[0m\n",
            "\u001b[2K   \u001b[90m━━━━━━━━━━━━━━━━━━━━━━━━━━━━━━━━━━━━━━━━\u001b[0m \u001b[32m70.9/70.9 kB\u001b[0m \u001b[31m6.0 MB/s\u001b[0m eta \u001b[36m0:00:00\u001b[0m\n",
            "\u001b[2K   \u001b[90m━━━━━━━━━━━━━━━━━━━━━━━━━━━━━━━━━━━━━━━━\u001b[0m \u001b[32m118.5/118.5 kB\u001b[0m \u001b[31m13.8 MB/s\u001b[0m eta \u001b[36m0:00:00\u001b[0m\n",
            "\u001b[2K   \u001b[90m━━━━━━━━━━━━━━━━━━━━━━━━━━━━━━━━━━━━━━━━\u001b[0m \u001b[32m65.8/65.8 kB\u001b[0m \u001b[31m5.5 MB/s\u001b[0m eta \u001b[36m0:00:00\u001b[0m\n",
            "\u001b[2K   \u001b[90m━━━━━━━━━━━━━━━━━━━━━━━━━━━━━━━━━━━━━━━━\u001b[0m \u001b[32m196.2/196.2 kB\u001b[0m \u001b[31m19.5 MB/s\u001b[0m eta \u001b[36m0:00:00\u001b[0m\n",
            "\u001b[2K   \u001b[90m━━━━━━━━━━━━━━━━━━━━━━━━━━━━━━━━━━━━━━━━\u001b[0m \u001b[32m235.0/235.0 kB\u001b[0m \u001b[31m23.3 MB/s\u001b[0m eta \u001b[36m0:00:00\u001b[0m\n",
            "\u001b[2K   \u001b[90m━━━━━━━━━━━━━━━━━━━━━━━━━━━━━━━━━━━━━━━━\u001b[0m \u001b[32m76.4/76.4 kB\u001b[0m \u001b[31m8.9 MB/s\u001b[0m eta \u001b[36m0:00:00\u001b[0m\n",
            "\u001b[2K   \u001b[90m━━━━━━━━━━━━━━━━━━━━━━━━━━━━━━━━━━━━━━━━\u001b[0m \u001b[32m610.4/610.4 kB\u001b[0m \u001b[31m37.5 MB/s\u001b[0m eta \u001b[36m0:00:00\u001b[0m\n",
            "\u001b[2K   \u001b[90m━━━━━━━━━━━━━━━━━━━━━━━━━━━━━━━━━━━━━━━━\u001b[0m \u001b[32m1.6/1.6 MB\u001b[0m \u001b[31m65.2 MB/s\u001b[0m eta \u001b[36m0:00:00\u001b[0m\n",
            "\u001b[?25h\u001b[31mERROR: pip's dependency resolver does not currently take into account all the packages that are installed. This behaviour is the source of the following dependency conflicts.\n",
            "google-genai 1.23.0 requires httpx<1.0.0,>=0.28.1, but you have httpx 0.27.2 which is incompatible.\n",
            "firebase-admin 6.9.0 requires httpx[http2]==0.28.1, but you have httpx 0.27.2 which is incompatible.\u001b[0m\u001b[31m\n",
            "\u001b[0mRequirement already satisfied: opentelemetry-sdk in /usr/local/lib/python3.11/dist-packages (1.34.1)\n",
            "Requirement already satisfied: arize[Datasets] in /usr/local/lib/python3.11/dist-packages (7.46.0)\n",
            "Requirement already satisfied: googleapis-common-protos<2,>=1.51.0 in /usr/local/lib/python3.11/dist-packages (from arize[Datasets]) (1.70.0)\n",
            "Requirement already satisfied: pandas<3,>=0.25.3 in /usr/local/lib/python3.11/dist-packages (from arize[Datasets]) (2.2.2)\n",
            "Requirement already satisfied: protobuf<6,>=4.21.0 in /usr/local/lib/python3.11/dist-packages (from arize[Datasets]) (5.29.5)\n",
            "Requirement already satisfied: pyarrow>=0.15.0 in /usr/local/lib/python3.11/dist-packages (from arize[Datasets]) (18.1.0)\n",
            "Requirement already satisfied: pydantic<3,>=2.0.0 in /usr/local/lib/python3.11/dist-packages (from arize[Datasets]) (2.11.7)\n",
            "Requirement already satisfied: requests-futures==1.0.0 in /usr/local/lib/python3.11/dist-packages (from arize[Datasets]) (1.0.0)\n",
            "Requirement already satisfied: tqdm<5,>=4.60.0 in /usr/local/lib/python3.11/dist-packages (from arize[Datasets]) (4.67.1)\n",
            "Collecting deprecated (from arize[Datasets])\n",
            "  Downloading Deprecated-1.2.18-py2.py3-none-any.whl.metadata (5.7 kB)\n",
            "Collecting openinference-semantic-conventions<1,>=0.1.6 (from arize[Datasets])\n",
            "  Downloading openinference_semantic_conventions-0.1.21-py3-none-any.whl.metadata (1.2 kB)\n",
            "Collecting opentelemetry-exporter-otlp<2,>=1.25.0 (from arize[Datasets])\n",
            "  Downloading opentelemetry_exporter_otlp-1.34.1-py3-none-any.whl.metadata (2.4 kB)\n",
            "Requirement already satisfied: opentelemetry-semantic-conventions<1,>=0.43b0 in /usr/local/lib/python3.11/dist-packages (from arize[Datasets]) (0.55b1)\n",
            "Requirement already satisfied: typing-extensions<5,>=4 in /usr/local/lib/python3.11/dist-packages (from arize[Datasets]) (4.14.0)\n",
            "Requirement already satisfied: wrapt<2,>=1.12.1 in /usr/local/lib/python3.11/dist-packages (from arize[Datasets]) (1.17.2)\n",
            "Requirement already satisfied: requests>=1.2.0 in /usr/local/lib/python3.11/dist-packages (from requests-futures==1.0.0->arize[Datasets]) (2.32.3)\n",
            "Requirement already satisfied: opentelemetry-api==1.34.1 in /usr/local/lib/python3.11/dist-packages (from opentelemetry-sdk) (1.34.1)\n",
            "Requirement already satisfied: importlib-metadata<8.8.0,>=6.0 in /usr/local/lib/python3.11/dist-packages (from opentelemetry-api==1.34.1->opentelemetry-sdk) (8.7.0)\n",
            "Collecting opentelemetry-exporter-otlp-proto-grpc==1.34.1 (from opentelemetry-exporter-otlp<2,>=1.25.0->arize[Datasets])\n",
            "  Downloading opentelemetry_exporter_otlp_proto_grpc-1.34.1-py3-none-any.whl.metadata (2.4 kB)\n",
            "Collecting opentelemetry-exporter-otlp-proto-http==1.34.1 (from opentelemetry-exporter-otlp<2,>=1.25.0->arize[Datasets])\n",
            "  Downloading opentelemetry_exporter_otlp_proto_http-1.34.1-py3-none-any.whl.metadata (2.3 kB)\n",
            "Requirement already satisfied: grpcio<2.0.0,>=1.63.2 in /usr/local/lib/python3.11/dist-packages (from opentelemetry-exporter-otlp-proto-grpc==1.34.1->opentelemetry-exporter-otlp<2,>=1.25.0->arize[Datasets]) (1.73.1)\n",
            "Collecting opentelemetry-exporter-otlp-proto-common==1.34.1 (from opentelemetry-exporter-otlp-proto-grpc==1.34.1->opentelemetry-exporter-otlp<2,>=1.25.0->arize[Datasets])\n",
            "  Downloading opentelemetry_exporter_otlp_proto_common-1.34.1-py3-none-any.whl.metadata (1.9 kB)\n",
            "Collecting opentelemetry-proto==1.34.1 (from opentelemetry-exporter-otlp-proto-grpc==1.34.1->opentelemetry-exporter-otlp<2,>=1.25.0->arize[Datasets])\n",
            "  Downloading opentelemetry_proto-1.34.1-py3-none-any.whl.metadata (2.4 kB)\n",
            "Requirement already satisfied: numpy>=1.23.2 in /usr/local/lib/python3.11/dist-packages (from pandas<3,>=0.25.3->arize[Datasets]) (2.0.2)\n",
            "Requirement already satisfied: python-dateutil>=2.8.2 in /usr/local/lib/python3.11/dist-packages (from pandas<3,>=0.25.3->arize[Datasets]) (2.9.0.post0)\n",
            "Requirement already satisfied: pytz>=2020.1 in /usr/local/lib/python3.11/dist-packages (from pandas<3,>=0.25.3->arize[Datasets]) (2025.2)\n",
            "Requirement already satisfied: tzdata>=2022.7 in /usr/local/lib/python3.11/dist-packages (from pandas<3,>=0.25.3->arize[Datasets]) (2025.2)\n",
            "Requirement already satisfied: annotated-types>=0.6.0 in /usr/local/lib/python3.11/dist-packages (from pydantic<3,>=2.0.0->arize[Datasets]) (0.7.0)\n",
            "Requirement already satisfied: pydantic-core==2.33.2 in /usr/local/lib/python3.11/dist-packages (from pydantic<3,>=2.0.0->arize[Datasets]) (2.33.2)\n",
            "Requirement already satisfied: typing-inspection>=0.4.0 in /usr/local/lib/python3.11/dist-packages (from pydantic<3,>=2.0.0->arize[Datasets]) (0.4.1)\n",
            "Requirement already satisfied: zipp>=3.20 in /usr/local/lib/python3.11/dist-packages (from importlib-metadata<8.8.0,>=6.0->opentelemetry-api==1.34.1->opentelemetry-sdk) (3.23.0)\n",
            "Requirement already satisfied: six>=1.5 in /usr/local/lib/python3.11/dist-packages (from python-dateutil>=2.8.2->pandas<3,>=0.25.3->arize[Datasets]) (1.17.0)\n",
            "Requirement already satisfied: charset-normalizer<4,>=2 in /usr/local/lib/python3.11/dist-packages (from requests>=1.2.0->requests-futures==1.0.0->arize[Datasets]) (3.4.2)\n",
            "Requirement already satisfied: idna<4,>=2.5 in /usr/local/lib/python3.11/dist-packages (from requests>=1.2.0->requests-futures==1.0.0->arize[Datasets]) (3.10)\n",
            "Requirement already satisfied: urllib3<3,>=1.21.1 in /usr/local/lib/python3.11/dist-packages (from requests>=1.2.0->requests-futures==1.0.0->arize[Datasets]) (2.4.0)\n",
            "Requirement already satisfied: certifi>=2017.4.17 in /usr/local/lib/python3.11/dist-packages (from requests>=1.2.0->requests-futures==1.0.0->arize[Datasets]) (2025.6.15)\n",
            "Downloading openinference_semantic_conventions-0.1.21-py3-none-any.whl (10 kB)\n",
            "Downloading opentelemetry_exporter_otlp-1.34.1-py3-none-any.whl (7.0 kB)\n",
            "Downloading opentelemetry_exporter_otlp_proto_grpc-1.34.1-py3-none-any.whl (18 kB)\n",
            "Downloading opentelemetry_exporter_otlp_proto_http-1.34.1-py3-none-any.whl (17 kB)\n",
            "Downloading opentelemetry_exporter_otlp_proto_common-1.34.1-py3-none-any.whl (18 kB)\n",
            "Downloading opentelemetry_proto-1.34.1-py3-none-any.whl (55 kB)\n",
            "\u001b[2K   \u001b[90m━━━━━━━━━━━━━━━━━━━━━━━━━━━━━━━━━━━━━━━━\u001b[0m \u001b[32m55.7/55.7 kB\u001b[0m \u001b[31m4.1 MB/s\u001b[0m eta \u001b[36m0:00:00\u001b[0m\n",
            "\u001b[?25hDownloading Deprecated-1.2.18-py2.py3-none-any.whl (10.0 kB)\n",
            "Installing collected packages: opentelemetry-proto, openinference-semantic-conventions, deprecated, opentelemetry-exporter-otlp-proto-common, opentelemetry-exporter-otlp-proto-http, opentelemetry-exporter-otlp-proto-grpc, opentelemetry-exporter-otlp\n",
            "Successfully installed deprecated-1.2.18 openinference-semantic-conventions-0.1.21 opentelemetry-exporter-otlp-1.34.1 opentelemetry-exporter-otlp-proto-common-1.34.1 opentelemetry-exporter-otlp-proto-grpc-1.34.1 opentelemetry-exporter-otlp-proto-http-1.34.1 opentelemetry-proto-1.34.1\n",
            "Requirement already satisfied: openai in /usr/local/lib/python3.11/dist-packages (1.93.0)\n",
            "Requirement already satisfied: pandas in /usr/local/lib/python3.11/dist-packages (2.2.2)\n",
            "Requirement already satisfied: anyio<5,>=3.5.0 in /usr/local/lib/python3.11/dist-packages (from openai) (4.9.0)\n",
            "Requirement already satisfied: distro<2,>=1.7.0 in /usr/local/lib/python3.11/dist-packages (from openai) (1.9.0)\n",
            "Requirement already satisfied: httpx<1,>=0.23.0 in /usr/local/lib/python3.11/dist-packages (from openai) (0.27.2)\n",
            "Requirement already satisfied: jiter<1,>=0.4.0 in /usr/local/lib/python3.11/dist-packages (from openai) (0.10.0)\n",
            "Requirement already satisfied: pydantic<3,>=1.9.0 in /usr/local/lib/python3.11/dist-packages (from openai) (2.11.7)\n",
            "Requirement already satisfied: sniffio in /usr/local/lib/python3.11/dist-packages (from openai) (1.3.1)\n",
            "Requirement already satisfied: tqdm>4 in /usr/local/lib/python3.11/dist-packages (from openai) (4.67.1)\n",
            "Requirement already satisfied: typing-extensions<5,>=4.11 in /usr/local/lib/python3.11/dist-packages (from openai) (4.14.0)\n",
            "Requirement already satisfied: numpy>=1.23.2 in /usr/local/lib/python3.11/dist-packages (from pandas) (2.0.2)\n",
            "Requirement already satisfied: python-dateutil>=2.8.2 in /usr/local/lib/python3.11/dist-packages (from pandas) (2.9.0.post0)\n",
            "Requirement already satisfied: pytz>=2020.1 in /usr/local/lib/python3.11/dist-packages (from pandas) (2025.2)\n",
            "Requirement already satisfied: tzdata>=2022.7 in /usr/local/lib/python3.11/dist-packages (from pandas) (2025.2)\n",
            "Requirement already satisfied: idna>=2.8 in /usr/local/lib/python3.11/dist-packages (from anyio<5,>=3.5.0->openai) (3.10)\n",
            "Requirement already satisfied: certifi in /usr/local/lib/python3.11/dist-packages (from httpx<1,>=0.23.0->openai) (2025.6.15)\n",
            "Requirement already satisfied: httpcore==1.* in /usr/local/lib/python3.11/dist-packages (from httpx<1,>=0.23.0->openai) (1.0.9)\n",
            "Requirement already satisfied: h11>=0.16 in /usr/local/lib/python3.11/dist-packages (from httpcore==1.*->httpx<1,>=0.23.0->openai) (0.16.0)\n",
            "Requirement already satisfied: annotated-types>=0.6.0 in /usr/local/lib/python3.11/dist-packages (from pydantic<3,>=1.9.0->openai) (0.7.0)\n",
            "Requirement already satisfied: pydantic-core==2.33.2 in /usr/local/lib/python3.11/dist-packages (from pydantic<3,>=1.9.0->openai) (2.33.2)\n",
            "Requirement already satisfied: typing-inspection>=0.4.0 in /usr/local/lib/python3.11/dist-packages (from pydantic<3,>=1.9.0->openai) (0.4.1)\n",
            "Requirement already satisfied: six>=1.5 in /usr/local/lib/python3.11/dist-packages (from python-dateutil>=2.8.2->pandas) (1.17.0)\n",
            "Collecting anthropic>=0.18.0\n",
            "  Downloading anthropic-0.56.0-py3-none-any.whl.metadata (27 kB)\n",
            "Requirement already satisfied: anyio<5,>=3.5.0 in /usr/local/lib/python3.11/dist-packages (from anthropic>=0.18.0) (4.9.0)\n",
            "Requirement already satisfied: distro<2,>=1.7.0 in /usr/local/lib/python3.11/dist-packages (from anthropic>=0.18.0) (1.9.0)\n",
            "Requirement already satisfied: httpx<1,>=0.25.0 in /usr/local/lib/python3.11/dist-packages (from anthropic>=0.18.0) (0.27.2)\n",
            "Requirement already satisfied: jiter<1,>=0.4.0 in /usr/local/lib/python3.11/dist-packages (from anthropic>=0.18.0) (0.10.0)\n",
            "Requirement already satisfied: pydantic<3,>=1.9.0 in /usr/local/lib/python3.11/dist-packages (from anthropic>=0.18.0) (2.11.7)\n",
            "Requirement already satisfied: sniffio in /usr/local/lib/python3.11/dist-packages (from anthropic>=0.18.0) (1.3.1)\n",
            "Requirement already satisfied: typing-extensions<5,>=4.10 in /usr/local/lib/python3.11/dist-packages (from anthropic>=0.18.0) (4.14.0)\n",
            "Requirement already satisfied: idna>=2.8 in /usr/local/lib/python3.11/dist-packages (from anyio<5,>=3.5.0->anthropic>=0.18.0) (3.10)\n",
            "Requirement already satisfied: certifi in /usr/local/lib/python3.11/dist-packages (from httpx<1,>=0.25.0->anthropic>=0.18.0) (2025.6.15)\n",
            "Requirement already satisfied: httpcore==1.* in /usr/local/lib/python3.11/dist-packages (from httpx<1,>=0.25.0->anthropic>=0.18.0) (1.0.9)\n",
            "Requirement already satisfied: h11>=0.16 in /usr/local/lib/python3.11/dist-packages (from httpcore==1.*->httpx<1,>=0.25.0->anthropic>=0.18.0) (0.16.0)\n",
            "Requirement already satisfied: annotated-types>=0.6.0 in /usr/local/lib/python3.11/dist-packages (from pydantic<3,>=1.9.0->anthropic>=0.18.0) (0.7.0)\n",
            "Requirement already satisfied: pydantic-core==2.33.2 in /usr/local/lib/python3.11/dist-packages (from pydantic<3,>=1.9.0->anthropic>=0.18.0) (2.33.2)\n",
            "Requirement already satisfied: typing-inspection>=0.4.0 in /usr/local/lib/python3.11/dist-packages (from pydantic<3,>=1.9.0->anthropic>=0.18.0) (0.4.1)\n",
            "Downloading anthropic-0.56.0-py3-none-any.whl (289 kB)\n",
            "\u001b[2K   \u001b[90m━━━━━━━━━━━━━━━━━━━━━━━━━━━━━━━━━━━━━━━━\u001b[0m \u001b[32m289.6/289.6 kB\u001b[0m \u001b[31m12.4 MB/s\u001b[0m eta \u001b[36m0:00:00\u001b[0m\n",
            "\u001b[?25hInstalling collected packages: anthropic\n",
            "Successfully installed anthropic-0.56.0\n"
          ]
        }
      ],
      "source": [
        "!pip install -qq \"arize-phoenix-evals>=0.22.0\" \"openai>=1\" ipython matplotlib pycm pyarrow opentelemetry-sdk scikit-learn arize tiktoken nest_asyncio 'httpx<0.28'\n",
        "!pip install \"arize[Datasets]\" opentelemetry-sdk\n",
        "!pip install openai pandas\n",
        "!pip install \"anthropic>=0.18.0\""
      ]
    },
    {
      "cell_type": "markdown",
      "metadata": {
        "id": "UX492hfvEGbb"
      },
      "source": [
        "ℹ️ To enable async request submission in notebook environments like Jupyter or Google Colab, optionally use `nest_asyncio`. `nest_asyncio` globally patches `asyncio` to enable event loops to be re-entrant. This is not required for non-notebook environments.\n",
        "\n",
        "Without `nest_asyncio`, eval submission can be much slower, depending on your organization's rate limits. Speed increases of about 5x are typical."
      ]
    },
    {
      "cell_type": "code",
      "execution_count": 3,
      "metadata": {
        "id": "OKTub2q4EGbc"
      },
      "outputs": [],
      "source": [
        "import nest_asyncio\n",
        "\n",
        "nest_asyncio.apply()"
      ]
    },
    {
      "cell_type": "code",
      "execution_count": 4,
      "metadata": {
        "id": "5N4dMv_1EGbc"
      },
      "outputs": [],
      "source": [
        "import os\n",
        "import json\n",
        "from getpass import getpass\n",
        "\n",
        "import matplotlib.pyplot as plt\n",
        "import openai\n",
        "import pandas as pd\n",
        "from pycm import ConfusionMatrix\n",
        "from sklearn.metrics import classification_report\n",
        "\n",
        "import phoenix.evals.default_templates as templates\n",
        "from phoenix.evals import (\n",
        "    OpenAIModel,\n",
        "    AnthropicModel,\n",
        "    llm_classify,\n",
        ")\n",
        "\n",
        "pd.set_option(\"display.max_colwidth\", None)"
      ]
    },
    {
      "cell_type": "markdown",
      "metadata": {
        "id": "Gthqcv8xEGbc"
      },
      "source": [
        "## Download Benchmark Dataset\n",
        "\n",
        "We'll evaluate the evaluation system consisting of a few example user prompts, with corresponding tool choices and ground truth answers, in addition to an evaluation prompt template against benchmark datasets of user queries and the corresponding tools called with ground-truth labels. We will be using the Berkely Function-Calling Leaderboard dataset. This dataset is commonly used for Agent applications that call tools as a benchmark."
      ]
    },
    {
      "cell_type": "code",
      "execution_count": 5,
      "metadata": {
        "colab": {
          "base_uri": "https://localhost:8080/"
        },
        "id": "a5mv7s5zPpTu",
        "outputId": "f6e83fd8-09e3-470e-91c5-121899d55f05"
      },
      "outputs": [
        {
          "output_type": "stream",
          "name": "stdout",
          "text": [
            "--2025-07-03 14:00:16--  https://huggingface.co/datasets/gorilla-llm/Berkeley-Function-Calling-Leaderboard/blob/main/BFCL_v3_exec_multiple.json\n",
            "Resolving huggingface.co (huggingface.co)... 18.164.174.118, 18.164.174.23, 18.164.174.55, ...\n",
            "Connecting to huggingface.co (huggingface.co)|18.164.174.118|:443... connected.\n",
            "HTTP request sent, awaiting response... 200 OK\n",
            "Length: 1201624 (1.1M) [text/html]\n",
            "Saving to: ‘exec_simple.json’\n",
            "\n",
            "exec_simple.json    100%[===================>]   1.15M  5.22MB/s    in 0.2s    \n",
            "\n",
            "2025-07-03 14:00:17 (5.22 MB/s) - ‘exec_simple.json’ saved [1201624/1201624]\n",
            "\n"
          ]
        }
      ],
      "source": [
        "!wget -O exec_simple.json https://huggingface.co/datasets/gorilla-llm/Berkeley-Function-Calling-Leaderboard/blob/main/BFCL_v3_exec_multiple.json"
      ]
    },
    {
      "cell_type": "code",
      "source": [
        "import json\n",
        "import requests\n",
        "import pandas as pd\n",
        "from phoenix.evals import OpenAIModel, llm_classify\n",
        "\n",
        "# Load dataset\n",
        "url = \"https://huggingface.co/datasets/gorilla-llm/Berkeley-Function-Calling-Leaderboard/resolve/main/BFCL_v3_exec_multiple.json\"\n",
        "response = requests.get(url)\n",
        "dataset = [json.loads(line) for line in response.text.strip().splitlines()]\n",
        "\n",
        "# Collect all unique tool definitions (these are all the tools the agent can choose from)\n",
        "unique_tools = {}\n",
        "for entry in dataset:\n",
        "    for tool in entry.get(\"function\", []):\n",
        "        if tool[\"name\"] not in unique_tools:\n",
        "            unique_tools[tool[\"name\"]] = tool\n",
        "\n",
        "tool_definitions_text = \"\\n\".join(\n",
        "    f\"{tool['name']}: {tool['description']} | Parameters: {json.dumps(tool['parameters'])}\"\n",
        "    for tool in unique_tools.values()\n",
        ")\n",
        "\n",
        "\n",
        "# Prepare data for evaluation\n",
        "eval_data = []\n",
        "for entry in dataset:\n",
        "    question = entry[\"question\"][0][0][\"content\"]\n",
        "    ground_truths = entry.get(\"ground_truth\", [])\n",
        "    for gt in ground_truths:\n",
        "        eval_data.append({\n",
        "            \"question\": question,\n",
        "            \"tool_call\": gt,\n",
        "            \"tool_definitions\": tool_definitions_text\n",
        "        })\n",
        "\n",
        "df_eval = pd.DataFrame(eval_data)\n",
        "df_eval.head()\n"
      ],
      "metadata": {
        "id": "FW2qxwM2P0sh",
        "colab": {
          "base_uri": "https://localhost:8080/",
          "height": 1000
        },
        "outputId": "da5166f2-32fd-4d6b-bb9c-d03a39cc429d"
      },
      "execution_count": 6,
      "outputs": [
        {
          "output_type": "execute_result",
          "data": {
            "text/plain": [
              "                                                                                                                                                                                                                                                                                                                                                                         question  \\\n",
              "0                                                                                                                  I'm playing a dice game and want to calculate my chances. I roll the die 20 times, and I'm trying to figure out the probability of landing on a 6 exactly five times, considering each roll has a one in six chance of being a 6. Could you help me with that?   \n",
              "1      I'm working on a machine learning model, comparing the characteristics of two objects. The feature vectors for these objects are [0.5, 0.7, 0.2, 0.9, 0.1] for the first object and [0.4, 0.6, 0.3, 0.8, 0.2] for the second. To understand how similar these objects are, I need to calculate the cosine similarity between these two vectors. Can you help me with that?   \n",
              "2                                                                                                                                                                           I'm currently conducting a physics experiment, and I have this object that weighs 50 kilograms and takes up a space of about 10 cubic meters. Could you help me calculate the density of this object?   \n",
              "3                                                                                                   I'm working on a physics experiment where we're tracking the movement of a special object. It starts off at 15 m/s, and we're accelerating it at a rate of 9.8 m/s². I need to calculate how far it will have traveled after 10 seconds. Can you crunch those numbers for me?   \n",
              "4  I'm conducting a physics experiment involving charged particles and electric fields. There's a particle that I've introduced into the field, and it carries a charge of exactly 5 coulombs. The electric field itself has a potential difference of 10 volts. I need to calculate the electrostatic potential energy for this scenario. Can you help me with that calculation?   \n",
              "\n",
              "                                                                                           tool_call  \\\n",
              "0                                                        calc_binomial_probability(n=20, k=5, p=1/6)   \n",
              "1  calculate_cosine_similarity(vectorA=[0.5, 0.7, 0.2, 0.9, 0.1], vectorB=[0.4, 0.6, 0.3, 0.8, 0.2])   \n",
              "2                                                              calculate_density(mass=50, volume=10)   \n",
              "3                           calculate_displacement(initial_velocity=15.0, acceleration=9.8, time=10)   \n",
              "4                                 calculate_electrostatic_potential_energy(charge=5.0, voltage=10.0)   \n",
              "\n",
              "                                                                                                                                                                                                                                                                                                                                                                                                                                                                                                                                                                                                                                                                                                                                                                                                                                                                                                                                                                                                                                                                                                                                                                                                                                                                                                                                                                                                                                                                                                                                                                                                                                                                                                                                                                                                                                                                                                                                                                                                                                                                                                                                                                                                                                                                                                                                                                                                                                                                                                                                                                                                                                                                                                                                                                                                                                                                                                                                                                                                                                                                                                                                                                                                                                                                                                                                                                                                                                                                                                                                                                                                                                                                                                                                                                                                                                                                                                                                                                                                                                                                                                                                                                                                                                                                                                                                                                                                                                                                                                                                                                                                                                                                                                                                                                                                                                                                                                                                                                                                                                                                                                                                                                                                                                                                                                                                                                                                                                                                                                                                                                                                                                                                                                                                                                                                                                                                                                                                                                                                                                                                                                                                                                                                                                                                                                                                                                                                                                                                                                                                                                                                                                                                                                                                                                                                                                                                                                                                                                                                                                                                                                                                                                                                                                                                                                                                                                                                                                                                                                                                                                                                                                                                                                                                                                                                                                                                                                                                                                                                                                                                                                                                                                                                                                                                                                                                                                                                                                                                                                                                                                                                                                                                                                                                                                                                                                                                                                                                                                                                                                                                                                                                                                                                                                                                                                                                                                                                                                                                                                                                                                                                                                                                                                                                                                                                                                                                                                                                                                                                                                                                                                                                                                                                                                                                                                                                                                                                                                                                                                                                                                                                                                                                                                                                                                                                                                                                                                                                                                                                                                                                                                                                                                                                                                                                                                                                                                                                                                                                                                                                                                                                                                                                                                                                                                                                                                                                                                                                                                                                                                                                                                                                                                                                                                                                                                                                                                                                                                                                                                                                                                                                                                                                                                                                                                                                                                                                                                                                                                                                                                                                                                                                                                                                                                                                                                                                                                                                                                                                                                                                                                                                                                                                                                                                                                                                                                                                                                                                                                                                                                                                                                                                                                                                                                                                                                                                                                                                                                                                                                                                                                                                                                                                                                                                                                                                                                                                                                                                                                                                                                                                                                                                                                                                                                                                                                                                                                                                                                                                                                                                                                                                                                                                                                                                                                                                                                                                                                                                                                                                                                                                                                                                                                                                                                                                                                                                                                                                                                                                                                                                                                                                                                                                                                                                                                                                                                                                                                                                                                                                                                                                                                                                                                                                                                                                                                                                                                                                                                                                                                                                                                                                                                                                                                                                                                                                                                                                                                                                                                                                                                                                                                                                                                                                                                                                                                                                                                                                                                                                                                                                                                                                                                                                                                                                                                                                                                                                                                                                                                                                                                                                                                                                                                                                                                                                                                                                                                                                                                                                                                                                                                                                                                                                                                                                                                                                                                                                                                                                                                                                                                                                                                                                                                                                                                                                                                                                                                                                                                                                                                                                                                                                                                                                                                                                                                                                                                                                                                                                                                                                                                                                                                                                                                                                                                                                                                                                                                                                                                                                                                                                                                                                                                                                                                                                                                                                                                                                                                                                                                                                                                                                                                                                                                                                                                                                                                                                                                                                                                                                                                                                                                                                                                                                                                                                                                                                                                                                                                                                                                                                                                                                                                                                                                                                                                                                                                                                                                                                                                                                                                                                                                                                                                                                                                                                                                                                                                                                                                                                                                                                                                                                                                                                                                                                                                                                                                                                                                                                                                                                                                                                                                                                                                                                                                                                                                                                                                                                                                                                                                                                                                                                                                                                                                                                                                                                                                                                                                                                                                                                                                                                                                                                                                                                                                                                                                                                                                                                                                                                                                                                                                                                                                                                                                                                                                                                                tool_definitions  \n",
              "0  get_weather_data: Fetches weather data from the Open-Meteo API for the given latitude and longitude. | Parameters: {\"type\": \"dict\", \"properties\": {\"coordinates\": {\"type\": \"array\", \"items\": {\"type\": \"float\"}, \"description\": \"The latitude and longitude of the location.\"}}, \"required\": [\"coordinates\"]}\\ncalc_binomial_probability: Calculates the probability of getting k successes in n trials. | Parameters: {\"type\": \"dict\", \"properties\": {\"n\": {\"type\": \"integer\", \"description\": \"The number of trials.\"}, \"k\": {\"type\": \"integer\", \"description\": \"The number of successes.\"}, \"p\": {\"type\": \"float\", \"description\": \"The probability of success.\"}}, \"required\": [\"n\", \"k\", \"p\"]}\\ncalculate_cosine_similarity: Calculates the cosine similarity of two vectors. | Parameters: {\"type\": \"dict\", \"properties\": {\"vectorA\": {\"type\": \"array\", \"items\": {\"type\": \"float\"}, \"description\": \"The first vector.\"}, \"vectorB\": {\"type\": \"array\", \"items\": {\"type\": \"float\"}, \"description\": \"The second vector.\"}}, \"required\": [\"vectorA\", \"vectorB\"]}\\nget_stock_price_by_stock_name: Finds the price of a stock by its stock name. | Parameters: {\"type\": \"dict\", \"properties\": {\"stock_name\": {\"type\": \"string\", \"description\": \"The stock name of the product, in the format of the stock symbol.\"}}, \"required\": [\"stock_name\"]}\\ncalculate_density: Calculates the density of an object. | Parameters: {\"type\": \"dict\", \"properties\": {\"mass\": {\"type\": \"float\", \"description\": \"The mass of the object, in kilograms.\"}, \"volume\": {\"type\": \"float\", \"description\": \"The volume of the object, in cubic meters.\"}}, \"required\": [\"mass\", \"volume\"]}\\ncalculate_future_value: Calculates the future value of an investment. | Parameters: {\"type\": \"dict\", \"properties\": {\"present_value\": {\"type\": \"float\", \"description\": \"The present value of the investment, in dollars.\"}, \"interest_rate\": {\"type\": \"float\", \"description\": \"The interest rate of the investment, ranging from 0 to 1.\"}, \"periods\": {\"type\": \"integer\", \"description\": \"The number of periods, in years.\"}}, \"required\": [\"present_value\", \"interest_rate\", \"periods\"]}\\nget_rating_by_amazon_ASIN: Finds the rating of a product by its Amazon ASIN. | Parameters: {\"type\": \"dict\", \"properties\": {\"ASIN\": {\"type\": \"string\", \"description\": \"The Amazon ASIN of the product.\"}}, \"required\": [\"ASIN\"]}\\nretrieve_holiday_by_year: Finds the holidays of a year. | Parameters: {\"type\": \"dict\", \"properties\": {\"year\": {\"type\": \"string\", \"description\": \"The year of the holidays.\"}, \"country\": {\"type\": \"string\", \"description\": \"The country of the holidays. Possible options: US, AT, DE, ES, FR, GB, IT, NL, PL, RO, SK, UA.\"}}, \"required\": [\"year\", \"country\"]}\\ncalculate_displacement: Calculates the displacement of an object. | Parameters: {\"type\": \"dict\", \"properties\": {\"initial_velocity\": {\"type\": \"float\", \"description\": \"The initial velocity of the object, in meters per second.\"}, \"acceleration\": {\"type\": \"float\", \"description\": \"The acceleration of the object, in meters per second squared.\"}, \"time\": {\"type\": \"float\", \"description\": \"The time the object has been moving, in seconds.\"}}, \"required\": [\"initial_velocity\", \"acceleration\", \"time\"]}\\nget_zipcode_by_ip_address: Finds the zipcode of an IP address. | Parameters: {\"type\": \"dict\", \"properties\": {\"ip_address\": {\"type\": \"string\", \"description\": \"The IP address to find the location of.\"}}, \"required\": [\"ip_address\"]}\\ncalculate_electrostatic_potential_energy: Calculates the electrostatic potential energy. | Parameters: {\"type\": \"dict\", \"properties\": {\"charge\": {\"type\": \"float\", \"description\": \"The charge of the object, in coulombs.\"}, \"voltage\": {\"type\": \"float\", \"description\": \"The voltage of the object, in volts.\"}}, \"required\": [\"charge\", \"voltage\"]}\\nmortgage_calculator: Calculates the monthly mortgage payment. | Parameters: {\"type\": \"dict\", \"properties\": {\"loan_amount\": {\"type\": \"float\", \"description\": \"The amount of the loan.\"}, \"interest_rate\": {\"type\": \"float\", \"description\": \"The interest rate of the loan, ranging from 0 to 1.\"}, \"loan_period\": {\"type\": \"integer\", \"description\": \"The period of the loan, in years.\"}}, \"required\": [\"loan_amount\", \"interest_rate\", \"loan_period\"]}\\ncalculate_final_velocity: Calculates the final velocity of an object. | Parameters: {\"type\": \"dict\", \"properties\": {\"initial_velocity\": {\"type\": \"float\", \"description\": \"The initial velocity of the object.\"}, \"acceleration\": {\"type\": \"float\", \"description\": \"The acceleration of the object.\"}, \"time\": {\"type\": \"float\", \"description\": \"The time the object has been moving.\"}}, \"required\": [\"initial_velocity\", \"acceleration\", \"time\"]}\\nget_fibonacci_sequence: Calculates the n numbers of the Fibonacci. | Parameters: {\"type\": \"dict\", \"properties\": {\"n\": {\"type\": \"integer\", \"description\": \"The number of Fibonacci numbers to calculate.\"}}, \"required\": [\"n\"]}\\nsort_array: Sorts an array of numbers. | Parameters: {\"type\": \"dict\", \"properties\": {\"array\": {\"type\": \"array\", \"items\": {\"type\": \"float\"}, \"description\": \"The array of numbers.\"}, \"reverse\": {\"type\": \"boolean\", \"description\": \"Whether to sort the array in reverse order, i.e., descending order.\", \"default\": false}}, \"required\": [\"array\"]}\\nget_time_zone_by_coord: Finds the timezone of a coordinate. | Parameters: {\"type\": \"dict\", \"properties\": {\"long\": {\"type\": \"string\", \"description\": \"The longitude of the coordinate.\"}, \"lat\": {\"type\": \"string\", \"description\": \"The latitude of the coordinate.\"}}, \"required\": [\"long\", \"lat\"]}\\ncalculate_mean: Calculates the mean of a list of numbers. | Parameters: {\"type\": \"dict\", \"properties\": {\"numbers\": {\"type\": \"array\", \"items\": {\"type\": \"integer\"}, \"description\": \"The list of numbers.\"}}, \"required\": [\"numbers\"]}\\ncalculate_permutations: Calculates the number of permutations of k elements from a set of n elements. | Parameters: {\"type\": \"dict\", \"properties\": {\"n\": {\"type\": \"integer\", \"description\": \"The number of elements in the set.\"}, \"k\": {\"type\": \"integer\", \"description\": \"The number of elements to choose.\"}}, \"required\": [\"n\", \"k\"]}\\nget_company_name_by_stock_name: Finds the company name of a stock by its stock name. | Parameters: {\"type\": \"dict\", \"properties\": {\"stock_name\": {\"type\": \"string\", \"description\": \"The stock name of the product, in the format of the stock symbol.\"}}, \"required\": [\"stock_name\"]}\\ncalculate_standard_deviation: Calculates the standard deviation of a list of numbers. | Parameters: {\"type\": \"dict\", \"properties\": {\"numbers\": {\"type\": \"array\", \"items\": {\"type\": \"integer\"}, \"description\": \"The list of numbers.\"}}, \"required\": [\"numbers\"]}\\nmath_lcm: Calculates the least common multiple of two numbers. | Parameters: {\"type\": \"dict\", \"properties\": {\"a\": {\"type\": \"integer\", \"description\": \"The first number. This should be the larger number.\"}, \"b\": {\"type\": \"integer\", \"description\": \"The second number.\"}}, \"required\": [\"a\", \"b\"]}\\ncalculate_triangle_area: Calculates the area of a triangle given its base and height. | Parameters: {\"type\": \"dict\", \"properties\": {\"base\": {\"type\": \"integer\", \"description\": \"The base of the triangle, in meters.\"}, \"height\": {\"type\": \"integer\", \"description\": \"The height of the triangle, in meters.\"}}, \"required\": [\"base\", \"height\"]}\\nconvert_currency: Converts a given amount from one currency to another using the ExchangeRate-API. | Parameters: {\"type\": \"dict\", \"properties\": {\"amount\": {\"type\": \"float\", \"description\": \"The amount of money to convert, in the base currency.\"}, \"from_currency\": {\"type\": \"string\", \"description\": \"The ISO currency code for the base currency.\"}, \"to_currency\": {\"type\": \"string\", \"description\": \"The ISO currency code for the target currency.\"}}, \"required\": [\"amount\", \"from_currency\", \"to_currency\"]}\\nget_stock_history: Finds the price of a stock by its stock name. | Parameters: {\"type\": \"dict\", \"properties\": {\"stock_name\": {\"type\": \"string\", \"description\": \"The stock name of the product, in the format of the stock symbol.\"}, \"interval\": {\"type\": \"string\", \"description\": \"The interval of the stock history. Allows one of following : 5m|15m|30m|1h|1d|1wk|1mo|3mo\"}, \"diffandsplits\": {\"type\": \"string\", \"description\": \"The diff and splits of the stock history. Allows one of following : true|false. Default to false\"}}, \"required\": [\"stock_name\", \"interval\"]}\\nmath_gcd: Calculates the greatest common divisor of two numbers. | Parameters: {\"type\": \"dict\", \"properties\": {\"a\": {\"type\": \"integer\", \"description\": \"The first number. This should be the larger number.\"}, \"b\": {\"type\": \"integer\", \"description\": \"The second number.\"}}, \"required\": [\"a\", \"b\"]}\\nestimate_derivative: Estimate the derivative of a function at a given point. | Parameters: {\"type\": \"dict\", \"properties\": {\"function\": {\"type\": \"string\", \"description\": \"The function to calculate the derivative of. This should be the string literal of lambda function\"}, \"x\": {\"type\": \"integer\", \"description\": \"The point to calculate the derivative at.\"}}, \"required\": [\"function\", \"x\"]}\\nfind_term_on_urban_dictionary: Finds the definition of a term on Urban Dictionary. | Parameters: {\"type\": \"dict\", \"properties\": {\"term\": {\"type\": \"string\", \"description\": \"The term to find the definition of.\"}}, \"required\": [\"term\"]}\\nget_distance: Calculates the distance between two 2D points. | Parameters: {\"type\": \"dict\", \"properties\": {\"pointA\": {\"type\": \"tuple\", \"description\": \"The first point.\", \"items\": {\"type\": \"float\"}}, \"pointB\": {\"type\": \"tuple\", \"description\": \"The second point.\", \"items\": {\"type\": \"float\"}}}, \"required\": [\"pointA\", \"pointB\"]}\\ngeometry_area_circle: Calculates the area of a circle. | Parameters: {\"type\": \"dict\", \"properties\": {\"radius\": {\"type\": \"integer\", \"description\": \"The radius of the circle, in feet.\"}}, \"required\": [\"radius\"]}\\nget_covid_death_by_country: Finds the most up to date total deaths of a country result from COVID. | Parameters: {\"type\": \"dict\", \"properties\": {\"country\": {\"type\": \"string\", \"description\": \"The country to find the total deaths of, in the format of the country's full name.\"}}, \"required\": [\"country\"]}\\nget_active_covid_case_by_country: Finds the most up to date active cases of a country result from COVID. | Parameters: {\"type\": \"dict\", \"properties\": {\"country\": {\"type\": \"string\", \"description\": \"The country to find the active cases of, in the format of the country's full name.\"}}, \"required\": [\"country\"]}\\nmat_mul: Multiplies two matrices. | Parameters: {\"type\": \"dict\", \"properties\": {\"matA\": {\"type\": \"array\", \"description\": \"The first matrix.\", \"items\": {\"type\": \"array\", \"items\": {\"type\": \"integer\"}}}, \"matB\": {\"type\": \"array\", \"description\": \"The second matrix.\", \"items\": {\"type\": \"array\", \"items\": {\"type\": \"integer\"}}}}, \"required\": [\"matA\", \"matB\"]}\\nget_coordinate_by_ip_address: Finds the latitude and longitude of an IP address. | Parameters: {\"type\": \"dict\", \"properties\": {\"ip_address\": {\"type\": \"string\", \"description\": \"The IP address to find the location of.\"}}, \"required\": [\"ip_address\"]}\\nget_coordinates_from_city: Fetches the latitude and longitude of a given city name using the Maps.co Geocoding API. | Parameters: {\"type\": \"dict\", \"properties\": {\"city_name\": {\"type\": \"string\", \"description\": \"The name of the city, such as 'Rome'.\"}}, \"required\": [\"city_name\"]}\\nget_product_name_by_amazon_ASIN: Finds the price of a product by its Amazon ASIN. | Parameters: {\"type\": \"dict\", \"properties\": {\"ASIN\": {\"type\": \"string\", \"description\": \"The Amazon ASIN of the product.\"}}, \"required\": [\"ASIN\"]}\\nget_price_by_amazon_ASIN: Finds the price of a product by its Amazon ASIN. | Parameters: {\"type\": \"dict\", \"properties\": {\"ASIN\": {\"type\": \"string\", \"description\": \"The Amazon ASIN of the product.\"}}, \"required\": [\"ASIN\"]}\\nget_prime_factors: Calculates the prime factors of a number. | Parameters: {\"type\": \"dict\", \"properties\": {\"number\": {\"type\": \"integer\", \"description\": \"The number to calculate the prime factors of.\"}}, \"required\": [\"number\"]}\\nretrieve_city_based_on_zipcode: Finds the city of a zipcode. | Parameters: {\"type\": \"dict\", \"properties\": {\"zipcode\": {\"type\": \"string\", \"description\": \"The zipcode of the city.\"}}, \"required\": [\"zipcode\"]}\\nmath_factorial: Calculates the factorial of a number. | Parameters: {\"type\": \"dict\", \"properties\": {\"n\": {\"type\": \"integer\", \"description\": \"The number to calculate the factorial of.\"}}, \"required\": [\"n\"]}\\nquadratic_roots: Calculates the roots of a quadratic equation. | Parameters: {\"type\": \"dict\", \"properties\": {\"a\": {\"type\": \"integer\", \"description\": \"The first coefficient.\"}, \"b\": {\"type\": \"integer\", \"description\": \"The second coefficient.\"}, \"c\": {\"type\": \"integer\", \"description\": \"The third coefficient.\"}}, \"required\": [\"a\", \"b\", \"c\"]}\\nadd_binary_numbers: Adds two binary numbers. | Parameters: {\"type\": \"dict\", \"properties\": {\"a\": {\"type\": \"string\", \"description\": \"The first binary number.\"}, \"b\": {\"type\": \"string\", \"description\": \"The second binary number.\"}}, \"required\": [\"a\", \"b\"]}\\nconvert_binary_to_decimal: Converts a binary number to a decimal number. | Parameters: {\"type\": \"dict\", \"properties\": {\"binary\": {\"type\": \"string\", \"description\": \"The binary number to convert.\"}}, \"required\": [\"binary\"]}\\nconvert_decimal_to_hex: Converts a decimal number to a hexadecimal number. | Parameters: {\"type\": \"dict\", \"properties\": {\"decimal\": {\"type\": \"integer\", \"description\": \"The decimal number to convert.\"}}, \"required\": [\"decimal\"]}\\nlinear_regression: Finds the linear regression of a set of points and evaluates it at a given point. | Parameters: {\"type\": \"dict\", \"properties\": {\"x\": {\"type\": \"array\", \"description\": \"The x coordinates of the points.\", \"items\": {\"type\": \"integer\"}}, \"y\": {\"type\": \"array\", \"description\": \"The y coordinates of the points.\", \"items\": {\"type\": \"integer\"}}, \"point\": {\"type\": \"integer\", \"description\": \"The point to calculate the linear regression at.\"}}, \"required\": [\"x\", \"y\", \"point\"]}\\ncalculate_slope: Calculates the slope of the linear regression line from a set of points. | Parameters: {\"type\": \"dict\", \"properties\": {\"x\": {\"type\": \"array\", \"description\": \"The x coordinates of the points.\", \"items\": {\"type\": \"integer\"}}, \"y\": {\"type\": \"array\", \"description\": \"The y coordinates of the points.\", \"items\": {\"type\": \"integer\"}}}, \"required\": [\"x\", \"y\"]}\\ncalculate_intercept: Calculates the y-intercept of the linear regression line from a set of points and a given slope. | Parameters: {\"type\": \"dict\", \"properties\": {\"x\": {\"type\": \"array\", \"description\": \"The x coordinates of the points.\", \"items\": {\"type\": \"integer\"}}, \"y\": {\"type\": \"array\", \"description\": \"The y coordinates of the points.\", \"items\": {\"type\": \"integer\"}}, \"slope\": {\"type\": \"integer\", \"description\": \"The slope of the linear regression line.\"}}, \"required\": [\"x\", \"y\", \"slope\"]}\\npredict_value: Predicts the value of y given the slope, intercept, and an x value. | Parameters: {\"type\": \"dict\", \"properties\": {\"slope\": {\"type\": \"integer\", \"description\": \"The slope of the linear regression line.\"}, \"intercept\": {\"type\": \"integer\", \"description\": \"The y-intercept of the linear regression line.\"}, \"x\": {\"type\": \"integer\", \"description\": \"The x value to predict the y for.\"}}, \"required\": [\"slope\", \"intercept\", \"x\"]}\\ncalculate_investment_value: Calculates the value of an investment over time. | Parameters: {\"type\": \"dict\", \"properties\": {\"initial_investment\": {\"type\": \"integer\", \"description\": \"The initial investment amount.\"}, \"annual_contribution\": {\"type\": \"integer\", \"description\": \"The annual contribution amount.\"}, \"years\": {\"type\": \"integer\", \"description\": \"The number of years to calculate the investment value for.\"}, \"annual_return\": {\"type\": \"float\", \"description\": \"The annual return rate, ranging from 0 to 1.\"}, \"inflation_rate\": {\"type\": \"array\", \"items\": {\"type\": \"float\"}, \"description\": \"The inflation rate for each year in percentage, ranging from 0 to 1.\"}, \"adjust_for_inflation\": {\"type\": \"boolean\", \"default\": true, \"description\": \"Whether to adjust the investment value for inflation.\"}}, \"required\": [\"initial_investment\", \"annual_contribution\", \"years\", \"annual_return\", \"inflation_rate\"]}\\ncompound_interest: Calculates compound interest over time. | Parameters: {\"type\": \"dict\", \"properties\": {\"principal\": {\"type\": \"integer\", \"description\": \"The principal amount.\"}, \"rate\": {\"type\": \"float\", \"description\": \"The annual interest rate.\"}, \"times_compounded\": {\"type\": \"integer\", \"description\": \"The number of times the interest is compounded per year.\"}, \"years\": {\"type\": \"integer\", \"description\": \"The number of years to calculate the compound interest for.\"}}, \"required\": [\"principal\", \"rate\", \"times_compounded\", \"years\"]}\\ninflation_adjustment: Adjusts an amount for inflation. | Parameters: {\"type\": \"dict\", \"properties\": {\"amount\": {\"type\": \"float\", \"description\": \"The amount to adjust for inflation.\"}, \"inflation_rate\": {\"type\": \"float\", \"description\": \"The annual inflation float.\"}, \"years\": {\"type\": \"integer\", \"description\": \"The number of years to adjust for inflation.\"}}, \"required\": [\"amount\", \"inflation_rate\", \"years\"]}\\nadjust_for_inflation: Adjusts the investment value for inflation for each year. | Parameters: {\"type\": \"dict\", \"properties\": {\"investment_value\": {\"type\": \"float\", \"description\": \"The value of the investment to adjust.\"}, \"inflation_rates\": {\"type\": \"array\", \"items\": {\"type\": \"float\"}, \"description\": \"The inflation rates for each year.\"}}, \"required\": [\"investment_value\", \"inflation_rates\"]}\\ncalculate_basal_metabolic_rate: Calculates the Basal Metabolic Rate (BMR) of a person. | Parameters: {\"type\": \"dict\", \"properties\": {\"weight\": {\"type\": \"float\", \"description\": \"The weight of the person in kilograms.\"}, \"height\": {\"type\": \"float\", \"description\": \"The height of the person in centimeters.\"}, \"age\": {\"type\": \"float\", \"description\": \"The age of the person in years.\"}, \"gender\": {\"type\": \"string\", \"description\": \"The gender of the person. Possible options [male, female, other].\"}}, \"required\": [\"weight\", \"height\", \"age\", \"gender\"]}\\ncalculate_daily_energy_expenditure: Calculates the daily energy expenditure based on BMR and activity level. | Parameters: {\"type\": \"dict\", \"properties\": {\"basal_metabolic_rate\": {\"type\": \"float\", \"description\": \"The BMR of the person.\"}, \"activity_level\": {\"type\": \"float\", \"description\": \"The activity level of the person. Possible options [1,2,3,4,5].\"}}, \"required\": [\"basal_metabolic_rate\", \"activity_level\"]}\\ncalculate_nutritional_needs: Calculates the nutritional needs of a person based on their weight, height, age, gender, activity level, and goal. | Parameters: {\"type\": \"dict\", \"properties\": {\"weight\": {\"type\": \"float\", \"description\": \"The weight of the person in kilograms.\"}, \"height\": {\"type\": \"float\", \"description\": \"The height of the person in centimeters.\"}, \"age\": {\"type\": \"float\", \"description\": \"The age of the person in years.\"}, \"gender\": {\"type\": \"string\", \"description\": \"The gender of the person. Possible options [male, female, other].\"}, \"activity_level\": {\"type\": \"float\", \"description\": \"The activity level of the person. Possible options [1,2,3,4,5].\"}, \"goal\": {\"type\": \"string\", \"description\": \"The goal of the person. Possible options [lose, gain, maintain].\"}}, \"required\": [\"weight\", \"height\", \"age\", \"gender\", \"activity_level\", \"goal\"]}\\nbook_room: Books a room for a customer. | Parameters: {\"type\": \"dict\", \"properties\": {\"room_type\": {\"type\": \"dict\", \"description\": \"The room type to book.\"}, \"check_in_date\": {\"type\": \"string\", \"description\": \"The check-in date in format of MM-DD-YYYY.\"}, \"check_out_date\": {\"type\": \"string\", \"description\": \"The check-out date in format of MM-DD-YYYY.\"}, \"customer_id\": {\"type\": \"string\", \"description\": \"The customer ID.\"}, \"discount_code\": {\"type\": \"string\", \"description\": \"The discount code (if any).\", \"default\": null}}, \"required\": [\"room_type\", \"check_in_date\", \"check_out_date\", \"customer_id\"]}\\ncalculate_total_price: Calculates the total price of the room booking. | Parameters: {\"type\": \"dict\", \"properties\": {\"room_price\": {\"type\": \"float\", \"description\": \"The price per night of the room.\"}, \"nights\": {\"type\": \"integer\", \"description\": \"The number of nights for the booking.\"}, \"discount\": {\"type\": \"float\", \"description\": \"The discount amount (if any).\", \"default\": 0}}, \"required\": [\"room_price\", \"nights\"]}\\nconfirm_booking: Confirms the room booking and sends a confirmation to the customer. | Parameters: {\"type\": \"dict\", \"properties\": {\"customer_id\": {\"type\": \"string\", \"description\": \"The customer ID.\"}, \"room_number\": {\"type\": \"string\", \"description\": \"The room number assigned to the booking.\"}, \"total_price\": {\"type\": \"float\", \"description\": \"The total price for the booking.\"}}, \"required\": [\"customer_id\", \"room_number\", \"total_price\"]}\\norder_food: Orders food for a customer. Return the total price. | Parameters: {\"type\": \"dict\", \"properties\": {\"item\": {\"type\": \"array\", \"items\": {\"type\": \"string\"}, \"description\": \"the name of the product.\"}, \"quantity\": {\"type\": \"array\", \"items\": {\"type\": \"integer\"}, \"description\": \"the number of the product purchased.\"}, \"price\": {\"type\": \"array\", \"items\": {\"type\": \"float\"}, \"description\": \"the price of the product.\"}}, \"required\": [\"item\", \"quantity\", \"price\"]}\\ncalculate_total: Calculates the total price of an order given the quantities and prices. | Parameters: {\"type\": \"dict\", \"properties\": {\"quantities\": {\"type\": \"array\", \"items\": {\"type\": \"integer\"}, \"description\": \"The quantities of each product.\"}, \"prices\": {\"type\": \"array\", \"items\": {\"type\": \"float\"}, \"description\": \"The price of each product.\"}}, \"required\": [\"quantities\", \"prices\"]}\\napply_discount: Applies a discount to the total price. | Parameters: {\"type\": \"dict\", \"properties\": {\"total\": {\"type\": \"float\", \"description\": \"The original total price.\"}, \"discount\": {\"type\": \"float\", \"description\": \"The discount percentage to apply.\"}}, \"required\": [\"total\", \"discount\"]}\\nget_movie_director: Fetches the director of a movie from the OMDB API. | Parameters: {\"type\": \"dict\", \"properties\": {\"movie_name\": {\"type\": \"string\", \"description\": \"The name of the movie.\"}}, \"required\": [\"movie_name\"]}\\ncalculate_interest_rate: Calculates the interest rate for a given principal, rate, and time. | Parameters: {\"type\": \"dict\", \"properties\": {\"principal\": {\"type\": \"float\", \"description\": \"The initial amount of money.\"}, \"rate\": {\"type\": \"float\", \"description\": \"The interest rate per period.\"}, \"time\": {\"type\": \"float\", \"description\": \"The time the money is invested or borrowed for.\"}}, \"required\": [\"principal\", \"rate\", \"time\"]}\\nconvert_temperature: Converts temperature from Celsius to Fahrenheit or vice versa. | Parameters: {\"type\": \"dict\", \"properties\": {\"temperature\": {\"type\": \"float\", \"description\": \"The temperature to convert.\"}, \"unit_from\": {\"type\": \"string\", \"description\": \"The current unit of the temperature (Celsius or Fahrenheit).\"}, \"unit_to\": {\"type\": \"string\", \"description\": \"The unit to convert the temperature to (Celsius or Fahrenheit).\"}}, \"required\": [\"temperature\", \"unit_from\", \"unit_to\"]}\\ngenerate_random_number: Generates a random number within a specified range. | Parameters: {\"type\": \"dict\", \"properties\": {\"min\": {\"type\": \"integer\", \"description\": \"The minimum value of the range.\"}, \"max\": {\"type\": \"integer\", \"description\": \"The maximum value of the range.\"}}, \"required\": [\"min\", \"max\"]}\\nget_movie_rating: Fetches the age rating of a movie from the OMDB API. | Parameters: {\"type\": \"dict\", \"properties\": {\"movie_name\": {\"type\": \"string\", \"description\": \"The name of the movie.\"}}, \"required\": [\"movie_name\"]}\\nget_movie_genre: Retrieves the genre of a movie from the OMDB API. | Parameters: {\"type\": \"dict\", \"properties\": {\"movie_name\": {\"type\": \"string\", \"description\": \"The name of the movie to retrieve the genre for.\"}}, \"required\": [\"movie_name\"]}\\nget_director_by_movie_name: Gets the director of a movie. | Parameters: {\"type\": \"dict\", \"properties\": {\"movie_name\": {\"type\": \"string\", \"description\": \"The movie to find the director of.\"}}, \"required\": [\"movie_name\"]}\\nconvert_coordinates: Converts a list of tuples into a list of lists. | Parameters: {\"type\": \"dict\", \"properties\": {\"coordinates\": {\"type\": \"array\", \"items\": {\"type\": \"tuple\", \"items\": {\"type\": \"float\"}, \"description\": \"A single coordinate represented by a tuple (x, y).\"}, \"description\": \"The coordinates to be converted, where each coordinate is a tuple (x, y).\"}}, \"required\": [\"coordinates\"]}\\npolygon_area: Calculate the area of a polygon given its vertices using the shoelace formula. | Parameters: {\"type\": \"dict\", \"properties\": {\"vertices\": {\"type\": \"array\", \"items\": {\"type\": \"array\", \"items\": {\"type\": \"float\"}, \"minItems\": 2, \"maxItems\": 2, \"description\": \"A single vertex represented by a 2 element list [x, y].\"}, \"description\": \"The vertices of the polygon, where each vertex is a 2 element list [x, y].\"}}, \"required\": [\"vertices\"]}\\nvalidate_polygon: Checks if the given vertices form a valid polygon. | Parameters: {\"type\": \"dict\", \"properties\": {\"vertices\": {\"type\": \"array\", \"items\": {\"type\": \"array\", \"items\": {\"type\": \"float\"}, \"description\": \"A single vertex represented by a 2 element list [x, y].\"}, \"description\": \"The vertices of the polygon, where each vertex is a 2 element list [x, y].\"}}, \"required\": [\"vertices\"]}  \n",
              "1  get_weather_data: Fetches weather data from the Open-Meteo API for the given latitude and longitude. | Parameters: {\"type\": \"dict\", \"properties\": {\"coordinates\": {\"type\": \"array\", \"items\": {\"type\": \"float\"}, \"description\": \"The latitude and longitude of the location.\"}}, \"required\": [\"coordinates\"]}\\ncalc_binomial_probability: Calculates the probability of getting k successes in n trials. | Parameters: {\"type\": \"dict\", \"properties\": {\"n\": {\"type\": \"integer\", \"description\": \"The number of trials.\"}, \"k\": {\"type\": \"integer\", \"description\": \"The number of successes.\"}, \"p\": {\"type\": \"float\", \"description\": \"The probability of success.\"}}, \"required\": [\"n\", \"k\", \"p\"]}\\ncalculate_cosine_similarity: Calculates the cosine similarity of two vectors. | Parameters: {\"type\": \"dict\", \"properties\": {\"vectorA\": {\"type\": \"array\", \"items\": {\"type\": \"float\"}, \"description\": \"The first vector.\"}, \"vectorB\": {\"type\": \"array\", \"items\": {\"type\": \"float\"}, \"description\": \"The second vector.\"}}, \"required\": [\"vectorA\", \"vectorB\"]}\\nget_stock_price_by_stock_name: Finds the price of a stock by its stock name. | Parameters: {\"type\": \"dict\", \"properties\": {\"stock_name\": {\"type\": \"string\", \"description\": \"The stock name of the product, in the format of the stock symbol.\"}}, \"required\": [\"stock_name\"]}\\ncalculate_density: Calculates the density of an object. | Parameters: {\"type\": \"dict\", \"properties\": {\"mass\": {\"type\": \"float\", \"description\": \"The mass of the object, in kilograms.\"}, \"volume\": {\"type\": \"float\", \"description\": \"The volume of the object, in cubic meters.\"}}, \"required\": [\"mass\", \"volume\"]}\\ncalculate_future_value: Calculates the future value of an investment. | Parameters: {\"type\": \"dict\", \"properties\": {\"present_value\": {\"type\": \"float\", \"description\": \"The present value of the investment, in dollars.\"}, \"interest_rate\": {\"type\": \"float\", \"description\": \"The interest rate of the investment, ranging from 0 to 1.\"}, \"periods\": {\"type\": \"integer\", \"description\": \"The number of periods, in years.\"}}, \"required\": [\"present_value\", \"interest_rate\", \"periods\"]}\\nget_rating_by_amazon_ASIN: Finds the rating of a product by its Amazon ASIN. | Parameters: {\"type\": \"dict\", \"properties\": {\"ASIN\": {\"type\": \"string\", \"description\": \"The Amazon ASIN of the product.\"}}, \"required\": [\"ASIN\"]}\\nretrieve_holiday_by_year: Finds the holidays of a year. | Parameters: {\"type\": \"dict\", \"properties\": {\"year\": {\"type\": \"string\", \"description\": \"The year of the holidays.\"}, \"country\": {\"type\": \"string\", \"description\": \"The country of the holidays. Possible options: US, AT, DE, ES, FR, GB, IT, NL, PL, RO, SK, UA.\"}}, \"required\": [\"year\", \"country\"]}\\ncalculate_displacement: Calculates the displacement of an object. | Parameters: {\"type\": \"dict\", \"properties\": {\"initial_velocity\": {\"type\": \"float\", \"description\": \"The initial velocity of the object, in meters per second.\"}, \"acceleration\": {\"type\": \"float\", \"description\": \"The acceleration of the object, in meters per second squared.\"}, \"time\": {\"type\": \"float\", \"description\": \"The time the object has been moving, in seconds.\"}}, \"required\": [\"initial_velocity\", \"acceleration\", \"time\"]}\\nget_zipcode_by_ip_address: Finds the zipcode of an IP address. | Parameters: {\"type\": \"dict\", \"properties\": {\"ip_address\": {\"type\": \"string\", \"description\": \"The IP address to find the location of.\"}}, \"required\": [\"ip_address\"]}\\ncalculate_electrostatic_potential_energy: Calculates the electrostatic potential energy. | Parameters: {\"type\": \"dict\", \"properties\": {\"charge\": {\"type\": \"float\", \"description\": \"The charge of the object, in coulombs.\"}, \"voltage\": {\"type\": \"float\", \"description\": \"The voltage of the object, in volts.\"}}, \"required\": [\"charge\", \"voltage\"]}\\nmortgage_calculator: Calculates the monthly mortgage payment. | Parameters: {\"type\": \"dict\", \"properties\": {\"loan_amount\": {\"type\": \"float\", \"description\": \"The amount of the loan.\"}, \"interest_rate\": {\"type\": \"float\", \"description\": \"The interest rate of the loan, ranging from 0 to 1.\"}, \"loan_period\": {\"type\": \"integer\", \"description\": \"The period of the loan, in years.\"}}, \"required\": [\"loan_amount\", \"interest_rate\", \"loan_period\"]}\\ncalculate_final_velocity: Calculates the final velocity of an object. | Parameters: {\"type\": \"dict\", \"properties\": {\"initial_velocity\": {\"type\": \"float\", \"description\": \"The initial velocity of the object.\"}, \"acceleration\": {\"type\": \"float\", \"description\": \"The acceleration of the object.\"}, \"time\": {\"type\": \"float\", \"description\": \"The time the object has been moving.\"}}, \"required\": [\"initial_velocity\", \"acceleration\", \"time\"]}\\nget_fibonacci_sequence: Calculates the n numbers of the Fibonacci. | Parameters: {\"type\": \"dict\", \"properties\": {\"n\": {\"type\": \"integer\", \"description\": \"The number of Fibonacci numbers to calculate.\"}}, \"required\": [\"n\"]}\\nsort_array: Sorts an array of numbers. | Parameters: {\"type\": \"dict\", \"properties\": {\"array\": {\"type\": \"array\", \"items\": {\"type\": \"float\"}, \"description\": \"The array of numbers.\"}, \"reverse\": {\"type\": \"boolean\", \"description\": \"Whether to sort the array in reverse order, i.e., descending order.\", \"default\": false}}, \"required\": [\"array\"]}\\nget_time_zone_by_coord: Finds the timezone of a coordinate. | Parameters: {\"type\": \"dict\", \"properties\": {\"long\": {\"type\": \"string\", \"description\": \"The longitude of the coordinate.\"}, \"lat\": {\"type\": \"string\", \"description\": \"The latitude of the coordinate.\"}}, \"required\": [\"long\", \"lat\"]}\\ncalculate_mean: Calculates the mean of a list of numbers. | Parameters: {\"type\": \"dict\", \"properties\": {\"numbers\": {\"type\": \"array\", \"items\": {\"type\": \"integer\"}, \"description\": \"The list of numbers.\"}}, \"required\": [\"numbers\"]}\\ncalculate_permutations: Calculates the number of permutations of k elements from a set of n elements. | Parameters: {\"type\": \"dict\", \"properties\": {\"n\": {\"type\": \"integer\", \"description\": \"The number of elements in the set.\"}, \"k\": {\"type\": \"integer\", \"description\": \"The number of elements to choose.\"}}, \"required\": [\"n\", \"k\"]}\\nget_company_name_by_stock_name: Finds the company name of a stock by its stock name. | Parameters: {\"type\": \"dict\", \"properties\": {\"stock_name\": {\"type\": \"string\", \"description\": \"The stock name of the product, in the format of the stock symbol.\"}}, \"required\": [\"stock_name\"]}\\ncalculate_standard_deviation: Calculates the standard deviation of a list of numbers. | Parameters: {\"type\": \"dict\", \"properties\": {\"numbers\": {\"type\": \"array\", \"items\": {\"type\": \"integer\"}, \"description\": \"The list of numbers.\"}}, \"required\": [\"numbers\"]}\\nmath_lcm: Calculates the least common multiple of two numbers. | Parameters: {\"type\": \"dict\", \"properties\": {\"a\": {\"type\": \"integer\", \"description\": \"The first number. This should be the larger number.\"}, \"b\": {\"type\": \"integer\", \"description\": \"The second number.\"}}, \"required\": [\"a\", \"b\"]}\\ncalculate_triangle_area: Calculates the area of a triangle given its base and height. | Parameters: {\"type\": \"dict\", \"properties\": {\"base\": {\"type\": \"integer\", \"description\": \"The base of the triangle, in meters.\"}, \"height\": {\"type\": \"integer\", \"description\": \"The height of the triangle, in meters.\"}}, \"required\": [\"base\", \"height\"]}\\nconvert_currency: Converts a given amount from one currency to another using the ExchangeRate-API. | Parameters: {\"type\": \"dict\", \"properties\": {\"amount\": {\"type\": \"float\", \"description\": \"The amount of money to convert, in the base currency.\"}, \"from_currency\": {\"type\": \"string\", \"description\": \"The ISO currency code for the base currency.\"}, \"to_currency\": {\"type\": \"string\", \"description\": \"The ISO currency code for the target currency.\"}}, \"required\": [\"amount\", \"from_currency\", \"to_currency\"]}\\nget_stock_history: Finds the price of a stock by its stock name. | Parameters: {\"type\": \"dict\", \"properties\": {\"stock_name\": {\"type\": \"string\", \"description\": \"The stock name of the product, in the format of the stock symbol.\"}, \"interval\": {\"type\": \"string\", \"description\": \"The interval of the stock history. Allows one of following : 5m|15m|30m|1h|1d|1wk|1mo|3mo\"}, \"diffandsplits\": {\"type\": \"string\", \"description\": \"The diff and splits of the stock history. Allows one of following : true|false. Default to false\"}}, \"required\": [\"stock_name\", \"interval\"]}\\nmath_gcd: Calculates the greatest common divisor of two numbers. | Parameters: {\"type\": \"dict\", \"properties\": {\"a\": {\"type\": \"integer\", \"description\": \"The first number. This should be the larger number.\"}, \"b\": {\"type\": \"integer\", \"description\": \"The second number.\"}}, \"required\": [\"a\", \"b\"]}\\nestimate_derivative: Estimate the derivative of a function at a given point. | Parameters: {\"type\": \"dict\", \"properties\": {\"function\": {\"type\": \"string\", \"description\": \"The function to calculate the derivative of. This should be the string literal of lambda function\"}, \"x\": {\"type\": \"integer\", \"description\": \"The point to calculate the derivative at.\"}}, \"required\": [\"function\", \"x\"]}\\nfind_term_on_urban_dictionary: Finds the definition of a term on Urban Dictionary. | Parameters: {\"type\": \"dict\", \"properties\": {\"term\": {\"type\": \"string\", \"description\": \"The term to find the definition of.\"}}, \"required\": [\"term\"]}\\nget_distance: Calculates the distance between two 2D points. | Parameters: {\"type\": \"dict\", \"properties\": {\"pointA\": {\"type\": \"tuple\", \"description\": \"The first point.\", \"items\": {\"type\": \"float\"}}, \"pointB\": {\"type\": \"tuple\", \"description\": \"The second point.\", \"items\": {\"type\": \"float\"}}}, \"required\": [\"pointA\", \"pointB\"]}\\ngeometry_area_circle: Calculates the area of a circle. | Parameters: {\"type\": \"dict\", \"properties\": {\"radius\": {\"type\": \"integer\", \"description\": \"The radius of the circle, in feet.\"}}, \"required\": [\"radius\"]}\\nget_covid_death_by_country: Finds the most up to date total deaths of a country result from COVID. | Parameters: {\"type\": \"dict\", \"properties\": {\"country\": {\"type\": \"string\", \"description\": \"The country to find the total deaths of, in the format of the country's full name.\"}}, \"required\": [\"country\"]}\\nget_active_covid_case_by_country: Finds the most up to date active cases of a country result from COVID. | Parameters: {\"type\": \"dict\", \"properties\": {\"country\": {\"type\": \"string\", \"description\": \"The country to find the active cases of, in the format of the country's full name.\"}}, \"required\": [\"country\"]}\\nmat_mul: Multiplies two matrices. | Parameters: {\"type\": \"dict\", \"properties\": {\"matA\": {\"type\": \"array\", \"description\": \"The first matrix.\", \"items\": {\"type\": \"array\", \"items\": {\"type\": \"integer\"}}}, \"matB\": {\"type\": \"array\", \"description\": \"The second matrix.\", \"items\": {\"type\": \"array\", \"items\": {\"type\": \"integer\"}}}}, \"required\": [\"matA\", \"matB\"]}\\nget_coordinate_by_ip_address: Finds the latitude and longitude of an IP address. | Parameters: {\"type\": \"dict\", \"properties\": {\"ip_address\": {\"type\": \"string\", \"description\": \"The IP address to find the location of.\"}}, \"required\": [\"ip_address\"]}\\nget_coordinates_from_city: Fetches the latitude and longitude of a given city name using the Maps.co Geocoding API. | Parameters: {\"type\": \"dict\", \"properties\": {\"city_name\": {\"type\": \"string\", \"description\": \"The name of the city, such as 'Rome'.\"}}, \"required\": [\"city_name\"]}\\nget_product_name_by_amazon_ASIN: Finds the price of a product by its Amazon ASIN. | Parameters: {\"type\": \"dict\", \"properties\": {\"ASIN\": {\"type\": \"string\", \"description\": \"The Amazon ASIN of the product.\"}}, \"required\": [\"ASIN\"]}\\nget_price_by_amazon_ASIN: Finds the price of a product by its Amazon ASIN. | Parameters: {\"type\": \"dict\", \"properties\": {\"ASIN\": {\"type\": \"string\", \"description\": \"The Amazon ASIN of the product.\"}}, \"required\": [\"ASIN\"]}\\nget_prime_factors: Calculates the prime factors of a number. | Parameters: {\"type\": \"dict\", \"properties\": {\"number\": {\"type\": \"integer\", \"description\": \"The number to calculate the prime factors of.\"}}, \"required\": [\"number\"]}\\nretrieve_city_based_on_zipcode: Finds the city of a zipcode. | Parameters: {\"type\": \"dict\", \"properties\": {\"zipcode\": {\"type\": \"string\", \"description\": \"The zipcode of the city.\"}}, \"required\": [\"zipcode\"]}\\nmath_factorial: Calculates the factorial of a number. | Parameters: {\"type\": \"dict\", \"properties\": {\"n\": {\"type\": \"integer\", \"description\": \"The number to calculate the factorial of.\"}}, \"required\": [\"n\"]}\\nquadratic_roots: Calculates the roots of a quadratic equation. | Parameters: {\"type\": \"dict\", \"properties\": {\"a\": {\"type\": \"integer\", \"description\": \"The first coefficient.\"}, \"b\": {\"type\": \"integer\", \"description\": \"The second coefficient.\"}, \"c\": {\"type\": \"integer\", \"description\": \"The third coefficient.\"}}, \"required\": [\"a\", \"b\", \"c\"]}\\nadd_binary_numbers: Adds two binary numbers. | Parameters: {\"type\": \"dict\", \"properties\": {\"a\": {\"type\": \"string\", \"description\": \"The first binary number.\"}, \"b\": {\"type\": \"string\", \"description\": \"The second binary number.\"}}, \"required\": [\"a\", \"b\"]}\\nconvert_binary_to_decimal: Converts a binary number to a decimal number. | Parameters: {\"type\": \"dict\", \"properties\": {\"binary\": {\"type\": \"string\", \"description\": \"The binary number to convert.\"}}, \"required\": [\"binary\"]}\\nconvert_decimal_to_hex: Converts a decimal number to a hexadecimal number. | Parameters: {\"type\": \"dict\", \"properties\": {\"decimal\": {\"type\": \"integer\", \"description\": \"The decimal number to convert.\"}}, \"required\": [\"decimal\"]}\\nlinear_regression: Finds the linear regression of a set of points and evaluates it at a given point. | Parameters: {\"type\": \"dict\", \"properties\": {\"x\": {\"type\": \"array\", \"description\": \"The x coordinates of the points.\", \"items\": {\"type\": \"integer\"}}, \"y\": {\"type\": \"array\", \"description\": \"The y coordinates of the points.\", \"items\": {\"type\": \"integer\"}}, \"point\": {\"type\": \"integer\", \"description\": \"The point to calculate the linear regression at.\"}}, \"required\": [\"x\", \"y\", \"point\"]}\\ncalculate_slope: Calculates the slope of the linear regression line from a set of points. | Parameters: {\"type\": \"dict\", \"properties\": {\"x\": {\"type\": \"array\", \"description\": \"The x coordinates of the points.\", \"items\": {\"type\": \"integer\"}}, \"y\": {\"type\": \"array\", \"description\": \"The y coordinates of the points.\", \"items\": {\"type\": \"integer\"}}}, \"required\": [\"x\", \"y\"]}\\ncalculate_intercept: Calculates the y-intercept of the linear regression line from a set of points and a given slope. | Parameters: {\"type\": \"dict\", \"properties\": {\"x\": {\"type\": \"array\", \"description\": \"The x coordinates of the points.\", \"items\": {\"type\": \"integer\"}}, \"y\": {\"type\": \"array\", \"description\": \"The y coordinates of the points.\", \"items\": {\"type\": \"integer\"}}, \"slope\": {\"type\": \"integer\", \"description\": \"The slope of the linear regression line.\"}}, \"required\": [\"x\", \"y\", \"slope\"]}\\npredict_value: Predicts the value of y given the slope, intercept, and an x value. | Parameters: {\"type\": \"dict\", \"properties\": {\"slope\": {\"type\": \"integer\", \"description\": \"The slope of the linear regression line.\"}, \"intercept\": {\"type\": \"integer\", \"description\": \"The y-intercept of the linear regression line.\"}, \"x\": {\"type\": \"integer\", \"description\": \"The x value to predict the y for.\"}}, \"required\": [\"slope\", \"intercept\", \"x\"]}\\ncalculate_investment_value: Calculates the value of an investment over time. | Parameters: {\"type\": \"dict\", \"properties\": {\"initial_investment\": {\"type\": \"integer\", \"description\": \"The initial investment amount.\"}, \"annual_contribution\": {\"type\": \"integer\", \"description\": \"The annual contribution amount.\"}, \"years\": {\"type\": \"integer\", \"description\": \"The number of years to calculate the investment value for.\"}, \"annual_return\": {\"type\": \"float\", \"description\": \"The annual return rate, ranging from 0 to 1.\"}, \"inflation_rate\": {\"type\": \"array\", \"items\": {\"type\": \"float\"}, \"description\": \"The inflation rate for each year in percentage, ranging from 0 to 1.\"}, \"adjust_for_inflation\": {\"type\": \"boolean\", \"default\": true, \"description\": \"Whether to adjust the investment value for inflation.\"}}, \"required\": [\"initial_investment\", \"annual_contribution\", \"years\", \"annual_return\", \"inflation_rate\"]}\\ncompound_interest: Calculates compound interest over time. | Parameters: {\"type\": \"dict\", \"properties\": {\"principal\": {\"type\": \"integer\", \"description\": \"The principal amount.\"}, \"rate\": {\"type\": \"float\", \"description\": \"The annual interest rate.\"}, \"times_compounded\": {\"type\": \"integer\", \"description\": \"The number of times the interest is compounded per year.\"}, \"years\": {\"type\": \"integer\", \"description\": \"The number of years to calculate the compound interest for.\"}}, \"required\": [\"principal\", \"rate\", \"times_compounded\", \"years\"]}\\ninflation_adjustment: Adjusts an amount for inflation. | Parameters: {\"type\": \"dict\", \"properties\": {\"amount\": {\"type\": \"float\", \"description\": \"The amount to adjust for inflation.\"}, \"inflation_rate\": {\"type\": \"float\", \"description\": \"The annual inflation float.\"}, \"years\": {\"type\": \"integer\", \"description\": \"The number of years to adjust for inflation.\"}}, \"required\": [\"amount\", \"inflation_rate\", \"years\"]}\\nadjust_for_inflation: Adjusts the investment value for inflation for each year. | Parameters: {\"type\": \"dict\", \"properties\": {\"investment_value\": {\"type\": \"float\", \"description\": \"The value of the investment to adjust.\"}, \"inflation_rates\": {\"type\": \"array\", \"items\": {\"type\": \"float\"}, \"description\": \"The inflation rates for each year.\"}}, \"required\": [\"investment_value\", \"inflation_rates\"]}\\ncalculate_basal_metabolic_rate: Calculates the Basal Metabolic Rate (BMR) of a person. | Parameters: {\"type\": \"dict\", \"properties\": {\"weight\": {\"type\": \"float\", \"description\": \"The weight of the person in kilograms.\"}, \"height\": {\"type\": \"float\", \"description\": \"The height of the person in centimeters.\"}, \"age\": {\"type\": \"float\", \"description\": \"The age of the person in years.\"}, \"gender\": {\"type\": \"string\", \"description\": \"The gender of the person. Possible options [male, female, other].\"}}, \"required\": [\"weight\", \"height\", \"age\", \"gender\"]}\\ncalculate_daily_energy_expenditure: Calculates the daily energy expenditure based on BMR and activity level. | Parameters: {\"type\": \"dict\", \"properties\": {\"basal_metabolic_rate\": {\"type\": \"float\", \"description\": \"The BMR of the person.\"}, \"activity_level\": {\"type\": \"float\", \"description\": \"The activity level of the person. Possible options [1,2,3,4,5].\"}}, \"required\": [\"basal_metabolic_rate\", \"activity_level\"]}\\ncalculate_nutritional_needs: Calculates the nutritional needs of a person based on their weight, height, age, gender, activity level, and goal. | Parameters: {\"type\": \"dict\", \"properties\": {\"weight\": {\"type\": \"float\", \"description\": \"The weight of the person in kilograms.\"}, \"height\": {\"type\": \"float\", \"description\": \"The height of the person in centimeters.\"}, \"age\": {\"type\": \"float\", \"description\": \"The age of the person in years.\"}, \"gender\": {\"type\": \"string\", \"description\": \"The gender of the person. Possible options [male, female, other].\"}, \"activity_level\": {\"type\": \"float\", \"description\": \"The activity level of the person. Possible options [1,2,3,4,5].\"}, \"goal\": {\"type\": \"string\", \"description\": \"The goal of the person. Possible options [lose, gain, maintain].\"}}, \"required\": [\"weight\", \"height\", \"age\", \"gender\", \"activity_level\", \"goal\"]}\\nbook_room: Books a room for a customer. | Parameters: {\"type\": \"dict\", \"properties\": {\"room_type\": {\"type\": \"dict\", \"description\": \"The room type to book.\"}, \"check_in_date\": {\"type\": \"string\", \"description\": \"The check-in date in format of MM-DD-YYYY.\"}, \"check_out_date\": {\"type\": \"string\", \"description\": \"The check-out date in format of MM-DD-YYYY.\"}, \"customer_id\": {\"type\": \"string\", \"description\": \"The customer ID.\"}, \"discount_code\": {\"type\": \"string\", \"description\": \"The discount code (if any).\", \"default\": null}}, \"required\": [\"room_type\", \"check_in_date\", \"check_out_date\", \"customer_id\"]}\\ncalculate_total_price: Calculates the total price of the room booking. | Parameters: {\"type\": \"dict\", \"properties\": {\"room_price\": {\"type\": \"float\", \"description\": \"The price per night of the room.\"}, \"nights\": {\"type\": \"integer\", \"description\": \"The number of nights for the booking.\"}, \"discount\": {\"type\": \"float\", \"description\": \"The discount amount (if any).\", \"default\": 0}}, \"required\": [\"room_price\", \"nights\"]}\\nconfirm_booking: Confirms the room booking and sends a confirmation to the customer. | Parameters: {\"type\": \"dict\", \"properties\": {\"customer_id\": {\"type\": \"string\", \"description\": \"The customer ID.\"}, \"room_number\": {\"type\": \"string\", \"description\": \"The room number assigned to the booking.\"}, \"total_price\": {\"type\": \"float\", \"description\": \"The total price for the booking.\"}}, \"required\": [\"customer_id\", \"room_number\", \"total_price\"]}\\norder_food: Orders food for a customer. Return the total price. | Parameters: {\"type\": \"dict\", \"properties\": {\"item\": {\"type\": \"array\", \"items\": {\"type\": \"string\"}, \"description\": \"the name of the product.\"}, \"quantity\": {\"type\": \"array\", \"items\": {\"type\": \"integer\"}, \"description\": \"the number of the product purchased.\"}, \"price\": {\"type\": \"array\", \"items\": {\"type\": \"float\"}, \"description\": \"the price of the product.\"}}, \"required\": [\"item\", \"quantity\", \"price\"]}\\ncalculate_total: Calculates the total price of an order given the quantities and prices. | Parameters: {\"type\": \"dict\", \"properties\": {\"quantities\": {\"type\": \"array\", \"items\": {\"type\": \"integer\"}, \"description\": \"The quantities of each product.\"}, \"prices\": {\"type\": \"array\", \"items\": {\"type\": \"float\"}, \"description\": \"The price of each product.\"}}, \"required\": [\"quantities\", \"prices\"]}\\napply_discount: Applies a discount to the total price. | Parameters: {\"type\": \"dict\", \"properties\": {\"total\": {\"type\": \"float\", \"description\": \"The original total price.\"}, \"discount\": {\"type\": \"float\", \"description\": \"The discount percentage to apply.\"}}, \"required\": [\"total\", \"discount\"]}\\nget_movie_director: Fetches the director of a movie from the OMDB API. | Parameters: {\"type\": \"dict\", \"properties\": {\"movie_name\": {\"type\": \"string\", \"description\": \"The name of the movie.\"}}, \"required\": [\"movie_name\"]}\\ncalculate_interest_rate: Calculates the interest rate for a given principal, rate, and time. | Parameters: {\"type\": \"dict\", \"properties\": {\"principal\": {\"type\": \"float\", \"description\": \"The initial amount of money.\"}, \"rate\": {\"type\": \"float\", \"description\": \"The interest rate per period.\"}, \"time\": {\"type\": \"float\", \"description\": \"The time the money is invested or borrowed for.\"}}, \"required\": [\"principal\", \"rate\", \"time\"]}\\nconvert_temperature: Converts temperature from Celsius to Fahrenheit or vice versa. | Parameters: {\"type\": \"dict\", \"properties\": {\"temperature\": {\"type\": \"float\", \"description\": \"The temperature to convert.\"}, \"unit_from\": {\"type\": \"string\", \"description\": \"The current unit of the temperature (Celsius or Fahrenheit).\"}, \"unit_to\": {\"type\": \"string\", \"description\": \"The unit to convert the temperature to (Celsius or Fahrenheit).\"}}, \"required\": [\"temperature\", \"unit_from\", \"unit_to\"]}\\ngenerate_random_number: Generates a random number within a specified range. | Parameters: {\"type\": \"dict\", \"properties\": {\"min\": {\"type\": \"integer\", \"description\": \"The minimum value of the range.\"}, \"max\": {\"type\": \"integer\", \"description\": \"The maximum value of the range.\"}}, \"required\": [\"min\", \"max\"]}\\nget_movie_rating: Fetches the age rating of a movie from the OMDB API. | Parameters: {\"type\": \"dict\", \"properties\": {\"movie_name\": {\"type\": \"string\", \"description\": \"The name of the movie.\"}}, \"required\": [\"movie_name\"]}\\nget_movie_genre: Retrieves the genre of a movie from the OMDB API. | Parameters: {\"type\": \"dict\", \"properties\": {\"movie_name\": {\"type\": \"string\", \"description\": \"The name of the movie to retrieve the genre for.\"}}, \"required\": [\"movie_name\"]}\\nget_director_by_movie_name: Gets the director of a movie. | Parameters: {\"type\": \"dict\", \"properties\": {\"movie_name\": {\"type\": \"string\", \"description\": \"The movie to find the director of.\"}}, \"required\": [\"movie_name\"]}\\nconvert_coordinates: Converts a list of tuples into a list of lists. | Parameters: {\"type\": \"dict\", \"properties\": {\"coordinates\": {\"type\": \"array\", \"items\": {\"type\": \"tuple\", \"items\": {\"type\": \"float\"}, \"description\": \"A single coordinate represented by a tuple (x, y).\"}, \"description\": \"The coordinates to be converted, where each coordinate is a tuple (x, y).\"}}, \"required\": [\"coordinates\"]}\\npolygon_area: Calculate the area of a polygon given its vertices using the shoelace formula. | Parameters: {\"type\": \"dict\", \"properties\": {\"vertices\": {\"type\": \"array\", \"items\": {\"type\": \"array\", \"items\": {\"type\": \"float\"}, \"minItems\": 2, \"maxItems\": 2, \"description\": \"A single vertex represented by a 2 element list [x, y].\"}, \"description\": \"The vertices of the polygon, where each vertex is a 2 element list [x, y].\"}}, \"required\": [\"vertices\"]}\\nvalidate_polygon: Checks if the given vertices form a valid polygon. | Parameters: {\"type\": \"dict\", \"properties\": {\"vertices\": {\"type\": \"array\", \"items\": {\"type\": \"array\", \"items\": {\"type\": \"float\"}, \"description\": \"A single vertex represented by a 2 element list [x, y].\"}, \"description\": \"The vertices of the polygon, where each vertex is a 2 element list [x, y].\"}}, \"required\": [\"vertices\"]}  \n",
              "2  get_weather_data: Fetches weather data from the Open-Meteo API for the given latitude and longitude. | Parameters: {\"type\": \"dict\", \"properties\": {\"coordinates\": {\"type\": \"array\", \"items\": {\"type\": \"float\"}, \"description\": \"The latitude and longitude of the location.\"}}, \"required\": [\"coordinates\"]}\\ncalc_binomial_probability: Calculates the probability of getting k successes in n trials. | Parameters: {\"type\": \"dict\", \"properties\": {\"n\": {\"type\": \"integer\", \"description\": \"The number of trials.\"}, \"k\": {\"type\": \"integer\", \"description\": \"The number of successes.\"}, \"p\": {\"type\": \"float\", \"description\": \"The probability of success.\"}}, \"required\": [\"n\", \"k\", \"p\"]}\\ncalculate_cosine_similarity: Calculates the cosine similarity of two vectors. | Parameters: {\"type\": \"dict\", \"properties\": {\"vectorA\": {\"type\": \"array\", \"items\": {\"type\": \"float\"}, \"description\": \"The first vector.\"}, \"vectorB\": {\"type\": \"array\", \"items\": {\"type\": \"float\"}, \"description\": \"The second vector.\"}}, \"required\": [\"vectorA\", \"vectorB\"]}\\nget_stock_price_by_stock_name: Finds the price of a stock by its stock name. | Parameters: {\"type\": \"dict\", \"properties\": {\"stock_name\": {\"type\": \"string\", \"description\": \"The stock name of the product, in the format of the stock symbol.\"}}, \"required\": [\"stock_name\"]}\\ncalculate_density: Calculates the density of an object. | Parameters: {\"type\": \"dict\", \"properties\": {\"mass\": {\"type\": \"float\", \"description\": \"The mass of the object, in kilograms.\"}, \"volume\": {\"type\": \"float\", \"description\": \"The volume of the object, in cubic meters.\"}}, \"required\": [\"mass\", \"volume\"]}\\ncalculate_future_value: Calculates the future value of an investment. | Parameters: {\"type\": \"dict\", \"properties\": {\"present_value\": {\"type\": \"float\", \"description\": \"The present value of the investment, in dollars.\"}, \"interest_rate\": {\"type\": \"float\", \"description\": \"The interest rate of the investment, ranging from 0 to 1.\"}, \"periods\": {\"type\": \"integer\", \"description\": \"The number of periods, in years.\"}}, \"required\": [\"present_value\", \"interest_rate\", \"periods\"]}\\nget_rating_by_amazon_ASIN: Finds the rating of a product by its Amazon ASIN. | Parameters: {\"type\": \"dict\", \"properties\": {\"ASIN\": {\"type\": \"string\", \"description\": \"The Amazon ASIN of the product.\"}}, \"required\": [\"ASIN\"]}\\nretrieve_holiday_by_year: Finds the holidays of a year. | Parameters: {\"type\": \"dict\", \"properties\": {\"year\": {\"type\": \"string\", \"description\": \"The year of the holidays.\"}, \"country\": {\"type\": \"string\", \"description\": \"The country of the holidays. Possible options: US, AT, DE, ES, FR, GB, IT, NL, PL, RO, SK, UA.\"}}, \"required\": [\"year\", \"country\"]}\\ncalculate_displacement: Calculates the displacement of an object. | Parameters: {\"type\": \"dict\", \"properties\": {\"initial_velocity\": {\"type\": \"float\", \"description\": \"The initial velocity of the object, in meters per second.\"}, \"acceleration\": {\"type\": \"float\", \"description\": \"The acceleration of the object, in meters per second squared.\"}, \"time\": {\"type\": \"float\", \"description\": \"The time the object has been moving, in seconds.\"}}, \"required\": [\"initial_velocity\", \"acceleration\", \"time\"]}\\nget_zipcode_by_ip_address: Finds the zipcode of an IP address. | Parameters: {\"type\": \"dict\", \"properties\": {\"ip_address\": {\"type\": \"string\", \"description\": \"The IP address to find the location of.\"}}, \"required\": [\"ip_address\"]}\\ncalculate_electrostatic_potential_energy: Calculates the electrostatic potential energy. | Parameters: {\"type\": \"dict\", \"properties\": {\"charge\": {\"type\": \"float\", \"description\": \"The charge of the object, in coulombs.\"}, \"voltage\": {\"type\": \"float\", \"description\": \"The voltage of the object, in volts.\"}}, \"required\": [\"charge\", \"voltage\"]}\\nmortgage_calculator: Calculates the monthly mortgage payment. | Parameters: {\"type\": \"dict\", \"properties\": {\"loan_amount\": {\"type\": \"float\", \"description\": \"The amount of the loan.\"}, \"interest_rate\": {\"type\": \"float\", \"description\": \"The interest rate of the loan, ranging from 0 to 1.\"}, \"loan_period\": {\"type\": \"integer\", \"description\": \"The period of the loan, in years.\"}}, \"required\": [\"loan_amount\", \"interest_rate\", \"loan_period\"]}\\ncalculate_final_velocity: Calculates the final velocity of an object. | Parameters: {\"type\": \"dict\", \"properties\": {\"initial_velocity\": {\"type\": \"float\", \"description\": \"The initial velocity of the object.\"}, \"acceleration\": {\"type\": \"float\", \"description\": \"The acceleration of the object.\"}, \"time\": {\"type\": \"float\", \"description\": \"The time the object has been moving.\"}}, \"required\": [\"initial_velocity\", \"acceleration\", \"time\"]}\\nget_fibonacci_sequence: Calculates the n numbers of the Fibonacci. | Parameters: {\"type\": \"dict\", \"properties\": {\"n\": {\"type\": \"integer\", \"description\": \"The number of Fibonacci numbers to calculate.\"}}, \"required\": [\"n\"]}\\nsort_array: Sorts an array of numbers. | Parameters: {\"type\": \"dict\", \"properties\": {\"array\": {\"type\": \"array\", \"items\": {\"type\": \"float\"}, \"description\": \"The array of numbers.\"}, \"reverse\": {\"type\": \"boolean\", \"description\": \"Whether to sort the array in reverse order, i.e., descending order.\", \"default\": false}}, \"required\": [\"array\"]}\\nget_time_zone_by_coord: Finds the timezone of a coordinate. | Parameters: {\"type\": \"dict\", \"properties\": {\"long\": {\"type\": \"string\", \"description\": \"The longitude of the coordinate.\"}, \"lat\": {\"type\": \"string\", \"description\": \"The latitude of the coordinate.\"}}, \"required\": [\"long\", \"lat\"]}\\ncalculate_mean: Calculates the mean of a list of numbers. | Parameters: {\"type\": \"dict\", \"properties\": {\"numbers\": {\"type\": \"array\", \"items\": {\"type\": \"integer\"}, \"description\": \"The list of numbers.\"}}, \"required\": [\"numbers\"]}\\ncalculate_permutations: Calculates the number of permutations of k elements from a set of n elements. | Parameters: {\"type\": \"dict\", \"properties\": {\"n\": {\"type\": \"integer\", \"description\": \"The number of elements in the set.\"}, \"k\": {\"type\": \"integer\", \"description\": \"The number of elements to choose.\"}}, \"required\": [\"n\", \"k\"]}\\nget_company_name_by_stock_name: Finds the company name of a stock by its stock name. | Parameters: {\"type\": \"dict\", \"properties\": {\"stock_name\": {\"type\": \"string\", \"description\": \"The stock name of the product, in the format of the stock symbol.\"}}, \"required\": [\"stock_name\"]}\\ncalculate_standard_deviation: Calculates the standard deviation of a list of numbers. | Parameters: {\"type\": \"dict\", \"properties\": {\"numbers\": {\"type\": \"array\", \"items\": {\"type\": \"integer\"}, \"description\": \"The list of numbers.\"}}, \"required\": [\"numbers\"]}\\nmath_lcm: Calculates the least common multiple of two numbers. | Parameters: {\"type\": \"dict\", \"properties\": {\"a\": {\"type\": \"integer\", \"description\": \"The first number. This should be the larger number.\"}, \"b\": {\"type\": \"integer\", \"description\": \"The second number.\"}}, \"required\": [\"a\", \"b\"]}\\ncalculate_triangle_area: Calculates the area of a triangle given its base and height. | Parameters: {\"type\": \"dict\", \"properties\": {\"base\": {\"type\": \"integer\", \"description\": \"The base of the triangle, in meters.\"}, \"height\": {\"type\": \"integer\", \"description\": \"The height of the triangle, in meters.\"}}, \"required\": [\"base\", \"height\"]}\\nconvert_currency: Converts a given amount from one currency to another using the ExchangeRate-API. | Parameters: {\"type\": \"dict\", \"properties\": {\"amount\": {\"type\": \"float\", \"description\": \"The amount of money to convert, in the base currency.\"}, \"from_currency\": {\"type\": \"string\", \"description\": \"The ISO currency code for the base currency.\"}, \"to_currency\": {\"type\": \"string\", \"description\": \"The ISO currency code for the target currency.\"}}, \"required\": [\"amount\", \"from_currency\", \"to_currency\"]}\\nget_stock_history: Finds the price of a stock by its stock name. | Parameters: {\"type\": \"dict\", \"properties\": {\"stock_name\": {\"type\": \"string\", \"description\": \"The stock name of the product, in the format of the stock symbol.\"}, \"interval\": {\"type\": \"string\", \"description\": \"The interval of the stock history. Allows one of following : 5m|15m|30m|1h|1d|1wk|1mo|3mo\"}, \"diffandsplits\": {\"type\": \"string\", \"description\": \"The diff and splits of the stock history. Allows one of following : true|false. Default to false\"}}, \"required\": [\"stock_name\", \"interval\"]}\\nmath_gcd: Calculates the greatest common divisor of two numbers. | Parameters: {\"type\": \"dict\", \"properties\": {\"a\": {\"type\": \"integer\", \"description\": \"The first number. This should be the larger number.\"}, \"b\": {\"type\": \"integer\", \"description\": \"The second number.\"}}, \"required\": [\"a\", \"b\"]}\\nestimate_derivative: Estimate the derivative of a function at a given point. | Parameters: {\"type\": \"dict\", \"properties\": {\"function\": {\"type\": \"string\", \"description\": \"The function to calculate the derivative of. This should be the string literal of lambda function\"}, \"x\": {\"type\": \"integer\", \"description\": \"The point to calculate the derivative at.\"}}, \"required\": [\"function\", \"x\"]}\\nfind_term_on_urban_dictionary: Finds the definition of a term on Urban Dictionary. | Parameters: {\"type\": \"dict\", \"properties\": {\"term\": {\"type\": \"string\", \"description\": \"The term to find the definition of.\"}}, \"required\": [\"term\"]}\\nget_distance: Calculates the distance between two 2D points. | Parameters: {\"type\": \"dict\", \"properties\": {\"pointA\": {\"type\": \"tuple\", \"description\": \"The first point.\", \"items\": {\"type\": \"float\"}}, \"pointB\": {\"type\": \"tuple\", \"description\": \"The second point.\", \"items\": {\"type\": \"float\"}}}, \"required\": [\"pointA\", \"pointB\"]}\\ngeometry_area_circle: Calculates the area of a circle. | Parameters: {\"type\": \"dict\", \"properties\": {\"radius\": {\"type\": \"integer\", \"description\": \"The radius of the circle, in feet.\"}}, \"required\": [\"radius\"]}\\nget_covid_death_by_country: Finds the most up to date total deaths of a country result from COVID. | Parameters: {\"type\": \"dict\", \"properties\": {\"country\": {\"type\": \"string\", \"description\": \"The country to find the total deaths of, in the format of the country's full name.\"}}, \"required\": [\"country\"]}\\nget_active_covid_case_by_country: Finds the most up to date active cases of a country result from COVID. | Parameters: {\"type\": \"dict\", \"properties\": {\"country\": {\"type\": \"string\", \"description\": \"The country to find the active cases of, in the format of the country's full name.\"}}, \"required\": [\"country\"]}\\nmat_mul: Multiplies two matrices. | Parameters: {\"type\": \"dict\", \"properties\": {\"matA\": {\"type\": \"array\", \"description\": \"The first matrix.\", \"items\": {\"type\": \"array\", \"items\": {\"type\": \"integer\"}}}, \"matB\": {\"type\": \"array\", \"description\": \"The second matrix.\", \"items\": {\"type\": \"array\", \"items\": {\"type\": \"integer\"}}}}, \"required\": [\"matA\", \"matB\"]}\\nget_coordinate_by_ip_address: Finds the latitude and longitude of an IP address. | Parameters: {\"type\": \"dict\", \"properties\": {\"ip_address\": {\"type\": \"string\", \"description\": \"The IP address to find the location of.\"}}, \"required\": [\"ip_address\"]}\\nget_coordinates_from_city: Fetches the latitude and longitude of a given city name using the Maps.co Geocoding API. | Parameters: {\"type\": \"dict\", \"properties\": {\"city_name\": {\"type\": \"string\", \"description\": \"The name of the city, such as 'Rome'.\"}}, \"required\": [\"city_name\"]}\\nget_product_name_by_amazon_ASIN: Finds the price of a product by its Amazon ASIN. | Parameters: {\"type\": \"dict\", \"properties\": {\"ASIN\": {\"type\": \"string\", \"description\": \"The Amazon ASIN of the product.\"}}, \"required\": [\"ASIN\"]}\\nget_price_by_amazon_ASIN: Finds the price of a product by its Amazon ASIN. | Parameters: {\"type\": \"dict\", \"properties\": {\"ASIN\": {\"type\": \"string\", \"description\": \"The Amazon ASIN of the product.\"}}, \"required\": [\"ASIN\"]}\\nget_prime_factors: Calculates the prime factors of a number. | Parameters: {\"type\": \"dict\", \"properties\": {\"number\": {\"type\": \"integer\", \"description\": \"The number to calculate the prime factors of.\"}}, \"required\": [\"number\"]}\\nretrieve_city_based_on_zipcode: Finds the city of a zipcode. | Parameters: {\"type\": \"dict\", \"properties\": {\"zipcode\": {\"type\": \"string\", \"description\": \"The zipcode of the city.\"}}, \"required\": [\"zipcode\"]}\\nmath_factorial: Calculates the factorial of a number. | Parameters: {\"type\": \"dict\", \"properties\": {\"n\": {\"type\": \"integer\", \"description\": \"The number to calculate the factorial of.\"}}, \"required\": [\"n\"]}\\nquadratic_roots: Calculates the roots of a quadratic equation. | Parameters: {\"type\": \"dict\", \"properties\": {\"a\": {\"type\": \"integer\", \"description\": \"The first coefficient.\"}, \"b\": {\"type\": \"integer\", \"description\": \"The second coefficient.\"}, \"c\": {\"type\": \"integer\", \"description\": \"The third coefficient.\"}}, \"required\": [\"a\", \"b\", \"c\"]}\\nadd_binary_numbers: Adds two binary numbers. | Parameters: {\"type\": \"dict\", \"properties\": {\"a\": {\"type\": \"string\", \"description\": \"The first binary number.\"}, \"b\": {\"type\": \"string\", \"description\": \"The second binary number.\"}}, \"required\": [\"a\", \"b\"]}\\nconvert_binary_to_decimal: Converts a binary number to a decimal number. | Parameters: {\"type\": \"dict\", \"properties\": {\"binary\": {\"type\": \"string\", \"description\": \"The binary number to convert.\"}}, \"required\": [\"binary\"]}\\nconvert_decimal_to_hex: Converts a decimal number to a hexadecimal number. | Parameters: {\"type\": \"dict\", \"properties\": {\"decimal\": {\"type\": \"integer\", \"description\": \"The decimal number to convert.\"}}, \"required\": [\"decimal\"]}\\nlinear_regression: Finds the linear regression of a set of points and evaluates it at a given point. | Parameters: {\"type\": \"dict\", \"properties\": {\"x\": {\"type\": \"array\", \"description\": \"The x coordinates of the points.\", \"items\": {\"type\": \"integer\"}}, \"y\": {\"type\": \"array\", \"description\": \"The y coordinates of the points.\", \"items\": {\"type\": \"integer\"}}, \"point\": {\"type\": \"integer\", \"description\": \"The point to calculate the linear regression at.\"}}, \"required\": [\"x\", \"y\", \"point\"]}\\ncalculate_slope: Calculates the slope of the linear regression line from a set of points. | Parameters: {\"type\": \"dict\", \"properties\": {\"x\": {\"type\": \"array\", \"description\": \"The x coordinates of the points.\", \"items\": {\"type\": \"integer\"}}, \"y\": {\"type\": \"array\", \"description\": \"The y coordinates of the points.\", \"items\": {\"type\": \"integer\"}}}, \"required\": [\"x\", \"y\"]}\\ncalculate_intercept: Calculates the y-intercept of the linear regression line from a set of points and a given slope. | Parameters: {\"type\": \"dict\", \"properties\": {\"x\": {\"type\": \"array\", \"description\": \"The x coordinates of the points.\", \"items\": {\"type\": \"integer\"}}, \"y\": {\"type\": \"array\", \"description\": \"The y coordinates of the points.\", \"items\": {\"type\": \"integer\"}}, \"slope\": {\"type\": \"integer\", \"description\": \"The slope of the linear regression line.\"}}, \"required\": [\"x\", \"y\", \"slope\"]}\\npredict_value: Predicts the value of y given the slope, intercept, and an x value. | Parameters: {\"type\": \"dict\", \"properties\": {\"slope\": {\"type\": \"integer\", \"description\": \"The slope of the linear regression line.\"}, \"intercept\": {\"type\": \"integer\", \"description\": \"The y-intercept of the linear regression line.\"}, \"x\": {\"type\": \"integer\", \"description\": \"The x value to predict the y for.\"}}, \"required\": [\"slope\", \"intercept\", \"x\"]}\\ncalculate_investment_value: Calculates the value of an investment over time. | Parameters: {\"type\": \"dict\", \"properties\": {\"initial_investment\": {\"type\": \"integer\", \"description\": \"The initial investment amount.\"}, \"annual_contribution\": {\"type\": \"integer\", \"description\": \"The annual contribution amount.\"}, \"years\": {\"type\": \"integer\", \"description\": \"The number of years to calculate the investment value for.\"}, \"annual_return\": {\"type\": \"float\", \"description\": \"The annual return rate, ranging from 0 to 1.\"}, \"inflation_rate\": {\"type\": \"array\", \"items\": {\"type\": \"float\"}, \"description\": \"The inflation rate for each year in percentage, ranging from 0 to 1.\"}, \"adjust_for_inflation\": {\"type\": \"boolean\", \"default\": true, \"description\": \"Whether to adjust the investment value for inflation.\"}}, \"required\": [\"initial_investment\", \"annual_contribution\", \"years\", \"annual_return\", \"inflation_rate\"]}\\ncompound_interest: Calculates compound interest over time. | Parameters: {\"type\": \"dict\", \"properties\": {\"principal\": {\"type\": \"integer\", \"description\": \"The principal amount.\"}, \"rate\": {\"type\": \"float\", \"description\": \"The annual interest rate.\"}, \"times_compounded\": {\"type\": \"integer\", \"description\": \"The number of times the interest is compounded per year.\"}, \"years\": {\"type\": \"integer\", \"description\": \"The number of years to calculate the compound interest for.\"}}, \"required\": [\"principal\", \"rate\", \"times_compounded\", \"years\"]}\\ninflation_adjustment: Adjusts an amount for inflation. | Parameters: {\"type\": \"dict\", \"properties\": {\"amount\": {\"type\": \"float\", \"description\": \"The amount to adjust for inflation.\"}, \"inflation_rate\": {\"type\": \"float\", \"description\": \"The annual inflation float.\"}, \"years\": {\"type\": \"integer\", \"description\": \"The number of years to adjust for inflation.\"}}, \"required\": [\"amount\", \"inflation_rate\", \"years\"]}\\nadjust_for_inflation: Adjusts the investment value for inflation for each year. | Parameters: {\"type\": \"dict\", \"properties\": {\"investment_value\": {\"type\": \"float\", \"description\": \"The value of the investment to adjust.\"}, \"inflation_rates\": {\"type\": \"array\", \"items\": {\"type\": \"float\"}, \"description\": \"The inflation rates for each year.\"}}, \"required\": [\"investment_value\", \"inflation_rates\"]}\\ncalculate_basal_metabolic_rate: Calculates the Basal Metabolic Rate (BMR) of a person. | Parameters: {\"type\": \"dict\", \"properties\": {\"weight\": {\"type\": \"float\", \"description\": \"The weight of the person in kilograms.\"}, \"height\": {\"type\": \"float\", \"description\": \"The height of the person in centimeters.\"}, \"age\": {\"type\": \"float\", \"description\": \"The age of the person in years.\"}, \"gender\": {\"type\": \"string\", \"description\": \"The gender of the person. Possible options [male, female, other].\"}}, \"required\": [\"weight\", \"height\", \"age\", \"gender\"]}\\ncalculate_daily_energy_expenditure: Calculates the daily energy expenditure based on BMR and activity level. | Parameters: {\"type\": \"dict\", \"properties\": {\"basal_metabolic_rate\": {\"type\": \"float\", \"description\": \"The BMR of the person.\"}, \"activity_level\": {\"type\": \"float\", \"description\": \"The activity level of the person. Possible options [1,2,3,4,5].\"}}, \"required\": [\"basal_metabolic_rate\", \"activity_level\"]}\\ncalculate_nutritional_needs: Calculates the nutritional needs of a person based on their weight, height, age, gender, activity level, and goal. | Parameters: {\"type\": \"dict\", \"properties\": {\"weight\": {\"type\": \"float\", \"description\": \"The weight of the person in kilograms.\"}, \"height\": {\"type\": \"float\", \"description\": \"The height of the person in centimeters.\"}, \"age\": {\"type\": \"float\", \"description\": \"The age of the person in years.\"}, \"gender\": {\"type\": \"string\", \"description\": \"The gender of the person. Possible options [male, female, other].\"}, \"activity_level\": {\"type\": \"float\", \"description\": \"The activity level of the person. Possible options [1,2,3,4,5].\"}, \"goal\": {\"type\": \"string\", \"description\": \"The goal of the person. Possible options [lose, gain, maintain].\"}}, \"required\": [\"weight\", \"height\", \"age\", \"gender\", \"activity_level\", \"goal\"]}\\nbook_room: Books a room for a customer. | Parameters: {\"type\": \"dict\", \"properties\": {\"room_type\": {\"type\": \"dict\", \"description\": \"The room type to book.\"}, \"check_in_date\": {\"type\": \"string\", \"description\": \"The check-in date in format of MM-DD-YYYY.\"}, \"check_out_date\": {\"type\": \"string\", \"description\": \"The check-out date in format of MM-DD-YYYY.\"}, \"customer_id\": {\"type\": \"string\", \"description\": \"The customer ID.\"}, \"discount_code\": {\"type\": \"string\", \"description\": \"The discount code (if any).\", \"default\": null}}, \"required\": [\"room_type\", \"check_in_date\", \"check_out_date\", \"customer_id\"]}\\ncalculate_total_price: Calculates the total price of the room booking. | Parameters: {\"type\": \"dict\", \"properties\": {\"room_price\": {\"type\": \"float\", \"description\": \"The price per night of the room.\"}, \"nights\": {\"type\": \"integer\", \"description\": \"The number of nights for the booking.\"}, \"discount\": {\"type\": \"float\", \"description\": \"The discount amount (if any).\", \"default\": 0}}, \"required\": [\"room_price\", \"nights\"]}\\nconfirm_booking: Confirms the room booking and sends a confirmation to the customer. | Parameters: {\"type\": \"dict\", \"properties\": {\"customer_id\": {\"type\": \"string\", \"description\": \"The customer ID.\"}, \"room_number\": {\"type\": \"string\", \"description\": \"The room number assigned to the booking.\"}, \"total_price\": {\"type\": \"float\", \"description\": \"The total price for the booking.\"}}, \"required\": [\"customer_id\", \"room_number\", \"total_price\"]}\\norder_food: Orders food for a customer. Return the total price. | Parameters: {\"type\": \"dict\", \"properties\": {\"item\": {\"type\": \"array\", \"items\": {\"type\": \"string\"}, \"description\": \"the name of the product.\"}, \"quantity\": {\"type\": \"array\", \"items\": {\"type\": \"integer\"}, \"description\": \"the number of the product purchased.\"}, \"price\": {\"type\": \"array\", \"items\": {\"type\": \"float\"}, \"description\": \"the price of the product.\"}}, \"required\": [\"item\", \"quantity\", \"price\"]}\\ncalculate_total: Calculates the total price of an order given the quantities and prices. | Parameters: {\"type\": \"dict\", \"properties\": {\"quantities\": {\"type\": \"array\", \"items\": {\"type\": \"integer\"}, \"description\": \"The quantities of each product.\"}, \"prices\": {\"type\": \"array\", \"items\": {\"type\": \"float\"}, \"description\": \"The price of each product.\"}}, \"required\": [\"quantities\", \"prices\"]}\\napply_discount: Applies a discount to the total price. | Parameters: {\"type\": \"dict\", \"properties\": {\"total\": {\"type\": \"float\", \"description\": \"The original total price.\"}, \"discount\": {\"type\": \"float\", \"description\": \"The discount percentage to apply.\"}}, \"required\": [\"total\", \"discount\"]}\\nget_movie_director: Fetches the director of a movie from the OMDB API. | Parameters: {\"type\": \"dict\", \"properties\": {\"movie_name\": {\"type\": \"string\", \"description\": \"The name of the movie.\"}}, \"required\": [\"movie_name\"]}\\ncalculate_interest_rate: Calculates the interest rate for a given principal, rate, and time. | Parameters: {\"type\": \"dict\", \"properties\": {\"principal\": {\"type\": \"float\", \"description\": \"The initial amount of money.\"}, \"rate\": {\"type\": \"float\", \"description\": \"The interest rate per period.\"}, \"time\": {\"type\": \"float\", \"description\": \"The time the money is invested or borrowed for.\"}}, \"required\": [\"principal\", \"rate\", \"time\"]}\\nconvert_temperature: Converts temperature from Celsius to Fahrenheit or vice versa. | Parameters: {\"type\": \"dict\", \"properties\": {\"temperature\": {\"type\": \"float\", \"description\": \"The temperature to convert.\"}, \"unit_from\": {\"type\": \"string\", \"description\": \"The current unit of the temperature (Celsius or Fahrenheit).\"}, \"unit_to\": {\"type\": \"string\", \"description\": \"The unit to convert the temperature to (Celsius or Fahrenheit).\"}}, \"required\": [\"temperature\", \"unit_from\", \"unit_to\"]}\\ngenerate_random_number: Generates a random number within a specified range. | Parameters: {\"type\": \"dict\", \"properties\": {\"min\": {\"type\": \"integer\", \"description\": \"The minimum value of the range.\"}, \"max\": {\"type\": \"integer\", \"description\": \"The maximum value of the range.\"}}, \"required\": [\"min\", \"max\"]}\\nget_movie_rating: Fetches the age rating of a movie from the OMDB API. | Parameters: {\"type\": \"dict\", \"properties\": {\"movie_name\": {\"type\": \"string\", \"description\": \"The name of the movie.\"}}, \"required\": [\"movie_name\"]}\\nget_movie_genre: Retrieves the genre of a movie from the OMDB API. | Parameters: {\"type\": \"dict\", \"properties\": {\"movie_name\": {\"type\": \"string\", \"description\": \"The name of the movie to retrieve the genre for.\"}}, \"required\": [\"movie_name\"]}\\nget_director_by_movie_name: Gets the director of a movie. | Parameters: {\"type\": \"dict\", \"properties\": {\"movie_name\": {\"type\": \"string\", \"description\": \"The movie to find the director of.\"}}, \"required\": [\"movie_name\"]}\\nconvert_coordinates: Converts a list of tuples into a list of lists. | Parameters: {\"type\": \"dict\", \"properties\": {\"coordinates\": {\"type\": \"array\", \"items\": {\"type\": \"tuple\", \"items\": {\"type\": \"float\"}, \"description\": \"A single coordinate represented by a tuple (x, y).\"}, \"description\": \"The coordinates to be converted, where each coordinate is a tuple (x, y).\"}}, \"required\": [\"coordinates\"]}\\npolygon_area: Calculate the area of a polygon given its vertices using the shoelace formula. | Parameters: {\"type\": \"dict\", \"properties\": {\"vertices\": {\"type\": \"array\", \"items\": {\"type\": \"array\", \"items\": {\"type\": \"float\"}, \"minItems\": 2, \"maxItems\": 2, \"description\": \"A single vertex represented by a 2 element list [x, y].\"}, \"description\": \"The vertices of the polygon, where each vertex is a 2 element list [x, y].\"}}, \"required\": [\"vertices\"]}\\nvalidate_polygon: Checks if the given vertices form a valid polygon. | Parameters: {\"type\": \"dict\", \"properties\": {\"vertices\": {\"type\": \"array\", \"items\": {\"type\": \"array\", \"items\": {\"type\": \"float\"}, \"description\": \"A single vertex represented by a 2 element list [x, y].\"}, \"description\": \"The vertices of the polygon, where each vertex is a 2 element list [x, y].\"}}, \"required\": [\"vertices\"]}  \n",
              "3  get_weather_data: Fetches weather data from the Open-Meteo API for the given latitude and longitude. | Parameters: {\"type\": \"dict\", \"properties\": {\"coordinates\": {\"type\": \"array\", \"items\": {\"type\": \"float\"}, \"description\": \"The latitude and longitude of the location.\"}}, \"required\": [\"coordinates\"]}\\ncalc_binomial_probability: Calculates the probability of getting k successes in n trials. | Parameters: {\"type\": \"dict\", \"properties\": {\"n\": {\"type\": \"integer\", \"description\": \"The number of trials.\"}, \"k\": {\"type\": \"integer\", \"description\": \"The number of successes.\"}, \"p\": {\"type\": \"float\", \"description\": \"The probability of success.\"}}, \"required\": [\"n\", \"k\", \"p\"]}\\ncalculate_cosine_similarity: Calculates the cosine similarity of two vectors. | Parameters: {\"type\": \"dict\", \"properties\": {\"vectorA\": {\"type\": \"array\", \"items\": {\"type\": \"float\"}, \"description\": \"The first vector.\"}, \"vectorB\": {\"type\": \"array\", \"items\": {\"type\": \"float\"}, \"description\": \"The second vector.\"}}, \"required\": [\"vectorA\", \"vectorB\"]}\\nget_stock_price_by_stock_name: Finds the price of a stock by its stock name. | Parameters: {\"type\": \"dict\", \"properties\": {\"stock_name\": {\"type\": \"string\", \"description\": \"The stock name of the product, in the format of the stock symbol.\"}}, \"required\": [\"stock_name\"]}\\ncalculate_density: Calculates the density of an object. | Parameters: {\"type\": \"dict\", \"properties\": {\"mass\": {\"type\": \"float\", \"description\": \"The mass of the object, in kilograms.\"}, \"volume\": {\"type\": \"float\", \"description\": \"The volume of the object, in cubic meters.\"}}, \"required\": [\"mass\", \"volume\"]}\\ncalculate_future_value: Calculates the future value of an investment. | Parameters: {\"type\": \"dict\", \"properties\": {\"present_value\": {\"type\": \"float\", \"description\": \"The present value of the investment, in dollars.\"}, \"interest_rate\": {\"type\": \"float\", \"description\": \"The interest rate of the investment, ranging from 0 to 1.\"}, \"periods\": {\"type\": \"integer\", \"description\": \"The number of periods, in years.\"}}, \"required\": [\"present_value\", \"interest_rate\", \"periods\"]}\\nget_rating_by_amazon_ASIN: Finds the rating of a product by its Amazon ASIN. | Parameters: {\"type\": \"dict\", \"properties\": {\"ASIN\": {\"type\": \"string\", \"description\": \"The Amazon ASIN of the product.\"}}, \"required\": [\"ASIN\"]}\\nretrieve_holiday_by_year: Finds the holidays of a year. | Parameters: {\"type\": \"dict\", \"properties\": {\"year\": {\"type\": \"string\", \"description\": \"The year of the holidays.\"}, \"country\": {\"type\": \"string\", \"description\": \"The country of the holidays. Possible options: US, AT, DE, ES, FR, GB, IT, NL, PL, RO, SK, UA.\"}}, \"required\": [\"year\", \"country\"]}\\ncalculate_displacement: Calculates the displacement of an object. | Parameters: {\"type\": \"dict\", \"properties\": {\"initial_velocity\": {\"type\": \"float\", \"description\": \"The initial velocity of the object, in meters per second.\"}, \"acceleration\": {\"type\": \"float\", \"description\": \"The acceleration of the object, in meters per second squared.\"}, \"time\": {\"type\": \"float\", \"description\": \"The time the object has been moving, in seconds.\"}}, \"required\": [\"initial_velocity\", \"acceleration\", \"time\"]}\\nget_zipcode_by_ip_address: Finds the zipcode of an IP address. | Parameters: {\"type\": \"dict\", \"properties\": {\"ip_address\": {\"type\": \"string\", \"description\": \"The IP address to find the location of.\"}}, \"required\": [\"ip_address\"]}\\ncalculate_electrostatic_potential_energy: Calculates the electrostatic potential energy. | Parameters: {\"type\": \"dict\", \"properties\": {\"charge\": {\"type\": \"float\", \"description\": \"The charge of the object, in coulombs.\"}, \"voltage\": {\"type\": \"float\", \"description\": \"The voltage of the object, in volts.\"}}, \"required\": [\"charge\", \"voltage\"]}\\nmortgage_calculator: Calculates the monthly mortgage payment. | Parameters: {\"type\": \"dict\", \"properties\": {\"loan_amount\": {\"type\": \"float\", \"description\": \"The amount of the loan.\"}, \"interest_rate\": {\"type\": \"float\", \"description\": \"The interest rate of the loan, ranging from 0 to 1.\"}, \"loan_period\": {\"type\": \"integer\", \"description\": \"The period of the loan, in years.\"}}, \"required\": [\"loan_amount\", \"interest_rate\", \"loan_period\"]}\\ncalculate_final_velocity: Calculates the final velocity of an object. | Parameters: {\"type\": \"dict\", \"properties\": {\"initial_velocity\": {\"type\": \"float\", \"description\": \"The initial velocity of the object.\"}, \"acceleration\": {\"type\": \"float\", \"description\": \"The acceleration of the object.\"}, \"time\": {\"type\": \"float\", \"description\": \"The time the object has been moving.\"}}, \"required\": [\"initial_velocity\", \"acceleration\", \"time\"]}\\nget_fibonacci_sequence: Calculates the n numbers of the Fibonacci. | Parameters: {\"type\": \"dict\", \"properties\": {\"n\": {\"type\": \"integer\", \"description\": \"The number of Fibonacci numbers to calculate.\"}}, \"required\": [\"n\"]}\\nsort_array: Sorts an array of numbers. | Parameters: {\"type\": \"dict\", \"properties\": {\"array\": {\"type\": \"array\", \"items\": {\"type\": \"float\"}, \"description\": \"The array of numbers.\"}, \"reverse\": {\"type\": \"boolean\", \"description\": \"Whether to sort the array in reverse order, i.e., descending order.\", \"default\": false}}, \"required\": [\"array\"]}\\nget_time_zone_by_coord: Finds the timezone of a coordinate. | Parameters: {\"type\": \"dict\", \"properties\": {\"long\": {\"type\": \"string\", \"description\": \"The longitude of the coordinate.\"}, \"lat\": {\"type\": \"string\", \"description\": \"The latitude of the coordinate.\"}}, \"required\": [\"long\", \"lat\"]}\\ncalculate_mean: Calculates the mean of a list of numbers. | Parameters: {\"type\": \"dict\", \"properties\": {\"numbers\": {\"type\": \"array\", \"items\": {\"type\": \"integer\"}, \"description\": \"The list of numbers.\"}}, \"required\": [\"numbers\"]}\\ncalculate_permutations: Calculates the number of permutations of k elements from a set of n elements. | Parameters: {\"type\": \"dict\", \"properties\": {\"n\": {\"type\": \"integer\", \"description\": \"The number of elements in the set.\"}, \"k\": {\"type\": \"integer\", \"description\": \"The number of elements to choose.\"}}, \"required\": [\"n\", \"k\"]}\\nget_company_name_by_stock_name: Finds the company name of a stock by its stock name. | Parameters: {\"type\": \"dict\", \"properties\": {\"stock_name\": {\"type\": \"string\", \"description\": \"The stock name of the product, in the format of the stock symbol.\"}}, \"required\": [\"stock_name\"]}\\ncalculate_standard_deviation: Calculates the standard deviation of a list of numbers. | Parameters: {\"type\": \"dict\", \"properties\": {\"numbers\": {\"type\": \"array\", \"items\": {\"type\": \"integer\"}, \"description\": \"The list of numbers.\"}}, \"required\": [\"numbers\"]}\\nmath_lcm: Calculates the least common multiple of two numbers. | Parameters: {\"type\": \"dict\", \"properties\": {\"a\": {\"type\": \"integer\", \"description\": \"The first number. This should be the larger number.\"}, \"b\": {\"type\": \"integer\", \"description\": \"The second number.\"}}, \"required\": [\"a\", \"b\"]}\\ncalculate_triangle_area: Calculates the area of a triangle given its base and height. | Parameters: {\"type\": \"dict\", \"properties\": {\"base\": {\"type\": \"integer\", \"description\": \"The base of the triangle, in meters.\"}, \"height\": {\"type\": \"integer\", \"description\": \"The height of the triangle, in meters.\"}}, \"required\": [\"base\", \"height\"]}\\nconvert_currency: Converts a given amount from one currency to another using the ExchangeRate-API. | Parameters: {\"type\": \"dict\", \"properties\": {\"amount\": {\"type\": \"float\", \"description\": \"The amount of money to convert, in the base currency.\"}, \"from_currency\": {\"type\": \"string\", \"description\": \"The ISO currency code for the base currency.\"}, \"to_currency\": {\"type\": \"string\", \"description\": \"The ISO currency code for the target currency.\"}}, \"required\": [\"amount\", \"from_currency\", \"to_currency\"]}\\nget_stock_history: Finds the price of a stock by its stock name. | Parameters: {\"type\": \"dict\", \"properties\": {\"stock_name\": {\"type\": \"string\", \"description\": \"The stock name of the product, in the format of the stock symbol.\"}, \"interval\": {\"type\": \"string\", \"description\": \"The interval of the stock history. Allows one of following : 5m|15m|30m|1h|1d|1wk|1mo|3mo\"}, \"diffandsplits\": {\"type\": \"string\", \"description\": \"The diff and splits of the stock history. Allows one of following : true|false. Default to false\"}}, \"required\": [\"stock_name\", \"interval\"]}\\nmath_gcd: Calculates the greatest common divisor of two numbers. | Parameters: {\"type\": \"dict\", \"properties\": {\"a\": {\"type\": \"integer\", \"description\": \"The first number. This should be the larger number.\"}, \"b\": {\"type\": \"integer\", \"description\": \"The second number.\"}}, \"required\": [\"a\", \"b\"]}\\nestimate_derivative: Estimate the derivative of a function at a given point. | Parameters: {\"type\": \"dict\", \"properties\": {\"function\": {\"type\": \"string\", \"description\": \"The function to calculate the derivative of. This should be the string literal of lambda function\"}, \"x\": {\"type\": \"integer\", \"description\": \"The point to calculate the derivative at.\"}}, \"required\": [\"function\", \"x\"]}\\nfind_term_on_urban_dictionary: Finds the definition of a term on Urban Dictionary. | Parameters: {\"type\": \"dict\", \"properties\": {\"term\": {\"type\": \"string\", \"description\": \"The term to find the definition of.\"}}, \"required\": [\"term\"]}\\nget_distance: Calculates the distance between two 2D points. | Parameters: {\"type\": \"dict\", \"properties\": {\"pointA\": {\"type\": \"tuple\", \"description\": \"The first point.\", \"items\": {\"type\": \"float\"}}, \"pointB\": {\"type\": \"tuple\", \"description\": \"The second point.\", \"items\": {\"type\": \"float\"}}}, \"required\": [\"pointA\", \"pointB\"]}\\ngeometry_area_circle: Calculates the area of a circle. | Parameters: {\"type\": \"dict\", \"properties\": {\"radius\": {\"type\": \"integer\", \"description\": \"The radius of the circle, in feet.\"}}, \"required\": [\"radius\"]}\\nget_covid_death_by_country: Finds the most up to date total deaths of a country result from COVID. | Parameters: {\"type\": \"dict\", \"properties\": {\"country\": {\"type\": \"string\", \"description\": \"The country to find the total deaths of, in the format of the country's full name.\"}}, \"required\": [\"country\"]}\\nget_active_covid_case_by_country: Finds the most up to date active cases of a country result from COVID. | Parameters: {\"type\": \"dict\", \"properties\": {\"country\": {\"type\": \"string\", \"description\": \"The country to find the active cases of, in the format of the country's full name.\"}}, \"required\": [\"country\"]}\\nmat_mul: Multiplies two matrices. | Parameters: {\"type\": \"dict\", \"properties\": {\"matA\": {\"type\": \"array\", \"description\": \"The first matrix.\", \"items\": {\"type\": \"array\", \"items\": {\"type\": \"integer\"}}}, \"matB\": {\"type\": \"array\", \"description\": \"The second matrix.\", \"items\": {\"type\": \"array\", \"items\": {\"type\": \"integer\"}}}}, \"required\": [\"matA\", \"matB\"]}\\nget_coordinate_by_ip_address: Finds the latitude and longitude of an IP address. | Parameters: {\"type\": \"dict\", \"properties\": {\"ip_address\": {\"type\": \"string\", \"description\": \"The IP address to find the location of.\"}}, \"required\": [\"ip_address\"]}\\nget_coordinates_from_city: Fetches the latitude and longitude of a given city name using the Maps.co Geocoding API. | Parameters: {\"type\": \"dict\", \"properties\": {\"city_name\": {\"type\": \"string\", \"description\": \"The name of the city, such as 'Rome'.\"}}, \"required\": [\"city_name\"]}\\nget_product_name_by_amazon_ASIN: Finds the price of a product by its Amazon ASIN. | Parameters: {\"type\": \"dict\", \"properties\": {\"ASIN\": {\"type\": \"string\", \"description\": \"The Amazon ASIN of the product.\"}}, \"required\": [\"ASIN\"]}\\nget_price_by_amazon_ASIN: Finds the price of a product by its Amazon ASIN. | Parameters: {\"type\": \"dict\", \"properties\": {\"ASIN\": {\"type\": \"string\", \"description\": \"The Amazon ASIN of the product.\"}}, \"required\": [\"ASIN\"]}\\nget_prime_factors: Calculates the prime factors of a number. | Parameters: {\"type\": \"dict\", \"properties\": {\"number\": {\"type\": \"integer\", \"description\": \"The number to calculate the prime factors of.\"}}, \"required\": [\"number\"]}\\nretrieve_city_based_on_zipcode: Finds the city of a zipcode. | Parameters: {\"type\": \"dict\", \"properties\": {\"zipcode\": {\"type\": \"string\", \"description\": \"The zipcode of the city.\"}}, \"required\": [\"zipcode\"]}\\nmath_factorial: Calculates the factorial of a number. | Parameters: {\"type\": \"dict\", \"properties\": {\"n\": {\"type\": \"integer\", \"description\": \"The number to calculate the factorial of.\"}}, \"required\": [\"n\"]}\\nquadratic_roots: Calculates the roots of a quadratic equation. | Parameters: {\"type\": \"dict\", \"properties\": {\"a\": {\"type\": \"integer\", \"description\": \"The first coefficient.\"}, \"b\": {\"type\": \"integer\", \"description\": \"The second coefficient.\"}, \"c\": {\"type\": \"integer\", \"description\": \"The third coefficient.\"}}, \"required\": [\"a\", \"b\", \"c\"]}\\nadd_binary_numbers: Adds two binary numbers. | Parameters: {\"type\": \"dict\", \"properties\": {\"a\": {\"type\": \"string\", \"description\": \"The first binary number.\"}, \"b\": {\"type\": \"string\", \"description\": \"The second binary number.\"}}, \"required\": [\"a\", \"b\"]}\\nconvert_binary_to_decimal: Converts a binary number to a decimal number. | Parameters: {\"type\": \"dict\", \"properties\": {\"binary\": {\"type\": \"string\", \"description\": \"The binary number to convert.\"}}, \"required\": [\"binary\"]}\\nconvert_decimal_to_hex: Converts a decimal number to a hexadecimal number. | Parameters: {\"type\": \"dict\", \"properties\": {\"decimal\": {\"type\": \"integer\", \"description\": \"The decimal number to convert.\"}}, \"required\": [\"decimal\"]}\\nlinear_regression: Finds the linear regression of a set of points and evaluates it at a given point. | Parameters: {\"type\": \"dict\", \"properties\": {\"x\": {\"type\": \"array\", \"description\": \"The x coordinates of the points.\", \"items\": {\"type\": \"integer\"}}, \"y\": {\"type\": \"array\", \"description\": \"The y coordinates of the points.\", \"items\": {\"type\": \"integer\"}}, \"point\": {\"type\": \"integer\", \"description\": \"The point to calculate the linear regression at.\"}}, \"required\": [\"x\", \"y\", \"point\"]}\\ncalculate_slope: Calculates the slope of the linear regression line from a set of points. | Parameters: {\"type\": \"dict\", \"properties\": {\"x\": {\"type\": \"array\", \"description\": \"The x coordinates of the points.\", \"items\": {\"type\": \"integer\"}}, \"y\": {\"type\": \"array\", \"description\": \"The y coordinates of the points.\", \"items\": {\"type\": \"integer\"}}}, \"required\": [\"x\", \"y\"]}\\ncalculate_intercept: Calculates the y-intercept of the linear regression line from a set of points and a given slope. | Parameters: {\"type\": \"dict\", \"properties\": {\"x\": {\"type\": \"array\", \"description\": \"The x coordinates of the points.\", \"items\": {\"type\": \"integer\"}}, \"y\": {\"type\": \"array\", \"description\": \"The y coordinates of the points.\", \"items\": {\"type\": \"integer\"}}, \"slope\": {\"type\": \"integer\", \"description\": \"The slope of the linear regression line.\"}}, \"required\": [\"x\", \"y\", \"slope\"]}\\npredict_value: Predicts the value of y given the slope, intercept, and an x value. | Parameters: {\"type\": \"dict\", \"properties\": {\"slope\": {\"type\": \"integer\", \"description\": \"The slope of the linear regression line.\"}, \"intercept\": {\"type\": \"integer\", \"description\": \"The y-intercept of the linear regression line.\"}, \"x\": {\"type\": \"integer\", \"description\": \"The x value to predict the y for.\"}}, \"required\": [\"slope\", \"intercept\", \"x\"]}\\ncalculate_investment_value: Calculates the value of an investment over time. | Parameters: {\"type\": \"dict\", \"properties\": {\"initial_investment\": {\"type\": \"integer\", \"description\": \"The initial investment amount.\"}, \"annual_contribution\": {\"type\": \"integer\", \"description\": \"The annual contribution amount.\"}, \"years\": {\"type\": \"integer\", \"description\": \"The number of years to calculate the investment value for.\"}, \"annual_return\": {\"type\": \"float\", \"description\": \"The annual return rate, ranging from 0 to 1.\"}, \"inflation_rate\": {\"type\": \"array\", \"items\": {\"type\": \"float\"}, \"description\": \"The inflation rate for each year in percentage, ranging from 0 to 1.\"}, \"adjust_for_inflation\": {\"type\": \"boolean\", \"default\": true, \"description\": \"Whether to adjust the investment value for inflation.\"}}, \"required\": [\"initial_investment\", \"annual_contribution\", \"years\", \"annual_return\", \"inflation_rate\"]}\\ncompound_interest: Calculates compound interest over time. | Parameters: {\"type\": \"dict\", \"properties\": {\"principal\": {\"type\": \"integer\", \"description\": \"The principal amount.\"}, \"rate\": {\"type\": \"float\", \"description\": \"The annual interest rate.\"}, \"times_compounded\": {\"type\": \"integer\", \"description\": \"The number of times the interest is compounded per year.\"}, \"years\": {\"type\": \"integer\", \"description\": \"The number of years to calculate the compound interest for.\"}}, \"required\": [\"principal\", \"rate\", \"times_compounded\", \"years\"]}\\ninflation_adjustment: Adjusts an amount for inflation. | Parameters: {\"type\": \"dict\", \"properties\": {\"amount\": {\"type\": \"float\", \"description\": \"The amount to adjust for inflation.\"}, \"inflation_rate\": {\"type\": \"float\", \"description\": \"The annual inflation float.\"}, \"years\": {\"type\": \"integer\", \"description\": \"The number of years to adjust for inflation.\"}}, \"required\": [\"amount\", \"inflation_rate\", \"years\"]}\\nadjust_for_inflation: Adjusts the investment value for inflation for each year. | Parameters: {\"type\": \"dict\", \"properties\": {\"investment_value\": {\"type\": \"float\", \"description\": \"The value of the investment to adjust.\"}, \"inflation_rates\": {\"type\": \"array\", \"items\": {\"type\": \"float\"}, \"description\": \"The inflation rates for each year.\"}}, \"required\": [\"investment_value\", \"inflation_rates\"]}\\ncalculate_basal_metabolic_rate: Calculates the Basal Metabolic Rate (BMR) of a person. | Parameters: {\"type\": \"dict\", \"properties\": {\"weight\": {\"type\": \"float\", \"description\": \"The weight of the person in kilograms.\"}, \"height\": {\"type\": \"float\", \"description\": \"The height of the person in centimeters.\"}, \"age\": {\"type\": \"float\", \"description\": \"The age of the person in years.\"}, \"gender\": {\"type\": \"string\", \"description\": \"The gender of the person. Possible options [male, female, other].\"}}, \"required\": [\"weight\", \"height\", \"age\", \"gender\"]}\\ncalculate_daily_energy_expenditure: Calculates the daily energy expenditure based on BMR and activity level. | Parameters: {\"type\": \"dict\", \"properties\": {\"basal_metabolic_rate\": {\"type\": \"float\", \"description\": \"The BMR of the person.\"}, \"activity_level\": {\"type\": \"float\", \"description\": \"The activity level of the person. Possible options [1,2,3,4,5].\"}}, \"required\": [\"basal_metabolic_rate\", \"activity_level\"]}\\ncalculate_nutritional_needs: Calculates the nutritional needs of a person based on their weight, height, age, gender, activity level, and goal. | Parameters: {\"type\": \"dict\", \"properties\": {\"weight\": {\"type\": \"float\", \"description\": \"The weight of the person in kilograms.\"}, \"height\": {\"type\": \"float\", \"description\": \"The height of the person in centimeters.\"}, \"age\": {\"type\": \"float\", \"description\": \"The age of the person in years.\"}, \"gender\": {\"type\": \"string\", \"description\": \"The gender of the person. Possible options [male, female, other].\"}, \"activity_level\": {\"type\": \"float\", \"description\": \"The activity level of the person. Possible options [1,2,3,4,5].\"}, \"goal\": {\"type\": \"string\", \"description\": \"The goal of the person. Possible options [lose, gain, maintain].\"}}, \"required\": [\"weight\", \"height\", \"age\", \"gender\", \"activity_level\", \"goal\"]}\\nbook_room: Books a room for a customer. | Parameters: {\"type\": \"dict\", \"properties\": {\"room_type\": {\"type\": \"dict\", \"description\": \"The room type to book.\"}, \"check_in_date\": {\"type\": \"string\", \"description\": \"The check-in date in format of MM-DD-YYYY.\"}, \"check_out_date\": {\"type\": \"string\", \"description\": \"The check-out date in format of MM-DD-YYYY.\"}, \"customer_id\": {\"type\": \"string\", \"description\": \"The customer ID.\"}, \"discount_code\": {\"type\": \"string\", \"description\": \"The discount code (if any).\", \"default\": null}}, \"required\": [\"room_type\", \"check_in_date\", \"check_out_date\", \"customer_id\"]}\\ncalculate_total_price: Calculates the total price of the room booking. | Parameters: {\"type\": \"dict\", \"properties\": {\"room_price\": {\"type\": \"float\", \"description\": \"The price per night of the room.\"}, \"nights\": {\"type\": \"integer\", \"description\": \"The number of nights for the booking.\"}, \"discount\": {\"type\": \"float\", \"description\": \"The discount amount (if any).\", \"default\": 0}}, \"required\": [\"room_price\", \"nights\"]}\\nconfirm_booking: Confirms the room booking and sends a confirmation to the customer. | Parameters: {\"type\": \"dict\", \"properties\": {\"customer_id\": {\"type\": \"string\", \"description\": \"The customer ID.\"}, \"room_number\": {\"type\": \"string\", \"description\": \"The room number assigned to the booking.\"}, \"total_price\": {\"type\": \"float\", \"description\": \"The total price for the booking.\"}}, \"required\": [\"customer_id\", \"room_number\", \"total_price\"]}\\norder_food: Orders food for a customer. Return the total price. | Parameters: {\"type\": \"dict\", \"properties\": {\"item\": {\"type\": \"array\", \"items\": {\"type\": \"string\"}, \"description\": \"the name of the product.\"}, \"quantity\": {\"type\": \"array\", \"items\": {\"type\": \"integer\"}, \"description\": \"the number of the product purchased.\"}, \"price\": {\"type\": \"array\", \"items\": {\"type\": \"float\"}, \"description\": \"the price of the product.\"}}, \"required\": [\"item\", \"quantity\", \"price\"]}\\ncalculate_total: Calculates the total price of an order given the quantities and prices. | Parameters: {\"type\": \"dict\", \"properties\": {\"quantities\": {\"type\": \"array\", \"items\": {\"type\": \"integer\"}, \"description\": \"The quantities of each product.\"}, \"prices\": {\"type\": \"array\", \"items\": {\"type\": \"float\"}, \"description\": \"The price of each product.\"}}, \"required\": [\"quantities\", \"prices\"]}\\napply_discount: Applies a discount to the total price. | Parameters: {\"type\": \"dict\", \"properties\": {\"total\": {\"type\": \"float\", \"description\": \"The original total price.\"}, \"discount\": {\"type\": \"float\", \"description\": \"The discount percentage to apply.\"}}, \"required\": [\"total\", \"discount\"]}\\nget_movie_director: Fetches the director of a movie from the OMDB API. | Parameters: {\"type\": \"dict\", \"properties\": {\"movie_name\": {\"type\": \"string\", \"description\": \"The name of the movie.\"}}, \"required\": [\"movie_name\"]}\\ncalculate_interest_rate: Calculates the interest rate for a given principal, rate, and time. | Parameters: {\"type\": \"dict\", \"properties\": {\"principal\": {\"type\": \"float\", \"description\": \"The initial amount of money.\"}, \"rate\": {\"type\": \"float\", \"description\": \"The interest rate per period.\"}, \"time\": {\"type\": \"float\", \"description\": \"The time the money is invested or borrowed for.\"}}, \"required\": [\"principal\", \"rate\", \"time\"]}\\nconvert_temperature: Converts temperature from Celsius to Fahrenheit or vice versa. | Parameters: {\"type\": \"dict\", \"properties\": {\"temperature\": {\"type\": \"float\", \"description\": \"The temperature to convert.\"}, \"unit_from\": {\"type\": \"string\", \"description\": \"The current unit of the temperature (Celsius or Fahrenheit).\"}, \"unit_to\": {\"type\": \"string\", \"description\": \"The unit to convert the temperature to (Celsius or Fahrenheit).\"}}, \"required\": [\"temperature\", \"unit_from\", \"unit_to\"]}\\ngenerate_random_number: Generates a random number within a specified range. | Parameters: {\"type\": \"dict\", \"properties\": {\"min\": {\"type\": \"integer\", \"description\": \"The minimum value of the range.\"}, \"max\": {\"type\": \"integer\", \"description\": \"The maximum value of the range.\"}}, \"required\": [\"min\", \"max\"]}\\nget_movie_rating: Fetches the age rating of a movie from the OMDB API. | Parameters: {\"type\": \"dict\", \"properties\": {\"movie_name\": {\"type\": \"string\", \"description\": \"The name of the movie.\"}}, \"required\": [\"movie_name\"]}\\nget_movie_genre: Retrieves the genre of a movie from the OMDB API. | Parameters: {\"type\": \"dict\", \"properties\": {\"movie_name\": {\"type\": \"string\", \"description\": \"The name of the movie to retrieve the genre for.\"}}, \"required\": [\"movie_name\"]}\\nget_director_by_movie_name: Gets the director of a movie. | Parameters: {\"type\": \"dict\", \"properties\": {\"movie_name\": {\"type\": \"string\", \"description\": \"The movie to find the director of.\"}}, \"required\": [\"movie_name\"]}\\nconvert_coordinates: Converts a list of tuples into a list of lists. | Parameters: {\"type\": \"dict\", \"properties\": {\"coordinates\": {\"type\": \"array\", \"items\": {\"type\": \"tuple\", \"items\": {\"type\": \"float\"}, \"description\": \"A single coordinate represented by a tuple (x, y).\"}, \"description\": \"The coordinates to be converted, where each coordinate is a tuple (x, y).\"}}, \"required\": [\"coordinates\"]}\\npolygon_area: Calculate the area of a polygon given its vertices using the shoelace formula. | Parameters: {\"type\": \"dict\", \"properties\": {\"vertices\": {\"type\": \"array\", \"items\": {\"type\": \"array\", \"items\": {\"type\": \"float\"}, \"minItems\": 2, \"maxItems\": 2, \"description\": \"A single vertex represented by a 2 element list [x, y].\"}, \"description\": \"The vertices of the polygon, where each vertex is a 2 element list [x, y].\"}}, \"required\": [\"vertices\"]}\\nvalidate_polygon: Checks if the given vertices form a valid polygon. | Parameters: {\"type\": \"dict\", \"properties\": {\"vertices\": {\"type\": \"array\", \"items\": {\"type\": \"array\", \"items\": {\"type\": \"float\"}, \"description\": \"A single vertex represented by a 2 element list [x, y].\"}, \"description\": \"The vertices of the polygon, where each vertex is a 2 element list [x, y].\"}}, \"required\": [\"vertices\"]}  \n",
              "4  get_weather_data: Fetches weather data from the Open-Meteo API for the given latitude and longitude. | Parameters: {\"type\": \"dict\", \"properties\": {\"coordinates\": {\"type\": \"array\", \"items\": {\"type\": \"float\"}, \"description\": \"The latitude and longitude of the location.\"}}, \"required\": [\"coordinates\"]}\\ncalc_binomial_probability: Calculates the probability of getting k successes in n trials. | Parameters: {\"type\": \"dict\", \"properties\": {\"n\": {\"type\": \"integer\", \"description\": \"The number of trials.\"}, \"k\": {\"type\": \"integer\", \"description\": \"The number of successes.\"}, \"p\": {\"type\": \"float\", \"description\": \"The probability of success.\"}}, \"required\": [\"n\", \"k\", \"p\"]}\\ncalculate_cosine_similarity: Calculates the cosine similarity of two vectors. | Parameters: {\"type\": \"dict\", \"properties\": {\"vectorA\": {\"type\": \"array\", \"items\": {\"type\": \"float\"}, \"description\": \"The first vector.\"}, \"vectorB\": {\"type\": \"array\", \"items\": {\"type\": \"float\"}, \"description\": \"The second vector.\"}}, \"required\": [\"vectorA\", \"vectorB\"]}\\nget_stock_price_by_stock_name: Finds the price of a stock by its stock name. | Parameters: {\"type\": \"dict\", \"properties\": {\"stock_name\": {\"type\": \"string\", \"description\": \"The stock name of the product, in the format of the stock symbol.\"}}, \"required\": [\"stock_name\"]}\\ncalculate_density: Calculates the density of an object. | Parameters: {\"type\": \"dict\", \"properties\": {\"mass\": {\"type\": \"float\", \"description\": \"The mass of the object, in kilograms.\"}, \"volume\": {\"type\": \"float\", \"description\": \"The volume of the object, in cubic meters.\"}}, \"required\": [\"mass\", \"volume\"]}\\ncalculate_future_value: Calculates the future value of an investment. | Parameters: {\"type\": \"dict\", \"properties\": {\"present_value\": {\"type\": \"float\", \"description\": \"The present value of the investment, in dollars.\"}, \"interest_rate\": {\"type\": \"float\", \"description\": \"The interest rate of the investment, ranging from 0 to 1.\"}, \"periods\": {\"type\": \"integer\", \"description\": \"The number of periods, in years.\"}}, \"required\": [\"present_value\", \"interest_rate\", \"periods\"]}\\nget_rating_by_amazon_ASIN: Finds the rating of a product by its Amazon ASIN. | Parameters: {\"type\": \"dict\", \"properties\": {\"ASIN\": {\"type\": \"string\", \"description\": \"The Amazon ASIN of the product.\"}}, \"required\": [\"ASIN\"]}\\nretrieve_holiday_by_year: Finds the holidays of a year. | Parameters: {\"type\": \"dict\", \"properties\": {\"year\": {\"type\": \"string\", \"description\": \"The year of the holidays.\"}, \"country\": {\"type\": \"string\", \"description\": \"The country of the holidays. Possible options: US, AT, DE, ES, FR, GB, IT, NL, PL, RO, SK, UA.\"}}, \"required\": [\"year\", \"country\"]}\\ncalculate_displacement: Calculates the displacement of an object. | Parameters: {\"type\": \"dict\", \"properties\": {\"initial_velocity\": {\"type\": \"float\", \"description\": \"The initial velocity of the object, in meters per second.\"}, \"acceleration\": {\"type\": \"float\", \"description\": \"The acceleration of the object, in meters per second squared.\"}, \"time\": {\"type\": \"float\", \"description\": \"The time the object has been moving, in seconds.\"}}, \"required\": [\"initial_velocity\", \"acceleration\", \"time\"]}\\nget_zipcode_by_ip_address: Finds the zipcode of an IP address. | Parameters: {\"type\": \"dict\", \"properties\": {\"ip_address\": {\"type\": \"string\", \"description\": \"The IP address to find the location of.\"}}, \"required\": [\"ip_address\"]}\\ncalculate_electrostatic_potential_energy: Calculates the electrostatic potential energy. | Parameters: {\"type\": \"dict\", \"properties\": {\"charge\": {\"type\": \"float\", \"description\": \"The charge of the object, in coulombs.\"}, \"voltage\": {\"type\": \"float\", \"description\": \"The voltage of the object, in volts.\"}}, \"required\": [\"charge\", \"voltage\"]}\\nmortgage_calculator: Calculates the monthly mortgage payment. | Parameters: {\"type\": \"dict\", \"properties\": {\"loan_amount\": {\"type\": \"float\", \"description\": \"The amount of the loan.\"}, \"interest_rate\": {\"type\": \"float\", \"description\": \"The interest rate of the loan, ranging from 0 to 1.\"}, \"loan_period\": {\"type\": \"integer\", \"description\": \"The period of the loan, in years.\"}}, \"required\": [\"loan_amount\", \"interest_rate\", \"loan_period\"]}\\ncalculate_final_velocity: Calculates the final velocity of an object. | Parameters: {\"type\": \"dict\", \"properties\": {\"initial_velocity\": {\"type\": \"float\", \"description\": \"The initial velocity of the object.\"}, \"acceleration\": {\"type\": \"float\", \"description\": \"The acceleration of the object.\"}, \"time\": {\"type\": \"float\", \"description\": \"The time the object has been moving.\"}}, \"required\": [\"initial_velocity\", \"acceleration\", \"time\"]}\\nget_fibonacci_sequence: Calculates the n numbers of the Fibonacci. | Parameters: {\"type\": \"dict\", \"properties\": {\"n\": {\"type\": \"integer\", \"description\": \"The number of Fibonacci numbers to calculate.\"}}, \"required\": [\"n\"]}\\nsort_array: Sorts an array of numbers. | Parameters: {\"type\": \"dict\", \"properties\": {\"array\": {\"type\": \"array\", \"items\": {\"type\": \"float\"}, \"description\": \"The array of numbers.\"}, \"reverse\": {\"type\": \"boolean\", \"description\": \"Whether to sort the array in reverse order, i.e., descending order.\", \"default\": false}}, \"required\": [\"array\"]}\\nget_time_zone_by_coord: Finds the timezone of a coordinate. | Parameters: {\"type\": \"dict\", \"properties\": {\"long\": {\"type\": \"string\", \"description\": \"The longitude of the coordinate.\"}, \"lat\": {\"type\": \"string\", \"description\": \"The latitude of the coordinate.\"}}, \"required\": [\"long\", \"lat\"]}\\ncalculate_mean: Calculates the mean of a list of numbers. | Parameters: {\"type\": \"dict\", \"properties\": {\"numbers\": {\"type\": \"array\", \"items\": {\"type\": \"integer\"}, \"description\": \"The list of numbers.\"}}, \"required\": [\"numbers\"]}\\ncalculate_permutations: Calculates the number of permutations of k elements from a set of n elements. | Parameters: {\"type\": \"dict\", \"properties\": {\"n\": {\"type\": \"integer\", \"description\": \"The number of elements in the set.\"}, \"k\": {\"type\": \"integer\", \"description\": \"The number of elements to choose.\"}}, \"required\": [\"n\", \"k\"]}\\nget_company_name_by_stock_name: Finds the company name of a stock by its stock name. | Parameters: {\"type\": \"dict\", \"properties\": {\"stock_name\": {\"type\": \"string\", \"description\": \"The stock name of the product, in the format of the stock symbol.\"}}, \"required\": [\"stock_name\"]}\\ncalculate_standard_deviation: Calculates the standard deviation of a list of numbers. | Parameters: {\"type\": \"dict\", \"properties\": {\"numbers\": {\"type\": \"array\", \"items\": {\"type\": \"integer\"}, \"description\": \"The list of numbers.\"}}, \"required\": [\"numbers\"]}\\nmath_lcm: Calculates the least common multiple of two numbers. | Parameters: {\"type\": \"dict\", \"properties\": {\"a\": {\"type\": \"integer\", \"description\": \"The first number. This should be the larger number.\"}, \"b\": {\"type\": \"integer\", \"description\": \"The second number.\"}}, \"required\": [\"a\", \"b\"]}\\ncalculate_triangle_area: Calculates the area of a triangle given its base and height. | Parameters: {\"type\": \"dict\", \"properties\": {\"base\": {\"type\": \"integer\", \"description\": \"The base of the triangle, in meters.\"}, \"height\": {\"type\": \"integer\", \"description\": \"The height of the triangle, in meters.\"}}, \"required\": [\"base\", \"height\"]}\\nconvert_currency: Converts a given amount from one currency to another using the ExchangeRate-API. | Parameters: {\"type\": \"dict\", \"properties\": {\"amount\": {\"type\": \"float\", \"description\": \"The amount of money to convert, in the base currency.\"}, \"from_currency\": {\"type\": \"string\", \"description\": \"The ISO currency code for the base currency.\"}, \"to_currency\": {\"type\": \"string\", \"description\": \"The ISO currency code for the target currency.\"}}, \"required\": [\"amount\", \"from_currency\", \"to_currency\"]}\\nget_stock_history: Finds the price of a stock by its stock name. | Parameters: {\"type\": \"dict\", \"properties\": {\"stock_name\": {\"type\": \"string\", \"description\": \"The stock name of the product, in the format of the stock symbol.\"}, \"interval\": {\"type\": \"string\", \"description\": \"The interval of the stock history. Allows one of following : 5m|15m|30m|1h|1d|1wk|1mo|3mo\"}, \"diffandsplits\": {\"type\": \"string\", \"description\": \"The diff and splits of the stock history. Allows one of following : true|false. Default to false\"}}, \"required\": [\"stock_name\", \"interval\"]}\\nmath_gcd: Calculates the greatest common divisor of two numbers. | Parameters: {\"type\": \"dict\", \"properties\": {\"a\": {\"type\": \"integer\", \"description\": \"The first number. This should be the larger number.\"}, \"b\": {\"type\": \"integer\", \"description\": \"The second number.\"}}, \"required\": [\"a\", \"b\"]}\\nestimate_derivative: Estimate the derivative of a function at a given point. | Parameters: {\"type\": \"dict\", \"properties\": {\"function\": {\"type\": \"string\", \"description\": \"The function to calculate the derivative of. This should be the string literal of lambda function\"}, \"x\": {\"type\": \"integer\", \"description\": \"The point to calculate the derivative at.\"}}, \"required\": [\"function\", \"x\"]}\\nfind_term_on_urban_dictionary: Finds the definition of a term on Urban Dictionary. | Parameters: {\"type\": \"dict\", \"properties\": {\"term\": {\"type\": \"string\", \"description\": \"The term to find the definition of.\"}}, \"required\": [\"term\"]}\\nget_distance: Calculates the distance between two 2D points. | Parameters: {\"type\": \"dict\", \"properties\": {\"pointA\": {\"type\": \"tuple\", \"description\": \"The first point.\", \"items\": {\"type\": \"float\"}}, \"pointB\": {\"type\": \"tuple\", \"description\": \"The second point.\", \"items\": {\"type\": \"float\"}}}, \"required\": [\"pointA\", \"pointB\"]}\\ngeometry_area_circle: Calculates the area of a circle. | Parameters: {\"type\": \"dict\", \"properties\": {\"radius\": {\"type\": \"integer\", \"description\": \"The radius of the circle, in feet.\"}}, \"required\": [\"radius\"]}\\nget_covid_death_by_country: Finds the most up to date total deaths of a country result from COVID. | Parameters: {\"type\": \"dict\", \"properties\": {\"country\": {\"type\": \"string\", \"description\": \"The country to find the total deaths of, in the format of the country's full name.\"}}, \"required\": [\"country\"]}\\nget_active_covid_case_by_country: Finds the most up to date active cases of a country result from COVID. | Parameters: {\"type\": \"dict\", \"properties\": {\"country\": {\"type\": \"string\", \"description\": \"The country to find the active cases of, in the format of the country's full name.\"}}, \"required\": [\"country\"]}\\nmat_mul: Multiplies two matrices. | Parameters: {\"type\": \"dict\", \"properties\": {\"matA\": {\"type\": \"array\", \"description\": \"The first matrix.\", \"items\": {\"type\": \"array\", \"items\": {\"type\": \"integer\"}}}, \"matB\": {\"type\": \"array\", \"description\": \"The second matrix.\", \"items\": {\"type\": \"array\", \"items\": {\"type\": \"integer\"}}}}, \"required\": [\"matA\", \"matB\"]}\\nget_coordinate_by_ip_address: Finds the latitude and longitude of an IP address. | Parameters: {\"type\": \"dict\", \"properties\": {\"ip_address\": {\"type\": \"string\", \"description\": \"The IP address to find the location of.\"}}, \"required\": [\"ip_address\"]}\\nget_coordinates_from_city: Fetches the latitude and longitude of a given city name using the Maps.co Geocoding API. | Parameters: {\"type\": \"dict\", \"properties\": {\"city_name\": {\"type\": \"string\", \"description\": \"The name of the city, such as 'Rome'.\"}}, \"required\": [\"city_name\"]}\\nget_product_name_by_amazon_ASIN: Finds the price of a product by its Amazon ASIN. | Parameters: {\"type\": \"dict\", \"properties\": {\"ASIN\": {\"type\": \"string\", \"description\": \"The Amazon ASIN of the product.\"}}, \"required\": [\"ASIN\"]}\\nget_price_by_amazon_ASIN: Finds the price of a product by its Amazon ASIN. | Parameters: {\"type\": \"dict\", \"properties\": {\"ASIN\": {\"type\": \"string\", \"description\": \"The Amazon ASIN of the product.\"}}, \"required\": [\"ASIN\"]}\\nget_prime_factors: Calculates the prime factors of a number. | Parameters: {\"type\": \"dict\", \"properties\": {\"number\": {\"type\": \"integer\", \"description\": \"The number to calculate the prime factors of.\"}}, \"required\": [\"number\"]}\\nretrieve_city_based_on_zipcode: Finds the city of a zipcode. | Parameters: {\"type\": \"dict\", \"properties\": {\"zipcode\": {\"type\": \"string\", \"description\": \"The zipcode of the city.\"}}, \"required\": [\"zipcode\"]}\\nmath_factorial: Calculates the factorial of a number. | Parameters: {\"type\": \"dict\", \"properties\": {\"n\": {\"type\": \"integer\", \"description\": \"The number to calculate the factorial of.\"}}, \"required\": [\"n\"]}\\nquadratic_roots: Calculates the roots of a quadratic equation. | Parameters: {\"type\": \"dict\", \"properties\": {\"a\": {\"type\": \"integer\", \"description\": \"The first coefficient.\"}, \"b\": {\"type\": \"integer\", \"description\": \"The second coefficient.\"}, \"c\": {\"type\": \"integer\", \"description\": \"The third coefficient.\"}}, \"required\": [\"a\", \"b\", \"c\"]}\\nadd_binary_numbers: Adds two binary numbers. | Parameters: {\"type\": \"dict\", \"properties\": {\"a\": {\"type\": \"string\", \"description\": \"The first binary number.\"}, \"b\": {\"type\": \"string\", \"description\": \"The second binary number.\"}}, \"required\": [\"a\", \"b\"]}\\nconvert_binary_to_decimal: Converts a binary number to a decimal number. | Parameters: {\"type\": \"dict\", \"properties\": {\"binary\": {\"type\": \"string\", \"description\": \"The binary number to convert.\"}}, \"required\": [\"binary\"]}\\nconvert_decimal_to_hex: Converts a decimal number to a hexadecimal number. | Parameters: {\"type\": \"dict\", \"properties\": {\"decimal\": {\"type\": \"integer\", \"description\": \"The decimal number to convert.\"}}, \"required\": [\"decimal\"]}\\nlinear_regression: Finds the linear regression of a set of points and evaluates it at a given point. | Parameters: {\"type\": \"dict\", \"properties\": {\"x\": {\"type\": \"array\", \"description\": \"The x coordinates of the points.\", \"items\": {\"type\": \"integer\"}}, \"y\": {\"type\": \"array\", \"description\": \"The y coordinates of the points.\", \"items\": {\"type\": \"integer\"}}, \"point\": {\"type\": \"integer\", \"description\": \"The point to calculate the linear regression at.\"}}, \"required\": [\"x\", \"y\", \"point\"]}\\ncalculate_slope: Calculates the slope of the linear regression line from a set of points. | Parameters: {\"type\": \"dict\", \"properties\": {\"x\": {\"type\": \"array\", \"description\": \"The x coordinates of the points.\", \"items\": {\"type\": \"integer\"}}, \"y\": {\"type\": \"array\", \"description\": \"The y coordinates of the points.\", \"items\": {\"type\": \"integer\"}}}, \"required\": [\"x\", \"y\"]}\\ncalculate_intercept: Calculates the y-intercept of the linear regression line from a set of points and a given slope. | Parameters: {\"type\": \"dict\", \"properties\": {\"x\": {\"type\": \"array\", \"description\": \"The x coordinates of the points.\", \"items\": {\"type\": \"integer\"}}, \"y\": {\"type\": \"array\", \"description\": \"The y coordinates of the points.\", \"items\": {\"type\": \"integer\"}}, \"slope\": {\"type\": \"integer\", \"description\": \"The slope of the linear regression line.\"}}, \"required\": [\"x\", \"y\", \"slope\"]}\\npredict_value: Predicts the value of y given the slope, intercept, and an x value. | Parameters: {\"type\": \"dict\", \"properties\": {\"slope\": {\"type\": \"integer\", \"description\": \"The slope of the linear regression line.\"}, \"intercept\": {\"type\": \"integer\", \"description\": \"The y-intercept of the linear regression line.\"}, \"x\": {\"type\": \"integer\", \"description\": \"The x value to predict the y for.\"}}, \"required\": [\"slope\", \"intercept\", \"x\"]}\\ncalculate_investment_value: Calculates the value of an investment over time. | Parameters: {\"type\": \"dict\", \"properties\": {\"initial_investment\": {\"type\": \"integer\", \"description\": \"The initial investment amount.\"}, \"annual_contribution\": {\"type\": \"integer\", \"description\": \"The annual contribution amount.\"}, \"years\": {\"type\": \"integer\", \"description\": \"The number of years to calculate the investment value for.\"}, \"annual_return\": {\"type\": \"float\", \"description\": \"The annual return rate, ranging from 0 to 1.\"}, \"inflation_rate\": {\"type\": \"array\", \"items\": {\"type\": \"float\"}, \"description\": \"The inflation rate for each year in percentage, ranging from 0 to 1.\"}, \"adjust_for_inflation\": {\"type\": \"boolean\", \"default\": true, \"description\": \"Whether to adjust the investment value for inflation.\"}}, \"required\": [\"initial_investment\", \"annual_contribution\", \"years\", \"annual_return\", \"inflation_rate\"]}\\ncompound_interest: Calculates compound interest over time. | Parameters: {\"type\": \"dict\", \"properties\": {\"principal\": {\"type\": \"integer\", \"description\": \"The principal amount.\"}, \"rate\": {\"type\": \"float\", \"description\": \"The annual interest rate.\"}, \"times_compounded\": {\"type\": \"integer\", \"description\": \"The number of times the interest is compounded per year.\"}, \"years\": {\"type\": \"integer\", \"description\": \"The number of years to calculate the compound interest for.\"}}, \"required\": [\"principal\", \"rate\", \"times_compounded\", \"years\"]}\\ninflation_adjustment: Adjusts an amount for inflation. | Parameters: {\"type\": \"dict\", \"properties\": {\"amount\": {\"type\": \"float\", \"description\": \"The amount to adjust for inflation.\"}, \"inflation_rate\": {\"type\": \"float\", \"description\": \"The annual inflation float.\"}, \"years\": {\"type\": \"integer\", \"description\": \"The number of years to adjust for inflation.\"}}, \"required\": [\"amount\", \"inflation_rate\", \"years\"]}\\nadjust_for_inflation: Adjusts the investment value for inflation for each year. | Parameters: {\"type\": \"dict\", \"properties\": {\"investment_value\": {\"type\": \"float\", \"description\": \"The value of the investment to adjust.\"}, \"inflation_rates\": {\"type\": \"array\", \"items\": {\"type\": \"float\"}, \"description\": \"The inflation rates for each year.\"}}, \"required\": [\"investment_value\", \"inflation_rates\"]}\\ncalculate_basal_metabolic_rate: Calculates the Basal Metabolic Rate (BMR) of a person. | Parameters: {\"type\": \"dict\", \"properties\": {\"weight\": {\"type\": \"float\", \"description\": \"The weight of the person in kilograms.\"}, \"height\": {\"type\": \"float\", \"description\": \"The height of the person in centimeters.\"}, \"age\": {\"type\": \"float\", \"description\": \"The age of the person in years.\"}, \"gender\": {\"type\": \"string\", \"description\": \"The gender of the person. Possible options [male, female, other].\"}}, \"required\": [\"weight\", \"height\", \"age\", \"gender\"]}\\ncalculate_daily_energy_expenditure: Calculates the daily energy expenditure based on BMR and activity level. | Parameters: {\"type\": \"dict\", \"properties\": {\"basal_metabolic_rate\": {\"type\": \"float\", \"description\": \"The BMR of the person.\"}, \"activity_level\": {\"type\": \"float\", \"description\": \"The activity level of the person. Possible options [1,2,3,4,5].\"}}, \"required\": [\"basal_metabolic_rate\", \"activity_level\"]}\\ncalculate_nutritional_needs: Calculates the nutritional needs of a person based on their weight, height, age, gender, activity level, and goal. | Parameters: {\"type\": \"dict\", \"properties\": {\"weight\": {\"type\": \"float\", \"description\": \"The weight of the person in kilograms.\"}, \"height\": {\"type\": \"float\", \"description\": \"The height of the person in centimeters.\"}, \"age\": {\"type\": \"float\", \"description\": \"The age of the person in years.\"}, \"gender\": {\"type\": \"string\", \"description\": \"The gender of the person. Possible options [male, female, other].\"}, \"activity_level\": {\"type\": \"float\", \"description\": \"The activity level of the person. Possible options [1,2,3,4,5].\"}, \"goal\": {\"type\": \"string\", \"description\": \"The goal of the person. Possible options [lose, gain, maintain].\"}}, \"required\": [\"weight\", \"height\", \"age\", \"gender\", \"activity_level\", \"goal\"]}\\nbook_room: Books a room for a customer. | Parameters: {\"type\": \"dict\", \"properties\": {\"room_type\": {\"type\": \"dict\", \"description\": \"The room type to book.\"}, \"check_in_date\": {\"type\": \"string\", \"description\": \"The check-in date in format of MM-DD-YYYY.\"}, \"check_out_date\": {\"type\": \"string\", \"description\": \"The check-out date in format of MM-DD-YYYY.\"}, \"customer_id\": {\"type\": \"string\", \"description\": \"The customer ID.\"}, \"discount_code\": {\"type\": \"string\", \"description\": \"The discount code (if any).\", \"default\": null}}, \"required\": [\"room_type\", \"check_in_date\", \"check_out_date\", \"customer_id\"]}\\ncalculate_total_price: Calculates the total price of the room booking. | Parameters: {\"type\": \"dict\", \"properties\": {\"room_price\": {\"type\": \"float\", \"description\": \"The price per night of the room.\"}, \"nights\": {\"type\": \"integer\", \"description\": \"The number of nights for the booking.\"}, \"discount\": {\"type\": \"float\", \"description\": \"The discount amount (if any).\", \"default\": 0}}, \"required\": [\"room_price\", \"nights\"]}\\nconfirm_booking: Confirms the room booking and sends a confirmation to the customer. | Parameters: {\"type\": \"dict\", \"properties\": {\"customer_id\": {\"type\": \"string\", \"description\": \"The customer ID.\"}, \"room_number\": {\"type\": \"string\", \"description\": \"The room number assigned to the booking.\"}, \"total_price\": {\"type\": \"float\", \"description\": \"The total price for the booking.\"}}, \"required\": [\"customer_id\", \"room_number\", \"total_price\"]}\\norder_food: Orders food for a customer. Return the total price. | Parameters: {\"type\": \"dict\", \"properties\": {\"item\": {\"type\": \"array\", \"items\": {\"type\": \"string\"}, \"description\": \"the name of the product.\"}, \"quantity\": {\"type\": \"array\", \"items\": {\"type\": \"integer\"}, \"description\": \"the number of the product purchased.\"}, \"price\": {\"type\": \"array\", \"items\": {\"type\": \"float\"}, \"description\": \"the price of the product.\"}}, \"required\": [\"item\", \"quantity\", \"price\"]}\\ncalculate_total: Calculates the total price of an order given the quantities and prices. | Parameters: {\"type\": \"dict\", \"properties\": {\"quantities\": {\"type\": \"array\", \"items\": {\"type\": \"integer\"}, \"description\": \"The quantities of each product.\"}, \"prices\": {\"type\": \"array\", \"items\": {\"type\": \"float\"}, \"description\": \"The price of each product.\"}}, \"required\": [\"quantities\", \"prices\"]}\\napply_discount: Applies a discount to the total price. | Parameters: {\"type\": \"dict\", \"properties\": {\"total\": {\"type\": \"float\", \"description\": \"The original total price.\"}, \"discount\": {\"type\": \"float\", \"description\": \"The discount percentage to apply.\"}}, \"required\": [\"total\", \"discount\"]}\\nget_movie_director: Fetches the director of a movie from the OMDB API. | Parameters: {\"type\": \"dict\", \"properties\": {\"movie_name\": {\"type\": \"string\", \"description\": \"The name of the movie.\"}}, \"required\": [\"movie_name\"]}\\ncalculate_interest_rate: Calculates the interest rate for a given principal, rate, and time. | Parameters: {\"type\": \"dict\", \"properties\": {\"principal\": {\"type\": \"float\", \"description\": \"The initial amount of money.\"}, \"rate\": {\"type\": \"float\", \"description\": \"The interest rate per period.\"}, \"time\": {\"type\": \"float\", \"description\": \"The time the money is invested or borrowed for.\"}}, \"required\": [\"principal\", \"rate\", \"time\"]}\\nconvert_temperature: Converts temperature from Celsius to Fahrenheit or vice versa. | Parameters: {\"type\": \"dict\", \"properties\": {\"temperature\": {\"type\": \"float\", \"description\": \"The temperature to convert.\"}, \"unit_from\": {\"type\": \"string\", \"description\": \"The current unit of the temperature (Celsius or Fahrenheit).\"}, \"unit_to\": {\"type\": \"string\", \"description\": \"The unit to convert the temperature to (Celsius or Fahrenheit).\"}}, \"required\": [\"temperature\", \"unit_from\", \"unit_to\"]}\\ngenerate_random_number: Generates a random number within a specified range. | Parameters: {\"type\": \"dict\", \"properties\": {\"min\": {\"type\": \"integer\", \"description\": \"The minimum value of the range.\"}, \"max\": {\"type\": \"integer\", \"description\": \"The maximum value of the range.\"}}, \"required\": [\"min\", \"max\"]}\\nget_movie_rating: Fetches the age rating of a movie from the OMDB API. | Parameters: {\"type\": \"dict\", \"properties\": {\"movie_name\": {\"type\": \"string\", \"description\": \"The name of the movie.\"}}, \"required\": [\"movie_name\"]}\\nget_movie_genre: Retrieves the genre of a movie from the OMDB API. | Parameters: {\"type\": \"dict\", \"properties\": {\"movie_name\": {\"type\": \"string\", \"description\": \"The name of the movie to retrieve the genre for.\"}}, \"required\": [\"movie_name\"]}\\nget_director_by_movie_name: Gets the director of a movie. | Parameters: {\"type\": \"dict\", \"properties\": {\"movie_name\": {\"type\": \"string\", \"description\": \"The movie to find the director of.\"}}, \"required\": [\"movie_name\"]}\\nconvert_coordinates: Converts a list of tuples into a list of lists. | Parameters: {\"type\": \"dict\", \"properties\": {\"coordinates\": {\"type\": \"array\", \"items\": {\"type\": \"tuple\", \"items\": {\"type\": \"float\"}, \"description\": \"A single coordinate represented by a tuple (x, y).\"}, \"description\": \"The coordinates to be converted, where each coordinate is a tuple (x, y).\"}}, \"required\": [\"coordinates\"]}\\npolygon_area: Calculate the area of a polygon given its vertices using the shoelace formula. | Parameters: {\"type\": \"dict\", \"properties\": {\"vertices\": {\"type\": \"array\", \"items\": {\"type\": \"array\", \"items\": {\"type\": \"float\"}, \"minItems\": 2, \"maxItems\": 2, \"description\": \"A single vertex represented by a 2 element list [x, y].\"}, \"description\": \"The vertices of the polygon, where each vertex is a 2 element list [x, y].\"}}, \"required\": [\"vertices\"]}\\nvalidate_polygon: Checks if the given vertices form a valid polygon. | Parameters: {\"type\": \"dict\", \"properties\": {\"vertices\": {\"type\": \"array\", \"items\": {\"type\": \"array\", \"items\": {\"type\": \"float\"}, \"description\": \"A single vertex represented by a 2 element list [x, y].\"}, \"description\": \"The vertices of the polygon, where each vertex is a 2 element list [x, y].\"}}, \"required\": [\"vertices\"]}  "
            ],
            "text/html": [
              "\n",
              "  <div id=\"df-1378fe1a-a36b-482a-94e7-fb72e0f84b7a\" class=\"colab-df-container\">\n",
              "    <div>\n",
              "<style scoped>\n",
              "    .dataframe tbody tr th:only-of-type {\n",
              "        vertical-align: middle;\n",
              "    }\n",
              "\n",
              "    .dataframe tbody tr th {\n",
              "        vertical-align: top;\n",
              "    }\n",
              "\n",
              "    .dataframe thead th {\n",
              "        text-align: right;\n",
              "    }\n",
              "</style>\n",
              "<table border=\"1\" class=\"dataframe\">\n",
              "  <thead>\n",
              "    <tr style=\"text-align: right;\">\n",
              "      <th></th>\n",
              "      <th>question</th>\n",
              "      <th>tool_call</th>\n",
              "      <th>tool_definitions</th>\n",
              "    </tr>\n",
              "  </thead>\n",
              "  <tbody>\n",
              "    <tr>\n",
              "      <th>0</th>\n",
              "      <td>I'm playing a dice game and want to calculate my chances. I roll the die 20 times, and I'm trying to figure out the probability of landing on a 6 exactly five times, considering each roll has a one in six chance of being a 6. Could you help me with that?</td>\n",
              "      <td>calc_binomial_probability(n=20, k=5, p=1/6)</td>\n",
              "      <td>get_weather_data: Fetches weather data from the Open-Meteo API for the given latitude and longitude. | Parameters: {\"type\": \"dict\", \"properties\": {\"coordinates\": {\"type\": \"array\", \"items\": {\"type\": \"float\"}, \"description\": \"The latitude and longitude of the location.\"}}, \"required\": [\"coordinates\"]}\\ncalc_binomial_probability: Calculates the probability of getting k successes in n trials. | Parameters: {\"type\": \"dict\", \"properties\": {\"n\": {\"type\": \"integer\", \"description\": \"The number of trials.\"}, \"k\": {\"type\": \"integer\", \"description\": \"The number of successes.\"}, \"p\": {\"type\": \"float\", \"description\": \"The probability of success.\"}}, \"required\": [\"n\", \"k\", \"p\"]}\\ncalculate_cosine_similarity: Calculates the cosine similarity of two vectors. | Parameters: {\"type\": \"dict\", \"properties\": {\"vectorA\": {\"type\": \"array\", \"items\": {\"type\": \"float\"}, \"description\": \"The first vector.\"}, \"vectorB\": {\"type\": \"array\", \"items\": {\"type\": \"float\"}, \"description\": \"The second vector.\"}}, \"required\": [\"vectorA\", \"vectorB\"]}\\nget_stock_price_by_stock_name: Finds the price of a stock by its stock name. | Parameters: {\"type\": \"dict\", \"properties\": {\"stock_name\": {\"type\": \"string\", \"description\": \"The stock name of the product, in the format of the stock symbol.\"}}, \"required\": [\"stock_name\"]}\\ncalculate_density: Calculates the density of an object. | Parameters: {\"type\": \"dict\", \"properties\": {\"mass\": {\"type\": \"float\", \"description\": \"The mass of the object, in kilograms.\"}, \"volume\": {\"type\": \"float\", \"description\": \"The volume of the object, in cubic meters.\"}}, \"required\": [\"mass\", \"volume\"]}\\ncalculate_future_value: Calculates the future value of an investment. | Parameters: {\"type\": \"dict\", \"properties\": {\"present_value\": {\"type\": \"float\", \"description\": \"The present value of the investment, in dollars.\"}, \"interest_rate\": {\"type\": \"float\", \"description\": \"The interest rate of the investment, ranging from 0 to 1.\"}, \"periods\": {\"type\": \"integer\", \"description\": \"The number of periods, in years.\"}}, \"required\": [\"present_value\", \"interest_rate\", \"periods\"]}\\nget_rating_by_amazon_ASIN: Finds the rating of a product by its Amazon ASIN. | Parameters: {\"type\": \"dict\", \"properties\": {\"ASIN\": {\"type\": \"string\", \"description\": \"The Amazon ASIN of the product.\"}}, \"required\": [\"ASIN\"]}\\nretrieve_holiday_by_year: Finds the holidays of a year. | Parameters: {\"type\": \"dict\", \"properties\": {\"year\": {\"type\": \"string\", \"description\": \"The year of the holidays.\"}, \"country\": {\"type\": \"string\", \"description\": \"The country of the holidays. Possible options: US, AT, DE, ES, FR, GB, IT, NL, PL, RO, SK, UA.\"}}, \"required\": [\"year\", \"country\"]}\\ncalculate_displacement: Calculates the displacement of an object. | Parameters: {\"type\": \"dict\", \"properties\": {\"initial_velocity\": {\"type\": \"float\", \"description\": \"The initial velocity of the object, in meters per second.\"}, \"acceleration\": {\"type\": \"float\", \"description\": \"The acceleration of the object, in meters per second squared.\"}, \"time\": {\"type\": \"float\", \"description\": \"The time the object has been moving, in seconds.\"}}, \"required\": [\"initial_velocity\", \"acceleration\", \"time\"]}\\nget_zipcode_by_ip_address: Finds the zipcode of an IP address. | Parameters: {\"type\": \"dict\", \"properties\": {\"ip_address\": {\"type\": \"string\", \"description\": \"The IP address to find the location of.\"}}, \"required\": [\"ip_address\"]}\\ncalculate_electrostatic_potential_energy: Calculates the electrostatic potential energy. | Parameters: {\"type\": \"dict\", \"properties\": {\"charge\": {\"type\": \"float\", \"description\": \"The charge of the object, in coulombs.\"}, \"voltage\": {\"type\": \"float\", \"description\": \"The voltage of the object, in volts.\"}}, \"required\": [\"charge\", \"voltage\"]}\\nmortgage_calculator: Calculates the monthly mortgage payment. | Parameters: {\"type\": \"dict\", \"properties\": {\"loan_amount\": {\"type\": \"float\", \"description\": \"The amount of the loan.\"}, \"interest_rate\": {\"type\": \"float\", \"description\": \"The interest rate of the loan, ranging from 0 to 1.\"}, \"loan_period\": {\"type\": \"integer\", \"description\": \"The period of the loan, in years.\"}}, \"required\": [\"loan_amount\", \"interest_rate\", \"loan_period\"]}\\ncalculate_final_velocity: Calculates the final velocity of an object. | Parameters: {\"type\": \"dict\", \"properties\": {\"initial_velocity\": {\"type\": \"float\", \"description\": \"The initial velocity of the object.\"}, \"acceleration\": {\"type\": \"float\", \"description\": \"The acceleration of the object.\"}, \"time\": {\"type\": \"float\", \"description\": \"The time the object has been moving.\"}}, \"required\": [\"initial_velocity\", \"acceleration\", \"time\"]}\\nget_fibonacci_sequence: Calculates the n numbers of the Fibonacci. | Parameters: {\"type\": \"dict\", \"properties\": {\"n\": {\"type\": \"integer\", \"description\": \"The number of Fibonacci numbers to calculate.\"}}, \"required\": [\"n\"]}\\nsort_array: Sorts an array of numbers. | Parameters: {\"type\": \"dict\", \"properties\": {\"array\": {\"type\": \"array\", \"items\": {\"type\": \"float\"}, \"description\": \"The array of numbers.\"}, \"reverse\": {\"type\": \"boolean\", \"description\": \"Whether to sort the array in reverse order, i.e., descending order.\", \"default\": false}}, \"required\": [\"array\"]}\\nget_time_zone_by_coord: Finds the timezone of a coordinate. | Parameters: {\"type\": \"dict\", \"properties\": {\"long\": {\"type\": \"string\", \"description\": \"The longitude of the coordinate.\"}, \"lat\": {\"type\": \"string\", \"description\": \"The latitude of the coordinate.\"}}, \"required\": [\"long\", \"lat\"]}\\ncalculate_mean: Calculates the mean of a list of numbers. | Parameters: {\"type\": \"dict\", \"properties\": {\"numbers\": {\"type\": \"array\", \"items\": {\"type\": \"integer\"}, \"description\": \"The list of numbers.\"}}, \"required\": [\"numbers\"]}\\ncalculate_permutations: Calculates the number of permutations of k elements from a set of n elements. | Parameters: {\"type\": \"dict\", \"properties\": {\"n\": {\"type\": \"integer\", \"description\": \"The number of elements in the set.\"}, \"k\": {\"type\": \"integer\", \"description\": \"The number of elements to choose.\"}}, \"required\": [\"n\", \"k\"]}\\nget_company_name_by_stock_name: Finds the company name of a stock by its stock name. | Parameters: {\"type\": \"dict\", \"properties\": {\"stock_name\": {\"type\": \"string\", \"description\": \"The stock name of the product, in the format of the stock symbol.\"}}, \"required\": [\"stock_name\"]}\\ncalculate_standard_deviation: Calculates the standard deviation of a list of numbers. | Parameters: {\"type\": \"dict\", \"properties\": {\"numbers\": {\"type\": \"array\", \"items\": {\"type\": \"integer\"}, \"description\": \"The list of numbers.\"}}, \"required\": [\"numbers\"]}\\nmath_lcm: Calculates the least common multiple of two numbers. | Parameters: {\"type\": \"dict\", \"properties\": {\"a\": {\"type\": \"integer\", \"description\": \"The first number. This should be the larger number.\"}, \"b\": {\"type\": \"integer\", \"description\": \"The second number.\"}}, \"required\": [\"a\", \"b\"]}\\ncalculate_triangle_area: Calculates the area of a triangle given its base and height. | Parameters: {\"type\": \"dict\", \"properties\": {\"base\": {\"type\": \"integer\", \"description\": \"The base of the triangle, in meters.\"}, \"height\": {\"type\": \"integer\", \"description\": \"The height of the triangle, in meters.\"}}, \"required\": [\"base\", \"height\"]}\\nconvert_currency: Converts a given amount from one currency to another using the ExchangeRate-API. | Parameters: {\"type\": \"dict\", \"properties\": {\"amount\": {\"type\": \"float\", \"description\": \"The amount of money to convert, in the base currency.\"}, \"from_currency\": {\"type\": \"string\", \"description\": \"The ISO currency code for the base currency.\"}, \"to_currency\": {\"type\": \"string\", \"description\": \"The ISO currency code for the target currency.\"}}, \"required\": [\"amount\", \"from_currency\", \"to_currency\"]}\\nget_stock_history: Finds the price of a stock by its stock name. | Parameters: {\"type\": \"dict\", \"properties\": {\"stock_name\": {\"type\": \"string\", \"description\": \"The stock name of the product, in the format of the stock symbol.\"}, \"interval\": {\"type\": \"string\", \"description\": \"The interval of the stock history. Allows one of following : 5m|15m|30m|1h|1d|1wk|1mo|3mo\"}, \"diffandsplits\": {\"type\": \"string\", \"description\": \"The diff and splits of the stock history. Allows one of following : true|false. Default to false\"}}, \"required\": [\"stock_name\", \"interval\"]}\\nmath_gcd: Calculates the greatest common divisor of two numbers. | Parameters: {\"type\": \"dict\", \"properties\": {\"a\": {\"type\": \"integer\", \"description\": \"The first number. This should be the larger number.\"}, \"b\": {\"type\": \"integer\", \"description\": \"The second number.\"}}, \"required\": [\"a\", \"b\"]}\\nestimate_derivative: Estimate the derivative of a function at a given point. | Parameters: {\"type\": \"dict\", \"properties\": {\"function\": {\"type\": \"string\", \"description\": \"The function to calculate the derivative of. This should be the string literal of lambda function\"}, \"x\": {\"type\": \"integer\", \"description\": \"The point to calculate the derivative at.\"}}, \"required\": [\"function\", \"x\"]}\\nfind_term_on_urban_dictionary: Finds the definition of a term on Urban Dictionary. | Parameters: {\"type\": \"dict\", \"properties\": {\"term\": {\"type\": \"string\", \"description\": \"The term to find the definition of.\"}}, \"required\": [\"term\"]}\\nget_distance: Calculates the distance between two 2D points. | Parameters: {\"type\": \"dict\", \"properties\": {\"pointA\": {\"type\": \"tuple\", \"description\": \"The first point.\", \"items\": {\"type\": \"float\"}}, \"pointB\": {\"type\": \"tuple\", \"description\": \"The second point.\", \"items\": {\"type\": \"float\"}}}, \"required\": [\"pointA\", \"pointB\"]}\\ngeometry_area_circle: Calculates the area of a circle. | Parameters: {\"type\": \"dict\", \"properties\": {\"radius\": {\"type\": \"integer\", \"description\": \"The radius of the circle, in feet.\"}}, \"required\": [\"radius\"]}\\nget_covid_death_by_country: Finds the most up to date total deaths of a country result from COVID. | Parameters: {\"type\": \"dict\", \"properties\": {\"country\": {\"type\": \"string\", \"description\": \"The country to find the total deaths of, in the format of the country's full name.\"}}, \"required\": [\"country\"]}\\nget_active_covid_case_by_country: Finds the most up to date active cases of a country result from COVID. | Parameters: {\"type\": \"dict\", \"properties\": {\"country\": {\"type\": \"string\", \"description\": \"The country to find the active cases of, in the format of the country's full name.\"}}, \"required\": [\"country\"]}\\nmat_mul: Multiplies two matrices. | Parameters: {\"type\": \"dict\", \"properties\": {\"matA\": {\"type\": \"array\", \"description\": \"The first matrix.\", \"items\": {\"type\": \"array\", \"items\": {\"type\": \"integer\"}}}, \"matB\": {\"type\": \"array\", \"description\": \"The second matrix.\", \"items\": {\"type\": \"array\", \"items\": {\"type\": \"integer\"}}}}, \"required\": [\"matA\", \"matB\"]}\\nget_coordinate_by_ip_address: Finds the latitude and longitude of an IP address. | Parameters: {\"type\": \"dict\", \"properties\": {\"ip_address\": {\"type\": \"string\", \"description\": \"The IP address to find the location of.\"}}, \"required\": [\"ip_address\"]}\\nget_coordinates_from_city: Fetches the latitude and longitude of a given city name using the Maps.co Geocoding API. | Parameters: {\"type\": \"dict\", \"properties\": {\"city_name\": {\"type\": \"string\", \"description\": \"The name of the city, such as 'Rome'.\"}}, \"required\": [\"city_name\"]}\\nget_product_name_by_amazon_ASIN: Finds the price of a product by its Amazon ASIN. | Parameters: {\"type\": \"dict\", \"properties\": {\"ASIN\": {\"type\": \"string\", \"description\": \"The Amazon ASIN of the product.\"}}, \"required\": [\"ASIN\"]}\\nget_price_by_amazon_ASIN: Finds the price of a product by its Amazon ASIN. | Parameters: {\"type\": \"dict\", \"properties\": {\"ASIN\": {\"type\": \"string\", \"description\": \"The Amazon ASIN of the product.\"}}, \"required\": [\"ASIN\"]}\\nget_prime_factors: Calculates the prime factors of a number. | Parameters: {\"type\": \"dict\", \"properties\": {\"number\": {\"type\": \"integer\", \"description\": \"The number to calculate the prime factors of.\"}}, \"required\": [\"number\"]}\\nretrieve_city_based_on_zipcode: Finds the city of a zipcode. | Parameters: {\"type\": \"dict\", \"properties\": {\"zipcode\": {\"type\": \"string\", \"description\": \"The zipcode of the city.\"}}, \"required\": [\"zipcode\"]}\\nmath_factorial: Calculates the factorial of a number. | Parameters: {\"type\": \"dict\", \"properties\": {\"n\": {\"type\": \"integer\", \"description\": \"The number to calculate the factorial of.\"}}, \"required\": [\"n\"]}\\nquadratic_roots: Calculates the roots of a quadratic equation. | Parameters: {\"type\": \"dict\", \"properties\": {\"a\": {\"type\": \"integer\", \"description\": \"The first coefficient.\"}, \"b\": {\"type\": \"integer\", \"description\": \"The second coefficient.\"}, \"c\": {\"type\": \"integer\", \"description\": \"The third coefficient.\"}}, \"required\": [\"a\", \"b\", \"c\"]}\\nadd_binary_numbers: Adds two binary numbers. | Parameters: {\"type\": \"dict\", \"properties\": {\"a\": {\"type\": \"string\", \"description\": \"The first binary number.\"}, \"b\": {\"type\": \"string\", \"description\": \"The second binary number.\"}}, \"required\": [\"a\", \"b\"]}\\nconvert_binary_to_decimal: Converts a binary number to a decimal number. | Parameters: {\"type\": \"dict\", \"properties\": {\"binary\": {\"type\": \"string\", \"description\": \"The binary number to convert.\"}}, \"required\": [\"binary\"]}\\nconvert_decimal_to_hex: Converts a decimal number to a hexadecimal number. | Parameters: {\"type\": \"dict\", \"properties\": {\"decimal\": {\"type\": \"integer\", \"description\": \"The decimal number to convert.\"}}, \"required\": [\"decimal\"]}\\nlinear_regression: Finds the linear regression of a set of points and evaluates it at a given point. | Parameters: {\"type\": \"dict\", \"properties\": {\"x\": {\"type\": \"array\", \"description\": \"The x coordinates of the points.\", \"items\": {\"type\": \"integer\"}}, \"y\": {\"type\": \"array\", \"description\": \"The y coordinates of the points.\", \"items\": {\"type\": \"integer\"}}, \"point\": {\"type\": \"integer\", \"description\": \"The point to calculate the linear regression at.\"}}, \"required\": [\"x\", \"y\", \"point\"]}\\ncalculate_slope: Calculates the slope of the linear regression line from a set of points. | Parameters: {\"type\": \"dict\", \"properties\": {\"x\": {\"type\": \"array\", \"description\": \"The x coordinates of the points.\", \"items\": {\"type\": \"integer\"}}, \"y\": {\"type\": \"array\", \"description\": \"The y coordinates of the points.\", \"items\": {\"type\": \"integer\"}}}, \"required\": [\"x\", \"y\"]}\\ncalculate_intercept: Calculates the y-intercept of the linear regression line from a set of points and a given slope. | Parameters: {\"type\": \"dict\", \"properties\": {\"x\": {\"type\": \"array\", \"description\": \"The x coordinates of the points.\", \"items\": {\"type\": \"integer\"}}, \"y\": {\"type\": \"array\", \"description\": \"The y coordinates of the points.\", \"items\": {\"type\": \"integer\"}}, \"slope\": {\"type\": \"integer\", \"description\": \"The slope of the linear regression line.\"}}, \"required\": [\"x\", \"y\", \"slope\"]}\\npredict_value: Predicts the value of y given the slope, intercept, and an x value. | Parameters: {\"type\": \"dict\", \"properties\": {\"slope\": {\"type\": \"integer\", \"description\": \"The slope of the linear regression line.\"}, \"intercept\": {\"type\": \"integer\", \"description\": \"The y-intercept of the linear regression line.\"}, \"x\": {\"type\": \"integer\", \"description\": \"The x value to predict the y for.\"}}, \"required\": [\"slope\", \"intercept\", \"x\"]}\\ncalculate_investment_value: Calculates the value of an investment over time. | Parameters: {\"type\": \"dict\", \"properties\": {\"initial_investment\": {\"type\": \"integer\", \"description\": \"The initial investment amount.\"}, \"annual_contribution\": {\"type\": \"integer\", \"description\": \"The annual contribution amount.\"}, \"years\": {\"type\": \"integer\", \"description\": \"The number of years to calculate the investment value for.\"}, \"annual_return\": {\"type\": \"float\", \"description\": \"The annual return rate, ranging from 0 to 1.\"}, \"inflation_rate\": {\"type\": \"array\", \"items\": {\"type\": \"float\"}, \"description\": \"The inflation rate for each year in percentage, ranging from 0 to 1.\"}, \"adjust_for_inflation\": {\"type\": \"boolean\", \"default\": true, \"description\": \"Whether to adjust the investment value for inflation.\"}}, \"required\": [\"initial_investment\", \"annual_contribution\", \"years\", \"annual_return\", \"inflation_rate\"]}\\ncompound_interest: Calculates compound interest over time. | Parameters: {\"type\": \"dict\", \"properties\": {\"principal\": {\"type\": \"integer\", \"description\": \"The principal amount.\"}, \"rate\": {\"type\": \"float\", \"description\": \"The annual interest rate.\"}, \"times_compounded\": {\"type\": \"integer\", \"description\": \"The number of times the interest is compounded per year.\"}, \"years\": {\"type\": \"integer\", \"description\": \"The number of years to calculate the compound interest for.\"}}, \"required\": [\"principal\", \"rate\", \"times_compounded\", \"years\"]}\\ninflation_adjustment: Adjusts an amount for inflation. | Parameters: {\"type\": \"dict\", \"properties\": {\"amount\": {\"type\": \"float\", \"description\": \"The amount to adjust for inflation.\"}, \"inflation_rate\": {\"type\": \"float\", \"description\": \"The annual inflation float.\"}, \"years\": {\"type\": \"integer\", \"description\": \"The number of years to adjust for inflation.\"}}, \"required\": [\"amount\", \"inflation_rate\", \"years\"]}\\nadjust_for_inflation: Adjusts the investment value for inflation for each year. | Parameters: {\"type\": \"dict\", \"properties\": {\"investment_value\": {\"type\": \"float\", \"description\": \"The value of the investment to adjust.\"}, \"inflation_rates\": {\"type\": \"array\", \"items\": {\"type\": \"float\"}, \"description\": \"The inflation rates for each year.\"}}, \"required\": [\"investment_value\", \"inflation_rates\"]}\\ncalculate_basal_metabolic_rate: Calculates the Basal Metabolic Rate (BMR) of a person. | Parameters: {\"type\": \"dict\", \"properties\": {\"weight\": {\"type\": \"float\", \"description\": \"The weight of the person in kilograms.\"}, \"height\": {\"type\": \"float\", \"description\": \"The height of the person in centimeters.\"}, \"age\": {\"type\": \"float\", \"description\": \"The age of the person in years.\"}, \"gender\": {\"type\": \"string\", \"description\": \"The gender of the person. Possible options [male, female, other].\"}}, \"required\": [\"weight\", \"height\", \"age\", \"gender\"]}\\ncalculate_daily_energy_expenditure: Calculates the daily energy expenditure based on BMR and activity level. | Parameters: {\"type\": \"dict\", \"properties\": {\"basal_metabolic_rate\": {\"type\": \"float\", \"description\": \"The BMR of the person.\"}, \"activity_level\": {\"type\": \"float\", \"description\": \"The activity level of the person. Possible options [1,2,3,4,5].\"}}, \"required\": [\"basal_metabolic_rate\", \"activity_level\"]}\\ncalculate_nutritional_needs: Calculates the nutritional needs of a person based on their weight, height, age, gender, activity level, and goal. | Parameters: {\"type\": \"dict\", \"properties\": {\"weight\": {\"type\": \"float\", \"description\": \"The weight of the person in kilograms.\"}, \"height\": {\"type\": \"float\", \"description\": \"The height of the person in centimeters.\"}, \"age\": {\"type\": \"float\", \"description\": \"The age of the person in years.\"}, \"gender\": {\"type\": \"string\", \"description\": \"The gender of the person. Possible options [male, female, other].\"}, \"activity_level\": {\"type\": \"float\", \"description\": \"The activity level of the person. Possible options [1,2,3,4,5].\"}, \"goal\": {\"type\": \"string\", \"description\": \"The goal of the person. Possible options [lose, gain, maintain].\"}}, \"required\": [\"weight\", \"height\", \"age\", \"gender\", \"activity_level\", \"goal\"]}\\nbook_room: Books a room for a customer. | Parameters: {\"type\": \"dict\", \"properties\": {\"room_type\": {\"type\": \"dict\", \"description\": \"The room type to book.\"}, \"check_in_date\": {\"type\": \"string\", \"description\": \"The check-in date in format of MM-DD-YYYY.\"}, \"check_out_date\": {\"type\": \"string\", \"description\": \"The check-out date in format of MM-DD-YYYY.\"}, \"customer_id\": {\"type\": \"string\", \"description\": \"The customer ID.\"}, \"discount_code\": {\"type\": \"string\", \"description\": \"The discount code (if any).\", \"default\": null}}, \"required\": [\"room_type\", \"check_in_date\", \"check_out_date\", \"customer_id\"]}\\ncalculate_total_price: Calculates the total price of the room booking. | Parameters: {\"type\": \"dict\", \"properties\": {\"room_price\": {\"type\": \"float\", \"description\": \"The price per night of the room.\"}, \"nights\": {\"type\": \"integer\", \"description\": \"The number of nights for the booking.\"}, \"discount\": {\"type\": \"float\", \"description\": \"The discount amount (if any).\", \"default\": 0}}, \"required\": [\"room_price\", \"nights\"]}\\nconfirm_booking: Confirms the room booking and sends a confirmation to the customer. | Parameters: {\"type\": \"dict\", \"properties\": {\"customer_id\": {\"type\": \"string\", \"description\": \"The customer ID.\"}, \"room_number\": {\"type\": \"string\", \"description\": \"The room number assigned to the booking.\"}, \"total_price\": {\"type\": \"float\", \"description\": \"The total price for the booking.\"}}, \"required\": [\"customer_id\", \"room_number\", \"total_price\"]}\\norder_food: Orders food for a customer. Return the total price. | Parameters: {\"type\": \"dict\", \"properties\": {\"item\": {\"type\": \"array\", \"items\": {\"type\": \"string\"}, \"description\": \"the name of the product.\"}, \"quantity\": {\"type\": \"array\", \"items\": {\"type\": \"integer\"}, \"description\": \"the number of the product purchased.\"}, \"price\": {\"type\": \"array\", \"items\": {\"type\": \"float\"}, \"description\": \"the price of the product.\"}}, \"required\": [\"item\", \"quantity\", \"price\"]}\\ncalculate_total: Calculates the total price of an order given the quantities and prices. | Parameters: {\"type\": \"dict\", \"properties\": {\"quantities\": {\"type\": \"array\", \"items\": {\"type\": \"integer\"}, \"description\": \"The quantities of each product.\"}, \"prices\": {\"type\": \"array\", \"items\": {\"type\": \"float\"}, \"description\": \"The price of each product.\"}}, \"required\": [\"quantities\", \"prices\"]}\\napply_discount: Applies a discount to the total price. | Parameters: {\"type\": \"dict\", \"properties\": {\"total\": {\"type\": \"float\", \"description\": \"The original total price.\"}, \"discount\": {\"type\": \"float\", \"description\": \"The discount percentage to apply.\"}}, \"required\": [\"total\", \"discount\"]}\\nget_movie_director: Fetches the director of a movie from the OMDB API. | Parameters: {\"type\": \"dict\", \"properties\": {\"movie_name\": {\"type\": \"string\", \"description\": \"The name of the movie.\"}}, \"required\": [\"movie_name\"]}\\ncalculate_interest_rate: Calculates the interest rate for a given principal, rate, and time. | Parameters: {\"type\": \"dict\", \"properties\": {\"principal\": {\"type\": \"float\", \"description\": \"The initial amount of money.\"}, \"rate\": {\"type\": \"float\", \"description\": \"The interest rate per period.\"}, \"time\": {\"type\": \"float\", \"description\": \"The time the money is invested or borrowed for.\"}}, \"required\": [\"principal\", \"rate\", \"time\"]}\\nconvert_temperature: Converts temperature from Celsius to Fahrenheit or vice versa. | Parameters: {\"type\": \"dict\", \"properties\": {\"temperature\": {\"type\": \"float\", \"description\": \"The temperature to convert.\"}, \"unit_from\": {\"type\": \"string\", \"description\": \"The current unit of the temperature (Celsius or Fahrenheit).\"}, \"unit_to\": {\"type\": \"string\", \"description\": \"The unit to convert the temperature to (Celsius or Fahrenheit).\"}}, \"required\": [\"temperature\", \"unit_from\", \"unit_to\"]}\\ngenerate_random_number: Generates a random number within a specified range. | Parameters: {\"type\": \"dict\", \"properties\": {\"min\": {\"type\": \"integer\", \"description\": \"The minimum value of the range.\"}, \"max\": {\"type\": \"integer\", \"description\": \"The maximum value of the range.\"}}, \"required\": [\"min\", \"max\"]}\\nget_movie_rating: Fetches the age rating of a movie from the OMDB API. | Parameters: {\"type\": \"dict\", \"properties\": {\"movie_name\": {\"type\": \"string\", \"description\": \"The name of the movie.\"}}, \"required\": [\"movie_name\"]}\\nget_movie_genre: Retrieves the genre of a movie from the OMDB API. | Parameters: {\"type\": \"dict\", \"properties\": {\"movie_name\": {\"type\": \"string\", \"description\": \"The name of the movie to retrieve the genre for.\"}}, \"required\": [\"movie_name\"]}\\nget_director_by_movie_name: Gets the director of a movie. | Parameters: {\"type\": \"dict\", \"properties\": {\"movie_name\": {\"type\": \"string\", \"description\": \"The movie to find the director of.\"}}, \"required\": [\"movie_name\"]}\\nconvert_coordinates: Converts a list of tuples into a list of lists. | Parameters: {\"type\": \"dict\", \"properties\": {\"coordinates\": {\"type\": \"array\", \"items\": {\"type\": \"tuple\", \"items\": {\"type\": \"float\"}, \"description\": \"A single coordinate represented by a tuple (x, y).\"}, \"description\": \"The coordinates to be converted, where each coordinate is a tuple (x, y).\"}}, \"required\": [\"coordinates\"]}\\npolygon_area: Calculate the area of a polygon given its vertices using the shoelace formula. | Parameters: {\"type\": \"dict\", \"properties\": {\"vertices\": {\"type\": \"array\", \"items\": {\"type\": \"array\", \"items\": {\"type\": \"float\"}, \"minItems\": 2, \"maxItems\": 2, \"description\": \"A single vertex represented by a 2 element list [x, y].\"}, \"description\": \"The vertices of the polygon, where each vertex is a 2 element list [x, y].\"}}, \"required\": [\"vertices\"]}\\nvalidate_polygon: Checks if the given vertices form a valid polygon. | Parameters: {\"type\": \"dict\", \"properties\": {\"vertices\": {\"type\": \"array\", \"items\": {\"type\": \"array\", \"items\": {\"type\": \"float\"}, \"description\": \"A single vertex represented by a 2 element list [x, y].\"}, \"description\": \"The vertices of the polygon, where each vertex is a 2 element list [x, y].\"}}, \"required\": [\"vertices\"]}</td>\n",
              "    </tr>\n",
              "    <tr>\n",
              "      <th>1</th>\n",
              "      <td>I'm working on a machine learning model, comparing the characteristics of two objects. The feature vectors for these objects are [0.5, 0.7, 0.2, 0.9, 0.1] for the first object and [0.4, 0.6, 0.3, 0.8, 0.2] for the second. To understand how similar these objects are, I need to calculate the cosine similarity between these two vectors. Can you help me with that?</td>\n",
              "      <td>calculate_cosine_similarity(vectorA=[0.5, 0.7, 0.2, 0.9, 0.1], vectorB=[0.4, 0.6, 0.3, 0.8, 0.2])</td>\n",
              "      <td>get_weather_data: Fetches weather data from the Open-Meteo API for the given latitude and longitude. | Parameters: {\"type\": \"dict\", \"properties\": {\"coordinates\": {\"type\": \"array\", \"items\": {\"type\": \"float\"}, \"description\": \"The latitude and longitude of the location.\"}}, \"required\": [\"coordinates\"]}\\ncalc_binomial_probability: Calculates the probability of getting k successes in n trials. | Parameters: {\"type\": \"dict\", \"properties\": {\"n\": {\"type\": \"integer\", \"description\": \"The number of trials.\"}, \"k\": {\"type\": \"integer\", \"description\": \"The number of successes.\"}, \"p\": {\"type\": \"float\", \"description\": \"The probability of success.\"}}, \"required\": [\"n\", \"k\", \"p\"]}\\ncalculate_cosine_similarity: Calculates the cosine similarity of two vectors. | Parameters: {\"type\": \"dict\", \"properties\": {\"vectorA\": {\"type\": \"array\", \"items\": {\"type\": \"float\"}, \"description\": \"The first vector.\"}, \"vectorB\": {\"type\": \"array\", \"items\": {\"type\": \"float\"}, \"description\": \"The second vector.\"}}, \"required\": [\"vectorA\", \"vectorB\"]}\\nget_stock_price_by_stock_name: Finds the price of a stock by its stock name. | Parameters: {\"type\": \"dict\", \"properties\": {\"stock_name\": {\"type\": \"string\", \"description\": \"The stock name of the product, in the format of the stock symbol.\"}}, \"required\": [\"stock_name\"]}\\ncalculate_density: Calculates the density of an object. | Parameters: {\"type\": \"dict\", \"properties\": {\"mass\": {\"type\": \"float\", \"description\": \"The mass of the object, in kilograms.\"}, \"volume\": {\"type\": \"float\", \"description\": \"The volume of the object, in cubic meters.\"}}, \"required\": [\"mass\", \"volume\"]}\\ncalculate_future_value: Calculates the future value of an investment. | Parameters: {\"type\": \"dict\", \"properties\": {\"present_value\": {\"type\": \"float\", \"description\": \"The present value of the investment, in dollars.\"}, \"interest_rate\": {\"type\": \"float\", \"description\": \"The interest rate of the investment, ranging from 0 to 1.\"}, \"periods\": {\"type\": \"integer\", \"description\": \"The number of periods, in years.\"}}, \"required\": [\"present_value\", \"interest_rate\", \"periods\"]}\\nget_rating_by_amazon_ASIN: Finds the rating of a product by its Amazon ASIN. | Parameters: {\"type\": \"dict\", \"properties\": {\"ASIN\": {\"type\": \"string\", \"description\": \"The Amazon ASIN of the product.\"}}, \"required\": [\"ASIN\"]}\\nretrieve_holiday_by_year: Finds the holidays of a year. | Parameters: {\"type\": \"dict\", \"properties\": {\"year\": {\"type\": \"string\", \"description\": \"The year of the holidays.\"}, \"country\": {\"type\": \"string\", \"description\": \"The country of the holidays. Possible options: US, AT, DE, ES, FR, GB, IT, NL, PL, RO, SK, UA.\"}}, \"required\": [\"year\", \"country\"]}\\ncalculate_displacement: Calculates the displacement of an object. | Parameters: {\"type\": \"dict\", \"properties\": {\"initial_velocity\": {\"type\": \"float\", \"description\": \"The initial velocity of the object, in meters per second.\"}, \"acceleration\": {\"type\": \"float\", \"description\": \"The acceleration of the object, in meters per second squared.\"}, \"time\": {\"type\": \"float\", \"description\": \"The time the object has been moving, in seconds.\"}}, \"required\": [\"initial_velocity\", \"acceleration\", \"time\"]}\\nget_zipcode_by_ip_address: Finds the zipcode of an IP address. | Parameters: {\"type\": \"dict\", \"properties\": {\"ip_address\": {\"type\": \"string\", \"description\": \"The IP address to find the location of.\"}}, \"required\": [\"ip_address\"]}\\ncalculate_electrostatic_potential_energy: Calculates the electrostatic potential energy. | Parameters: {\"type\": \"dict\", \"properties\": {\"charge\": {\"type\": \"float\", \"description\": \"The charge of the object, in coulombs.\"}, \"voltage\": {\"type\": \"float\", \"description\": \"The voltage of the object, in volts.\"}}, \"required\": [\"charge\", \"voltage\"]}\\nmortgage_calculator: Calculates the monthly mortgage payment. | Parameters: {\"type\": \"dict\", \"properties\": {\"loan_amount\": {\"type\": \"float\", \"description\": \"The amount of the loan.\"}, \"interest_rate\": {\"type\": \"float\", \"description\": \"The interest rate of the loan, ranging from 0 to 1.\"}, \"loan_period\": {\"type\": \"integer\", \"description\": \"The period of the loan, in years.\"}}, \"required\": [\"loan_amount\", \"interest_rate\", \"loan_period\"]}\\ncalculate_final_velocity: Calculates the final velocity of an object. | Parameters: {\"type\": \"dict\", \"properties\": {\"initial_velocity\": {\"type\": \"float\", \"description\": \"The initial velocity of the object.\"}, \"acceleration\": {\"type\": \"float\", \"description\": \"The acceleration of the object.\"}, \"time\": {\"type\": \"float\", \"description\": \"The time the object has been moving.\"}}, \"required\": [\"initial_velocity\", \"acceleration\", \"time\"]}\\nget_fibonacci_sequence: Calculates the n numbers of the Fibonacci. | Parameters: {\"type\": \"dict\", \"properties\": {\"n\": {\"type\": \"integer\", \"description\": \"The number of Fibonacci numbers to calculate.\"}}, \"required\": [\"n\"]}\\nsort_array: Sorts an array of numbers. | Parameters: {\"type\": \"dict\", \"properties\": {\"array\": {\"type\": \"array\", \"items\": {\"type\": \"float\"}, \"description\": \"The array of numbers.\"}, \"reverse\": {\"type\": \"boolean\", \"description\": \"Whether to sort the array in reverse order, i.e., descending order.\", \"default\": false}}, \"required\": [\"array\"]}\\nget_time_zone_by_coord: Finds the timezone of a coordinate. | Parameters: {\"type\": \"dict\", \"properties\": {\"long\": {\"type\": \"string\", \"description\": \"The longitude of the coordinate.\"}, \"lat\": {\"type\": \"string\", \"description\": \"The latitude of the coordinate.\"}}, \"required\": [\"long\", \"lat\"]}\\ncalculate_mean: Calculates the mean of a list of numbers. | Parameters: {\"type\": \"dict\", \"properties\": {\"numbers\": {\"type\": \"array\", \"items\": {\"type\": \"integer\"}, \"description\": \"The list of numbers.\"}}, \"required\": [\"numbers\"]}\\ncalculate_permutations: Calculates the number of permutations of k elements from a set of n elements. | Parameters: {\"type\": \"dict\", \"properties\": {\"n\": {\"type\": \"integer\", \"description\": \"The number of elements in the set.\"}, \"k\": {\"type\": \"integer\", \"description\": \"The number of elements to choose.\"}}, \"required\": [\"n\", \"k\"]}\\nget_company_name_by_stock_name: Finds the company name of a stock by its stock name. | Parameters: {\"type\": \"dict\", \"properties\": {\"stock_name\": {\"type\": \"string\", \"description\": \"The stock name of the product, in the format of the stock symbol.\"}}, \"required\": [\"stock_name\"]}\\ncalculate_standard_deviation: Calculates the standard deviation of a list of numbers. | Parameters: {\"type\": \"dict\", \"properties\": {\"numbers\": {\"type\": \"array\", \"items\": {\"type\": \"integer\"}, \"description\": \"The list of numbers.\"}}, \"required\": [\"numbers\"]}\\nmath_lcm: Calculates the least common multiple of two numbers. | Parameters: {\"type\": \"dict\", \"properties\": {\"a\": {\"type\": \"integer\", \"description\": \"The first number. This should be the larger number.\"}, \"b\": {\"type\": \"integer\", \"description\": \"The second number.\"}}, \"required\": [\"a\", \"b\"]}\\ncalculate_triangle_area: Calculates the area of a triangle given its base and height. | Parameters: {\"type\": \"dict\", \"properties\": {\"base\": {\"type\": \"integer\", \"description\": \"The base of the triangle, in meters.\"}, \"height\": {\"type\": \"integer\", \"description\": \"The height of the triangle, in meters.\"}}, \"required\": [\"base\", \"height\"]}\\nconvert_currency: Converts a given amount from one currency to another using the ExchangeRate-API. | Parameters: {\"type\": \"dict\", \"properties\": {\"amount\": {\"type\": \"float\", \"description\": \"The amount of money to convert, in the base currency.\"}, \"from_currency\": {\"type\": \"string\", \"description\": \"The ISO currency code for the base currency.\"}, \"to_currency\": {\"type\": \"string\", \"description\": \"The ISO currency code for the target currency.\"}}, \"required\": [\"amount\", \"from_currency\", \"to_currency\"]}\\nget_stock_history: Finds the price of a stock by its stock name. | Parameters: {\"type\": \"dict\", \"properties\": {\"stock_name\": {\"type\": \"string\", \"description\": \"The stock name of the product, in the format of the stock symbol.\"}, \"interval\": {\"type\": \"string\", \"description\": \"The interval of the stock history. Allows one of following : 5m|15m|30m|1h|1d|1wk|1mo|3mo\"}, \"diffandsplits\": {\"type\": \"string\", \"description\": \"The diff and splits of the stock history. Allows one of following : true|false. Default to false\"}}, \"required\": [\"stock_name\", \"interval\"]}\\nmath_gcd: Calculates the greatest common divisor of two numbers. | Parameters: {\"type\": \"dict\", \"properties\": {\"a\": {\"type\": \"integer\", \"description\": \"The first number. This should be the larger number.\"}, \"b\": {\"type\": \"integer\", \"description\": \"The second number.\"}}, \"required\": [\"a\", \"b\"]}\\nestimate_derivative: Estimate the derivative of a function at a given point. | Parameters: {\"type\": \"dict\", \"properties\": {\"function\": {\"type\": \"string\", \"description\": \"The function to calculate the derivative of. This should be the string literal of lambda function\"}, \"x\": {\"type\": \"integer\", \"description\": \"The point to calculate the derivative at.\"}}, \"required\": [\"function\", \"x\"]}\\nfind_term_on_urban_dictionary: Finds the definition of a term on Urban Dictionary. | Parameters: {\"type\": \"dict\", \"properties\": {\"term\": {\"type\": \"string\", \"description\": \"The term to find the definition of.\"}}, \"required\": [\"term\"]}\\nget_distance: Calculates the distance between two 2D points. | Parameters: {\"type\": \"dict\", \"properties\": {\"pointA\": {\"type\": \"tuple\", \"description\": \"The first point.\", \"items\": {\"type\": \"float\"}}, \"pointB\": {\"type\": \"tuple\", \"description\": \"The second point.\", \"items\": {\"type\": \"float\"}}}, \"required\": [\"pointA\", \"pointB\"]}\\ngeometry_area_circle: Calculates the area of a circle. | Parameters: {\"type\": \"dict\", \"properties\": {\"radius\": {\"type\": \"integer\", \"description\": \"The radius of the circle, in feet.\"}}, \"required\": [\"radius\"]}\\nget_covid_death_by_country: Finds the most up to date total deaths of a country result from COVID. | Parameters: {\"type\": \"dict\", \"properties\": {\"country\": {\"type\": \"string\", \"description\": \"The country to find the total deaths of, in the format of the country's full name.\"}}, \"required\": [\"country\"]}\\nget_active_covid_case_by_country: Finds the most up to date active cases of a country result from COVID. | Parameters: {\"type\": \"dict\", \"properties\": {\"country\": {\"type\": \"string\", \"description\": \"The country to find the active cases of, in the format of the country's full name.\"}}, \"required\": [\"country\"]}\\nmat_mul: Multiplies two matrices. | Parameters: {\"type\": \"dict\", \"properties\": {\"matA\": {\"type\": \"array\", \"description\": \"The first matrix.\", \"items\": {\"type\": \"array\", \"items\": {\"type\": \"integer\"}}}, \"matB\": {\"type\": \"array\", \"description\": \"The second matrix.\", \"items\": {\"type\": \"array\", \"items\": {\"type\": \"integer\"}}}}, \"required\": [\"matA\", \"matB\"]}\\nget_coordinate_by_ip_address: Finds the latitude and longitude of an IP address. | Parameters: {\"type\": \"dict\", \"properties\": {\"ip_address\": {\"type\": \"string\", \"description\": \"The IP address to find the location of.\"}}, \"required\": [\"ip_address\"]}\\nget_coordinates_from_city: Fetches the latitude and longitude of a given city name using the Maps.co Geocoding API. | Parameters: {\"type\": \"dict\", \"properties\": {\"city_name\": {\"type\": \"string\", \"description\": \"The name of the city, such as 'Rome'.\"}}, \"required\": [\"city_name\"]}\\nget_product_name_by_amazon_ASIN: Finds the price of a product by its Amazon ASIN. | Parameters: {\"type\": \"dict\", \"properties\": {\"ASIN\": {\"type\": \"string\", \"description\": \"The Amazon ASIN of the product.\"}}, \"required\": [\"ASIN\"]}\\nget_price_by_amazon_ASIN: Finds the price of a product by its Amazon ASIN. | Parameters: {\"type\": \"dict\", \"properties\": {\"ASIN\": {\"type\": \"string\", \"description\": \"The Amazon ASIN of the product.\"}}, \"required\": [\"ASIN\"]}\\nget_prime_factors: Calculates the prime factors of a number. | Parameters: {\"type\": \"dict\", \"properties\": {\"number\": {\"type\": \"integer\", \"description\": \"The number to calculate the prime factors of.\"}}, \"required\": [\"number\"]}\\nretrieve_city_based_on_zipcode: Finds the city of a zipcode. | Parameters: {\"type\": \"dict\", \"properties\": {\"zipcode\": {\"type\": \"string\", \"description\": \"The zipcode of the city.\"}}, \"required\": [\"zipcode\"]}\\nmath_factorial: Calculates the factorial of a number. | Parameters: {\"type\": \"dict\", \"properties\": {\"n\": {\"type\": \"integer\", \"description\": \"The number to calculate the factorial of.\"}}, \"required\": [\"n\"]}\\nquadratic_roots: Calculates the roots of a quadratic equation. | Parameters: {\"type\": \"dict\", \"properties\": {\"a\": {\"type\": \"integer\", \"description\": \"The first coefficient.\"}, \"b\": {\"type\": \"integer\", \"description\": \"The second coefficient.\"}, \"c\": {\"type\": \"integer\", \"description\": \"The third coefficient.\"}}, \"required\": [\"a\", \"b\", \"c\"]}\\nadd_binary_numbers: Adds two binary numbers. | Parameters: {\"type\": \"dict\", \"properties\": {\"a\": {\"type\": \"string\", \"description\": \"The first binary number.\"}, \"b\": {\"type\": \"string\", \"description\": \"The second binary number.\"}}, \"required\": [\"a\", \"b\"]}\\nconvert_binary_to_decimal: Converts a binary number to a decimal number. | Parameters: {\"type\": \"dict\", \"properties\": {\"binary\": {\"type\": \"string\", \"description\": \"The binary number to convert.\"}}, \"required\": [\"binary\"]}\\nconvert_decimal_to_hex: Converts a decimal number to a hexadecimal number. | Parameters: {\"type\": \"dict\", \"properties\": {\"decimal\": {\"type\": \"integer\", \"description\": \"The decimal number to convert.\"}}, \"required\": [\"decimal\"]}\\nlinear_regression: Finds the linear regression of a set of points and evaluates it at a given point. | Parameters: {\"type\": \"dict\", \"properties\": {\"x\": {\"type\": \"array\", \"description\": \"The x coordinates of the points.\", \"items\": {\"type\": \"integer\"}}, \"y\": {\"type\": \"array\", \"description\": \"The y coordinates of the points.\", \"items\": {\"type\": \"integer\"}}, \"point\": {\"type\": \"integer\", \"description\": \"The point to calculate the linear regression at.\"}}, \"required\": [\"x\", \"y\", \"point\"]}\\ncalculate_slope: Calculates the slope of the linear regression line from a set of points. | Parameters: {\"type\": \"dict\", \"properties\": {\"x\": {\"type\": \"array\", \"description\": \"The x coordinates of the points.\", \"items\": {\"type\": \"integer\"}}, \"y\": {\"type\": \"array\", \"description\": \"The y coordinates of the points.\", \"items\": {\"type\": \"integer\"}}}, \"required\": [\"x\", \"y\"]}\\ncalculate_intercept: Calculates the y-intercept of the linear regression line from a set of points and a given slope. | Parameters: {\"type\": \"dict\", \"properties\": {\"x\": {\"type\": \"array\", \"description\": \"The x coordinates of the points.\", \"items\": {\"type\": \"integer\"}}, \"y\": {\"type\": \"array\", \"description\": \"The y coordinates of the points.\", \"items\": {\"type\": \"integer\"}}, \"slope\": {\"type\": \"integer\", \"description\": \"The slope of the linear regression line.\"}}, \"required\": [\"x\", \"y\", \"slope\"]}\\npredict_value: Predicts the value of y given the slope, intercept, and an x value. | Parameters: {\"type\": \"dict\", \"properties\": {\"slope\": {\"type\": \"integer\", \"description\": \"The slope of the linear regression line.\"}, \"intercept\": {\"type\": \"integer\", \"description\": \"The y-intercept of the linear regression line.\"}, \"x\": {\"type\": \"integer\", \"description\": \"The x value to predict the y for.\"}}, \"required\": [\"slope\", \"intercept\", \"x\"]}\\ncalculate_investment_value: Calculates the value of an investment over time. | Parameters: {\"type\": \"dict\", \"properties\": {\"initial_investment\": {\"type\": \"integer\", \"description\": \"The initial investment amount.\"}, \"annual_contribution\": {\"type\": \"integer\", \"description\": \"The annual contribution amount.\"}, \"years\": {\"type\": \"integer\", \"description\": \"The number of years to calculate the investment value for.\"}, \"annual_return\": {\"type\": \"float\", \"description\": \"The annual return rate, ranging from 0 to 1.\"}, \"inflation_rate\": {\"type\": \"array\", \"items\": {\"type\": \"float\"}, \"description\": \"The inflation rate for each year in percentage, ranging from 0 to 1.\"}, \"adjust_for_inflation\": {\"type\": \"boolean\", \"default\": true, \"description\": \"Whether to adjust the investment value for inflation.\"}}, \"required\": [\"initial_investment\", \"annual_contribution\", \"years\", \"annual_return\", \"inflation_rate\"]}\\ncompound_interest: Calculates compound interest over time. | Parameters: {\"type\": \"dict\", \"properties\": {\"principal\": {\"type\": \"integer\", \"description\": \"The principal amount.\"}, \"rate\": {\"type\": \"float\", \"description\": \"The annual interest rate.\"}, \"times_compounded\": {\"type\": \"integer\", \"description\": \"The number of times the interest is compounded per year.\"}, \"years\": {\"type\": \"integer\", \"description\": \"The number of years to calculate the compound interest for.\"}}, \"required\": [\"principal\", \"rate\", \"times_compounded\", \"years\"]}\\ninflation_adjustment: Adjusts an amount for inflation. | Parameters: {\"type\": \"dict\", \"properties\": {\"amount\": {\"type\": \"float\", \"description\": \"The amount to adjust for inflation.\"}, \"inflation_rate\": {\"type\": \"float\", \"description\": \"The annual inflation float.\"}, \"years\": {\"type\": \"integer\", \"description\": \"The number of years to adjust for inflation.\"}}, \"required\": [\"amount\", \"inflation_rate\", \"years\"]}\\nadjust_for_inflation: Adjusts the investment value for inflation for each year. | Parameters: {\"type\": \"dict\", \"properties\": {\"investment_value\": {\"type\": \"float\", \"description\": \"The value of the investment to adjust.\"}, \"inflation_rates\": {\"type\": \"array\", \"items\": {\"type\": \"float\"}, \"description\": \"The inflation rates for each year.\"}}, \"required\": [\"investment_value\", \"inflation_rates\"]}\\ncalculate_basal_metabolic_rate: Calculates the Basal Metabolic Rate (BMR) of a person. | Parameters: {\"type\": \"dict\", \"properties\": {\"weight\": {\"type\": \"float\", \"description\": \"The weight of the person in kilograms.\"}, \"height\": {\"type\": \"float\", \"description\": \"The height of the person in centimeters.\"}, \"age\": {\"type\": \"float\", \"description\": \"The age of the person in years.\"}, \"gender\": {\"type\": \"string\", \"description\": \"The gender of the person. Possible options [male, female, other].\"}}, \"required\": [\"weight\", \"height\", \"age\", \"gender\"]}\\ncalculate_daily_energy_expenditure: Calculates the daily energy expenditure based on BMR and activity level. | Parameters: {\"type\": \"dict\", \"properties\": {\"basal_metabolic_rate\": {\"type\": \"float\", \"description\": \"The BMR of the person.\"}, \"activity_level\": {\"type\": \"float\", \"description\": \"The activity level of the person. Possible options [1,2,3,4,5].\"}}, \"required\": [\"basal_metabolic_rate\", \"activity_level\"]}\\ncalculate_nutritional_needs: Calculates the nutritional needs of a person based on their weight, height, age, gender, activity level, and goal. | Parameters: {\"type\": \"dict\", \"properties\": {\"weight\": {\"type\": \"float\", \"description\": \"The weight of the person in kilograms.\"}, \"height\": {\"type\": \"float\", \"description\": \"The height of the person in centimeters.\"}, \"age\": {\"type\": \"float\", \"description\": \"The age of the person in years.\"}, \"gender\": {\"type\": \"string\", \"description\": \"The gender of the person. Possible options [male, female, other].\"}, \"activity_level\": {\"type\": \"float\", \"description\": \"The activity level of the person. Possible options [1,2,3,4,5].\"}, \"goal\": {\"type\": \"string\", \"description\": \"The goal of the person. Possible options [lose, gain, maintain].\"}}, \"required\": [\"weight\", \"height\", \"age\", \"gender\", \"activity_level\", \"goal\"]}\\nbook_room: Books a room for a customer. | Parameters: {\"type\": \"dict\", \"properties\": {\"room_type\": {\"type\": \"dict\", \"description\": \"The room type to book.\"}, \"check_in_date\": {\"type\": \"string\", \"description\": \"The check-in date in format of MM-DD-YYYY.\"}, \"check_out_date\": {\"type\": \"string\", \"description\": \"The check-out date in format of MM-DD-YYYY.\"}, \"customer_id\": {\"type\": \"string\", \"description\": \"The customer ID.\"}, \"discount_code\": {\"type\": \"string\", \"description\": \"The discount code (if any).\", \"default\": null}}, \"required\": [\"room_type\", \"check_in_date\", \"check_out_date\", \"customer_id\"]}\\ncalculate_total_price: Calculates the total price of the room booking. | Parameters: {\"type\": \"dict\", \"properties\": {\"room_price\": {\"type\": \"float\", \"description\": \"The price per night of the room.\"}, \"nights\": {\"type\": \"integer\", \"description\": \"The number of nights for the booking.\"}, \"discount\": {\"type\": \"float\", \"description\": \"The discount amount (if any).\", \"default\": 0}}, \"required\": [\"room_price\", \"nights\"]}\\nconfirm_booking: Confirms the room booking and sends a confirmation to the customer. | Parameters: {\"type\": \"dict\", \"properties\": {\"customer_id\": {\"type\": \"string\", \"description\": \"The customer ID.\"}, \"room_number\": {\"type\": \"string\", \"description\": \"The room number assigned to the booking.\"}, \"total_price\": {\"type\": \"float\", \"description\": \"The total price for the booking.\"}}, \"required\": [\"customer_id\", \"room_number\", \"total_price\"]}\\norder_food: Orders food for a customer. Return the total price. | Parameters: {\"type\": \"dict\", \"properties\": {\"item\": {\"type\": \"array\", \"items\": {\"type\": \"string\"}, \"description\": \"the name of the product.\"}, \"quantity\": {\"type\": \"array\", \"items\": {\"type\": \"integer\"}, \"description\": \"the number of the product purchased.\"}, \"price\": {\"type\": \"array\", \"items\": {\"type\": \"float\"}, \"description\": \"the price of the product.\"}}, \"required\": [\"item\", \"quantity\", \"price\"]}\\ncalculate_total: Calculates the total price of an order given the quantities and prices. | Parameters: {\"type\": \"dict\", \"properties\": {\"quantities\": {\"type\": \"array\", \"items\": {\"type\": \"integer\"}, \"description\": \"The quantities of each product.\"}, \"prices\": {\"type\": \"array\", \"items\": {\"type\": \"float\"}, \"description\": \"The price of each product.\"}}, \"required\": [\"quantities\", \"prices\"]}\\napply_discount: Applies a discount to the total price. | Parameters: {\"type\": \"dict\", \"properties\": {\"total\": {\"type\": \"float\", \"description\": \"The original total price.\"}, \"discount\": {\"type\": \"float\", \"description\": \"The discount percentage to apply.\"}}, \"required\": [\"total\", \"discount\"]}\\nget_movie_director: Fetches the director of a movie from the OMDB API. | Parameters: {\"type\": \"dict\", \"properties\": {\"movie_name\": {\"type\": \"string\", \"description\": \"The name of the movie.\"}}, \"required\": [\"movie_name\"]}\\ncalculate_interest_rate: Calculates the interest rate for a given principal, rate, and time. | Parameters: {\"type\": \"dict\", \"properties\": {\"principal\": {\"type\": \"float\", \"description\": \"The initial amount of money.\"}, \"rate\": {\"type\": \"float\", \"description\": \"The interest rate per period.\"}, \"time\": {\"type\": \"float\", \"description\": \"The time the money is invested or borrowed for.\"}}, \"required\": [\"principal\", \"rate\", \"time\"]}\\nconvert_temperature: Converts temperature from Celsius to Fahrenheit or vice versa. | Parameters: {\"type\": \"dict\", \"properties\": {\"temperature\": {\"type\": \"float\", \"description\": \"The temperature to convert.\"}, \"unit_from\": {\"type\": \"string\", \"description\": \"The current unit of the temperature (Celsius or Fahrenheit).\"}, \"unit_to\": {\"type\": \"string\", \"description\": \"The unit to convert the temperature to (Celsius or Fahrenheit).\"}}, \"required\": [\"temperature\", \"unit_from\", \"unit_to\"]}\\ngenerate_random_number: Generates a random number within a specified range. | Parameters: {\"type\": \"dict\", \"properties\": {\"min\": {\"type\": \"integer\", \"description\": \"The minimum value of the range.\"}, \"max\": {\"type\": \"integer\", \"description\": \"The maximum value of the range.\"}}, \"required\": [\"min\", \"max\"]}\\nget_movie_rating: Fetches the age rating of a movie from the OMDB API. | Parameters: {\"type\": \"dict\", \"properties\": {\"movie_name\": {\"type\": \"string\", \"description\": \"The name of the movie.\"}}, \"required\": [\"movie_name\"]}\\nget_movie_genre: Retrieves the genre of a movie from the OMDB API. | Parameters: {\"type\": \"dict\", \"properties\": {\"movie_name\": {\"type\": \"string\", \"description\": \"The name of the movie to retrieve the genre for.\"}}, \"required\": [\"movie_name\"]}\\nget_director_by_movie_name: Gets the director of a movie. | Parameters: {\"type\": \"dict\", \"properties\": {\"movie_name\": {\"type\": \"string\", \"description\": \"The movie to find the director of.\"}}, \"required\": [\"movie_name\"]}\\nconvert_coordinates: Converts a list of tuples into a list of lists. | Parameters: {\"type\": \"dict\", \"properties\": {\"coordinates\": {\"type\": \"array\", \"items\": {\"type\": \"tuple\", \"items\": {\"type\": \"float\"}, \"description\": \"A single coordinate represented by a tuple (x, y).\"}, \"description\": \"The coordinates to be converted, where each coordinate is a tuple (x, y).\"}}, \"required\": [\"coordinates\"]}\\npolygon_area: Calculate the area of a polygon given its vertices using the shoelace formula. | Parameters: {\"type\": \"dict\", \"properties\": {\"vertices\": {\"type\": \"array\", \"items\": {\"type\": \"array\", \"items\": {\"type\": \"float\"}, \"minItems\": 2, \"maxItems\": 2, \"description\": \"A single vertex represented by a 2 element list [x, y].\"}, \"description\": \"The vertices of the polygon, where each vertex is a 2 element list [x, y].\"}}, \"required\": [\"vertices\"]}\\nvalidate_polygon: Checks if the given vertices form a valid polygon. | Parameters: {\"type\": \"dict\", \"properties\": {\"vertices\": {\"type\": \"array\", \"items\": {\"type\": \"array\", \"items\": {\"type\": \"float\"}, \"description\": \"A single vertex represented by a 2 element list [x, y].\"}, \"description\": \"The vertices of the polygon, where each vertex is a 2 element list [x, y].\"}}, \"required\": [\"vertices\"]}</td>\n",
              "    </tr>\n",
              "    <tr>\n",
              "      <th>2</th>\n",
              "      <td>I'm currently conducting a physics experiment, and I have this object that weighs 50 kilograms and takes up a space of about 10 cubic meters. Could you help me calculate the density of this object?</td>\n",
              "      <td>calculate_density(mass=50, volume=10)</td>\n",
              "      <td>get_weather_data: Fetches weather data from the Open-Meteo API for the given latitude and longitude. | Parameters: {\"type\": \"dict\", \"properties\": {\"coordinates\": {\"type\": \"array\", \"items\": {\"type\": \"float\"}, \"description\": \"The latitude and longitude of the location.\"}}, \"required\": [\"coordinates\"]}\\ncalc_binomial_probability: Calculates the probability of getting k successes in n trials. | Parameters: {\"type\": \"dict\", \"properties\": {\"n\": {\"type\": \"integer\", \"description\": \"The number of trials.\"}, \"k\": {\"type\": \"integer\", \"description\": \"The number of successes.\"}, \"p\": {\"type\": \"float\", \"description\": \"The probability of success.\"}}, \"required\": [\"n\", \"k\", \"p\"]}\\ncalculate_cosine_similarity: Calculates the cosine similarity of two vectors. | Parameters: {\"type\": \"dict\", \"properties\": {\"vectorA\": {\"type\": \"array\", \"items\": {\"type\": \"float\"}, \"description\": \"The first vector.\"}, \"vectorB\": {\"type\": \"array\", \"items\": {\"type\": \"float\"}, \"description\": \"The second vector.\"}}, \"required\": [\"vectorA\", \"vectorB\"]}\\nget_stock_price_by_stock_name: Finds the price of a stock by its stock name. | Parameters: {\"type\": \"dict\", \"properties\": {\"stock_name\": {\"type\": \"string\", \"description\": \"The stock name of the product, in the format of the stock symbol.\"}}, \"required\": [\"stock_name\"]}\\ncalculate_density: Calculates the density of an object. | Parameters: {\"type\": \"dict\", \"properties\": {\"mass\": {\"type\": \"float\", \"description\": \"The mass of the object, in kilograms.\"}, \"volume\": {\"type\": \"float\", \"description\": \"The volume of the object, in cubic meters.\"}}, \"required\": [\"mass\", \"volume\"]}\\ncalculate_future_value: Calculates the future value of an investment. | Parameters: {\"type\": \"dict\", \"properties\": {\"present_value\": {\"type\": \"float\", \"description\": \"The present value of the investment, in dollars.\"}, \"interest_rate\": {\"type\": \"float\", \"description\": \"The interest rate of the investment, ranging from 0 to 1.\"}, \"periods\": {\"type\": \"integer\", \"description\": \"The number of periods, in years.\"}}, \"required\": [\"present_value\", \"interest_rate\", \"periods\"]}\\nget_rating_by_amazon_ASIN: Finds the rating of a product by its Amazon ASIN. | Parameters: {\"type\": \"dict\", \"properties\": {\"ASIN\": {\"type\": \"string\", \"description\": \"The Amazon ASIN of the product.\"}}, \"required\": [\"ASIN\"]}\\nretrieve_holiday_by_year: Finds the holidays of a year. | Parameters: {\"type\": \"dict\", \"properties\": {\"year\": {\"type\": \"string\", \"description\": \"The year of the holidays.\"}, \"country\": {\"type\": \"string\", \"description\": \"The country of the holidays. Possible options: US, AT, DE, ES, FR, GB, IT, NL, PL, RO, SK, UA.\"}}, \"required\": [\"year\", \"country\"]}\\ncalculate_displacement: Calculates the displacement of an object. | Parameters: {\"type\": \"dict\", \"properties\": {\"initial_velocity\": {\"type\": \"float\", \"description\": \"The initial velocity of the object, in meters per second.\"}, \"acceleration\": {\"type\": \"float\", \"description\": \"The acceleration of the object, in meters per second squared.\"}, \"time\": {\"type\": \"float\", \"description\": \"The time the object has been moving, in seconds.\"}}, \"required\": [\"initial_velocity\", \"acceleration\", \"time\"]}\\nget_zipcode_by_ip_address: Finds the zipcode of an IP address. | Parameters: {\"type\": \"dict\", \"properties\": {\"ip_address\": {\"type\": \"string\", \"description\": \"The IP address to find the location of.\"}}, \"required\": [\"ip_address\"]}\\ncalculate_electrostatic_potential_energy: Calculates the electrostatic potential energy. | Parameters: {\"type\": \"dict\", \"properties\": {\"charge\": {\"type\": \"float\", \"description\": \"The charge of the object, in coulombs.\"}, \"voltage\": {\"type\": \"float\", \"description\": \"The voltage of the object, in volts.\"}}, \"required\": [\"charge\", \"voltage\"]}\\nmortgage_calculator: Calculates the monthly mortgage payment. | Parameters: {\"type\": \"dict\", \"properties\": {\"loan_amount\": {\"type\": \"float\", \"description\": \"The amount of the loan.\"}, \"interest_rate\": {\"type\": \"float\", \"description\": \"The interest rate of the loan, ranging from 0 to 1.\"}, \"loan_period\": {\"type\": \"integer\", \"description\": \"The period of the loan, in years.\"}}, \"required\": [\"loan_amount\", \"interest_rate\", \"loan_period\"]}\\ncalculate_final_velocity: Calculates the final velocity of an object. | Parameters: {\"type\": \"dict\", \"properties\": {\"initial_velocity\": {\"type\": \"float\", \"description\": \"The initial velocity of the object.\"}, \"acceleration\": {\"type\": \"float\", \"description\": \"The acceleration of the object.\"}, \"time\": {\"type\": \"float\", \"description\": \"The time the object has been moving.\"}}, \"required\": [\"initial_velocity\", \"acceleration\", \"time\"]}\\nget_fibonacci_sequence: Calculates the n numbers of the Fibonacci. | Parameters: {\"type\": \"dict\", \"properties\": {\"n\": {\"type\": \"integer\", \"description\": \"The number of Fibonacci numbers to calculate.\"}}, \"required\": [\"n\"]}\\nsort_array: Sorts an array of numbers. | Parameters: {\"type\": \"dict\", \"properties\": {\"array\": {\"type\": \"array\", \"items\": {\"type\": \"float\"}, \"description\": \"The array of numbers.\"}, \"reverse\": {\"type\": \"boolean\", \"description\": \"Whether to sort the array in reverse order, i.e., descending order.\", \"default\": false}}, \"required\": [\"array\"]}\\nget_time_zone_by_coord: Finds the timezone of a coordinate. | Parameters: {\"type\": \"dict\", \"properties\": {\"long\": {\"type\": \"string\", \"description\": \"The longitude of the coordinate.\"}, \"lat\": {\"type\": \"string\", \"description\": \"The latitude of the coordinate.\"}}, \"required\": [\"long\", \"lat\"]}\\ncalculate_mean: Calculates the mean of a list of numbers. | Parameters: {\"type\": \"dict\", \"properties\": {\"numbers\": {\"type\": \"array\", \"items\": {\"type\": \"integer\"}, \"description\": \"The list of numbers.\"}}, \"required\": [\"numbers\"]}\\ncalculate_permutations: Calculates the number of permutations of k elements from a set of n elements. | Parameters: {\"type\": \"dict\", \"properties\": {\"n\": {\"type\": \"integer\", \"description\": \"The number of elements in the set.\"}, \"k\": {\"type\": \"integer\", \"description\": \"The number of elements to choose.\"}}, \"required\": [\"n\", \"k\"]}\\nget_company_name_by_stock_name: Finds the company name of a stock by its stock name. | Parameters: {\"type\": \"dict\", \"properties\": {\"stock_name\": {\"type\": \"string\", \"description\": \"The stock name of the product, in the format of the stock symbol.\"}}, \"required\": [\"stock_name\"]}\\ncalculate_standard_deviation: Calculates the standard deviation of a list of numbers. | Parameters: {\"type\": \"dict\", \"properties\": {\"numbers\": {\"type\": \"array\", \"items\": {\"type\": \"integer\"}, \"description\": \"The list of numbers.\"}}, \"required\": [\"numbers\"]}\\nmath_lcm: Calculates the least common multiple of two numbers. | Parameters: {\"type\": \"dict\", \"properties\": {\"a\": {\"type\": \"integer\", \"description\": \"The first number. This should be the larger number.\"}, \"b\": {\"type\": \"integer\", \"description\": \"The second number.\"}}, \"required\": [\"a\", \"b\"]}\\ncalculate_triangle_area: Calculates the area of a triangle given its base and height. | Parameters: {\"type\": \"dict\", \"properties\": {\"base\": {\"type\": \"integer\", \"description\": \"The base of the triangle, in meters.\"}, \"height\": {\"type\": \"integer\", \"description\": \"The height of the triangle, in meters.\"}}, \"required\": [\"base\", \"height\"]}\\nconvert_currency: Converts a given amount from one currency to another using the ExchangeRate-API. | Parameters: {\"type\": \"dict\", \"properties\": {\"amount\": {\"type\": \"float\", \"description\": \"The amount of money to convert, in the base currency.\"}, \"from_currency\": {\"type\": \"string\", \"description\": \"The ISO currency code for the base currency.\"}, \"to_currency\": {\"type\": \"string\", \"description\": \"The ISO currency code for the target currency.\"}}, \"required\": [\"amount\", \"from_currency\", \"to_currency\"]}\\nget_stock_history: Finds the price of a stock by its stock name. | Parameters: {\"type\": \"dict\", \"properties\": {\"stock_name\": {\"type\": \"string\", \"description\": \"The stock name of the product, in the format of the stock symbol.\"}, \"interval\": {\"type\": \"string\", \"description\": \"The interval of the stock history. Allows one of following : 5m|15m|30m|1h|1d|1wk|1mo|3mo\"}, \"diffandsplits\": {\"type\": \"string\", \"description\": \"The diff and splits of the stock history. Allows one of following : true|false. Default to false\"}}, \"required\": [\"stock_name\", \"interval\"]}\\nmath_gcd: Calculates the greatest common divisor of two numbers. | Parameters: {\"type\": \"dict\", \"properties\": {\"a\": {\"type\": \"integer\", \"description\": \"The first number. This should be the larger number.\"}, \"b\": {\"type\": \"integer\", \"description\": \"The second number.\"}}, \"required\": [\"a\", \"b\"]}\\nestimate_derivative: Estimate the derivative of a function at a given point. | Parameters: {\"type\": \"dict\", \"properties\": {\"function\": {\"type\": \"string\", \"description\": \"The function to calculate the derivative of. This should be the string literal of lambda function\"}, \"x\": {\"type\": \"integer\", \"description\": \"The point to calculate the derivative at.\"}}, \"required\": [\"function\", \"x\"]}\\nfind_term_on_urban_dictionary: Finds the definition of a term on Urban Dictionary. | Parameters: {\"type\": \"dict\", \"properties\": {\"term\": {\"type\": \"string\", \"description\": \"The term to find the definition of.\"}}, \"required\": [\"term\"]}\\nget_distance: Calculates the distance between two 2D points. | Parameters: {\"type\": \"dict\", \"properties\": {\"pointA\": {\"type\": \"tuple\", \"description\": \"The first point.\", \"items\": {\"type\": \"float\"}}, \"pointB\": {\"type\": \"tuple\", \"description\": \"The second point.\", \"items\": {\"type\": \"float\"}}}, \"required\": [\"pointA\", \"pointB\"]}\\ngeometry_area_circle: Calculates the area of a circle. | Parameters: {\"type\": \"dict\", \"properties\": {\"radius\": {\"type\": \"integer\", \"description\": \"The radius of the circle, in feet.\"}}, \"required\": [\"radius\"]}\\nget_covid_death_by_country: Finds the most up to date total deaths of a country result from COVID. | Parameters: {\"type\": \"dict\", \"properties\": {\"country\": {\"type\": \"string\", \"description\": \"The country to find the total deaths of, in the format of the country's full name.\"}}, \"required\": [\"country\"]}\\nget_active_covid_case_by_country: Finds the most up to date active cases of a country result from COVID. | Parameters: {\"type\": \"dict\", \"properties\": {\"country\": {\"type\": \"string\", \"description\": \"The country to find the active cases of, in the format of the country's full name.\"}}, \"required\": [\"country\"]}\\nmat_mul: Multiplies two matrices. | Parameters: {\"type\": \"dict\", \"properties\": {\"matA\": {\"type\": \"array\", \"description\": \"The first matrix.\", \"items\": {\"type\": \"array\", \"items\": {\"type\": \"integer\"}}}, \"matB\": {\"type\": \"array\", \"description\": \"The second matrix.\", \"items\": {\"type\": \"array\", \"items\": {\"type\": \"integer\"}}}}, \"required\": [\"matA\", \"matB\"]}\\nget_coordinate_by_ip_address: Finds the latitude and longitude of an IP address. | Parameters: {\"type\": \"dict\", \"properties\": {\"ip_address\": {\"type\": \"string\", \"description\": \"The IP address to find the location of.\"}}, \"required\": [\"ip_address\"]}\\nget_coordinates_from_city: Fetches the latitude and longitude of a given city name using the Maps.co Geocoding API. | Parameters: {\"type\": \"dict\", \"properties\": {\"city_name\": {\"type\": \"string\", \"description\": \"The name of the city, such as 'Rome'.\"}}, \"required\": [\"city_name\"]}\\nget_product_name_by_amazon_ASIN: Finds the price of a product by its Amazon ASIN. | Parameters: {\"type\": \"dict\", \"properties\": {\"ASIN\": {\"type\": \"string\", \"description\": \"The Amazon ASIN of the product.\"}}, \"required\": [\"ASIN\"]}\\nget_price_by_amazon_ASIN: Finds the price of a product by its Amazon ASIN. | Parameters: {\"type\": \"dict\", \"properties\": {\"ASIN\": {\"type\": \"string\", \"description\": \"The Amazon ASIN of the product.\"}}, \"required\": [\"ASIN\"]}\\nget_prime_factors: Calculates the prime factors of a number. | Parameters: {\"type\": \"dict\", \"properties\": {\"number\": {\"type\": \"integer\", \"description\": \"The number to calculate the prime factors of.\"}}, \"required\": [\"number\"]}\\nretrieve_city_based_on_zipcode: Finds the city of a zipcode. | Parameters: {\"type\": \"dict\", \"properties\": {\"zipcode\": {\"type\": \"string\", \"description\": \"The zipcode of the city.\"}}, \"required\": [\"zipcode\"]}\\nmath_factorial: Calculates the factorial of a number. | Parameters: {\"type\": \"dict\", \"properties\": {\"n\": {\"type\": \"integer\", \"description\": \"The number to calculate the factorial of.\"}}, \"required\": [\"n\"]}\\nquadratic_roots: Calculates the roots of a quadratic equation. | Parameters: {\"type\": \"dict\", \"properties\": {\"a\": {\"type\": \"integer\", \"description\": \"The first coefficient.\"}, \"b\": {\"type\": \"integer\", \"description\": \"The second coefficient.\"}, \"c\": {\"type\": \"integer\", \"description\": \"The third coefficient.\"}}, \"required\": [\"a\", \"b\", \"c\"]}\\nadd_binary_numbers: Adds two binary numbers. | Parameters: {\"type\": \"dict\", \"properties\": {\"a\": {\"type\": \"string\", \"description\": \"The first binary number.\"}, \"b\": {\"type\": \"string\", \"description\": \"The second binary number.\"}}, \"required\": [\"a\", \"b\"]}\\nconvert_binary_to_decimal: Converts a binary number to a decimal number. | Parameters: {\"type\": \"dict\", \"properties\": {\"binary\": {\"type\": \"string\", \"description\": \"The binary number to convert.\"}}, \"required\": [\"binary\"]}\\nconvert_decimal_to_hex: Converts a decimal number to a hexadecimal number. | Parameters: {\"type\": \"dict\", \"properties\": {\"decimal\": {\"type\": \"integer\", \"description\": \"The decimal number to convert.\"}}, \"required\": [\"decimal\"]}\\nlinear_regression: Finds the linear regression of a set of points and evaluates it at a given point. | Parameters: {\"type\": \"dict\", \"properties\": {\"x\": {\"type\": \"array\", \"description\": \"The x coordinates of the points.\", \"items\": {\"type\": \"integer\"}}, \"y\": {\"type\": \"array\", \"description\": \"The y coordinates of the points.\", \"items\": {\"type\": \"integer\"}}, \"point\": {\"type\": \"integer\", \"description\": \"The point to calculate the linear regression at.\"}}, \"required\": [\"x\", \"y\", \"point\"]}\\ncalculate_slope: Calculates the slope of the linear regression line from a set of points. | Parameters: {\"type\": \"dict\", \"properties\": {\"x\": {\"type\": \"array\", \"description\": \"The x coordinates of the points.\", \"items\": {\"type\": \"integer\"}}, \"y\": {\"type\": \"array\", \"description\": \"The y coordinates of the points.\", \"items\": {\"type\": \"integer\"}}}, \"required\": [\"x\", \"y\"]}\\ncalculate_intercept: Calculates the y-intercept of the linear regression line from a set of points and a given slope. | Parameters: {\"type\": \"dict\", \"properties\": {\"x\": {\"type\": \"array\", \"description\": \"The x coordinates of the points.\", \"items\": {\"type\": \"integer\"}}, \"y\": {\"type\": \"array\", \"description\": \"The y coordinates of the points.\", \"items\": {\"type\": \"integer\"}}, \"slope\": {\"type\": \"integer\", \"description\": \"The slope of the linear regression line.\"}}, \"required\": [\"x\", \"y\", \"slope\"]}\\npredict_value: Predicts the value of y given the slope, intercept, and an x value. | Parameters: {\"type\": \"dict\", \"properties\": {\"slope\": {\"type\": \"integer\", \"description\": \"The slope of the linear regression line.\"}, \"intercept\": {\"type\": \"integer\", \"description\": \"The y-intercept of the linear regression line.\"}, \"x\": {\"type\": \"integer\", \"description\": \"The x value to predict the y for.\"}}, \"required\": [\"slope\", \"intercept\", \"x\"]}\\ncalculate_investment_value: Calculates the value of an investment over time. | Parameters: {\"type\": \"dict\", \"properties\": {\"initial_investment\": {\"type\": \"integer\", \"description\": \"The initial investment amount.\"}, \"annual_contribution\": {\"type\": \"integer\", \"description\": \"The annual contribution amount.\"}, \"years\": {\"type\": \"integer\", \"description\": \"The number of years to calculate the investment value for.\"}, \"annual_return\": {\"type\": \"float\", \"description\": \"The annual return rate, ranging from 0 to 1.\"}, \"inflation_rate\": {\"type\": \"array\", \"items\": {\"type\": \"float\"}, \"description\": \"The inflation rate for each year in percentage, ranging from 0 to 1.\"}, \"adjust_for_inflation\": {\"type\": \"boolean\", \"default\": true, \"description\": \"Whether to adjust the investment value for inflation.\"}}, \"required\": [\"initial_investment\", \"annual_contribution\", \"years\", \"annual_return\", \"inflation_rate\"]}\\ncompound_interest: Calculates compound interest over time. | Parameters: {\"type\": \"dict\", \"properties\": {\"principal\": {\"type\": \"integer\", \"description\": \"The principal amount.\"}, \"rate\": {\"type\": \"float\", \"description\": \"The annual interest rate.\"}, \"times_compounded\": {\"type\": \"integer\", \"description\": \"The number of times the interest is compounded per year.\"}, \"years\": {\"type\": \"integer\", \"description\": \"The number of years to calculate the compound interest for.\"}}, \"required\": [\"principal\", \"rate\", \"times_compounded\", \"years\"]}\\ninflation_adjustment: Adjusts an amount for inflation. | Parameters: {\"type\": \"dict\", \"properties\": {\"amount\": {\"type\": \"float\", \"description\": \"The amount to adjust for inflation.\"}, \"inflation_rate\": {\"type\": \"float\", \"description\": \"The annual inflation float.\"}, \"years\": {\"type\": \"integer\", \"description\": \"The number of years to adjust for inflation.\"}}, \"required\": [\"amount\", \"inflation_rate\", \"years\"]}\\nadjust_for_inflation: Adjusts the investment value for inflation for each year. | Parameters: {\"type\": \"dict\", \"properties\": {\"investment_value\": {\"type\": \"float\", \"description\": \"The value of the investment to adjust.\"}, \"inflation_rates\": {\"type\": \"array\", \"items\": {\"type\": \"float\"}, \"description\": \"The inflation rates for each year.\"}}, \"required\": [\"investment_value\", \"inflation_rates\"]}\\ncalculate_basal_metabolic_rate: Calculates the Basal Metabolic Rate (BMR) of a person. | Parameters: {\"type\": \"dict\", \"properties\": {\"weight\": {\"type\": \"float\", \"description\": \"The weight of the person in kilograms.\"}, \"height\": {\"type\": \"float\", \"description\": \"The height of the person in centimeters.\"}, \"age\": {\"type\": \"float\", \"description\": \"The age of the person in years.\"}, \"gender\": {\"type\": \"string\", \"description\": \"The gender of the person. Possible options [male, female, other].\"}}, \"required\": [\"weight\", \"height\", \"age\", \"gender\"]}\\ncalculate_daily_energy_expenditure: Calculates the daily energy expenditure based on BMR and activity level. | Parameters: {\"type\": \"dict\", \"properties\": {\"basal_metabolic_rate\": {\"type\": \"float\", \"description\": \"The BMR of the person.\"}, \"activity_level\": {\"type\": \"float\", \"description\": \"The activity level of the person. Possible options [1,2,3,4,5].\"}}, \"required\": [\"basal_metabolic_rate\", \"activity_level\"]}\\ncalculate_nutritional_needs: Calculates the nutritional needs of a person based on their weight, height, age, gender, activity level, and goal. | Parameters: {\"type\": \"dict\", \"properties\": {\"weight\": {\"type\": \"float\", \"description\": \"The weight of the person in kilograms.\"}, \"height\": {\"type\": \"float\", \"description\": \"The height of the person in centimeters.\"}, \"age\": {\"type\": \"float\", \"description\": \"The age of the person in years.\"}, \"gender\": {\"type\": \"string\", \"description\": \"The gender of the person. Possible options [male, female, other].\"}, \"activity_level\": {\"type\": \"float\", \"description\": \"The activity level of the person. Possible options [1,2,3,4,5].\"}, \"goal\": {\"type\": \"string\", \"description\": \"The goal of the person. Possible options [lose, gain, maintain].\"}}, \"required\": [\"weight\", \"height\", \"age\", \"gender\", \"activity_level\", \"goal\"]}\\nbook_room: Books a room for a customer. | Parameters: {\"type\": \"dict\", \"properties\": {\"room_type\": {\"type\": \"dict\", \"description\": \"The room type to book.\"}, \"check_in_date\": {\"type\": \"string\", \"description\": \"The check-in date in format of MM-DD-YYYY.\"}, \"check_out_date\": {\"type\": \"string\", \"description\": \"The check-out date in format of MM-DD-YYYY.\"}, \"customer_id\": {\"type\": \"string\", \"description\": \"The customer ID.\"}, \"discount_code\": {\"type\": \"string\", \"description\": \"The discount code (if any).\", \"default\": null}}, \"required\": [\"room_type\", \"check_in_date\", \"check_out_date\", \"customer_id\"]}\\ncalculate_total_price: Calculates the total price of the room booking. | Parameters: {\"type\": \"dict\", \"properties\": {\"room_price\": {\"type\": \"float\", \"description\": \"The price per night of the room.\"}, \"nights\": {\"type\": \"integer\", \"description\": \"The number of nights for the booking.\"}, \"discount\": {\"type\": \"float\", \"description\": \"The discount amount (if any).\", \"default\": 0}}, \"required\": [\"room_price\", \"nights\"]}\\nconfirm_booking: Confirms the room booking and sends a confirmation to the customer. | Parameters: {\"type\": \"dict\", \"properties\": {\"customer_id\": {\"type\": \"string\", \"description\": \"The customer ID.\"}, \"room_number\": {\"type\": \"string\", \"description\": \"The room number assigned to the booking.\"}, \"total_price\": {\"type\": \"float\", \"description\": \"The total price for the booking.\"}}, \"required\": [\"customer_id\", \"room_number\", \"total_price\"]}\\norder_food: Orders food for a customer. Return the total price. | Parameters: {\"type\": \"dict\", \"properties\": {\"item\": {\"type\": \"array\", \"items\": {\"type\": \"string\"}, \"description\": \"the name of the product.\"}, \"quantity\": {\"type\": \"array\", \"items\": {\"type\": \"integer\"}, \"description\": \"the number of the product purchased.\"}, \"price\": {\"type\": \"array\", \"items\": {\"type\": \"float\"}, \"description\": \"the price of the product.\"}}, \"required\": [\"item\", \"quantity\", \"price\"]}\\ncalculate_total: Calculates the total price of an order given the quantities and prices. | Parameters: {\"type\": \"dict\", \"properties\": {\"quantities\": {\"type\": \"array\", \"items\": {\"type\": \"integer\"}, \"description\": \"The quantities of each product.\"}, \"prices\": {\"type\": \"array\", \"items\": {\"type\": \"float\"}, \"description\": \"The price of each product.\"}}, \"required\": [\"quantities\", \"prices\"]}\\napply_discount: Applies a discount to the total price. | Parameters: {\"type\": \"dict\", \"properties\": {\"total\": {\"type\": \"float\", \"description\": \"The original total price.\"}, \"discount\": {\"type\": \"float\", \"description\": \"The discount percentage to apply.\"}}, \"required\": [\"total\", \"discount\"]}\\nget_movie_director: Fetches the director of a movie from the OMDB API. | Parameters: {\"type\": \"dict\", \"properties\": {\"movie_name\": {\"type\": \"string\", \"description\": \"The name of the movie.\"}}, \"required\": [\"movie_name\"]}\\ncalculate_interest_rate: Calculates the interest rate for a given principal, rate, and time. | Parameters: {\"type\": \"dict\", \"properties\": {\"principal\": {\"type\": \"float\", \"description\": \"The initial amount of money.\"}, \"rate\": {\"type\": \"float\", \"description\": \"The interest rate per period.\"}, \"time\": {\"type\": \"float\", \"description\": \"The time the money is invested or borrowed for.\"}}, \"required\": [\"principal\", \"rate\", \"time\"]}\\nconvert_temperature: Converts temperature from Celsius to Fahrenheit or vice versa. | Parameters: {\"type\": \"dict\", \"properties\": {\"temperature\": {\"type\": \"float\", \"description\": \"The temperature to convert.\"}, \"unit_from\": {\"type\": \"string\", \"description\": \"The current unit of the temperature (Celsius or Fahrenheit).\"}, \"unit_to\": {\"type\": \"string\", \"description\": \"The unit to convert the temperature to (Celsius or Fahrenheit).\"}}, \"required\": [\"temperature\", \"unit_from\", \"unit_to\"]}\\ngenerate_random_number: Generates a random number within a specified range. | Parameters: {\"type\": \"dict\", \"properties\": {\"min\": {\"type\": \"integer\", \"description\": \"The minimum value of the range.\"}, \"max\": {\"type\": \"integer\", \"description\": \"The maximum value of the range.\"}}, \"required\": [\"min\", \"max\"]}\\nget_movie_rating: Fetches the age rating of a movie from the OMDB API. | Parameters: {\"type\": \"dict\", \"properties\": {\"movie_name\": {\"type\": \"string\", \"description\": \"The name of the movie.\"}}, \"required\": [\"movie_name\"]}\\nget_movie_genre: Retrieves the genre of a movie from the OMDB API. | Parameters: {\"type\": \"dict\", \"properties\": {\"movie_name\": {\"type\": \"string\", \"description\": \"The name of the movie to retrieve the genre for.\"}}, \"required\": [\"movie_name\"]}\\nget_director_by_movie_name: Gets the director of a movie. | Parameters: {\"type\": \"dict\", \"properties\": {\"movie_name\": {\"type\": \"string\", \"description\": \"The movie to find the director of.\"}}, \"required\": [\"movie_name\"]}\\nconvert_coordinates: Converts a list of tuples into a list of lists. | Parameters: {\"type\": \"dict\", \"properties\": {\"coordinates\": {\"type\": \"array\", \"items\": {\"type\": \"tuple\", \"items\": {\"type\": \"float\"}, \"description\": \"A single coordinate represented by a tuple (x, y).\"}, \"description\": \"The coordinates to be converted, where each coordinate is a tuple (x, y).\"}}, \"required\": [\"coordinates\"]}\\npolygon_area: Calculate the area of a polygon given its vertices using the shoelace formula. | Parameters: {\"type\": \"dict\", \"properties\": {\"vertices\": {\"type\": \"array\", \"items\": {\"type\": \"array\", \"items\": {\"type\": \"float\"}, \"minItems\": 2, \"maxItems\": 2, \"description\": \"A single vertex represented by a 2 element list [x, y].\"}, \"description\": \"The vertices of the polygon, where each vertex is a 2 element list [x, y].\"}}, \"required\": [\"vertices\"]}\\nvalidate_polygon: Checks if the given vertices form a valid polygon. | Parameters: {\"type\": \"dict\", \"properties\": {\"vertices\": {\"type\": \"array\", \"items\": {\"type\": \"array\", \"items\": {\"type\": \"float\"}, \"description\": \"A single vertex represented by a 2 element list [x, y].\"}, \"description\": \"The vertices of the polygon, where each vertex is a 2 element list [x, y].\"}}, \"required\": [\"vertices\"]}</td>\n",
              "    </tr>\n",
              "    <tr>\n",
              "      <th>3</th>\n",
              "      <td>I'm working on a physics experiment where we're tracking the movement of a special object. It starts off at 15 m/s, and we're accelerating it at a rate of 9.8 m/s². I need to calculate how far it will have traveled after 10 seconds. Can you crunch those numbers for me?</td>\n",
              "      <td>calculate_displacement(initial_velocity=15.0, acceleration=9.8, time=10)</td>\n",
              "      <td>get_weather_data: Fetches weather data from the Open-Meteo API for the given latitude and longitude. | Parameters: {\"type\": \"dict\", \"properties\": {\"coordinates\": {\"type\": \"array\", \"items\": {\"type\": \"float\"}, \"description\": \"The latitude and longitude of the location.\"}}, \"required\": [\"coordinates\"]}\\ncalc_binomial_probability: Calculates the probability of getting k successes in n trials. | Parameters: {\"type\": \"dict\", \"properties\": {\"n\": {\"type\": \"integer\", \"description\": \"The number of trials.\"}, \"k\": {\"type\": \"integer\", \"description\": \"The number of successes.\"}, \"p\": {\"type\": \"float\", \"description\": \"The probability of success.\"}}, \"required\": [\"n\", \"k\", \"p\"]}\\ncalculate_cosine_similarity: Calculates the cosine similarity of two vectors. | Parameters: {\"type\": \"dict\", \"properties\": {\"vectorA\": {\"type\": \"array\", \"items\": {\"type\": \"float\"}, \"description\": \"The first vector.\"}, \"vectorB\": {\"type\": \"array\", \"items\": {\"type\": \"float\"}, \"description\": \"The second vector.\"}}, \"required\": [\"vectorA\", \"vectorB\"]}\\nget_stock_price_by_stock_name: Finds the price of a stock by its stock name. | Parameters: {\"type\": \"dict\", \"properties\": {\"stock_name\": {\"type\": \"string\", \"description\": \"The stock name of the product, in the format of the stock symbol.\"}}, \"required\": [\"stock_name\"]}\\ncalculate_density: Calculates the density of an object. | Parameters: {\"type\": \"dict\", \"properties\": {\"mass\": {\"type\": \"float\", \"description\": \"The mass of the object, in kilograms.\"}, \"volume\": {\"type\": \"float\", \"description\": \"The volume of the object, in cubic meters.\"}}, \"required\": [\"mass\", \"volume\"]}\\ncalculate_future_value: Calculates the future value of an investment. | Parameters: {\"type\": \"dict\", \"properties\": {\"present_value\": {\"type\": \"float\", \"description\": \"The present value of the investment, in dollars.\"}, \"interest_rate\": {\"type\": \"float\", \"description\": \"The interest rate of the investment, ranging from 0 to 1.\"}, \"periods\": {\"type\": \"integer\", \"description\": \"The number of periods, in years.\"}}, \"required\": [\"present_value\", \"interest_rate\", \"periods\"]}\\nget_rating_by_amazon_ASIN: Finds the rating of a product by its Amazon ASIN. | Parameters: {\"type\": \"dict\", \"properties\": {\"ASIN\": {\"type\": \"string\", \"description\": \"The Amazon ASIN of the product.\"}}, \"required\": [\"ASIN\"]}\\nretrieve_holiday_by_year: Finds the holidays of a year. | Parameters: {\"type\": \"dict\", \"properties\": {\"year\": {\"type\": \"string\", \"description\": \"The year of the holidays.\"}, \"country\": {\"type\": \"string\", \"description\": \"The country of the holidays. Possible options: US, AT, DE, ES, FR, GB, IT, NL, PL, RO, SK, UA.\"}}, \"required\": [\"year\", \"country\"]}\\ncalculate_displacement: Calculates the displacement of an object. | Parameters: {\"type\": \"dict\", \"properties\": {\"initial_velocity\": {\"type\": \"float\", \"description\": \"The initial velocity of the object, in meters per second.\"}, \"acceleration\": {\"type\": \"float\", \"description\": \"The acceleration of the object, in meters per second squared.\"}, \"time\": {\"type\": \"float\", \"description\": \"The time the object has been moving, in seconds.\"}}, \"required\": [\"initial_velocity\", \"acceleration\", \"time\"]}\\nget_zipcode_by_ip_address: Finds the zipcode of an IP address. | Parameters: {\"type\": \"dict\", \"properties\": {\"ip_address\": {\"type\": \"string\", \"description\": \"The IP address to find the location of.\"}}, \"required\": [\"ip_address\"]}\\ncalculate_electrostatic_potential_energy: Calculates the electrostatic potential energy. | Parameters: {\"type\": \"dict\", \"properties\": {\"charge\": {\"type\": \"float\", \"description\": \"The charge of the object, in coulombs.\"}, \"voltage\": {\"type\": \"float\", \"description\": \"The voltage of the object, in volts.\"}}, \"required\": [\"charge\", \"voltage\"]}\\nmortgage_calculator: Calculates the monthly mortgage payment. | Parameters: {\"type\": \"dict\", \"properties\": {\"loan_amount\": {\"type\": \"float\", \"description\": \"The amount of the loan.\"}, \"interest_rate\": {\"type\": \"float\", \"description\": \"The interest rate of the loan, ranging from 0 to 1.\"}, \"loan_period\": {\"type\": \"integer\", \"description\": \"The period of the loan, in years.\"}}, \"required\": [\"loan_amount\", \"interest_rate\", \"loan_period\"]}\\ncalculate_final_velocity: Calculates the final velocity of an object. | Parameters: {\"type\": \"dict\", \"properties\": {\"initial_velocity\": {\"type\": \"float\", \"description\": \"The initial velocity of the object.\"}, \"acceleration\": {\"type\": \"float\", \"description\": \"The acceleration of the object.\"}, \"time\": {\"type\": \"float\", \"description\": \"The time the object has been moving.\"}}, \"required\": [\"initial_velocity\", \"acceleration\", \"time\"]}\\nget_fibonacci_sequence: Calculates the n numbers of the Fibonacci. | Parameters: {\"type\": \"dict\", \"properties\": {\"n\": {\"type\": \"integer\", \"description\": \"The number of Fibonacci numbers to calculate.\"}}, \"required\": [\"n\"]}\\nsort_array: Sorts an array of numbers. | Parameters: {\"type\": \"dict\", \"properties\": {\"array\": {\"type\": \"array\", \"items\": {\"type\": \"float\"}, \"description\": \"The array of numbers.\"}, \"reverse\": {\"type\": \"boolean\", \"description\": \"Whether to sort the array in reverse order, i.e., descending order.\", \"default\": false}}, \"required\": [\"array\"]}\\nget_time_zone_by_coord: Finds the timezone of a coordinate. | Parameters: {\"type\": \"dict\", \"properties\": {\"long\": {\"type\": \"string\", \"description\": \"The longitude of the coordinate.\"}, \"lat\": {\"type\": \"string\", \"description\": \"The latitude of the coordinate.\"}}, \"required\": [\"long\", \"lat\"]}\\ncalculate_mean: Calculates the mean of a list of numbers. | Parameters: {\"type\": \"dict\", \"properties\": {\"numbers\": {\"type\": \"array\", \"items\": {\"type\": \"integer\"}, \"description\": \"The list of numbers.\"}}, \"required\": [\"numbers\"]}\\ncalculate_permutations: Calculates the number of permutations of k elements from a set of n elements. | Parameters: {\"type\": \"dict\", \"properties\": {\"n\": {\"type\": \"integer\", \"description\": \"The number of elements in the set.\"}, \"k\": {\"type\": \"integer\", \"description\": \"The number of elements to choose.\"}}, \"required\": [\"n\", \"k\"]}\\nget_company_name_by_stock_name: Finds the company name of a stock by its stock name. | Parameters: {\"type\": \"dict\", \"properties\": {\"stock_name\": {\"type\": \"string\", \"description\": \"The stock name of the product, in the format of the stock symbol.\"}}, \"required\": [\"stock_name\"]}\\ncalculate_standard_deviation: Calculates the standard deviation of a list of numbers. | Parameters: {\"type\": \"dict\", \"properties\": {\"numbers\": {\"type\": \"array\", \"items\": {\"type\": \"integer\"}, \"description\": \"The list of numbers.\"}}, \"required\": [\"numbers\"]}\\nmath_lcm: Calculates the least common multiple of two numbers. | Parameters: {\"type\": \"dict\", \"properties\": {\"a\": {\"type\": \"integer\", \"description\": \"The first number. This should be the larger number.\"}, \"b\": {\"type\": \"integer\", \"description\": \"The second number.\"}}, \"required\": [\"a\", \"b\"]}\\ncalculate_triangle_area: Calculates the area of a triangle given its base and height. | Parameters: {\"type\": \"dict\", \"properties\": {\"base\": {\"type\": \"integer\", \"description\": \"The base of the triangle, in meters.\"}, \"height\": {\"type\": \"integer\", \"description\": \"The height of the triangle, in meters.\"}}, \"required\": [\"base\", \"height\"]}\\nconvert_currency: Converts a given amount from one currency to another using the ExchangeRate-API. | Parameters: {\"type\": \"dict\", \"properties\": {\"amount\": {\"type\": \"float\", \"description\": \"The amount of money to convert, in the base currency.\"}, \"from_currency\": {\"type\": \"string\", \"description\": \"The ISO currency code for the base currency.\"}, \"to_currency\": {\"type\": \"string\", \"description\": \"The ISO currency code for the target currency.\"}}, \"required\": [\"amount\", \"from_currency\", \"to_currency\"]}\\nget_stock_history: Finds the price of a stock by its stock name. | Parameters: {\"type\": \"dict\", \"properties\": {\"stock_name\": {\"type\": \"string\", \"description\": \"The stock name of the product, in the format of the stock symbol.\"}, \"interval\": {\"type\": \"string\", \"description\": \"The interval of the stock history. Allows one of following : 5m|15m|30m|1h|1d|1wk|1mo|3mo\"}, \"diffandsplits\": {\"type\": \"string\", \"description\": \"The diff and splits of the stock history. Allows one of following : true|false. Default to false\"}}, \"required\": [\"stock_name\", \"interval\"]}\\nmath_gcd: Calculates the greatest common divisor of two numbers. | Parameters: {\"type\": \"dict\", \"properties\": {\"a\": {\"type\": \"integer\", \"description\": \"The first number. This should be the larger number.\"}, \"b\": {\"type\": \"integer\", \"description\": \"The second number.\"}}, \"required\": [\"a\", \"b\"]}\\nestimate_derivative: Estimate the derivative of a function at a given point. | Parameters: {\"type\": \"dict\", \"properties\": {\"function\": {\"type\": \"string\", \"description\": \"The function to calculate the derivative of. This should be the string literal of lambda function\"}, \"x\": {\"type\": \"integer\", \"description\": \"The point to calculate the derivative at.\"}}, \"required\": [\"function\", \"x\"]}\\nfind_term_on_urban_dictionary: Finds the definition of a term on Urban Dictionary. | Parameters: {\"type\": \"dict\", \"properties\": {\"term\": {\"type\": \"string\", \"description\": \"The term to find the definition of.\"}}, \"required\": [\"term\"]}\\nget_distance: Calculates the distance between two 2D points. | Parameters: {\"type\": \"dict\", \"properties\": {\"pointA\": {\"type\": \"tuple\", \"description\": \"The first point.\", \"items\": {\"type\": \"float\"}}, \"pointB\": {\"type\": \"tuple\", \"description\": \"The second point.\", \"items\": {\"type\": \"float\"}}}, \"required\": [\"pointA\", \"pointB\"]}\\ngeometry_area_circle: Calculates the area of a circle. | Parameters: {\"type\": \"dict\", \"properties\": {\"radius\": {\"type\": \"integer\", \"description\": \"The radius of the circle, in feet.\"}}, \"required\": [\"radius\"]}\\nget_covid_death_by_country: Finds the most up to date total deaths of a country result from COVID. | Parameters: {\"type\": \"dict\", \"properties\": {\"country\": {\"type\": \"string\", \"description\": \"The country to find the total deaths of, in the format of the country's full name.\"}}, \"required\": [\"country\"]}\\nget_active_covid_case_by_country: Finds the most up to date active cases of a country result from COVID. | Parameters: {\"type\": \"dict\", \"properties\": {\"country\": {\"type\": \"string\", \"description\": \"The country to find the active cases of, in the format of the country's full name.\"}}, \"required\": [\"country\"]}\\nmat_mul: Multiplies two matrices. | Parameters: {\"type\": \"dict\", \"properties\": {\"matA\": {\"type\": \"array\", \"description\": \"The first matrix.\", \"items\": {\"type\": \"array\", \"items\": {\"type\": \"integer\"}}}, \"matB\": {\"type\": \"array\", \"description\": \"The second matrix.\", \"items\": {\"type\": \"array\", \"items\": {\"type\": \"integer\"}}}}, \"required\": [\"matA\", \"matB\"]}\\nget_coordinate_by_ip_address: Finds the latitude and longitude of an IP address. | Parameters: {\"type\": \"dict\", \"properties\": {\"ip_address\": {\"type\": \"string\", \"description\": \"The IP address to find the location of.\"}}, \"required\": [\"ip_address\"]}\\nget_coordinates_from_city: Fetches the latitude and longitude of a given city name using the Maps.co Geocoding API. | Parameters: {\"type\": \"dict\", \"properties\": {\"city_name\": {\"type\": \"string\", \"description\": \"The name of the city, such as 'Rome'.\"}}, \"required\": [\"city_name\"]}\\nget_product_name_by_amazon_ASIN: Finds the price of a product by its Amazon ASIN. | Parameters: {\"type\": \"dict\", \"properties\": {\"ASIN\": {\"type\": \"string\", \"description\": \"The Amazon ASIN of the product.\"}}, \"required\": [\"ASIN\"]}\\nget_price_by_amazon_ASIN: Finds the price of a product by its Amazon ASIN. | Parameters: {\"type\": \"dict\", \"properties\": {\"ASIN\": {\"type\": \"string\", \"description\": \"The Amazon ASIN of the product.\"}}, \"required\": [\"ASIN\"]}\\nget_prime_factors: Calculates the prime factors of a number. | Parameters: {\"type\": \"dict\", \"properties\": {\"number\": {\"type\": \"integer\", \"description\": \"The number to calculate the prime factors of.\"}}, \"required\": [\"number\"]}\\nretrieve_city_based_on_zipcode: Finds the city of a zipcode. | Parameters: {\"type\": \"dict\", \"properties\": {\"zipcode\": {\"type\": \"string\", \"description\": \"The zipcode of the city.\"}}, \"required\": [\"zipcode\"]}\\nmath_factorial: Calculates the factorial of a number. | Parameters: {\"type\": \"dict\", \"properties\": {\"n\": {\"type\": \"integer\", \"description\": \"The number to calculate the factorial of.\"}}, \"required\": [\"n\"]}\\nquadratic_roots: Calculates the roots of a quadratic equation. | Parameters: {\"type\": \"dict\", \"properties\": {\"a\": {\"type\": \"integer\", \"description\": \"The first coefficient.\"}, \"b\": {\"type\": \"integer\", \"description\": \"The second coefficient.\"}, \"c\": {\"type\": \"integer\", \"description\": \"The third coefficient.\"}}, \"required\": [\"a\", \"b\", \"c\"]}\\nadd_binary_numbers: Adds two binary numbers. | Parameters: {\"type\": \"dict\", \"properties\": {\"a\": {\"type\": \"string\", \"description\": \"The first binary number.\"}, \"b\": {\"type\": \"string\", \"description\": \"The second binary number.\"}}, \"required\": [\"a\", \"b\"]}\\nconvert_binary_to_decimal: Converts a binary number to a decimal number. | Parameters: {\"type\": \"dict\", \"properties\": {\"binary\": {\"type\": \"string\", \"description\": \"The binary number to convert.\"}}, \"required\": [\"binary\"]}\\nconvert_decimal_to_hex: Converts a decimal number to a hexadecimal number. | Parameters: {\"type\": \"dict\", \"properties\": {\"decimal\": {\"type\": \"integer\", \"description\": \"The decimal number to convert.\"}}, \"required\": [\"decimal\"]}\\nlinear_regression: Finds the linear regression of a set of points and evaluates it at a given point. | Parameters: {\"type\": \"dict\", \"properties\": {\"x\": {\"type\": \"array\", \"description\": \"The x coordinates of the points.\", \"items\": {\"type\": \"integer\"}}, \"y\": {\"type\": \"array\", \"description\": \"The y coordinates of the points.\", \"items\": {\"type\": \"integer\"}}, \"point\": {\"type\": \"integer\", \"description\": \"The point to calculate the linear regression at.\"}}, \"required\": [\"x\", \"y\", \"point\"]}\\ncalculate_slope: Calculates the slope of the linear regression line from a set of points. | Parameters: {\"type\": \"dict\", \"properties\": {\"x\": {\"type\": \"array\", \"description\": \"The x coordinates of the points.\", \"items\": {\"type\": \"integer\"}}, \"y\": {\"type\": \"array\", \"description\": \"The y coordinates of the points.\", \"items\": {\"type\": \"integer\"}}}, \"required\": [\"x\", \"y\"]}\\ncalculate_intercept: Calculates the y-intercept of the linear regression line from a set of points and a given slope. | Parameters: {\"type\": \"dict\", \"properties\": {\"x\": {\"type\": \"array\", \"description\": \"The x coordinates of the points.\", \"items\": {\"type\": \"integer\"}}, \"y\": {\"type\": \"array\", \"description\": \"The y coordinates of the points.\", \"items\": {\"type\": \"integer\"}}, \"slope\": {\"type\": \"integer\", \"description\": \"The slope of the linear regression line.\"}}, \"required\": [\"x\", \"y\", \"slope\"]}\\npredict_value: Predicts the value of y given the slope, intercept, and an x value. | Parameters: {\"type\": \"dict\", \"properties\": {\"slope\": {\"type\": \"integer\", \"description\": \"The slope of the linear regression line.\"}, \"intercept\": {\"type\": \"integer\", \"description\": \"The y-intercept of the linear regression line.\"}, \"x\": {\"type\": \"integer\", \"description\": \"The x value to predict the y for.\"}}, \"required\": [\"slope\", \"intercept\", \"x\"]}\\ncalculate_investment_value: Calculates the value of an investment over time. | Parameters: {\"type\": \"dict\", \"properties\": {\"initial_investment\": {\"type\": \"integer\", \"description\": \"The initial investment amount.\"}, \"annual_contribution\": {\"type\": \"integer\", \"description\": \"The annual contribution amount.\"}, \"years\": {\"type\": \"integer\", \"description\": \"The number of years to calculate the investment value for.\"}, \"annual_return\": {\"type\": \"float\", \"description\": \"The annual return rate, ranging from 0 to 1.\"}, \"inflation_rate\": {\"type\": \"array\", \"items\": {\"type\": \"float\"}, \"description\": \"The inflation rate for each year in percentage, ranging from 0 to 1.\"}, \"adjust_for_inflation\": {\"type\": \"boolean\", \"default\": true, \"description\": \"Whether to adjust the investment value for inflation.\"}}, \"required\": [\"initial_investment\", \"annual_contribution\", \"years\", \"annual_return\", \"inflation_rate\"]}\\ncompound_interest: Calculates compound interest over time. | Parameters: {\"type\": \"dict\", \"properties\": {\"principal\": {\"type\": \"integer\", \"description\": \"The principal amount.\"}, \"rate\": {\"type\": \"float\", \"description\": \"The annual interest rate.\"}, \"times_compounded\": {\"type\": \"integer\", \"description\": \"The number of times the interest is compounded per year.\"}, \"years\": {\"type\": \"integer\", \"description\": \"The number of years to calculate the compound interest for.\"}}, \"required\": [\"principal\", \"rate\", \"times_compounded\", \"years\"]}\\ninflation_adjustment: Adjusts an amount for inflation. | Parameters: {\"type\": \"dict\", \"properties\": {\"amount\": {\"type\": \"float\", \"description\": \"The amount to adjust for inflation.\"}, \"inflation_rate\": {\"type\": \"float\", \"description\": \"The annual inflation float.\"}, \"years\": {\"type\": \"integer\", \"description\": \"The number of years to adjust for inflation.\"}}, \"required\": [\"amount\", \"inflation_rate\", \"years\"]}\\nadjust_for_inflation: Adjusts the investment value for inflation for each year. | Parameters: {\"type\": \"dict\", \"properties\": {\"investment_value\": {\"type\": \"float\", \"description\": \"The value of the investment to adjust.\"}, \"inflation_rates\": {\"type\": \"array\", \"items\": {\"type\": \"float\"}, \"description\": \"The inflation rates for each year.\"}}, \"required\": [\"investment_value\", \"inflation_rates\"]}\\ncalculate_basal_metabolic_rate: Calculates the Basal Metabolic Rate (BMR) of a person. | Parameters: {\"type\": \"dict\", \"properties\": {\"weight\": {\"type\": \"float\", \"description\": \"The weight of the person in kilograms.\"}, \"height\": {\"type\": \"float\", \"description\": \"The height of the person in centimeters.\"}, \"age\": {\"type\": \"float\", \"description\": \"The age of the person in years.\"}, \"gender\": {\"type\": \"string\", \"description\": \"The gender of the person. Possible options [male, female, other].\"}}, \"required\": [\"weight\", \"height\", \"age\", \"gender\"]}\\ncalculate_daily_energy_expenditure: Calculates the daily energy expenditure based on BMR and activity level. | Parameters: {\"type\": \"dict\", \"properties\": {\"basal_metabolic_rate\": {\"type\": \"float\", \"description\": \"The BMR of the person.\"}, \"activity_level\": {\"type\": \"float\", \"description\": \"The activity level of the person. Possible options [1,2,3,4,5].\"}}, \"required\": [\"basal_metabolic_rate\", \"activity_level\"]}\\ncalculate_nutritional_needs: Calculates the nutritional needs of a person based on their weight, height, age, gender, activity level, and goal. | Parameters: {\"type\": \"dict\", \"properties\": {\"weight\": {\"type\": \"float\", \"description\": \"The weight of the person in kilograms.\"}, \"height\": {\"type\": \"float\", \"description\": \"The height of the person in centimeters.\"}, \"age\": {\"type\": \"float\", \"description\": \"The age of the person in years.\"}, \"gender\": {\"type\": \"string\", \"description\": \"The gender of the person. Possible options [male, female, other].\"}, \"activity_level\": {\"type\": \"float\", \"description\": \"The activity level of the person. Possible options [1,2,3,4,5].\"}, \"goal\": {\"type\": \"string\", \"description\": \"The goal of the person. Possible options [lose, gain, maintain].\"}}, \"required\": [\"weight\", \"height\", \"age\", \"gender\", \"activity_level\", \"goal\"]}\\nbook_room: Books a room for a customer. | Parameters: {\"type\": \"dict\", \"properties\": {\"room_type\": {\"type\": \"dict\", \"description\": \"The room type to book.\"}, \"check_in_date\": {\"type\": \"string\", \"description\": \"The check-in date in format of MM-DD-YYYY.\"}, \"check_out_date\": {\"type\": \"string\", \"description\": \"The check-out date in format of MM-DD-YYYY.\"}, \"customer_id\": {\"type\": \"string\", \"description\": \"The customer ID.\"}, \"discount_code\": {\"type\": \"string\", \"description\": \"The discount code (if any).\", \"default\": null}}, \"required\": [\"room_type\", \"check_in_date\", \"check_out_date\", \"customer_id\"]}\\ncalculate_total_price: Calculates the total price of the room booking. | Parameters: {\"type\": \"dict\", \"properties\": {\"room_price\": {\"type\": \"float\", \"description\": \"The price per night of the room.\"}, \"nights\": {\"type\": \"integer\", \"description\": \"The number of nights for the booking.\"}, \"discount\": {\"type\": \"float\", \"description\": \"The discount amount (if any).\", \"default\": 0}}, \"required\": [\"room_price\", \"nights\"]}\\nconfirm_booking: Confirms the room booking and sends a confirmation to the customer. | Parameters: {\"type\": \"dict\", \"properties\": {\"customer_id\": {\"type\": \"string\", \"description\": \"The customer ID.\"}, \"room_number\": {\"type\": \"string\", \"description\": \"The room number assigned to the booking.\"}, \"total_price\": {\"type\": \"float\", \"description\": \"The total price for the booking.\"}}, \"required\": [\"customer_id\", \"room_number\", \"total_price\"]}\\norder_food: Orders food for a customer. Return the total price. | Parameters: {\"type\": \"dict\", \"properties\": {\"item\": {\"type\": \"array\", \"items\": {\"type\": \"string\"}, \"description\": \"the name of the product.\"}, \"quantity\": {\"type\": \"array\", \"items\": {\"type\": \"integer\"}, \"description\": \"the number of the product purchased.\"}, \"price\": {\"type\": \"array\", \"items\": {\"type\": \"float\"}, \"description\": \"the price of the product.\"}}, \"required\": [\"item\", \"quantity\", \"price\"]}\\ncalculate_total: Calculates the total price of an order given the quantities and prices. | Parameters: {\"type\": \"dict\", \"properties\": {\"quantities\": {\"type\": \"array\", \"items\": {\"type\": \"integer\"}, \"description\": \"The quantities of each product.\"}, \"prices\": {\"type\": \"array\", \"items\": {\"type\": \"float\"}, \"description\": \"The price of each product.\"}}, \"required\": [\"quantities\", \"prices\"]}\\napply_discount: Applies a discount to the total price. | Parameters: {\"type\": \"dict\", \"properties\": {\"total\": {\"type\": \"float\", \"description\": \"The original total price.\"}, \"discount\": {\"type\": \"float\", \"description\": \"The discount percentage to apply.\"}}, \"required\": [\"total\", \"discount\"]}\\nget_movie_director: Fetches the director of a movie from the OMDB API. | Parameters: {\"type\": \"dict\", \"properties\": {\"movie_name\": {\"type\": \"string\", \"description\": \"The name of the movie.\"}}, \"required\": [\"movie_name\"]}\\ncalculate_interest_rate: Calculates the interest rate for a given principal, rate, and time. | Parameters: {\"type\": \"dict\", \"properties\": {\"principal\": {\"type\": \"float\", \"description\": \"The initial amount of money.\"}, \"rate\": {\"type\": \"float\", \"description\": \"The interest rate per period.\"}, \"time\": {\"type\": \"float\", \"description\": \"The time the money is invested or borrowed for.\"}}, \"required\": [\"principal\", \"rate\", \"time\"]}\\nconvert_temperature: Converts temperature from Celsius to Fahrenheit or vice versa. | Parameters: {\"type\": \"dict\", \"properties\": {\"temperature\": {\"type\": \"float\", \"description\": \"The temperature to convert.\"}, \"unit_from\": {\"type\": \"string\", \"description\": \"The current unit of the temperature (Celsius or Fahrenheit).\"}, \"unit_to\": {\"type\": \"string\", \"description\": \"The unit to convert the temperature to (Celsius or Fahrenheit).\"}}, \"required\": [\"temperature\", \"unit_from\", \"unit_to\"]}\\ngenerate_random_number: Generates a random number within a specified range. | Parameters: {\"type\": \"dict\", \"properties\": {\"min\": {\"type\": \"integer\", \"description\": \"The minimum value of the range.\"}, \"max\": {\"type\": \"integer\", \"description\": \"The maximum value of the range.\"}}, \"required\": [\"min\", \"max\"]}\\nget_movie_rating: Fetches the age rating of a movie from the OMDB API. | Parameters: {\"type\": \"dict\", \"properties\": {\"movie_name\": {\"type\": \"string\", \"description\": \"The name of the movie.\"}}, \"required\": [\"movie_name\"]}\\nget_movie_genre: Retrieves the genre of a movie from the OMDB API. | Parameters: {\"type\": \"dict\", \"properties\": {\"movie_name\": {\"type\": \"string\", \"description\": \"The name of the movie to retrieve the genre for.\"}}, \"required\": [\"movie_name\"]}\\nget_director_by_movie_name: Gets the director of a movie. | Parameters: {\"type\": \"dict\", \"properties\": {\"movie_name\": {\"type\": \"string\", \"description\": \"The movie to find the director of.\"}}, \"required\": [\"movie_name\"]}\\nconvert_coordinates: Converts a list of tuples into a list of lists. | Parameters: {\"type\": \"dict\", \"properties\": {\"coordinates\": {\"type\": \"array\", \"items\": {\"type\": \"tuple\", \"items\": {\"type\": \"float\"}, \"description\": \"A single coordinate represented by a tuple (x, y).\"}, \"description\": \"The coordinates to be converted, where each coordinate is a tuple (x, y).\"}}, \"required\": [\"coordinates\"]}\\npolygon_area: Calculate the area of a polygon given its vertices using the shoelace formula. | Parameters: {\"type\": \"dict\", \"properties\": {\"vertices\": {\"type\": \"array\", \"items\": {\"type\": \"array\", \"items\": {\"type\": \"float\"}, \"minItems\": 2, \"maxItems\": 2, \"description\": \"A single vertex represented by a 2 element list [x, y].\"}, \"description\": \"The vertices of the polygon, where each vertex is a 2 element list [x, y].\"}}, \"required\": [\"vertices\"]}\\nvalidate_polygon: Checks if the given vertices form a valid polygon. | Parameters: {\"type\": \"dict\", \"properties\": {\"vertices\": {\"type\": \"array\", \"items\": {\"type\": \"array\", \"items\": {\"type\": \"float\"}, \"description\": \"A single vertex represented by a 2 element list [x, y].\"}, \"description\": \"The vertices of the polygon, where each vertex is a 2 element list [x, y].\"}}, \"required\": [\"vertices\"]}</td>\n",
              "    </tr>\n",
              "    <tr>\n",
              "      <th>4</th>\n",
              "      <td>I'm conducting a physics experiment involving charged particles and electric fields. There's a particle that I've introduced into the field, and it carries a charge of exactly 5 coulombs. The electric field itself has a potential difference of 10 volts. I need to calculate the electrostatic potential energy for this scenario. Can you help me with that calculation?</td>\n",
              "      <td>calculate_electrostatic_potential_energy(charge=5.0, voltage=10.0)</td>\n",
              "      <td>get_weather_data: Fetches weather data from the Open-Meteo API for the given latitude and longitude. | Parameters: {\"type\": \"dict\", \"properties\": {\"coordinates\": {\"type\": \"array\", \"items\": {\"type\": \"float\"}, \"description\": \"The latitude and longitude of the location.\"}}, \"required\": [\"coordinates\"]}\\ncalc_binomial_probability: Calculates the probability of getting k successes in n trials. | Parameters: {\"type\": \"dict\", \"properties\": {\"n\": {\"type\": \"integer\", \"description\": \"The number of trials.\"}, \"k\": {\"type\": \"integer\", \"description\": \"The number of successes.\"}, \"p\": {\"type\": \"float\", \"description\": \"The probability of success.\"}}, \"required\": [\"n\", \"k\", \"p\"]}\\ncalculate_cosine_similarity: Calculates the cosine similarity of two vectors. | Parameters: {\"type\": \"dict\", \"properties\": {\"vectorA\": {\"type\": \"array\", \"items\": {\"type\": \"float\"}, \"description\": \"The first vector.\"}, \"vectorB\": {\"type\": \"array\", \"items\": {\"type\": \"float\"}, \"description\": \"The second vector.\"}}, \"required\": [\"vectorA\", \"vectorB\"]}\\nget_stock_price_by_stock_name: Finds the price of a stock by its stock name. | Parameters: {\"type\": \"dict\", \"properties\": {\"stock_name\": {\"type\": \"string\", \"description\": \"The stock name of the product, in the format of the stock symbol.\"}}, \"required\": [\"stock_name\"]}\\ncalculate_density: Calculates the density of an object. | Parameters: {\"type\": \"dict\", \"properties\": {\"mass\": {\"type\": \"float\", \"description\": \"The mass of the object, in kilograms.\"}, \"volume\": {\"type\": \"float\", \"description\": \"The volume of the object, in cubic meters.\"}}, \"required\": [\"mass\", \"volume\"]}\\ncalculate_future_value: Calculates the future value of an investment. | Parameters: {\"type\": \"dict\", \"properties\": {\"present_value\": {\"type\": \"float\", \"description\": \"The present value of the investment, in dollars.\"}, \"interest_rate\": {\"type\": \"float\", \"description\": \"The interest rate of the investment, ranging from 0 to 1.\"}, \"periods\": {\"type\": \"integer\", \"description\": \"The number of periods, in years.\"}}, \"required\": [\"present_value\", \"interest_rate\", \"periods\"]}\\nget_rating_by_amazon_ASIN: Finds the rating of a product by its Amazon ASIN. | Parameters: {\"type\": \"dict\", \"properties\": {\"ASIN\": {\"type\": \"string\", \"description\": \"The Amazon ASIN of the product.\"}}, \"required\": [\"ASIN\"]}\\nretrieve_holiday_by_year: Finds the holidays of a year. | Parameters: {\"type\": \"dict\", \"properties\": {\"year\": {\"type\": \"string\", \"description\": \"The year of the holidays.\"}, \"country\": {\"type\": \"string\", \"description\": \"The country of the holidays. Possible options: US, AT, DE, ES, FR, GB, IT, NL, PL, RO, SK, UA.\"}}, \"required\": [\"year\", \"country\"]}\\ncalculate_displacement: Calculates the displacement of an object. | Parameters: {\"type\": \"dict\", \"properties\": {\"initial_velocity\": {\"type\": \"float\", \"description\": \"The initial velocity of the object, in meters per second.\"}, \"acceleration\": {\"type\": \"float\", \"description\": \"The acceleration of the object, in meters per second squared.\"}, \"time\": {\"type\": \"float\", \"description\": \"The time the object has been moving, in seconds.\"}}, \"required\": [\"initial_velocity\", \"acceleration\", \"time\"]}\\nget_zipcode_by_ip_address: Finds the zipcode of an IP address. | Parameters: {\"type\": \"dict\", \"properties\": {\"ip_address\": {\"type\": \"string\", \"description\": \"The IP address to find the location of.\"}}, \"required\": [\"ip_address\"]}\\ncalculate_electrostatic_potential_energy: Calculates the electrostatic potential energy. | Parameters: {\"type\": \"dict\", \"properties\": {\"charge\": {\"type\": \"float\", \"description\": \"The charge of the object, in coulombs.\"}, \"voltage\": {\"type\": \"float\", \"description\": \"The voltage of the object, in volts.\"}}, \"required\": [\"charge\", \"voltage\"]}\\nmortgage_calculator: Calculates the monthly mortgage payment. | Parameters: {\"type\": \"dict\", \"properties\": {\"loan_amount\": {\"type\": \"float\", \"description\": \"The amount of the loan.\"}, \"interest_rate\": {\"type\": \"float\", \"description\": \"The interest rate of the loan, ranging from 0 to 1.\"}, \"loan_period\": {\"type\": \"integer\", \"description\": \"The period of the loan, in years.\"}}, \"required\": [\"loan_amount\", \"interest_rate\", \"loan_period\"]}\\ncalculate_final_velocity: Calculates the final velocity of an object. | Parameters: {\"type\": \"dict\", \"properties\": {\"initial_velocity\": {\"type\": \"float\", \"description\": \"The initial velocity of the object.\"}, \"acceleration\": {\"type\": \"float\", \"description\": \"The acceleration of the object.\"}, \"time\": {\"type\": \"float\", \"description\": \"The time the object has been moving.\"}}, \"required\": [\"initial_velocity\", \"acceleration\", \"time\"]}\\nget_fibonacci_sequence: Calculates the n numbers of the Fibonacci. | Parameters: {\"type\": \"dict\", \"properties\": {\"n\": {\"type\": \"integer\", \"description\": \"The number of Fibonacci numbers to calculate.\"}}, \"required\": [\"n\"]}\\nsort_array: Sorts an array of numbers. | Parameters: {\"type\": \"dict\", \"properties\": {\"array\": {\"type\": \"array\", \"items\": {\"type\": \"float\"}, \"description\": \"The array of numbers.\"}, \"reverse\": {\"type\": \"boolean\", \"description\": \"Whether to sort the array in reverse order, i.e., descending order.\", \"default\": false}}, \"required\": [\"array\"]}\\nget_time_zone_by_coord: Finds the timezone of a coordinate. | Parameters: {\"type\": \"dict\", \"properties\": {\"long\": {\"type\": \"string\", \"description\": \"The longitude of the coordinate.\"}, \"lat\": {\"type\": \"string\", \"description\": \"The latitude of the coordinate.\"}}, \"required\": [\"long\", \"lat\"]}\\ncalculate_mean: Calculates the mean of a list of numbers. | Parameters: {\"type\": \"dict\", \"properties\": {\"numbers\": {\"type\": \"array\", \"items\": {\"type\": \"integer\"}, \"description\": \"The list of numbers.\"}}, \"required\": [\"numbers\"]}\\ncalculate_permutations: Calculates the number of permutations of k elements from a set of n elements. | Parameters: {\"type\": \"dict\", \"properties\": {\"n\": {\"type\": \"integer\", \"description\": \"The number of elements in the set.\"}, \"k\": {\"type\": \"integer\", \"description\": \"The number of elements to choose.\"}}, \"required\": [\"n\", \"k\"]}\\nget_company_name_by_stock_name: Finds the company name of a stock by its stock name. | Parameters: {\"type\": \"dict\", \"properties\": {\"stock_name\": {\"type\": \"string\", \"description\": \"The stock name of the product, in the format of the stock symbol.\"}}, \"required\": [\"stock_name\"]}\\ncalculate_standard_deviation: Calculates the standard deviation of a list of numbers. | Parameters: {\"type\": \"dict\", \"properties\": {\"numbers\": {\"type\": \"array\", \"items\": {\"type\": \"integer\"}, \"description\": \"The list of numbers.\"}}, \"required\": [\"numbers\"]}\\nmath_lcm: Calculates the least common multiple of two numbers. | Parameters: {\"type\": \"dict\", \"properties\": {\"a\": {\"type\": \"integer\", \"description\": \"The first number. This should be the larger number.\"}, \"b\": {\"type\": \"integer\", \"description\": \"The second number.\"}}, \"required\": [\"a\", \"b\"]}\\ncalculate_triangle_area: Calculates the area of a triangle given its base and height. | Parameters: {\"type\": \"dict\", \"properties\": {\"base\": {\"type\": \"integer\", \"description\": \"The base of the triangle, in meters.\"}, \"height\": {\"type\": \"integer\", \"description\": \"The height of the triangle, in meters.\"}}, \"required\": [\"base\", \"height\"]}\\nconvert_currency: Converts a given amount from one currency to another using the ExchangeRate-API. | Parameters: {\"type\": \"dict\", \"properties\": {\"amount\": {\"type\": \"float\", \"description\": \"The amount of money to convert, in the base currency.\"}, \"from_currency\": {\"type\": \"string\", \"description\": \"The ISO currency code for the base currency.\"}, \"to_currency\": {\"type\": \"string\", \"description\": \"The ISO currency code for the target currency.\"}}, \"required\": [\"amount\", \"from_currency\", \"to_currency\"]}\\nget_stock_history: Finds the price of a stock by its stock name. | Parameters: {\"type\": \"dict\", \"properties\": {\"stock_name\": {\"type\": \"string\", \"description\": \"The stock name of the product, in the format of the stock symbol.\"}, \"interval\": {\"type\": \"string\", \"description\": \"The interval of the stock history. Allows one of following : 5m|15m|30m|1h|1d|1wk|1mo|3mo\"}, \"diffandsplits\": {\"type\": \"string\", \"description\": \"The diff and splits of the stock history. Allows one of following : true|false. Default to false\"}}, \"required\": [\"stock_name\", \"interval\"]}\\nmath_gcd: Calculates the greatest common divisor of two numbers. | Parameters: {\"type\": \"dict\", \"properties\": {\"a\": {\"type\": \"integer\", \"description\": \"The first number. This should be the larger number.\"}, \"b\": {\"type\": \"integer\", \"description\": \"The second number.\"}}, \"required\": [\"a\", \"b\"]}\\nestimate_derivative: Estimate the derivative of a function at a given point. | Parameters: {\"type\": \"dict\", \"properties\": {\"function\": {\"type\": \"string\", \"description\": \"The function to calculate the derivative of. This should be the string literal of lambda function\"}, \"x\": {\"type\": \"integer\", \"description\": \"The point to calculate the derivative at.\"}}, \"required\": [\"function\", \"x\"]}\\nfind_term_on_urban_dictionary: Finds the definition of a term on Urban Dictionary. | Parameters: {\"type\": \"dict\", \"properties\": {\"term\": {\"type\": \"string\", \"description\": \"The term to find the definition of.\"}}, \"required\": [\"term\"]}\\nget_distance: Calculates the distance between two 2D points. | Parameters: {\"type\": \"dict\", \"properties\": {\"pointA\": {\"type\": \"tuple\", \"description\": \"The first point.\", \"items\": {\"type\": \"float\"}}, \"pointB\": {\"type\": \"tuple\", \"description\": \"The second point.\", \"items\": {\"type\": \"float\"}}}, \"required\": [\"pointA\", \"pointB\"]}\\ngeometry_area_circle: Calculates the area of a circle. | Parameters: {\"type\": \"dict\", \"properties\": {\"radius\": {\"type\": \"integer\", \"description\": \"The radius of the circle, in feet.\"}}, \"required\": [\"radius\"]}\\nget_covid_death_by_country: Finds the most up to date total deaths of a country result from COVID. | Parameters: {\"type\": \"dict\", \"properties\": {\"country\": {\"type\": \"string\", \"description\": \"The country to find the total deaths of, in the format of the country's full name.\"}}, \"required\": [\"country\"]}\\nget_active_covid_case_by_country: Finds the most up to date active cases of a country result from COVID. | Parameters: {\"type\": \"dict\", \"properties\": {\"country\": {\"type\": \"string\", \"description\": \"The country to find the active cases of, in the format of the country's full name.\"}}, \"required\": [\"country\"]}\\nmat_mul: Multiplies two matrices. | Parameters: {\"type\": \"dict\", \"properties\": {\"matA\": {\"type\": \"array\", \"description\": \"The first matrix.\", \"items\": {\"type\": \"array\", \"items\": {\"type\": \"integer\"}}}, \"matB\": {\"type\": \"array\", \"description\": \"The second matrix.\", \"items\": {\"type\": \"array\", \"items\": {\"type\": \"integer\"}}}}, \"required\": [\"matA\", \"matB\"]}\\nget_coordinate_by_ip_address: Finds the latitude and longitude of an IP address. | Parameters: {\"type\": \"dict\", \"properties\": {\"ip_address\": {\"type\": \"string\", \"description\": \"The IP address to find the location of.\"}}, \"required\": [\"ip_address\"]}\\nget_coordinates_from_city: Fetches the latitude and longitude of a given city name using the Maps.co Geocoding API. | Parameters: {\"type\": \"dict\", \"properties\": {\"city_name\": {\"type\": \"string\", \"description\": \"The name of the city, such as 'Rome'.\"}}, \"required\": [\"city_name\"]}\\nget_product_name_by_amazon_ASIN: Finds the price of a product by its Amazon ASIN. | Parameters: {\"type\": \"dict\", \"properties\": {\"ASIN\": {\"type\": \"string\", \"description\": \"The Amazon ASIN of the product.\"}}, \"required\": [\"ASIN\"]}\\nget_price_by_amazon_ASIN: Finds the price of a product by its Amazon ASIN. | Parameters: {\"type\": \"dict\", \"properties\": {\"ASIN\": {\"type\": \"string\", \"description\": \"The Amazon ASIN of the product.\"}}, \"required\": [\"ASIN\"]}\\nget_prime_factors: Calculates the prime factors of a number. | Parameters: {\"type\": \"dict\", \"properties\": {\"number\": {\"type\": \"integer\", \"description\": \"The number to calculate the prime factors of.\"}}, \"required\": [\"number\"]}\\nretrieve_city_based_on_zipcode: Finds the city of a zipcode. | Parameters: {\"type\": \"dict\", \"properties\": {\"zipcode\": {\"type\": \"string\", \"description\": \"The zipcode of the city.\"}}, \"required\": [\"zipcode\"]}\\nmath_factorial: Calculates the factorial of a number. | Parameters: {\"type\": \"dict\", \"properties\": {\"n\": {\"type\": \"integer\", \"description\": \"The number to calculate the factorial of.\"}}, \"required\": [\"n\"]}\\nquadratic_roots: Calculates the roots of a quadratic equation. | Parameters: {\"type\": \"dict\", \"properties\": {\"a\": {\"type\": \"integer\", \"description\": \"The first coefficient.\"}, \"b\": {\"type\": \"integer\", \"description\": \"The second coefficient.\"}, \"c\": {\"type\": \"integer\", \"description\": \"The third coefficient.\"}}, \"required\": [\"a\", \"b\", \"c\"]}\\nadd_binary_numbers: Adds two binary numbers. | Parameters: {\"type\": \"dict\", \"properties\": {\"a\": {\"type\": \"string\", \"description\": \"The first binary number.\"}, \"b\": {\"type\": \"string\", \"description\": \"The second binary number.\"}}, \"required\": [\"a\", \"b\"]}\\nconvert_binary_to_decimal: Converts a binary number to a decimal number. | Parameters: {\"type\": \"dict\", \"properties\": {\"binary\": {\"type\": \"string\", \"description\": \"The binary number to convert.\"}}, \"required\": [\"binary\"]}\\nconvert_decimal_to_hex: Converts a decimal number to a hexadecimal number. | Parameters: {\"type\": \"dict\", \"properties\": {\"decimal\": {\"type\": \"integer\", \"description\": \"The decimal number to convert.\"}}, \"required\": [\"decimal\"]}\\nlinear_regression: Finds the linear regression of a set of points and evaluates it at a given point. | Parameters: {\"type\": \"dict\", \"properties\": {\"x\": {\"type\": \"array\", \"description\": \"The x coordinates of the points.\", \"items\": {\"type\": \"integer\"}}, \"y\": {\"type\": \"array\", \"description\": \"The y coordinates of the points.\", \"items\": {\"type\": \"integer\"}}, \"point\": {\"type\": \"integer\", \"description\": \"The point to calculate the linear regression at.\"}}, \"required\": [\"x\", \"y\", \"point\"]}\\ncalculate_slope: Calculates the slope of the linear regression line from a set of points. | Parameters: {\"type\": \"dict\", \"properties\": {\"x\": {\"type\": \"array\", \"description\": \"The x coordinates of the points.\", \"items\": {\"type\": \"integer\"}}, \"y\": {\"type\": \"array\", \"description\": \"The y coordinates of the points.\", \"items\": {\"type\": \"integer\"}}}, \"required\": [\"x\", \"y\"]}\\ncalculate_intercept: Calculates the y-intercept of the linear regression line from a set of points and a given slope. | Parameters: {\"type\": \"dict\", \"properties\": {\"x\": {\"type\": \"array\", \"description\": \"The x coordinates of the points.\", \"items\": {\"type\": \"integer\"}}, \"y\": {\"type\": \"array\", \"description\": \"The y coordinates of the points.\", \"items\": {\"type\": \"integer\"}}, \"slope\": {\"type\": \"integer\", \"description\": \"The slope of the linear regression line.\"}}, \"required\": [\"x\", \"y\", \"slope\"]}\\npredict_value: Predicts the value of y given the slope, intercept, and an x value. | Parameters: {\"type\": \"dict\", \"properties\": {\"slope\": {\"type\": \"integer\", \"description\": \"The slope of the linear regression line.\"}, \"intercept\": {\"type\": \"integer\", \"description\": \"The y-intercept of the linear regression line.\"}, \"x\": {\"type\": \"integer\", \"description\": \"The x value to predict the y for.\"}}, \"required\": [\"slope\", \"intercept\", \"x\"]}\\ncalculate_investment_value: Calculates the value of an investment over time. | Parameters: {\"type\": \"dict\", \"properties\": {\"initial_investment\": {\"type\": \"integer\", \"description\": \"The initial investment amount.\"}, \"annual_contribution\": {\"type\": \"integer\", \"description\": \"The annual contribution amount.\"}, \"years\": {\"type\": \"integer\", \"description\": \"The number of years to calculate the investment value for.\"}, \"annual_return\": {\"type\": \"float\", \"description\": \"The annual return rate, ranging from 0 to 1.\"}, \"inflation_rate\": {\"type\": \"array\", \"items\": {\"type\": \"float\"}, \"description\": \"The inflation rate for each year in percentage, ranging from 0 to 1.\"}, \"adjust_for_inflation\": {\"type\": \"boolean\", \"default\": true, \"description\": \"Whether to adjust the investment value for inflation.\"}}, \"required\": [\"initial_investment\", \"annual_contribution\", \"years\", \"annual_return\", \"inflation_rate\"]}\\ncompound_interest: Calculates compound interest over time. | Parameters: {\"type\": \"dict\", \"properties\": {\"principal\": {\"type\": \"integer\", \"description\": \"The principal amount.\"}, \"rate\": {\"type\": \"float\", \"description\": \"The annual interest rate.\"}, \"times_compounded\": {\"type\": \"integer\", \"description\": \"The number of times the interest is compounded per year.\"}, \"years\": {\"type\": \"integer\", \"description\": \"The number of years to calculate the compound interest for.\"}}, \"required\": [\"principal\", \"rate\", \"times_compounded\", \"years\"]}\\ninflation_adjustment: Adjusts an amount for inflation. | Parameters: {\"type\": \"dict\", \"properties\": {\"amount\": {\"type\": \"float\", \"description\": \"The amount to adjust for inflation.\"}, \"inflation_rate\": {\"type\": \"float\", \"description\": \"The annual inflation float.\"}, \"years\": {\"type\": \"integer\", \"description\": \"The number of years to adjust for inflation.\"}}, \"required\": [\"amount\", \"inflation_rate\", \"years\"]}\\nadjust_for_inflation: Adjusts the investment value for inflation for each year. | Parameters: {\"type\": \"dict\", \"properties\": {\"investment_value\": {\"type\": \"float\", \"description\": \"The value of the investment to adjust.\"}, \"inflation_rates\": {\"type\": \"array\", \"items\": {\"type\": \"float\"}, \"description\": \"The inflation rates for each year.\"}}, \"required\": [\"investment_value\", \"inflation_rates\"]}\\ncalculate_basal_metabolic_rate: Calculates the Basal Metabolic Rate (BMR) of a person. | Parameters: {\"type\": \"dict\", \"properties\": {\"weight\": {\"type\": \"float\", \"description\": \"The weight of the person in kilograms.\"}, \"height\": {\"type\": \"float\", \"description\": \"The height of the person in centimeters.\"}, \"age\": {\"type\": \"float\", \"description\": \"The age of the person in years.\"}, \"gender\": {\"type\": \"string\", \"description\": \"The gender of the person. Possible options [male, female, other].\"}}, \"required\": [\"weight\", \"height\", \"age\", \"gender\"]}\\ncalculate_daily_energy_expenditure: Calculates the daily energy expenditure based on BMR and activity level. | Parameters: {\"type\": \"dict\", \"properties\": {\"basal_metabolic_rate\": {\"type\": \"float\", \"description\": \"The BMR of the person.\"}, \"activity_level\": {\"type\": \"float\", \"description\": \"The activity level of the person. Possible options [1,2,3,4,5].\"}}, \"required\": [\"basal_metabolic_rate\", \"activity_level\"]}\\ncalculate_nutritional_needs: Calculates the nutritional needs of a person based on their weight, height, age, gender, activity level, and goal. | Parameters: {\"type\": \"dict\", \"properties\": {\"weight\": {\"type\": \"float\", \"description\": \"The weight of the person in kilograms.\"}, \"height\": {\"type\": \"float\", \"description\": \"The height of the person in centimeters.\"}, \"age\": {\"type\": \"float\", \"description\": \"The age of the person in years.\"}, \"gender\": {\"type\": \"string\", \"description\": \"The gender of the person. Possible options [male, female, other].\"}, \"activity_level\": {\"type\": \"float\", \"description\": \"The activity level of the person. Possible options [1,2,3,4,5].\"}, \"goal\": {\"type\": \"string\", \"description\": \"The goal of the person. Possible options [lose, gain, maintain].\"}}, \"required\": [\"weight\", \"height\", \"age\", \"gender\", \"activity_level\", \"goal\"]}\\nbook_room: Books a room for a customer. | Parameters: {\"type\": \"dict\", \"properties\": {\"room_type\": {\"type\": \"dict\", \"description\": \"The room type to book.\"}, \"check_in_date\": {\"type\": \"string\", \"description\": \"The check-in date in format of MM-DD-YYYY.\"}, \"check_out_date\": {\"type\": \"string\", \"description\": \"The check-out date in format of MM-DD-YYYY.\"}, \"customer_id\": {\"type\": \"string\", \"description\": \"The customer ID.\"}, \"discount_code\": {\"type\": \"string\", \"description\": \"The discount code (if any).\", \"default\": null}}, \"required\": [\"room_type\", \"check_in_date\", \"check_out_date\", \"customer_id\"]}\\ncalculate_total_price: Calculates the total price of the room booking. | Parameters: {\"type\": \"dict\", \"properties\": {\"room_price\": {\"type\": \"float\", \"description\": \"The price per night of the room.\"}, \"nights\": {\"type\": \"integer\", \"description\": \"The number of nights for the booking.\"}, \"discount\": {\"type\": \"float\", \"description\": \"The discount amount (if any).\", \"default\": 0}}, \"required\": [\"room_price\", \"nights\"]}\\nconfirm_booking: Confirms the room booking and sends a confirmation to the customer. | Parameters: {\"type\": \"dict\", \"properties\": {\"customer_id\": {\"type\": \"string\", \"description\": \"The customer ID.\"}, \"room_number\": {\"type\": \"string\", \"description\": \"The room number assigned to the booking.\"}, \"total_price\": {\"type\": \"float\", \"description\": \"The total price for the booking.\"}}, \"required\": [\"customer_id\", \"room_number\", \"total_price\"]}\\norder_food: Orders food for a customer. Return the total price. | Parameters: {\"type\": \"dict\", \"properties\": {\"item\": {\"type\": \"array\", \"items\": {\"type\": \"string\"}, \"description\": \"the name of the product.\"}, \"quantity\": {\"type\": \"array\", \"items\": {\"type\": \"integer\"}, \"description\": \"the number of the product purchased.\"}, \"price\": {\"type\": \"array\", \"items\": {\"type\": \"float\"}, \"description\": \"the price of the product.\"}}, \"required\": [\"item\", \"quantity\", \"price\"]}\\ncalculate_total: Calculates the total price of an order given the quantities and prices. | Parameters: {\"type\": \"dict\", \"properties\": {\"quantities\": {\"type\": \"array\", \"items\": {\"type\": \"integer\"}, \"description\": \"The quantities of each product.\"}, \"prices\": {\"type\": \"array\", \"items\": {\"type\": \"float\"}, \"description\": \"The price of each product.\"}}, \"required\": [\"quantities\", \"prices\"]}\\napply_discount: Applies a discount to the total price. | Parameters: {\"type\": \"dict\", \"properties\": {\"total\": {\"type\": \"float\", \"description\": \"The original total price.\"}, \"discount\": {\"type\": \"float\", \"description\": \"The discount percentage to apply.\"}}, \"required\": [\"total\", \"discount\"]}\\nget_movie_director: Fetches the director of a movie from the OMDB API. | Parameters: {\"type\": \"dict\", \"properties\": {\"movie_name\": {\"type\": \"string\", \"description\": \"The name of the movie.\"}}, \"required\": [\"movie_name\"]}\\ncalculate_interest_rate: Calculates the interest rate for a given principal, rate, and time. | Parameters: {\"type\": \"dict\", \"properties\": {\"principal\": {\"type\": \"float\", \"description\": \"The initial amount of money.\"}, \"rate\": {\"type\": \"float\", \"description\": \"The interest rate per period.\"}, \"time\": {\"type\": \"float\", \"description\": \"The time the money is invested or borrowed for.\"}}, \"required\": [\"principal\", \"rate\", \"time\"]}\\nconvert_temperature: Converts temperature from Celsius to Fahrenheit or vice versa. | Parameters: {\"type\": \"dict\", \"properties\": {\"temperature\": {\"type\": \"float\", \"description\": \"The temperature to convert.\"}, \"unit_from\": {\"type\": \"string\", \"description\": \"The current unit of the temperature (Celsius or Fahrenheit).\"}, \"unit_to\": {\"type\": \"string\", \"description\": \"The unit to convert the temperature to (Celsius or Fahrenheit).\"}}, \"required\": [\"temperature\", \"unit_from\", \"unit_to\"]}\\ngenerate_random_number: Generates a random number within a specified range. | Parameters: {\"type\": \"dict\", \"properties\": {\"min\": {\"type\": \"integer\", \"description\": \"The minimum value of the range.\"}, \"max\": {\"type\": \"integer\", \"description\": \"The maximum value of the range.\"}}, \"required\": [\"min\", \"max\"]}\\nget_movie_rating: Fetches the age rating of a movie from the OMDB API. | Parameters: {\"type\": \"dict\", \"properties\": {\"movie_name\": {\"type\": \"string\", \"description\": \"The name of the movie.\"}}, \"required\": [\"movie_name\"]}\\nget_movie_genre: Retrieves the genre of a movie from the OMDB API. | Parameters: {\"type\": \"dict\", \"properties\": {\"movie_name\": {\"type\": \"string\", \"description\": \"The name of the movie to retrieve the genre for.\"}}, \"required\": [\"movie_name\"]}\\nget_director_by_movie_name: Gets the director of a movie. | Parameters: {\"type\": \"dict\", \"properties\": {\"movie_name\": {\"type\": \"string\", \"description\": \"The movie to find the director of.\"}}, \"required\": [\"movie_name\"]}\\nconvert_coordinates: Converts a list of tuples into a list of lists. | Parameters: {\"type\": \"dict\", \"properties\": {\"coordinates\": {\"type\": \"array\", \"items\": {\"type\": \"tuple\", \"items\": {\"type\": \"float\"}, \"description\": \"A single coordinate represented by a tuple (x, y).\"}, \"description\": \"The coordinates to be converted, where each coordinate is a tuple (x, y).\"}}, \"required\": [\"coordinates\"]}\\npolygon_area: Calculate the area of a polygon given its vertices using the shoelace formula. | Parameters: {\"type\": \"dict\", \"properties\": {\"vertices\": {\"type\": \"array\", \"items\": {\"type\": \"array\", \"items\": {\"type\": \"float\"}, \"minItems\": 2, \"maxItems\": 2, \"description\": \"A single vertex represented by a 2 element list [x, y].\"}, \"description\": \"The vertices of the polygon, where each vertex is a 2 element list [x, y].\"}}, \"required\": [\"vertices\"]}\\nvalidate_polygon: Checks if the given vertices form a valid polygon. | Parameters: {\"type\": \"dict\", \"properties\": {\"vertices\": {\"type\": \"array\", \"items\": {\"type\": \"array\", \"items\": {\"type\": \"float\"}, \"description\": \"A single vertex represented by a 2 element list [x, y].\"}, \"description\": \"The vertices of the polygon, where each vertex is a 2 element list [x, y].\"}}, \"required\": [\"vertices\"]}</td>\n",
              "    </tr>\n",
              "  </tbody>\n",
              "</table>\n",
              "</div>\n",
              "    <div class=\"colab-df-buttons\">\n",
              "\n",
              "  <div class=\"colab-df-container\">\n",
              "    <button class=\"colab-df-convert\" onclick=\"convertToInteractive('df-1378fe1a-a36b-482a-94e7-fb72e0f84b7a')\"\n",
              "            title=\"Convert this dataframe to an interactive table.\"\n",
              "            style=\"display:none;\">\n",
              "\n",
              "  <svg xmlns=\"http://www.w3.org/2000/svg\" height=\"24px\" viewBox=\"0 -960 960 960\">\n",
              "    <path d=\"M120-120v-720h720v720H120Zm60-500h600v-160H180v160Zm220 220h160v-160H400v160Zm0 220h160v-160H400v160ZM180-400h160v-160H180v160Zm440 0h160v-160H620v160ZM180-180h160v-160H180v160Zm440 0h160v-160H620v160Z\"/>\n",
              "  </svg>\n",
              "    </button>\n",
              "\n",
              "  <style>\n",
              "    .colab-df-container {\n",
              "      display:flex;\n",
              "      gap: 12px;\n",
              "    }\n",
              "\n",
              "    .colab-df-convert {\n",
              "      background-color: #E8F0FE;\n",
              "      border: none;\n",
              "      border-radius: 50%;\n",
              "      cursor: pointer;\n",
              "      display: none;\n",
              "      fill: #1967D2;\n",
              "      height: 32px;\n",
              "      padding: 0 0 0 0;\n",
              "      width: 32px;\n",
              "    }\n",
              "\n",
              "    .colab-df-convert:hover {\n",
              "      background-color: #E2EBFA;\n",
              "      box-shadow: 0px 1px 2px rgba(60, 64, 67, 0.3), 0px 1px 3px 1px rgba(60, 64, 67, 0.15);\n",
              "      fill: #174EA6;\n",
              "    }\n",
              "\n",
              "    .colab-df-buttons div {\n",
              "      margin-bottom: 4px;\n",
              "    }\n",
              "\n",
              "    [theme=dark] .colab-df-convert {\n",
              "      background-color: #3B4455;\n",
              "      fill: #D2E3FC;\n",
              "    }\n",
              "\n",
              "    [theme=dark] .colab-df-convert:hover {\n",
              "      background-color: #434B5C;\n",
              "      box-shadow: 0px 1px 3px 1px rgba(0, 0, 0, 0.15);\n",
              "      filter: drop-shadow(0px 1px 2px rgba(0, 0, 0, 0.3));\n",
              "      fill: #FFFFFF;\n",
              "    }\n",
              "  </style>\n",
              "\n",
              "    <script>\n",
              "      const buttonEl =\n",
              "        document.querySelector('#df-1378fe1a-a36b-482a-94e7-fb72e0f84b7a button.colab-df-convert');\n",
              "      buttonEl.style.display =\n",
              "        google.colab.kernel.accessAllowed ? 'block' : 'none';\n",
              "\n",
              "      async function convertToInteractive(key) {\n",
              "        const element = document.querySelector('#df-1378fe1a-a36b-482a-94e7-fb72e0f84b7a');\n",
              "        const dataTable =\n",
              "          await google.colab.kernel.invokeFunction('convertToInteractive',\n",
              "                                                    [key], {});\n",
              "        if (!dataTable) return;\n",
              "\n",
              "        const docLinkHtml = 'Like what you see? Visit the ' +\n",
              "          '<a target=\"_blank\" href=https://colab.research.google.com/notebooks/data_table.ipynb>data table notebook</a>'\n",
              "          + ' to learn more about interactive tables.';\n",
              "        element.innerHTML = '';\n",
              "        dataTable['output_type'] = 'display_data';\n",
              "        await google.colab.output.renderOutput(dataTable, element);\n",
              "        const docLink = document.createElement('div');\n",
              "        docLink.innerHTML = docLinkHtml;\n",
              "        element.appendChild(docLink);\n",
              "      }\n",
              "    </script>\n",
              "  </div>\n",
              "\n",
              "\n",
              "    <div id=\"df-57616234-c7c1-470b-a27f-ce2480f64797\">\n",
              "      <button class=\"colab-df-quickchart\" onclick=\"quickchart('df-57616234-c7c1-470b-a27f-ce2480f64797')\"\n",
              "                title=\"Suggest charts\"\n",
              "                style=\"display:none;\">\n",
              "\n",
              "<svg xmlns=\"http://www.w3.org/2000/svg\" height=\"24px\"viewBox=\"0 0 24 24\"\n",
              "     width=\"24px\">\n",
              "    <g>\n",
              "        <path d=\"M19 3H5c-1.1 0-2 .9-2 2v14c0 1.1.9 2 2 2h14c1.1 0 2-.9 2-2V5c0-1.1-.9-2-2-2zM9 17H7v-7h2v7zm4 0h-2V7h2v10zm4 0h-2v-4h2v4z\"/>\n",
              "    </g>\n",
              "</svg>\n",
              "      </button>\n",
              "\n",
              "<style>\n",
              "  .colab-df-quickchart {\n",
              "      --bg-color: #E8F0FE;\n",
              "      --fill-color: #1967D2;\n",
              "      --hover-bg-color: #E2EBFA;\n",
              "      --hover-fill-color: #174EA6;\n",
              "      --disabled-fill-color: #AAA;\n",
              "      --disabled-bg-color: #DDD;\n",
              "  }\n",
              "\n",
              "  [theme=dark] .colab-df-quickchart {\n",
              "      --bg-color: #3B4455;\n",
              "      --fill-color: #D2E3FC;\n",
              "      --hover-bg-color: #434B5C;\n",
              "      --hover-fill-color: #FFFFFF;\n",
              "      --disabled-bg-color: #3B4455;\n",
              "      --disabled-fill-color: #666;\n",
              "  }\n",
              "\n",
              "  .colab-df-quickchart {\n",
              "    background-color: var(--bg-color);\n",
              "    border: none;\n",
              "    border-radius: 50%;\n",
              "    cursor: pointer;\n",
              "    display: none;\n",
              "    fill: var(--fill-color);\n",
              "    height: 32px;\n",
              "    padding: 0;\n",
              "    width: 32px;\n",
              "  }\n",
              "\n",
              "  .colab-df-quickchart:hover {\n",
              "    background-color: var(--hover-bg-color);\n",
              "    box-shadow: 0 1px 2px rgba(60, 64, 67, 0.3), 0 1px 3px 1px rgba(60, 64, 67, 0.15);\n",
              "    fill: var(--button-hover-fill-color);\n",
              "  }\n",
              "\n",
              "  .colab-df-quickchart-complete:disabled,\n",
              "  .colab-df-quickchart-complete:disabled:hover {\n",
              "    background-color: var(--disabled-bg-color);\n",
              "    fill: var(--disabled-fill-color);\n",
              "    box-shadow: none;\n",
              "  }\n",
              "\n",
              "  .colab-df-spinner {\n",
              "    border: 2px solid var(--fill-color);\n",
              "    border-color: transparent;\n",
              "    border-bottom-color: var(--fill-color);\n",
              "    animation:\n",
              "      spin 1s steps(1) infinite;\n",
              "  }\n",
              "\n",
              "  @keyframes spin {\n",
              "    0% {\n",
              "      border-color: transparent;\n",
              "      border-bottom-color: var(--fill-color);\n",
              "      border-left-color: var(--fill-color);\n",
              "    }\n",
              "    20% {\n",
              "      border-color: transparent;\n",
              "      border-left-color: var(--fill-color);\n",
              "      border-top-color: var(--fill-color);\n",
              "    }\n",
              "    30% {\n",
              "      border-color: transparent;\n",
              "      border-left-color: var(--fill-color);\n",
              "      border-top-color: var(--fill-color);\n",
              "      border-right-color: var(--fill-color);\n",
              "    }\n",
              "    40% {\n",
              "      border-color: transparent;\n",
              "      border-right-color: var(--fill-color);\n",
              "      border-top-color: var(--fill-color);\n",
              "    }\n",
              "    60% {\n",
              "      border-color: transparent;\n",
              "      border-right-color: var(--fill-color);\n",
              "    }\n",
              "    80% {\n",
              "      border-color: transparent;\n",
              "      border-right-color: var(--fill-color);\n",
              "      border-bottom-color: var(--fill-color);\n",
              "    }\n",
              "    90% {\n",
              "      border-color: transparent;\n",
              "      border-bottom-color: var(--fill-color);\n",
              "    }\n",
              "  }\n",
              "</style>\n",
              "\n",
              "      <script>\n",
              "        async function quickchart(key) {\n",
              "          const quickchartButtonEl =\n",
              "            document.querySelector('#' + key + ' button');\n",
              "          quickchartButtonEl.disabled = true;  // To prevent multiple clicks.\n",
              "          quickchartButtonEl.classList.add('colab-df-spinner');\n",
              "          try {\n",
              "            const charts = await google.colab.kernel.invokeFunction(\n",
              "                'suggestCharts', [key], {});\n",
              "          } catch (error) {\n",
              "            console.error('Error during call to suggestCharts:', error);\n",
              "          }\n",
              "          quickchartButtonEl.classList.remove('colab-df-spinner');\n",
              "          quickchartButtonEl.classList.add('colab-df-quickchart-complete');\n",
              "        }\n",
              "        (() => {\n",
              "          let quickchartButtonEl =\n",
              "            document.querySelector('#df-57616234-c7c1-470b-a27f-ce2480f64797 button');\n",
              "          quickchartButtonEl.style.display =\n",
              "            google.colab.kernel.accessAllowed ? 'block' : 'none';\n",
              "        })();\n",
              "      </script>\n",
              "    </div>\n",
              "\n",
              "    </div>\n",
              "  </div>\n"
            ],
            "application/vnd.google.colaboratory.intrinsic+json": {
              "type": "dataframe",
              "variable_name": "df_eval",
              "summary": "{\n  \"name\": \"df_eval\",\n  \"rows\": 50,\n  \"fields\": [\n    {\n      \"column\": \"question\",\n      \"properties\": {\n        \"dtype\": \"string\",\n        \"num_unique_values\": 50,\n        \"samples\": [\n          \"I've been hearing the slang term \\\"lit\\\" quite frequently these days and it's piqued my curiosity. I'm not entirely sure what it means, so I'm looking to find a definition that could shed some light on its usage and connotations. Can you find out what \\\"lit\\\" means on Urban Dictionary for me?\",\n          \"I've got a dataset here that needs to be ordered from highest to lowest value. The numbers I'm working with are 34, 2, 56, 7, 9, and 12. Could you help me sort these in descending order?\",\n          \"I'm currently in the middle of a cybersecurity investigation and have come across a suspicious IP address that we suspect might be the source of a recent cyber attack. The IP address is 192.168.1.1, and I need to track down the physical location it's associated with to proceed with the investigation. To start with, could you find out the zipcode for where this IP address is registered?\"\n        ],\n        \"semantic_type\": \"\",\n        \"description\": \"\"\n      }\n    },\n    {\n      \"column\": \"tool_call\",\n      \"properties\": {\n        \"dtype\": \"string\",\n        \"num_unique_values\": 50,\n        \"samples\": [\n          \"find_term_on_urban_dictionary(term=\\\"lit\\\")\",\n          \"sort_array(array=[34, 2, 56, 7, 9, 12], reverse=True)\",\n          \"get_zipcode_by_ip_address(ip_address=\\\"192.168.1.1\\\")\"\n        ],\n        \"semantic_type\": \"\",\n        \"description\": \"\"\n      }\n    },\n    {\n      \"column\": \"tool_definitions\",\n      \"properties\": {\n        \"dtype\": \"category\",\n        \"num_unique_values\": 1,\n        \"samples\": [\n          \"get_weather_data: Fetches weather data from the Open-Meteo API for the given latitude and longitude. | Parameters: {\\\"type\\\": \\\"dict\\\", \\\"properties\\\": {\\\"coordinates\\\": {\\\"type\\\": \\\"array\\\", \\\"items\\\": {\\\"type\\\": \\\"float\\\"}, \\\"description\\\": \\\"The latitude and longitude of the location.\\\"}}, \\\"required\\\": [\\\"coordinates\\\"]}\\ncalc_binomial_probability: Calculates the probability of getting k successes in n trials. | Parameters: {\\\"type\\\": \\\"dict\\\", \\\"properties\\\": {\\\"n\\\": {\\\"type\\\": \\\"integer\\\", \\\"description\\\": \\\"The number of trials.\\\"}, \\\"k\\\": {\\\"type\\\": \\\"integer\\\", \\\"description\\\": \\\"The number of successes.\\\"}, \\\"p\\\": {\\\"type\\\": \\\"float\\\", \\\"description\\\": \\\"The probability of success.\\\"}}, \\\"required\\\": [\\\"n\\\", \\\"k\\\", \\\"p\\\"]}\\ncalculate_cosine_similarity: Calculates the cosine similarity of two vectors. | Parameters: {\\\"type\\\": \\\"dict\\\", \\\"properties\\\": {\\\"vectorA\\\": {\\\"type\\\": \\\"array\\\", \\\"items\\\": {\\\"type\\\": \\\"float\\\"}, \\\"description\\\": \\\"The first vector.\\\"}, \\\"vectorB\\\": {\\\"type\\\": \\\"array\\\", \\\"items\\\": {\\\"type\\\": \\\"float\\\"}, \\\"description\\\": \\\"The second vector.\\\"}}, \\\"required\\\": [\\\"vectorA\\\", \\\"vectorB\\\"]}\\nget_stock_price_by_stock_name: Finds the price of a stock by its stock name. | Parameters: {\\\"type\\\": \\\"dict\\\", \\\"properties\\\": {\\\"stock_name\\\": {\\\"type\\\": \\\"string\\\", \\\"description\\\": \\\"The stock name of the product, in the format of the stock symbol.\\\"}}, \\\"required\\\": [\\\"stock_name\\\"]}\\ncalculate_density: Calculates the density of an object. | Parameters: {\\\"type\\\": \\\"dict\\\", \\\"properties\\\": {\\\"mass\\\": {\\\"type\\\": \\\"float\\\", \\\"description\\\": \\\"The mass of the object, in kilograms.\\\"}, \\\"volume\\\": {\\\"type\\\": \\\"float\\\", \\\"description\\\": \\\"The volume of the object, in cubic meters.\\\"}}, \\\"required\\\": [\\\"mass\\\", \\\"volume\\\"]}\\ncalculate_future_value: Calculates the future value of an investment. | Parameters: {\\\"type\\\": \\\"dict\\\", \\\"properties\\\": {\\\"present_value\\\": {\\\"type\\\": \\\"float\\\", \\\"description\\\": \\\"The present value of the investment, in dollars.\\\"}, \\\"interest_rate\\\": {\\\"type\\\": \\\"float\\\", \\\"description\\\": \\\"The interest rate of the investment, ranging from 0 to 1.\\\"}, \\\"periods\\\": {\\\"type\\\": \\\"integer\\\", \\\"description\\\": \\\"The number of periods, in years.\\\"}}, \\\"required\\\": [\\\"present_value\\\", \\\"interest_rate\\\", \\\"periods\\\"]}\\nget_rating_by_amazon_ASIN: Finds the rating of a product by its Amazon ASIN. | Parameters: {\\\"type\\\": \\\"dict\\\", \\\"properties\\\": {\\\"ASIN\\\": {\\\"type\\\": \\\"string\\\", \\\"description\\\": \\\"The Amazon ASIN of the product.\\\"}}, \\\"required\\\": [\\\"ASIN\\\"]}\\nretrieve_holiday_by_year: Finds the holidays of a year. | Parameters: {\\\"type\\\": \\\"dict\\\", \\\"properties\\\": {\\\"year\\\": {\\\"type\\\": \\\"string\\\", \\\"description\\\": \\\"The year of the holidays.\\\"}, \\\"country\\\": {\\\"type\\\": \\\"string\\\", \\\"description\\\": \\\"The country of the holidays. Possible options: US, AT, DE, ES, FR, GB, IT, NL, PL, RO, SK, UA.\\\"}}, \\\"required\\\": [\\\"year\\\", \\\"country\\\"]}\\ncalculate_displacement: Calculates the displacement of an object. | Parameters: {\\\"type\\\": \\\"dict\\\", \\\"properties\\\": {\\\"initial_velocity\\\": {\\\"type\\\": \\\"float\\\", \\\"description\\\": \\\"The initial velocity of the object, in meters per second.\\\"}, \\\"acceleration\\\": {\\\"type\\\": \\\"float\\\", \\\"description\\\": \\\"The acceleration of the object, in meters per second squared.\\\"}, \\\"time\\\": {\\\"type\\\": \\\"float\\\", \\\"description\\\": \\\"The time the object has been moving, in seconds.\\\"}}, \\\"required\\\": [\\\"initial_velocity\\\", \\\"acceleration\\\", \\\"time\\\"]}\\nget_zipcode_by_ip_address: Finds the zipcode of an IP address. | Parameters: {\\\"type\\\": \\\"dict\\\", \\\"properties\\\": {\\\"ip_address\\\": {\\\"type\\\": \\\"string\\\", \\\"description\\\": \\\"The IP address to find the location of.\\\"}}, \\\"required\\\": [\\\"ip_address\\\"]}\\ncalculate_electrostatic_potential_energy: Calculates the electrostatic potential energy. | Parameters: {\\\"type\\\": \\\"dict\\\", \\\"properties\\\": {\\\"charge\\\": {\\\"type\\\": \\\"float\\\", \\\"description\\\": \\\"The charge of the object, in coulombs.\\\"}, \\\"voltage\\\": {\\\"type\\\": \\\"float\\\", \\\"description\\\": \\\"The voltage of the object, in volts.\\\"}}, \\\"required\\\": [\\\"charge\\\", \\\"voltage\\\"]}\\nmortgage_calculator: Calculates the monthly mortgage payment. | Parameters: {\\\"type\\\": \\\"dict\\\", \\\"properties\\\": {\\\"loan_amount\\\": {\\\"type\\\": \\\"float\\\", \\\"description\\\": \\\"The amount of the loan.\\\"}, \\\"interest_rate\\\": {\\\"type\\\": \\\"float\\\", \\\"description\\\": \\\"The interest rate of the loan, ranging from 0 to 1.\\\"}, \\\"loan_period\\\": {\\\"type\\\": \\\"integer\\\", \\\"description\\\": \\\"The period of the loan, in years.\\\"}}, \\\"required\\\": [\\\"loan_amount\\\", \\\"interest_rate\\\", \\\"loan_period\\\"]}\\ncalculate_final_velocity: Calculates the final velocity of an object. | Parameters: {\\\"type\\\": \\\"dict\\\", \\\"properties\\\": {\\\"initial_velocity\\\": {\\\"type\\\": \\\"float\\\", \\\"description\\\": \\\"The initial velocity of the object.\\\"}, \\\"acceleration\\\": {\\\"type\\\": \\\"float\\\", \\\"description\\\": \\\"The acceleration of the object.\\\"}, \\\"time\\\": {\\\"type\\\": \\\"float\\\", \\\"description\\\": \\\"The time the object has been moving.\\\"}}, \\\"required\\\": [\\\"initial_velocity\\\", \\\"acceleration\\\", \\\"time\\\"]}\\nget_fibonacci_sequence: Calculates the n numbers of the Fibonacci. | Parameters: {\\\"type\\\": \\\"dict\\\", \\\"properties\\\": {\\\"n\\\": {\\\"type\\\": \\\"integer\\\", \\\"description\\\": \\\"The number of Fibonacci numbers to calculate.\\\"}}, \\\"required\\\": [\\\"n\\\"]}\\nsort_array: Sorts an array of numbers. | Parameters: {\\\"type\\\": \\\"dict\\\", \\\"properties\\\": {\\\"array\\\": {\\\"type\\\": \\\"array\\\", \\\"items\\\": {\\\"type\\\": \\\"float\\\"}, \\\"description\\\": \\\"The array of numbers.\\\"}, \\\"reverse\\\": {\\\"type\\\": \\\"boolean\\\", \\\"description\\\": \\\"Whether to sort the array in reverse order, i.e., descending order.\\\", \\\"default\\\": false}}, \\\"required\\\": [\\\"array\\\"]}\\nget_time_zone_by_coord: Finds the timezone of a coordinate. | Parameters: {\\\"type\\\": \\\"dict\\\", \\\"properties\\\": {\\\"long\\\": {\\\"type\\\": \\\"string\\\", \\\"description\\\": \\\"The longitude of the coordinate.\\\"}, \\\"lat\\\": {\\\"type\\\": \\\"string\\\", \\\"description\\\": \\\"The latitude of the coordinate.\\\"}}, \\\"required\\\": [\\\"long\\\", \\\"lat\\\"]}\\ncalculate_mean: Calculates the mean of a list of numbers. | Parameters: {\\\"type\\\": \\\"dict\\\", \\\"properties\\\": {\\\"numbers\\\": {\\\"type\\\": \\\"array\\\", \\\"items\\\": {\\\"type\\\": \\\"integer\\\"}, \\\"description\\\": \\\"The list of numbers.\\\"}}, \\\"required\\\": [\\\"numbers\\\"]}\\ncalculate_permutations: Calculates the number of permutations of k elements from a set of n elements. | Parameters: {\\\"type\\\": \\\"dict\\\", \\\"properties\\\": {\\\"n\\\": {\\\"type\\\": \\\"integer\\\", \\\"description\\\": \\\"The number of elements in the set.\\\"}, \\\"k\\\": {\\\"type\\\": \\\"integer\\\", \\\"description\\\": \\\"The number of elements to choose.\\\"}}, \\\"required\\\": [\\\"n\\\", \\\"k\\\"]}\\nget_company_name_by_stock_name: Finds the company name of a stock by its stock name. | Parameters: {\\\"type\\\": \\\"dict\\\", \\\"properties\\\": {\\\"stock_name\\\": {\\\"type\\\": \\\"string\\\", \\\"description\\\": \\\"The stock name of the product, in the format of the stock symbol.\\\"}}, \\\"required\\\": [\\\"stock_name\\\"]}\\ncalculate_standard_deviation: Calculates the standard deviation of a list of numbers. | Parameters: {\\\"type\\\": \\\"dict\\\", \\\"properties\\\": {\\\"numbers\\\": {\\\"type\\\": \\\"array\\\", \\\"items\\\": {\\\"type\\\": \\\"integer\\\"}, \\\"description\\\": \\\"The list of numbers.\\\"}}, \\\"required\\\": [\\\"numbers\\\"]}\\nmath_lcm: Calculates the least common multiple of two numbers. | Parameters: {\\\"type\\\": \\\"dict\\\", \\\"properties\\\": {\\\"a\\\": {\\\"type\\\": \\\"integer\\\", \\\"description\\\": \\\"The first number. This should be the larger number.\\\"}, \\\"b\\\": {\\\"type\\\": \\\"integer\\\", \\\"description\\\": \\\"The second number.\\\"}}, \\\"required\\\": [\\\"a\\\", \\\"b\\\"]}\\ncalculate_triangle_area: Calculates the area of a triangle given its base and height. | Parameters: {\\\"type\\\": \\\"dict\\\", \\\"properties\\\": {\\\"base\\\": {\\\"type\\\": \\\"integer\\\", \\\"description\\\": \\\"The base of the triangle, in meters.\\\"}, \\\"height\\\": {\\\"type\\\": \\\"integer\\\", \\\"description\\\": \\\"The height of the triangle, in meters.\\\"}}, \\\"required\\\": [\\\"base\\\", \\\"height\\\"]}\\nconvert_currency: Converts a given amount from one currency to another using the ExchangeRate-API. | Parameters: {\\\"type\\\": \\\"dict\\\", \\\"properties\\\": {\\\"amount\\\": {\\\"type\\\": \\\"float\\\", \\\"description\\\": \\\"The amount of money to convert, in the base currency.\\\"}, \\\"from_currency\\\": {\\\"type\\\": \\\"string\\\", \\\"description\\\": \\\"The ISO currency code for the base currency.\\\"}, \\\"to_currency\\\": {\\\"type\\\": \\\"string\\\", \\\"description\\\": \\\"The ISO currency code for the target currency.\\\"}}, \\\"required\\\": [\\\"amount\\\", \\\"from_currency\\\", \\\"to_currency\\\"]}\\nget_stock_history: Finds the price of a stock by its stock name. | Parameters: {\\\"type\\\": \\\"dict\\\", \\\"properties\\\": {\\\"stock_name\\\": {\\\"type\\\": \\\"string\\\", \\\"description\\\": \\\"The stock name of the product, in the format of the stock symbol.\\\"}, \\\"interval\\\": {\\\"type\\\": \\\"string\\\", \\\"description\\\": \\\"The interval of the stock history. Allows one of following : 5m|15m|30m|1h|1d|1wk|1mo|3mo\\\"}, \\\"diffandsplits\\\": {\\\"type\\\": \\\"string\\\", \\\"description\\\": \\\"The diff and splits of the stock history. Allows one of following : true|false. Default to false\\\"}}, \\\"required\\\": [\\\"stock_name\\\", \\\"interval\\\"]}\\nmath_gcd: Calculates the greatest common divisor of two numbers. | Parameters: {\\\"type\\\": \\\"dict\\\", \\\"properties\\\": {\\\"a\\\": {\\\"type\\\": \\\"integer\\\", \\\"description\\\": \\\"The first number. This should be the larger number.\\\"}, \\\"b\\\": {\\\"type\\\": \\\"integer\\\", \\\"description\\\": \\\"The second number.\\\"}}, \\\"required\\\": [\\\"a\\\", \\\"b\\\"]}\\nestimate_derivative: Estimate the derivative of a function at a given point. | Parameters: {\\\"type\\\": \\\"dict\\\", \\\"properties\\\": {\\\"function\\\": {\\\"type\\\": \\\"string\\\", \\\"description\\\": \\\"The function to calculate the derivative of. This should be the string literal of lambda function\\\"}, \\\"x\\\": {\\\"type\\\": \\\"integer\\\", \\\"description\\\": \\\"The point to calculate the derivative at.\\\"}}, \\\"required\\\": [\\\"function\\\", \\\"x\\\"]}\\nfind_term_on_urban_dictionary: Finds the definition of a term on Urban Dictionary. | Parameters: {\\\"type\\\": \\\"dict\\\", \\\"properties\\\": {\\\"term\\\": {\\\"type\\\": \\\"string\\\", \\\"description\\\": \\\"The term to find the definition of.\\\"}}, \\\"required\\\": [\\\"term\\\"]}\\nget_distance: Calculates the distance between two 2D points. | Parameters: {\\\"type\\\": \\\"dict\\\", \\\"properties\\\": {\\\"pointA\\\": {\\\"type\\\": \\\"tuple\\\", \\\"description\\\": \\\"The first point.\\\", \\\"items\\\": {\\\"type\\\": \\\"float\\\"}}, \\\"pointB\\\": {\\\"type\\\": \\\"tuple\\\", \\\"description\\\": \\\"The second point.\\\", \\\"items\\\": {\\\"type\\\": \\\"float\\\"}}}, \\\"required\\\": [\\\"pointA\\\", \\\"pointB\\\"]}\\ngeometry_area_circle: Calculates the area of a circle. | Parameters: {\\\"type\\\": \\\"dict\\\", \\\"properties\\\": {\\\"radius\\\": {\\\"type\\\": \\\"integer\\\", \\\"description\\\": \\\"The radius of the circle, in feet.\\\"}}, \\\"required\\\": [\\\"radius\\\"]}\\nget_covid_death_by_country: Finds the most up to date total deaths of a country result from COVID. | Parameters: {\\\"type\\\": \\\"dict\\\", \\\"properties\\\": {\\\"country\\\": {\\\"type\\\": \\\"string\\\", \\\"description\\\": \\\"The country to find the total deaths of, in the format of the country's full name.\\\"}}, \\\"required\\\": [\\\"country\\\"]}\\nget_active_covid_case_by_country: Finds the most up to date active cases of a country result from COVID. | Parameters: {\\\"type\\\": \\\"dict\\\", \\\"properties\\\": {\\\"country\\\": {\\\"type\\\": \\\"string\\\", \\\"description\\\": \\\"The country to find the active cases of, in the format of the country's full name.\\\"}}, \\\"required\\\": [\\\"country\\\"]}\\nmat_mul: Multiplies two matrices. | Parameters: {\\\"type\\\": \\\"dict\\\", \\\"properties\\\": {\\\"matA\\\": {\\\"type\\\": \\\"array\\\", \\\"description\\\": \\\"The first matrix.\\\", \\\"items\\\": {\\\"type\\\": \\\"array\\\", \\\"items\\\": {\\\"type\\\": \\\"integer\\\"}}}, \\\"matB\\\": {\\\"type\\\": \\\"array\\\", \\\"description\\\": \\\"The second matrix.\\\", \\\"items\\\": {\\\"type\\\": \\\"array\\\", \\\"items\\\": {\\\"type\\\": \\\"integer\\\"}}}}, \\\"required\\\": [\\\"matA\\\", \\\"matB\\\"]}\\nget_coordinate_by_ip_address: Finds the latitude and longitude of an IP address. | Parameters: {\\\"type\\\": \\\"dict\\\", \\\"properties\\\": {\\\"ip_address\\\": {\\\"type\\\": \\\"string\\\", \\\"description\\\": \\\"The IP address to find the location of.\\\"}}, \\\"required\\\": [\\\"ip_address\\\"]}\\nget_coordinates_from_city: Fetches the latitude and longitude of a given city name using the Maps.co Geocoding API. | Parameters: {\\\"type\\\": \\\"dict\\\", \\\"properties\\\": {\\\"city_name\\\": {\\\"type\\\": \\\"string\\\", \\\"description\\\": \\\"The name of the city, such as 'Rome'.\\\"}}, \\\"required\\\": [\\\"city_name\\\"]}\\nget_product_name_by_amazon_ASIN: Finds the price of a product by its Amazon ASIN. | Parameters: {\\\"type\\\": \\\"dict\\\", \\\"properties\\\": {\\\"ASIN\\\": {\\\"type\\\": \\\"string\\\", \\\"description\\\": \\\"The Amazon ASIN of the product.\\\"}}, \\\"required\\\": [\\\"ASIN\\\"]}\\nget_price_by_amazon_ASIN: Finds the price of a product by its Amazon ASIN. | Parameters: {\\\"type\\\": \\\"dict\\\", \\\"properties\\\": {\\\"ASIN\\\": {\\\"type\\\": \\\"string\\\", \\\"description\\\": \\\"The Amazon ASIN of the product.\\\"}}, \\\"required\\\": [\\\"ASIN\\\"]}\\nget_prime_factors: Calculates the prime factors of a number. | Parameters: {\\\"type\\\": \\\"dict\\\", \\\"properties\\\": {\\\"number\\\": {\\\"type\\\": \\\"integer\\\", \\\"description\\\": \\\"The number to calculate the prime factors of.\\\"}}, \\\"required\\\": [\\\"number\\\"]}\\nretrieve_city_based_on_zipcode: Finds the city of a zipcode. | Parameters: {\\\"type\\\": \\\"dict\\\", \\\"properties\\\": {\\\"zipcode\\\": {\\\"type\\\": \\\"string\\\", \\\"description\\\": \\\"The zipcode of the city.\\\"}}, \\\"required\\\": [\\\"zipcode\\\"]}\\nmath_factorial: Calculates the factorial of a number. | Parameters: {\\\"type\\\": \\\"dict\\\", \\\"properties\\\": {\\\"n\\\": {\\\"type\\\": \\\"integer\\\", \\\"description\\\": \\\"The number to calculate the factorial of.\\\"}}, \\\"required\\\": [\\\"n\\\"]}\\nquadratic_roots: Calculates the roots of a quadratic equation. | Parameters: {\\\"type\\\": \\\"dict\\\", \\\"properties\\\": {\\\"a\\\": {\\\"type\\\": \\\"integer\\\", \\\"description\\\": \\\"The first coefficient.\\\"}, \\\"b\\\": {\\\"type\\\": \\\"integer\\\", \\\"description\\\": \\\"The second coefficient.\\\"}, \\\"c\\\": {\\\"type\\\": \\\"integer\\\", \\\"description\\\": \\\"The third coefficient.\\\"}}, \\\"required\\\": [\\\"a\\\", \\\"b\\\", \\\"c\\\"]}\\nadd_binary_numbers: Adds two binary numbers. | Parameters: {\\\"type\\\": \\\"dict\\\", \\\"properties\\\": {\\\"a\\\": {\\\"type\\\": \\\"string\\\", \\\"description\\\": \\\"The first binary number.\\\"}, \\\"b\\\": {\\\"type\\\": \\\"string\\\", \\\"description\\\": \\\"The second binary number.\\\"}}, \\\"required\\\": [\\\"a\\\", \\\"b\\\"]}\\nconvert_binary_to_decimal: Converts a binary number to a decimal number. | Parameters: {\\\"type\\\": \\\"dict\\\", \\\"properties\\\": {\\\"binary\\\": {\\\"type\\\": \\\"string\\\", \\\"description\\\": \\\"The binary number to convert.\\\"}}, \\\"required\\\": [\\\"binary\\\"]}\\nconvert_decimal_to_hex: Converts a decimal number to a hexadecimal number. | Parameters: {\\\"type\\\": \\\"dict\\\", \\\"properties\\\": {\\\"decimal\\\": {\\\"type\\\": \\\"integer\\\", \\\"description\\\": \\\"The decimal number to convert.\\\"}}, \\\"required\\\": [\\\"decimal\\\"]}\\nlinear_regression: Finds the linear regression of a set of points and evaluates it at a given point. | Parameters: {\\\"type\\\": \\\"dict\\\", \\\"properties\\\": {\\\"x\\\": {\\\"type\\\": \\\"array\\\", \\\"description\\\": \\\"The x coordinates of the points.\\\", \\\"items\\\": {\\\"type\\\": \\\"integer\\\"}}, \\\"y\\\": {\\\"type\\\": \\\"array\\\", \\\"description\\\": \\\"The y coordinates of the points.\\\", \\\"items\\\": {\\\"type\\\": \\\"integer\\\"}}, \\\"point\\\": {\\\"type\\\": \\\"integer\\\", \\\"description\\\": \\\"The point to calculate the linear regression at.\\\"}}, \\\"required\\\": [\\\"x\\\", \\\"y\\\", \\\"point\\\"]}\\ncalculate_slope: Calculates the slope of the linear regression line from a set of points. | Parameters: {\\\"type\\\": \\\"dict\\\", \\\"properties\\\": {\\\"x\\\": {\\\"type\\\": \\\"array\\\", \\\"description\\\": \\\"The x coordinates of the points.\\\", \\\"items\\\": {\\\"type\\\": \\\"integer\\\"}}, \\\"y\\\": {\\\"type\\\": \\\"array\\\", \\\"description\\\": \\\"The y coordinates of the points.\\\", \\\"items\\\": {\\\"type\\\": \\\"integer\\\"}}}, \\\"required\\\": [\\\"x\\\", \\\"y\\\"]}\\ncalculate_intercept: Calculates the y-intercept of the linear regression line from a set of points and a given slope. | Parameters: {\\\"type\\\": \\\"dict\\\", \\\"properties\\\": {\\\"x\\\": {\\\"type\\\": \\\"array\\\", \\\"description\\\": \\\"The x coordinates of the points.\\\", \\\"items\\\": {\\\"type\\\": \\\"integer\\\"}}, \\\"y\\\": {\\\"type\\\": \\\"array\\\", \\\"description\\\": \\\"The y coordinates of the points.\\\", \\\"items\\\": {\\\"type\\\": \\\"integer\\\"}}, \\\"slope\\\": {\\\"type\\\": \\\"integer\\\", \\\"description\\\": \\\"The slope of the linear regression line.\\\"}}, \\\"required\\\": [\\\"x\\\", \\\"y\\\", \\\"slope\\\"]}\\npredict_value: Predicts the value of y given the slope, intercept, and an x value. | Parameters: {\\\"type\\\": \\\"dict\\\", \\\"properties\\\": {\\\"slope\\\": {\\\"type\\\": \\\"integer\\\", \\\"description\\\": \\\"The slope of the linear regression line.\\\"}, \\\"intercept\\\": {\\\"type\\\": \\\"integer\\\", \\\"description\\\": \\\"The y-intercept of the linear regression line.\\\"}, \\\"x\\\": {\\\"type\\\": \\\"integer\\\", \\\"description\\\": \\\"The x value to predict the y for.\\\"}}, \\\"required\\\": [\\\"slope\\\", \\\"intercept\\\", \\\"x\\\"]}\\ncalculate_investment_value: Calculates the value of an investment over time. | Parameters: {\\\"type\\\": \\\"dict\\\", \\\"properties\\\": {\\\"initial_investment\\\": {\\\"type\\\": \\\"integer\\\", \\\"description\\\": \\\"The initial investment amount.\\\"}, \\\"annual_contribution\\\": {\\\"type\\\": \\\"integer\\\", \\\"description\\\": \\\"The annual contribution amount.\\\"}, \\\"years\\\": {\\\"type\\\": \\\"integer\\\", \\\"description\\\": \\\"The number of years to calculate the investment value for.\\\"}, \\\"annual_return\\\": {\\\"type\\\": \\\"float\\\", \\\"description\\\": \\\"The annual return rate, ranging from 0 to 1.\\\"}, \\\"inflation_rate\\\": {\\\"type\\\": \\\"array\\\", \\\"items\\\": {\\\"type\\\": \\\"float\\\"}, \\\"description\\\": \\\"The inflation rate for each year in percentage, ranging from 0 to 1.\\\"}, \\\"adjust_for_inflation\\\": {\\\"type\\\": \\\"boolean\\\", \\\"default\\\": true, \\\"description\\\": \\\"Whether to adjust the investment value for inflation.\\\"}}, \\\"required\\\": [\\\"initial_investment\\\", \\\"annual_contribution\\\", \\\"years\\\", \\\"annual_return\\\", \\\"inflation_rate\\\"]}\\ncompound_interest: Calculates compound interest over time. | Parameters: {\\\"type\\\": \\\"dict\\\", \\\"properties\\\": {\\\"principal\\\": {\\\"type\\\": \\\"integer\\\", \\\"description\\\": \\\"The principal amount.\\\"}, \\\"rate\\\": {\\\"type\\\": \\\"float\\\", \\\"description\\\": \\\"The annual interest rate.\\\"}, \\\"times_compounded\\\": {\\\"type\\\": \\\"integer\\\", \\\"description\\\": \\\"The number of times the interest is compounded per year.\\\"}, \\\"years\\\": {\\\"type\\\": \\\"integer\\\", \\\"description\\\": \\\"The number of years to calculate the compound interest for.\\\"}}, \\\"required\\\": [\\\"principal\\\", \\\"rate\\\", \\\"times_compounded\\\", \\\"years\\\"]}\\ninflation_adjustment: Adjusts an amount for inflation. | Parameters: {\\\"type\\\": \\\"dict\\\", \\\"properties\\\": {\\\"amount\\\": {\\\"type\\\": \\\"float\\\", \\\"description\\\": \\\"The amount to adjust for inflation.\\\"}, \\\"inflation_rate\\\": {\\\"type\\\": \\\"float\\\", \\\"description\\\": \\\"The annual inflation float.\\\"}, \\\"years\\\": {\\\"type\\\": \\\"integer\\\", \\\"description\\\": \\\"The number of years to adjust for inflation.\\\"}}, \\\"required\\\": [\\\"amount\\\", \\\"inflation_rate\\\", \\\"years\\\"]}\\nadjust_for_inflation: Adjusts the investment value for inflation for each year. | Parameters: {\\\"type\\\": \\\"dict\\\", \\\"properties\\\": {\\\"investment_value\\\": {\\\"type\\\": \\\"float\\\", \\\"description\\\": \\\"The value of the investment to adjust.\\\"}, \\\"inflation_rates\\\": {\\\"type\\\": \\\"array\\\", \\\"items\\\": {\\\"type\\\": \\\"float\\\"}, \\\"description\\\": \\\"The inflation rates for each year.\\\"}}, \\\"required\\\": [\\\"investment_value\\\", \\\"inflation_rates\\\"]}\\ncalculate_basal_metabolic_rate: Calculates the Basal Metabolic Rate (BMR) of a person. | Parameters: {\\\"type\\\": \\\"dict\\\", \\\"properties\\\": {\\\"weight\\\": {\\\"type\\\": \\\"float\\\", \\\"description\\\": \\\"The weight of the person in kilograms.\\\"}, \\\"height\\\": {\\\"type\\\": \\\"float\\\", \\\"description\\\": \\\"The height of the person in centimeters.\\\"}, \\\"age\\\": {\\\"type\\\": \\\"float\\\", \\\"description\\\": \\\"The age of the person in years.\\\"}, \\\"gender\\\": {\\\"type\\\": \\\"string\\\", \\\"description\\\": \\\"The gender of the person. Possible options [male, female, other].\\\"}}, \\\"required\\\": [\\\"weight\\\", \\\"height\\\", \\\"age\\\", \\\"gender\\\"]}\\ncalculate_daily_energy_expenditure: Calculates the daily energy expenditure based on BMR and activity level. | Parameters: {\\\"type\\\": \\\"dict\\\", \\\"properties\\\": {\\\"basal_metabolic_rate\\\": {\\\"type\\\": \\\"float\\\", \\\"description\\\": \\\"The BMR of the person.\\\"}, \\\"activity_level\\\": {\\\"type\\\": \\\"float\\\", \\\"description\\\": \\\"The activity level of the person. Possible options [1,2,3,4,5].\\\"}}, \\\"required\\\": [\\\"basal_metabolic_rate\\\", \\\"activity_level\\\"]}\\ncalculate_nutritional_needs: Calculates the nutritional needs of a person based on their weight, height, age, gender, activity level, and goal. | Parameters: {\\\"type\\\": \\\"dict\\\", \\\"properties\\\": {\\\"weight\\\": {\\\"type\\\": \\\"float\\\", \\\"description\\\": \\\"The weight of the person in kilograms.\\\"}, \\\"height\\\": {\\\"type\\\": \\\"float\\\", \\\"description\\\": \\\"The height of the person in centimeters.\\\"}, \\\"age\\\": {\\\"type\\\": \\\"float\\\", \\\"description\\\": \\\"The age of the person in years.\\\"}, \\\"gender\\\": {\\\"type\\\": \\\"string\\\", \\\"description\\\": \\\"The gender of the person. Possible options [male, female, other].\\\"}, \\\"activity_level\\\": {\\\"type\\\": \\\"float\\\", \\\"description\\\": \\\"The activity level of the person. Possible options [1,2,3,4,5].\\\"}, \\\"goal\\\": {\\\"type\\\": \\\"string\\\", \\\"description\\\": \\\"The goal of the person. Possible options [lose, gain, maintain].\\\"}}, \\\"required\\\": [\\\"weight\\\", \\\"height\\\", \\\"age\\\", \\\"gender\\\", \\\"activity_level\\\", \\\"goal\\\"]}\\nbook_room: Books a room for a customer. | Parameters: {\\\"type\\\": \\\"dict\\\", \\\"properties\\\": {\\\"room_type\\\": {\\\"type\\\": \\\"dict\\\", \\\"description\\\": \\\"The room type to book.\\\"}, \\\"check_in_date\\\": {\\\"type\\\": \\\"string\\\", \\\"description\\\": \\\"The check-in date in format of MM-DD-YYYY.\\\"}, \\\"check_out_date\\\": {\\\"type\\\": \\\"string\\\", \\\"description\\\": \\\"The check-out date in format of MM-DD-YYYY.\\\"}, \\\"customer_id\\\": {\\\"type\\\": \\\"string\\\", \\\"description\\\": \\\"The customer ID.\\\"}, \\\"discount_code\\\": {\\\"type\\\": \\\"string\\\", \\\"description\\\": \\\"The discount code (if any).\\\", \\\"default\\\": null}}, \\\"required\\\": [\\\"room_type\\\", \\\"check_in_date\\\", \\\"check_out_date\\\", \\\"customer_id\\\"]}\\ncalculate_total_price: Calculates the total price of the room booking. | Parameters: {\\\"type\\\": \\\"dict\\\", \\\"properties\\\": {\\\"room_price\\\": {\\\"type\\\": \\\"float\\\", \\\"description\\\": \\\"The price per night of the room.\\\"}, \\\"nights\\\": {\\\"type\\\": \\\"integer\\\", \\\"description\\\": \\\"The number of nights for the booking.\\\"}, \\\"discount\\\": {\\\"type\\\": \\\"float\\\", \\\"description\\\": \\\"The discount amount (if any).\\\", \\\"default\\\": 0}}, \\\"required\\\": [\\\"room_price\\\", \\\"nights\\\"]}\\nconfirm_booking: Confirms the room booking and sends a confirmation to the customer. | Parameters: {\\\"type\\\": \\\"dict\\\", \\\"properties\\\": {\\\"customer_id\\\": {\\\"type\\\": \\\"string\\\", \\\"description\\\": \\\"The customer ID.\\\"}, \\\"room_number\\\": {\\\"type\\\": \\\"string\\\", \\\"description\\\": \\\"The room number assigned to the booking.\\\"}, \\\"total_price\\\": {\\\"type\\\": \\\"float\\\", \\\"description\\\": \\\"The total price for the booking.\\\"}}, \\\"required\\\": [\\\"customer_id\\\", \\\"room_number\\\", \\\"total_price\\\"]}\\norder_food: Orders food for a customer. Return the total price. | Parameters: {\\\"type\\\": \\\"dict\\\", \\\"properties\\\": {\\\"item\\\": {\\\"type\\\": \\\"array\\\", \\\"items\\\": {\\\"type\\\": \\\"string\\\"}, \\\"description\\\": \\\"the name of the product.\\\"}, \\\"quantity\\\": {\\\"type\\\": \\\"array\\\", \\\"items\\\": {\\\"type\\\": \\\"integer\\\"}, \\\"description\\\": \\\"the number of the product purchased.\\\"}, \\\"price\\\": {\\\"type\\\": \\\"array\\\", \\\"items\\\": {\\\"type\\\": \\\"float\\\"}, \\\"description\\\": \\\"the price of the product.\\\"}}, \\\"required\\\": [\\\"item\\\", \\\"quantity\\\", \\\"price\\\"]}\\ncalculate_total: Calculates the total price of an order given the quantities and prices. | Parameters: {\\\"type\\\": \\\"dict\\\", \\\"properties\\\": {\\\"quantities\\\": {\\\"type\\\": \\\"array\\\", \\\"items\\\": {\\\"type\\\": \\\"integer\\\"}, \\\"description\\\": \\\"The quantities of each product.\\\"}, \\\"prices\\\": {\\\"type\\\": \\\"array\\\", \\\"items\\\": {\\\"type\\\": \\\"float\\\"}, \\\"description\\\": \\\"The price of each product.\\\"}}, \\\"required\\\": [\\\"quantities\\\", \\\"prices\\\"]}\\napply_discount: Applies a discount to the total price. | Parameters: {\\\"type\\\": \\\"dict\\\", \\\"properties\\\": {\\\"total\\\": {\\\"type\\\": \\\"float\\\", \\\"description\\\": \\\"The original total price.\\\"}, \\\"discount\\\": {\\\"type\\\": \\\"float\\\", \\\"description\\\": \\\"The discount percentage to apply.\\\"}}, \\\"required\\\": [\\\"total\\\", \\\"discount\\\"]}\\nget_movie_director: Fetches the director of a movie from the OMDB API. | Parameters: {\\\"type\\\": \\\"dict\\\", \\\"properties\\\": {\\\"movie_name\\\": {\\\"type\\\": \\\"string\\\", \\\"description\\\": \\\"The name of the movie.\\\"}}, \\\"required\\\": [\\\"movie_name\\\"]}\\ncalculate_interest_rate: Calculates the interest rate for a given principal, rate, and time. | Parameters: {\\\"type\\\": \\\"dict\\\", \\\"properties\\\": {\\\"principal\\\": {\\\"type\\\": \\\"float\\\", \\\"description\\\": \\\"The initial amount of money.\\\"}, \\\"rate\\\": {\\\"type\\\": \\\"float\\\", \\\"description\\\": \\\"The interest rate per period.\\\"}, \\\"time\\\": {\\\"type\\\": \\\"float\\\", \\\"description\\\": \\\"The time the money is invested or borrowed for.\\\"}}, \\\"required\\\": [\\\"principal\\\", \\\"rate\\\", \\\"time\\\"]}\\nconvert_temperature: Converts temperature from Celsius to Fahrenheit or vice versa. | Parameters: {\\\"type\\\": \\\"dict\\\", \\\"properties\\\": {\\\"temperature\\\": {\\\"type\\\": \\\"float\\\", \\\"description\\\": \\\"The temperature to convert.\\\"}, \\\"unit_from\\\": {\\\"type\\\": \\\"string\\\", \\\"description\\\": \\\"The current unit of the temperature (Celsius or Fahrenheit).\\\"}, \\\"unit_to\\\": {\\\"type\\\": \\\"string\\\", \\\"description\\\": \\\"The unit to convert the temperature to (Celsius or Fahrenheit).\\\"}}, \\\"required\\\": [\\\"temperature\\\", \\\"unit_from\\\", \\\"unit_to\\\"]}\\ngenerate_random_number: Generates a random number within a specified range. | Parameters: {\\\"type\\\": \\\"dict\\\", \\\"properties\\\": {\\\"min\\\": {\\\"type\\\": \\\"integer\\\", \\\"description\\\": \\\"The minimum value of the range.\\\"}, \\\"max\\\": {\\\"type\\\": \\\"integer\\\", \\\"description\\\": \\\"The maximum value of the range.\\\"}}, \\\"required\\\": [\\\"min\\\", \\\"max\\\"]}\\nget_movie_rating: Fetches the age rating of a movie from the OMDB API. | Parameters: {\\\"type\\\": \\\"dict\\\", \\\"properties\\\": {\\\"movie_name\\\": {\\\"type\\\": \\\"string\\\", \\\"description\\\": \\\"The name of the movie.\\\"}}, \\\"required\\\": [\\\"movie_name\\\"]}\\nget_movie_genre: Retrieves the genre of a movie from the OMDB API. | Parameters: {\\\"type\\\": \\\"dict\\\", \\\"properties\\\": {\\\"movie_name\\\": {\\\"type\\\": \\\"string\\\", \\\"description\\\": \\\"The name of the movie to retrieve the genre for.\\\"}}, \\\"required\\\": [\\\"movie_name\\\"]}\\nget_director_by_movie_name: Gets the director of a movie. | Parameters: {\\\"type\\\": \\\"dict\\\", \\\"properties\\\": {\\\"movie_name\\\": {\\\"type\\\": \\\"string\\\", \\\"description\\\": \\\"The movie to find the director of.\\\"}}, \\\"required\\\": [\\\"movie_name\\\"]}\\nconvert_coordinates: Converts a list of tuples into a list of lists. | Parameters: {\\\"type\\\": \\\"dict\\\", \\\"properties\\\": {\\\"coordinates\\\": {\\\"type\\\": \\\"array\\\", \\\"items\\\": {\\\"type\\\": \\\"tuple\\\", \\\"items\\\": {\\\"type\\\": \\\"float\\\"}, \\\"description\\\": \\\"A single coordinate represented by a tuple (x, y).\\\"}, \\\"description\\\": \\\"The coordinates to be converted, where each coordinate is a tuple (x, y).\\\"}}, \\\"required\\\": [\\\"coordinates\\\"]}\\npolygon_area: Calculate the area of a polygon given its vertices using the shoelace formula. | Parameters: {\\\"type\\\": \\\"dict\\\", \\\"properties\\\": {\\\"vertices\\\": {\\\"type\\\": \\\"array\\\", \\\"items\\\": {\\\"type\\\": \\\"array\\\", \\\"items\\\": {\\\"type\\\": \\\"float\\\"}, \\\"minItems\\\": 2, \\\"maxItems\\\": 2, \\\"description\\\": \\\"A single vertex represented by a 2 element list [x, y].\\\"}, \\\"description\\\": \\\"The vertices of the polygon, where each vertex is a 2 element list [x, y].\\\"}}, \\\"required\\\": [\\\"vertices\\\"]}\\nvalidate_polygon: Checks if the given vertices form a valid polygon. | Parameters: {\\\"type\\\": \\\"dict\\\", \\\"properties\\\": {\\\"vertices\\\": {\\\"type\\\": \\\"array\\\", \\\"items\\\": {\\\"type\\\": \\\"array\\\", \\\"items\\\": {\\\"type\\\": \\\"float\\\"}, \\\"description\\\": \\\"A single vertex represented by a 2 element list [x, y].\\\"}, \\\"description\\\": \\\"The vertices of the polygon, where each vertex is a 2 element list [x, y].\\\"}}, \\\"required\\\": [\\\"vertices\\\"]}\"\n        ],\n        \"semantic_type\": \"\",\n        \"description\": \"\"\n      }\n    }\n  ]\n}"
            }
          },
          "metadata": {},
          "execution_count": 6
        }
      ]
    },
    {
      "cell_type": "markdown",
      "source": [
        "## Modify Benchmark Dataset\n",
        "\n",
        "The BFCL Dataset does not have any `negative` examples, i.e. only `question`, `available_tools`, and `ground_truth` are present. In order to accurately benchmark our LLM-as-a-Judge, this code snippet appends some `incorrect` examples to our dataset, by adding 20 rows of data where the `incorrect` tool is selected."
      ],
      "metadata": {
        "id": "eO7_Lz5iSxnt"
      }
    },
    {
      "cell_type": "code",
      "source": [
        "import random\n",
        "import json\n",
        "import re\n",
        "\n",
        "# Parse tool definitions into a dict: tool_name -> list of required parameters\n",
        "def extract_tool_param_templates(tool_definitions):\n",
        "    tools = {}\n",
        "    pattern = r\"^(\\w+):.*?\\| Parameters: (.*)$\"\n",
        "    for line in tool_definitions.strip().split(\"\\n\"):\n",
        "        match = re.match(pattern, line.strip())\n",
        "        if match:\n",
        "            name, param_json = match.groups()\n",
        "            try:\n",
        "                param_schema = json.loads(param_json)\n",
        "                required = param_schema.get(\"required\", [])\n",
        "                tools[name] = required\n",
        "            except json.JSONDecodeError:\n",
        "                continue\n",
        "    return tools\n",
        "\n",
        "tool_param_templates = extract_tool_param_templates(tool_definitions_text)\n",
        "tool_names = list(tool_param_templates.keys())\n",
        "\n",
        "# Sample 20 wrong examples\n",
        "wrong_examples = []\n",
        "for i in range(20):\n",
        "    row = df_eval.iloc[i]\n",
        "    question = row[\"question\"]\n",
        "    correct_tool_call_str = row[\"tool_call\"]\n",
        "\n",
        "    # Get correct tool name (assume it's before the first '(')\n",
        "    try:\n",
        "        correct_tool_name = correct_tool_call_str.split(\"(\")[0]\n",
        "    except Exception as e:\n",
        "        print(f\"Skipping row {i} due to error: {e}\")\n",
        "        continue\n",
        "\n",
        "    # Get a different tool\n",
        "    incorrect_tools = [tool for tool in tool_names if tool != correct_tool_name]\n",
        "    if not incorrect_tools:\n",
        "        continue\n",
        "\n",
        "    wrong_tool = random.choice(incorrect_tools)\n",
        "    required_params = tool_param_templates.get(wrong_tool, [])\n",
        "\n",
        "    # Build dummy argument string\n",
        "    dummy_args = []\n",
        "    for param in required_params:\n",
        "        dummy_value = random.choice([42, 3.14, '\"example\"', '[1, 2, 3]', 'True'])  # random but plausible\n",
        "        dummy_args.append(f\"{param}={dummy_value}\")\n",
        "\n",
        "    wrong_tool_call = f\"{wrong_tool}({', '.join(dummy_args)})\"\n",
        "\n",
        "    wrong_examples.append({\n",
        "        \"question\": question,\n",
        "        \"tool_call\": wrong_tool_call,\n",
        "        \"tool_definitions\": tool_definitions_text\n",
        "    })\n",
        "\n",
        "# Combine into final dataset\n",
        "df_wrong = pd.DataFrame(wrong_examples)\n",
        "df_eval = pd.concat([df_eval, df_wrong], ignore_index=True).sample(frac=1).reset_index(drop=True)\n",
        "\n",
        "# Assign labels: correct for original, incorrect for injected examples\n",
        "df_eval[\"true_label\"] = \"correct\"\n",
        "df_eval.loc[df_eval.index[-len(df_wrong):], \"true_label\"] = \"incorrect\"\n",
        "\n",
        "# Optional: shuffle the dataset if needed\n",
        "df_eval = df_eval.sample(frac=1).reset_index(drop=True)\n"
      ],
      "metadata": {
        "id": "TnUiOiwYS31x"
      },
      "execution_count": 7,
      "outputs": []
    },
    {
      "cell_type": "markdown",
      "metadata": {
        "id": "1BsKhwkqEGbc"
      },
      "source": [
        "## Display Agent Tool Selection Prompt Template\n",
        "\n",
        "View the default template used to evaluate agent tool calling. You can tweak this template and evaluate its performance relative to the default."
      ]
    },
    {
      "cell_type": "code",
      "source": [
        "print(templates.TOOL_SELECTION_PROMPT_TEMPLATE)"
      ],
      "metadata": {
        "id": "mbuxlKUqlvk0",
        "colab": {
          "base_uri": "https://localhost:8080/"
        },
        "outputId": "6403ec50-182f-438d-eb0f-faac36c4e0d3"
      },
      "execution_count": 8,
      "outputs": [
        {
          "output_type": "stream",
          "name": "stdout",
          "text": [
            "\n",
            "You are an evaluation assistant assessing whether a tool call correctly matches a user's question. \n",
            "Your task is to decide if the tool selected is the best choice to answer the question,\n",
            "using only the list of available tools provided below. You are not responsible for checking the \n",
            "parameters or arguments passed to the tool. You are evaluating **only** whether the correct tool \n",
            "was selected based on the content of the question. Think like a grading rubric. Be strict. If the\n",
            "selected tool is not clearly correct based on the question alone, label it \"incorrect\". Do not \n",
            "make assumptions or infer information that is not explicitly stated in the question. \n",
            "Only use the information provided.\n",
            "\n",
            "Your response must be a **single word**: either `\"correct\"` or `\"incorrect\"`. \n",
            "Do not include any explanation, punctuation, or other characters. The output will be parsed\n",
            "programmatically.\n",
            "\n",
            "---\n",
            "\n",
            "Label the tool call as `\"correct\"` if **all** of the following are true:\n",
            "- The selected tool is clearly the best fit to answer the user's question\n",
            "- The tool is among those available in the tool list\n",
            "- The question contains enough explicit information to justify selecting this tool\n",
            "\n",
            "Label the tool call as `\"incorrect\"` if **any** of the following are true:\n",
            "- A more appropriate tool exists to answer the question\n",
            "- The tool is not clearly justified by the question content\n",
            "- The tool would not produce a relevant or meaningful answer to the question\n",
            "\n",
            "---\n",
            "\n",
            "[BEGIN DATA]\n",
            "************\n",
            "[Question]: {question}\n",
            "************\n",
            "[Tool Called]: {tool_call}\n",
            "[END DATA]\n",
            "\n",
            "[Tool Definitions]: {tool_definitions}\n",
            "\n"
          ]
        }
      ]
    },
    {
      "cell_type": "markdown",
      "metadata": {
        "id": "oR2oNMS6EGbc"
      },
      "source": [
        "Eval template variables:\n",
        "\n",
        "- **question** : The question the user poses\n",
        "- **tool_call** : The tool that is actually called (ground truth)\n",
        "- **tool_definitions** : All the available tools to the agent"
      ]
    },
    {
      "cell_type": "markdown",
      "metadata": {
        "id": "tV3bLwrAEGbd"
      },
      "source": [
        "## Configure the LLM\n",
        "\n",
        "Configure your API keys."
      ]
    },
    {
      "cell_type": "code",
      "execution_count": 9,
      "metadata": {
        "id": "dlm4HdAGEGbd",
        "colab": {
          "base_uri": "https://localhost:8080/"
        },
        "outputId": "526de3da-f33d-4c34-a742-b1ddb9b67a1a"
      },
      "outputs": [
        {
          "name": "stdout",
          "output_type": "stream",
          "text": [
            "🔑 Enter your OpenAI API key: ··········\n",
            "🔑 Enter your Anthropic API key: ··········\n"
          ]
        }
      ],
      "source": [
        "if not (openai_api_key := os.getenv(\"OPENAI_API_KEY\")):\n",
        "    openai_api_key = getpass(\"🔑 Enter your OpenAI API key: \")\n",
        "\n",
        "openai.api_key = openai_api_key\n",
        "os.environ[\"OPENAI_API_KEY\"] = openai_api_key\n",
        "\n",
        "\n",
        "# Set Anthropic API key\n",
        "if not (anthropic_api_key := os.getenv(\"ANTHROPIC_API_KEY\")):\n",
        "    anthropic_api_key = getpass(\"🔑 Enter your Anthropic API key: \")\n",
        "\n",
        "os.environ[\"ANTHROPIC_API_KEY\"] = anthropic_api_key\n"
      ]
    },
    {
      "cell_type": "markdown",
      "source": [
        "## Evaluate the Dataset Using Phoenix"
      ],
      "metadata": {
        "id": "9NJpkArqgrmE"
      }
    },
    {
      "cell_type": "code",
      "execution_count": 10,
      "metadata": {
        "outputId": "403f1f8e-ddf7-495e-8f73-c3ef87045d76",
        "colab": {
          "base_uri": "https://localhost:8080/",
          "height": 903,
          "referenced_widgets": [
            "fe9e80e89ae244a0bb2feda08d0557bc",
            "81ee49924d564dc68f568caa9c2bcd8e",
            "f466f8bdbebd45efa608991194e35738",
            "7808ea340ab74c5b96ea98a09d3d9f97",
            "2bc83391d6b0459891da6cb2f1bfe24c",
            "368bb8441fb44f9e8b187c8365c5de3a",
            "3f2ca6f51f0a4d31852d80354fcd620b",
            "064125ee444e4020bc93bf3fc772a5ae",
            "2d725fcad29a4617b6cbc73b314c7922",
            "05aba60e97f449b8804f8d2079050b2e",
            "d570c74402f0446695fb1f6fb19b8677",
            "1705f5687cd84cc0a2eb544826884ca1",
            "006f8a04a50b44298eff831d7c98cd79",
            "800a533207a94fb6adba4e0e2af2caca",
            "fb3e7897f5f44fe58b0e6cbd1e322b18",
            "f2a1839ff3c941fb9bd6ad916f80164b",
            "e7458e4b65a949f79cf2b21ad6a5c0c5",
            "9b086b0bbd51420494fc20700db25074",
            "309c0f803e2c4070a1088be61a5b41e7",
            "7e10b0b60c0044499061d1e1d35d8e8d",
            "6719d3740d9d4325bc08492efaddc726",
            "930b2ceb588e415c914a15cd2f138dd3",
            "b921f24c318343769190e22046f81972",
            "36f79f132fbe4b2ab768da88c36586c4",
            "c3034f829ae444458d92fb051af11ac9",
            "67fbfd563a7845858fc1c9cc808f3f43",
            "731fea2989114d24a3edb31255a28c13",
            "f98136a72f5b495da41e7f0f9e791c5c",
            "4e45513d14064ef1bcdd0e257a582a80",
            "1f4cd4aa71ff491bba20dfebbb61241d",
            "e7a4324bccf94c848e0a80d85fe4d1e5",
            "1b392d35667e4710b58e04e0d12cf54a",
            "f0f3fcbf816446df95c1356c05d3b469",
            "256f645ff12640a896e33f08c4c843e9",
            "35d74aa33af84edb989c59ce47cd265c",
            "fb30ba769cfd4818b604d616e1baa067",
            "cf22e6fe60184a9a92f21e92c67f2e7a",
            "85351bd5390e4c8bb5badfcb1df10342",
            "5fc64c7aa3014926a7e0807c380f9bb6",
            "7a855418b86e47bc893542e8c9c1b112",
            "e87518a78da84e44858ed976a21e026c",
            "70172c4c3cca47f5a9d6c878f0b7fff0",
            "09f2f17e13844b9cb0b75fcc3a4ca2ef",
            "d275db95a4ec4fbca934b239edfd4d43",
            "de1093e001af4d30b925792777ec56c0",
            "e2710a3a77134cae986eeb173d0908e2",
            "3db607cd8b594c18b918e3c5aaae4a0b",
            "5db357093d2f446990b820945aca80fd",
            "90761fef71d84abe844d0c5b92956237",
            "aef13f0cc5f04b73abaa878e9116690f",
            "41eb76d88ab84aa9b7ab4f217174ca92",
            "a80ff5cfec9e43fc9d96fb8a8f3b6fe7",
            "e7f2c96f0b5d4eafa5be8abaa80af8a8",
            "9a2bc79f2a734ab78d06a53820182645",
            "33488109501744efa234d55db08d498c",
            "365fe028ad0246418359dc247780c229",
            "cd20676a159a40e095048854c9c23370",
            "8d1033087b9f426fbc44f45e4c86e6a7",
            "2386a9c376e848398724f902d67e69d2",
            "d23315f9b7114362a8d5b82a0cbd3be2",
            "a717b15be32544e4b719c4bb9478291c",
            "6a5c714309d4416f9349b486443cd8dd",
            "2d8fbe57ac1342268b402a58e8f37889",
            "caed8e963e7741a4a6e3953615b6bb98",
            "e279ea19621446108280d8b4c7d25e74",
            "45c6630cc06e48e1bffa0b1d4994913c",
            "b72cfcc985d94023945b5ecd7c1f5b18",
            "a993594e3bc044bfabb0fca07dc21424",
            "c2479a494a8446b4acefc233a52cb746",
            "8f2a72be2ff74769b5111745875a3cf9",
            "9366e6289c7944ad94f4956d93a71a41",
            "883dc53e2ccb47918be1e62770a44671",
            "c3a002d841ee4775a65e15022d5244de",
            "b92eb2adabab4322882075128233bc43",
            "dca6f6b2245948b2ad811225bef52d56",
            "81cfdee1f4bd46fa8dd3082c9002d8d2",
            "05f5850e9828403faf4108b3e797f389",
            "32fa746f2b754c8ca4a81a0cea237532",
            "6d5081c5204244f794d8b3936da3328a",
            "65dfe228e3604e4d8c19ee79a3e530e8",
            "81157d3b01d14522b5e828d4c2e6ab02",
            "77cf2140e2c54234922853f9026aaf70",
            "b9805e5236754f969e7c4d86a5d23d8b",
            "9aad361292224551920986f26966b1a1",
            "fa2aa224d54c4d1781fb86d5a1a3b48b",
            "2ad31b4b69b34afc88608d6376e1e760",
            "d0ff7c1863b840e49c5cb2f3f78b978d",
            "9b90a2f9da9e48e5ba7f7ff1880131f5",
            "ce4830376f8943ac8c375e8a2ef7c529",
            "2543ac71490c49fd91dd85b5a5540b87",
            "d81296ca9c40448f9ba910ed0222d3a4",
            "520791ccdd0948a6b428fd49502ed2af",
            "407828f280244bf393f5a16bc3ddaf67",
            "cc3779ff7b6d43a8b7fd85a8af1f8a45",
            "2cf9c8722651467ea3348c1c6d92f504",
            "0feac7d3a6bb4deda8848e3401355128",
            "ab83bf55ff504cf5b314a9a4a81c4917",
            "21d63f768b18463cbacbcd6ab78330be",
            "9b352366f139412ebb8fe6779ed22f37",
            "43640ad1dabf464cb93aeb8f20d78844",
            "7da3acf05b2f4cff80e18adf1a9d0c44",
            "c695b154aa5c42d5befca1ee1f2f07d9",
            "9ad54e5c56ea48f289d08e17559e4eed",
            "33b6f641dbf24cdda9bf7935766f941c",
            "e4137057922241419353c3dc6313a32f",
            "376c55afe2f8490b9a8706e293dac3df",
            "b4aa1256614343e19e187d8dd7892a9f",
            "6bccf10fb039435c8787a979b22784ad",
            "5a1a966b42e64758af640e39a5fdaf1b",
            "6ef941ea85f642618b2d5f95da3af7b6",
            "fb1044e690b448a9be63642f3c870a08",
            "94c0fcf05a674cc2a434b400b878b9fa",
            "10692b0feed442d3810e6e6aedd021bf",
            "0c7355246a8348be850c57eb785c9cce",
            "8995b1cea4664ca19ba11d25172eea61",
            "5e40eee9097c436d92e9e31f8fc598e9",
            "1ddc36d879e846cc8f60a2fc1f3516da",
            "32d0087382dd48b298c8ade625f64f8d",
            "4614792563a14937a21c4fcb798c6fc6",
            "18ed7db929934bf9a2f3e74e01a40464",
            "141ad912f0644a34bf9be20a4e83da76",
            "56d1578bad744b6485a4fcfd8fab8121",
            "17faeb31f80844c9ae02f7523b5f304e",
            "d6ec9f8a6d9148a3832cbb11609ab3d5",
            "16bd7dd8bd27446db47d2b3933c723e3",
            "7838925f5e0746ecbcaff9894c9090ee",
            "0da51bec8d01445b82953086cee5dacc",
            "b0762bc5c97f4ee3b24a0fb0bd87ee1b",
            "b87621294c13465c8b0a350040ad1597",
            "ccefd862468e41efbf1fa29e64973870",
            "de9396294c9940b2a9bc7d3a4b7850bd",
            "7def62537c574b13b1d87403fad8a50e"
          ]
        },
        "id": "q5zDDCXqPwN0"
      },
      "outputs": [
        {
          "output_type": "stream",
          "name": "stderr",
          "text": [
            "\r  0%|          | 0/12 [00:00<?, ?it/s]"
          ]
        },
        {
          "output_type": "stream",
          "name": "stdout",
          "text": [
            "\n",
            "🧪 Evaluating OpenAI model: gpt-4o\n"
          ]
        },
        {
          "output_type": "display_data",
          "data": {
            "text/plain": [
              "llm_classify |          | 0/70 (0.0%) | ⏳ 00:00<? | ?it/s"
            ],
            "application/vnd.jupyter.widget-view+json": {
              "version_major": 2,
              "version_minor": 0,
              "model_id": "fe9e80e89ae244a0bb2feda08d0557bc"
            }
          },
          "metadata": {}
        },
        {
          "output_type": "stream",
          "name": "stderr",
          "text": [
            "\r  8%|▊         | 1/12 [00:10<01:51, 10.16s/it]"
          ]
        },
        {
          "output_type": "stream",
          "name": "stdout",
          "text": [
            "\n",
            "🧪 Evaluating OpenAI model: gpt-4o-mini\n"
          ]
        },
        {
          "output_type": "display_data",
          "data": {
            "text/plain": [
              "llm_classify |          | 0/70 (0.0%) | ⏳ 00:00<? | ?it/s"
            ],
            "application/vnd.jupyter.widget-view+json": {
              "version_major": 2,
              "version_minor": 0,
              "model_id": "1705f5687cd84cc0a2eb544826884ca1"
            }
          },
          "metadata": {}
        },
        {
          "output_type": "stream",
          "name": "stderr",
          "text": [
            "\r 17%|█▋        | 2/12 [00:18<01:31,  9.13s/it]"
          ]
        },
        {
          "output_type": "stream",
          "name": "stdout",
          "text": [
            "\n",
            "🧪 Evaluating OpenAI model: gpt-4\n"
          ]
        },
        {
          "output_type": "display_data",
          "data": {
            "text/plain": [
              "llm_classify |          | 0/70 (0.0%) | ⏳ 00:00<? | ?it/s"
            ],
            "application/vnd.jupyter.widget-view+json": {
              "version_major": 2,
              "version_minor": 0,
              "model_id": "b921f24c318343769190e22046f81972"
            }
          },
          "metadata": {}
        },
        {
          "output_type": "stream",
          "name": "stderr",
          "text": [
            "\r 25%|██▌       | 3/12 [00:39<02:10, 14.46s/it]"
          ]
        },
        {
          "output_type": "stream",
          "name": "stdout",
          "text": [
            "\n",
            "🧪 Evaluating OpenAI model: gpt-4-turbo\n"
          ]
        },
        {
          "output_type": "display_data",
          "data": {
            "text/plain": [
              "llm_classify |          | 0/70 (0.0%) | ⏳ 00:00<? | ?it/s"
            ],
            "application/vnd.jupyter.widget-view+json": {
              "version_major": 2,
              "version_minor": 0,
              "model_id": "256f645ff12640a896e33f08c4c843e9"
            }
          },
          "metadata": {}
        },
        {
          "output_type": "stream",
          "name": "stderr",
          "text": [
            "\r 33%|███▎      | 4/12 [00:49<01:43, 12.91s/it]"
          ]
        },
        {
          "output_type": "stream",
          "name": "stdout",
          "text": [
            "\n",
            "🧪 Evaluating OpenAI model: gpt-4-turbo-2024-04-09\n"
          ]
        },
        {
          "output_type": "display_data",
          "data": {
            "text/plain": [
              "llm_classify |          | 0/70 (0.0%) | ⏳ 00:00<? | ?it/s"
            ],
            "application/vnd.jupyter.widget-view+json": {
              "version_major": 2,
              "version_minor": 0,
              "model_id": "de1093e001af4d30b925792777ec56c0"
            }
          },
          "metadata": {}
        },
        {
          "output_type": "stream",
          "name": "stderr",
          "text": [
            "\r 42%|████▏     | 5/12 [00:59<01:23, 11.86s/it]"
          ]
        },
        {
          "output_type": "stream",
          "name": "stdout",
          "text": [
            "\n",
            "🧪 Evaluating OpenAI model: gpt-3.5-turbo\n"
          ]
        },
        {
          "output_type": "display_data",
          "data": {
            "text/plain": [
              "llm_classify |          | 0/70 (0.0%) | ⏳ 00:00<? | ?it/s"
            ],
            "application/vnd.jupyter.widget-view+json": {
              "version_major": 2,
              "version_minor": 0,
              "model_id": "365fe028ad0246418359dc247780c229"
            }
          },
          "metadata": {}
        },
        {
          "output_type": "stream",
          "name": "stderr",
          "text": [
            " 42%|████▏     | 5/12 [01:03<01:23, 11.86s/it]"
          ]
        },
        {
          "output_type": "stream",
          "name": "stdout",
          "text": [
            "Exception in worker on attempt 1: raised InternalServerError('upstream connect error or disconnect/reset before headers. reset reason: connection termination')\n",
            "Requeuing...\n"
          ]
        },
        {
          "output_type": "stream",
          "name": "stderr",
          "text": [
            "\r 50%|█████     | 6/12 [01:08<01:05, 10.87s/it]"
          ]
        },
        {
          "output_type": "stream",
          "name": "stdout",
          "text": [
            "\n",
            "🧪 Evaluating OpenAI model: gpt-3.5-turbo-0125\n"
          ]
        },
        {
          "output_type": "display_data",
          "data": {
            "text/plain": [
              "llm_classify |          | 0/70 (0.0%) | ⏳ 00:00<? | ?it/s"
            ],
            "application/vnd.jupyter.widget-view+json": {
              "version_major": 2,
              "version_minor": 0,
              "model_id": "b72cfcc985d94023945b5ecd7c1f5b18"
            }
          },
          "metadata": {}
        },
        {
          "output_type": "stream",
          "name": "stderr",
          "text": [
            "\r 58%|█████▊    | 7/12 [01:17<00:50, 10.05s/it]"
          ]
        },
        {
          "output_type": "stream",
          "name": "stdout",
          "text": [
            "\n",
            "🧪 Evaluating OpenAI model: o1\n"
          ]
        },
        {
          "output_type": "display_data",
          "data": {
            "text/plain": [
              "llm_classify |          | 0/70 (0.0%) | ⏳ 00:00<? | ?it/s"
            ],
            "application/vnd.jupyter.widget-view+json": {
              "version_major": 2,
              "version_minor": 0,
              "model_id": "32fa746f2b754c8ca4a81a0cea237532"
            }
          },
          "metadata": {}
        },
        {
          "output_type": "stream",
          "name": "stderr",
          "text": [
            "\r 67%|██████▋   | 8/12 [01:40<00:56, 14.20s/it]"
          ]
        },
        {
          "output_type": "stream",
          "name": "stdout",
          "text": [
            "\n",
            "🧪 Evaluating OpenAI model: o1-mini\n"
          ]
        },
        {
          "output_type": "display_data",
          "data": {
            "text/plain": [
              "llm_classify |          | 0/70 (0.0%) | ⏳ 00:00<? | ?it/s"
            ],
            "application/vnd.jupyter.widget-view+json": {
              "version_major": 2,
              "version_minor": 0,
              "model_id": "ce4830376f8943ac8c375e8a2ef7c529"
            }
          },
          "metadata": {}
        },
        {
          "output_type": "stream",
          "name": "stderr",
          "text": [
            "\r 75%|███████▌  | 9/12 [01:57<00:45, 15.27s/it]"
          ]
        },
        {
          "output_type": "stream",
          "name": "stdout",
          "text": [
            "\n",
            "🧪 Evaluating OpenAI model: o3\n"
          ]
        },
        {
          "output_type": "display_data",
          "data": {
            "text/plain": [
              "llm_classify |          | 0/70 (0.0%) | ⏳ 00:00<? | ?it/s"
            ],
            "application/vnd.jupyter.widget-view+json": {
              "version_major": 2,
              "version_minor": 0,
              "model_id": "43640ad1dabf464cb93aeb8f20d78844"
            }
          },
          "metadata": {}
        },
        {
          "output_type": "stream",
          "name": "stderr",
          "text": [
            "\r 83%|████████▎ | 10/12 [02:19<00:34, 17.25s/it]"
          ]
        },
        {
          "output_type": "stream",
          "name": "stdout",
          "text": [
            "\n",
            "🧪 Evaluating OpenAI model: o3-mini\n"
          ]
        },
        {
          "output_type": "display_data",
          "data": {
            "text/plain": [
              "llm_classify |          | 0/70 (0.0%) | ⏳ 00:00<? | ?it/s"
            ],
            "application/vnd.jupyter.widget-view+json": {
              "version_major": 2,
              "version_minor": 0,
              "model_id": "fb1044e690b448a9be63642f3c870a08"
            }
          },
          "metadata": {}
        },
        {
          "output_type": "stream",
          "name": "stderr",
          "text": [
            "\r 92%|█████████▏| 11/12 [02:34<00:16, 16.56s/it]"
          ]
        },
        {
          "output_type": "stream",
          "name": "stdout",
          "text": [
            "\n",
            "🧪 Evaluating OpenAI model: o4-mini\n"
          ]
        },
        {
          "output_type": "display_data",
          "data": {
            "text/plain": [
              "llm_classify |          | 0/70 (0.0%) | ⏳ 00:00<? | ?it/s"
            ],
            "application/vnd.jupyter.widget-view+json": {
              "version_major": 2,
              "version_minor": 0,
              "model_id": "56d1578bad744b6485a4fcfd8fab8121"
            }
          },
          "metadata": {}
        },
        {
          "output_type": "stream",
          "name": "stderr",
          "text": [
            "100%|██████████| 12/12 [02:52<00:00, 14.40s/it]\n"
          ]
        }
      ],
      "source": [
        "from tqdm import tqdm\n",
        "import matplotlib.pyplot as plt\n",
        "from sklearn.metrics import classification_report\n",
        "from pycm import ConfusionMatrix\n",
        "\n",
        "\n",
        "# List of OpenAI model codes to benchmark\n",
        "open_ai_models = [\n",
        "    \"gpt-4o\",                     # GPT-4 Omni (May 2024)\n",
        "    \"gpt-4o-mini\",                # Smaller version of GPT-4o\n",
        "    \"gpt-4\",                      # GPT-4 (March 2023)\n",
        "    \"gpt-4-turbo\",                # GPT-4 Turbo (November 2023)\n",
        "    \"gpt-4-turbo-2024-04-09\",     # GPT-4 Turbo snapshot (April 2024)\n",
        "    \"gpt-3.5-turbo\",              # GPT-3.5 Turbo (March 2023)\n",
        "    \"gpt-3.5-turbo-0125\",         # GPT-3.5 Turbo snapshot (January 2025)\n",
        "    \"o1\",                         # OpenAI's first reasoning model\n",
        "    \"o1-mini\",                    # Smaller version of o1\n",
        "    \"o3\",                         # Successor to o1 with improved reasoning\n",
        "    \"o3-mini\",                    # Smaller version of o3\n",
        "    \"o4-mini\"                     # Latest mini reasoning model (April 2025)\n",
        "]\n",
        "\n",
        "# List of Claude (Anthropic) models to benchmark\n",
        "anthropic_models = [\n",
        "    \"claude-3-opus-20240229\",       # Claude 3 Opus\n",
        "    \"claude-3-sonnet-20240229\",     # Claude 3 Sonnet\n",
        "    \"claude-3-haiku-20240307\",      # Claude 3 Haiku\n",
        "    \"claude-opus-4-20250514\",       # Claude Opus 4\n",
        "    \"claude-sonnet-4-20250514\"      # Claude Sonnet 4\n",
        "]\n",
        "\n",
        "\n",
        "#\n",
        "\n",
        "all_results = []\n",
        "\n",
        "# ---------- Evaluate OpenAI Models ----------\n",
        "for model_name in tqdm(open_ai_models):\n",
        "    print(f\"\\n🧪 Evaluating OpenAI model: {model_name}\")\n",
        "\n",
        "    model = OpenAIModel(model=model_name, temperature=1)\n",
        "\n",
        "    results = llm_classify(\n",
        "        data=df_eval,\n",
        "        template=templates.TOOL_SELECTION_PROMPT_TEMPLATE,\n",
        "        model=model,\n",
        "        rails=[\"correct\", \"incorrect\"],\n",
        "        provide_explanation=False\n",
        "    )\n",
        "\n",
        "    df_result = df_eval.copy()\n",
        "    df_result[\"label\"] = results[\"label\"]\n",
        "    df_result[\"model\"] = model_name\n",
        "    all_results.append(df_result)\n"
      ]
    },
    {
      "cell_type": "markdown",
      "source": [
        "## Evaluate Anthropic Models"
      ],
      "metadata": {
        "id": "sNF3fP4QcFs7"
      }
    },
    {
      "cell_type": "code",
      "source": [
        "# ---------- Evaluate Anthropic Models ----------\n",
        "import time\n",
        "for model_name in tqdm(anthropic_models):\n",
        "    print(f\"\\n🧪 Evaluating Anthropic model: {model_name}\")\n",
        "\n",
        "    model = AnthropicModel(model=model_name, temperature=0.0)\n",
        "    results = llm_classify(\n",
        "        data=df_eval,\n",
        "        template=templates.TOOL_SELECTION_PROMPT_TEMPLATE,\n",
        "        model=model,\n",
        "        rails=[\"correct\", \"incorrect\"],\n",
        "        provide_explanation=False\n",
        "    )\n",
        "\n",
        "    df_result = df_eval.copy()\n",
        "    df_result[\"label\"] = results[\"label\"]\n",
        "    df_result[\"model\"] = model_name\n",
        "    all_results.append(df_result)\n"
      ],
      "metadata": {
        "colab": {
          "base_uri": "https://localhost:8080/",
          "height": 1000,
          "referenced_widgets": [
            "37c946a56ea447e4a9b3515c0329814a",
            "2794a381a30c412f8d3500931300339f",
            "cb3b5c839179489286cf1cc030a5b4a0",
            "61387b6cf0b34489980493a204f93629",
            "1a3e3d9cb78d40dc98c3b6a93c23ee67",
            "dda6a5280a224719bf617496cc98b66e",
            "d05dc29ef529481aa572bebf27005ccf",
            "6d7a0887f3ef4b90bfd69ebce469c13c",
            "04a52479faef496f8cbdb7cbbd603671",
            "2eda6555d307498a8fa80b286fd77e70",
            "0298791ee77546138e210349edcf6ae6",
            "40960fc4f7be4006a601c42cc1792211",
            "ba01ce66a3114c769d4c1e1bed0f5bd5",
            "2a5199786d52480f994203434854570f",
            "ae534a11db0d4fc6ab86033a94f6764a",
            "662340faebd34504a720e421225bda13",
            "002dacdf88fe4bcab19d1ec4c617961b",
            "53de39bfccaf400b960c0eddc36bf5fb",
            "e16e299219074d759f99076f0893dc2e",
            "4b7ab7f69c6141f3be79f7cb6f20c472",
            "1efb4d44794d492eb16ee0793183b5ea",
            "14bb008adb7246a883cedc6bd517022b",
            "adace3f3455c4121afa3a61839d446a4",
            "25ee75344bac49d4b271f47988ef0ccc",
            "e25254c87147475487254f61ed4d45b2",
            "0edfa1310daf4d2885b817ce14de34b8",
            "1936ec6703bf4d38bf54ec27c78c7b6c",
            "a7321c525b644d62a21036bdeb0361a9",
            "f88dd023a02a439493b2a72cb1433023",
            "6b6321baff7f43d1ae0cd9912bdbcadd",
            "68e4542b378f497987ed4e158349bf67",
            "75929293539f44d89a1dc16b8e407d44",
            "2c32146345884e178d1cd0cd3487bac9",
            "c965491e181c4921a52d11619dd0715f",
            "d332134d9c0f4e9d91fb22b042670062",
            "37cb6de4d4cf4464ab34ffefeeb1616c",
            "acdbf98743594ed8a527d36e51ee2a3b",
            "00785c91206b4d5aa7d00e1f214d962d",
            "29391b5f14544efc9b719b1eb1e4a0df",
            "7c27989825ca4118a0889401fbbdea2b",
            "c7139148058b4e3b9e25072f3c717390",
            "80c3c2071a864e4aa80d07360e26909e",
            "e013a204e130455ab6b33c43d0fad4e0",
            "a2ca5ecc2c9e4d33987d81ce0ab7c3fe",
            "c607b400ff27490fbc8424b55c540ae0",
            "4df126abfa3a41bbaa45bf0b3a3d2afe",
            "ce8d6187516549c5ba5a7929efb3c926",
            "221e754c086342f9a9667da762231f90",
            "d6fb29317e6b4548ae7973457a4a06bb",
            "77556ecd2fc44341b72fbe732fd46c59",
            "6c122b3aadb64b12841e720a7aca6051",
            "a057efc9f5df408491d0f6d249b84991",
            "4b44c677a5e449c4be471e9d36ff9b22",
            "8304bcfcbdf54cef8476068c5bcc610e",
            "683ba91e8235476aa0e03255aa6c07b0"
          ]
        },
        "id": "LJX1KXX2cE_v",
        "outputId": "48520ead-cb7e-4886-afc7-d825338f0970"
      },
      "execution_count": 11,
      "outputs": [
        {
          "output_type": "stream",
          "name": "stderr",
          "text": [
            "\r  0%|          | 0/5 [00:00<?, ?it/s]"
          ]
        },
        {
          "output_type": "stream",
          "name": "stdout",
          "text": [
            "\n",
            "🧪 Evaluating Anthropic model: claude-3-opus-20240229\n"
          ]
        },
        {
          "output_type": "display_data",
          "data": {
            "text/plain": [
              "llm_classify |          | 0/70 (0.0%) | ⏳ 00:00<? | ?it/s"
            ],
            "application/vnd.jupyter.widget-view+json": {
              "version_major": 2,
              "version_minor": 0,
              "model_id": "37c946a56ea447e4a9b3515c0329814a"
            }
          },
          "metadata": {}
        },
        {
          "output_type": "stream",
          "name": "stderr",
          "text": [
            "  0%|          | 0/5 [00:19<?, ?it/s]"
          ]
        },
        {
          "output_type": "stream",
          "name": "stdout",
          "text": [
            "Exception in worker on attempt 1: raised InternalServerError(\"Error code: 529 - {'type': 'error', 'error': {'type': 'overloaded_error', 'message': 'Overloaded'}}\")\n",
            "Requeuing...\n"
          ]
        },
        {
          "output_type": "stream",
          "name": "stderr",
          "text": [
            "  0%|          | 0/5 [00:20<?, ?it/s]"
          ]
        },
        {
          "output_type": "stream",
          "name": "stdout",
          "text": [
            "Exception in worker on attempt 1: raised InternalServerError(\"Error code: 529 - {'type': 'error', 'error': {'type': 'overloaded_error', 'message': 'Overloaded'}}\")\n",
            "Requeuing...\n",
            "Exception in worker on attempt 1: raised InternalServerError(\"Error code: 529 - {'type': 'error', 'error': {'type': 'overloaded_error', 'message': 'Overloaded'}}\")\n",
            "Requeuing...\n",
            "Exception in worker on attempt 1: raised InternalServerError(\"Error code: 529 - {'type': 'error', 'error': {'type': 'overloaded_error', 'message': 'Overloaded'}}\")\n",
            "Requeuing...\n"
          ]
        },
        {
          "output_type": "stream",
          "name": "stderr",
          "text": [
            "  0%|          | 0/5 [00:20<?, ?it/s]"
          ]
        },
        {
          "output_type": "stream",
          "name": "stdout",
          "text": [
            "Exception in worker on attempt 1: raised InternalServerError(\"Error code: 529 - {'type': 'error', 'error': {'type': 'overloaded_error', 'message': 'Overloaded'}}\")\n",
            "Requeuing...\n",
            "Exception in worker on attempt 1: raised InternalServerError(\"Error code: 529 - {'type': 'error', 'error': {'type': 'overloaded_error', 'message': 'Overloaded'}}\")\n",
            "Requeuing...\n",
            "Exception in worker on attempt 1: raised InternalServerError(\"Error code: 529 - {'type': 'error', 'error': {'type': 'overloaded_error', 'message': 'Overloaded'}}\")\n",
            "Requeuing...\n"
          ]
        },
        {
          "output_type": "stream",
          "name": "stderr",
          "text": [
            "  0%|          | 0/5 [00:21<?, ?it/s]"
          ]
        },
        {
          "output_type": "stream",
          "name": "stdout",
          "text": [
            "Exception in worker on attempt 1: raised InternalServerError(\"Error code: 529 - {'type': 'error', 'error': {'type': 'overloaded_error', 'message': 'Overloaded'}}\")\n",
            "Requeuing...\n"
          ]
        },
        {
          "output_type": "stream",
          "name": "stderr",
          "text": [
            "  0%|          | 0/5 [00:22<?, ?it/s]"
          ]
        },
        {
          "output_type": "stream",
          "name": "stdout",
          "text": [
            "Exception in worker on attempt 1: raised InternalServerError(\"Error code: 529 - {'type': 'error', 'error': {'type': 'overloaded_error', 'message': 'Overloaded'}}\")\n",
            "Requeuing...\n",
            "Exception in worker on attempt 1: raised InternalServerError(\"Error code: 529 - {'type': 'error', 'error': {'type': 'overloaded_error', 'message': 'Overloaded'}}\")\n",
            "Requeuing...\n"
          ]
        },
        {
          "output_type": "stream",
          "name": "stderr",
          "text": [
            "  0%|          | 0/5 [00:22<?, ?it/s]"
          ]
        },
        {
          "output_type": "stream",
          "name": "stdout",
          "text": [
            "Exception in worker on attempt 2: raised InternalServerError(\"Error code: 529 - {'type': 'error', 'error': {'type': 'overloaded_error', 'message': 'Overloaded'}}\")\n",
            "Requeuing...\n",
            "Exception in worker on attempt 2: raised InternalServerError(\"Error code: 529 - {'type': 'error', 'error': {'type': 'overloaded_error', 'message': 'Overloaded'}}\")\n",
            "Requeuing...\n"
          ]
        },
        {
          "output_type": "stream",
          "name": "stderr",
          "text": [
            "  0%|          | 0/5 [00:22<?, ?it/s]"
          ]
        },
        {
          "output_type": "stream",
          "name": "stdout",
          "text": [
            "Exception in worker on attempt 2: raised InternalServerError(\"Error code: 529 - {'type': 'error', 'error': {'type': 'overloaded_error', 'message': 'Overloaded'}}\")\n",
            "Requeuing...\n"
          ]
        },
        {
          "output_type": "stream",
          "name": "stderr",
          "text": [
            "  0%|          | 0/5 [00:23<?, ?it/s]"
          ]
        },
        {
          "output_type": "stream",
          "name": "stdout",
          "text": [
            "Exception in worker on attempt 1: raised InternalServerError(\"Error code: 529 - {'type': 'error', 'error': {'type': 'overloaded_error', 'message': 'Overloaded'}}\")\n",
            "Requeuing...\n",
            "Exception in worker on attempt 2: raised InternalServerError(\"Error code: 529 - {'type': 'error', 'error': {'type': 'overloaded_error', 'message': 'Overloaded'}}\")\n",
            "Requeuing...\n"
          ]
        },
        {
          "output_type": "stream",
          "name": "stderr",
          "text": [
            "  0%|          | 0/5 [00:23<?, ?it/s]"
          ]
        },
        {
          "output_type": "stream",
          "name": "stdout",
          "text": [
            "Exception in worker on attempt 2: raised InternalServerError(\"Error code: 529 - {'type': 'error', 'error': {'type': 'overloaded_error', 'message': 'Overloaded'}}\")\n",
            "Requeuing...\n"
          ]
        },
        {
          "output_type": "stream",
          "name": "stderr",
          "text": [
            "  0%|          | 0/5 [00:24<?, ?it/s]"
          ]
        },
        {
          "output_type": "stream",
          "name": "stdout",
          "text": [
            "Exception in worker on attempt 1: raised InternalServerError(\"Error code: 529 - {'type': 'error', 'error': {'type': 'overloaded_error', 'message': 'Overloaded'}}\")\n",
            "Requeuing...\n",
            "Exception in worker on attempt 2: raised InternalServerError(\"Error code: 529 - {'type': 'error', 'error': {'type': 'overloaded_error', 'message': 'Overloaded'}}\")\n",
            "Requeuing...\n"
          ]
        },
        {
          "output_type": "stream",
          "name": "stderr",
          "text": [
            "  0%|          | 0/5 [00:24<?, ?it/s]"
          ]
        },
        {
          "output_type": "stream",
          "name": "stdout",
          "text": [
            "Exception in worker on attempt 1: raised InternalServerError(\"Error code: 529 - {'type': 'error', 'error': {'type': 'overloaded_error', 'message': 'Overloaded'}}\")\n",
            "Requeuing...\n",
            "Exception in worker on attempt 2: raised InternalServerError(\"Error code: 529 - {'type': 'error', 'error': {'type': 'overloaded_error', 'message': 'Overloaded'}}\")\n",
            "Requeuing...\n"
          ]
        },
        {
          "output_type": "stream",
          "name": "stderr",
          "text": [
            "  0%|          | 0/5 [00:24<?, ?it/s]"
          ]
        },
        {
          "output_type": "stream",
          "name": "stdout",
          "text": [
            "Exception in worker on attempt 1: raised InternalServerError(\"Error code: 529 - {'type': 'error', 'error': {'type': 'overloaded_error', 'message': 'Overloaded'}}\")\n",
            "Requeuing...\n"
          ]
        },
        {
          "output_type": "stream",
          "name": "stderr",
          "text": [
            "  0%|          | 0/5 [00:25<?, ?it/s]"
          ]
        },
        {
          "output_type": "stream",
          "name": "stdout",
          "text": [
            "Exception in worker on attempt 2: raised InternalServerError(\"Error code: 529 - {'type': 'error', 'error': {'type': 'overloaded_error', 'message': 'Overloaded'}}\")\n",
            "Requeuing...\n",
            "Exception in worker on attempt 2: raised InternalServerError(\"Error code: 529 - {'type': 'error', 'error': {'type': 'overloaded_error', 'message': 'Overloaded'}}\")\n",
            "Requeuing...\n",
            "Exception in worker on attempt 3: raised InternalServerError(\"Error code: 529 - {'type': 'error', 'error': {'type': 'overloaded_error', 'message': 'Overloaded'}}\")\n",
            "Requeuing...\n",
            "Exception in worker on attempt 2: raised InternalServerError(\"Error code: 529 - {'type': 'error', 'error': {'type': 'overloaded_error', 'message': 'Overloaded'}}\")\n",
            "Requeuing...\n"
          ]
        },
        {
          "output_type": "stream",
          "name": "stderr",
          "text": [
            "  0%|          | 0/5 [00:25<?, ?it/s]"
          ]
        },
        {
          "output_type": "stream",
          "name": "stdout",
          "text": [
            "Exception in worker on attempt 3: raised InternalServerError(\"Error code: 529 - {'type': 'error', 'error': {'type': 'overloaded_error', 'message': 'Overloaded'}}\")\n",
            "Requeuing...\n",
            "Exception in worker on attempt 1: raised InternalServerError(\"Error code: 529 - {'type': 'error', 'error': {'type': 'overloaded_error', 'message': 'Overloaded'}}\")\n",
            "Requeuing...\n"
          ]
        },
        {
          "output_type": "stream",
          "name": "stderr",
          "text": [
            "  0%|          | 0/5 [00:26<?, ?it/s]"
          ]
        },
        {
          "output_type": "stream",
          "name": "stdout",
          "text": [
            "Exception in worker on attempt 3: raised InternalServerError(\"Error code: 529 - {'type': 'error', 'error': {'type': 'overloaded_error', 'message': 'Overloaded'}}\")\n",
            "Requeuing...\n",
            "Exception in worker on attempt 3: raised InternalServerError(\"Error code: 529 - {'type': 'error', 'error': {'type': 'overloaded_error', 'message': 'Overloaded'}}\")\n",
            "Requeuing...\n",
            "Exception in worker on attempt 2: raised InternalServerError(\"Error code: 529 - {'type': 'error', 'error': {'type': 'overloaded_error', 'message': 'Overloaded'}}\")\n",
            "Requeuing...\n"
          ]
        },
        {
          "output_type": "stream",
          "name": "stderr",
          "text": [
            "  0%|          | 0/5 [00:26<?, ?it/s]"
          ]
        },
        {
          "output_type": "stream",
          "name": "stdout",
          "text": [
            "Exception in worker on attempt 3: raised InternalServerError(\"Error code: 529 - {'type': 'error', 'error': {'type': 'overloaded_error', 'message': 'Overloaded'}}\")\n",
            "Requeuing...\n"
          ]
        },
        {
          "output_type": "stream",
          "name": "stderr",
          "text": [
            "  0%|          | 0/5 [00:26<?, ?it/s]"
          ]
        },
        {
          "output_type": "stream",
          "name": "stdout",
          "text": [
            "Exception in worker on attempt 2: raised InternalServerError(\"Error code: 529 - {'type': 'error', 'error': {'type': 'overloaded_error', 'message': 'Overloaded'}}\")\n",
            "Requeuing...\n"
          ]
        },
        {
          "output_type": "stream",
          "name": "stderr",
          "text": [
            "  0%|          | 0/5 [00:27<?, ?it/s]"
          ]
        },
        {
          "output_type": "stream",
          "name": "stdout",
          "text": [
            "Exception in worker on attempt 3: raised InternalServerError(\"Error code: 529 - {'type': 'error', 'error': {'type': 'overloaded_error', 'message': 'Overloaded'}}\")\n",
            "Requeuing...\n",
            "Exception in worker on attempt 3: raised InternalServerError(\"Error code: 529 - {'type': 'error', 'error': {'type': 'overloaded_error', 'message': 'Overloaded'}}\")\n",
            "Requeuing...\n",
            "Exception in worker on attempt 2: raised InternalServerError(\"Error code: 529 - {'type': 'error', 'error': {'type': 'overloaded_error', 'message': 'Overloaded'}}\")\n",
            "Requeuing...\n"
          ]
        },
        {
          "output_type": "stream",
          "name": "stderr",
          "text": [
            "  0%|          | 0/5 [00:27<?, ?it/s]"
          ]
        },
        {
          "output_type": "stream",
          "name": "stdout",
          "text": [
            "Exception in worker on attempt 4: raised InternalServerError(\"Error code: 529 - {'type': 'error', 'error': {'type': 'overloaded_error', 'message': 'Overloaded'}}\")\n",
            "Requeuing...\n",
            "Exception in worker on attempt 4: raised InternalServerError(\"Error code: 529 - {'type': 'error', 'error': {'type': 'overloaded_error', 'message': 'Overloaded'}}\")\n",
            "Requeuing...\n"
          ]
        },
        {
          "output_type": "stream",
          "name": "stderr",
          "text": [
            "  0%|          | 0/5 [00:27<?, ?it/s]"
          ]
        },
        {
          "output_type": "stream",
          "name": "stdout",
          "text": [
            "Exception in worker on attempt 3: raised InternalServerError(\"Error code: 529 - {'type': 'error', 'error': {'type': 'overloaded_error', 'message': 'Overloaded'}}\")\n",
            "Requeuing...\n"
          ]
        },
        {
          "output_type": "stream",
          "name": "stderr",
          "text": [
            "  0%|          | 0/5 [00:28<?, ?it/s]"
          ]
        },
        {
          "output_type": "stream",
          "name": "stdout",
          "text": [
            "Exception in worker on attempt 4: raised InternalServerError(\"Error code: 529 - {'type': 'error', 'error': {'type': 'overloaded_error', 'message': 'Overloaded'}}\")\n",
            "Requeuing...\n",
            "Exception in worker on attempt 2: raised InternalServerError(\"Error code: 529 - {'type': 'error', 'error': {'type': 'overloaded_error', 'message': 'Overloaded'}}\")\n",
            "Requeuing...\n"
          ]
        },
        {
          "output_type": "stream",
          "name": "stderr",
          "text": [
            "  0%|          | 0/5 [00:28<?, ?it/s]"
          ]
        },
        {
          "output_type": "stream",
          "name": "stdout",
          "text": [
            "Exception in worker on attempt 2: raised InternalServerError(\"Error code: 529 - {'type': 'error', 'error': {'type': 'overloaded_error', 'message': 'Overloaded'}}\")\n",
            "Requeuing...\n",
            "Exception in worker on attempt 4: raised InternalServerError(\"Error code: 529 - {'type': 'error', 'error': {'type': 'overloaded_error', 'message': 'Overloaded'}}\")\n",
            "Requeuing...\n"
          ]
        },
        {
          "output_type": "stream",
          "name": "stderr",
          "text": [
            "  0%|          | 0/5 [00:29<?, ?it/s]"
          ]
        },
        {
          "output_type": "stream",
          "name": "stdout",
          "text": [
            "Exception in worker on attempt 4: raised InternalServerError(\"Error code: 529 - {'type': 'error', 'error': {'type': 'overloaded_error', 'message': 'Overloaded'}}\")\n",
            "Requeuing...\n",
            "Exception in worker on attempt 3: raised InternalServerError(\"Error code: 529 - {'type': 'error', 'error': {'type': 'overloaded_error', 'message': 'Overloaded'}}\")\n",
            "Requeuing...\n"
          ]
        },
        {
          "output_type": "stream",
          "name": "stderr",
          "text": [
            "  0%|          | 0/5 [00:29<?, ?it/s]"
          ]
        },
        {
          "output_type": "stream",
          "name": "stdout",
          "text": [
            "Exception in worker on attempt 3: raised InternalServerError(\"Error code: 529 - {'type': 'error', 'error': {'type': 'overloaded_error', 'message': 'Overloaded'}}\")\n",
            "Requeuing...\n",
            "Exception in worker on attempt 3: raised InternalServerError(\"Error code: 529 - {'type': 'error', 'error': {'type': 'overloaded_error', 'message': 'Overloaded'}}\")\n",
            "Requeuing...\n",
            "Exception in worker on attempt 4: raised InternalServerError(\"Error code: 529 - {'type': 'error', 'error': {'type': 'overloaded_error', 'message': 'Overloaded'}}\")\n",
            "Requeuing...\n",
            "Exception in worker on attempt 3: raised InternalServerError(\"Error code: 529 - {'type': 'error', 'error': {'type': 'overloaded_error', 'message': 'Overloaded'}}\")\n",
            "Requeuing...\n"
          ]
        },
        {
          "output_type": "stream",
          "name": "stderr",
          "text": [
            "  0%|          | 0/5 [00:29<?, ?it/s]"
          ]
        },
        {
          "output_type": "stream",
          "name": "stdout",
          "text": [
            "Exception in worker on attempt 4: raised InternalServerError(\"Error code: 529 - {'type': 'error', 'error': {'type': 'overloaded_error', 'message': 'Overloaded'}}\")\n",
            "Requeuing...\n"
          ]
        },
        {
          "output_type": "stream",
          "name": "stderr",
          "text": [
            "  0%|          | 0/5 [00:30<?, ?it/s]"
          ]
        },
        {
          "output_type": "stream",
          "name": "stdout",
          "text": [
            "Exception in worker on attempt 5: raised InternalServerError(\"Error code: 529 - {'type': 'error', 'error': {'type': 'overloaded_error', 'message': 'Overloaded'}}\")\n",
            "Requeuing...\n",
            "Exception in worker on attempt 5: raised InternalServerError(\"Error code: 529 - {'type': 'error', 'error': {'type': 'overloaded_error', 'message': 'Overloaded'}}\")\n",
            "Requeuing...\n"
          ]
        },
        {
          "output_type": "stream",
          "name": "stderr",
          "text": [
            "  0%|          | 0/5 [00:30<?, ?it/s]"
          ]
        },
        {
          "output_type": "stream",
          "name": "stdout",
          "text": [
            "Exception in worker on attempt 5: raised InternalServerError(\"Error code: 529 - {'type': 'error', 'error': {'type': 'overloaded_error', 'message': 'Overloaded'}}\")\n",
            "Requeuing...\n",
            "Exception in worker on attempt 5: raised InternalServerError(\"Error code: 529 - {'type': 'error', 'error': {'type': 'overloaded_error', 'message': 'Overloaded'}}\")\n",
            "Requeuing...\n",
            "Exception in worker on attempt 3: raised InternalServerError(\"Error code: 529 - {'type': 'error', 'error': {'type': 'overloaded_error', 'message': 'Overloaded'}}\")\n",
            "Requeuing...\n"
          ]
        },
        {
          "output_type": "stream",
          "name": "stderr",
          "text": [
            "  0%|          | 0/5 [00:31<?, ?it/s]"
          ]
        },
        {
          "output_type": "stream",
          "name": "stdout",
          "text": [
            "Exception in worker on attempt 4: raised InternalServerError(\"Error code: 529 - {'type': 'error', 'error': {'type': 'overloaded_error', 'message': 'Overloaded'}}\")\n",
            "Requeuing...\n"
          ]
        },
        {
          "output_type": "stream",
          "name": "stderr",
          "text": [
            "  0%|          | 0/5 [00:31<?, ?it/s]"
          ]
        },
        {
          "output_type": "stream",
          "name": "stdout",
          "text": [
            "Exception in worker on attempt 4: raised InternalServerError(\"Error code: 529 - {'type': 'error', 'error': {'type': 'overloaded_error', 'message': 'Overloaded'}}\")\n",
            "Requeuing...\n"
          ]
        },
        {
          "output_type": "stream",
          "name": "stderr",
          "text": [
            "  0%|          | 0/5 [00:31<?, ?it/s]"
          ]
        },
        {
          "output_type": "stream",
          "name": "stdout",
          "text": [
            "Exception in worker on attempt 6: raised InternalServerError(\"Error code: 529 - {'type': 'error', 'error': {'type': 'overloaded_error', 'message': 'Overloaded'}}\")\n",
            "Requeuing...\n",
            "Exception in worker on attempt 6: raised InternalServerError(\"Error code: 529 - {'type': 'error', 'error': {'type': 'overloaded_error', 'message': 'Overloaded'}}\")\n",
            "Requeuing...\n"
          ]
        },
        {
          "output_type": "stream",
          "name": "stderr",
          "text": [
            "  0%|          | 0/5 [00:32<?, ?it/s]"
          ]
        },
        {
          "output_type": "stream",
          "name": "stdout",
          "text": [
            "Exception in worker on attempt 4: raised InternalServerError(\"Error code: 529 - {'type': 'error', 'error': {'type': 'overloaded_error', 'message': 'Overloaded'}}\")\n",
            "Requeuing...\n"
          ]
        },
        {
          "output_type": "stream",
          "name": "stderr",
          "text": [
            "  0%|          | 0/5 [00:32<?, ?it/s]"
          ]
        },
        {
          "output_type": "stream",
          "name": "stdout",
          "text": [
            "Exception in worker on attempt 3: raised InternalServerError(\"Error code: 529 - {'type': 'error', 'error': {'type': 'overloaded_error', 'message': 'Overloaded'}}\")\n",
            "Requeuing...\n"
          ]
        },
        {
          "output_type": "stream",
          "name": "stderr",
          "text": [
            "  0%|          | 0/5 [00:32<?, ?it/s]"
          ]
        },
        {
          "output_type": "stream",
          "name": "stdout",
          "text": [
            "Exception in worker on attempt 6: raised InternalServerError(\"Error code: 529 - {'type': 'error', 'error': {'type': 'overloaded_error', 'message': 'Overloaded'}}\")\n",
            "Requeuing...\n"
          ]
        },
        {
          "output_type": "stream",
          "name": "stderr",
          "text": [
            "  0%|          | 0/5 [00:33<?, ?it/s]"
          ]
        },
        {
          "output_type": "stream",
          "name": "stdout",
          "text": [
            "Exception in worker on attempt 4: raised InternalServerError(\"Error code: 529 - {'type': 'error', 'error': {'type': 'overloaded_error', 'message': 'Overloaded'}}\")\n",
            "Requeuing...\n",
            "Exception in worker on attempt 4: raised InternalServerError(\"Error code: 529 - {'type': 'error', 'error': {'type': 'overloaded_error', 'message': 'Overloaded'}}\")\n",
            "Requeuing...\n"
          ]
        },
        {
          "output_type": "stream",
          "name": "stderr",
          "text": [
            "  0%|          | 0/5 [00:33<?, ?it/s]"
          ]
        },
        {
          "output_type": "stream",
          "name": "stdout",
          "text": [
            "Exception in worker on attempt 5: raised InternalServerError(\"Error code: 529 - {'type': 'error', 'error': {'type': 'overloaded_error', 'message': 'Overloaded'}}\")\n",
            "Requeuing...\n",
            "Exception in worker on attempt 6: raised InternalServerError(\"Error code: 529 - {'type': 'error', 'error': {'type': 'overloaded_error', 'message': 'Overloaded'}}\")\n",
            "Requeuing...\n",
            "Exception in worker on attempt 5: raised InternalServerError(\"Error code: 529 - {'type': 'error', 'error': {'type': 'overloaded_error', 'message': 'Overloaded'}}\")\n",
            "Requeuing...\n"
          ]
        },
        {
          "output_type": "stream",
          "name": "stderr",
          "text": [
            "  0%|          | 0/5 [00:34<?, ?it/s]"
          ]
        },
        {
          "output_type": "stream",
          "name": "stdout",
          "text": [
            "Exception in worker on attempt 7: raised InternalServerError(\"Error code: 529 - {'type': 'error', 'error': {'type': 'overloaded_error', 'message': 'Overloaded'}}\")\n",
            "Requeuing...\n",
            "Exception in worker on attempt 5: raised InternalServerError(\"Error code: 529 - {'type': 'error', 'error': {'type': 'overloaded_error', 'message': 'Overloaded'}}\")\n",
            "Requeuing...\n"
          ]
        },
        {
          "output_type": "stream",
          "name": "stderr",
          "text": [
            "                                     "
          ]
        },
        {
          "output_type": "stream",
          "name": "stdout",
          "text": [
            "Exception in worker on attempt 3: raised InternalServerError(\"Error code: 529 - {'type': 'error', 'error': {'type': 'overloaded_error', 'message': 'Overloaded'}}\")\n",
            "Requeuing...\n",
            "Exception in worker on attempt 7: raised InternalServerError(\"Error code: 529 - {'type': 'error', 'error': {'type': 'overloaded_error', 'message': 'Overloaded'}}\")\n",
            "Requeuing...\n"
          ]
        },
        {
          "output_type": "stream",
          "name": "stderr",
          "text": [
            "  0%|          | 0/5 [00:34<?, ?it/s]"
          ]
        },
        {
          "output_type": "stream",
          "name": "stdout",
          "text": [
            "Exception in worker on attempt 5: raised InternalServerError(\"Error code: 529 - {'type': 'error', 'error': {'type': 'overloaded_error', 'message': 'Overloaded'}}\")\n",
            "Requeuing...\n"
          ]
        },
        {
          "output_type": "stream",
          "name": "stderr",
          "text": [
            "  0%|          | 0/5 [00:34<?, ?it/s]"
          ]
        },
        {
          "output_type": "stream",
          "name": "stdout",
          "text": [
            "Exception in worker on attempt 5: raised InternalServerError(\"Error code: 529 - {'type': 'error', 'error': {'type': 'overloaded_error', 'message': 'Overloaded'}}\")\n",
            "Requeuing...\n"
          ]
        },
        {
          "output_type": "stream",
          "name": "stderr",
          "text": [
            "  0%|          | 0/5 [00:35<?, ?it/s]"
          ]
        },
        {
          "output_type": "stream",
          "name": "stdout",
          "text": [
            "Exception in worker on attempt 4: raised InternalServerError(\"Error code: 529 - {'type': 'error', 'error': {'type': 'overloaded_error', 'message': 'Overloaded'}}\")\n",
            "Requeuing...\n",
            "Exception in worker on attempt 5: raised InternalServerError(\"Error code: 529 - {'type': 'error', 'error': {'type': 'overloaded_error', 'message': 'Overloaded'}}\")\n",
            "Requeuing...\n"
          ]
        },
        {
          "output_type": "stream",
          "name": "stderr",
          "text": [
            "  0%|          | 0/5 [00:35<?, ?it/s]"
          ]
        },
        {
          "output_type": "stream",
          "name": "stdout",
          "text": [
            "Exception in worker on attempt 5: raised InternalServerError(\"Error code: 529 - {'type': 'error', 'error': {'type': 'overloaded_error', 'message': 'Overloaded'}}\")\n",
            "Requeuing...\n"
          ]
        },
        {
          "output_type": "stream",
          "name": "stderr",
          "text": [
            "  0%|          | 0/5 [00:36<?, ?it/s]"
          ]
        },
        {
          "output_type": "stream",
          "name": "stdout",
          "text": [
            "Exception in worker on attempt 4: raised InternalServerError(\"Error code: 529 - {'type': 'error', 'error': {'type': 'overloaded_error', 'message': 'Overloaded'}}\")\n",
            "Requeuing...\n",
            "Exception in worker on attempt 7: raised InternalServerError(\"Error code: 529 - {'type': 'error', 'error': {'type': 'overloaded_error', 'message': 'Overloaded'}}\")\n",
            "Requeuing...\n",
            "Exception in worker on attempt 8: raised InternalServerError(\"Error code: 529 - {'type': 'error', 'error': {'type': 'overloaded_error', 'message': 'Overloaded'}}\")\n",
            "Requeuing...\n"
          ]
        },
        {
          "output_type": "stream",
          "name": "stderr",
          "text": [
            "  0%|          | 0/5 [00:36<?, ?it/s]"
          ]
        },
        {
          "output_type": "stream",
          "name": "stdout",
          "text": [
            "Exception in worker on attempt 6: raised InternalServerError(\"Error code: 529 - {'type': 'error', 'error': {'type': 'overloaded_error', 'message': 'Overloaded'}}\")\n",
            "Requeuing...\n",
            "Exception in worker on attempt 7: raised InternalServerError(\"Error code: 529 - {'type': 'error', 'error': {'type': 'overloaded_error', 'message': 'Overloaded'}}\")\n",
            "Requeuing...\n"
          ]
        },
        {
          "output_type": "stream",
          "name": "stderr",
          "text": [
            "  0%|          | 0/5 [00:36<?, ?it/s]"
          ]
        },
        {
          "output_type": "stream",
          "name": "stdout",
          "text": [
            "Exception in worker on attempt 6: raised InternalServerError(\"Error code: 529 - {'type': 'error', 'error': {'type': 'overloaded_error', 'message': 'Overloaded'}}\")\n",
            "Requeuing...\n"
          ]
        },
        {
          "output_type": "stream",
          "name": "stderr",
          "text": [
            "  0%|          | 0/5 [00:37<?, ?it/s]"
          ]
        },
        {
          "output_type": "stream",
          "name": "stdout",
          "text": [
            "Exception in worker on attempt 6: raised InternalServerError(\"Error code: 529 - {'type': 'error', 'error': {'type': 'overloaded_error', 'message': 'Overloaded'}}\")\n",
            "Requeuing...\n"
          ]
        },
        {
          "output_type": "stream",
          "name": "stderr",
          "text": [
            "  0%|          | 0/5 [00:38<?, ?it/s]"
          ]
        },
        {
          "output_type": "stream",
          "name": "stdout",
          "text": [
            "Exception in worker on attempt 5: raised InternalServerError(\"Error code: 529 - {'type': 'error', 'error': {'type': 'overloaded_error', 'message': 'Overloaded'}}\")\n",
            "Requeuing...\n",
            "Exception in worker on attempt 6: raised InternalServerError(\"Error code: 529 - {'type': 'error', 'error': {'type': 'overloaded_error', 'message': 'Overloaded'}}\")\n",
            "Requeuing...\n",
            "Exception in worker on attempt 8: raised InternalServerError(\"Error code: 529 - {'type': 'error', 'error': {'type': 'overloaded_error', 'message': 'Overloaded'}}\")\n",
            "Requeuing...\n"
          ]
        },
        {
          "output_type": "stream",
          "name": "stderr",
          "text": [
            "  0%|          | 0/5 [00:38<?, ?it/s]"
          ]
        },
        {
          "output_type": "stream",
          "name": "stdout",
          "text": [
            "Exception in worker on attempt 8: raised InternalServerError(\"Error code: 529 - {'type': 'error', 'error': {'type': 'overloaded_error', 'message': 'Overloaded'}}\")\n",
            "Requeuing...\n"
          ]
        },
        {
          "output_type": "stream",
          "name": "stderr",
          "text": [
            "  0%|          | 0/5 [00:38<?, ?it/s]"
          ]
        },
        {
          "output_type": "stream",
          "name": "stdout",
          "text": [
            "Exception in worker on attempt 7: raised InternalServerError(\"Error code: 529 - {'type': 'error', 'error': {'type': 'overloaded_error', 'message': 'Overloaded'}}\")\n",
            "Requeuing...\n"
          ]
        },
        {
          "output_type": "stream",
          "name": "stderr",
          "text": [
            "  0%|          | 0/5 [00:39<?, ?it/s]"
          ]
        },
        {
          "output_type": "stream",
          "name": "stdout",
          "text": [
            "Exception in worker on attempt 8: raised InternalServerError(\"Error code: 529 - {'type': 'error', 'error': {'type': 'overloaded_error', 'message': 'Overloaded'}}\")\n",
            "Requeuing...\n",
            "Exception in worker on attempt 7: raised InternalServerError(\"Error code: 529 - {'type': 'error', 'error': {'type': 'overloaded_error', 'message': 'Overloaded'}}\")\n",
            "Requeuing...\n"
          ]
        },
        {
          "output_type": "stream",
          "name": "stderr",
          "text": [
            "  0%|          | 0/5 [00:39<?, ?it/s]"
          ]
        },
        {
          "output_type": "stream",
          "name": "stdout",
          "text": [
            "Exception in worker on attempt 9: raised InternalServerError(\"Error code: 529 - {'type': 'error', 'error': {'type': 'overloaded_error', 'message': 'Overloaded'}}\")\n",
            "Requeuing...\n"
          ]
        },
        {
          "output_type": "stream",
          "name": "stderr",
          "text": [
            "  0%|          | 0/5 [00:39<?, ?it/s]"
          ]
        },
        {
          "output_type": "stream",
          "name": "stdout",
          "text": [
            "Exception in worker on attempt 6: raised InternalServerError(\"Error code: 529 - {'type': 'error', 'error': {'type': 'overloaded_error', 'message': 'Overloaded'}}\")\n",
            "Requeuing...\n",
            "Exception in worker on attempt 6: raised InternalServerError(\"Error code: 529 - {'type': 'error', 'error': {'type': 'overloaded_error', 'message': 'Overloaded'}}\")\n",
            "Requeuing...\n"
          ]
        },
        {
          "output_type": "stream",
          "name": "stderr",
          "text": [
            "  0%|          | 0/5 [00:40<?, ?it/s]"
          ]
        },
        {
          "output_type": "stream",
          "name": "stdout",
          "text": [
            "Exception in worker on attempt 9: raised InternalServerError(\"Error code: 529 - {'type': 'error', 'error': {'type': 'overloaded_error', 'message': 'Overloaded'}}\")\n",
            "Requeuing...\n"
          ]
        },
        {
          "output_type": "stream",
          "name": "stderr",
          "text": [
            "  0%|          | 0/5 [00:40<?, ?it/s]"
          ]
        },
        {
          "output_type": "stream",
          "name": "stdout",
          "text": [
            "Exception in worker on attempt 8: raised InternalServerError(\"Error code: 529 - {'type': 'error', 'error': {'type': 'overloaded_error', 'message': 'Overloaded'}}\")\n",
            "Requeuing...\n",
            "Exception in worker on attempt 6: raised InternalServerError(\"Error code: 529 - {'type': 'error', 'error': {'type': 'overloaded_error', 'message': 'Overloaded'}}\")\n",
            "Requeuing...\n"
          ]
        },
        {
          "output_type": "stream",
          "name": "stderr",
          "text": [
            "  0%|          | 0/5 [00:40<?, ?it/s]"
          ]
        },
        {
          "output_type": "stream",
          "name": "stdout",
          "text": [
            "Exception in worker on attempt 9: raised InternalServerError(\"Error code: 529 - {'type': 'error', 'error': {'type': 'overloaded_error', 'message': 'Overloaded'}}\")\n",
            "Requeuing...\n"
          ]
        },
        {
          "output_type": "stream",
          "name": "stderr",
          "text": [
            "  0%|          | 0/5 [00:40<?, ?it/s]"
          ]
        },
        {
          "output_type": "stream",
          "name": "stdout",
          "text": [
            "Exception in worker on attempt 8: raised InternalServerError(\"Error code: 529 - {'type': 'error', 'error': {'type': 'overloaded_error', 'message': 'Overloaded'}}\")\n",
            "Requeuing...\n"
          ]
        },
        {
          "output_type": "stream",
          "name": "stderr",
          "text": [
            "  0%|          | 0/5 [00:41<?, ?it/s]"
          ]
        },
        {
          "output_type": "stream",
          "name": "stdout",
          "text": [
            "Exception in worker on attempt 7: raised InternalServerError(\"Error code: 529 - {'type': 'error', 'error': {'type': 'overloaded_error', 'message': 'Overloaded'}}\")\n",
            "Requeuing...\n"
          ]
        },
        {
          "output_type": "stream",
          "name": "stderr",
          "text": [
            "  0%|          | 0/5 [00:42<?, ?it/s]"
          ]
        },
        {
          "output_type": "stream",
          "name": "stdout",
          "text": [
            "Exception in worker on attempt 5: raised InternalServerError(\"Error code: 529 - {'type': 'error', 'error': {'type': 'overloaded_error', 'message': 'Overloaded'}}\")\n",
            "Requeuing...\n",
            "Exception in worker on attempt 6: raised InternalServerError(\"Error code: 529 - {'type': 'error', 'error': {'type': 'overloaded_error', 'message': 'Overloaded'}}\")\n",
            "Requeuing...\n",
            "Exception in worker on attempt 7: raised InternalServerError(\"Error code: 529 - {'type': 'error', 'error': {'type': 'overloaded_error', 'message': 'Overloaded'}}\")\n",
            "Requeuing...\n"
          ]
        },
        {
          "output_type": "stream",
          "name": "stderr",
          "text": [
            "  0%|          | 0/5 [00:42<?, ?it/s]"
          ]
        },
        {
          "output_type": "stream",
          "name": "stdout",
          "text": [
            "Exception in worker on attempt 9: raised InternalServerError(\"Error code: 529 - {'type': 'error', 'error': {'type': 'overloaded_error', 'message': 'Overloaded'}}\")\n",
            "Requeuing...\n",
            "Exception in worker on attempt 10: raised InternalServerError(\"Error code: 529 - {'type': 'error', 'error': {'type': 'overloaded_error', 'message': 'Overloaded'}}\")\n",
            "Requeuing...\n",
            "Exception in worker on attempt 9: raised InternalServerError(\"Error code: 529 - {'type': 'error', 'error': {'type': 'overloaded_error', 'message': 'Overloaded'}}\")\n",
            "Requeuing...\n"
          ]
        },
        {
          "output_type": "stream",
          "name": "stderr",
          "text": [
            "  0%|          | 0/5 [00:43<?, ?it/s]"
          ]
        },
        {
          "output_type": "stream",
          "name": "stdout",
          "text": [
            "Exception in worker on attempt 7: raised InternalServerError(\"Error code: 529 - {'type': 'error', 'error': {'type': 'overloaded_error', 'message': 'Overloaded'}}\")\n",
            "Requeuing...\n",
            "Exception in worker on attempt 10: raised InternalServerError(\"Error code: 529 - {'type': 'error', 'error': {'type': 'overloaded_error', 'message': 'Overloaded'}}\")\n",
            "Requeuing...\n"
          ]
        },
        {
          "output_type": "stream",
          "name": "stderr",
          "text": [
            "  0%|          | 0/5 [00:43<?, ?it/s]"
          ]
        },
        {
          "output_type": "stream",
          "name": "stdout",
          "text": [
            "Exception in worker on attempt 7: raised InternalServerError(\"Error code: 529 - {'type': 'error', 'error': {'type': 'overloaded_error', 'message': 'Overloaded'}}\")\n",
            "Requeuing...\n"
          ]
        },
        {
          "output_type": "stream",
          "name": "stderr",
          "text": [
            "  0%|          | 0/5 [00:43<?, ?it/s]"
          ]
        },
        {
          "output_type": "stream",
          "name": "stdout",
          "text": [
            "Exception in worker on attempt 8: raised InternalServerError(\"Error code: 529 - {'type': 'error', 'error': {'type': 'overloaded_error', 'message': 'Overloaded'}}\")\n",
            "Requeuing...\n",
            "Exception in worker on attempt 7: raised InternalServerError(\"Error code: 529 - {'type': 'error', 'error': {'type': 'overloaded_error', 'message': 'Overloaded'}}\")\n",
            "Requeuing...\n"
          ]
        },
        {
          "output_type": "stream",
          "name": "stderr",
          "text": [
            "  0%|          | 0/5 [00:44<?, ?it/s]"
          ]
        },
        {
          "output_type": "stream",
          "name": "stdout",
          "text": [
            "Exception in worker on attempt 6: raised InternalServerError(\"Error code: 529 - {'type': 'error', 'error': {'type': 'overloaded_error', 'message': 'Overloaded'}}\")\n",
            "Requeuing...\n",
            "Exception in worker on attempt 8: raised InternalServerError(\"Error code: 529 - {'type': 'error', 'error': {'type': 'overloaded_error', 'message': 'Overloaded'}}\")\n",
            "Requeuing...\n"
          ]
        },
        {
          "output_type": "stream",
          "name": "stderr",
          "text": [
            "  0%|          | 0/5 [00:44<?, ?it/s]"
          ]
        },
        {
          "output_type": "stream",
          "name": "stdout",
          "text": [
            "Exception in worker on attempt 10: raised InternalServerError(\"Error code: 529 - {'type': 'error', 'error': {'type': 'overloaded_error', 'message': 'Overloaded'}}\")\n",
            "Requeuing...\n"
          ]
        },
        {
          "output_type": "stream",
          "name": "stderr",
          "text": [
            "  0%|          | 0/5 [00:45<?, ?it/s]"
          ]
        },
        {
          "output_type": "stream",
          "name": "stdout",
          "text": [
            "Retries exhausted after 11 attempts: Error code: 529 - {'type': 'error', 'error': {'type': 'overloaded_error', 'message': 'Overloaded'}}\n"
          ]
        },
        {
          "output_type": "stream",
          "name": "stderr",
          "text": [
            "\r 20%|██        | 1/5 [00:46<03:04, 46.09s/it]"
          ]
        },
        {
          "output_type": "stream",
          "name": "stdout",
          "text": [
            "\n",
            "🧪 Evaluating Anthropic model: claude-3-sonnet-20240229\n"
          ]
        },
        {
          "output_type": "display_data",
          "data": {
            "text/plain": [
              "llm_classify |          | 0/70 (0.0%) | ⏳ 00:00<? | ?it/s"
            ],
            "application/vnd.jupyter.widget-view+json": {
              "version_major": 2,
              "version_minor": 0,
              "model_id": "40960fc4f7be4006a601c42cc1792211"
            }
          },
          "metadata": {}
        },
        {
          "output_type": "stream",
          "name": "stderr",
          "text": [
            "\r 40%|████      | 2/5 [01:14<01:46, 35.48s/it]"
          ]
        },
        {
          "output_type": "stream",
          "name": "stdout",
          "text": [
            "\n",
            "🧪 Evaluating Anthropic model: claude-3-haiku-20240307\n"
          ]
        },
        {
          "output_type": "display_data",
          "data": {
            "text/plain": [
              "llm_classify |          | 0/70 (0.0%) | ⏳ 00:00<? | ?it/s"
            ],
            "application/vnd.jupyter.widget-view+json": {
              "version_major": 2,
              "version_minor": 0,
              "model_id": "adace3f3455c4121afa3a61839d446a4"
            }
          },
          "metadata": {}
        },
        {
          "output_type": "stream",
          "name": "stderr",
          "text": [
            "\r 60%|██████    | 3/5 [01:38<01:00, 30.45s/it]"
          ]
        },
        {
          "output_type": "stream",
          "name": "stdout",
          "text": [
            "\n",
            "🧪 Evaluating Anthropic model: claude-opus-4-20250514\n"
          ]
        },
        {
          "output_type": "display_data",
          "data": {
            "text/plain": [
              "llm_classify |          | 0/70 (0.0%) | ⏳ 00:00<? | ?it/s"
            ],
            "application/vnd.jupyter.widget-view+json": {
              "version_major": 2,
              "version_minor": 0,
              "model_id": "c965491e181c4921a52d11619dd0715f"
            }
          },
          "metadata": {}
        },
        {
          "output_type": "stream",
          "name": "stderr",
          "text": [
            "\r 80%|████████  | 4/5 [02:11<00:31, 31.41s/it]"
          ]
        },
        {
          "output_type": "stream",
          "name": "stdout",
          "text": [
            "\n",
            "🧪 Evaluating Anthropic model: claude-sonnet-4-20250514\n"
          ]
        },
        {
          "output_type": "display_data",
          "data": {
            "text/plain": [
              "llm_classify |          | 0/70 (0.0%) | ⏳ 00:00<? | ?it/s"
            ],
            "application/vnd.jupyter.widget-view+json": {
              "version_major": 2,
              "version_minor": 0,
              "model_id": "c607b400ff27490fbc8424b55c540ae0"
            }
          },
          "metadata": {}
        },
        {
          "output_type": "stream",
          "name": "stderr",
          "text": [
            "100%|██████████| 5/5 [02:41<00:00, 32.25s/it]\n"
          ]
        }
      ]
    },
    {
      "cell_type": "markdown",
      "source": [
        "## Show Results\n",
        "\n",
        "Let's see how well different models performed as a Judge! We'll show:\n",
        "\n",
        "- F1 score per model benchmarked, to compare how different models perform as a judge vs the ground truth\n",
        "-  An agreement matrix to see which models agree with each other as judges."
      ],
      "metadata": {
        "id": "Z7W3RD-yUrvR"
      }
    },
    {
      "cell_type": "code",
      "source": [
        "import matplotlib.pyplot as plt\n",
        "import seaborn as sns\n",
        "from sklearn.metrics import accuracy_score, precision_score, recall_score, f1_score\n",
        "\n",
        "# Combine results and save\n",
        "df_all_models = pd.concat(all_results, ignore_index=True)\n",
        "df_all_models.to_csv(\"judge_results_all_models.csv\", index=False)\n",
        "\n",
        "# Compute metrics\n",
        "metrics = []\n",
        "models = df_all_models[\"model\"].unique()\n",
        "\n",
        "for model_name in models:\n",
        "    df_model = df_all_models[df_all_models[\"model\"] == model_name]\n",
        "\n",
        "    # Keep only valid predictions and labels\n",
        "    df_model = df_model[\n",
        "        df_model[\"label\"].isin([\"correct\", \"incorrect\"]) &\n",
        "        df_model[\"true_label\"].isin([\"correct\", \"incorrect\"])\n",
        "    ]\n",
        "\n",
        "    # Use real ground truth, given we added some incorrect examples\n",
        "    true_labels = df_model[\"true_label\"].tolist()\n",
        "    pred_labels = df_model[\"label\"].tolist()\n",
        "\n",
        "    accuracy = accuracy_score(true_labels, pred_labels)\n",
        "    precision = precision_score(true_labels, pred_labels, pos_label=\"correct\", zero_division=0)\n",
        "    recall = recall_score(true_labels, pred_labels, pos_label=\"correct\", zero_division=0)\n",
        "    f1 = f1_score(true_labels, pred_labels, pos_label=\"correct\", zero_division=0)\n",
        "\n",
        "    metrics.append({\n",
        "        \"Model\": model_name,\n",
        "        \"Accuracy\": accuracy,\n",
        "        \"Precision\": precision,\n",
        "        \"Recall\": recall,\n",
        "        \"F1 Score\": f1\n",
        "    })\n",
        "\n",
        "# Create dataframe and sort it\n",
        "df_metrics = pd.DataFrame(metrics)\n",
        "df_metrics_sorted = df_metrics.sort_values(\"F1 Score\", ascending=False)\n",
        "\n",
        "# Preserve order of models for plotting\n",
        "model_order = df_metrics_sorted[\"Model\"].tolist()\n",
        "\n",
        "# Plot with fixed order\n",
        "plt.figure(figsize=(10, 6))\n",
        "ax = sns.barplot(\n",
        "    data=df_metrics_sorted,\n",
        "    x=\"F1 Score\",\n",
        "    y=\"Model\",\n",
        "    palette=\"Blues_d\",\n",
        "    order=model_order\n",
        ")\n",
        "plt.title(\"F1 Score by Model\")\n",
        "plt.xlim(0, 1)\n",
        "\n",
        "# Add labels at correct y-axis positions\n",
        "for i, model in enumerate(model_order):\n",
        "    score = df_metrics_sorted[df_metrics_sorted[\"Model\"] == model][\"F1 Score\"].values[0]\n",
        "    ax.text(score + 0.01, i, f\"{score:.2f}\", va='center')\n",
        "\n",
        "plt.tight_layout()\n",
        "plt.show()\n",
        "\n",
        "# ---- Generate agreement Matrix for models -------\n",
        "\n",
        "# Generate a consistent ID for each example\n",
        "df_all_models[\"example_id\"] = df_all_models.groupby(\"model\").cumcount()\n",
        "\n",
        "# Pivot to wide format: one row per example, one column per model\n",
        "df_pivot = df_all_models.pivot(index=\"example_id\", columns=\"model\", values=\"label\")\n",
        "\n",
        "# Compute agreement rates between models\n",
        "agreement_matrix = pd.DataFrame(index=model_order, columns=model_order)\n",
        "\n",
        "for m1 in model_order:\n",
        "    for m2 in model_order:\n",
        "        agreement = (df_pivot[m1] == df_pivot[m2]).mean()\n",
        "        agreement_matrix.loc[m1, m2] = agreement\n",
        "\n",
        "agreement_matrix = agreement_matrix.astype(float)\n",
        "\n",
        "# ----------------------------------------\n",
        "# Plot Agreement Heatmap\n",
        "# ----------------------------------------\n",
        "\n",
        "plt.figure(figsize=(10, 8))\n",
        "sns.heatmap(agreement_matrix, annot=True, cmap=\"Blues\", fmt=\".2f\", cbar=True)\n",
        "plt.title(\"Model Agreement Matrix (Label Agreement Rate)\")\n",
        "plt.tight_layout()\n",
        "plt.show()"
      ],
      "metadata": {
        "id": "MEZEr0cVUu9Z",
        "colab": {
          "base_uri": "https://localhost:8080/",
          "height": 1000
        },
        "outputId": "50e87580-6329-45a3-fd54-bf4d95ecfc6e"
      },
      "execution_count": 12,
      "outputs": [
        {
          "output_type": "stream",
          "name": "stderr",
          "text": [
            "/tmp/ipython-input-12-3433051886.py:48: FutureWarning: \n",
            "\n",
            "Passing `palette` without assigning `hue` is deprecated and will be removed in v0.14.0. Assign the `y` variable to `hue` and set `legend=False` for the same effect.\n",
            "\n",
            "  ax = sns.barplot(\n"
          ]
        },
        {
          "output_type": "display_data",
          "data": {
            "text/plain": [
              "<Figure size 1000x600 with 1 Axes>"
            ],
            "image/png": "[encoded data removed]"
          },
          "metadata": {}
        },
        {
          "output_type": "display_data",
          "data": {
            "text/plain": [
              "<Figure size 1000x800 with 2 Axes>"
            ],
            "image/png": "[encoded data removed]"
          },
          "metadata": {}
        }
      ]
    }
  ],
  "metadata": {
    "kernelspec": {
      "display_name": "Python 3 (ipykernel)",
      "language": "python",
      "name": "python3"
    },
    "language_info": {
      "codemirror_mode": {
        "name": "ipython",
        "version": 3
      },
      "file_extension": ".py",
      "mimetype": "text/x-python",
      "name": "python",
      "nbconvert_exporter": "python",
      "pygments_lexer": "ipython3",
      "version": "3.8.18"
    },
    "colab": {
      "provenance": []
    },
    "widgets": {
      "application/vnd.jupyter.widget-state+json": {
        "fe9e80e89ae244a0bb2feda08d0557bc": {
          "model_module": "@jupyter-widgets/controls",
          "model_name": "HBoxModel",
          "model_module_version": "1.5.0",
          "state": {
            "_dom_classes": [],
            "_model_module": "@jupyter-widgets/controls",
            "_model_module_version": "1.5.0",
            "_model_name": "HBoxModel",
            "_view_count": null,
            "_view_module": "@jupyter-widgets/controls",
            "_view_module_version": "1.5.0",
            "_view_name": "HBoxView",
            "box_style": "",
            "children": [
              "IPY_MODEL_81ee49924d564dc68f568caa9c2bcd8e",
              "IPY_MODEL_f466f8bdbebd45efa608991194e35738",
              "IPY_MODEL_7808ea340ab74c5b96ea98a09d3d9f97"
            ],
            "layout": "IPY_MODEL_2bc83391d6b0459891da6cb2f1bfe24c"
          }
        },
        "81ee49924d564dc68f568caa9c2bcd8e": {
          "model_module": "@jupyter-widgets/controls",
          "model_name": "HTMLModel",
          "model_module_version": "1.5.0",
          "state": {
            "_dom_classes": [],
            "_model_module": "@jupyter-widgets/controls",
            "_model_module_version": "1.5.0",
            "_model_name": "HTMLModel",
            "_view_count": null,
            "_view_module": "@jupyter-widgets/controls",
            "_view_module_version": "1.5.0",
            "_view_name": "HTMLView",
            "description": "",
            "description_tooltip": null,
            "layout": "IPY_MODEL_368bb8441fb44f9e8b187c8365c5de3a",
            "placeholder": "​",
            "style": "IPY_MODEL_3f2ca6f51f0a4d31852d80354fcd620b",
            "value": "llm_classify "
          }
        },
        "f466f8bdbebd45efa608991194e35738": {
          "model_module": "@jupyter-widgets/controls",
          "model_name": "FloatProgressModel",
          "model_module_version": "1.5.0",
          "state": {
            "_dom_classes": [],
            "_model_module": "@jupyter-widgets/controls",
            "_model_module_version": "1.5.0",
            "_model_name": "FloatProgressModel",
            "_view_count": null,
            "_view_module": "@jupyter-widgets/controls",
            "_view_module_version": "1.5.0",
            "_view_name": "ProgressView",
            "bar_style": "success",
            "description": "",
            "description_tooltip": null,
            "layout": "IPY_MODEL_064125ee444e4020bc93bf3fc772a5ae",
            "max": 70,
            "min": 0,
            "orientation": "horizontal",
            "style": "IPY_MODEL_2d725fcad29a4617b6cbc73b314c7922",
            "value": 70
          }
        },
        "7808ea340ab74c5b96ea98a09d3d9f97": {
          "model_module": "@jupyter-widgets/controls",
          "model_name": "HTMLModel",
          "model_module_version": "1.5.0",
          "state": {
            "_dom_classes": [],
            "_model_module": "@jupyter-widgets/controls",
            "_model_module_version": "1.5.0",
            "_model_name": "HTMLModel",
            "_view_count": null,
            "_view_module": "@jupyter-widgets/controls",
            "_view_module_version": "1.5.0",
            "_view_name": "HTMLView",
            "description": "",
            "description_tooltip": null,
            "layout": "IPY_MODEL_05aba60e97f449b8804f8d2079050b2e",
            "placeholder": "​",
            "style": "IPY_MODEL_d570c74402f0446695fb1f6fb19b8677",
            "value": " 70/70 (100.0%) | ⏳ 02:52&lt;00:00 |  8.07it/s"
          }
        },
        "2bc83391d6b0459891da6cb2f1bfe24c": {
          "model_module": "@jupyter-widgets/base",
          "model_name": "LayoutModel",
          "model_module_version": "1.2.0",
          "state": {
            "_model_module": "@jupyter-widgets/base",
            "_model_module_version": "1.2.0",
            "_model_name": "LayoutModel",
            "_view_count": null,
            "_view_module": "@jupyter-widgets/base",
            "_view_module_version": "1.2.0",
            "_view_name": "LayoutView",
            "align_content": null,
            "align_items": null,
            "align_self": null,
            "border": null,
            "bottom": null,
            "display": null,
            "flex": null,
            "flex_flow": null,
            "grid_area": null,
            "grid_auto_columns": null,
            "grid_auto_flow": null,
            "grid_auto_rows": null,
            "grid_column": null,
            "grid_gap": null,
            "grid_row": null,
            "grid_template_areas": null,
            "grid_template_columns": null,
            "grid_template_rows": null,
            "height": null,
            "justify_content": null,
            "justify_items": null,
            "left": null,
            "margin": null,
            "max_height": null,
            "max_width": null,
            "min_height": null,
            "min_width": null,
            "object_fit": null,
            "object_position": null,
            "order": null,
            "overflow": null,
            "overflow_x": null,
            "overflow_y": null,
            "padding": null,
            "right": null,
            "top": null,
            "visibility": null,
            "width": null
          }
        },
        "368bb8441fb44f9e8b187c8365c5de3a": {
          "model_module": "@jupyter-widgets/base",
          "model_name": "LayoutModel",
          "model_module_version": "1.2.0",
          "state": {
            "_model_module": "@jupyter-widgets/base",
            "_model_module_version": "1.2.0",
            "_model_name": "LayoutModel",
            "_view_count": null,
            "_view_module": "@jupyter-widgets/base",
            "_view_module_version": "1.2.0",
            "_view_name": "LayoutView",
            "align_content": null,
            "align_items": null,
            "align_self": null,
            "border": null,
            "bottom": null,
            "display": null,
            "flex": null,
            "flex_flow": null,
            "grid_area": null,
            "grid_auto_columns": null,
            "grid_auto_flow": null,
            "grid_auto_rows": null,
            "grid_column": null,
            "grid_gap": null,
            "grid_row": null,
            "grid_template_areas": null,
            "grid_template_columns": null,
            "grid_template_rows": null,
            "height": null,
            "justify_content": null,
            "justify_items": null,
            "left": null,
            "margin": null,
            "max_height": null,
            "max_width": null,
            "min_height": null,
            "min_width": null,
            "object_fit": null,
            "object_position": null,
            "order": null,
            "overflow": null,
            "overflow_x": null,
            "overflow_y": null,
            "padding": null,
            "right": null,
            "top": null,
            "visibility": null,
            "width": null
          }
        },
        "3f2ca6f51f0a4d31852d80354fcd620b": {
          "model_module": "@jupyter-widgets/controls",
          "model_name": "DescriptionStyleModel",
          "model_module_version": "1.5.0",
          "state": {
            "_model_module": "@jupyter-widgets/controls",
            "_model_module_version": "1.5.0",
            "_model_name": "DescriptionStyleModel",
            "_view_count": null,
            "_view_module": "@jupyter-widgets/base",
            "_view_module_version": "1.2.0",
            "_view_name": "StyleView",
            "description_width": ""
          }
        },
        "064125ee444e4020bc93bf3fc772a5ae": {
          "model_module": "@jupyter-widgets/base",
          "model_name": "LayoutModel",
          "model_module_version": "1.2.0",
          "state": {
            "_model_module": "@jupyter-widgets/base",
            "_model_module_version": "1.2.0",
            "_model_name": "LayoutModel",
            "_view_count": null,
            "_view_module": "@jupyter-widgets/base",
            "_view_module_version": "1.2.0",
            "_view_name": "LayoutView",
            "align_content": null,
            "align_items": null,
            "align_self": null,
            "border": null,
            "bottom": null,
            "display": null,
            "flex": null,
            "flex_flow": null,
            "grid_area": null,
            "grid_auto_columns": null,
            "grid_auto_flow": null,
            "grid_auto_rows": null,
            "grid_column": null,
            "grid_gap": null,
            "grid_row": null,
            "grid_template_areas": null,
            "grid_template_columns": null,
            "grid_template_rows": null,
            "height": null,
            "justify_content": null,
            "justify_items": null,
            "left": null,
            "margin": null,
            "max_height": null,
            "max_width": null,
            "min_height": null,
            "min_width": null,
            "object_fit": null,
            "object_position": null,
            "order": null,
            "overflow": null,
            "overflow_x": null,
            "overflow_y": null,
            "padding": null,
            "right": null,
            "top": null,
            "visibility": null,
            "width": null
          }
        },
        "2d725fcad29a4617b6cbc73b314c7922": {
          "model_module": "@jupyter-widgets/controls",
          "model_name": "ProgressStyleModel",
          "model_module_version": "1.5.0",
          "state": {
            "_model_module": "@jupyter-widgets/controls",
            "_model_module_version": "1.5.0",
            "_model_name": "ProgressStyleModel",
            "_view_count": null,
            "_view_module": "@jupyter-widgets/base",
            "_view_module_version": "1.2.0",
            "_view_name": "StyleView",
            "bar_color": null,
            "description_width": ""
          }
        },
        "05aba60e97f449b8804f8d2079050b2e": {
          "model_module": "@jupyter-widgets/base",
          "model_name": "LayoutModel",
          "model_module_version": "1.2.0",
          "state": {
            "_model_module": "@jupyter-widgets/base",
            "_model_module_version": "1.2.0",
            "_model_name": "LayoutModel",
            "_view_count": null,
            "_view_module": "@jupyter-widgets/base",
            "_view_module_version": "1.2.0",
            "_view_name": "LayoutView",
            "align_content": null,
            "align_items": null,
            "align_self": null,
            "border": null,
            "bottom": null,
            "display": null,
            "flex": null,
            "flex_flow": null,
            "grid_area": null,
            "grid_auto_columns": null,
            "grid_auto_flow": null,
            "grid_auto_rows": null,
            "grid_column": null,
            "grid_gap": null,
            "grid_row": null,
            "grid_template_areas": null,
            "grid_template_columns": null,
            "grid_template_rows": null,
            "height": null,
            "justify_content": null,
            "justify_items": null,
            "left": null,
            "margin": null,
            "max_height": null,
            "max_width": null,
            "min_height": null,
            "min_width": null,
            "object_fit": null,
            "object_position": null,
            "order": null,
            "overflow": null,
            "overflow_x": null,
            "overflow_y": null,
            "padding": null,
            "right": null,
            "top": null,
            "visibility": null,
            "width": null
          }
        },
        "d570c74402f0446695fb1f6fb19b8677": {
          "model_module": "@jupyter-widgets/controls",
          "model_name": "DescriptionStyleModel",
          "model_module_version": "1.5.0",
          "state": {
            "_model_module": "@jupyter-widgets/controls",
            "_model_module_version": "1.5.0",
            "_model_name": "DescriptionStyleModel",
            "_view_count": null,
            "_view_module": "@jupyter-widgets/base",
            "_view_module_version": "1.2.0",
            "_view_name": "StyleView",
            "description_width": ""
          }
        },
        "1705f5687cd84cc0a2eb544826884ca1": {
          "model_module": "@jupyter-widgets/controls",
          "model_name": "HBoxModel",
          "model_module_version": "1.5.0",
          "state": {
            "_dom_classes": [],
            "_model_module": "@jupyter-widgets/controls",
            "_model_module_version": "1.5.0",
            "_model_name": "HBoxModel",
            "_view_count": null,
            "_view_module": "@jupyter-widgets/controls",
            "_view_module_version": "1.5.0",
            "_view_name": "HBoxView",
            "box_style": "",
            "children": [
              "IPY_MODEL_006f8a04a50b44298eff831d7c98cd79",
              "IPY_MODEL_800a533207a94fb6adba4e0e2af2caca",
              "IPY_MODEL_fb3e7897f5f44fe58b0e6cbd1e322b18"
            ],
            "layout": "IPY_MODEL_f2a1839ff3c941fb9bd6ad916f80164b"
          }
        },
        "006f8a04a50b44298eff831d7c98cd79": {
          "model_module": "@jupyter-widgets/controls",
          "model_name": "HTMLModel",
          "model_module_version": "1.5.0",
          "state": {
            "_dom_classes": [],
            "_model_module": "@jupyter-widgets/controls",
            "_model_module_version": "1.5.0",
            "_model_name": "HTMLModel",
            "_view_count": null,
            "_view_module": "@jupyter-widgets/controls",
            "_view_module_version": "1.5.0",
            "_view_name": "HTMLView",
            "description": "",
            "description_tooltip": null,
            "layout": "IPY_MODEL_e7458e4b65a949f79cf2b21ad6a5c0c5",
            "placeholder": "​",
            "style": "IPY_MODEL_9b086b0bbd51420494fc20700db25074",
            "value": "llm_classify "
          }
        },
        "800a533207a94fb6adba4e0e2af2caca": {
          "model_module": "@jupyter-widgets/controls",
          "model_name": "FloatProgressModel",
          "model_module_version": "1.5.0",
          "state": {
            "_dom_classes": [],
            "_model_module": "@jupyter-widgets/controls",
            "_model_module_version": "1.5.0",
            "_model_name": "FloatProgressModel",
            "_view_count": null,
            "_view_module": "@jupyter-widgets/controls",
            "_view_module_version": "1.5.0",
            "_view_name": "ProgressView",
            "bar_style": "success",
            "description": "",
            "description_tooltip": null,
            "layout": "IPY_MODEL_309c0f803e2c4070a1088be61a5b41e7",
            "max": 70,
            "min": 0,
            "orientation": "horizontal",
            "style": "IPY_MODEL_7e10b0b60c0044499061d1e1d35d8e8d",
            "value": 70
          }
        },
        "fb3e7897f5f44fe58b0e6cbd1e322b18": {
          "model_module": "@jupyter-widgets/controls",
          "model_name": "HTMLModel",
          "model_module_version": "1.5.0",
          "state": {
            "_dom_classes": [],
            "_model_module": "@jupyter-widgets/controls",
            "_model_module_version": "1.5.0",
            "_model_name": "HTMLModel",
            "_view_count": null,
            "_view_module": "@jupyter-widgets/controls",
            "_view_module_version": "1.5.0",
            "_view_name": "HTMLView",
            "description": "",
            "description_tooltip": null,
            "layout": "IPY_MODEL_6719d3740d9d4325bc08492efaddc726",
            "placeholder": "​",
            "style": "IPY_MODEL_930b2ceb588e415c914a15cd2f138dd3",
            "value": " 70/70 (100.0%) | ⏳ 02:42&lt;00:00 | 11.14it/s"
          }
        },
        "f2a1839ff3c941fb9bd6ad916f80164b": {
          "model_module": "@jupyter-widgets/base",
          "model_name": "LayoutModel",
          "model_module_version": "1.2.0",
          "state": {
            "_model_module": "@jupyter-widgets/base",
            "_model_module_version": "1.2.0",
            "_model_name": "LayoutModel",
            "_view_count": null,
            "_view_module": "@jupyter-widgets/base",
            "_view_module_version": "1.2.0",
            "_view_name": "LayoutView",
            "align_content": null,
            "align_items": null,
            "align_self": null,
            "border": null,
            "bottom": null,
            "display": null,
            "flex": null,
            "flex_flow": null,
            "grid_area": null,
            "grid_auto_columns": null,
            "grid_auto_flow": null,
            "grid_auto_rows": null,
            "grid_column": null,
            "grid_gap": null,
            "grid_row": null,
            "grid_template_areas": null,
            "grid_template_columns": null,
            "grid_template_rows": null,
            "height": null,
            "justify_content": null,
            "justify_items": null,
            "left": null,
            "margin": null,
            "max_height": null,
            "max_width": null,
            "min_height": null,
            "min_width": null,
            "object_fit": null,
            "object_position": null,
            "order": null,
            "overflow": null,
            "overflow_x": null,
            "overflow_y": null,
            "padding": null,
            "right": null,
            "top": null,
            "visibility": null,
            "width": null
          }
        },
        "e7458e4b65a949f79cf2b21ad6a5c0c5": {
          "model_module": "@jupyter-widgets/base",
          "model_name": "LayoutModel",
          "model_module_version": "1.2.0",
          "state": {
            "_model_module": "@jupyter-widgets/base",
            "_model_module_version": "1.2.0",
            "_model_name": "LayoutModel",
            "_view_count": null,
            "_view_module": "@jupyter-widgets/base",
            "_view_module_version": "1.2.0",
            "_view_name": "LayoutView",
            "align_content": null,
            "align_items": null,
            "align_self": null,
            "border": null,
            "bottom": null,
            "display": null,
            "flex": null,
            "flex_flow": null,
            "grid_area": null,
            "grid_auto_columns": null,
            "grid_auto_flow": null,
            "grid_auto_rows": null,
            "grid_column": null,
            "grid_gap": null,
            "grid_row": null,
            "grid_template_areas": null,
            "grid_template_columns": null,
            "grid_template_rows": null,
            "height": null,
            "justify_content": null,
            "justify_items": null,
            "left": null,
            "margin": null,
            "max_height": null,
            "max_width": null,
            "min_height": null,
            "min_width": null,
            "object_fit": null,
            "object_position": null,
            "order": null,
            "overflow": null,
            "overflow_x": null,
            "overflow_y": null,
            "padding": null,
            "right": null,
            "top": null,
            "visibility": null,
            "width": null
          }
        },
        "9b086b0bbd51420494fc20700db25074": {
          "model_module": "@jupyter-widgets/controls",
          "model_name": "DescriptionStyleModel",
          "model_module_version": "1.5.0",
          "state": {
            "_model_module": "@jupyter-widgets/controls",
            "_model_module_version": "1.5.0",
            "_model_name": "DescriptionStyleModel",
            "_view_count": null,
            "_view_module": "@jupyter-widgets/base",
            "_view_module_version": "1.2.0",
            "_view_name": "StyleView",
            "description_width": ""
          }
        },
        "309c0f803e2c4070a1088be61a5b41e7": {
          "model_module": "@jupyter-widgets/base",
          "model_name": "LayoutModel",
          "model_module_version": "1.2.0",
          "state": {
            "_model_module": "@jupyter-widgets/base",
            "_model_module_version": "1.2.0",
            "_model_name": "LayoutModel",
            "_view_count": null,
            "_view_module": "@jupyter-widgets/base",
            "_view_module_version": "1.2.0",
            "_view_name": "LayoutView",
            "align_content": null,
            "align_items": null,
            "align_self": null,
            "border": null,
            "bottom": null,
            "display": null,
            "flex": null,
            "flex_flow": null,
            "grid_area": null,
            "grid_auto_columns": null,
            "grid_auto_flow": null,
            "grid_auto_rows": null,
            "grid_column": null,
            "grid_gap": null,
            "grid_row": null,
            "grid_template_areas": null,
            "grid_template_columns": null,
            "grid_template_rows": null,
            "height": null,
            "justify_content": null,
            "justify_items": null,
            "left": null,
            "margin": null,
            "max_height": null,
            "max_width": null,
            "min_height": null,
            "min_width": null,
            "object_fit": null,
            "object_position": null,
            "order": null,
            "overflow": null,
            "overflow_x": null,
            "overflow_y": null,
            "padding": null,
            "right": null,
            "top": null,
            "visibility": null,
            "width": null
          }
        },
        "7e10b0b60c0044499061d1e1d35d8e8d": {
          "model_module": "@jupyter-widgets/controls",
          "model_name": "ProgressStyleModel",
          "model_module_version": "1.5.0",
          "state": {
            "_model_module": "@jupyter-widgets/controls",
            "_model_module_version": "1.5.0",
            "_model_name": "ProgressStyleModel",
            "_view_count": null,
            "_view_module": "@jupyter-widgets/base",
            "_view_module_version": "1.2.0",
            "_view_name": "StyleView",
            "bar_color": null,
            "description_width": ""
          }
        },
        "6719d3740d9d4325bc08492efaddc726": {
          "model_module": "@jupyter-widgets/base",
          "model_name": "LayoutModel",
          "model_module_version": "1.2.0",
          "state": {
            "_model_module": "@jupyter-widgets/base",
            "_model_module_version": "1.2.0",
            "_model_name": "LayoutModel",
            "_view_count": null,
            "_view_module": "@jupyter-widgets/base",
            "_view_module_version": "1.2.0",
            "_view_name": "LayoutView",
            "align_content": null,
            "align_items": null,
            "align_self": null,
            "border": null,
            "bottom": null,
            "display": null,
            "flex": null,
            "flex_flow": null,
            "grid_area": null,
            "grid_auto_columns": null,
            "grid_auto_flow": null,
            "grid_auto_rows": null,
            "grid_column": null,
            "grid_gap": null,
            "grid_row": null,
            "grid_template_areas": null,
            "grid_template_columns": null,
            "grid_template_rows": null,
            "height": null,
            "justify_content": null,
            "justify_items": null,
            "left": null,
            "margin": null,
            "max_height": null,
            "max_width": null,
            "min_height": null,
            "min_width": null,
            "object_fit": null,
            "object_position": null,
            "order": null,
            "overflow": null,
            "overflow_x": null,
            "overflow_y": null,
            "padding": null,
            "right": null,
            "top": null,
            "visibility": null,
            "width": null
          }
        },
        "930b2ceb588e415c914a15cd2f138dd3": {
          "model_module": "@jupyter-widgets/controls",
          "model_name": "DescriptionStyleModel",
          "model_module_version": "1.5.0",
          "state": {
            "_model_module": "@jupyter-widgets/controls",
            "_model_module_version": "1.5.0",
            "_model_name": "DescriptionStyleModel",
            "_view_count": null,
            "_view_module": "@jupyter-widgets/base",
            "_view_module_version": "1.2.0",
            "_view_name": "StyleView",
            "description_width": ""
          }
        },
        "b921f24c318343769190e22046f81972": {
          "model_module": "@jupyter-widgets/controls",
          "model_name": "HBoxModel",
          "model_module_version": "1.5.0",
          "state": {
            "_dom_classes": [],
            "_model_module": "@jupyter-widgets/controls",
            "_model_module_version": "1.5.0",
            "_model_name": "HBoxModel",
            "_view_count": null,
            "_view_module": "@jupyter-widgets/controls",
            "_view_module_version": "1.5.0",
            "_view_name": "HBoxView",
            "box_style": "",
            "children": [
              "IPY_MODEL_36f79f132fbe4b2ab768da88c36586c4",
              "IPY_MODEL_c3034f829ae444458d92fb051af11ac9",
              "IPY_MODEL_67fbfd563a7845858fc1c9cc808f3f43"
            ],
            "layout": "IPY_MODEL_731fea2989114d24a3edb31255a28c13"
          }
        },
        "36f79f132fbe4b2ab768da88c36586c4": {
          "model_module": "@jupyter-widgets/controls",
          "model_name": "HTMLModel",
          "model_module_version": "1.5.0",
          "state": {
            "_dom_classes": [],
            "_model_module": "@jupyter-widgets/controls",
            "_model_module_version": "1.5.0",
            "_model_name": "HTMLModel",
            "_view_count": null,
            "_view_module": "@jupyter-widgets/controls",
            "_view_module_version": "1.5.0",
            "_view_name": "HTMLView",
            "description": "",
            "description_tooltip": null,
            "layout": "IPY_MODEL_f98136a72f5b495da41e7f0f9e791c5c",
            "placeholder": "​",
            "style": "IPY_MODEL_4e45513d14064ef1bcdd0e257a582a80",
            "value": "llm_classify "
          }
        },
        "c3034f829ae444458d92fb051af11ac9": {
          "model_module": "@jupyter-widgets/controls",
          "model_name": "FloatProgressModel",
          "model_module_version": "1.5.0",
          "state": {
            "_dom_classes": [],
            "_model_module": "@jupyter-widgets/controls",
            "_model_module_version": "1.5.0",
            "_model_name": "FloatProgressModel",
            "_view_count": null,
            "_view_module": "@jupyter-widgets/controls",
            "_view_module_version": "1.5.0",
            "_view_name": "ProgressView",
            "bar_style": "success",
            "description": "",
            "description_tooltip": null,
            "layout": "IPY_MODEL_1f4cd4aa71ff491bba20dfebbb61241d",
            "max": 70,
            "min": 0,
            "orientation": "horizontal",
            "style": "IPY_MODEL_e7a4324bccf94c848e0a80d85fe4d1e5",
            "value": 70
          }
        },
        "67fbfd563a7845858fc1c9cc808f3f43": {
          "model_module": "@jupyter-widgets/controls",
          "model_name": "HTMLModel",
          "model_module_version": "1.5.0",
          "state": {
            "_dom_classes": [],
            "_model_module": "@jupyter-widgets/controls",
            "_model_module_version": "1.5.0",
            "_model_name": "HTMLModel",
            "_view_count": null,
            "_view_module": "@jupyter-widgets/controls",
            "_view_module_version": "1.5.0",
            "_view_name": "HTMLView",
            "description": "",
            "description_tooltip": null,
            "layout": "IPY_MODEL_1b392d35667e4710b58e04e0d12cf54a",
            "placeholder": "​",
            "style": "IPY_MODEL_f0f3fcbf816446df95c1356c05d3b469",
            "value": " 70/70 (100.0%) | ⏳ 02:33&lt;00:00 |  1.12s/it"
          }
        },
        "731fea2989114d24a3edb31255a28c13": {
          "model_module": "@jupyter-widgets/base",
          "model_name": "LayoutModel",
          "model_module_version": "1.2.0",
          "state": {
            "_model_module": "@jupyter-widgets/base",
            "_model_module_version": "1.2.0",
            "_model_name": "LayoutModel",
            "_view_count": null,
            "_view_module": "@jupyter-widgets/base",
            "_view_module_version": "1.2.0",
            "_view_name": "LayoutView",
            "align_content": null,
            "align_items": null,
            "align_self": null,
            "border": null,
            "bottom": null,
            "display": null,
            "flex": null,
            "flex_flow": null,
            "grid_area": null,
            "grid_auto_columns": null,
            "grid_auto_flow": null,
            "grid_auto_rows": null,
            "grid_column": null,
            "grid_gap": null,
            "grid_row": null,
            "grid_template_areas": null,
            "grid_template_columns": null,
            "grid_template_rows": null,
            "height": null,
            "justify_content": null,
            "justify_items": null,
            "left": null,
            "margin": null,
            "max_height": null,
            "max_width": null,
            "min_height": null,
            "min_width": null,
            "object_fit": null,
            "object_position": null,
            "order": null,
            "overflow": null,
            "overflow_x": null,
            "overflow_y": null,
            "padding": null,
            "right": null,
            "top": null,
            "visibility": null,
            "width": null
          }
        },
        "f98136a72f5b495da41e7f0f9e791c5c": {
          "model_module": "@jupyter-widgets/base",
          "model_name": "LayoutModel",
          "model_module_version": "1.2.0",
          "state": {
            "_model_module": "@jupyter-widgets/base",
            "_model_module_version": "1.2.0",
            "_model_name": "LayoutModel",
            "_view_count": null,
            "_view_module": "@jupyter-widgets/base",
            "_view_module_version": "1.2.0",
            "_view_name": "LayoutView",
            "align_content": null,
            "align_items": null,
            "align_self": null,
            "border": null,
            "bottom": null,
            "display": null,
            "flex": null,
            "flex_flow": null,
            "grid_area": null,
            "grid_auto_columns": null,
            "grid_auto_flow": null,
            "grid_auto_rows": null,
            "grid_column": null,
            "grid_gap": null,
            "grid_row": null,
            "grid_template_areas": null,
            "grid_template_columns": null,
            "grid_template_rows": null,
            "height": null,
            "justify_content": null,
            "justify_items": null,
            "left": null,
            "margin": null,
            "max_height": null,
            "max_width": null,
            "min_height": null,
            "min_width": null,
            "object_fit": null,
            "object_position": null,
            "order": null,
            "overflow": null,
            "overflow_x": null,
            "overflow_y": null,
            "padding": null,
            "right": null,
            "top": null,
            "visibility": null,
            "width": null
          }
        },
        "4e45513d14064ef1bcdd0e257a582a80": {
          "model_module": "@jupyter-widgets/controls",
          "model_name": "DescriptionStyleModel",
          "model_module_version": "1.5.0",
          "state": {
            "_model_module": "@jupyter-widgets/controls",
            "_model_module_version": "1.5.0",
            "_model_name": "DescriptionStyleModel",
            "_view_count": null,
            "_view_module": "@jupyter-widgets/base",
            "_view_module_version": "1.2.0",
            "_view_name": "StyleView",
            "description_width": ""
          }
        },
        "1f4cd4aa71ff491bba20dfebbb61241d": {
          "model_module": "@jupyter-widgets/base",
          "model_name": "LayoutModel",
          "model_module_version": "1.2.0",
          "state": {
            "_model_module": "@jupyter-widgets/base",
            "_model_module_version": "1.2.0",
            "_model_name": "LayoutModel",
            "_view_count": null,
            "_view_module": "@jupyter-widgets/base",
            "_view_module_version": "1.2.0",
            "_view_name": "LayoutView",
            "align_content": null,
            "align_items": null,
            "align_self": null,
            "border": null,
            "bottom": null,
            "display": null,
            "flex": null,
            "flex_flow": null,
            "grid_area": null,
            "grid_auto_columns": null,
            "grid_auto_flow": null,
            "grid_auto_rows": null,
            "grid_column": null,
            "grid_gap": null,
            "grid_row": null,
            "grid_template_areas": null,
            "grid_template_columns": null,
            "grid_template_rows": null,
            "height": null,
            "justify_content": null,
            "justify_items": null,
            "left": null,
            "margin": null,
            "max_height": null,
            "max_width": null,
            "min_height": null,
            "min_width": null,
            "object_fit": null,
            "object_position": null,
            "order": null,
            "overflow": null,
            "overflow_x": null,
            "overflow_y": null,
            "padding": null,
            "right": null,
            "top": null,
            "visibility": null,
            "width": null
          }
        },
        "e7a4324bccf94c848e0a80d85fe4d1e5": {
          "model_module": "@jupyter-widgets/controls",
          "model_name": "ProgressStyleModel",
          "model_module_version": "1.5.0",
          "state": {
            "_model_module": "@jupyter-widgets/controls",
            "_model_module_version": "1.5.0",
            "_model_name": "ProgressStyleModel",
            "_view_count": null,
            "_view_module": "@jupyter-widgets/base",
            "_view_module_version": "1.2.0",
            "_view_name": "StyleView",
            "bar_color": null,
            "description_width": ""
          }
        },
        "1b392d35667e4710b58e04e0d12cf54a": {
          "model_module": "@jupyter-widgets/base",
          "model_name": "LayoutModel",
          "model_module_version": "1.2.0",
          "state": {
            "_model_module": "@jupyter-widgets/base",
            "_model_module_version": "1.2.0",
            "_model_name": "LayoutModel",
            "_view_count": null,
            "_view_module": "@jupyter-widgets/base",
            "_view_module_version": "1.2.0",
            "_view_name": "LayoutView",
            "align_content": null,
            "align_items": null,
            "align_self": null,
            "border": null,
            "bottom": null,
            "display": null,
            "flex": null,
            "flex_flow": null,
            "grid_area": null,
            "grid_auto_columns": null,
            "grid_auto_flow": null,
            "grid_auto_rows": null,
            "grid_column": null,
            "grid_gap": null,
            "grid_row": null,
            "grid_template_areas": null,
            "grid_template_columns": null,
            "grid_template_rows": null,
            "height": null,
            "justify_content": null,
            "justify_items": null,
            "left": null,
            "margin": null,
            "max_height": null,
            "max_width": null,
            "min_height": null,
            "min_width": null,
            "object_fit": null,
            "object_position": null,
            "order": null,
            "overflow": null,
            "overflow_x": null,
            "overflow_y": null,
            "padding": null,
            "right": null,
            "top": null,
            "visibility": null,
            "width": null
          }
        },
        "f0f3fcbf816446df95c1356c05d3b469": {
          "model_module": "@jupyter-widgets/controls",
          "model_name": "DescriptionStyleModel",
          "model_module_version": "1.5.0",
          "state": {
            "_model_module": "@jupyter-widgets/controls",
            "_model_module_version": "1.5.0",
            "_model_name": "DescriptionStyleModel",
            "_view_count": null,
            "_view_module": "@jupyter-widgets/base",
            "_view_module_version": "1.2.0",
            "_view_name": "StyleView",
            "description_width": ""
          }
        },
        "256f645ff12640a896e33f08c4c843e9": {
          "model_module": "@jupyter-widgets/controls",
          "model_name": "HBoxModel",
          "model_module_version": "1.5.0",
          "state": {
            "_dom_classes": [],
            "_model_module": "@jupyter-widgets/controls",
            "_model_module_version": "1.5.0",
            "_model_name": "HBoxModel",
            "_view_count": null,
            "_view_module": "@jupyter-widgets/controls",
            "_view_module_version": "1.5.0",
            "_view_name": "HBoxView",
            "box_style": "",
            "children": [
              "IPY_MODEL_35d74aa33af84edb989c59ce47cd265c",
              "IPY_MODEL_fb30ba769cfd4818b604d616e1baa067",
              "IPY_MODEL_cf22e6fe60184a9a92f21e92c67f2e7a"
            ],
            "layout": "IPY_MODEL_85351bd5390e4c8bb5badfcb1df10342"
          }
        },
        "35d74aa33af84edb989c59ce47cd265c": {
          "model_module": "@jupyter-widgets/controls",
          "model_name": "HTMLModel",
          "model_module_version": "1.5.0",
          "state": {
            "_dom_classes": [],
            "_model_module": "@jupyter-widgets/controls",
            "_model_module_version": "1.5.0",
            "_model_name": "HTMLModel",
            "_view_count": null,
            "_view_module": "@jupyter-widgets/controls",
            "_view_module_version": "1.5.0",
            "_view_name": "HTMLView",
            "description": "",
            "description_tooltip": null,
            "layout": "IPY_MODEL_5fc64c7aa3014926a7e0807c380f9bb6",
            "placeholder": "​",
            "style": "IPY_MODEL_7a855418b86e47bc893542e8c9c1b112",
            "value": "llm_classify "
          }
        },
        "fb30ba769cfd4818b604d616e1baa067": {
          "model_module": "@jupyter-widgets/controls",
          "model_name": "FloatProgressModel",
          "model_module_version": "1.5.0",
          "state": {
            "_dom_classes": [],
            "_model_module": "@jupyter-widgets/controls",
            "_model_module_version": "1.5.0",
            "_model_name": "FloatProgressModel",
            "_view_count": null,
            "_view_module": "@jupyter-widgets/controls",
            "_view_module_version": "1.5.0",
            "_view_name": "ProgressView",
            "bar_style": "success",
            "description": "",
            "description_tooltip": null,
            "layout": "IPY_MODEL_e87518a78da84e44858ed976a21e026c",
            "max": 70,
            "min": 0,
            "orientation": "horizontal",
            "style": "IPY_MODEL_70172c4c3cca47f5a9d6c878f0b7fff0",
            "value": 70
          }
        },
        "cf22e6fe60184a9a92f21e92c67f2e7a": {
          "model_module": "@jupyter-widgets/controls",
          "model_name": "HTMLModel",
          "model_module_version": "1.5.0",
          "state": {
            "_dom_classes": [],
            "_model_module": "@jupyter-widgets/controls",
            "_model_module_version": "1.5.0",
            "_model_name": "HTMLModel",
            "_view_count": null,
            "_view_module": "@jupyter-widgets/controls",
            "_view_module_version": "1.5.0",
            "_view_name": "HTMLView",
            "description": "",
            "description_tooltip": null,
            "layout": "IPY_MODEL_09f2f17e13844b9cb0b75fcc3a4ca2ef",
            "placeholder": "​",
            "style": "IPY_MODEL_d275db95a4ec4fbca934b239edfd4d43",
            "value": " 70/70 (100.0%) | ⏳ 02:13&lt;00:00 |  9.22it/s"
          }
        },
        "85351bd5390e4c8bb5badfcb1df10342": {
          "model_module": "@jupyter-widgets/base",
          "model_name": "LayoutModel",
          "model_module_version": "1.2.0",
          "state": {
            "_model_module": "@jupyter-widgets/base",
            "_model_module_version": "1.2.0",
            "_model_name": "LayoutModel",
            "_view_count": null,
            "_view_module": "@jupyter-widgets/base",
            "_view_module_version": "1.2.0",
            "_view_name": "LayoutView",
            "align_content": null,
            "align_items": null,
            "align_self": null,
            "border": null,
            "bottom": null,
            "display": null,
            "flex": null,
            "flex_flow": null,
            "grid_area": null,
            "grid_auto_columns": null,
            "grid_auto_flow": null,
            "grid_auto_rows": null,
            "grid_column": null,
            "grid_gap": null,
            "grid_row": null,
            "grid_template_areas": null,
            "grid_template_columns": null,
            "grid_template_rows": null,
            "height": null,
            "justify_content": null,
            "justify_items": null,
            "left": null,
            "margin": null,
            "max_height": null,
            "max_width": null,
            "min_height": null,
            "min_width": null,
            "object_fit": null,
            "object_position": null,
            "order": null,
            "overflow": null,
            "overflow_x": null,
            "overflow_y": null,
            "padding": null,
            "right": null,
            "top": null,
            "visibility": null,
            "width": null
          }
        },
        "5fc64c7aa3014926a7e0807c380f9bb6": {
          "model_module": "@jupyter-widgets/base",
          "model_name": "LayoutModel",
          "model_module_version": "1.2.0",
          "state": {
            "_model_module": "@jupyter-widgets/base",
            "_model_module_version": "1.2.0",
            "_model_name": "LayoutModel",
            "_view_count": null,
            "_view_module": "@jupyter-widgets/base",
            "_view_module_version": "1.2.0",
            "_view_name": "LayoutView",
            "align_content": null,
            "align_items": null,
            "align_self": null,
            "border": null,
            "bottom": null,
            "display": null,
            "flex": null,
            "flex_flow": null,
            "grid_area": null,
            "grid_auto_columns": null,
            "grid_auto_flow": null,
            "grid_auto_rows": null,
            "grid_column": null,
            "grid_gap": null,
            "grid_row": null,
            "grid_template_areas": null,
            "grid_template_columns": null,
            "grid_template_rows": null,
            "height": null,
            "justify_content": null,
            "justify_items": null,
            "left": null,
            "margin": null,
            "max_height": null,
            "max_width": null,
            "min_height": null,
            "min_width": null,
            "object_fit": null,
            "object_position": null,
            "order": null,
            "overflow": null,
            "overflow_x": null,
            "overflow_y": null,
            "padding": null,
            "right": null,
            "top": null,
            "visibility": null,
            "width": null
          }
        },
        "7a855418b86e47bc893542e8c9c1b112": {
          "model_module": "@jupyter-widgets/controls",
          "model_name": "DescriptionStyleModel",
          "model_module_version": "1.5.0",
          "state": {
            "_model_module": "@jupyter-widgets/controls",
            "_model_module_version": "1.5.0",
            "_model_name": "DescriptionStyleModel",
            "_view_count": null,
            "_view_module": "@jupyter-widgets/base",
            "_view_module_version": "1.2.0",
            "_view_name": "StyleView",
            "description_width": ""
          }
        },
        "e87518a78da84e44858ed976a21e026c": {
          "model_module": "@jupyter-widgets/base",
          "model_name": "LayoutModel",
          "model_module_version": "1.2.0",
          "state": {
            "_model_module": "@jupyter-widgets/base",
            "_model_module_version": "1.2.0",
            "_model_name": "LayoutModel",
            "_view_count": null,
            "_view_module": "@jupyter-widgets/base",
            "_view_module_version": "1.2.0",
            "_view_name": "LayoutView",
            "align_content": null,
            "align_items": null,
            "align_self": null,
            "border": null,
            "bottom": null,
            "display": null,
            "flex": null,
            "flex_flow": null,
            "grid_area": null,
            "grid_auto_columns": null,
            "grid_auto_flow": null,
            "grid_auto_rows": null,
            "grid_column": null,
            "grid_gap": null,
            "grid_row": null,
            "grid_template_areas": null,
            "grid_template_columns": null,
            "grid_template_rows": null,
            "height": null,
            "justify_content": null,
            "justify_items": null,
            "left": null,
            "margin": null,
            "max_height": null,
            "max_width": null,
            "min_height": null,
            "min_width": null,
            "object_fit": null,
            "object_position": null,
            "order": null,
            "overflow": null,
            "overflow_x": null,
            "overflow_y": null,
            "padding": null,
            "right": null,
            "top": null,
            "visibility": null,
            "width": null
          }
        },
        "70172c4c3cca47f5a9d6c878f0b7fff0": {
          "model_module": "@jupyter-widgets/controls",
          "model_name": "ProgressStyleModel",
          "model_module_version": "1.5.0",
          "state": {
            "_model_module": "@jupyter-widgets/controls",
            "_model_module_version": "1.5.0",
            "_model_name": "ProgressStyleModel",
            "_view_count": null,
            "_view_module": "@jupyter-widgets/base",
            "_view_module_version": "1.2.0",
            "_view_name": "StyleView",
            "bar_color": null,
            "description_width": ""
          }
        },
        "09f2f17e13844b9cb0b75fcc3a4ca2ef": {
          "model_module": "@jupyter-widgets/base",
          "model_name": "LayoutModel",
          "model_module_version": "1.2.0",
          "state": {
            "_model_module": "@jupyter-widgets/base",
            "_model_module_version": "1.2.0",
            "_model_name": "LayoutModel",
            "_view_count": null,
            "_view_module": "@jupyter-widgets/base",
            "_view_module_version": "1.2.0",
            "_view_name": "LayoutView",
            "align_content": null,
            "align_items": null,
            "align_self": null,
            "border": null,
            "bottom": null,
            "display": null,
            "flex": null,
            "flex_flow": null,
            "grid_area": null,
            "grid_auto_columns": null,
            "grid_auto_flow": null,
            "grid_auto_rows": null,
            "grid_column": null,
            "grid_gap": null,
            "grid_row": null,
            "grid_template_areas": null,
            "grid_template_columns": null,
            "grid_template_rows": null,
            "height": null,
            "justify_content": null,
            "justify_items": null,
            "left": null,
            "margin": null,
            "max_height": null,
            "max_width": null,
            "min_height": null,
            "min_width": null,
            "object_fit": null,
            "object_position": null,
            "order": null,
            "overflow": null,
            "overflow_x": null,
            "overflow_y": null,
            "padding": null,
            "right": null,
            "top": null,
            "visibility": null,
            "width": null
          }
        },
        "d275db95a4ec4fbca934b239edfd4d43": {
          "model_module": "@jupyter-widgets/controls",
          "model_name": "DescriptionStyleModel",
          "model_module_version": "1.5.0",
          "state": {
            "_model_module": "@jupyter-widgets/controls",
            "_model_module_version": "1.5.0",
            "_model_name": "DescriptionStyleModel",
            "_view_count": null,
            "_view_module": "@jupyter-widgets/base",
            "_view_module_version": "1.2.0",
            "_view_name": "StyleView",
            "description_width": ""
          }
        },
        "de1093e001af4d30b925792777ec56c0": {
          "model_module": "@jupyter-widgets/controls",
          "model_name": "HBoxModel",
          "model_module_version": "1.5.0",
          "state": {
            "_dom_classes": [],
            "_model_module": "@jupyter-widgets/controls",
            "_model_module_version": "1.5.0",
            "_model_name": "HBoxModel",
            "_view_count": null,
            "_view_module": "@jupyter-widgets/controls",
            "_view_module_version": "1.5.0",
            "_view_name": "HBoxView",
            "box_style": "",
            "children": [
              "IPY_MODEL_e2710a3a77134cae986eeb173d0908e2",
              "IPY_MODEL_3db607cd8b594c18b918e3c5aaae4a0b",
              "IPY_MODEL_5db357093d2f446990b820945aca80fd"
            ],
            "layout": "IPY_MODEL_90761fef71d84abe844d0c5b92956237"
          }
        },
        "e2710a3a77134cae986eeb173d0908e2": {
          "model_module": "@jupyter-widgets/controls",
          "model_name": "HTMLModel",
          "model_module_version": "1.5.0",
          "state": {
            "_dom_classes": [],
            "_model_module": "@jupyter-widgets/controls",
            "_model_module_version": "1.5.0",
            "_model_name": "HTMLModel",
            "_view_count": null,
            "_view_module": "@jupyter-widgets/controls",
            "_view_module_version": "1.5.0",
            "_view_name": "HTMLView",
            "description": "",
            "description_tooltip": null,
            "layout": "IPY_MODEL_aef13f0cc5f04b73abaa878e9116690f",
            "placeholder": "​",
            "style": "IPY_MODEL_41eb76d88ab84aa9b7ab4f217174ca92",
            "value": "llm_classify "
          }
        },
        "3db607cd8b594c18b918e3c5aaae4a0b": {
          "model_module": "@jupyter-widgets/controls",
          "model_name": "FloatProgressModel",
          "model_module_version": "1.5.0",
          "state": {
            "_dom_classes": [],
            "_model_module": "@jupyter-widgets/controls",
            "_model_module_version": "1.5.0",
            "_model_name": "FloatProgressModel",
            "_view_count": null,
            "_view_module": "@jupyter-widgets/controls",
            "_view_module_version": "1.5.0",
            "_view_name": "ProgressView",
            "bar_style": "success",
            "description": "",
            "description_tooltip": null,
            "layout": "IPY_MODEL_a80ff5cfec9e43fc9d96fb8a8f3b6fe7",
            "max": 70,
            "min": 0,
            "orientation": "horizontal",
            "style": "IPY_MODEL_e7f2c96f0b5d4eafa5be8abaa80af8a8",
            "value": 70
          }
        },
        "5db357093d2f446990b820945aca80fd": {
          "model_module": "@jupyter-widgets/controls",
          "model_name": "HTMLModel",
          "model_module_version": "1.5.0",
          "state": {
            "_dom_classes": [],
            "_model_module": "@jupyter-widgets/controls",
            "_model_module_version": "1.5.0",
            "_model_name": "HTMLModel",
            "_view_count": null,
            "_view_module": "@jupyter-widgets/controls",
            "_view_module_version": "1.5.0",
            "_view_name": "HTMLView",
            "description": "",
            "description_tooltip": null,
            "layout": "IPY_MODEL_9a2bc79f2a734ab78d06a53820182645",
            "placeholder": "​",
            "style": "IPY_MODEL_33488109501744efa234d55db08d498c",
            "value": " 70/70 (100.0%) | ⏳ 02:03&lt;00:00 | 12.97it/s"
          }
        },
        "90761fef71d84abe844d0c5b92956237": {
          "model_module": "@jupyter-widgets/base",
          "model_name": "LayoutModel",
          "model_module_version": "1.2.0",
          "state": {
            "_model_module": "@jupyter-widgets/base",
            "_model_module_version": "1.2.0",
            "_model_name": "LayoutModel",
            "_view_count": null,
            "_view_module": "@jupyter-widgets/base",
            "_view_module_version": "1.2.0",
            "_view_name": "LayoutView",
            "align_content": null,
            "align_items": null,
            "align_self": null,
            "border": null,
            "bottom": null,
            "display": null,
            "flex": null,
            "flex_flow": null,
            "grid_area": null,
            "grid_auto_columns": null,
            "grid_auto_flow": null,
            "grid_auto_rows": null,
            "grid_column": null,
            "grid_gap": null,
            "grid_row": null,
            "grid_template_areas": null,
            "grid_template_columns": null,
            "grid_template_rows": null,
            "height": null,
            "justify_content": null,
            "justify_items": null,
            "left": null,
            "margin": null,
            "max_height": null,
            "max_width": null,
            "min_height": null,
            "min_width": null,
            "object_fit": null,
            "object_position": null,
            "order": null,
            "overflow": null,
            "overflow_x": null,
            "overflow_y": null,
            "padding": null,
            "right": null,
            "top": null,
            "visibility": null,
            "width": null
          }
        },
        "aef13f0cc5f04b73abaa878e9116690f": {
          "model_module": "@jupyter-widgets/base",
          "model_name": "LayoutModel",
          "model_module_version": "1.2.0",
          "state": {
            "_model_module": "@jupyter-widgets/base",
            "_model_module_version": "1.2.0",
            "_model_name": "LayoutModel",
            "_view_count": null,
            "_view_module": "@jupyter-widgets/base",
            "_view_module_version": "1.2.0",
            "_view_name": "LayoutView",
            "align_content": null,
            "align_items": null,
            "align_self": null,
            "border": null,
            "bottom": null,
            "display": null,
            "flex": null,
            "flex_flow": null,
            "grid_area": null,
            "grid_auto_columns": null,
            "grid_auto_flow": null,
            "grid_auto_rows": null,
            "grid_column": null,
            "grid_gap": null,
            "grid_row": null,
            "grid_template_areas": null,
            "grid_template_columns": null,
            "grid_template_rows": null,
            "height": null,
            "justify_content": null,
            "justify_items": null,
            "left": null,
            "margin": null,
            "max_height": null,
            "max_width": null,
            "min_height": null,
            "min_width": null,
            "object_fit": null,
            "object_position": null,
            "order": null,
            "overflow": null,
            "overflow_x": null,
            "overflow_y": null,
            "padding": null,
            "right": null,
            "top": null,
            "visibility": null,
            "width": null
          }
        },
        "41eb76d88ab84aa9b7ab4f217174ca92": {
          "model_module": "@jupyter-widgets/controls",
          "model_name": "DescriptionStyleModel",
          "model_module_version": "1.5.0",
          "state": {
            "_model_module": "@jupyter-widgets/controls",
            "_model_module_version": "1.5.0",
            "_model_name": "DescriptionStyleModel",
            "_view_count": null,
            "_view_module": "@jupyter-widgets/base",
            "_view_module_version": "1.2.0",
            "_view_name": "StyleView",
            "description_width": ""
          }
        },
        "a80ff5cfec9e43fc9d96fb8a8f3b6fe7": {
          "model_module": "@jupyter-widgets/base",
          "model_name": "LayoutModel",
          "model_module_version": "1.2.0",
          "state": {
            "_model_module": "@jupyter-widgets/base",
            "_model_module_version": "1.2.0",
            "_model_name": "LayoutModel",
            "_view_count": null,
            "_view_module": "@jupyter-widgets/base",
            "_view_module_version": "1.2.0",
            "_view_name": "LayoutView",
            "align_content": null,
            "align_items": null,
            "align_self": null,
            "border": null,
            "bottom": null,
            "display": null,
            "flex": null,
            "flex_flow": null,
            "grid_area": null,
            "grid_auto_columns": null,
            "grid_auto_flow": null,
            "grid_auto_rows": null,
            "grid_column": null,
            "grid_gap": null,
            "grid_row": null,
            "grid_template_areas": null,
            "grid_template_columns": null,
            "grid_template_rows": null,
            "height": null,
            "justify_content": null,
            "justify_items": null,
            "left": null,
            "margin": null,
            "max_height": null,
            "max_width": null,
            "min_height": null,
            "min_width": null,
            "object_fit": null,
            "object_position": null,
            "order": null,
            "overflow": null,
            "overflow_x": null,
            "overflow_y": null,
            "padding": null,
            "right": null,
            "top": null,
            "visibility": null,
            "width": null
          }
        },
        "e7f2c96f0b5d4eafa5be8abaa80af8a8": {
          "model_module": "@jupyter-widgets/controls",
          "model_name": "ProgressStyleModel",
          "model_module_version": "1.5.0",
          "state": {
            "_model_module": "@jupyter-widgets/controls",
            "_model_module_version": "1.5.0",
            "_model_name": "ProgressStyleModel",
            "_view_count": null,
            "_view_module": "@jupyter-widgets/base",
            "_view_module_version": "1.2.0",
            "_view_name": "StyleView",
            "bar_color": null,
            "description_width": ""
          }
        },
        "9a2bc79f2a734ab78d06a53820182645": {
          "model_module": "@jupyter-widgets/base",
          "model_name": "LayoutModel",
          "model_module_version": "1.2.0",
          "state": {
            "_model_module": "@jupyter-widgets/base",
            "_model_module_version": "1.2.0",
            "_model_name": "LayoutModel",
            "_view_count": null,
            "_view_module": "@jupyter-widgets/base",
            "_view_module_version": "1.2.0",
            "_view_name": "LayoutView",
            "align_content": null,
            "align_items": null,
            "align_self": null,
            "border": null,
            "bottom": null,
            "display": null,
            "flex": null,
            "flex_flow": null,
            "grid_area": null,
            "grid_auto_columns": null,
            "grid_auto_flow": null,
            "grid_auto_rows": null,
            "grid_column": null,
            "grid_gap": null,
            "grid_row": null,
            "grid_template_areas": null,
            "grid_template_columns": null,
            "grid_template_rows": null,
            "height": null,
            "justify_content": null,
            "justify_items": null,
            "left": null,
            "margin": null,
            "max_height": null,
            "max_width": null,
            "min_height": null,
            "min_width": null,
            "object_fit": null,
            "object_position": null,
            "order": null,
            "overflow": null,
            "overflow_x": null,
            "overflow_y": null,
            "padding": null,
            "right": null,
            "top": null,
            "visibility": null,
            "width": null
          }
        },
        "33488109501744efa234d55db08d498c": {
          "model_module": "@jupyter-widgets/controls",
          "model_name": "DescriptionStyleModel",
          "model_module_version": "1.5.0",
          "state": {
            "_model_module": "@jupyter-widgets/controls",
            "_model_module_version": "1.5.0",
            "_model_name": "DescriptionStyleModel",
            "_view_count": null,
            "_view_module": "@jupyter-widgets/base",
            "_view_module_version": "1.2.0",
            "_view_name": "StyleView",
            "description_width": ""
          }
        },
        "365fe028ad0246418359dc247780c229": {
          "model_module": "@jupyter-widgets/controls",
          "model_name": "HBoxModel",
          "model_module_version": "1.5.0",
          "state": {
            "_dom_classes": [],
            "_model_module": "@jupyter-widgets/controls",
            "_model_module_version": "1.5.0",
            "_model_name": "HBoxModel",
            "_view_count": null,
            "_view_module": "@jupyter-widgets/controls",
            "_view_module_version": "1.5.0",
            "_view_name": "HBoxView",
            "box_style": "",
            "children": [
              "IPY_MODEL_cd20676a159a40e095048854c9c23370",
              "IPY_MODEL_8d1033087b9f426fbc44f45e4c86e6a7",
              "IPY_MODEL_2386a9c376e848398724f902d67e69d2"
            ],
            "layout": "IPY_MODEL_d23315f9b7114362a8d5b82a0cbd3be2"
          }
        },
        "cd20676a159a40e095048854c9c23370": {
          "model_module": "@jupyter-widgets/controls",
          "model_name": "HTMLModel",
          "model_module_version": "1.5.0",
          "state": {
            "_dom_classes": [],
            "_model_module": "@jupyter-widgets/controls",
            "_model_module_version": "1.5.0",
            "_model_name": "HTMLModel",
            "_view_count": null,
            "_view_module": "@jupyter-widgets/controls",
            "_view_module_version": "1.5.0",
            "_view_name": "HTMLView",
            "description": "",
            "description_tooltip": null,
            "layout": "IPY_MODEL_a717b15be32544e4b719c4bb9478291c",
            "placeholder": "​",
            "style": "IPY_MODEL_6a5c714309d4416f9349b486443cd8dd",
            "value": "llm_classify "
          }
        },
        "8d1033087b9f426fbc44f45e4c86e6a7": {
          "model_module": "@jupyter-widgets/controls",
          "model_name": "FloatProgressModel",
          "model_module_version": "1.5.0",
          "state": {
            "_dom_classes": [],
            "_model_module": "@jupyter-widgets/controls",
            "_model_module_version": "1.5.0",
            "_model_name": "FloatProgressModel",
            "_view_count": null,
            "_view_module": "@jupyter-widgets/controls",
            "_view_module_version": "1.5.0",
            "_view_name": "ProgressView",
            "bar_style": "success",
            "description": "",
            "description_tooltip": null,
            "layout": "IPY_MODEL_2d8fbe57ac1342268b402a58e8f37889",
            "max": 70,
            "min": 0,
            "orientation": "horizontal",
            "style": "IPY_MODEL_caed8e963e7741a4a6e3953615b6bb98",
            "value": 70
          }
        },
        "2386a9c376e848398724f902d67e69d2": {
          "model_module": "@jupyter-widgets/controls",
          "model_name": "HTMLModel",
          "model_module_version": "1.5.0",
          "state": {
            "_dom_classes": [],
            "_model_module": "@jupyter-widgets/controls",
            "_model_module_version": "1.5.0",
            "_model_name": "HTMLModel",
            "_view_count": null,
            "_view_module": "@jupyter-widgets/controls",
            "_view_module_version": "1.5.0",
            "_view_name": "HTMLView",
            "description": "",
            "description_tooltip": null,
            "layout": "IPY_MODEL_e279ea19621446108280d8b4c7d25e74",
            "placeholder": "​",
            "style": "IPY_MODEL_45c6630cc06e48e1bffa0b1d4994913c",
            "value": " 70/70 (100.0%) | ⏳ 01:53&lt;00:00 |  7.37it/s"
          }
        },
        "d23315f9b7114362a8d5b82a0cbd3be2": {
          "model_module": "@jupyter-widgets/base",
          "model_name": "LayoutModel",
          "model_module_version": "1.2.0",
          "state": {
            "_model_module": "@jupyter-widgets/base",
            "_model_module_version": "1.2.0",
            "_model_name": "LayoutModel",
            "_view_count": null,
            "_view_module": "@jupyter-widgets/base",
            "_view_module_version": "1.2.0",
            "_view_name": "LayoutView",
            "align_content": null,
            "align_items": null,
            "align_self": null,
            "border": null,
            "bottom": null,
            "display": null,
            "flex": null,
            "flex_flow": null,
            "grid_area": null,
            "grid_auto_columns": null,
            "grid_auto_flow": null,
            "grid_auto_rows": null,
            "grid_column": null,
            "grid_gap": null,
            "grid_row": null,
            "grid_template_areas": null,
            "grid_template_columns": null,
            "grid_template_rows": null,
            "height": null,
            "justify_content": null,
            "justify_items": null,
            "left": null,
            "margin": null,
            "max_height": null,
            "max_width": null,
            "min_height": null,
            "min_width": null,
            "object_fit": null,
            "object_position": null,
            "order": null,
            "overflow": null,
            "overflow_x": null,
            "overflow_y": null,
            "padding": null,
            "right": null,
            "top": null,
            "visibility": null,
            "width": null
          }
        },
        "a717b15be32544e4b719c4bb9478291c": {
          "model_module": "@jupyter-widgets/base",
          "model_name": "LayoutModel",
          "model_module_version": "1.2.0",
          "state": {
            "_model_module": "@jupyter-widgets/base",
            "_model_module_version": "1.2.0",
            "_model_name": "LayoutModel",
            "_view_count": null,
            "_view_module": "@jupyter-widgets/base",
            "_view_module_version": "1.2.0",
            "_view_name": "LayoutView",
            "align_content": null,
            "align_items": null,
            "align_self": null,
            "border": null,
            "bottom": null,
            "display": null,
            "flex": null,
            "flex_flow": null,
            "grid_area": null,
            "grid_auto_columns": null,
            "grid_auto_flow": null,
            "grid_auto_rows": null,
            "grid_column": null,
            "grid_gap": null,
            "grid_row": null,
            "grid_template_areas": null,
            "grid_template_columns": null,
            "grid_template_rows": null,
            "height": null,
            "justify_content": null,
            "justify_items": null,
            "left": null,
            "margin": null,
            "max_height": null,
            "max_width": null,
            "min_height": null,
            "min_width": null,
            "object_fit": null,
            "object_position": null,
            "order": null,
            "overflow": null,
            "overflow_x": null,
            "overflow_y": null,
            "padding": null,
            "right": null,
            "top": null,
            "visibility": null,
            "width": null
          }
        },
        "6a5c714309d4416f9349b486443cd8dd": {
          "model_module": "@jupyter-widgets/controls",
          "model_name": "DescriptionStyleModel",
          "model_module_version": "1.5.0",
          "state": {
            "_model_module": "@jupyter-widgets/controls",
            "_model_module_version": "1.5.0",
            "_model_name": "DescriptionStyleModel",
            "_view_count": null,
            "_view_module": "@jupyter-widgets/base",
            "_view_module_version": "1.2.0",
            "_view_name": "StyleView",
            "description_width": ""
          }
        },
        "2d8fbe57ac1342268b402a58e8f37889": {
          "model_module": "@jupyter-widgets/base",
          "model_name": "LayoutModel",
          "model_module_version": "1.2.0",
          "state": {
            "_model_module": "@jupyter-widgets/base",
            "_model_module_version": "1.2.0",
            "_model_name": "LayoutModel",
            "_view_count": null,
            "_view_module": "@jupyter-widgets/base",
            "_view_module_version": "1.2.0",
            "_view_name": "LayoutView",
            "align_content": null,
            "align_items": null,
            "align_self": null,
            "border": null,
            "bottom": null,
            "display": null,
            "flex": null,
            "flex_flow": null,
            "grid_area": null,
            "grid_auto_columns": null,
            "grid_auto_flow": null,
            "grid_auto_rows": null,
            "grid_column": null,
            "grid_gap": null,
            "grid_row": null,
            "grid_template_areas": null,
            "grid_template_columns": null,
            "grid_template_rows": null,
            "height": null,
            "justify_content": null,
            "justify_items": null,
            "left": null,
            "margin": null,
            "max_height": null,
            "max_width": null,
            "min_height": null,
            "min_width": null,
            "object_fit": null,
            "object_position": null,
            "order": null,
            "overflow": null,
            "overflow_x": null,
            "overflow_y": null,
            "padding": null,
            "right": null,
            "top": null,
            "visibility": null,
            "width": null
          }
        },
        "caed8e963e7741a4a6e3953615b6bb98": {
          "model_module": "@jupyter-widgets/controls",
          "model_name": "ProgressStyleModel",
          "model_module_version": "1.5.0",
          "state": {
            "_model_module": "@jupyter-widgets/controls",
            "_model_module_version": "1.5.0",
            "_model_name": "ProgressStyleModel",
            "_view_count": null,
            "_view_module": "@jupyter-widgets/base",
            "_view_module_version": "1.2.0",
            "_view_name": "StyleView",
            "bar_color": null,
            "description_width": ""
          }
        },
        "e279ea19621446108280d8b4c7d25e74": {
          "model_module": "@jupyter-widgets/base",
          "model_name": "LayoutModel",
          "model_module_version": "1.2.0",
          "state": {
            "_model_module": "@jupyter-widgets/base",
            "_model_module_version": "1.2.0",
            "_model_name": "LayoutModel",
            "_view_count": null,
            "_view_module": "@jupyter-widgets/base",
            "_view_module_version": "1.2.0",
            "_view_name": "LayoutView",
            "align_content": null,
            "align_items": null,
            "align_self": null,
            "border": null,
            "bottom": null,
            "display": null,
            "flex": null,
            "flex_flow": null,
            "grid_area": null,
            "grid_auto_columns": null,
            "grid_auto_flow": null,
            "grid_auto_rows": null,
            "grid_column": null,
            "grid_gap": null,
            "grid_row": null,
            "grid_template_areas": null,
            "grid_template_columns": null,
            "grid_template_rows": null,
            "height": null,
            "justify_content": null,
            "justify_items": null,
            "left": null,
            "margin": null,
            "max_height": null,
            "max_width": null,
            "min_height": null,
            "min_width": null,
            "object_fit": null,
            "object_position": null,
            "order": null,
            "overflow": null,
            "overflow_x": null,
            "overflow_y": null,
            "padding": null,
            "right": null,
            "top": null,
            "visibility": null,
            "width": null
          }
        },
        "45c6630cc06e48e1bffa0b1d4994913c": {
          "model_module": "@jupyter-widgets/controls",
          "model_name": "DescriptionStyleModel",
          "model_module_version": "1.5.0",
          "state": {
            "_model_module": "@jupyter-widgets/controls",
            "_model_module_version": "1.5.0",
            "_model_name": "DescriptionStyleModel",
            "_view_count": null,
            "_view_module": "@jupyter-widgets/base",
            "_view_module_version": "1.2.0",
            "_view_name": "StyleView",
            "description_width": ""
          }
        },
        "b72cfcc985d94023945b5ecd7c1f5b18": {
          "model_module": "@jupyter-widgets/controls",
          "model_name": "HBoxModel",
          "model_module_version": "1.5.0",
          "state": {
            "_dom_classes": [],
            "_model_module": "@jupyter-widgets/controls",
            "_model_module_version": "1.5.0",
            "_model_name": "HBoxModel",
            "_view_count": null,
            "_view_module": "@jupyter-widgets/controls",
            "_view_module_version": "1.5.0",
            "_view_name": "HBoxView",
            "box_style": "",
            "children": [
              "IPY_MODEL_a993594e3bc044bfabb0fca07dc21424",
              "IPY_MODEL_c2479a494a8446b4acefc233a52cb746",
              "IPY_MODEL_8f2a72be2ff74769b5111745875a3cf9"
            ],
            "layout": "IPY_MODEL_9366e6289c7944ad94f4956d93a71a41"
          }
        },
        "a993594e3bc044bfabb0fca07dc21424": {
          "model_module": "@jupyter-widgets/controls",
          "model_name": "HTMLModel",
          "model_module_version": "1.5.0",
          "state": {
            "_dom_classes": [],
            "_model_module": "@jupyter-widgets/controls",
            "_model_module_version": "1.5.0",
            "_model_name": "HTMLModel",
            "_view_count": null,
            "_view_module": "@jupyter-widgets/controls",
            "_view_module_version": "1.5.0",
            "_view_name": "HTMLView",
            "description": "",
            "description_tooltip": null,
            "layout": "IPY_MODEL_883dc53e2ccb47918be1e62770a44671",
            "placeholder": "​",
            "style": "IPY_MODEL_c3a002d841ee4775a65e15022d5244de",
            "value": "llm_classify "
          }
        },
        "c2479a494a8446b4acefc233a52cb746": {
          "model_module": "@jupyter-widgets/controls",
          "model_name": "FloatProgressModel",
          "model_module_version": "1.5.0",
          "state": {
            "_dom_classes": [],
            "_model_module": "@jupyter-widgets/controls",
            "_model_module_version": "1.5.0",
            "_model_name": "FloatProgressModel",
            "_view_count": null,
            "_view_module": "@jupyter-widgets/controls",
            "_view_module_version": "1.5.0",
            "_view_name": "ProgressView",
            "bar_style": "success",
            "description": "",
            "description_tooltip": null,
            "layout": "IPY_MODEL_b92eb2adabab4322882075128233bc43",
            "max": 70,
            "min": 0,
            "orientation": "horizontal",
            "style": "IPY_MODEL_dca6f6b2245948b2ad811225bef52d56",
            "value": 70
          }
        },
        "8f2a72be2ff74769b5111745875a3cf9": {
          "model_module": "@jupyter-widgets/controls",
          "model_name": "HTMLModel",
          "model_module_version": "1.5.0",
          "state": {
            "_dom_classes": [],
            "_model_module": "@jupyter-widgets/controls",
            "_model_module_version": "1.5.0",
            "_model_name": "HTMLModel",
            "_view_count": null,
            "_view_module": "@jupyter-widgets/controls",
            "_view_module_version": "1.5.0",
            "_view_name": "HTMLView",
            "description": "",
            "description_tooltip": null,
            "layout": "IPY_MODEL_81cfdee1f4bd46fa8dd3082c9002d8d2",
            "placeholder": "​",
            "style": "IPY_MODEL_05f5850e9828403faf4108b3e797f389",
            "value": " 70/70 (100.0%) | ⏳ 01:44&lt;00:00 | 11.36it/s"
          }
        },
        "9366e6289c7944ad94f4956d93a71a41": {
          "model_module": "@jupyter-widgets/base",
          "model_name": "LayoutModel",
          "model_module_version": "1.2.0",
          "state": {
            "_model_module": "@jupyter-widgets/base",
            "_model_module_version": "1.2.0",
            "_model_name": "LayoutModel",
            "_view_count": null,
            "_view_module": "@jupyter-widgets/base",
            "_view_module_version": "1.2.0",
            "_view_name": "LayoutView",
            "align_content": null,
            "align_items": null,
            "align_self": null,
            "border": null,
            "bottom": null,
            "display": null,
            "flex": null,
            "flex_flow": null,
            "grid_area": null,
            "grid_auto_columns": null,
            "grid_auto_flow": null,
            "grid_auto_rows": null,
            "grid_column": null,
            "grid_gap": null,
            "grid_row": null,
            "grid_template_areas": null,
            "grid_template_columns": null,
            "grid_template_rows": null,
            "height": null,
            "justify_content": null,
            "justify_items": null,
            "left": null,
            "margin": null,
            "max_height": null,
            "max_width": null,
            "min_height": null,
            "min_width": null,
            "object_fit": null,
            "object_position": null,
            "order": null,
            "overflow": null,
            "overflow_x": null,
            "overflow_y": null,
            "padding": null,
            "right": null,
            "top": null,
            "visibility": null,
            "width": null
          }
        },
        "883dc53e2ccb47918be1e62770a44671": {
          "model_module": "@jupyter-widgets/base",
          "model_name": "LayoutModel",
          "model_module_version": "1.2.0",
          "state": {
            "_model_module": "@jupyter-widgets/base",
            "_model_module_version": "1.2.0",
            "_model_name": "LayoutModel",
            "_view_count": null,
            "_view_module": "@jupyter-widgets/base",
            "_view_module_version": "1.2.0",
            "_view_name": "LayoutView",
            "align_content": null,
            "align_items": null,
            "align_self": null,
            "border": null,
            "bottom": null,
            "display": null,
            "flex": null,
            "flex_flow": null,
            "grid_area": null,
            "grid_auto_columns": null,
            "grid_auto_flow": null,
            "grid_auto_rows": null,
            "grid_column": null,
            "grid_gap": null,
            "grid_row": null,
            "grid_template_areas": null,
            "grid_template_columns": null,
            "grid_template_rows": null,
            "height": null,
            "justify_content": null,
            "justify_items": null,
            "left": null,
            "margin": null,
            "max_height": null,
            "max_width": null,
            "min_height": null,
            "min_width": null,
            "object_fit": null,
            "object_position": null,
            "order": null,
            "overflow": null,
            "overflow_x": null,
            "overflow_y": null,
            "padding": null,
            "right": null,
            "top": null,
            "visibility": null,
            "width": null
          }
        },
        "c3a002d841ee4775a65e15022d5244de": {
          "model_module": "@jupyter-widgets/controls",
          "model_name": "DescriptionStyleModel",
          "model_module_version": "1.5.0",
          "state": {
            "_model_module": "@jupyter-widgets/controls",
            "_model_module_version": "1.5.0",
            "_model_name": "DescriptionStyleModel",
            "_view_count": null,
            "_view_module": "@jupyter-widgets/base",
            "_view_module_version": "1.2.0",
            "_view_name": "StyleView",
            "description_width": ""
          }
        },
        "b92eb2adabab4322882075128233bc43": {
          "model_module": "@jupyter-widgets/base",
          "model_name": "LayoutModel",
          "model_module_version": "1.2.0",
          "state": {
            "_model_module": "@jupyter-widgets/base",
            "_model_module_version": "1.2.0",
            "_model_name": "LayoutModel",
            "_view_count": null,
            "_view_module": "@jupyter-widgets/base",
            "_view_module_version": "1.2.0",
            "_view_name": "LayoutView",
            "align_content": null,
            "align_items": null,
            "align_self": null,
            "border": null,
            "bottom": null,
            "display": null,
            "flex": null,
            "flex_flow": null,
            "grid_area": null,
            "grid_auto_columns": null,
            "grid_auto_flow": null,
            "grid_auto_rows": null,
            "grid_column": null,
            "grid_gap": null,
            "grid_row": null,
            "grid_template_areas": null,
            "grid_template_columns": null,
            "grid_template_rows": null,
            "height": null,
            "justify_content": null,
            "justify_items": null,
            "left": null,
            "margin": null,
            "max_height": null,
            "max_width": null,
            "min_height": null,
            "min_width": null,
            "object_fit": null,
            "object_position": null,
            "order": null,
            "overflow": null,
            "overflow_x": null,
            "overflow_y": null,
            "padding": null,
            "right": null,
            "top": null,
            "visibility": null,
            "width": null
          }
        },
        "dca6f6b2245948b2ad811225bef52d56": {
          "model_module": "@jupyter-widgets/controls",
          "model_name": "ProgressStyleModel",
          "model_module_version": "1.5.0",
          "state": {
            "_model_module": "@jupyter-widgets/controls",
            "_model_module_version": "1.5.0",
            "_model_name": "ProgressStyleModel",
            "_view_count": null,
            "_view_module": "@jupyter-widgets/base",
            "_view_module_version": "1.2.0",
            "_view_name": "StyleView",
            "bar_color": null,
            "description_width": ""
          }
        },
        "81cfdee1f4bd46fa8dd3082c9002d8d2": {
          "model_module": "@jupyter-widgets/base",
          "model_name": "LayoutModel",
          "model_module_version": "1.2.0",
          "state": {
            "_model_module": "@jupyter-widgets/base",
            "_model_module_version": "1.2.0",
            "_model_name": "LayoutModel",
            "_view_count": null,
            "_view_module": "@jupyter-widgets/base",
            "_view_module_version": "1.2.0",
            "_view_name": "LayoutView",
            "align_content": null,
            "align_items": null,
            "align_self": null,
            "border": null,
            "bottom": null,
            "display": null,
            "flex": null,
            "flex_flow": null,
            "grid_area": null,
            "grid_auto_columns": null,
            "grid_auto_flow": null,
            "grid_auto_rows": null,
            "grid_column": null,
            "grid_gap": null,
            "grid_row": null,
            "grid_template_areas": null,
            "grid_template_columns": null,
            "grid_template_rows": null,
            "height": null,
            "justify_content": null,
            "justify_items": null,
            "left": null,
            "margin": null,
            "max_height": null,
            "max_width": null,
            "min_height": null,
            "min_width": null,
            "object_fit": null,
            "object_position": null,
            "order": null,
            "overflow": null,
            "overflow_x": null,
            "overflow_y": null,
            "padding": null,
            "right": null,
            "top": null,
            "visibility": null,
            "width": null
          }
        },
        "05f5850e9828403faf4108b3e797f389": {
          "model_module": "@jupyter-widgets/controls",
          "model_name": "DescriptionStyleModel",
          "model_module_version": "1.5.0",
          "state": {
            "_model_module": "@jupyter-widgets/controls",
            "_model_module_version": "1.5.0",
            "_model_name": "DescriptionStyleModel",
            "_view_count": null,
            "_view_module": "@jupyter-widgets/base",
            "_view_module_version": "1.2.0",
            "_view_name": "StyleView",
            "description_width": ""
          }
        },
        "32fa746f2b754c8ca4a81a0cea237532": {
          "model_module": "@jupyter-widgets/controls",
          "model_name": "HBoxModel",
          "model_module_version": "1.5.0",
          "state": {
            "_dom_classes": [],
            "_model_module": "@jupyter-widgets/controls",
            "_model_module_version": "1.5.0",
            "_model_name": "HBoxModel",
            "_view_count": null,
            "_view_module": "@jupyter-widgets/controls",
            "_view_module_version": "1.5.0",
            "_view_name": "HBoxView",
            "box_style": "",
            "children": [
              "IPY_MODEL_6d5081c5204244f794d8b3936da3328a",
              "IPY_MODEL_65dfe228e3604e4d8c19ee79a3e530e8",
              "IPY_MODEL_81157d3b01d14522b5e828d4c2e6ab02"
            ],
            "layout": "IPY_MODEL_77cf2140e2c54234922853f9026aaf70"
          }
        },
        "6d5081c5204244f794d8b3936da3328a": {
          "model_module": "@jupyter-widgets/controls",
          "model_name": "HTMLModel",
          "model_module_version": "1.5.0",
          "state": {
            "_dom_classes": [],
            "_model_module": "@jupyter-widgets/controls",
            "_model_module_version": "1.5.0",
            "_model_name": "HTMLModel",
            "_view_count": null,
            "_view_module": "@jupyter-widgets/controls",
            "_view_module_version": "1.5.0",
            "_view_name": "HTMLView",
            "description": "",
            "description_tooltip": null,
            "layout": "IPY_MODEL_b9805e5236754f969e7c4d86a5d23d8b",
            "placeholder": "​",
            "style": "IPY_MODEL_9aad361292224551920986f26966b1a1",
            "value": "llm_classify "
          }
        },
        "65dfe228e3604e4d8c19ee79a3e530e8": {
          "model_module": "@jupyter-widgets/controls",
          "model_name": "FloatProgressModel",
          "model_module_version": "1.5.0",
          "state": {
            "_dom_classes": [],
            "_model_module": "@jupyter-widgets/controls",
            "_model_module_version": "1.5.0",
            "_model_name": "FloatProgressModel",
            "_view_count": null,
            "_view_module": "@jupyter-widgets/controls",
            "_view_module_version": "1.5.0",
            "_view_name": "ProgressView",
            "bar_style": "success",
            "description": "",
            "description_tooltip": null,
            "layout": "IPY_MODEL_fa2aa224d54c4d1781fb86d5a1a3b48b",
            "max": 70,
            "min": 0,
            "orientation": "horizontal",
            "style": "IPY_MODEL_2ad31b4b69b34afc88608d6376e1e760",
            "value": 70
          }
        },
        "81157d3b01d14522b5e828d4c2e6ab02": {
          "model_module": "@jupyter-widgets/controls",
          "model_name": "HTMLModel",
          "model_module_version": "1.5.0",
          "state": {
            "_dom_classes": [],
            "_model_module": "@jupyter-widgets/controls",
            "_model_module_version": "1.5.0",
            "_model_name": "HTMLModel",
            "_view_count": null,
            "_view_module": "@jupyter-widgets/controls",
            "_view_module_version": "1.5.0",
            "_view_name": "HTMLView",
            "description": "",
            "description_tooltip": null,
            "layout": "IPY_MODEL_d0ff7c1863b840e49c5cb2f3f78b978d",
            "placeholder": "​",
            "style": "IPY_MODEL_9b90a2f9da9e48e5ba7f7ff1880131f5",
            "value": " 70/70 (100.0%) | ⏳ 01:35&lt;00:00 |  2.53it/s"
          }
        },
        "77cf2140e2c54234922853f9026aaf70": {
          "model_module": "@jupyter-widgets/base",
          "model_name": "LayoutModel",
          "model_module_version": "1.2.0",
          "state": {
            "_model_module": "@jupyter-widgets/base",
            "_model_module_version": "1.2.0",
            "_model_name": "LayoutModel",
            "_view_count": null,
            "_view_module": "@jupyter-widgets/base",
            "_view_module_version": "1.2.0",
            "_view_name": "LayoutView",
            "align_content": null,
            "align_items": null,
            "align_self": null,
            "border": null,
            "bottom": null,
            "display": null,
            "flex": null,
            "flex_flow": null,
            "grid_area": null,
            "grid_auto_columns": null,
            "grid_auto_flow": null,
            "grid_auto_rows": null,
            "grid_column": null,
            "grid_gap": null,
            "grid_row": null,
            "grid_template_areas": null,
            "grid_template_columns": null,
            "grid_template_rows": null,
            "height": null,
            "justify_content": null,
            "justify_items": null,
            "left": null,
            "margin": null,
            "max_height": null,
            "max_width": null,
            "min_height": null,
            "min_width": null,
            "object_fit": null,
            "object_position": null,
            "order": null,
            "overflow": null,
            "overflow_x": null,
            "overflow_y": null,
            "padding": null,
            "right": null,
            "top": null,
            "visibility": null,
            "width": null
          }
        },
        "b9805e5236754f969e7c4d86a5d23d8b": {
          "model_module": "@jupyter-widgets/base",
          "model_name": "LayoutModel",
          "model_module_version": "1.2.0",
          "state": {
            "_model_module": "@jupyter-widgets/base",
            "_model_module_version": "1.2.0",
            "_model_name": "LayoutModel",
            "_view_count": null,
            "_view_module": "@jupyter-widgets/base",
            "_view_module_version": "1.2.0",
            "_view_name": "LayoutView",
            "align_content": null,
            "align_items": null,
            "align_self": null,
            "border": null,
            "bottom": null,
            "display": null,
            "flex": null,
            "flex_flow": null,
            "grid_area": null,
            "grid_auto_columns": null,
            "grid_auto_flow": null,
            "grid_auto_rows": null,
            "grid_column": null,
            "grid_gap": null,
            "grid_row": null,
            "grid_template_areas": null,
            "grid_template_columns": null,
            "grid_template_rows": null,
            "height": null,
            "justify_content": null,
            "justify_items": null,
            "left": null,
            "margin": null,
            "max_height": null,
            "max_width": null,
            "min_height": null,
            "min_width": null,
            "object_fit": null,
            "object_position": null,
            "order": null,
            "overflow": null,
            "overflow_x": null,
            "overflow_y": null,
            "padding": null,
            "right": null,
            "top": null,
            "visibility": null,
            "width": null
          }
        },
        "9aad361292224551920986f26966b1a1": {
          "model_module": "@jupyter-widgets/controls",
          "model_name": "DescriptionStyleModel",
          "model_module_version": "1.5.0",
          "state": {
            "_model_module": "@jupyter-widgets/controls",
            "_model_module_version": "1.5.0",
            "_model_name": "DescriptionStyleModel",
            "_view_count": null,
            "_view_module": "@jupyter-widgets/base",
            "_view_module_version": "1.2.0",
            "_view_name": "StyleView",
            "description_width": ""
          }
        },
        "fa2aa224d54c4d1781fb86d5a1a3b48b": {
          "model_module": "@jupyter-widgets/base",
          "model_name": "LayoutModel",
          "model_module_version": "1.2.0",
          "state": {
            "_model_module": "@jupyter-widgets/base",
            "_model_module_version": "1.2.0",
            "_model_name": "LayoutModel",
            "_view_count": null,
            "_view_module": "@jupyter-widgets/base",
            "_view_module_version": "1.2.0",
            "_view_name": "LayoutView",
            "align_content": null,
            "align_items": null,
            "align_self": null,
            "border": null,
            "bottom": null,
            "display": null,
            "flex": null,
            "flex_flow": null,
            "grid_area": null,
            "grid_auto_columns": null,
            "grid_auto_flow": null,
            "grid_auto_rows": null,
            "grid_column": null,
            "grid_gap": null,
            "grid_row": null,
            "grid_template_areas": null,
            "grid_template_columns": null,
            "grid_template_rows": null,
            "height": null,
            "justify_content": null,
            "justify_items": null,
            "left": null,
            "margin": null,
            "max_height": null,
            "max_width": null,
            "min_height": null,
            "min_width": null,
            "object_fit": null,
            "object_position": null,
            "order": null,
            "overflow": null,
            "overflow_x": null,
            "overflow_y": null,
            "padding": null,
            "right": null,
            "top": null,
            "visibility": null,
            "width": null
          }
        },
        "2ad31b4b69b34afc88608d6376e1e760": {
          "model_module": "@jupyter-widgets/controls",
          "model_name": "ProgressStyleModel",
          "model_module_version": "1.5.0",
          "state": {
            "_model_module": "@jupyter-widgets/controls",
            "_model_module_version": "1.5.0",
            "_model_name": "ProgressStyleModel",
            "_view_count": null,
            "_view_module": "@jupyter-widgets/base",
            "_view_module_version": "1.2.0",
            "_view_name": "StyleView",
            "bar_color": null,
            "description_width": ""
          }
        },
        "d0ff7c1863b840e49c5cb2f3f78b978d": {
          "model_module": "@jupyter-widgets/base",
          "model_name": "LayoutModel",
          "model_module_version": "1.2.0",
          "state": {
            "_model_module": "@jupyter-widgets/base",
            "_model_module_version": "1.2.0",
            "_model_name": "LayoutModel",
            "_view_count": null,
            "_view_module": "@jupyter-widgets/base",
            "_view_module_version": "1.2.0",
            "_view_name": "LayoutView",
            "align_content": null,
            "align_items": null,
            "align_self": null,
            "border": null,
            "bottom": null,
            "display": null,
            "flex": null,
            "flex_flow": null,
            "grid_area": null,
            "grid_auto_columns": null,
            "grid_auto_flow": null,
            "grid_auto_rows": null,
            "grid_column": null,
            "grid_gap": null,
            "grid_row": null,
            "grid_template_areas": null,
            "grid_template_columns": null,
            "grid_template_rows": null,
            "height": null,
            "justify_content": null,
            "justify_items": null,
            "left": null,
            "margin": null,
            "max_height": null,
            "max_width": null,
            "min_height": null,
            "min_width": null,
            "object_fit": null,
            "object_position": null,
            "order": null,
            "overflow": null,
            "overflow_x": null,
            "overflow_y": null,
            "padding": null,
            "right": null,
            "top": null,
            "visibility": null,
            "width": null
          }
        },
        "9b90a2f9da9e48e5ba7f7ff1880131f5": {
          "model_module": "@jupyter-widgets/controls",
          "model_name": "DescriptionStyleModel",
          "model_module_version": "1.5.0",
          "state": {
            "_model_module": "@jupyter-widgets/controls",
            "_model_module_version": "1.5.0",
            "_model_name": "DescriptionStyleModel",
            "_view_count": null,
            "_view_module": "@jupyter-widgets/base",
            "_view_module_version": "1.2.0",
            "_view_name": "StyleView",
            "description_width": ""
          }
        },
        "ce4830376f8943ac8c375e8a2ef7c529": {
          "model_module": "@jupyter-widgets/controls",
          "model_name": "HBoxModel",
          "model_module_version": "1.5.0",
          "state": {
            "_dom_classes": [],
            "_model_module": "@jupyter-widgets/controls",
            "_model_module_version": "1.5.0",
            "_model_name": "HBoxModel",
            "_view_count": null,
            "_view_module": "@jupyter-widgets/controls",
            "_view_module_version": "1.5.0",
            "_view_name": "HBoxView",
            "box_style": "",
            "children": [
              "IPY_MODEL_2543ac71490c49fd91dd85b5a5540b87",
              "IPY_MODEL_d81296ca9c40448f9ba910ed0222d3a4",
              "IPY_MODEL_520791ccdd0948a6b428fd49502ed2af"
            ],
            "layout": "IPY_MODEL_407828f280244bf393f5a16bc3ddaf67"
          }
        },
        "2543ac71490c49fd91dd85b5a5540b87": {
          "model_module": "@jupyter-widgets/controls",
          "model_name": "HTMLModel",
          "model_module_version": "1.5.0",
          "state": {
            "_dom_classes": [],
            "_model_module": "@jupyter-widgets/controls",
            "_model_module_version": "1.5.0",
            "_model_name": "HTMLModel",
            "_view_count": null,
            "_view_module": "@jupyter-widgets/controls",
            "_view_module_version": "1.5.0",
            "_view_name": "HTMLView",
            "description": "",
            "description_tooltip": null,
            "layout": "IPY_MODEL_cc3779ff7b6d43a8b7fd85a8af1f8a45",
            "placeholder": "​",
            "style": "IPY_MODEL_2cf9c8722651467ea3348c1c6d92f504",
            "value": "llm_classify "
          }
        },
        "d81296ca9c40448f9ba910ed0222d3a4": {
          "model_module": "@jupyter-widgets/controls",
          "model_name": "FloatProgressModel",
          "model_module_version": "1.5.0",
          "state": {
            "_dom_classes": [],
            "_model_module": "@jupyter-widgets/controls",
            "_model_module_version": "1.5.0",
            "_model_name": "FloatProgressModel",
            "_view_count": null,
            "_view_module": "@jupyter-widgets/controls",
            "_view_module_version": "1.5.0",
            "_view_name": "ProgressView",
            "bar_style": "success",
            "description": "",
            "description_tooltip": null,
            "layout": "IPY_MODEL_0feac7d3a6bb4deda8848e3401355128",
            "max": 70,
            "min": 0,
            "orientation": "horizontal",
            "style": "IPY_MODEL_ab83bf55ff504cf5b314a9a4a81c4917",
            "value": 70
          }
        },
        "520791ccdd0948a6b428fd49502ed2af": {
          "model_module": "@jupyter-widgets/controls",
          "model_name": "HTMLModel",
          "model_module_version": "1.5.0",
          "state": {
            "_dom_classes": [],
            "_model_module": "@jupyter-widgets/controls",
            "_model_module_version": "1.5.0",
            "_model_name": "HTMLModel",
            "_view_count": null,
            "_view_module": "@jupyter-widgets/controls",
            "_view_module_version": "1.5.0",
            "_view_name": "HTMLView",
            "description": "",
            "description_tooltip": null,
            "layout": "IPY_MODEL_21d63f768b18463cbacbcd6ab78330be",
            "placeholder": "​",
            "style": "IPY_MODEL_9b352366f139412ebb8fe6779ed22f37",
            "value": " 70/70 (100.0%) | ⏳ 01:12&lt;00:00 |  1.70it/s"
          }
        },
        "407828f280244bf393f5a16bc3ddaf67": {
          "model_module": "@jupyter-widgets/base",
          "model_name": "LayoutModel",
          "model_module_version": "1.2.0",
          "state": {
            "_model_module": "@jupyter-widgets/base",
            "_model_module_version": "1.2.0",
            "_model_name": "LayoutModel",
            "_view_count": null,
            "_view_module": "@jupyter-widgets/base",
            "_view_module_version": "1.2.0",
            "_view_name": "LayoutView",
            "align_content": null,
            "align_items": null,
            "align_self": null,
            "border": null,
            "bottom": null,
            "display": null,
            "flex": null,
            "flex_flow": null,
            "grid_area": null,
            "grid_auto_columns": null,
            "grid_auto_flow": null,
            "grid_auto_rows": null,
            "grid_column": null,
            "grid_gap": null,
            "grid_row": null,
            "grid_template_areas": null,
            "grid_template_columns": null,
            "grid_template_rows": null,
            "height": null,
            "justify_content": null,
            "justify_items": null,
            "left": null,
            "margin": null,
            "max_height": null,
            "max_width": null,
            "min_height": null,
            "min_width": null,
            "object_fit": null,
            "object_position": null,
            "order": null,
            "overflow": null,
            "overflow_x": null,
            "overflow_y": null,
            "padding": null,
            "right": null,
            "top": null,
            "visibility": null,
            "width": null
          }
        },
        "cc3779ff7b6d43a8b7fd85a8af1f8a45": {
          "model_module": "@jupyter-widgets/base",
          "model_name": "LayoutModel",
          "model_module_version": "1.2.0",
          "state": {
            "_model_module": "@jupyter-widgets/base",
            "_model_module_version": "1.2.0",
            "_model_name": "LayoutModel",
            "_view_count": null,
            "_view_module": "@jupyter-widgets/base",
            "_view_module_version": "1.2.0",
            "_view_name": "LayoutView",
            "align_content": null,
            "align_items": null,
            "align_self": null,
            "border": null,
            "bottom": null,
            "display": null,
            "flex": null,
            "flex_flow": null,
            "grid_area": null,
            "grid_auto_columns": null,
            "grid_auto_flow": null,
            "grid_auto_rows": null,
            "grid_column": null,
            "grid_gap": null,
            "grid_row": null,
            "grid_template_areas": null,
            "grid_template_columns": null,
            "grid_template_rows": null,
            "height": null,
            "justify_content": null,
            "justify_items": null,
            "left": null,
            "margin": null,
            "max_height": null,
            "max_width": null,
            "min_height": null,
            "min_width": null,
            "object_fit": null,
            "object_position": null,
            "order": null,
            "overflow": null,
            "overflow_x": null,
            "overflow_y": null,
            "padding": null,
            "right": null,
            "top": null,
            "visibility": null,
            "width": null
          }
        },
        "2cf9c8722651467ea3348c1c6d92f504": {
          "model_module": "@jupyter-widgets/controls",
          "model_name": "DescriptionStyleModel",
          "model_module_version": "1.5.0",
          "state": {
            "_model_module": "@jupyter-widgets/controls",
            "_model_module_version": "1.5.0",
            "_model_name": "DescriptionStyleModel",
            "_view_count": null,
            "_view_module": "@jupyter-widgets/base",
            "_view_module_version": "1.2.0",
            "_view_name": "StyleView",
            "description_width": ""
          }
        },
        "0feac7d3a6bb4deda8848e3401355128": {
          "model_module": "@jupyter-widgets/base",
          "model_name": "LayoutModel",
          "model_module_version": "1.2.0",
          "state": {
            "_model_module": "@jupyter-widgets/base",
            "_model_module_version": "1.2.0",
            "_model_name": "LayoutModel",
            "_view_count": null,
            "_view_module": "@jupyter-widgets/base",
            "_view_module_version": "1.2.0",
            "_view_name": "LayoutView",
            "align_content": null,
            "align_items": null,
            "align_self": null,
            "border": null,
            "bottom": null,
            "display": null,
            "flex": null,
            "flex_flow": null,
            "grid_area": null,
            "grid_auto_columns": null,
            "grid_auto_flow": null,
            "grid_auto_rows": null,
            "grid_column": null,
            "grid_gap": null,
            "grid_row": null,
            "grid_template_areas": null,
            "grid_template_columns": null,
            "grid_template_rows": null,
            "height": null,
            "justify_content": null,
            "justify_items": null,
            "left": null,
            "margin": null,
            "max_height": null,
            "max_width": null,
            "min_height": null,
            "min_width": null,
            "object_fit": null,
            "object_position": null,
            "order": null,
            "overflow": null,
            "overflow_x": null,
            "overflow_y": null,
            "padding": null,
            "right": null,
            "top": null,
            "visibility": null,
            "width": null
          }
        },
        "ab83bf55ff504cf5b314a9a4a81c4917": {
          "model_module": "@jupyter-widgets/controls",
          "model_name": "ProgressStyleModel",
          "model_module_version": "1.5.0",
          "state": {
            "_model_module": "@jupyter-widgets/controls",
            "_model_module_version": "1.5.0",
            "_model_name": "ProgressStyleModel",
            "_view_count": null,
            "_view_module": "@jupyter-widgets/base",
            "_view_module_version": "1.2.0",
            "_view_name": "StyleView",
            "bar_color": null,
            "description_width": ""
          }
        },
        "21d63f768b18463cbacbcd6ab78330be": {
          "model_module": "@jupyter-widgets/base",
          "model_name": "LayoutModel",
          "model_module_version": "1.2.0",
          "state": {
            "_model_module": "@jupyter-widgets/base",
            "_model_module_version": "1.2.0",
            "_model_name": "LayoutModel",
            "_view_count": null,
            "_view_module": "@jupyter-widgets/base",
            "_view_module_version": "1.2.0",
            "_view_name": "LayoutView",
            "align_content": null,
            "align_items": null,
            "align_self": null,
            "border": null,
            "bottom": null,
            "display": null,
            "flex": null,
            "flex_flow": null,
            "grid_area": null,
            "grid_auto_columns": null,
            "grid_auto_flow": null,
            "grid_auto_rows": null,
            "grid_column": null,
            "grid_gap": null,
            "grid_row": null,
            "grid_template_areas": null,
            "grid_template_columns": null,
            "grid_template_rows": null,
            "height": null,
            "justify_content": null,
            "justify_items": null,
            "left": null,
            "margin": null,
            "max_height": null,
            "max_width": null,
            "min_height": null,
            "min_width": null,
            "object_fit": null,
            "object_position": null,
            "order": null,
            "overflow": null,
            "overflow_x": null,
            "overflow_y": null,
            "padding": null,
            "right": null,
            "top": null,
            "visibility": null,
            "width": null
          }
        },
        "9b352366f139412ebb8fe6779ed22f37": {
          "model_module": "@jupyter-widgets/controls",
          "model_name": "DescriptionStyleModel",
          "model_module_version": "1.5.0",
          "state": {
            "_model_module": "@jupyter-widgets/controls",
            "_model_module_version": "1.5.0",
            "_model_name": "DescriptionStyleModel",
            "_view_count": null,
            "_view_module": "@jupyter-widgets/base",
            "_view_module_version": "1.2.0",
            "_view_name": "StyleView",
            "description_width": ""
          }
        },
        "43640ad1dabf464cb93aeb8f20d78844": {
          "model_module": "@jupyter-widgets/controls",
          "model_name": "HBoxModel",
          "model_module_version": "1.5.0",
          "state": {
            "_dom_classes": [],
            "_model_module": "@jupyter-widgets/controls",
            "_model_module_version": "1.5.0",
            "_model_name": "HBoxModel",
            "_view_count": null,
            "_view_module": "@jupyter-widgets/controls",
            "_view_module_version": "1.5.0",
            "_view_name": "HBoxView",
            "box_style": "",
            "children": [
              "IPY_MODEL_7da3acf05b2f4cff80e18adf1a9d0c44",
              "IPY_MODEL_c695b154aa5c42d5befca1ee1f2f07d9",
              "IPY_MODEL_9ad54e5c56ea48f289d08e17559e4eed"
            ],
            "layout": "IPY_MODEL_33b6f641dbf24cdda9bf7935766f941c"
          }
        },
        "7da3acf05b2f4cff80e18adf1a9d0c44": {
          "model_module": "@jupyter-widgets/controls",
          "model_name": "HTMLModel",
          "model_module_version": "1.5.0",
          "state": {
            "_dom_classes": [],
            "_model_module": "@jupyter-widgets/controls",
            "_model_module_version": "1.5.0",
            "_model_name": "HTMLModel",
            "_view_count": null,
            "_view_module": "@jupyter-widgets/controls",
            "_view_module_version": "1.5.0",
            "_view_name": "HTMLView",
            "description": "",
            "description_tooltip": null,
            "layout": "IPY_MODEL_e4137057922241419353c3dc6313a32f",
            "placeholder": "​",
            "style": "IPY_MODEL_376c55afe2f8490b9a8706e293dac3df",
            "value": "llm_classify "
          }
        },
        "c695b154aa5c42d5befca1ee1f2f07d9": {
          "model_module": "@jupyter-widgets/controls",
          "model_name": "FloatProgressModel",
          "model_module_version": "1.5.0",
          "state": {
            "_dom_classes": [],
            "_model_module": "@jupyter-widgets/controls",
            "_model_module_version": "1.5.0",
            "_model_name": "FloatProgressModel",
            "_view_count": null,
            "_view_module": "@jupyter-widgets/controls",
            "_view_module_version": "1.5.0",
            "_view_name": "ProgressView",
            "bar_style": "success",
            "description": "",
            "description_tooltip": null,
            "layout": "IPY_MODEL_b4aa1256614343e19e187d8dd7892a9f",
            "max": 70,
            "min": 0,
            "orientation": "horizontal",
            "style": "IPY_MODEL_6bccf10fb039435c8787a979b22784ad",
            "value": 70
          }
        },
        "9ad54e5c56ea48f289d08e17559e4eed": {
          "model_module": "@jupyter-widgets/controls",
          "model_name": "HTMLModel",
          "model_module_version": "1.5.0",
          "state": {
            "_dom_classes": [],
            "_model_module": "@jupyter-widgets/controls",
            "_model_module_version": "1.5.0",
            "_model_name": "HTMLModel",
            "_view_count": null,
            "_view_module": "@jupyter-widgets/controls",
            "_view_module_version": "1.5.0",
            "_view_name": "HTMLView",
            "description": "",
            "description_tooltip": null,
            "layout": "IPY_MODEL_5a1a966b42e64758af640e39a5fdaf1b",
            "placeholder": "​",
            "style": "IPY_MODEL_6ef941ea85f642618b2d5f95da3af7b6",
            "value": " 70/70 (100.0%) | ⏳ 00:55&lt;00:00 |  1.50it/s"
          }
        },
        "33b6f641dbf24cdda9bf7935766f941c": {
          "model_module": "@jupyter-widgets/base",
          "model_name": "LayoutModel",
          "model_module_version": "1.2.0",
          "state": {
            "_model_module": "@jupyter-widgets/base",
            "_model_module_version": "1.2.0",
            "_model_name": "LayoutModel",
            "_view_count": null,
            "_view_module": "@jupyter-widgets/base",
            "_view_module_version": "1.2.0",
            "_view_name": "LayoutView",
            "align_content": null,
            "align_items": null,
            "align_self": null,
            "border": null,
            "bottom": null,
            "display": null,
            "flex": null,
            "flex_flow": null,
            "grid_area": null,
            "grid_auto_columns": null,
            "grid_auto_flow": null,
            "grid_auto_rows": null,
            "grid_column": null,
            "grid_gap": null,
            "grid_row": null,
            "grid_template_areas": null,
            "grid_template_columns": null,
            "grid_template_rows": null,
            "height": null,
            "justify_content": null,
            "justify_items": null,
            "left": null,
            "margin": null,
            "max_height": null,
            "max_width": null,
            "min_height": null,
            "min_width": null,
            "object_fit": null,
            "object_position": null,
            "order": null,
            "overflow": null,
            "overflow_x": null,
            "overflow_y": null,
            "padding": null,
            "right": null,
            "top": null,
            "visibility": null,
            "width": null
          }
        },
        "e4137057922241419353c3dc6313a32f": {
          "model_module": "@jupyter-widgets/base",
          "model_name": "LayoutModel",
          "model_module_version": "1.2.0",
          "state": {
            "_model_module": "@jupyter-widgets/base",
            "_model_module_version": "1.2.0",
            "_model_name": "LayoutModel",
            "_view_count": null,
            "_view_module": "@jupyter-widgets/base",
            "_view_module_version": "1.2.0",
            "_view_name": "LayoutView",
            "align_content": null,
            "align_items": null,
            "align_self": null,
            "border": null,
            "bottom": null,
            "display": null,
            "flex": null,
            "flex_flow": null,
            "grid_area": null,
            "grid_auto_columns": null,
            "grid_auto_flow": null,
            "grid_auto_rows": null,
            "grid_column": null,
            "grid_gap": null,
            "grid_row": null,
            "grid_template_areas": null,
            "grid_template_columns": null,
            "grid_template_rows": null,
            "height": null,
            "justify_content": null,
            "justify_items": null,
            "left": null,
            "margin": null,
            "max_height": null,
            "max_width": null,
            "min_height": null,
            "min_width": null,
            "object_fit": null,
            "object_position": null,
            "order": null,
            "overflow": null,
            "overflow_x": null,
            "overflow_y": null,
            "padding": null,
            "right": null,
            "top": null,
            "visibility": null,
            "width": null
          }
        },
        "376c55afe2f8490b9a8706e293dac3df": {
          "model_module": "@jupyter-widgets/controls",
          "model_name": "DescriptionStyleModel",
          "model_module_version": "1.5.0",
          "state": {
            "_model_module": "@jupyter-widgets/controls",
            "_model_module_version": "1.5.0",
            "_model_name": "DescriptionStyleModel",
            "_view_count": null,
            "_view_module": "@jupyter-widgets/base",
            "_view_module_version": "1.2.0",
            "_view_name": "StyleView",
            "description_width": ""
          }
        },
        "b4aa1256614343e19e187d8dd7892a9f": {
          "model_module": "@jupyter-widgets/base",
          "model_name": "LayoutModel",
          "model_module_version": "1.2.0",
          "state": {
            "_model_module": "@jupyter-widgets/base",
            "_model_module_version": "1.2.0",
            "_model_name": "LayoutModel",
            "_view_count": null,
            "_view_module": "@jupyter-widgets/base",
            "_view_module_version": "1.2.0",
            "_view_name": "LayoutView",
            "align_content": null,
            "align_items": null,
            "align_self": null,
            "border": null,
            "bottom": null,
            "display": null,
            "flex": null,
            "flex_flow": null,
            "grid_area": null,
            "grid_auto_columns": null,
            "grid_auto_flow": null,
            "grid_auto_rows": null,
            "grid_column": null,
            "grid_gap": null,
            "grid_row": null,
            "grid_template_areas": null,
            "grid_template_columns": null,
            "grid_template_rows": null,
            "height": null,
            "justify_content": null,
            "justify_items": null,
            "left": null,
            "margin": null,
            "max_height": null,
            "max_width": null,
            "min_height": null,
            "min_width": null,
            "object_fit": null,
            "object_position": null,
            "order": null,
            "overflow": null,
            "overflow_x": null,
            "overflow_y": null,
            "padding": null,
            "right": null,
            "top": null,
            "visibility": null,
            "width": null
          }
        },
        "6bccf10fb039435c8787a979b22784ad": {
          "model_module": "@jupyter-widgets/controls",
          "model_name": "ProgressStyleModel",
          "model_module_version": "1.5.0",
          "state": {
            "_model_module": "@jupyter-widgets/controls",
            "_model_module_version": "1.5.0",
            "_model_name": "ProgressStyleModel",
            "_view_count": null,
            "_view_module": "@jupyter-widgets/base",
            "_view_module_version": "1.2.0",
            "_view_name": "StyleView",
            "bar_color": null,
            "description_width": ""
          }
        },
        "5a1a966b42e64758af640e39a5fdaf1b": {
          "model_module": "@jupyter-widgets/base",
          "model_name": "LayoutModel",
          "model_module_version": "1.2.0",
          "state": {
            "_model_module": "@jupyter-widgets/base",
            "_model_module_version": "1.2.0",
            "_model_name": "LayoutModel",
            "_view_count": null,
            "_view_module": "@jupyter-widgets/base",
            "_view_module_version": "1.2.0",
            "_view_name": "LayoutView",
            "align_content": null,
            "align_items": null,
            "align_self": null,
            "border": null,
            "bottom": null,
            "display": null,
            "flex": null,
            "flex_flow": null,
            "grid_area": null,
            "grid_auto_columns": null,
            "grid_auto_flow": null,
            "grid_auto_rows": null,
            "grid_column": null,
            "grid_gap": null,
            "grid_row": null,
            "grid_template_areas": null,
            "grid_template_columns": null,
            "grid_template_rows": null,
            "height": null,
            "justify_content": null,
            "justify_items": null,
            "left": null,
            "margin": null,
            "max_height": null,
            "max_width": null,
            "min_height": null,
            "min_width": null,
            "object_fit": null,
            "object_position": null,
            "order": null,
            "overflow": null,
            "overflow_x": null,
            "overflow_y": null,
            "padding": null,
            "right": null,
            "top": null,
            "visibility": null,
            "width": null
          }
        },
        "6ef941ea85f642618b2d5f95da3af7b6": {
          "model_module": "@jupyter-widgets/controls",
          "model_name": "DescriptionStyleModel",
          "model_module_version": "1.5.0",
          "state": {
            "_model_module": "@jupyter-widgets/controls",
            "_model_module_version": "1.5.0",
            "_model_name": "DescriptionStyleModel",
            "_view_count": null,
            "_view_module": "@jupyter-widgets/base",
            "_view_module_version": "1.2.0",
            "_view_name": "StyleView",
            "description_width": ""
          }
        },
        "fb1044e690b448a9be63642f3c870a08": {
          "model_module": "@jupyter-widgets/controls",
          "model_name": "HBoxModel",
          "model_module_version": "1.5.0",
          "state": {
            "_dom_classes": [],
            "_model_module": "@jupyter-widgets/controls",
            "_model_module_version": "1.5.0",
            "_model_name": "HBoxModel",
            "_view_count": null,
            "_view_module": "@jupyter-widgets/controls",
            "_view_module_version": "1.5.0",
            "_view_name": "HBoxView",
            "box_style": "",
            "children": [
              "IPY_MODEL_94c0fcf05a674cc2a434b400b878b9fa",
              "IPY_MODEL_10692b0feed442d3810e6e6aedd021bf",
              "IPY_MODEL_0c7355246a8348be850c57eb785c9cce"
            ],
            "layout": "IPY_MODEL_8995b1cea4664ca19ba11d25172eea61"
          }
        },
        "94c0fcf05a674cc2a434b400b878b9fa": {
          "model_module": "@jupyter-widgets/controls",
          "model_name": "HTMLModel",
          "model_module_version": "1.5.0",
          "state": {
            "_dom_classes": [],
            "_model_module": "@jupyter-widgets/controls",
            "_model_module_version": "1.5.0",
            "_model_name": "HTMLModel",
            "_view_count": null,
            "_view_module": "@jupyter-widgets/controls",
            "_view_module_version": "1.5.0",
            "_view_name": "HTMLView",
            "description": "",
            "description_tooltip": null,
            "layout": "IPY_MODEL_5e40eee9097c436d92e9e31f8fc598e9",
            "placeholder": "​",
            "style": "IPY_MODEL_1ddc36d879e846cc8f60a2fc1f3516da",
            "value": "llm_classify "
          }
        },
        "10692b0feed442d3810e6e6aedd021bf": {
          "model_module": "@jupyter-widgets/controls",
          "model_name": "FloatProgressModel",
          "model_module_version": "1.5.0",
          "state": {
            "_dom_classes": [],
            "_model_module": "@jupyter-widgets/controls",
            "_model_module_version": "1.5.0",
            "_model_name": "FloatProgressModel",
            "_view_count": null,
            "_view_module": "@jupyter-widgets/controls",
            "_view_module_version": "1.5.0",
            "_view_name": "ProgressView",
            "bar_style": "success",
            "description": "",
            "description_tooltip": null,
            "layout": "IPY_MODEL_32d0087382dd48b298c8ade625f64f8d",
            "max": 70,
            "min": 0,
            "orientation": "horizontal",
            "style": "IPY_MODEL_4614792563a14937a21c4fcb798c6fc6",
            "value": 70
          }
        },
        "0c7355246a8348be850c57eb785c9cce": {
          "model_module": "@jupyter-widgets/controls",
          "model_name": "HTMLModel",
          "model_module_version": "1.5.0",
          "state": {
            "_dom_classes": [],
            "_model_module": "@jupyter-widgets/controls",
            "_model_module_version": "1.5.0",
            "_model_name": "HTMLModel",
            "_view_count": null,
            "_view_module": "@jupyter-widgets/controls",
            "_view_module_version": "1.5.0",
            "_view_name": "HTMLView",
            "description": "",
            "description_tooltip": null,
            "layout": "IPY_MODEL_18ed7db929934bf9a2f3e74e01a40464",
            "placeholder": "​",
            "style": "IPY_MODEL_141ad912f0644a34bf9be20a4e83da76",
            "value": " 70/70 (100.0%) | ⏳ 00:33&lt;00:00 |  3.36it/s"
          }
        },
        "8995b1cea4664ca19ba11d25172eea61": {
          "model_module": "@jupyter-widgets/base",
          "model_name": "LayoutModel",
          "model_module_version": "1.2.0",
          "state": {
            "_model_module": "@jupyter-widgets/base",
            "_model_module_version": "1.2.0",
            "_model_name": "LayoutModel",
            "_view_count": null,
            "_view_module": "@jupyter-widgets/base",
            "_view_module_version": "1.2.0",
            "_view_name": "LayoutView",
            "align_content": null,
            "align_items": null,
            "align_self": null,
            "border": null,
            "bottom": null,
            "display": null,
            "flex": null,
            "flex_flow": null,
            "grid_area": null,
            "grid_auto_columns": null,
            "grid_auto_flow": null,
            "grid_auto_rows": null,
            "grid_column": null,
            "grid_gap": null,
            "grid_row": null,
            "grid_template_areas": null,
            "grid_template_columns": null,
            "grid_template_rows": null,
            "height": null,
            "justify_content": null,
            "justify_items": null,
            "left": null,
            "margin": null,
            "max_height": null,
            "max_width": null,
            "min_height": null,
            "min_width": null,
            "object_fit": null,
            "object_position": null,
            "order": null,
            "overflow": null,
            "overflow_x": null,
            "overflow_y": null,
            "padding": null,
            "right": null,
            "top": null,
            "visibility": null,
            "width": null
          }
        },
        "5e40eee9097c436d92e9e31f8fc598e9": {
          "model_module": "@jupyter-widgets/base",
          "model_name": "LayoutModel",
          "model_module_version": "1.2.0",
          "state": {
            "_model_module": "@jupyter-widgets/base",
            "_model_module_version": "1.2.0",
            "_model_name": "LayoutModel",
            "_view_count": null,
            "_view_module": "@jupyter-widgets/base",
            "_view_module_version": "1.2.0",
            "_view_name": "LayoutView",
            "align_content": null,
            "align_items": null,
            "align_self": null,
            "border": null,
            "bottom": null,
            "display": null,
            "flex": null,
            "flex_flow": null,
            "grid_area": null,
            "grid_auto_columns": null,
            "grid_auto_flow": null,
            "grid_auto_rows": null,
            "grid_column": null,
            "grid_gap": null,
            "grid_row": null,
            "grid_template_areas": null,
            "grid_template_columns": null,
            "grid_template_rows": null,
            "height": null,
            "justify_content": null,
            "justify_items": null,
            "left": null,
            "margin": null,
            "max_height": null,
            "max_width": null,
            "min_height": null,
            "min_width": null,
            "object_fit": null,
            "object_position": null,
            "order": null,
            "overflow": null,
            "overflow_x": null,
            "overflow_y": null,
            "padding": null,
            "right": null,
            "top": null,
            "visibility": null,
            "width": null
          }
        },
        "1ddc36d879e846cc8f60a2fc1f3516da": {
          "model_module": "@jupyter-widgets/controls",
          "model_name": "DescriptionStyleModel",
          "model_module_version": "1.5.0",
          "state": {
            "_model_module": "@jupyter-widgets/controls",
            "_model_module_version": "1.5.0",
            "_model_name": "DescriptionStyleModel",
            "_view_count": null,
            "_view_module": "@jupyter-widgets/base",
            "_view_module_version": "1.2.0",
            "_view_name": "StyleView",
            "description_width": ""
          }
        },
        "32d0087382dd48b298c8ade625f64f8d": {
          "model_module": "@jupyter-widgets/base",
          "model_name": "LayoutModel",
          "model_module_version": "1.2.0",
          "state": {
            "_model_module": "@jupyter-widgets/base",
            "_model_module_version": "1.2.0",
            "_model_name": "LayoutModel",
            "_view_count": null,
            "_view_module": "@jupyter-widgets/base",
            "_view_module_version": "1.2.0",
            "_view_name": "LayoutView",
            "align_content": null,
            "align_items": null,
            "align_self": null,
            "border": null,
            "bottom": null,
            "display": null,
            "flex": null,
            "flex_flow": null,
            "grid_area": null,
            "grid_auto_columns": null,
            "grid_auto_flow": null,
            "grid_auto_rows": null,
            "grid_column": null,
            "grid_gap": null,
            "grid_row": null,
            "grid_template_areas": null,
            "grid_template_columns": null,
            "grid_template_rows": null,
            "height": null,
            "justify_content": null,
            "justify_items": null,
            "left": null,
            "margin": null,
            "max_height": null,
            "max_width": null,
            "min_height": null,
            "min_width": null,
            "object_fit": null,
            "object_position": null,
            "order": null,
            "overflow": null,
            "overflow_x": null,
            "overflow_y": null,
            "padding": null,
            "right": null,
            "top": null,
            "visibility": null,
            "width": null
          }
        },
        "4614792563a14937a21c4fcb798c6fc6": {
          "model_module": "@jupyter-widgets/controls",
          "model_name": "ProgressStyleModel",
          "model_module_version": "1.5.0",
          "state": {
            "_model_module": "@jupyter-widgets/controls",
            "_model_module_version": "1.5.0",
            "_model_name": "ProgressStyleModel",
            "_view_count": null,
            "_view_module": "@jupyter-widgets/base",
            "_view_module_version": "1.2.0",
            "_view_name": "StyleView",
            "bar_color": null,
            "description_width": ""
          }
        },
        "18ed7db929934bf9a2f3e74e01a40464": {
          "model_module": "@jupyter-widgets/base",
          "model_name": "LayoutModel",
          "model_module_version": "1.2.0",
          "state": {
            "_model_module": "@jupyter-widgets/base",
            "_model_module_version": "1.2.0",
            "_model_name": "LayoutModel",
            "_view_count": null,
            "_view_module": "@jupyter-widgets/base",
            "_view_module_version": "1.2.0",
            "_view_name": "LayoutView",
            "align_content": null,
            "align_items": null,
            "align_self": null,
            "border": null,
            "bottom": null,
            "display": null,
            "flex": null,
            "flex_flow": null,
            "grid_area": null,
            "grid_auto_columns": null,
            "grid_auto_flow": null,
            "grid_auto_rows": null,
            "grid_column": null,
            "grid_gap": null,
            "grid_row": null,
            "grid_template_areas": null,
            "grid_template_columns": null,
            "grid_template_rows": null,
            "height": null,
            "justify_content": null,
            "justify_items": null,
            "left": null,
            "margin": null,
            "max_height": null,
            "max_width": null,
            "min_height": null,
            "min_width": null,
            "object_fit": null,
            "object_position": null,
            "order": null,
            "overflow": null,
            "overflow_x": null,
            "overflow_y": null,
            "padding": null,
            "right": null,
            "top": null,
            "visibility": null,
            "width": null
          }
        },
        "141ad912f0644a34bf9be20a4e83da76": {
          "model_module": "@jupyter-widgets/controls",
          "model_name": "DescriptionStyleModel",
          "model_module_version": "1.5.0",
          "state": {
            "_model_module": "@jupyter-widgets/controls",
            "_model_module_version": "1.5.0",
            "_model_name": "DescriptionStyleModel",
            "_view_count": null,
            "_view_module": "@jupyter-widgets/base",
            "_view_module_version": "1.2.0",
            "_view_name": "StyleView",
            "description_width": ""
          }
        },
        "56d1578bad744b6485a4fcfd8fab8121": {
          "model_module": "@jupyter-widgets/controls",
          "model_name": "HBoxModel",
          "model_module_version": "1.5.0",
          "state": {
            "_dom_classes": [],
            "_model_module": "@jupyter-widgets/controls",
            "_model_module_version": "1.5.0",
            "_model_name": "HBoxModel",
            "_view_count": null,
            "_view_module": "@jupyter-widgets/controls",
            "_view_module_version": "1.5.0",
            "_view_name": "HBoxView",
            "box_style": "",
            "children": [
              "IPY_MODEL_17faeb31f80844c9ae02f7523b5f304e",
              "IPY_MODEL_d6ec9f8a6d9148a3832cbb11609ab3d5",
              "IPY_MODEL_16bd7dd8bd27446db47d2b3933c723e3"
            ],
            "layout": "IPY_MODEL_7838925f5e0746ecbcaff9894c9090ee"
          }
        },
        "17faeb31f80844c9ae02f7523b5f304e": {
          "model_module": "@jupyter-widgets/controls",
          "model_name": "HTMLModel",
          "model_module_version": "1.5.0",
          "state": {
            "_dom_classes": [],
            "_model_module": "@jupyter-widgets/controls",
            "_model_module_version": "1.5.0",
            "_model_name": "HTMLModel",
            "_view_count": null,
            "_view_module": "@jupyter-widgets/controls",
            "_view_module_version": "1.5.0",
            "_view_name": "HTMLView",
            "description": "",
            "description_tooltip": null,
            "layout": "IPY_MODEL_0da51bec8d01445b82953086cee5dacc",
            "placeholder": "​",
            "style": "IPY_MODEL_b0762bc5c97f4ee3b24a0fb0bd87ee1b",
            "value": "llm_classify "
          }
        },
        "d6ec9f8a6d9148a3832cbb11609ab3d5": {
          "model_module": "@jupyter-widgets/controls",
          "model_name": "FloatProgressModel",
          "model_module_version": "1.5.0",
          "state": {
            "_dom_classes": [],
            "_model_module": "@jupyter-widgets/controls",
            "_model_module_version": "1.5.0",
            "_model_name": "FloatProgressModel",
            "_view_count": null,
            "_view_module": "@jupyter-widgets/controls",
            "_view_module_version": "1.5.0",
            "_view_name": "ProgressView",
            "bar_style": "success",
            "description": "",
            "description_tooltip": null,
            "layout": "IPY_MODEL_b87621294c13465c8b0a350040ad1597",
            "max": 70,
            "min": 0,
            "orientation": "horizontal",
            "style": "IPY_MODEL_ccefd862468e41efbf1fa29e64973870",
            "value": 70
          }
        },
        "16bd7dd8bd27446db47d2b3933c723e3": {
          "model_module": "@jupyter-widgets/controls",
          "model_name": "HTMLModel",
          "model_module_version": "1.5.0",
          "state": {
            "_dom_classes": [],
            "_model_module": "@jupyter-widgets/controls",
            "_model_module_version": "1.5.0",
            "_model_name": "HTMLModel",
            "_view_count": null,
            "_view_module": "@jupyter-widgets/controls",
            "_view_module_version": "1.5.0",
            "_view_name": "HTMLView",
            "description": "",
            "description_tooltip": null,
            "layout": "IPY_MODEL_de9396294c9940b2a9bc7d3a4b7850bd",
            "placeholder": "​",
            "style": "IPY_MODEL_7def62537c574b13b1d87403fad8a50e",
            "value": " 70/70 (100.0%) | ⏳ 00:18&lt;00:00 |  2.28it/s"
          }
        },
        "7838925f5e0746ecbcaff9894c9090ee": {
          "model_module": "@jupyter-widgets/base",
          "model_name": "LayoutModel",
          "model_module_version": "1.2.0",
          "state": {
            "_model_module": "@jupyter-widgets/base",
            "_model_module_version": "1.2.0",
            "_model_name": "LayoutModel",
            "_view_count": null,
            "_view_module": "@jupyter-widgets/base",
            "_view_module_version": "1.2.0",
            "_view_name": "LayoutView",
            "align_content": null,
            "align_items": null,
            "align_self": null,
            "border": null,
            "bottom": null,
            "display": null,
            "flex": null,
            "flex_flow": null,
            "grid_area": null,
            "grid_auto_columns": null,
            "grid_auto_flow": null,
            "grid_auto_rows": null,
            "grid_column": null,
            "grid_gap": null,
            "grid_row": null,
            "grid_template_areas": null,
            "grid_template_columns": null,
            "grid_template_rows": null,
            "height": null,
            "justify_content": null,
            "justify_items": null,
            "left": null,
            "margin": null,
            "max_height": null,
            "max_width": null,
            "min_height": null,
            "min_width": null,
            "object_fit": null,
            "object_position": null,
            "order": null,
            "overflow": null,
            "overflow_x": null,
            "overflow_y": null,
            "padding": null,
            "right": null,
            "top": null,
            "visibility": null,
            "width": null
          }
        },
        "0da51bec8d01445b82953086cee5dacc": {
          "model_module": "@jupyter-widgets/base",
          "model_name": "LayoutModel",
          "model_module_version": "1.2.0",
          "state": {
            "_model_module": "@jupyter-widgets/base",
            "_model_module_version": "1.2.0",
            "_model_name": "LayoutModel",
            "_view_count": null,
            "_view_module": "@jupyter-widgets/base",
            "_view_module_version": "1.2.0",
            "_view_name": "LayoutView",
            "align_content": null,
            "align_items": null,
            "align_self": null,
            "border": null,
            "bottom": null,
            "display": null,
            "flex": null,
            "flex_flow": null,
            "grid_area": null,
            "grid_auto_columns": null,
            "grid_auto_flow": null,
            "grid_auto_rows": null,
            "grid_column": null,
            "grid_gap": null,
            "grid_row": null,
            "grid_template_areas": null,
            "grid_template_columns": null,
            "grid_template_rows": null,
            "height": null,
            "justify_content": null,
            "justify_items": null,
            "left": null,
            "margin": null,
            "max_height": null,
            "max_width": null,
            "min_height": null,
            "min_width": null,
            "object_fit": null,
            "object_position": null,
            "order": null,
            "overflow": null,
            "overflow_x": null,
            "overflow_y": null,
            "padding": null,
            "right": null,
            "top": null,
            "visibility": null,
            "width": null
          }
        },
        "b0762bc5c97f4ee3b24a0fb0bd87ee1b": {
          "model_module": "@jupyter-widgets/controls",
          "model_name": "DescriptionStyleModel",
          "model_module_version": "1.5.0",
          "state": {
            "_model_module": "@jupyter-widgets/controls",
            "_model_module_version": "1.5.0",
            "_model_name": "DescriptionStyleModel",
            "_view_count": null,
            "_view_module": "@jupyter-widgets/base",
            "_view_module_version": "1.2.0",
            "_view_name": "StyleView",
            "description_width": ""
          }
        },
        "b87621294c13465c8b0a350040ad1597": {
          "model_module": "@jupyter-widgets/base",
          "model_name": "LayoutModel",
          "model_module_version": "1.2.0",
          "state": {
            "_model_module": "@jupyter-widgets/base",
            "_model_module_version": "1.2.0",
            "_model_name": "LayoutModel",
            "_view_count": null,
            "_view_module": "@jupyter-widgets/base",
            "_view_module_version": "1.2.0",
            "_view_name": "LayoutView",
            "align_content": null,
            "align_items": null,
            "align_self": null,
            "border": null,
            "bottom": null,
            "display": null,
            "flex": null,
            "flex_flow": null,
            "grid_area": null,
            "grid_auto_columns": null,
            "grid_auto_flow": null,
            "grid_auto_rows": null,
            "grid_column": null,
            "grid_gap": null,
            "grid_row": null,
            "grid_template_areas": null,
            "grid_template_columns": null,
            "grid_template_rows": null,
            "height": null,
            "justify_content": null,
            "justify_items": null,
            "left": null,
            "margin": null,
            "max_height": null,
            "max_width": null,
            "min_height": null,
            "min_width": null,
            "object_fit": null,
            "object_position": null,
            "order": null,
            "overflow": null,
            "overflow_x": null,
            "overflow_y": null,
            "padding": null,
            "right": null,
            "top": null,
            "visibility": null,
            "width": null
          }
        },
        "ccefd862468e41efbf1fa29e64973870": {
          "model_module": "@jupyter-widgets/controls",
          "model_name": "ProgressStyleModel",
          "model_module_version": "1.5.0",
          "state": {
            "_model_module": "@jupyter-widgets/controls",
            "_model_module_version": "1.5.0",
            "_model_name": "ProgressStyleModel",
            "_view_count": null,
            "_view_module": "@jupyter-widgets/base",
            "_view_module_version": "1.2.0",
            "_view_name": "StyleView",
            "bar_color": null,
            "description_width": ""
          }
        },
        "de9396294c9940b2a9bc7d3a4b7850bd": {
          "model_module": "@jupyter-widgets/base",
          "model_name": "LayoutModel",
          "model_module_version": "1.2.0",
          "state": {
            "_model_module": "@jupyter-widgets/base",
            "_model_module_version": "1.2.0",
            "_model_name": "LayoutModel",
            "_view_count": null,
            "_view_module": "@jupyter-widgets/base",
            "_view_module_version": "1.2.0",
            "_view_name": "LayoutView",
            "align_content": null,
            "align_items": null,
            "align_self": null,
            "border": null,
            "bottom": null,
            "display": null,
            "flex": null,
            "flex_flow": null,
            "grid_area": null,
            "grid_auto_columns": null,
            "grid_auto_flow": null,
            "grid_auto_rows": null,
            "grid_column": null,
            "grid_gap": null,
            "grid_row": null,
            "grid_template_areas": null,
            "grid_template_columns": null,
            "grid_template_rows": null,
            "height": null,
            "justify_content": null,
            "justify_items": null,
            "left": null,
            "margin": null,
            "max_height": null,
            "max_width": null,
            "min_height": null,
            "min_width": null,
            "object_fit": null,
            "object_position": null,
            "order": null,
            "overflow": null,
            "overflow_x": null,
            "overflow_y": null,
            "padding": null,
            "right": null,
            "top": null,
            "visibility": null,
            "width": null
          }
        },
        "7def62537c574b13b1d87403fad8a50e": {
          "model_module": "@jupyter-widgets/controls",
          "model_name": "DescriptionStyleModel",
          "model_module_version": "1.5.0",
          "state": {
            "_model_module": "@jupyter-widgets/controls",
            "_model_module_version": "1.5.0",
            "_model_name": "DescriptionStyleModel",
            "_view_count": null,
            "_view_module": "@jupyter-widgets/base",
            "_view_module_version": "1.2.0",
            "_view_name": "StyleView",
            "description_width": ""
          }
        },
        "37c946a56ea447e4a9b3515c0329814a": {
          "model_module": "@jupyter-widgets/controls",
          "model_name": "HBoxModel",
          "model_module_version": "1.5.0",
          "state": {
            "_dom_classes": [],
            "_model_module": "@jupyter-widgets/controls",
            "_model_module_version": "1.5.0",
            "_model_name": "HBoxModel",
            "_view_count": null,
            "_view_module": "@jupyter-widgets/controls",
            "_view_module_version": "1.5.0",
            "_view_name": "HBoxView",
            "box_style": "",
            "children": [
              "IPY_MODEL_2794a381a30c412f8d3500931300339f",
              "IPY_MODEL_cb3b5c839179489286cf1cc030a5b4a0",
              "IPY_MODEL_61387b6cf0b34489980493a204f93629"
            ],
            "layout": "IPY_MODEL_1a3e3d9cb78d40dc98c3b6a93c23ee67"
          }
        },
        "2794a381a30c412f8d3500931300339f": {
          "model_module": "@jupyter-widgets/controls",
          "model_name": "HTMLModel",
          "model_module_version": "1.5.0",
          "state": {
            "_dom_classes": [],
            "_model_module": "@jupyter-widgets/controls",
            "_model_module_version": "1.5.0",
            "_model_name": "HTMLModel",
            "_view_count": null,
            "_view_module": "@jupyter-widgets/controls",
            "_view_module_version": "1.5.0",
            "_view_name": "HTMLView",
            "description": "",
            "description_tooltip": null,
            "layout": "IPY_MODEL_dda6a5280a224719bf617496cc98b66e",
            "placeholder": "​",
            "style": "IPY_MODEL_d05dc29ef529481aa572bebf27005ccf",
            "value": "llm_classify "
          }
        },
        "cb3b5c839179489286cf1cc030a5b4a0": {
          "model_module": "@jupyter-widgets/controls",
          "model_name": "FloatProgressModel",
          "model_module_version": "1.5.0",
          "state": {
            "_dom_classes": [],
            "_model_module": "@jupyter-widgets/controls",
            "_model_module_version": "1.5.0",
            "_model_name": "FloatProgressModel",
            "_view_count": null,
            "_view_module": "@jupyter-widgets/controls",
            "_view_module_version": "1.5.0",
            "_view_name": "ProgressView",
            "bar_style": "danger",
            "description": "",
            "description_tooltip": null,
            "layout": "IPY_MODEL_6d7a0887f3ef4b90bfd69ebce469c13c",
            "max": 70,
            "min": 0,
            "orientation": "horizontal",
            "style": "IPY_MODEL_04a52479faef496f8cbdb7cbbd603671",
            "value": 57
          }
        },
        "61387b6cf0b34489980493a204f93629": {
          "model_module": "@jupyter-widgets/controls",
          "model_name": "HTMLModel",
          "model_module_version": "1.5.0",
          "state": {
            "_dom_classes": [],
            "_model_module": "@jupyter-widgets/controls",
            "_model_module_version": "1.5.0",
            "_model_name": "HTMLModel",
            "_view_count": null,
            "_view_module": "@jupyter-widgets/controls",
            "_view_module_version": "1.5.0",
            "_view_name": "HTMLView",
            "description": "",
            "description_tooltip": null,
            "layout": "IPY_MODEL_2eda6555d307498a8fa80b286fd77e70",
            "placeholder": "​",
            "style": "IPY_MODEL_0298791ee77546138e210349edcf6ae6",
            "value": " 57/70 (81.4%) | ⏳ 02:42&lt;00:41 |  3.16s/it"
          }
        },
        "1a3e3d9cb78d40dc98c3b6a93c23ee67": {
          "model_module": "@jupyter-widgets/base",
          "model_name": "LayoutModel",
          "model_module_version": "1.2.0",
          "state": {
            "_model_module": "@jupyter-widgets/base",
            "_model_module_version": "1.2.0",
            "_model_name": "LayoutModel",
            "_view_count": null,
            "_view_module": "@jupyter-widgets/base",
            "_view_module_version": "1.2.0",
            "_view_name": "LayoutView",
            "align_content": null,
            "align_items": null,
            "align_self": null,
            "border": null,
            "bottom": null,
            "display": null,
            "flex": null,
            "flex_flow": null,
            "grid_area": null,
            "grid_auto_columns": null,
            "grid_auto_flow": null,
            "grid_auto_rows": null,
            "grid_column": null,
            "grid_gap": null,
            "grid_row": null,
            "grid_template_areas": null,
            "grid_template_columns": null,
            "grid_template_rows": null,
            "height": null,
            "justify_content": null,
            "justify_items": null,
            "left": null,
            "margin": null,
            "max_height": null,
            "max_width": null,
            "min_height": null,
            "min_width": null,
            "object_fit": null,
            "object_position": null,
            "order": null,
            "overflow": null,
            "overflow_x": null,
            "overflow_y": null,
            "padding": null,
            "right": null,
            "top": null,
            "visibility": null,
            "width": null
          }
        },
        "dda6a5280a224719bf617496cc98b66e": {
          "model_module": "@jupyter-widgets/base",
          "model_name": "LayoutModel",
          "model_module_version": "1.2.0",
          "state": {
            "_model_module": "@jupyter-widgets/base",
            "_model_module_version": "1.2.0",
            "_model_name": "LayoutModel",
            "_view_count": null,
            "_view_module": "@jupyter-widgets/base",
            "_view_module_version": "1.2.0",
            "_view_name": "LayoutView",
            "align_content": null,
            "align_items": null,
            "align_self": null,
            "border": null,
            "bottom": null,
            "display": null,
            "flex": null,
            "flex_flow": null,
            "grid_area": null,
            "grid_auto_columns": null,
            "grid_auto_flow": null,
            "grid_auto_rows": null,
            "grid_column": null,
            "grid_gap": null,
            "grid_row": null,
            "grid_template_areas": null,
            "grid_template_columns": null,
            "grid_template_rows": null,
            "height": null,
            "justify_content": null,
            "justify_items": null,
            "left": null,
            "margin": null,
            "max_height": null,
            "max_width": null,
            "min_height": null,
            "min_width": null,
            "object_fit": null,
            "object_position": null,
            "order": null,
            "overflow": null,
            "overflow_x": null,
            "overflow_y": null,
            "padding": null,
            "right": null,
            "top": null,
            "visibility": null,
            "width": null
          }
        },
        "d05dc29ef529481aa572bebf27005ccf": {
          "model_module": "@jupyter-widgets/controls",
          "model_name": "DescriptionStyleModel",
          "model_module_version": "1.5.0",
          "state": {
            "_model_module": "@jupyter-widgets/controls",
            "_model_module_version": "1.5.0",
            "_model_name": "DescriptionStyleModel",
            "_view_count": null,
            "_view_module": "@jupyter-widgets/base",
            "_view_module_version": "1.2.0",
            "_view_name": "StyleView",
            "description_width": ""
          }
        },
        "6d7a0887f3ef4b90bfd69ebce469c13c": {
          "model_module": "@jupyter-widgets/base",
          "model_name": "LayoutModel",
          "model_module_version": "1.2.0",
          "state": {
            "_model_module": "@jupyter-widgets/base",
            "_model_module_version": "1.2.0",
            "_model_name": "LayoutModel",
            "_view_count": null,
            "_view_module": "@jupyter-widgets/base",
            "_view_module_version": "1.2.0",
            "_view_name": "LayoutView",
            "align_content": null,
            "align_items": null,
            "align_self": null,
            "border": null,
            "bottom": null,
            "display": null,
            "flex": null,
            "flex_flow": null,
            "grid_area": null,
            "grid_auto_columns": null,
            "grid_auto_flow": null,
            "grid_auto_rows": null,
            "grid_column": null,
            "grid_gap": null,
            "grid_row": null,
            "grid_template_areas": null,
            "grid_template_columns": null,
            "grid_template_rows": null,
            "height": null,
            "justify_content": null,
            "justify_items": null,
            "left": null,
            "margin": null,
            "max_height": null,
            "max_width": null,
            "min_height": null,
            "min_width": null,
            "object_fit": null,
            "object_position": null,
            "order": null,
            "overflow": null,
            "overflow_x": null,
            "overflow_y": null,
            "padding": null,
            "right": null,
            "top": null,
            "visibility": null,
            "width": null
          }
        },
        "04a52479faef496f8cbdb7cbbd603671": {
          "model_module": "@jupyter-widgets/controls",
          "model_name": "ProgressStyleModel",
          "model_module_version": "1.5.0",
          "state": {
            "_model_module": "@jupyter-widgets/controls",
            "_model_module_version": "1.5.0",
            "_model_name": "ProgressStyleModel",
            "_view_count": null,
            "_view_module": "@jupyter-widgets/base",
            "_view_module_version": "1.2.0",
            "_view_name": "StyleView",
            "bar_color": null,
            "description_width": ""
          }
        },
        "2eda6555d307498a8fa80b286fd77e70": {
          "model_module": "@jupyter-widgets/base",
          "model_name": "LayoutModel",
          "model_module_version": "1.2.0",
          "state": {
            "_model_module": "@jupyter-widgets/base",
            "_model_module_version": "1.2.0",
            "_model_name": "LayoutModel",
            "_view_count": null,
            "_view_module": "@jupyter-widgets/base",
            "_view_module_version": "1.2.0",
            "_view_name": "LayoutView",
            "align_content": null,
            "align_items": null,
            "align_self": null,
            "border": null,
            "bottom": null,
            "display": null,
            "flex": null,
            "flex_flow": null,
            "grid_area": null,
            "grid_auto_columns": null,
            "grid_auto_flow": null,
            "grid_auto_rows": null,
            "grid_column": null,
            "grid_gap": null,
            "grid_row": null,
            "grid_template_areas": null,
            "grid_template_columns": null,
            "grid_template_rows": null,
            "height": null,
            "justify_content": null,
            "justify_items": null,
            "left": null,
            "margin": null,
            "max_height": null,
            "max_width": null,
            "min_height": null,
            "min_width": null,
            "object_fit": null,
            "object_position": null,
            "order": null,
            "overflow": null,
            "overflow_x": null,
            "overflow_y": null,
            "padding": null,
            "right": null,
            "top": null,
            "visibility": null,
            "width": null
          }
        },
        "0298791ee77546138e210349edcf6ae6": {
          "model_module": "@jupyter-widgets/controls",
          "model_name": "DescriptionStyleModel",
          "model_module_version": "1.5.0",
          "state": {
            "_model_module": "@jupyter-widgets/controls",
            "_model_module_version": "1.5.0",
            "_model_name": "DescriptionStyleModel",
            "_view_count": null,
            "_view_module": "@jupyter-widgets/base",
            "_view_module_version": "1.2.0",
            "_view_name": "StyleView",
            "description_width": ""
          }
        },
        "40960fc4f7be4006a601c42cc1792211": {
          "model_module": "@jupyter-widgets/controls",
          "model_name": "HBoxModel",
          "model_module_version": "1.5.0",
          "state": {
            "_dom_classes": [],
            "_model_module": "@jupyter-widgets/controls",
            "_model_module_version": "1.5.0",
            "_model_name": "HBoxModel",
            "_view_count": null,
            "_view_module": "@jupyter-widgets/controls",
            "_view_module_version": "1.5.0",
            "_view_name": "HBoxView",
            "box_style": "",
            "children": [
              "IPY_MODEL_ba01ce66a3114c769d4c1e1bed0f5bd5",
              "IPY_MODEL_2a5199786d52480f994203434854570f",
              "IPY_MODEL_ae534a11db0d4fc6ab86033a94f6764a"
            ],
            "layout": "IPY_MODEL_662340faebd34504a720e421225bda13"
          }
        },
        "ba01ce66a3114c769d4c1e1bed0f5bd5": {
          "model_module": "@jupyter-widgets/controls",
          "model_name": "HTMLModel",
          "model_module_version": "1.5.0",
          "state": {
            "_dom_classes": [],
            "_model_module": "@jupyter-widgets/controls",
            "_model_module_version": "1.5.0",
            "_model_name": "HTMLModel",
            "_view_count": null,
            "_view_module": "@jupyter-widgets/controls",
            "_view_module_version": "1.5.0",
            "_view_name": "HTMLView",
            "description": "",
            "description_tooltip": null,
            "layout": "IPY_MODEL_002dacdf88fe4bcab19d1ec4c617961b",
            "placeholder": "​",
            "style": "IPY_MODEL_53de39bfccaf400b960c0eddc36bf5fb",
            "value": "llm_classify "
          }
        },
        "2a5199786d52480f994203434854570f": {
          "model_module": "@jupyter-widgets/controls",
          "model_name": "FloatProgressModel",
          "model_module_version": "1.5.0",
          "state": {
            "_dom_classes": [],
            "_model_module": "@jupyter-widgets/controls",
            "_model_module_version": "1.5.0",
            "_model_name": "FloatProgressModel",
            "_view_count": null,
            "_view_module": "@jupyter-widgets/controls",
            "_view_module_version": "1.5.0",
            "_view_name": "ProgressView",
            "bar_style": "success",
            "description": "",
            "description_tooltip": null,
            "layout": "IPY_MODEL_e16e299219074d759f99076f0893dc2e",
            "max": 70,
            "min": 0,
            "orientation": "horizontal",
            "style": "IPY_MODEL_4b7ab7f69c6141f3be79f7cb6f20c472",
            "value": 70
          }
        },
        "ae534a11db0d4fc6ab86033a94f6764a": {
          "model_module": "@jupyter-widgets/controls",
          "model_name": "HTMLModel",
          "model_module_version": "1.5.0",
          "state": {
            "_dom_classes": [],
            "_model_module": "@jupyter-widgets/controls",
            "_model_module_version": "1.5.0",
            "_model_name": "HTMLModel",
            "_view_count": null,
            "_view_module": "@jupyter-widgets/controls",
            "_view_module_version": "1.5.0",
            "_view_name": "HTMLView",
            "description": "",
            "description_tooltip": null,
            "layout": "IPY_MODEL_1efb4d44794d492eb16ee0793183b5ea",
            "placeholder": "​",
            "style": "IPY_MODEL_14bb008adb7246a883cedc6bd517022b",
            "value": " 70/70 (100.0%) | ⏳ 01:56&lt;00:00 |  2.45s/it"
          }
        },
        "662340faebd34504a720e421225bda13": {
          "model_module": "@jupyter-widgets/base",
          "model_name": "LayoutModel",
          "model_module_version": "1.2.0",
          "state": {
            "_model_module": "@jupyter-widgets/base",
            "_model_module_version": "1.2.0",
            "_model_name": "LayoutModel",
            "_view_count": null,
            "_view_module": "@jupyter-widgets/base",
            "_view_module_version": "1.2.0",
            "_view_name": "LayoutView",
            "align_content": null,
            "align_items": null,
            "align_self": null,
            "border": null,
            "bottom": null,
            "display": null,
            "flex": null,
            "flex_flow": null,
            "grid_area": null,
            "grid_auto_columns": null,
            "grid_auto_flow": null,
            "grid_auto_rows": null,
            "grid_column": null,
            "grid_gap": null,
            "grid_row": null,
            "grid_template_areas": null,
            "grid_template_columns": null,
            "grid_template_rows": null,
            "height": null,
            "justify_content": null,
            "justify_items": null,
            "left": null,
            "margin": null,
            "max_height": null,
            "max_width": null,
            "min_height": null,
            "min_width": null,
            "object_fit": null,
            "object_position": null,
            "order": null,
            "overflow": null,
            "overflow_x": null,
            "overflow_y": null,
            "padding": null,
            "right": null,
            "top": null,
            "visibility": null,
            "width": null
          }
        },
        "002dacdf88fe4bcab19d1ec4c617961b": {
          "model_module": "@jupyter-widgets/base",
          "model_name": "LayoutModel",
          "model_module_version": "1.2.0",
          "state": {
            "_model_module": "@jupyter-widgets/base",
            "_model_module_version": "1.2.0",
            "_model_name": "LayoutModel",
            "_view_count": null,
            "_view_module": "@jupyter-widgets/base",
            "_view_module_version": "1.2.0",
            "_view_name": "LayoutView",
            "align_content": null,
            "align_items": null,
            "align_self": null,
            "border": null,
            "bottom": null,
            "display": null,
            "flex": null,
            "flex_flow": null,
            "grid_area": null,
            "grid_auto_columns": null,
            "grid_auto_flow": null,
            "grid_auto_rows": null,
            "grid_column": null,
            "grid_gap": null,
            "grid_row": null,
            "grid_template_areas": null,
            "grid_template_columns": null,
            "grid_template_rows": null,
            "height": null,
            "justify_content": null,
            "justify_items": null,
            "left": null,
            "margin": null,
            "max_height": null,
            "max_width": null,
            "min_height": null,
            "min_width": null,
            "object_fit": null,
            "object_position": null,
            "order": null,
            "overflow": null,
            "overflow_x": null,
            "overflow_y": null,
            "padding": null,
            "right": null,
            "top": null,
            "visibility": null,
            "width": null
          }
        },
        "53de39bfccaf400b960c0eddc36bf5fb": {
          "model_module": "@jupyter-widgets/controls",
          "model_name": "DescriptionStyleModel",
          "model_module_version": "1.5.0",
          "state": {
            "_model_module": "@jupyter-widgets/controls",
            "_model_module_version": "1.5.0",
            "_model_name": "DescriptionStyleModel",
            "_view_count": null,
            "_view_module": "@jupyter-widgets/base",
            "_view_module_version": "1.2.0",
            "_view_name": "StyleView",
            "description_width": ""
          }
        },
        "e16e299219074d759f99076f0893dc2e": {
          "model_module": "@jupyter-widgets/base",
          "model_name": "LayoutModel",
          "model_module_version": "1.2.0",
          "state": {
            "_model_module": "@jupyter-widgets/base",
            "_model_module_version": "1.2.0",
            "_model_name": "LayoutModel",
            "_view_count": null,
            "_view_module": "@jupyter-widgets/base",
            "_view_module_version": "1.2.0",
            "_view_name": "LayoutView",
            "align_content": null,
            "align_items": null,
            "align_self": null,
            "border": null,
            "bottom": null,
            "display": null,
            "flex": null,
            "flex_flow": null,
            "grid_area": null,
            "grid_auto_columns": null,
            "grid_auto_flow": null,
            "grid_auto_rows": null,
            "grid_column": null,
            "grid_gap": null,
            "grid_row": null,
            "grid_template_areas": null,
            "grid_template_columns": null,
            "grid_template_rows": null,
            "height": null,
            "justify_content": null,
            "justify_items": null,
            "left": null,
            "margin": null,
            "max_height": null,
            "max_width": null,
            "min_height": null,
            "min_width": null,
            "object_fit": null,
            "object_position": null,
            "order": null,
            "overflow": null,
            "overflow_x": null,
            "overflow_y": null,
            "padding": null,
            "right": null,
            "top": null,
            "visibility": null,
            "width": null
          }
        },
        "4b7ab7f69c6141f3be79f7cb6f20c472": {
          "model_module": "@jupyter-widgets/controls",
          "model_name": "ProgressStyleModel",
          "model_module_version": "1.5.0",
          "state": {
            "_model_module": "@jupyter-widgets/controls",
            "_model_module_version": "1.5.0",
            "_model_name": "ProgressStyleModel",
            "_view_count": null,
            "_view_module": "@jupyter-widgets/base",
            "_view_module_version": "1.2.0",
            "_view_name": "StyleView",
            "bar_color": null,
            "description_width": ""
          }
        },
        "1efb4d44794d492eb16ee0793183b5ea": {
          "model_module": "@jupyter-widgets/base",
          "model_name": "LayoutModel",
          "model_module_version": "1.2.0",
          "state": {
            "_model_module": "@jupyter-widgets/base",
            "_model_module_version": "1.2.0",
            "_model_name": "LayoutModel",
            "_view_count": null,
            "_view_module": "@jupyter-widgets/base",
            "_view_module_version": "1.2.0",
            "_view_name": "LayoutView",
            "align_content": null,
            "align_items": null,
            "align_self": null,
            "border": null,
            "bottom": null,
            "display": null,
            "flex": null,
            "flex_flow": null,
            "grid_area": null,
            "grid_auto_columns": null,
            "grid_auto_flow": null,
            "grid_auto_rows": null,
            "grid_column": null,
            "grid_gap": null,
            "grid_row": null,
            "grid_template_areas": null,
            "grid_template_columns": null,
            "grid_template_rows": null,
            "height": null,
            "justify_content": null,
            "justify_items": null,
            "left": null,
            "margin": null,
            "max_height": null,
            "max_width": null,
            "min_height": null,
            "min_width": null,
            "object_fit": null,
            "object_position": null,
            "order": null,
            "overflow": null,
            "overflow_x": null,
            "overflow_y": null,
            "padding": null,
            "right": null,
            "top": null,
            "visibility": null,
            "width": null
          }
        },
        "14bb008adb7246a883cedc6bd517022b": {
          "model_module": "@jupyter-widgets/controls",
          "model_name": "DescriptionStyleModel",
          "model_module_version": "1.5.0",
          "state": {
            "_model_module": "@jupyter-widgets/controls",
            "_model_module_version": "1.5.0",
            "_model_name": "DescriptionStyleModel",
            "_view_count": null,
            "_view_module": "@jupyter-widgets/base",
            "_view_module_version": "1.2.0",
            "_view_name": "StyleView",
            "description_width": ""
          }
        },
        "adace3f3455c4121afa3a61839d446a4": {
          "model_module": "@jupyter-widgets/controls",
          "model_name": "HBoxModel",
          "model_module_version": "1.5.0",
          "state": {
            "_dom_classes": [],
            "_model_module": "@jupyter-widgets/controls",
            "_model_module_version": "1.5.0",
            "_model_name": "HBoxModel",
            "_view_count": null,
            "_view_module": "@jupyter-widgets/controls",
            "_view_module_version": "1.5.0",
            "_view_name": "HBoxView",
            "box_style": "",
            "children": [
              "IPY_MODEL_25ee75344bac49d4b271f47988ef0ccc",
              "IPY_MODEL_e25254c87147475487254f61ed4d45b2",
              "IPY_MODEL_0edfa1310daf4d2885b817ce14de34b8"
            ],
            "layout": "IPY_MODEL_1936ec6703bf4d38bf54ec27c78c7b6c"
          }
        },
        "25ee75344bac49d4b271f47988ef0ccc": {
          "model_module": "@jupyter-widgets/controls",
          "model_name": "HTMLModel",
          "model_module_version": "1.5.0",
          "state": {
            "_dom_classes": [],
            "_model_module": "@jupyter-widgets/controls",
            "_model_module_version": "1.5.0",
            "_model_name": "HTMLModel",
            "_view_count": null,
            "_view_module": "@jupyter-widgets/controls",
            "_view_module_version": "1.5.0",
            "_view_name": "HTMLView",
            "description": "",
            "description_tooltip": null,
            "layout": "IPY_MODEL_a7321c525b644d62a21036bdeb0361a9",
            "placeholder": "​",
            "style": "IPY_MODEL_f88dd023a02a439493b2a72cb1433023",
            "value": "llm_classify "
          }
        },
        "e25254c87147475487254f61ed4d45b2": {
          "model_module": "@jupyter-widgets/controls",
          "model_name": "FloatProgressModel",
          "model_module_version": "1.5.0",
          "state": {
            "_dom_classes": [],
            "_model_module": "@jupyter-widgets/controls",
            "_model_module_version": "1.5.0",
            "_model_name": "FloatProgressModel",
            "_view_count": null,
            "_view_module": "@jupyter-widgets/controls",
            "_view_module_version": "1.5.0",
            "_view_name": "ProgressView",
            "bar_style": "success",
            "description": "",
            "description_tooltip": null,
            "layout": "IPY_MODEL_6b6321baff7f43d1ae0cd9912bdbcadd",
            "max": 70,
            "min": 0,
            "orientation": "horizontal",
            "style": "IPY_MODEL_68e4542b378f497987ed4e158349bf67",
            "value": 70
          }
        },
        "0edfa1310daf4d2885b817ce14de34b8": {
          "model_module": "@jupyter-widgets/controls",
          "model_name": "HTMLModel",
          "model_module_version": "1.5.0",
          "state": {
            "_dom_classes": [],
            "_model_module": "@jupyter-widgets/controls",
            "_model_module_version": "1.5.0",
            "_model_name": "HTMLModel",
            "_view_count": null,
            "_view_module": "@jupyter-widgets/controls",
            "_view_module_version": "1.5.0",
            "_view_name": "HTMLView",
            "description": "",
            "description_tooltip": null,
            "layout": "IPY_MODEL_75929293539f44d89a1dc16b8e407d44",
            "placeholder": "​",
            "style": "IPY_MODEL_2c32146345884e178d1cd0cd3487bac9",
            "value": " 70/70 (100.0%) | ⏳ 01:28&lt;00:00 |  1.31s/it"
          }
        },
        "1936ec6703bf4d38bf54ec27c78c7b6c": {
          "model_module": "@jupyter-widgets/base",
          "model_name": "LayoutModel",
          "model_module_version": "1.2.0",
          "state": {
            "_model_module": "@jupyter-widgets/base",
            "_model_module_version": "1.2.0",
            "_model_name": "LayoutModel",
            "_view_count": null,
            "_view_module": "@jupyter-widgets/base",
            "_view_module_version": "1.2.0",
            "_view_name": "LayoutView",
            "align_content": null,
            "align_items": null,
            "align_self": null,
            "border": null,
            "bottom": null,
            "display": null,
            "flex": null,
            "flex_flow": null,
            "grid_area": null,
            "grid_auto_columns": null,
            "grid_auto_flow": null,
            "grid_auto_rows": null,
            "grid_column": null,
            "grid_gap": null,
            "grid_row": null,
            "grid_template_areas": null,
            "grid_template_columns": null,
            "grid_template_rows": null,
            "height": null,
            "justify_content": null,
            "justify_items": null,
            "left": null,
            "margin": null,
            "max_height": null,
            "max_width": null,
            "min_height": null,
            "min_width": null,
            "object_fit": null,
            "object_position": null,
            "order": null,
            "overflow": null,
            "overflow_x": null,
            "overflow_y": null,
            "padding": null,
            "right": null,
            "top": null,
            "visibility": null,
            "width": null
          }
        },
        "a7321c525b644d62a21036bdeb0361a9": {
          "model_module": "@jupyter-widgets/base",
          "model_name": "LayoutModel",
          "model_module_version": "1.2.0",
          "state": {
            "_model_module": "@jupyter-widgets/base",
            "_model_module_version": "1.2.0",
            "_model_name": "LayoutModel",
            "_view_count": null,
            "_view_module": "@jupyter-widgets/base",
            "_view_module_version": "1.2.0",
            "_view_name": "LayoutView",
            "align_content": null,
            "align_items": null,
            "align_self": null,
            "border": null,
            "bottom": null,
            "display": null,
            "flex": null,
            "flex_flow": null,
            "grid_area": null,
            "grid_auto_columns": null,
            "grid_auto_flow": null,
            "grid_auto_rows": null,
            "grid_column": null,
            "grid_gap": null,
            "grid_row": null,
            "grid_template_areas": null,
            "grid_template_columns": null,
            "grid_template_rows": null,
            "height": null,
            "justify_content": null,
            "justify_items": null,
            "left": null,
            "margin": null,
            "max_height": null,
            "max_width": null,
            "min_height": null,
            "min_width": null,
            "object_fit": null,
            "object_position": null,
            "order": null,
            "overflow": null,
            "overflow_x": null,
            "overflow_y": null,
            "padding": null,
            "right": null,
            "top": null,
            "visibility": null,
            "width": null
          }
        },
        "f88dd023a02a439493b2a72cb1433023": {
          "model_module": "@jupyter-widgets/controls",
          "model_name": "DescriptionStyleModel",
          "model_module_version": "1.5.0",
          "state": {
            "_model_module": "@jupyter-widgets/controls",
            "_model_module_version": "1.5.0",
            "_model_name": "DescriptionStyleModel",
            "_view_count": null,
            "_view_module": "@jupyter-widgets/base",
            "_view_module_version": "1.2.0",
            "_view_name": "StyleView",
            "description_width": ""
          }
        },
        "6b6321baff7f43d1ae0cd9912bdbcadd": {
          "model_module": "@jupyter-widgets/base",
          "model_name": "LayoutModel",
          "model_module_version": "1.2.0",
          "state": {
            "_model_module": "@jupyter-widgets/base",
            "_model_module_version": "1.2.0",
            "_model_name": "LayoutModel",
            "_view_count": null,
            "_view_module": "@jupyter-widgets/base",
            "_view_module_version": "1.2.0",
            "_view_name": "LayoutView",
            "align_content": null,
            "align_items": null,
            "align_self": null,
            "border": null,
            "bottom": null,
            "display": null,
            "flex": null,
            "flex_flow": null,
            "grid_area": null,
            "grid_auto_columns": null,
            "grid_auto_flow": null,
            "grid_auto_rows": null,
            "grid_column": null,
            "grid_gap": null,
            "grid_row": null,
            "grid_template_areas": null,
            "grid_template_columns": null,
            "grid_template_rows": null,
            "height": null,
            "justify_content": null,
            "justify_items": null,
            "left": null,
            "margin": null,
            "max_height": null,
            "max_width": null,
            "min_height": null,
            "min_width": null,
            "object_fit": null,
            "object_position": null,
            "order": null,
            "overflow": null,
            "overflow_x": null,
            "overflow_y": null,
            "padding": null,
            "right": null,
            "top": null,
            "visibility": null,
            "width": null
          }
        },
        "68e4542b378f497987ed4e158349bf67": {
          "model_module": "@jupyter-widgets/controls",
          "model_name": "ProgressStyleModel",
          "model_module_version": "1.5.0",
          "state": {
            "_model_module": "@jupyter-widgets/controls",
            "_model_module_version": "1.5.0",
            "_model_name": "ProgressStyleModel",
            "_view_count": null,
            "_view_module": "@jupyter-widgets/base",
            "_view_module_version": "1.2.0",
            "_view_name": "StyleView",
            "bar_color": null,
            "description_width": ""
          }
        },
        "75929293539f44d89a1dc16b8e407d44": {
          "model_module": "@jupyter-widgets/base",
          "model_name": "LayoutModel",
          "model_module_version": "1.2.0",
          "state": {
            "_model_module": "@jupyter-widgets/base",
            "_model_module_version": "1.2.0",
            "_model_name": "LayoutModel",
            "_view_count": null,
            "_view_module": "@jupyter-widgets/base",
            "_view_module_version": "1.2.0",
            "_view_name": "LayoutView",
            "align_content": null,
            "align_items": null,
            "align_self": null,
            "border": null,
            "bottom": null,
            "display": null,
            "flex": null,
            "flex_flow": null,
            "grid_area": null,
            "grid_auto_columns": null,
            "grid_auto_flow": null,
            "grid_auto_rows": null,
            "grid_column": null,
            "grid_gap": null,
            "grid_row": null,
            "grid_template_areas": null,
            "grid_template_columns": null,
            "grid_template_rows": null,
            "height": null,
            "justify_content": null,
            "justify_items": null,
            "left": null,
            "margin": null,
            "max_height": null,
            "max_width": null,
            "min_height": null,
            "min_width": null,
            "object_fit": null,
            "object_position": null,
            "order": null,
            "overflow": null,
            "overflow_x": null,
            "overflow_y": null,
            "padding": null,
            "right": null,
            "top": null,
            "visibility": null,
            "width": null
          }
        },
        "2c32146345884e178d1cd0cd3487bac9": {
          "model_module": "@jupyter-widgets/controls",
          "model_name": "DescriptionStyleModel",
          "model_module_version": "1.5.0",
          "state": {
            "_model_module": "@jupyter-widgets/controls",
            "_model_module_version": "1.5.0",
            "_model_name": "DescriptionStyleModel",
            "_view_count": null,
            "_view_module": "@jupyter-widgets/base",
            "_view_module_version": "1.2.0",
            "_view_name": "StyleView",
            "description_width": ""
          }
        },
        "c965491e181c4921a52d11619dd0715f": {
          "model_module": "@jupyter-widgets/controls",
          "model_name": "HBoxModel",
          "model_module_version": "1.5.0",
          "state": {
            "_dom_classes": [],
            "_model_module": "@jupyter-widgets/controls",
            "_model_module_version": "1.5.0",
            "_model_name": "HBoxModel",
            "_view_count": null,
            "_view_module": "@jupyter-widgets/controls",
            "_view_module_version": "1.5.0",
            "_view_name": "HBoxView",
            "box_style": "",
            "children": [
              "IPY_MODEL_d332134d9c0f4e9d91fb22b042670062",
              "IPY_MODEL_37cb6de4d4cf4464ab34ffefeeb1616c",
              "IPY_MODEL_acdbf98743594ed8a527d36e51ee2a3b"
            ],
            "layout": "IPY_MODEL_00785c91206b4d5aa7d00e1f214d962d"
          }
        },
        "d332134d9c0f4e9d91fb22b042670062": {
          "model_module": "@jupyter-widgets/controls",
          "model_name": "HTMLModel",
          "model_module_version": "1.5.0",
          "state": {
            "_dom_classes": [],
            "_model_module": "@jupyter-widgets/controls",
            "_model_module_version": "1.5.0",
            "_model_name": "HTMLModel",
            "_view_count": null,
            "_view_module": "@jupyter-widgets/controls",
            "_view_module_version": "1.5.0",
            "_view_name": "HTMLView",
            "description": "",
            "description_tooltip": null,
            "layout": "IPY_MODEL_29391b5f14544efc9b719b1eb1e4a0df",
            "placeholder": "​",
            "style": "IPY_MODEL_7c27989825ca4118a0889401fbbdea2b",
            "value": "llm_classify "
          }
        },
        "37cb6de4d4cf4464ab34ffefeeb1616c": {
          "model_module": "@jupyter-widgets/controls",
          "model_name": "FloatProgressModel",
          "model_module_version": "1.5.0",
          "state": {
            "_dom_classes": [],
            "_model_module": "@jupyter-widgets/controls",
            "_model_module_version": "1.5.0",
            "_model_name": "FloatProgressModel",
            "_view_count": null,
            "_view_module": "@jupyter-widgets/controls",
            "_view_module_version": "1.5.0",
            "_view_name": "ProgressView",
            "bar_style": "success",
            "description": "",
            "description_tooltip": null,
            "layout": "IPY_MODEL_c7139148058b4e3b9e25072f3c717390",
            "max": 70,
            "min": 0,
            "orientation": "horizontal",
            "style": "IPY_MODEL_80c3c2071a864e4aa80d07360e26909e",
            "value": 70
          }
        },
        "acdbf98743594ed8a527d36e51ee2a3b": {
          "model_module": "@jupyter-widgets/controls",
          "model_name": "HTMLModel",
          "model_module_version": "1.5.0",
          "state": {
            "_dom_classes": [],
            "_model_module": "@jupyter-widgets/controls",
            "_model_module_version": "1.5.0",
            "_model_name": "HTMLModel",
            "_view_count": null,
            "_view_module": "@jupyter-widgets/controls",
            "_view_module_version": "1.5.0",
            "_view_name": "HTMLView",
            "description": "",
            "description_tooltip": null,
            "layout": "IPY_MODEL_e013a204e130455ab6b33c43d0fad4e0",
            "placeholder": "​",
            "style": "IPY_MODEL_a2ca5ecc2c9e4d33987d81ce0ab7c3fe",
            "value": " 70/70 (100.0%) | ⏳ 01:04&lt;00:00 |  1.88s/it"
          }
        },
        "00785c91206b4d5aa7d00e1f214d962d": {
          "model_module": "@jupyter-widgets/base",
          "model_name": "LayoutModel",
          "model_module_version": "1.2.0",
          "state": {
            "_model_module": "@jupyter-widgets/base",
            "_model_module_version": "1.2.0",
            "_model_name": "LayoutModel",
            "_view_count": null,
            "_view_module": "@jupyter-widgets/base",
            "_view_module_version": "1.2.0",
            "_view_name": "LayoutView",
            "align_content": null,
            "align_items": null,
            "align_self": null,
            "border": null,
            "bottom": null,
            "display": null,
            "flex": null,
            "flex_flow": null,
            "grid_area": null,
            "grid_auto_columns": null,
            "grid_auto_flow": null,
            "grid_auto_rows": null,
            "grid_column": null,
            "grid_gap": null,
            "grid_row": null,
            "grid_template_areas": null,
            "grid_template_columns": null,
            "grid_template_rows": null,
            "height": null,
            "justify_content": null,
            "justify_items": null,
            "left": null,
            "margin": null,
            "max_height": null,
            "max_width": null,
            "min_height": null,
            "min_width": null,
            "object_fit": null,
            "object_position": null,
            "order": null,
            "overflow": null,
            "overflow_x": null,
            "overflow_y": null,
            "padding": null,
            "right": null,
            "top": null,
            "visibility": null,
            "width": null
          }
        },
        "29391b5f14544efc9b719b1eb1e4a0df": {
          "model_module": "@jupyter-widgets/base",
          "model_name": "LayoutModel",
          "model_module_version": "1.2.0",
          "state": {
            "_model_module": "@jupyter-widgets/base",
            "_model_module_version": "1.2.0",
            "_model_name": "LayoutModel",
            "_view_count": null,
            "_view_module": "@jupyter-widgets/base",
            "_view_module_version": "1.2.0",
            "_view_name": "LayoutView",
            "align_content": null,
            "align_items": null,
            "align_self": null,
            "border": null,
            "bottom": null,
            "display": null,
            "flex": null,
            "flex_flow": null,
            "grid_area": null,
            "grid_auto_columns": null,
            "grid_auto_flow": null,
            "grid_auto_rows": null,
            "grid_column": null,
            "grid_gap": null,
            "grid_row": null,
            "grid_template_areas": null,
            "grid_template_columns": null,
            "grid_template_rows": null,
            "height": null,
            "justify_content": null,
            "justify_items": null,
            "left": null,
            "margin": null,
            "max_height": null,
            "max_width": null,
            "min_height": null,
            "min_width": null,
            "object_fit": null,
            "object_position": null,
            "order": null,
            "overflow": null,
            "overflow_x": null,
            "overflow_y": null,
            "padding": null,
            "right": null,
            "top": null,
            "visibility": null,
            "width": null
          }
        },
        "7c27989825ca4118a0889401fbbdea2b": {
          "model_module": "@jupyter-widgets/controls",
          "model_name": "DescriptionStyleModel",
          "model_module_version": "1.5.0",
          "state": {
            "_model_module": "@jupyter-widgets/controls",
            "_model_module_version": "1.5.0",
            "_model_name": "DescriptionStyleModel",
            "_view_count": null,
            "_view_module": "@jupyter-widgets/base",
            "_view_module_version": "1.2.0",
            "_view_name": "StyleView",
            "description_width": ""
          }
        },
        "c7139148058b4e3b9e25072f3c717390": {
          "model_module": "@jupyter-widgets/base",
          "model_name": "LayoutModel",
          "model_module_version": "1.2.0",
          "state": {
            "_model_module": "@jupyter-widgets/base",
            "_model_module_version": "1.2.0",
            "_model_name": "LayoutModel",
            "_view_count": null,
            "_view_module": "@jupyter-widgets/base",
            "_view_module_version": "1.2.0",
            "_view_name": "LayoutView",
            "align_content": null,
            "align_items": null,
            "align_self": null,
            "border": null,
            "bottom": null,
            "display": null,
            "flex": null,
            "flex_flow": null,
            "grid_area": null,
            "grid_auto_columns": null,
            "grid_auto_flow": null,
            "grid_auto_rows": null,
            "grid_column": null,
            "grid_gap": null,
            "grid_row": null,
            "grid_template_areas": null,
            "grid_template_columns": null,
            "grid_template_rows": null,
            "height": null,
            "justify_content": null,
            "justify_items": null,
            "left": null,
            "margin": null,
            "max_height": null,
            "max_width": null,
            "min_height": null,
            "min_width": null,
            "object_fit": null,
            "object_position": null,
            "order": null,
            "overflow": null,
            "overflow_x": null,
            "overflow_y": null,
            "padding": null,
            "right": null,
            "top": null,
            "visibility": null,
            "width": null
          }
        },
        "80c3c2071a864e4aa80d07360e26909e": {
          "model_module": "@jupyter-widgets/controls",
          "model_name": "ProgressStyleModel",
          "model_module_version": "1.5.0",
          "state": {
            "_model_module": "@jupyter-widgets/controls",
            "_model_module_version": "1.5.0",
            "_model_name": "ProgressStyleModel",
            "_view_count": null,
            "_view_module": "@jupyter-widgets/base",
            "_view_module_version": "1.2.0",
            "_view_name": "StyleView",
            "bar_color": null,
            "description_width": ""
          }
        },
        "e013a204e130455ab6b33c43d0fad4e0": {
          "model_module": "@jupyter-widgets/base",
          "model_name": "LayoutModel",
          "model_module_version": "1.2.0",
          "state": {
            "_model_module": "@jupyter-widgets/base",
            "_model_module_version": "1.2.0",
            "_model_name": "LayoutModel",
            "_view_count": null,
            "_view_module": "@jupyter-widgets/base",
            "_view_module_version": "1.2.0",
            "_view_name": "LayoutView",
            "align_content": null,
            "align_items": null,
            "align_self": null,
            "border": null,
            "bottom": null,
            "display": null,
            "flex": null,
            "flex_flow": null,
            "grid_area": null,
            "grid_auto_columns": null,
            "grid_auto_flow": null,
            "grid_auto_rows": null,
            "grid_column": null,
            "grid_gap": null,
            "grid_row": null,
            "grid_template_areas": null,
            "grid_template_columns": null,
            "grid_template_rows": null,
            "height": null,
            "justify_content": null,
            "justify_items": null,
            "left": null,
            "margin": null,
            "max_height": null,
            "max_width": null,
            "min_height": null,
            "min_width": null,
            "object_fit": null,
            "object_position": null,
            "order": null,
            "overflow": null,
            "overflow_x": null,
            "overflow_y": null,
            "padding": null,
            "right": null,
            "top": null,
            "visibility": null,
            "width": null
          }
        },
        "a2ca5ecc2c9e4d33987d81ce0ab7c3fe": {
          "model_module": "@jupyter-widgets/controls",
          "model_name": "DescriptionStyleModel",
          "model_module_version": "1.5.0",
          "state": {
            "_model_module": "@jupyter-widgets/controls",
            "_model_module_version": "1.5.0",
            "_model_name": "DescriptionStyleModel",
            "_view_count": null,
            "_view_module": "@jupyter-widgets/base",
            "_view_module_version": "1.2.0",
            "_view_name": "StyleView",
            "description_width": ""
          }
        },
        "c607b400ff27490fbc8424b55c540ae0": {
          "model_module": "@jupyter-widgets/controls",
          "model_name": "HBoxModel",
          "model_module_version": "1.5.0",
          "state": {
            "_dom_classes": [],
            "_model_module": "@jupyter-widgets/controls",
            "_model_module_version": "1.5.0",
            "_model_name": "HBoxModel",
            "_view_count": null,
            "_view_module": "@jupyter-widgets/controls",
            "_view_module_version": "1.5.0",
            "_view_name": "HBoxView",
            "box_style": "",
            "children": [
              "IPY_MODEL_4df126abfa3a41bbaa45bf0b3a3d2afe",
              "IPY_MODEL_ce8d6187516549c5ba5a7929efb3c926",
              "IPY_MODEL_221e754c086342f9a9667da762231f90"
            ],
            "layout": "IPY_MODEL_d6fb29317e6b4548ae7973457a4a06bb"
          }
        },
        "4df126abfa3a41bbaa45bf0b3a3d2afe": {
          "model_module": "@jupyter-widgets/controls",
          "model_name": "HTMLModel",
          "model_module_version": "1.5.0",
          "state": {
            "_dom_classes": [],
            "_model_module": "@jupyter-widgets/controls",
            "_model_module_version": "1.5.0",
            "_model_name": "HTMLModel",
            "_view_count": null,
            "_view_module": "@jupyter-widgets/controls",
            "_view_module_version": "1.5.0",
            "_view_name": "HTMLView",
            "description": "",
            "description_tooltip": null,
            "layout": "IPY_MODEL_77556ecd2fc44341b72fbe732fd46c59",
            "placeholder": "​",
            "style": "IPY_MODEL_6c122b3aadb64b12841e720a7aca6051",
            "value": "llm_classify "
          }
        },
        "ce8d6187516549c5ba5a7929efb3c926": {
          "model_module": "@jupyter-widgets/controls",
          "model_name": "FloatProgressModel",
          "model_module_version": "1.5.0",
          "state": {
            "_dom_classes": [],
            "_model_module": "@jupyter-widgets/controls",
            "_model_module_version": "1.5.0",
            "_model_name": "FloatProgressModel",
            "_view_count": null,
            "_view_module": "@jupyter-widgets/controls",
            "_view_module_version": "1.5.0",
            "_view_name": "ProgressView",
            "bar_style": "success",
            "description": "",
            "description_tooltip": null,
            "layout": "IPY_MODEL_a057efc9f5df408491d0f6d249b84991",
            "max": 70,
            "min": 0,
            "orientation": "horizontal",
            "style": "IPY_MODEL_4b44c677a5e449c4be471e9d36ff9b22",
            "value": 70
          }
        },
        "221e754c086342f9a9667da762231f90": {
          "model_module": "@jupyter-widgets/controls",
          "model_name": "HTMLModel",
          "model_module_version": "1.5.0",
          "state": {
            "_dom_classes": [],
            "_model_module": "@jupyter-widgets/controls",
            "_model_module_version": "1.5.0",
            "_model_name": "HTMLModel",
            "_view_count": null,
            "_view_module": "@jupyter-widgets/controls",
            "_view_module_version": "1.5.0",
            "_view_name": "HTMLView",
            "description": "",
            "description_tooltip": null,
            "layout": "IPY_MODEL_8304bcfcbdf54cef8476068c5bcc610e",
            "placeholder": "​",
            "style": "IPY_MODEL_683ba91e8235476aa0e03255aa6c07b0",
            "value": " 70/70 (100.0%) | ⏳ 00:31&lt;00:00 |  1.32s/it"
          }
        },
        "d6fb29317e6b4548ae7973457a4a06bb": {
          "model_module": "@jupyter-widgets/base",
          "model_name": "LayoutModel",
          "model_module_version": "1.2.0",
          "state": {
            "_model_module": "@jupyter-widgets/base",
            "_model_module_version": "1.2.0",
            "_model_name": "LayoutModel",
            "_view_count": null,
            "_view_module": "@jupyter-widgets/base",
            "_view_module_version": "1.2.0",
            "_view_name": "LayoutView",
            "align_content": null,
            "align_items": null,
            "align_self": null,
            "border": null,
            "bottom": null,
            "display": null,
            "flex": null,
            "flex_flow": null,
            "grid_area": null,
            "grid_auto_columns": null,
            "grid_auto_flow": null,
            "grid_auto_rows": null,
            "grid_column": null,
            "grid_gap": null,
            "grid_row": null,
            "grid_template_areas": null,
            "grid_template_columns": null,
            "grid_template_rows": null,
            "height": null,
            "justify_content": null,
            "justify_items": null,
            "left": null,
            "margin": null,
            "max_height": null,
            "max_width": null,
            "min_height": null,
            "min_width": null,
            "object_fit": null,
            "object_position": null,
            "order": null,
            "overflow": null,
            "overflow_x": null,
            "overflow_y": null,
            "padding": null,
            "right": null,
            "top": null,
            "visibility": null,
            "width": null
          }
        },
        "77556ecd2fc44341b72fbe732fd46c59": {
          "model_module": "@jupyter-widgets/base",
          "model_name": "LayoutModel",
          "model_module_version": "1.2.0",
          "state": {
            "_model_module": "@jupyter-widgets/base",
            "_model_module_version": "1.2.0",
            "_model_name": "LayoutModel",
            "_view_count": null,
            "_view_module": "@jupyter-widgets/base",
            "_view_module_version": "1.2.0",
            "_view_name": "LayoutView",
            "align_content": null,
            "align_items": null,
            "align_self": null,
            "border": null,
            "bottom": null,
            "display": null,
            "flex": null,
            "flex_flow": null,
            "grid_area": null,
            "grid_auto_columns": null,
            "grid_auto_flow": null,
            "grid_auto_rows": null,
            "grid_column": null,
            "grid_gap": null,
            "grid_row": null,
            "grid_template_areas": null,
            "grid_template_columns": null,
            "grid_template_rows": null,
            "height": null,
            "justify_content": null,
            "justify_items": null,
            "left": null,
            "margin": null,
            "max_height": null,
            "max_width": null,
            "min_height": null,
            "min_width": null,
            "object_fit": null,
            "object_position": null,
            "order": null,
            "overflow": null,
            "overflow_x": null,
            "overflow_y": null,
            "padding": null,
            "right": null,
            "top": null,
            "visibility": null,
            "width": null
          }
        },
        "6c122b3aadb64b12841e720a7aca6051": {
          "model_module": "@jupyter-widgets/controls",
          "model_name": "DescriptionStyleModel",
          "model_module_version": "1.5.0",
          "state": {
            "_model_module": "@jupyter-widgets/controls",
            "_model_module_version": "1.5.0",
            "_model_name": "DescriptionStyleModel",
            "_view_count": null,
            "_view_module": "@jupyter-widgets/base",
            "_view_module_version": "1.2.0",
            "_view_name": "StyleView",
            "description_width": ""
          }
        },
        "a057efc9f5df408491d0f6d249b84991": {
          "model_module": "@jupyter-widgets/base",
          "model_name": "LayoutModel",
          "model_module_version": "1.2.0",
          "state": {
            "_model_module": "@jupyter-widgets/base",
            "_model_module_version": "1.2.0",
            "_model_name": "LayoutModel",
            "_view_count": null,
            "_view_module": "@jupyter-widgets/base",
            "_view_module_version": "1.2.0",
            "_view_name": "LayoutView",
            "align_content": null,
            "align_items": null,
            "align_self": null,
            "border": null,
            "bottom": null,
            "display": null,
            "flex": null,
            "flex_flow": null,
            "grid_area": null,
            "grid_auto_columns": null,
            "grid_auto_flow": null,
            "grid_auto_rows": null,
            "grid_column": null,
            "grid_gap": null,
            "grid_row": null,
            "grid_template_areas": null,
            "grid_template_columns": null,
            "grid_template_rows": null,
            "height": null,
            "justify_content": null,
            "justify_items": null,
            "left": null,
            "margin": null,
            "max_height": null,
            "max_width": null,
            "min_height": null,
            "min_width": null,
            "object_fit": null,
            "object_position": null,
            "order": null,
            "overflow": null,
            "overflow_x": null,
            "overflow_y": null,
            "padding": null,
            "right": null,
            "top": null,
            "visibility": null,
            "width": null
          }
        },
        "4b44c677a5e449c4be471e9d36ff9b22": {
          "model_module": "@jupyter-widgets/controls",
          "model_name": "ProgressStyleModel",
          "model_module_version": "1.5.0",
          "state": {
            "_model_module": "@jupyter-widgets/controls",
            "_model_module_version": "1.5.0",
            "_model_name": "ProgressStyleModel",
            "_view_count": null,
            "_view_module": "@jupyter-widgets/base",
            "_view_module_version": "1.2.0",
            "_view_name": "StyleView",
            "bar_color": null,
            "description_width": ""
          }
        },
        "8304bcfcbdf54cef8476068c5bcc610e": {
          "model_module": "@jupyter-widgets/base",
          "model_name": "LayoutModel",
          "model_module_version": "1.2.0",
          "state": {
            "_model_module": "@jupyter-widgets/base",
            "_model_module_version": "1.2.0",
            "_model_name": "LayoutModel",
            "_view_count": null,
            "_view_module": "@jupyter-widgets/base",
            "_view_module_version": "1.2.0",
            "_view_name": "LayoutView",
            "align_content": null,
            "align_items": null,
            "align_self": null,
            "border": null,
            "bottom": null,
            "display": null,
            "flex": null,
            "flex_flow": null,
            "grid_area": null,
            "grid_auto_columns": null,
            "grid_auto_flow": null,
            "grid_auto_rows": null,
            "grid_column": null,
            "grid_gap": null,
            "grid_row": null,
            "grid_template_areas": null,
            "grid_template_columns": null,
            "grid_template_rows": null,
            "height": null,
            "justify_content": null,
            "justify_items": null,
            "left": null,
            "margin": null,
            "max_height": null,
            "max_width": null,
            "min_height": null,
            "min_width": null,
            "object_fit": null,
            "object_position": null,
            "order": null,
            "overflow": null,
            "overflow_x": null,
            "overflow_y": null,
            "padding": null,
            "right": null,
            "top": null,
            "visibility": null,
            "width": null
          }
        },
        "683ba91e8235476aa0e03255aa6c07b0": {
          "model_module": "@jupyter-widgets/controls",
          "model_name": "DescriptionStyleModel",
          "model_module_version": "1.5.0",
          "state": {
            "_model_module": "@jupyter-widgets/controls",
            "_model_module_version": "1.5.0",
            "_model_name": "DescriptionStyleModel",
            "_view_count": null,
            "_view_module": "@jupyter-widgets/base",
            "_view_module_version": "1.2.0",
            "_view_name": "StyleView",
            "description_width": ""
          }
        }
      }
    }
  },
  "nbformat": 4,
  "nbformat_minor": 0
}