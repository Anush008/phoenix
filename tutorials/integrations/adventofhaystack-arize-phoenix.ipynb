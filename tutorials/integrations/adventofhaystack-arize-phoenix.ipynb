{
 "cells": [
  {
   "cell_type": "markdown",
   "metadata": {},
   "source": [
    "# Advent of Haystack with Arize Phoenix\n",
    "\n",
    "Santa collapsed in his chair in a huff. \"What's wrong?\" asked Mrs Claus.\n",
    "\n",
    "\"There's just too many toys to check and not enough time! Christmas is almost here!\"\n",
    "\n",
    "\"Well can't you just check some of them?\"\n",
    "\n",
    "\"I wish it were that easy! But my elves make so many different toys, and we have to make sure every kid gets the right one!\"\n",
    "\n",
    "Elf Jane couldn't help overhearing from the next room. She was a regular attendee at the local north pole hackathon, and thought she might have a solution. She'd learned a lot about evaluation recently, and thought she could build an LLM Judge to help."
   ]
  },
  {
   "cell_type": "code",
   "execution_count": 2,
   "metadata": {},
   "outputs": [],
   "source": [
    "! pip install -q arize-phoenix haystack-ai openinference-instrumentation-haystack"
   ]
  },
  {
   "cell_type": "markdown",
   "metadata": {},
   "source": [
    "Elf Jane started by checking out the big elf database of christmas wishlists (aka the BEDCW)."
   ]
  },
  {
   "cell_type": "code",
   "execution_count": null,
   "metadata": {},
   "outputs": [],
   "source": [
    "children = [\n",
    "    {'name': 'Timmy', 'age': 7, 'likes': 'Lego', 'dislikes': 'Vegetables', 'list': 'nice'},\n",
    "    {'name': 'Tommy', 'age': 9, 'likes': 'Sports Equipment', 'dislikes': 'Reading', 'list': 'naughty'},\n",
    "    {'name': 'Tammy', 'age': 8, 'likes': 'Art Supplies', 'dislikes': 'Loud Noises', 'list': 'nice'}, \n",
    "    {'name': 'Tina', 'age': 6, 'likes': 'Science Kits', 'dislikes': 'Spicy Food', 'list': 'nice'},\n",
    "    {'name': 'Toby', 'age': 10, 'likes': 'Video Games', 'dislikes': 'Early Mornings', 'list': 'nice'},\n",
    "    {'name': 'Tod', 'age': 5, 'likes': 'Musical Instruments', 'dislikes': 'Bath Time', 'list': 'nice'},\n",
    "    {'name': 'Todd', 'age': 8, 'likes': 'Remote Control Cars', 'dislikes': 'Homework', 'list': 'naughty'},\n",
    "    {'name': 'Tara', 'age': 7, 'likes': 'Magic Sets', 'dislikes': 'Thunder', 'list': 'nice'},\n",
    "    {'name': 'Teri', 'age': 9, 'likes': 'Building Blocks', 'dislikes': 'Broccoli', 'list': 'nice'},\n",
    "    {'name': 'Trey', 'age': 6, 'likes': 'Board Games', 'dislikes': 'Bedtime', 'list': 'nice'},\n",
    "    {'name': 'Tyler', 'age': 8, 'likes': 'Action Figures', 'dislikes': 'Cleaning', 'list': 'nice'},\n",
    "    {'name': 'Tracy', 'age': 7, 'likes': 'Dolls', 'dislikes': 'Dark', 'list': 'nice'},\n",
    "    {'name': 'Tony', 'age': 9, 'likes': 'Chemistry Sets', 'dislikes': 'Dentist', 'list': 'nice'},\n",
    "    {'name': 'Theo', 'age': 6, 'likes': 'Puzzles', 'dislikes': 'Shots', 'list': 'nice'},\n",
    "    {'name': 'Terry', 'age': 10, 'likes': 'Model Trains', 'dislikes': 'Chores', 'list': 'naughty'},\n",
    "    {'name': 'Tessa', 'age': 5, 'likes': 'Stuffed Animals', 'dislikes': 'Time Out', 'list': 'nice'},\n",
    "    {'name': 'Troy', 'age': 8, 'likes': 'Robots', 'dislikes': 'Naps', 'list': 'nice'},\n",
    "    {'name': 'Talia', 'age': 7, 'likes': 'Craft Kits', 'dislikes': 'Spinach', 'list': 'nice'},\n",
    "    {'name': 'Tyson', 'age': 9, 'likes': 'Microscopes', 'dislikes': 'Cold', 'list': 'nice'},\n",
    "    {'name': 'Tatum', 'age': 6, 'likes': 'Drawing Sets', 'dislikes': 'Shots', 'list': 'nice'},\n",
    "]"
   ]
  },
  {
   "cell_type": "markdown",
   "metadata": {},
   "source": [
    "# 1. Adding Tracing\n",
    "\n",
    "Elf Jane knew that the elves were busy, and didn't always log their toy making process. She knew that she'd first need to trace the toy making process using Arize Phoenix."
   ]
  },
  {
   "cell_type": "code",
   "execution_count": null,
   "metadata": {},
   "outputs": [],
   "source": [
    "from getpass import getpass\n",
    "\n",
    "api_key = getpass(\"Enter your Arize Phoenix API key: \")\n",
    "\n",
    "from phoenix.otel import register\n",
    "from openinference.instrumentation.haystack import HaystackInstrumentor\n",
    "\n",
    "# TODO: Add Phoenix tracing with Haystack: https://docs.arize.com/phoenix/tracing/integrations-tracing/haystack"
   ]
  },
  {
   "cell_type": "markdown",
   "metadata": {},
   "source": [
    "# 2. Trace Toy Making Process\n",
    "\n",
    "With tracing in place, Elf Jane had some of her closest elf friends build a batch of toys she could trace."
   ]
  },
  {
   "cell_type": "code",
   "execution_count": null,
   "metadata": {},
   "outputs": [],
   "source": [
    "import os\n",
    "\n",
    "os.environ[\"OPENAI_API_KEY\"] = getpass(\"Enter your OpenAI API key: \")"
   ]
  },
  {
   "cell_type": "code",
   "execution_count": null,
   "metadata": {},
   "outputs": [],
   "source": [
    "from haystack.dataclasses import ChatMessage\n",
    "from haystack.components.generators.chat import OpenAIChatGenerator\n",
    "from haystack import Pipeline\n",
    "\n",
    "toy_maker_prompt = \"\"\"\n",
    "Create a toy for {name} that they will like. {name} is {age} years old and likes {likes} and dislikes {dislikes}.\n",
    "\"\"\"\n",
    "\n",
    "\n",
    "def make_toy(child):\n",
    "\n",
    "    message = toy_maker_prompt.format(**child)\n",
    "\n",
    "    messages = [\n",
    "        ChatMessage.from_system(\"You are a toy maker elf. Your job is to make toys for the nice kids on the nice list. If the child is on the naughty list, give them a 'Rabbit R1'. {name} is on the {list} list.\"),\n",
    "        ChatMessage.from_user(message),\n",
    "    ]\n",
    "\n",
    "    chat_generator = OpenAIChatGenerator(model=\"gpt-4o-mini\")\n",
    "    pipeline = Pipeline()\n",
    "    pipeline.add_component(\"chat_generator\", chat_generator)\n",
    "    \n",
    "    return pipeline.run({\"messages\": messages})[\"chat_generator\"][\"replies\"]"
   ]
  },
  {
   "cell_type": "code",
   "execution_count": null,
   "metadata": {},
   "outputs": [],
   "source": [
    "for child in children:\n",
    "    make_toy(child)"
   ]
  },
  {
   "cell_type": "markdown",
   "metadata": {},
   "source": [
    "# 3. Evaluate Toy Correctness\n",
    "\n",
    "Elf Jane was now ready to evaluate the toys she made. She knew that she could use an LLM Judge to evaluate whether the toys matched the child's wishlist. She started by building a judge."
   ]
  },
  {
   "cell_type": "code",
   "execution_count": 3,
   "metadata": {},
   "outputs": [],
   "source": [
    "llm_judge_prompt = \"\"\"\n",
    "Evaluate the toy for this child, based on their likes and dislikes\n",
    "\n",
    "All children on the naughty list get a 'Rabbit R1'. Any other toy given to a naughty child is incorrect.\n",
    "\n",
    "Respond with a single word: 'correct' or 'incorrect'. Also include a short explanation for your answer.\n",
    "\n",
    "Description of the child: {description}\n",
    "Toy: {toy}\n",
    "\n",
    "*****\n",
    "Example output:\n",
    "label: 'correct'\n",
    "explanation: 'The toy is a Lego set, which is one of the child's likes.'\n",
    "*****\n",
    "\"\"\"\n"
   ]
  },
  {
   "cell_type": "code",
   "execution_count": null,
   "metadata": {},
   "outputs": [],
   "source": [
    "import phoenix as px\n",
    "\n",
    "# TODO: Download the traces from Phoenix\n",
    "# https://docs.arize.com/phoenix/evaluation/how-to-evals/evaluating-phoenix-traces#download-trace-dataset-from-phoenix"
   ]
  },
  {
   "cell_type": "code",
   "execution_count": null,
   "metadata": {},
   "outputs": [],
   "source": [
    "from phoenix.evals import (\n",
    "    llm_classify,\n",
    "    OpenAIModel\n",
    ")\n",
    "\n",
    "# TODO: Evaluate the traces with the LLM Judge\n",
    "# https://docs.arize.com/phoenix/evaluation/how-to-evals/bring-your-own-evaluator#categorical-llm_classify\n"
   ]
  },
  {
   "cell_type": "code",
   "execution_count": null,
   "metadata": {},
   "outputs": [],
   "source": [
    "from phoenix.trace import SpanEvaluations\n",
    "\n",
    "# TODO: Upload results into Phoenix\n",
    "# https://docs.arize.com/phoenix/evaluation/how-to-evals/evaluating-phoenix-traces#download-trace-dataset-from-phoenix"
   ]
  },
  {
   "cell_type": "markdown",
   "metadata": {},
   "source": [
    "# 4. View the results in the Arize Phoenix UI\n",
    "\n",
    "And just like that, Elf Jane had saved Santa hours of time and made sure every kid got the right toy!\n",
    "\n",
    "In Phoenix, she could see \"correct\" and \"incorrect\" labels on all the traces, and even see the explanations for each label!\n",
    "\n",
    "She couldn't wait to show Santa, and all her friends at the hackathon. "
   ]
  }
 ],
 "metadata": {
  "kernelspec": {
   "display_name": "phoenix",
   "language": "python",
   "name": "python3"
  },
  "language_info": {
   "codemirror_mode": {
    "name": "ipython",
    "version": 3
   },
   "file_extension": ".py",
   "mimetype": "text/x-python",
   "name": "python",
   "nbconvert_exporter": "python",
   "pygments_lexer": "ipython3",
   "version": "3.11.10"
  }
 },
 "nbformat": 4,
 "nbformat_minor": 2
}
