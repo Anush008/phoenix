{
 "cells": [
  {
   "cell_type": "code",
   "execution_count": 9,
   "metadata": {},
   "outputs": [],
   "source": [
    "%%bash\n",
    "pip install -qU openai tiktoken pinecone gradio tavily-python\n",
    "pip install -qU arize-phoenix-otel arize-phoenix openinference-instrumentation-langchain\n",
    "pip install -qU langchain langchain-community langchain-pinecone langchain_openai"
   ]
  },
  {
   "cell_type": "markdown",
   "metadata": {},
   "source": [
    "# Set up Pinecone RAG tool"
   ]
  },
  {
   "cell_type": "code",
   "execution_count": 8,
   "metadata": {},
   "outputs": [],
   "source": [
    "import os\n",
    "from pinecone import Pinecone\n",
    "from langchain.chains import RetrievalQA\n",
    "from langchain_openai import OpenAIEmbeddings\n",
    "from langchain_openai import OpenAI\n",
    "from langchain_pinecone import PineconeVectorStore\n",
    "from langchain_core.tools import tool\n",
    "import gradio as gr"
   ]
  },
  {
   "cell_type": "code",
   "execution_count": 13,
   "metadata": {},
   "outputs": [
    {
     "data": {
      "text/plain": [
       "True"
      ]
     },
     "execution_count": 13,
     "metadata": {},
     "output_type": "execute_result"
    }
   ],
   "source": [
    "import dotenv\n",
    "dotenv.load_dotenv()"
   ]
  },
  {
   "cell_type": "code",
   "execution_count": 16,
   "metadata": {},
   "outputs": [
    {
     "name": "stderr",
     "output_type": "stream",
     "text": [
      "INFO:pinecone_plugin_interface.logging:Discovering subpackages in _NamespacePath(['/Users/jgilhuly/Documents/dev/GitHub/phoenix/.venv/lib/python3.11/site-packages/pinecone_plugins'])\n",
      "INFO:pinecone_plugin_interface.logging:Looking for plugins in pinecone_plugins.inference\n",
      "INFO:pinecone_plugin_interface.logging:Installing plugin inference into Pinecone\n"
     ]
    }
   ],
   "source": [
    "embeddings = OpenAIEmbeddings()\n",
    "pinecone = Pinecone(api_key=os.environ[\"PINECONE_KEY\"], environment=os.environ[\"PINECONE_ENV\"])\n",
    "index = pinecone.Index(os.environ[\"PINECONE_INDEX\"])\n",
    "vector_store = PineconeVectorStore(index, embeddings, \"text\")\n",
    "\n",
    "qa = RetrievalQA.from_chain_type(llm=OpenAI(temperature=0), chain_type=\"stuff\", retriever=vector_store.as_retriever())\n",
    "\n",
    "@tool\n",
    "def generate_response_phoenix(message, history):\n",
    "    \"\"\"Queries the Phoenix docs and returns a response.\n",
    "\n",
    "    Args:\n",
    "        message (str): The message to query the Phoenix docs with.\n",
    "        history (list): The history of the conversation.\n",
    "\n",
    "    Returns:\n",
    "        str: The response from the Phoenix docs.\n",
    "    \"\"\"\n",
    "    response = qa.invoke(message)\n",
    "    return response.get(\"result\")"
   ]
  },
  {
   "cell_type": "code",
   "execution_count": 11,
   "metadata": {},
   "outputs": [],
   "source": [
    "from typing import Annotated\n",
    "from typing_extensions import TypedDict\n",
    "from langgraph.graph.message import AnyMessage, add_messages\n",
    "\n",
    "class State(TypedDict):\n",
    "    messages: Annotated[list[AnyMessage], add_messages]"
   ]
  },
  {
   "cell_type": "markdown",
   "metadata": {},
   "source": [
    "### Tool utility functions"
   ]
  },
  {
   "cell_type": "code",
   "execution_count": 19,
   "metadata": {},
   "outputs": [],
   "source": [
    "from langchain_core.messages import ToolMessage\n",
    "from langchain_core.runnables import RunnableLambda\n",
    "\n",
    "from langgraph.prebuilt import ToolNode\n",
    "\n",
    "\n",
    "def handle_tool_error(state) -> dict:\n",
    "    error = state.get(\"error\")\n",
    "    tool_calls = state[\"messages\"][-1].tool_calls\n",
    "    return {\n",
    "        \"messages\": [\n",
    "            ToolMessage(\n",
    "                content=f\"Error: {repr(error)}\\n please fix your mistakes.\",\n",
    "                tool_call_id=tc[\"id\"],\n",
    "            )\n",
    "            for tc in tool_calls\n",
    "        ]\n",
    "    }\n",
    "\n",
    "\n",
    "def create_tool_node_with_fallback(tools: list) -> dict:\n",
    "    return ToolNode(tools).with_fallbacks(\n",
    "        [RunnableLambda(handle_tool_error)], exception_key=\"error\"\n",
    "    )\n",
    "\n",
    "\n",
    "def _print_event(event: dict, _printed: set, max_length=1500):\n",
    "    current_state = event.get(\"dialog_state\")\n",
    "    if current_state:\n",
    "        print(\"Currently in: \", current_state[-1])\n",
    "    message = event.get(\"messages\")\n",
    "    if message:\n",
    "        if isinstance(message, list):\n",
    "            message = message[-1]\n",
    "        if message.id not in _printed:\n",
    "            msg_repr = message.pretty_repr(html=True)\n",
    "            if len(msg_repr) > max_length:\n",
    "                msg_repr = msg_repr[:max_length] + \" ... (truncated)\"\n",
    "            print(msg_repr)\n",
    "            _printed.add(message.id)"
   ]
  },
  {
   "cell_type": "markdown",
   "metadata": {},
   "source": [
    "### Define the assistant"
   ]
  },
  {
   "cell_type": "code",
   "execution_count": 17,
   "metadata": {},
   "outputs": [],
   "source": [
    "from langchain_core.prompts import ChatPromptTemplate\n",
    "from langchain_core.runnables import Runnable, RunnableConfig\n",
    "from langchain_community.tools.tavily_search import TavilySearchResults\n",
    "from datetime import datetime\n",
    "\n",
    "\n",
    "class Assistant:\n",
    "    def __init__(self, runnable: Runnable):\n",
    "        self.runnable = runnable\n",
    "\n",
    "    def __call__(self, state: State, config: RunnableConfig):\n",
    "        while True:\n",
    "            state = {**state}\n",
    "            result = self.runnable.invoke(state)\n",
    "            # If the LLM happens to return an empty response, we will re-prompt it\n",
    "            # for an actual response.\n",
    "            if not result.tool_calls and (\n",
    "                not result.content\n",
    "                or isinstance(result.content, list)\n",
    "                and not result.content[0].get(\"text\")\n",
    "            ):\n",
    "                messages = state[\"messages\"] + [(\"user\", \"Respond with a real output.\")]\n",
    "                state = {**state, \"messages\": messages}\n",
    "            else:\n",
    "                break\n",
    "        return {\"messages\": result}\n",
    "\n",
    "\n",
    "from langchain_openai import ChatOpenAI\n",
    "\n",
    "llm = ChatOpenAI(model=\"gpt-4o\")\n",
    "\n",
    "primary_assistant_prompt = ChatPromptTemplate.from_messages(\n",
    "    [\n",
    "        (\n",
    "            \"system\",\n",
    "            \"You are a helpful customer support assistant for Phoenix \"\n",
    "            \" Use the provided tools to answer questions about Phoenix. \"\n",
    "            \" When searching, be persistent. Expand your query bounds if the first search returns no results. \"\n",
    "            \" If a search comes up empty, expand your search before giving up.\"\n",
    "            \"\\nCurrent time: {time}.\",\n",
    "        ),\n",
    "        (\"placeholder\", \"{messages}\"),\n",
    "    ]\n",
    ").partial(time=datetime.now())\n",
    "\n",
    "tools = [\n",
    "    TavilySearchResults(max_results=1),\n",
    "    generate_response_phoenix\n",
    "    \n",
    "]\n",
    "assistant_runnable = primary_assistant_prompt | llm.bind_tools(tools)"
   ]
  },
  {
   "cell_type": "markdown",
   "metadata": {},
   "source": [
    "### Build the graph"
   ]
  },
  {
   "cell_type": "code",
   "execution_count": 20,
   "metadata": {},
   "outputs": [],
   "source": [
    "from langgraph.checkpoint.memory import MemorySaver\n",
    "from langgraph.graph import END, StateGraph, START\n",
    "from langgraph.prebuilt import tools_condition\n",
    "\n",
    "builder = StateGraph(State)\n",
    "\n",
    "# Define nodes: these do the work\n",
    "builder.add_node(\"assistant\", Assistant(assistant_runnable))\n",
    "builder.add_node(\"tools\", create_tool_node_with_fallback(tools))\n",
    "# Define edges: these determine how the control flow moves\n",
    "builder.add_edge(START, \"assistant\")\n",
    "builder.add_conditional_edges(\n",
    "    \"assistant\",\n",
    "    tools_condition,\n",
    ")\n",
    "builder.add_edge(\"tools\", \"assistant\")\n",
    "\n",
    "# The checkpointer lets the graph persist its state\n",
    "# this is a complete memory for the entire graph.\n",
    "memory = MemorySaver()\n",
    "graph = builder.compile(checkpointer=memory)"
   ]
  },
  {
   "cell_type": "code",
   "execution_count": 22,
   "metadata": {},
   "outputs": [
    {
     "data": {
      "image/jpeg": "[encoded data removed]",
      "text/plain": [
       "<IPython.core.display.Image object>"
      ]
     },
     "metadata": {},
     "output_type": "display_data"
    }
   ],
   "source": [
    "from IPython.display import Image, display\n",
    "\n",
    "try:\n",
    "    display(Image(graph.get_graph(xray=True).draw_mermaid_png()))\n",
    "except Exception:\n",
    "    # This requires some extra dependencies and is optional\n",
    "    pass"
   ]
  },
  {
   "cell_type": "markdown",
   "metadata": {},
   "source": [
    "### Wrap the graph in a function for our Gradio interface"
   ]
  },
  {
   "cell_type": "code",
   "execution_count": 37,
   "metadata": {},
   "outputs": [],
   "source": [
    "def call_agent(message, history):\n",
    "    import uuid\n",
    "\n",
    "    thread_id = str(uuid.uuid4())\n",
    "\n",
    "    config = {\n",
    "        \"configurable\": {\n",
    "            # Checkpoints are accessed by thread_id\n",
    "            \"thread_id\": thread_id,\n",
    "        }\n",
    "    }\n",
    "\n",
    "    event = graph.invoke(\n",
    "        {\"messages\": (\"user\", message)}, config, stream_mode=\"values\"\n",
    "    )\n",
    "    \n",
    "    return event.get(\"messages\")[-1].content"
   ]
  },
  {
   "cell_type": "markdown",
   "metadata": {},
   "source": [
    "## Set up Gradio interface"
   ]
  },
  {
   "cell_type": "code",
   "execution_count": 38,
   "metadata": {},
   "outputs": [
    {
     "name": "stderr",
     "output_type": "stream",
     "text": [
      "INFO:httpx:HTTP Request: GET https://api.gradio.app/pkg-version \"HTTP/1.1 200 OK\"\n"
     ]
    }
   ],
   "source": [
    "iface = gr.ChatInterface(\n",
    "    call_agent,\n",
    "    title=\"Phoenix Docs Query Bot\",\n",
    "    description=\"Ask me anything about Phoenix documentation!\",\n",
    ")"
   ]
  },
  {
   "cell_type": "code",
   "execution_count": 39,
   "metadata": {},
   "outputs": [
    {
     "name": "stderr",
     "output_type": "stream",
     "text": [
      "INFO:httpx:HTTP Request: GET http://127.0.0.1:7865/startup-events \"HTTP/1.1 200 OK\"\n",
      "INFO:httpx:HTTP Request: HEAD http://127.0.0.1:7865/ \"HTTP/1.1 200 OK\"\n"
     ]
    },
    {
     "name": "stdout",
     "output_type": "stream",
     "text": [
      "Running on local URL:  http://127.0.0.1:7865\n",
      "\n",
      "To create a public link, set `share=True` in `launch()`.\n"
     ]
    },
    {
     "data": {
      "text/html": [
       "<div><iframe src=\"http://127.0.0.1:7865/\" width=\"100%\" height=\"500\" allow=\"autoplay; camera; microphone; clipboard-read; clipboard-write;\" frameborder=\"0\" allowfullscreen></iframe></div>"
      ],
      "text/plain": [
       "<IPython.core.display.HTML object>"
      ]
     },
     "metadata": {},
     "output_type": "display_data"
    },
    {
     "data": {
      "text/plain": []
     },
     "execution_count": 39,
     "metadata": {},
     "output_type": "execute_result"
    },
    {
     "name": "stderr",
     "output_type": "stream",
     "text": [
      "ERROR:openinference.instrumentation.langchain._tracer:Failed to get attribute.\n",
      "Traceback (most recent call last):\n",
      "  File \"/Users/jgilhuly/Documents/dev/GitHub/phoenix/.venv/lib/python3.11/site-packages/openinference/instrumentation/langchain/_tracer.py\", line 279, in wrapper\n",
      "    yield from wrapped(*args, **kwargs)\n",
      "  File \"/Users/jgilhuly/Documents/dev/GitHub/phoenix/.venv/lib/python3.11/site-packages/openinference/instrumentation/langchain/_tracer.py\", line 379, in _input_messages\n",
      "    raise ValueError(f\"failed to parse messages of type {type(first_messages)}\")\n",
      "ValueError: failed to parse messages of type <class 'str'>\n",
      "INFO:httpx:HTTP Request: POST https://api.openai.com/v1/chat/completions \"HTTP/1.1 200 OK\"\n",
      "ERROR:openinference.instrumentation.langchain._tracer:Failed to get attribute.\n",
      "Traceback (most recent call last):\n",
      "  File \"/Users/jgilhuly/Documents/dev/GitHub/phoenix/.venv/lib/python3.11/site-packages/openinference/instrumentation/langchain/_tracer.py\", line 279, in wrapper\n",
      "    yield from wrapped(*args, **kwargs)\n",
      "  File \"/Users/jgilhuly/Documents/dev/GitHub/phoenix/.venv/lib/python3.11/site-packages/openinference/instrumentation/langchain/_tracer.py\", line 379, in _input_messages\n",
      "    raise ValueError(f\"failed to parse messages of type {type(first_messages)}\")\n",
      "ValueError: failed to parse messages of type <class 'tuple'>\n",
      "ERROR:openinference.instrumentation.langchain._tracer:Failed to get attribute.\n",
      "Traceback (most recent call last):\n",
      "  File \"/Users/jgilhuly/Documents/dev/GitHub/phoenix/.venv/lib/python3.11/site-packages/openinference/instrumentation/langchain/_tracer.py\", line 279, in wrapper\n",
      "    yield from wrapped(*args, **kwargs)\n",
      "  File \"/Users/jgilhuly/Documents/dev/GitHub/phoenix/.venv/lib/python3.11/site-packages/openinference/instrumentation/langchain/_tracer.py\", line 379, in _input_messages\n",
      "    raise ValueError(f\"failed to parse messages of type {type(first_messages)}\")\n",
      "ValueError: failed to parse messages of type <class 'tuple'>\n",
      "INFO:httpx:HTTP Request: POST https://api.openai.com/v1/embeddings \"HTTP/1.1 200 OK\"\n",
      "INFO:httpx:HTTP Request: POST https://api.openai.com/v1/completions \"HTTP/1.1 200 OK\"\n",
      "INFO:httpx:HTTP Request: POST https://api.openai.com/v1/chat/completions \"HTTP/1.1 200 OK\"\n",
      "ERROR:openinference.instrumentation.langchain._tracer:Failed to get attribute.\n",
      "Traceback (most recent call last):\n",
      "  File \"/Users/jgilhuly/Documents/dev/GitHub/phoenix/.venv/lib/python3.11/site-packages/openinference/instrumentation/langchain/_tracer.py\", line 279, in wrapper\n",
      "    yield from wrapped(*args, **kwargs)\n",
      "  File \"/Users/jgilhuly/Documents/dev/GitHub/phoenix/.venv/lib/python3.11/site-packages/openinference/instrumentation/langchain/_tracer.py\", line 379, in _input_messages\n",
      "    raise ValueError(f\"failed to parse messages of type {type(first_messages)}\")\n",
      "ValueError: failed to parse messages of type <class 'tuple'>\n",
      "ERROR:openinference.instrumentation.langchain._tracer:Failed to get attribute.\n",
      "Traceback (most recent call last):\n",
      "  File \"/Users/jgilhuly/Documents/dev/GitHub/phoenix/.venv/lib/python3.11/site-packages/openinference/instrumentation/langchain/_tracer.py\", line 279, in wrapper\n",
      "    yield from wrapped(*args, **kwargs)\n",
      "  File \"/Users/jgilhuly/Documents/dev/GitHub/phoenix/.venv/lib/python3.11/site-packages/openinference/instrumentation/langchain/_tracer.py\", line 379, in _input_messages\n",
      "    raise ValueError(f\"failed to parse messages of type {type(first_messages)}\")\n",
      "ValueError: failed to parse messages of type <class 'str'>\n"
     ]
    }
   ],
   "source": [
    "iface.launch()"
   ]
  },
  {
   "cell_type": "markdown",
   "metadata": {},
   "source": [
    "# Add tracing"
   ]
  },
  {
   "cell_type": "code",
   "execution_count": null,
   "metadata": {},
   "outputs": [],
   "source": [
    "from phoenix.otel import register\n",
    "\n",
    "os.environ[\"OTEL_EXPORTER_OTLP_HEADERS\"] = f\"api_key={os.environ['PHOENIX_API_KEY']}\"\n",
    "os.environ[\"PHOENIX_CLIENT_HEADERS\"] = f\"api_key={os.environ['PHOENIX_API_KEY']}\"\n",
    "os.environ[\"PHOENIX_COLLECTOR_ENDPOINT\"] = \"https://app.phoenix.arize.com\"\n",
    "\n",
    "tracer_provider = register(project_name=\"pinecone-rag-agent\")\n",
    "\n",
    "from openinference.instrumentation.langchain import LangChainInstrumentor\n",
    "LangChainInstrumentor().instrument(tracer_provider=tracer_provider, skip_dep_check=True)"
   ]
  },
  {
   "cell_type": "markdown",
   "metadata": {},
   "source": [
    "# Evaluate our chatbot"
   ]
  },
  {
   "cell_type": "code",
   "execution_count": 43,
   "metadata": {},
   "outputs": [
    {
     "name": "stderr",
     "output_type": "stream",
     "text": [
      "INFO:httpx:HTTP Request: GET https://app.phoenix.arize.com/arize_phoenix_version \"HTTP/1.1 200 OK\"\n",
      "/Users/jgilhuly/Documents/dev/GitHub/phoenix/.venv/lib/python3.11/site-packages/phoenix/utilities/client.py:25: UserWarning: The Phoenix server has an unknown version and may have compatibility issues.\n",
      "  warnings.warn(\n",
      "INFO:httpx:HTTP Request: POST https://app.phoenix.arize.com/v1/spans?project_name=pinecone-rag-agent&project-name=pinecone-rag-agent \"HTTP/1.1 200 OK\"\n",
      "/Users/jgilhuly/Documents/dev/GitHub/phoenix/.venv/lib/python3.11/site-packages/phoenix/utilities/client.py:45: UserWarning: The Phoenix server (4.22.1) and client (4.30.0) versions are mismatched and may have compatibility issues.\n",
      "  warnings.warn(\n"
     ]
    },
    {
     "data": {
      "text/html": [
       "<div>\n",
       "<style scoped>\n",
       "    .dataframe tbody tr th:only-of-type {\n",
       "        vertical-align: middle;\n",
       "    }\n",
       "\n",
       "    .dataframe tbody tr th {\n",
       "        vertical-align: top;\n",
       "    }\n",
       "\n",
       "    .dataframe thead th {\n",
       "        text-align: right;\n",
       "    }\n",
       "</style>\n",
       "<table border=\"1\" class=\"dataframe\">\n",
       "  <thead>\n",
       "    <tr style=\"text-align: right;\">\n",
       "      <th></th>\n",
       "      <th>input</th>\n",
       "      <th>output</th>\n",
       "      <th>reference</th>\n",
       "    </tr>\n",
       "    <tr>\n",
       "      <th>context.span_id</th>\n",
       "      <th></th>\n",
       "      <th></th>\n",
       "      <th></th>\n",
       "    </tr>\n",
       "  </thead>\n",
       "  <tbody>\n",
       "    <tr>\n",
       "      <th>e00d7f1ed0412769</th>\n",
       "      <td>Tell me about Phoenix evals</td>\n",
       "      <td>Phoenix evals are a module in the Phoenix pla...</td>\n",
       "      <td>text: How to: Evals | Phoenix\\nPhoenix Evaluat...</td>\n",
       "    </tr>\n",
       "    <tr>\n",
       "      <th>c2aab92e9fc8c5cb</th>\n",
       "      <td>{\"messages\": [\"user\", \"Tell me about the phoen...</td>\n",
       "      <td>{\"messages\": [\"content='Tell me about the phoe...</td>\n",
       "      <td>text: Arize | Phoenix\\nPhoenix works hand-in-h...</td>\n",
       "    </tr>\n",
       "    <tr>\n",
       "      <th>3613b2e9da333c39</th>\n",
       "      <td>{\"messages\": [\"user\", \"Tell me about instrumen...</td>\n",
       "      <td>{\"messages\": [\"content='Tell me about instrume...</td>\n",
       "      <td>text: Manual Instrumentation | Phoenix\\n\\nurl:...</td>\n",
       "    </tr>\n",
       "    <tr>\n",
       "      <th>074164f858454e4f</th>\n",
       "      <td>{\"messages\": [\"user\", \"tell me about phoenix e...</td>\n",
       "      <td>{\"messages\": [\"content='tell me about phoenix ...</td>\n",
       "      <td>text: How to: Evals | Phoenix\\nPhoenix Evaluat...</td>\n",
       "    </tr>\n",
       "    <tr>\n",
       "      <th>f48ffde86dd3b37d</th>\n",
       "      <td>{\"messages\": [\"user\", \"tell me about instrumen...</td>\n",
       "      <td>{\"messages\": [\"content='tell me about instrume...</td>\n",
       "      <td>text: Manual Instrumentation | Phoenix\\n\\nurl:...</td>\n",
       "    </tr>\n",
       "  </tbody>\n",
       "</table>\n",
       "</div>"
      ],
      "text/plain": [
       "                                                              input  \\\n",
       "context.span_id                                                       \n",
       "e00d7f1ed0412769                        Tell me about Phoenix evals   \n",
       "c2aab92e9fc8c5cb  {\"messages\": [\"user\", \"Tell me about the phoen...   \n",
       "3613b2e9da333c39  {\"messages\": [\"user\", \"Tell me about instrumen...   \n",
       "074164f858454e4f  {\"messages\": [\"user\", \"tell me about phoenix e...   \n",
       "f48ffde86dd3b37d  {\"messages\": [\"user\", \"tell me about instrumen...   \n",
       "\n",
       "                                                             output  \\\n",
       "context.span_id                                                       \n",
       "e00d7f1ed0412769   Phoenix evals are a module in the Phoenix pla...   \n",
       "c2aab92e9fc8c5cb  {\"messages\": [\"content='Tell me about the phoe...   \n",
       "3613b2e9da333c39  {\"messages\": [\"content='Tell me about instrume...   \n",
       "074164f858454e4f  {\"messages\": [\"content='tell me about phoenix ...   \n",
       "f48ffde86dd3b37d  {\"messages\": [\"content='tell me about instrume...   \n",
       "\n",
       "                                                          reference  \n",
       "context.span_id                                                      \n",
       "e00d7f1ed0412769  text: How to: Evals | Phoenix\\nPhoenix Evaluat...  \n",
       "c2aab92e9fc8c5cb  text: Arize | Phoenix\\nPhoenix works hand-in-h...  \n",
       "3613b2e9da333c39  text: Manual Instrumentation | Phoenix\\n\\nurl:...  \n",
       "074164f858454e4f  text: How to: Evals | Phoenix\\nPhoenix Evaluat...  \n",
       "f48ffde86dd3b37d  text: Manual Instrumentation | Phoenix\\n\\nurl:...  "
      ]
     },
     "execution_count": 43,
     "metadata": {},
     "output_type": "execute_result"
    }
   ],
   "source": [
    "from phoenix.session.evaluation import get_qa_with_reference\n",
    "import phoenix as px\n",
    "\n",
    "qa_with_reference_df = get_qa_with_reference(px.Client(), project_name=\"pinecone-rag-agent\")\n",
    "qa_with_reference_df"
   ]
  },
  {
   "cell_type": "code",
   "execution_count": 44,
   "metadata": {},
   "outputs": [
    {
     "name": "stderr",
     "output_type": "stream",
     "text": [
      "WARNING:phoenix.evals.executors:🐌!! If running inside a notebook, patching the event loop with nest_asyncio will allow asynchronous eval submission, and is significantly faster. To patch the event loop, run `nest_asyncio.apply()`.\n"
     ]
    },
    {
     "data": {
      "application/vnd.jupyter.widget-view+json": {
       "model_id": "1e4ab31d56784a7e8c527a9ec04a02e5",
       "version_major": 2,
       "version_minor": 0
      },
      "text/plain": [
       "run_evals |          | 0/10 (0.0%) | ⏳ 00:00<? | ?it/s"
      ]
     },
     "metadata": {},
     "output_type": "display_data"
    },
    {
     "name": "stderr",
     "output_type": "stream",
     "text": [
      "0.00s - Debugger warning: It seems that frozen modules are being used, which may\n",
      "0.00s - make the debugger miss breakpoints. Please pass -Xfrozen_modules=off\n",
      "0.00s - to python to disable frozen modules.\n",
      "0.00s - Note: Debugging will proceed. Set PYDEVD_DISABLE_FILE_VALIDATION=1 to disable this validation.\n",
      "INFO:httpx:HTTP Request: POST https://api.openai.com/v1/chat/completions \"HTTP/1.1 200 OK\"\n",
      "INFO:httpx:HTTP Request: POST https://api.openai.com/v1/chat/completions \"HTTP/1.1 200 OK\"\n",
      "INFO:httpx:HTTP Request: POST https://api.openai.com/v1/chat/completions \"HTTP/1.1 200 OK\"\n",
      "INFO:httpx:HTTP Request: POST https://api.openai.com/v1/chat/completions \"HTTP/1.1 200 OK\"\n",
      "INFO:httpx:HTTP Request: POST https://api.openai.com/v1/chat/completions \"HTTP/1.1 200 OK\"\n",
      "INFO:httpx:HTTP Request: POST https://api.openai.com/v1/chat/completions \"HTTP/1.1 200 OK\"\n",
      "INFO:httpx:HTTP Request: POST https://api.openai.com/v1/chat/completions \"HTTP/1.1 200 OK\"\n",
      "INFO:httpx:HTTP Request: POST https://api.openai.com/v1/chat/completions \"HTTP/1.1 200 OK\"\n",
      "INFO:httpx:HTTP Request: POST https://api.openai.com/v1/chat/completions \"HTTP/1.1 200 OK\"\n",
      "INFO:httpx:HTTP Request: POST https://api.openai.com/v1/chat/completions \"HTTP/1.1 200 OK\"\n"
     ]
    }
   ],
   "source": [
    "from phoenix.evals import (\n",
    "    HallucinationEvaluator,\n",
    "    OpenAIModel,\n",
    "    QAEvaluator,\n",
    "    run_evals,\n",
    ")\n",
    "import nest_asyncio\n",
    "nest_asyncio.apply()\n",
    "\n",
    "qa_evaluator = QAEvaluator(OpenAIModel(model=\"gpt-4-turbo-preview\"))\n",
    "hallucination_evaluator = HallucinationEvaluator(OpenAIModel(model=\"gpt-4-turbo-preview\"))\n",
    "\n",
    "qa_correctness_eval_df, hallucination_eval_df = run_evals(\n",
    "    evaluators=[qa_evaluator, hallucination_evaluator],\n",
    "    dataframe=qa_with_reference_df,\n",
    "    provide_explanation=True,\n",
    "    concurrency=20,\n",
    ")"
   ]
  },
  {
   "cell_type": "code",
   "execution_count": 45,
   "metadata": {},
   "outputs": [
    {
     "name": "stderr",
     "output_type": "stream",
     "text": [
      "INFO:httpx:HTTP Request: GET https://app.phoenix.arize.com/arize_phoenix_version \"HTTP/1.1 200 OK\"\n",
      "/Users/jgilhuly/Documents/dev/GitHub/phoenix/.venv/lib/python3.11/site-packages/phoenix/utilities/client.py:25: UserWarning: The Phoenix server has an unknown version and may have compatibility issues.\n",
      "  warnings.warn(\n",
      "INFO:httpx:HTTP Request: POST https://app.phoenix.arize.com/v1/evaluations \"HTTP/1.1 200 OK\"\n",
      "/Users/jgilhuly/Documents/dev/GitHub/phoenix/.venv/lib/python3.11/site-packages/phoenix/utilities/client.py:45: UserWarning: The Phoenix server (4.22.1) and client (4.30.0) versions are mismatched and may have compatibility issues.\n",
      "  warnings.warn(\n",
      "INFO:httpx:HTTP Request: POST https://app.phoenix.arize.com/v1/evaluations \"HTTP/1.1 200 OK\"\n"
     ]
    },
    {
     "name": "stdout",
     "output_type": "stream",
     "text": [
      "Keyword argument `project_name` is no longer necessary and is ignored.\n"
     ]
    }
   ],
   "source": [
    "from phoenix.trace import SpanEvaluations\n",
    "\n",
    "px.Client().log_evaluations(\n",
    "    SpanEvaluations(dataframe=qa_correctness_eval_df, eval_name=\"Q&A Correctness\"),\n",
    "    SpanEvaluations(dataframe=hallucination_eval_df, eval_name=\"Hallucination\"),\n",
    "    project_name=\"pinecone-rag-agent\"\n",
    ")"
   ]
  }
 ],
 "metadata": {
  "kernelspec": {
   "display_name": ".venv",
   "language": "python",
   "name": "python3"
  },
  "language_info": {
   "codemirror_mode": {
    "name": "ipython",
    "version": 3
   },
   "file_extension": ".py",
   "mimetype": "text/x-python",
   "name": "python",
   "nbconvert_exporter": "python",
   "pygments_lexer": "ipython3",
   "version": "3.11.9"
  }
 },
 "nbformat": 4,
 "nbformat_minor": 2
}
