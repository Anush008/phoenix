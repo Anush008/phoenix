{
 "cells": [
  {
   "cell_type": "code",
   "execution_count": null,
   "metadata": {},
   "outputs": [],
   "source": [
    "import os\n",
    "\n",
    "import openai\n",
    "\n",
    "num_samples = 50\n",
    "fine_tune_data_path = (\n",
    "    f\"/Users/xandersong/Desktop/fine-tuning-data/formatted_fine_tune_data_{num_samples}.jsonl\"\n",
    ")\n",
    "filename = os.path.basename(fine_tune_data_path)\n",
    "with open(fine_tune_data_path, \"rb\") as f:\n",
    "    openai.File.create(\n",
    "        file=f,\n",
    "        filename=filename,\n",
    "        purpose=\"fine-tune\",\n",
    "    )"
   ]
  },
  {
   "cell_type": "code",
   "execution_count": null,
   "metadata": {},
   "outputs": [],
   "source": [
    "openai.FineTuningJob.create(\n",
    "    training_file=f\"formatted_fine_tune_data_{num_samples}\",\n",
    "    model=\"gpt-3.5-turbo\",\n",
    "    suffix=f\"{num_samples}_examples\",\n",
    ")"
   ]
  },
  {
   "cell_type": "code",
   "execution_count": null,
   "metadata": {},
   "outputs": [],
   "source": [
    "openai.File.delete(\"file-wjsqYXrPvMxeMt5ybuj6ixzP\")"
   ]
  },
  {
   "cell_type": "code",
   "execution_count": null,
   "metadata": {},
   "outputs": [],
   "source": [
    "openai.File.list()"
   ]
  }
 ],
 "metadata": {
  "language_info": {
   "name": "python"
  }
 },
 "nbformat": 4,
 "nbformat_minor": 2
}
