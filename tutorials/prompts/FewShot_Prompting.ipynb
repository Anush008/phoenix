{
  "nbformat": 4,
  "nbformat_minor": 0,
  "metadata": {
    "colab": {
      "provenance": []
    },
    "kernelspec": {
      "name": "python3",
      "display_name": "Python 3"
    },
    "language_info": {
      "name": "python"
    }
  },
  "cells": [
    {
      "cell_type": "markdown",
      "source": [
        "<center>\n",
        "<p style=\"text-align:center\">\n",
        "<img alt=\"phoenix logo\" src=\"https://raw.githubusercontent.com/Arize-ai/phoenix-assets/9e6101d95936f4bd4d390efc9ce646dc6937fb2d/images/socal/github-large-banner-phoenix.jpg\" width=\"1000\"/>\n",
        "<br>\n",
        "<br>\n",
        "<a href=\"https://docs.arize.com/phoenix/\">Docs</a>\n",
        "|\n",
        "<a href=\"https://github.com/Arize-ai/phoenix\">GitHub</a>\n",
        "|\n",
        "<a href=\"https://arize-ai.slack.com/join/shared_invite/zt-11t1vbu4x-xkBIHmOREQnYnYDH1GDfCg?__hstc=259489365.a667dfafcfa0169c8aee4178d115dc81.1733501603539.1733501603539.1733501603539.1&__hssc=259489365.1.1733501603539&__hsfp=3822854628&submissionGuid=381a0676-8f38-437b-96f2-fc10875658df#/shared-invite/email\">Community</a>\n",
        "</p>\n",
        "</center>\n",
        "<h1 align=\"center\">Few-Shot Prompting Tutorial</h1>\n",
        "\n",
        "Few-shot prompting is a powerful technique in prompt engineering that helps LLMs perform tasks more effectively by providing a few examples within the prompt.\n",
        "\n",
        "Unlike zero-shot prompting, where the model must infer the task with no prior context, or one-shot prompting, where a single example is provided, few-shot prompting leverages multiple examples to guide the model’s responses more accurately.\n",
        "\n",
        "In this tutorial you will:\n",
        "- Explore how different prompting strategies impact performance in a sentiment analysis task on a dataset of reviews.\n",
        "- Run an evaluation to measure how the prompt affects the model’s performance\n",
        "- Track your how your prompt and experiment changes overtime in Phoenix\n",
        "\n",
        "By the end of this tutorial, you’ll have a clear understanding of how structured prompting can significantly enhance the results of any application.\n",
        "\n",
        "⚠️You will need an OpenAI Key for this tutorial.\n",
        "\n",
        "Let’s get started! 🚀"
      ],
      "metadata": {
        "id": "63YJExI2n8n6"
      }
    },
    {
      "cell_type": "markdown",
      "source": [
        "# Setup Dependencies and Keys"
      ],
      "metadata": {
        "id": "YW1WuRoFoEfb"
      }
    },
    {
      "cell_type": "code",
      "execution_count": 36,
      "metadata": {
        "id": "dVtsh2ain3eJ"
      },
      "outputs": [],
      "source": [
        "!pip install -qqq \"arize-phoenix>=8.0.0\" datasets openinference-instrumentation-openai"
      ]
    },
    {
      "cell_type": "markdown",
      "source": [
        "Next you need to connect to Phoenix. The code below will connect you to a Phoenix Cloud instance. You can also [connect to a self-hosted Phoenix instance](https://docs.arize.com/phoenix/deployment) if you'd prefer."
      ],
      "metadata": {
        "id": "1vVLz60FRj0n"
      }
    },
    {
      "cell_type": "code",
      "source": [
        "import os\n",
        "from getpass import getpass\n",
        "\n",
        "os.environ[\"PHOENIX_COLLECTOR_ENDPOINT\"] = \"https://app.phoenix.arize.com\"\n",
        "if not os.environ.get(\"PHOENIX_CLIENT_HEADERS\"):\n",
        "    os.environ[\"PHOENIX_CLIENT_HEADERS\"] = \"api_key=\" + getpass(\"Enter your Phoenix API key: \")\n",
        "\n",
        "if not os.environ.get(\"OPENAI_API_KEY\"):\n",
        "    os.environ[\"OPENAI_API_KEY\"] = getpass(\"Enter your OpenAI API key: \")"
      ],
      "metadata": {
        "id": "wCFfpLdjoIZq"
      },
      "execution_count": 37,
      "outputs": []
    },
    {
      "cell_type": "markdown",
      "source": [
        "# Load Dataset Into Phoenix\n",
        "This dataset contains reviews along with their corresponding sentiment labels. Throughout this notebook, we will use the same dataset to evaluate the impact of different prompting techniques, refining our approach with each iteration.\n",
        "\n",
        "Here, we also import the Phoenix Client, which enables us to create and modify prompts directly within the notebook while seamlessly syncing changes to the Phoenix UI."
      ],
      "metadata": {
        "id": "DClcbf5soimT"
      }
    },
    {
      "cell_type": "code",
      "source": [
        "from datasets import load_dataset\n",
        "\n",
        "ds = load_dataset(\"syeddula/fridgeReviews\")[\"train\"]\n",
        "ds = ds.to_pandas()\n",
        "ds.head()"
      ],
      "metadata": {
        "id": "pWG-YEoeoU_E"
      },
      "execution_count": null,
      "outputs": []
    },
    {
      "cell_type": "markdown",
      "source": [
        "# Set up Phoenix Client"
      ],
      "metadata": {
        "id": "N92PeQyNoq4_"
      }
    },
    {
      "cell_type": "code",
      "source": [
        "import uuid\n",
        "\n",
        "import phoenix as px\n",
        "from phoenix.client import Client as PhoenixClient\n",
        "\n",
        "unique_id = uuid.uuid4()\n",
        "\n",
        "# Upload the dataset to Phoenix\n",
        "dataset = px.Client().upload_dataset(\n",
        "    dataframe=ds,\n",
        "    input_keys=[\"Review\"],\n",
        "    output_keys=[\"Sentiment\"],\n",
        "    dataset_name=f\"review-classification-{unique_id}\",\n",
        ")"
      ],
      "metadata": {
        "id": "Fh-g7DRRolbO"
      },
      "execution_count": null,
      "outputs": []
    },
    {
      "cell_type": "markdown",
      "source": [
        "# Zero-Shot Prompting\n"
      ],
      "metadata": {
        "id": "uDKN_-8rfYNZ"
      }
    },
    {
      "cell_type": "markdown",
      "source": [
        "Zero-shot prompting is a technique where a language model is asked to perform a task without being given any prior examples. Instead, the model relies solely on its pre-trained knowledge to generate a response. This approach is useful when you need quick predictions without providing specific guidance.\n",
        "\n",
        "In this section, we will apply zero-shot prompting to our sentiment analysis dataset, asking the model to classify reviews as positive, negative, or neutral without any labeled examples. We’ll then evaluate its performance to see how well it can infer the task based on the prompt alone."
      ],
      "metadata": {
        "id": "nFevQAYVo4Bm"
      }
    },
    {
      "cell_type": "code",
      "source": [
        "from openai import OpenAI\n",
        "from openai.types.chat.completion_create_params import CompletionCreateParamsBase\n",
        "\n",
        "from phoenix.client.types import PromptVersion\n",
        "\n",
        "params = CompletionCreateParamsBase(\n",
        "    model=\"gpt-3.5-turbo\",\n",
        "    temperature=0,\n",
        "    messages=[\n",
        "        {\n",
        "            \"role\": \"system\",\n",
        "            \"content\": \"You are an evaluator who assesses the sentiment of a review. Output if the review positive, negative, or neutral. Only respond with one of these classifications.\",\n",
        "        },\n",
        "        {\"role\": \"user\", \"content\": \"{{Review}}\"},\n",
        "    ],\n",
        ")\n",
        "\n",
        "prompt_identifier = \"fridge-sentiment-reviews\"\n",
        "\n",
        "prompt = PhoenixClient().prompts.create(\n",
        "    name=prompt_identifier,\n",
        "    prompt_description=\"A prompt for classifying reviews based on sentiment.\",\n",
        "    version=PromptVersion.from_openai(params),\n",
        ")"
      ],
      "metadata": {
        "id": "qqP3Ph5jovHt"
      },
      "execution_count": null,
      "outputs": []
    },
    {
      "cell_type": "markdown",
      "source": [
        "At this stage, this initial prompt is now available in Phoenix under the Prompt tab. Any modifications made to the prompt moving forward will be tracked under **Versions**, allowing you to monitor and compare changes over time.\n",
        "\n",
        "Prompts in Phoenix store more than just text—they also include key details such as the prompt template, model configurations, and response format, ensuring a structured and consistent approach to generating outputs.\n"
      ],
      "metadata": {
        "id": "sHaWSs-oKj36"
      }
    },
    {
      "cell_type": "markdown",
      "source": [
        "![Prompt v1](https://storage.googleapis.com/arize-phoenix-assets/assets/gifs/s-few-shot-6.png)"
      ],
      "metadata": {
        "id": "MxisJJRrTz5Y"
      }
    },
    {
      "cell_type": "markdown",
      "source": [
        "Next we will define a task and evaluator for the experiment.\n",
        "\n",
        "Because our dataset has ground truth labels, we can use a simple function to check if the output of the task matches the expected output."
      ],
      "metadata": {
        "id": "LNggJ6ilLJyW"
      }
    },
    {
      "cell_type": "code",
      "source": [
        "def zero_shot_prompt(input):\n",
        "    client = OpenAI()\n",
        "    resp = client.chat.completions.create(**prompt.format(variables={\"Review\": input[\"Review\"]}))\n",
        "    return resp.choices[0].message.content.strip()\n",
        "\n",
        "\n",
        "def evaluate_response(output, expected):\n",
        "    return output.lower() == expected[\"Sentiment\"].lower()"
      ],
      "metadata": {
        "id": "YLIfWPF2pA_t"
      },
      "execution_count": null,
      "outputs": []
    },
    {
      "cell_type": "markdown",
      "source": [
        "If you’d like to instrument your code, you can run the cell below. While this step isn’t required for running prompts and evaluations, it enables trace visualization for deeper insights into the model’s behavior."
      ],
      "metadata": {
        "id": "QDmF1o_jLpDW"
      }
    },
    {
      "cell_type": "code",
      "source": [
        "from openinference.instrumentation.openai import OpenAIInstrumentor\n",
        "\n",
        "from phoenix.otel import register\n",
        "\n",
        "tracer_provider = register(project_name=\"few-shot-examples\")\n",
        "OpenAIInstrumentor().instrument(tracer_provider=tracer_provider)"
      ],
      "metadata": {
        "id": "tH-vzDVCqwt-"
      },
      "execution_count": null,
      "outputs": []
    },
    {
      "cell_type": "markdown",
      "source": [
        "Finally, we run our experiement. We can view the results of the experiement in Phoenix."
      ],
      "metadata": {
        "id": "ps3j1ttAMZgc"
      }
    },
    {
      "cell_type": "code",
      "source": [
        "import nest_asyncio\n",
        "\n",
        "from phoenix.experiments import run_experiment\n",
        "\n",
        "nest_asyncio.apply()\n",
        "\n",
        "initial_experiment = run_experiment(\n",
        "    dataset,\n",
        "    task=zero_shot_prompt,\n",
        "    evaluators=[evaluate_response],\n",
        "    experiment_description=\"Zero-Shot Prompt\",\n",
        "    experiment_name=\"zero-shot-prompt\",\n",
        "    experiment_metadata={\"prompt\": \"prompt_id=\" + prompt.id},\n",
        ")"
      ],
      "metadata": {
        "id": "FIy-7TBHxXka"
      },
      "execution_count": null,
      "outputs": []
    },
    {
      "cell_type": "markdown",
      "source": [
        "In the following sections, we refine the prompt to enhance the model's performance and improve the evaluation results on our dataset."
      ],
      "metadata": {
        "id": "M_Y7OQWtRaeb"
      }
    },
    {
      "cell_type": "markdown",
      "source": [
        "![First Run](https://storage.googleapis.com/arize-phoenix-assets/assets/gifs/s-few-shot-5.png)"
      ],
      "metadata": {
        "id": "o55dsIHsTsbS"
      }
    },
    {
      "cell_type": "markdown",
      "source": [
        "# One-Shot Prompting"
      ],
      "metadata": {
        "id": "LBbmzJ9TfT_C"
      }
    },
    {
      "cell_type": "markdown",
      "source": [
        "One-shot prompting provides the model with a single example to guide its response. By including a labeled example in the prompt, we give the model a clearer understanding of the task, helping it generate more accurate predictions compared to zero-shot prompting.\n",
        "\n",
        "In this section, we will apply one shot prompting to our sentiment analysis dataset by providing one labeled review as a reference. We’ll then evaluate how this small amount of guidance impacts the model’s ability to classify sentiments correctly."
      ],
      "metadata": {
        "id": "yFSsZl-4rlm3"
      }
    },
    {
      "cell_type": "code",
      "source": [
        "ds = load_dataset(\"syeddula/fridgeReviews\")[\"test\"]\n",
        "one_shot_example = ds.to_pandas().sample(1)"
      ],
      "metadata": {
        "id": "hnMepgerq_2_"
      },
      "execution_count": null,
      "outputs": []
    },
    {
      "cell_type": "code",
      "source": [
        "one_shot_template = \"\"\"\n",
        "\"You are an evaluator who assesses the sentiment of a review. Output if the review positive, negative, or neutral. Only respond with one of these classifications.\"\n",
        "\n",
        "Here is one example of a review and the sentiment:\n",
        "\n",
        "{examples}\n",
        "\"\"\"\n",
        "\n",
        "params = CompletionCreateParamsBase(\n",
        "    model=\"gpt-3.5-turbo\",\n",
        "    temperature=0,\n",
        "    messages=[\n",
        "        {\"role\": \"system\", \"content\": one_shot_template.format(examples=one_shot_example)},\n",
        "        {\"role\": \"user\", \"content\": \"{{Review}}\"}\n",
        "    ],\n",
        ")\n",
        "\n",
        "one_shot_prompt = PhoenixClient().prompts.create(\n",
        "    name=prompt_identifier,\n",
        "    prompt_description=\"One-shot prompt for classifying reviews based on sentiment.\",\n",
        "    version=PromptVersion.from_openai(params),\n",
        ")"
      ],
      "metadata": {
        "id": "pd6_a63-rvXg"
      },
      "execution_count": null,
      "outputs": []
    },
    {
      "cell_type": "markdown",
      "source": [
        "Under the prompts tab in Phoenix, we can see that our prompt has an updated version. The prompt includes one random example from the test dataset to help the model make its classification."
      ],
      "metadata": {
        "id": "qhAZgH5QNhKk"
      }
    },
    {
      "cell_type": "markdown",
      "source": [
        "![Second Ver](https://storage.googleapis.com/arize-phoenix-assets/assets/gifs/s-few-shot-3.png)"
      ],
      "metadata": {
        "id": "Vg4WJM2PTR8z"
      }
    },
    {
      "cell_type": "markdown",
      "source": [
        "Similar to the previous step, we will define the task and run the evaluator. This time, we will be using our updated prompt for One Shot Prompting and see how the evaluation changes."
      ],
      "metadata": {
        "id": "vL_y2yvxOYnt"
      }
    },
    {
      "cell_type": "code",
      "source": [
        "def one_shot_prompt_template(input):\n",
        "    client = OpenAI()\n",
        "    resp = client.chat.completions.create(**one_shot_prompt.format(variables={\"Review\": input[\"Review\"]}))\n",
        "    return resp.choices[0].message.content.strip()"
      ],
      "metadata": {
        "id": "zPs3eqKwsQBm"
      },
      "execution_count": null,
      "outputs": []
    },
    {
      "cell_type": "code",
      "source": [
        "one_shot_experiment = run_experiment(\n",
        "    dataset,\n",
        "    task=one_shot_prompt_template,\n",
        "    evaluators=[evaluate_response],\n",
        "    experiment_description=\"One-Shot Prompting\",\n",
        "    experiment_name=\"one-shot-prompt\",\n",
        "    experiment_metadata={\"prompt\": \"prompt_id=\" + one_shot_prompt.id},\n",
        ")"
      ],
      "metadata": {
        "id": "RGaYSPyLsqit"
      },
      "execution_count": null,
      "outputs": []
    },
    {
      "cell_type": "markdown",
      "source": [
        "In this run, we observe a slight improvement in the evaluation results. Let’s see if we can further enhance performance in the next section.\n",
        "\n",
        "**Note**: You may sometimes see a decline in performance, which is not necessarily \"wrong.\" Results can vary due to factors such as the choice of LLM, the randomness of selected test examples, and other inherent model behaviors."
      ],
      "metadata": {
        "id": "sv-ta086R36_"
      }
    },
    {
      "cell_type": "markdown",
      "source": [
        "![One Shot Result](https://storage.googleapis.com/arize-phoenix-assets/assets/gifs/s-few-shot-2.png)"
      ],
      "metadata": {
        "id": "XwsYstg_TKW1"
      }
    },
    {
      "cell_type": "markdown",
      "source": [
        "# Few-Shot Prompting"
      ],
      "metadata": {
        "id": "EEw30Lc4e5as"
      }
    },
    {
      "cell_type": "markdown",
      "source": [
        "Finally, we will explore few-shot Prompting which enhances a model’s performance by providing multiple labeled examples within the prompt. By exposing the model to several instances of the task, it gains a better understanding of the expected output, leading to more accurate and consistent responses.\n",
        "\n",
        "In this section, we will apply few-shot prompting to our sentiment analysis dataset by including multiple labeled reviews as references. This approach helps the model recognize patterns and improves its ability to classify sentiments correctly. We’ll then evaluate its performance to see how additional examples impact accuracy compared to zero-shot and one-shot prompting."
      ],
      "metadata": {
        "id": "mwdH08WGvGHA"
      }
    },
    {
      "cell_type": "code",
      "source": [
        "ds = load_dataset(\"syeddula/fridgeReviews\")[\"test\"]\n",
        "few_shot_examples = ds.to_pandas().sample(10)"
      ],
      "metadata": {
        "id": "_cefGgYKtBd4"
      },
      "execution_count": null,
      "outputs": []
    },
    {
      "cell_type": "code",
      "source": [
        "few_shot_template = \"\"\"\n",
        "\"You are an evaluator who assesses the sentiment of a review. Output if the review positive, negative, or neutral. Only respond with one of these classifications.\"\n",
        "\n",
        "Here are examples of a review and the sentiment:\n",
        "\n",
        "{examples}\n",
        "\"\"\"\n",
        "params = CompletionCreateParamsBase(\n",
        "    model=\"gpt-3.5-turbo\",\n",
        "    temperature=0,\n",
        "    messages=[\n",
        "        {\"role\": \"system\", \"content\": few_shot_template.format(examples=few_shot_examples)},\n",
        "        {\"role\": \"user\", \"content\": \"{{Review}}\"}\n",
        "    ],\n",
        ")\n",
        "\n",
        "few_shot_prompt = PhoenixClient().prompts.create(\n",
        "    name=prompt_identifier,\n",
        "    prompt_description=\"Few-shot prompt for classifying reviews based on sentiment.\",\n",
        "    version=PromptVersion.from_openai(params),\n",
        ")"
      ],
      "metadata": {
        "id": "rU3-hUmQvN5N"
      },
      "execution_count": null,
      "outputs": []
    },
    {
      "cell_type": "markdown",
      "source": [
        "Our updated prompt also lives in Phoenix. We can clearly see how the linear version history of our prompt was built."
      ],
      "metadata": {
        "id": "0C5LlkG3QMmG"
      }
    },
    {
      "cell_type": "markdown",
      "source": [
        "![Few Shot Ver](https://storage.googleapis.com/arize-phoenix-assets/assets/gifs/s-few-shot-4.png)"
      ],
      "metadata": {
        "id": "LGdohBo-Tcof"
      }
    },
    {
      "cell_type": "markdown",
      "source": [
        "Just like previous steps, we run our task and evaluation."
      ],
      "metadata": {
        "id": "xYPlNA9MQvEz"
      }
    },
    {
      "cell_type": "code",
      "source": [
        "def few_shot_prompt_template(input):\n",
        "    client = OpenAI()\n",
        "    resp = client.chat.completions.create(**few_shot_prompt.format(variables={\"Review\": input[\"Review\"]}))\n",
        "    return resp.choices[0].message.content.strip()"
      ],
      "metadata": {
        "id": "M50NwkRjvslt"
      },
      "execution_count": null,
      "outputs": []
    },
    {
      "cell_type": "code",
      "source": [
        "few_shot_experiment = run_experiment(\n",
        "    dataset,\n",
        "    task=few_shot_prompt_template,\n",
        "    evaluators=[evaluate_response],\n",
        "    experiment_description=\"Few Shot Prompting\",\n",
        "    experiment_name=\"few-shot-prompt\",\n",
        "    experiment_metadata={\"prompt\": \"prompt_id=\" + few_shot_prompt.id},\n",
        ")"
      ],
      "metadata": {
        "id": "6UJCQ1YywJFY"
      },
      "execution_count": null,
      "outputs": []
    },
    {
      "cell_type": "markdown",
      "source": [
        "# Final Results"
      ],
      "metadata": {
        "id": "Jrr83wuLe7uL"
      }
    },
    {
      "cell_type": "markdown",
      "source": [
        "In this final run, we observe the most significant improvement in evaluation results. By incorporating multiple examples into our prompt, we provide clearer guidance to the model, leading to better sentiment classification.\n",
        "\n",
        "Note: Performance may still vary, and in some cases, results might decline. Like before, this is not necessarily \"wrong,\" as factors like the choice of LLM, the randomness of selected test examples, and inherent model behaviors can all influence outcomes."
      ],
      "metadata": {
        "id": "xXRluJkcS2uj"
      }
    },
    {
      "cell_type": "markdown",
      "source": [
        "![Final Result](https://storage.googleapis.com/arize-phoenix-assets/assets/gifs/s-few-shot-1.png)"
      ],
      "metadata": {
        "id": "PsQfNiRNS5sC"
      }
    },
    {
      "cell_type": "markdown",
      "source": [
        "From here, you can check out more [examples on Phoenix](https://docs.arize.com/phoenix/notebooks), and if you haven't already, [please give us a star on GitHub!](https://github.com/Arize-ai/phoenix) ⭐️\n"
      ],
      "metadata": {
        "id": "3xolKarZTNIq"
      }
    }
  ]
}